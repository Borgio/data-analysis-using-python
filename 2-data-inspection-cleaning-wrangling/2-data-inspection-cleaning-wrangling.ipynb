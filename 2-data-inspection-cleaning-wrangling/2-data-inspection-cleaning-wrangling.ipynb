{
 "cells": [
  {
   "cell_type": "markdown",
   "metadata": {},
   "source": [
    "# Data Analysis Using Python: A Beginner’s Guide Featuring NYC Open Data\n",
    "\n",
    "\n",
    "Part 2: Data Inspection, Cleaning and Wrangling in Python\n",
    "\n",
    "*Mark Bauer*"
   ]
  },
  {
   "cell_type": "markdown",
   "metadata": {},
   "source": [
    "Table of Contents\n",
    "=================\n",
    "\n",
    "   * [Getting Started](#-Getting-Started:-Accessing-the-Building-Footprints-Dataset)\n",
    "       * [Reading in data as csv in static form](##-Reading-in-data-as-csv-in-static-form)\n",
    "       \n",
    "       \n",
    "   * [1. Importing Libraries](##-1.-Importing-Libraries)\n",
    "\n",
    "       \n",
    "   * [2. Reading in data as a pandas dataframe](#-2.-Reading-in-data-as-a-pandas-dataframe)\n",
    "       \n",
    "   \n",
    "   * [3. Data Inspection](#-3.-Data-Inspection)\n",
    "       * [3.1 Previewing Data](##-3.1-Previewing-Data)\n",
    "       * [3.2 Calcualting Summary Statistics](##-3.2-Calcualting-Summary-Statistics)\n",
    "       * [3.3 Identifying Null/NA Values](##-3.3-Identifying-Null/NA-Values)\n",
    "       \n",
    "       \n",
    "   * [4. Data Cleaning & Wrangling](#-4.-Data-Cleaning/Wrangling)\n",
    "       * [4.1 Previewing Column Values](##-4.1-Previewing-Column-Values)\n",
    "       * [4.2 Identifying Outliers in Column ](##-4.2-Identifying-Outliers-in-Column)\n",
    "       * [4.3 Replacing Outliers with Null/NA Values ](##-4.3-Replacing-Outliers-with-Null/NA-Values)\n",
    "       * [4.4 Dropping Null/NA Values](##-4.4-Dropping-Null/NA-Values)   \n",
    "       * [4.5 Filling In Null/NA Values With Median ](##-4.5-Filling-In-Null/NA-Values-With-Median)\n",
    "       \n",
    "       \n",
    "   * [5. Detecting Outliers](#-5.-Detecting-Outliers)\n",
    "       * [5.1. Making a Box Plot](#-5.1-Making-a-Box-Plot)\n",
    "           * [5.1.1 Calculating Interquartile Range (IQR)](##-5.1.1-Calculating-Interquartile-Range-(IQR))\n",
    "           * [5.1.2 Box Plot of Construction Year Values](##-5.1.2-Box-Plot-of-Construction-Year-Values)\n",
    "           * [5.1.3 Making Histograms of Values Above and Below Box Plot Whiskers](##-5.1.3-Making-Histograms-of-Values-Above-and-Below-Box-Plot-Whiskers)\n",
    "       * [5.2 Z-Scores](#-5.2-Z-Scores)\n",
    "           * [5.2.1 Calculating Z-Scores](##-5.2.1-Calculating-Z-Scores)\n",
    "           * [5.2.2 Identifying Possible Outliers from Z-Score](##-5.2.2-Identifying-Possible-Outliers-from-Z-Score)\n",
    "           * [5.2.3 Making Histograms of Construction Year Raw and Normalized (Z-Score) Values](##-5.2.3-Making-Histograms-of-Construction-Year-Raw-and-Normalized-%29Z-Score%29-Values)    \n",
    "       \n",
    "       \n",
    "   * [6. Conclusion](#-4.-Conclusion)"
   ]
  },
  {
   "cell_type": "markdown",
   "metadata": {},
   "source": [
    "**Goal:** In this notebook, we will review various ways to to inspect, clean, wrangle, and detect any outliers in your data.\n",
    "\n",
    "**Main Library:** [pandas](https://pandas.pydata.org/) is a fast, powerful, flexible and easy to use open source data analysis and manipulation tool, built on top of the Python programming language."
   ]
  },
  {
   "cell_type": "markdown",
   "metadata": {},
   "source": [
    "# Getting Started: Accessing the Building Footprints Dataset"
   ]
  },
  {
   "cell_type": "markdown",
   "metadata": {},
   "source": [
    "## Reading in data as csv in static form\n",
    "\n",
    "Copy this link address shown below:"
   ]
  },
  {
   "cell_type": "markdown",
   "metadata": {},
   "source": [
    "![building_footprints_csv](images/building-footprints-csv.png)"
   ]
  },
  {
   "cell_type": "markdown",
   "metadata": {},
   "source": [
    "## Dataset Web Page Link: \n",
    "https://data.cityofnewyork.us/Housing-Development/Building-Footprints/nqwf-w8eh\n",
    "\n",
    "## Documentation/Metadata: \n",
    "https://github.com/CityOfNewYork/nyc-geo-metadata/blob/master/Metadata/Metadata_BuildingFootprints.md"
   ]
  },
  {
   "cell_type": "markdown",
   "metadata": {},
   "source": [
    "# 1. Importing Libraries"
   ]
  },
  {
   "cell_type": "code",
   "execution_count": 589,
   "metadata": {},
   "outputs": [],
   "source": [
    "# importing libraries\n",
    "import pandas as pd # the pd is by convention\n",
    "import numpy as np # as is the np\n",
    "import matplotlib.pyplot as plt\n",
    "import matplotlib\n",
    "from matplotlib.ticker import FuncFormatter\n",
    "\n",
    "# to plot matplotlib figures inline on the notebook\n",
    "%matplotlib inline"
   ]
  },
  {
   "cell_type": "code",
   "execution_count": 590,
   "metadata": {},
   "outputs": [
    {
     "name": "stdout",
     "output_type": "stream",
     "text": [
      "The watermark extension is already loaded. To reload it, use:\n",
      "  %reload_ext watermark\n",
      "CPython 3.7.1\n",
      "IPython 7.18.1\n",
      "\n",
      "numpy 1.19.1\n",
      "pandas 1.0.0\n",
      "matplotlib.pyplot 3.3.1\n"
     ]
    }
   ],
   "source": [
    "#Printing verions of Python modules and packages with **watermark** - the IPython magic extension.\n",
    "\n",
    "%load_ext watermark\n",
    "\n",
    "%watermark -v -p numpy,pandas,matplotlib.pyplot"
   ]
  },
  {
   "cell_type": "markdown",
   "metadata": {},
   "source": [
    "Documention for installing watermark: https://github.com/rasbt/watermark"
   ]
  },
  {
   "cell_type": "markdown",
   "metadata": {},
   "source": [
    "# 2. Reading in data as a pandas dataframe"
   ]
  },
  {
   "cell_type": "markdown",
   "metadata": {},
   "source": [
    "If you receive `HTTPError: HTTP Error 404: Not Found`, you need to replace the csv link. DoITT changes the link path regularly."
   ]
  },
  {
   "cell_type": "code",
   "execution_count": 591,
   "metadata": {},
   "outputs": [],
   "source": [
    "# setting the link of our data (a static csv file) as the name 'url'\n",
    "url = 'https://data.cityofnewyork.us/api/views/cn3y-d5py/rows.csv?accessType=DOWNLOAD'\n",
    "\n",
    "# reading in our data as a pandas dataframe and setting the name to'building_footprints'\n",
    "building_footprints = pd.read_csv(url)"
   ]
  },
  {
   "cell_type": "markdown",
   "metadata": {},
   "source": [
    "# 3. Data Inspection"
   ]
  },
  {
   "cell_type": "markdown",
   "metadata": {},
   "source": [
    "## 3.1 Previewing Data"
   ]
  },
  {
   "cell_type": "code",
   "execution_count": 592,
   "metadata": {},
   "outputs": [
    {
     "data": {
      "text/html": [
       "<div>\n",
       "<style scoped>\n",
       "    .dataframe tbody tr th:only-of-type {\n",
       "        vertical-align: middle;\n",
       "    }\n",
       "\n",
       "    .dataframe tbody tr th {\n",
       "        vertical-align: top;\n",
       "    }\n",
       "\n",
       "    .dataframe thead th {\n",
       "        text-align: right;\n",
       "    }\n",
       "</style>\n",
       "<table border=\"1\" class=\"dataframe\">\n",
       "  <thead>\n",
       "    <tr style=\"text-align: right;\">\n",
       "      <th></th>\n",
       "      <th>BIN</th>\n",
       "      <th>NAME</th>\n",
       "      <th>CNSTRCT_YR</th>\n",
       "      <th>the_geom</th>\n",
       "      <th>LSTMODDATE</th>\n",
       "      <th>LSTSTATYPE</th>\n",
       "      <th>DOITT_ID</th>\n",
       "      <th>HEIGHTROOF</th>\n",
       "      <th>FEAT_CODE</th>\n",
       "      <th>GROUNDELEV</th>\n",
       "      <th>SHAPE_AREA</th>\n",
       "      <th>SHAPE_LEN</th>\n",
       "      <th>BASE_BBL</th>\n",
       "      <th>MPLUTO_BBL</th>\n",
       "      <th>GEOMSOURCE</th>\n",
       "    </tr>\n",
       "  </thead>\n",
       "  <tbody>\n",
       "    <tr>\n",
       "      <th>0</th>\n",
       "      <td>3394646</td>\n",
       "      <td>NaN</td>\n",
       "      <td>2009.000</td>\n",
       "      <td>MULTIPOLYGON (((-73.87129515296562 40.65717370...</td>\n",
       "      <td>08/22/2017 12:00:00 AM +0000</td>\n",
       "      <td>Constructed</td>\n",
       "      <td>1212853</td>\n",
       "      <td>21.609</td>\n",
       "      <td>2100.000</td>\n",
       "      <td>18.000</td>\n",
       "      <td>854.662</td>\n",
       "      <td>125.080</td>\n",
       "      <td>3044520815.000</td>\n",
       "      <td>3044520815.000</td>\n",
       "      <td>Photogramm</td>\n",
       "    </tr>\n",
       "    <tr>\n",
       "      <th>1</th>\n",
       "      <td>4548330</td>\n",
       "      <td>NaN</td>\n",
       "      <td>1930.000</td>\n",
       "      <td>MULTIPOLYGON (((-73.87670970144625 40.71425234...</td>\n",
       "      <td>08/17/2017 12:00:00 AM +0000</td>\n",
       "      <td>Constructed</td>\n",
       "      <td>1226227</td>\n",
       "      <td>10.360</td>\n",
       "      <td>5110.000</td>\n",
       "      <td>122.000</td>\n",
       "      <td>217.594</td>\n",
       "      <td>60.226</td>\n",
       "      <td>4030640041.000</td>\n",
       "      <td>4030640041.000</td>\n",
       "      <td>Photogramm</td>\n",
       "    </tr>\n",
       "    <tr>\n",
       "      <th>2</th>\n",
       "      <td>4460479</td>\n",
       "      <td>NaN</td>\n",
       "      <td>1960.000</td>\n",
       "      <td>MULTIPOLYGON (((-73.85195485799383 40.66235471...</td>\n",
       "      <td>08/22/2017 12:00:00 AM +0000</td>\n",
       "      <td>Constructed</td>\n",
       "      <td>581946</td>\n",
       "      <td>29.812</td>\n",
       "      <td>2100.000</td>\n",
       "      <td>10.000</td>\n",
       "      <td>946.427</td>\n",
       "      <td>123.142</td>\n",
       "      <td>4139430001.000</td>\n",
       "      <td>4139430001.000</td>\n",
       "      <td>Photogramm</td>\n",
       "    </tr>\n",
       "    <tr>\n",
       "      <th>3</th>\n",
       "      <td>3355684</td>\n",
       "      <td>NaN</td>\n",
       "      <td>1920.000</td>\n",
       "      <td>MULTIPOLYGON (((-73.94029215265738 40.64108287...</td>\n",
       "      <td>08/17/2017 12:00:00 AM +0000</td>\n",
       "      <td>Constructed</td>\n",
       "      <td>858061</td>\n",
       "      <td>11.200</td>\n",
       "      <td>5110.000</td>\n",
       "      <td>32.000</td>\n",
       "      <td>248.678</td>\n",
       "      <td>63.941</td>\n",
       "      <td>3049720006.000</td>\n",
       "      <td>3049720006.000</td>\n",
       "      <td>Photogramm</td>\n",
       "    </tr>\n",
       "    <tr>\n",
       "      <th>4</th>\n",
       "      <td>3131737</td>\n",
       "      <td>NaN</td>\n",
       "      <td>1915.000</td>\n",
       "      <td>MULTIPOLYGON (((-73.98998983552244 40.62383804...</td>\n",
       "      <td>08/22/2017 12:00:00 AM +0000</td>\n",
       "      <td>Constructed</td>\n",
       "      <td>568078</td>\n",
       "      <td>24.980</td>\n",
       "      <td>2100.000</td>\n",
       "      <td>44.000</td>\n",
       "      <td>1163.228</td>\n",
       "      <td>165.609</td>\n",
       "      <td>3055100055.000</td>\n",
       "      <td>3055100055.000</td>\n",
       "      <td>Photogramm</td>\n",
       "    </tr>\n",
       "  </tbody>\n",
       "</table>\n",
       "</div>"
      ],
      "text/plain": [
       "       BIN NAME  CNSTRCT_YR  \\\n",
       "0  3394646  NaN    2009.000   \n",
       "1  4548330  NaN    1930.000   \n",
       "2  4460479  NaN    1960.000   \n",
       "3  3355684  NaN    1920.000   \n",
       "4  3131737  NaN    1915.000   \n",
       "\n",
       "                                            the_geom  \\\n",
       "0  MULTIPOLYGON (((-73.87129515296562 40.65717370...   \n",
       "1  MULTIPOLYGON (((-73.87670970144625 40.71425234...   \n",
       "2  MULTIPOLYGON (((-73.85195485799383 40.66235471...   \n",
       "3  MULTIPOLYGON (((-73.94029215265738 40.64108287...   \n",
       "4  MULTIPOLYGON (((-73.98998983552244 40.62383804...   \n",
       "\n",
       "                     LSTMODDATE   LSTSTATYPE  DOITT_ID  HEIGHTROOF  FEAT_CODE  \\\n",
       "0  08/22/2017 12:00:00 AM +0000  Constructed   1212853      21.609   2100.000   \n",
       "1  08/17/2017 12:00:00 AM +0000  Constructed   1226227      10.360   5110.000   \n",
       "2  08/22/2017 12:00:00 AM +0000  Constructed    581946      29.812   2100.000   \n",
       "3  08/17/2017 12:00:00 AM +0000  Constructed    858061      11.200   5110.000   \n",
       "4  08/22/2017 12:00:00 AM +0000  Constructed    568078      24.980   2100.000   \n",
       "\n",
       "   GROUNDELEV  SHAPE_AREA  SHAPE_LEN       BASE_BBL     MPLUTO_BBL  GEOMSOURCE  \n",
       "0      18.000     854.662    125.080 3044520815.000 3044520815.000  Photogramm  \n",
       "1     122.000     217.594     60.226 4030640041.000 4030640041.000  Photogramm  \n",
       "2      10.000     946.427    123.142 4139430001.000 4139430001.000  Photogramm  \n",
       "3      32.000     248.678     63.941 3049720006.000 3049720006.000  Photogramm  \n",
       "4      44.000    1163.228    165.609 3055100055.000 3055100055.000  Photogramm  "
      ]
     },
     "execution_count": 592,
     "metadata": {},
     "output_type": "execute_result"
    }
   ],
   "source": [
    "# previewing the first five rows of our dataframe\n",
    "building_footprints.head()"
   ]
  },
  {
   "cell_type": "code",
   "execution_count": 593,
   "metadata": {},
   "outputs": [
    {
     "data": {
      "text/html": [
       "<div>\n",
       "<style scoped>\n",
       "    .dataframe tbody tr th:only-of-type {\n",
       "        vertical-align: middle;\n",
       "    }\n",
       "\n",
       "    .dataframe tbody tr th {\n",
       "        vertical-align: top;\n",
       "    }\n",
       "\n",
       "    .dataframe thead th {\n",
       "        text-align: right;\n",
       "    }\n",
       "</style>\n",
       "<table border=\"1\" class=\"dataframe\">\n",
       "  <thead>\n",
       "    <tr style=\"text-align: right;\">\n",
       "      <th></th>\n",
       "      <th>BIN</th>\n",
       "      <th>NAME</th>\n",
       "      <th>CNSTRCT_YR</th>\n",
       "      <th>the_geom</th>\n",
       "      <th>LSTMODDATE</th>\n",
       "      <th>LSTSTATYPE</th>\n",
       "      <th>DOITT_ID</th>\n",
       "      <th>HEIGHTROOF</th>\n",
       "      <th>FEAT_CODE</th>\n",
       "      <th>GROUNDELEV</th>\n",
       "      <th>SHAPE_AREA</th>\n",
       "      <th>SHAPE_LEN</th>\n",
       "      <th>BASE_BBL</th>\n",
       "      <th>MPLUTO_BBL</th>\n",
       "      <th>GEOMSOURCE</th>\n",
       "    </tr>\n",
       "  </thead>\n",
       "  <tbody>\n",
       "    <tr>\n",
       "      <th>1084899</th>\n",
       "      <td>4047647</td>\n",
       "      <td>NaN</td>\n",
       "      <td>2020.000</td>\n",
       "      <td>MULTIPOLYGON (((-73.85889247576631 40.74054424...</td>\n",
       "      <td>10/16/2020 12:00:00 AM +0000</td>\n",
       "      <td>Constructed</td>\n",
       "      <td>1293231</td>\n",
       "      <td>50.000</td>\n",
       "      <td>2100.000</td>\n",
       "      <td>17.000</td>\n",
       "      <td>1007.192</td>\n",
       "      <td>134.880</td>\n",
       "      <td>4019390026.000</td>\n",
       "      <td>nan</td>\n",
       "      <td>Other (Man</td>\n",
       "    </tr>\n",
       "    <tr>\n",
       "      <th>1084900</th>\n",
       "      <td>3428798</td>\n",
       "      <td>NaN</td>\n",
       "      <td>2020.000</td>\n",
       "      <td>MULTIPOLYGON (((-73.87650008254877 40.67924266...</td>\n",
       "      <td>10/13/2020 12:00:00 AM +0000</td>\n",
       "      <td>Constructed</td>\n",
       "      <td>1293214</td>\n",
       "      <td>29.900</td>\n",
       "      <td>2100.000</td>\n",
       "      <td>37.000</td>\n",
       "      <td>2327.394</td>\n",
       "      <td>195.425</td>\n",
       "      <td>3041540061.000</td>\n",
       "      <td>3041540061.000</td>\n",
       "      <td>Other (Man</td>\n",
       "    </tr>\n",
       "    <tr>\n",
       "      <th>1084901</th>\n",
       "      <td>1053478</td>\n",
       "      <td>NaN</td>\n",
       "      <td>2020.000</td>\n",
       "      <td>MULTIPOLYGON (((-73.94459250834333 40.80724041...</td>\n",
       "      <td>10/13/2020 12:00:00 AM +0000</td>\n",
       "      <td>Constructed</td>\n",
       "      <td>1293216</td>\n",
       "      <td>181.400</td>\n",
       "      <td>5100.000</td>\n",
       "      <td>24.000</td>\n",
       "      <td>12475.370</td>\n",
       "      <td>449.515</td>\n",
       "      <td>1017220059.000</td>\n",
       "      <td>1017220059.000</td>\n",
       "      <td>Other (Man</td>\n",
       "    </tr>\n",
       "    <tr>\n",
       "      <th>1084902</th>\n",
       "      <td>3427174</td>\n",
       "      <td>NaN</td>\n",
       "      <td>2020.000</td>\n",
       "      <td>MULTIPOLYGON (((-73.99000028548764 40.57901597...</td>\n",
       "      <td>10/13/2020 12:00:00 AM +0000</td>\n",
       "      <td>Initialization</td>\n",
       "      <td>1293213</td>\n",
       "      <td>110.000</td>\n",
       "      <td>5100.000</td>\n",
       "      <td>7.000</td>\n",
       "      <td>15392.482</td>\n",
       "      <td>511.090</td>\n",
       "      <td>3069900001.000</td>\n",
       "      <td>nan</td>\n",
       "      <td>Other (Man</td>\n",
       "    </tr>\n",
       "    <tr>\n",
       "      <th>1084903</th>\n",
       "      <td>4000000</td>\n",
       "      <td>NaN</td>\n",
       "      <td>2020.000</td>\n",
       "      <td>MULTIPOLYGON (((-73.85889325464234 40.74054543...</td>\n",
       "      <td>10/16/2020 12:00:00 AM +0000</td>\n",
       "      <td>Constructed</td>\n",
       "      <td>1293230</td>\n",
       "      <td>50.000</td>\n",
       "      <td>2100.000</td>\n",
       "      <td>17.000</td>\n",
       "      <td>1016.313</td>\n",
       "      <td>135.696</td>\n",
       "      <td>4019390126.000</td>\n",
       "      <td>nan</td>\n",
       "      <td>Other (Man</td>\n",
       "    </tr>\n",
       "  </tbody>\n",
       "</table>\n",
       "</div>"
      ],
      "text/plain": [
       "             BIN NAME  CNSTRCT_YR  \\\n",
       "1084899  4047647  NaN    2020.000   \n",
       "1084900  3428798  NaN    2020.000   \n",
       "1084901  1053478  NaN    2020.000   \n",
       "1084902  3427174  NaN    2020.000   \n",
       "1084903  4000000  NaN    2020.000   \n",
       "\n",
       "                                                  the_geom  \\\n",
       "1084899  MULTIPOLYGON (((-73.85889247576631 40.74054424...   \n",
       "1084900  MULTIPOLYGON (((-73.87650008254877 40.67924266...   \n",
       "1084901  MULTIPOLYGON (((-73.94459250834333 40.80724041...   \n",
       "1084902  MULTIPOLYGON (((-73.99000028548764 40.57901597...   \n",
       "1084903  MULTIPOLYGON (((-73.85889325464234 40.74054543...   \n",
       "\n",
       "                           LSTMODDATE      LSTSTATYPE  DOITT_ID  HEIGHTROOF  \\\n",
       "1084899  10/16/2020 12:00:00 AM +0000     Constructed   1293231      50.000   \n",
       "1084900  10/13/2020 12:00:00 AM +0000     Constructed   1293214      29.900   \n",
       "1084901  10/13/2020 12:00:00 AM +0000     Constructed   1293216     181.400   \n",
       "1084902  10/13/2020 12:00:00 AM +0000  Initialization   1293213     110.000   \n",
       "1084903  10/16/2020 12:00:00 AM +0000     Constructed   1293230      50.000   \n",
       "\n",
       "         FEAT_CODE  GROUNDELEV  SHAPE_AREA  SHAPE_LEN       BASE_BBL  \\\n",
       "1084899   2100.000      17.000    1007.192    134.880 4019390026.000   \n",
       "1084900   2100.000      37.000    2327.394    195.425 3041540061.000   \n",
       "1084901   5100.000      24.000   12475.370    449.515 1017220059.000   \n",
       "1084902   5100.000       7.000   15392.482    511.090 3069900001.000   \n",
       "1084903   2100.000      17.000    1016.313    135.696 4019390126.000   \n",
       "\n",
       "            MPLUTO_BBL  GEOMSOURCE  \n",
       "1084899            nan  Other (Man  \n",
       "1084900 3041540061.000  Other (Man  \n",
       "1084901 1017220059.000  Other (Man  \n",
       "1084902            nan  Other (Man  \n",
       "1084903            nan  Other (Man  "
      ]
     },
     "execution_count": 593,
     "metadata": {},
     "output_type": "execute_result"
    }
   ],
   "source": [
    "# previewing the last five rows of our dataframe\n",
    "building_footprints.tail()"
   ]
  },
  {
   "cell_type": "code",
   "execution_count": 594,
   "metadata": {},
   "outputs": [
    {
     "data": {
      "text/plain": [
       "(1084904, 15)"
      ]
     },
     "execution_count": 594,
     "metadata": {},
     "output_type": "execute_result"
    }
   ],
   "source": [
    "# printing the shape or dimensions of our dataframe (i.e. rows, columns)\n",
    "building_footprints.shape"
   ]
  },
  {
   "cell_type": "code",
   "execution_count": 595,
   "metadata": {},
   "outputs": [
    {
     "data": {
      "text/plain": [
       "pandas.core.frame.DataFrame"
      ]
     },
     "execution_count": 595,
     "metadata": {},
     "output_type": "execute_result"
    }
   ],
   "source": [
    "# the object's type\n",
    "type(building_footprints)"
   ]
  },
  {
   "cell_type": "code",
   "execution_count": 596,
   "metadata": {},
   "outputs": [
    {
     "data": {
      "text/plain": [
       "Index(['BIN', 'NAME', 'CNSTRCT_YR', 'the_geom', 'LSTMODDATE', 'LSTSTATYPE',\n",
       "       'DOITT_ID', 'HEIGHTROOF', 'FEAT_CODE', 'GROUNDELEV', 'SHAPE_AREA',\n",
       "       'SHAPE_LEN', 'BASE_BBL', 'MPLUTO_BBL', 'GEOMSOURCE'],\n",
       "      dtype='object')"
      ]
     },
     "execution_count": 596,
     "metadata": {},
     "output_type": "execute_result"
    }
   ],
   "source": [
    "# printing the columns of our dataframe\n",
    "building_footprints.columns"
   ]
  },
  {
   "cell_type": "code",
   "execution_count": 597,
   "metadata": {},
   "outputs": [
    {
     "data": {
      "text/plain": [
       "BIN             int64\n",
       "NAME           object\n",
       "CNSTRCT_YR    float64\n",
       "the_geom       object\n",
       "LSTMODDATE     object\n",
       "LSTSTATYPE     object\n",
       "DOITT_ID        int64\n",
       "HEIGHTROOF    float64\n",
       "FEAT_CODE     float64\n",
       "GROUNDELEV    float64\n",
       "SHAPE_AREA    float64\n",
       "SHAPE_LEN     float64\n",
       "BASE_BBL      float64\n",
       "MPLUTO_BBL    float64\n",
       "GEOMSOURCE     object\n",
       "dtype: object"
      ]
     },
     "execution_count": 597,
     "metadata": {},
     "output_type": "execute_result"
    }
   ],
   "source": [
    "# printing the data types of our columns\n",
    "building_footprints.dtypes"
   ]
  },
  {
   "cell_type": "code",
   "execution_count": 598,
   "metadata": {},
   "outputs": [
    {
     "name": "stdout",
     "output_type": "stream",
     "text": [
      "<class 'pandas.core.frame.DataFrame'>\n",
      "RangeIndex: 1084904 entries, 0 to 1084903\n",
      "Data columns (total 15 columns):\n",
      " #   Column      Non-Null Count    Dtype  \n",
      "---  ------      --------------    -----  \n",
      " 0   BIN         1084904 non-null  int64  \n",
      " 1   NAME        1752 non-null     object \n",
      " 2   CNSTRCT_YR  1080023 non-null  float64\n",
      " 3   the_geom    1084904 non-null  object \n",
      " 4   LSTMODDATE  1084904 non-null  object \n",
      " 5   LSTSTATYPE  1084717 non-null  object \n",
      " 6   DOITT_ID    1084904 non-null  int64  \n",
      " 7   HEIGHTROOF  1082240 non-null  float64\n",
      " 8   FEAT_CODE   1084895 non-null  float64\n",
      " 9   GROUNDELEV  1084377 non-null  float64\n",
      " 10  SHAPE_AREA  1084904 non-null  float64\n",
      " 11  SHAPE_LEN   1084904 non-null  float64\n",
      " 12  BASE_BBL    1084902 non-null  float64\n",
      " 13  MPLUTO_BBL  1084341 non-null  float64\n",
      " 14  GEOMSOURCE  1084688 non-null  object \n",
      "dtypes: float64(8), int64(2), object(5)\n",
      "memory usage: 124.2+ MB\n"
     ]
    }
   ],
   "source": [
    "# printing the column names, non-null counts, and data types of our columns\n",
    "building_footprints.info()"
   ]
  },
  {
   "cell_type": "code",
   "execution_count": 599,
   "metadata": {},
   "outputs": [
    {
     "data": {
      "text/plain": [
       "float64    8\n",
       "object     5\n",
       "int64      2\n",
       "dtype: int64"
      ]
     },
     "execution_count": 599,
     "metadata": {},
     "output_type": "execute_result"
    }
   ],
   "source": [
    "# counts of unique values of our datatypes \n",
    "building_footprints.dtypes.value_counts()"
   ]
  },
  {
   "cell_type": "code",
   "execution_count": 600,
   "metadata": {},
   "outputs": [
    {
     "data": {
      "text/plain": [
       "RangeIndex(start=0, stop=1084904, step=1)"
      ]
     },
     "execution_count": 600,
     "metadata": {},
     "output_type": "execute_result"
    }
   ],
   "source": [
    "# printing index type\n",
    "building_footprints.index"
   ]
  },
  {
   "cell_type": "code",
   "execution_count": 601,
   "metadata": {},
   "outputs": [
    {
     "data": {
      "text/plain": [
       "True"
      ]
     },
     "execution_count": 601,
     "metadata": {},
     "output_type": "execute_result"
    }
   ],
   "source": [
    "# printing True/False if column is unique on our unique key (DOITT_ID)\n",
    "building_footprints['DOITT_ID'].is_unique"
   ]
  },
  {
   "cell_type": "code",
   "execution_count": 602,
   "metadata": {},
   "outputs": [
    {
     "data": {
      "text/html": [
       "<div>\n",
       "<style scoped>\n",
       "    .dataframe tbody tr th:only-of-type {\n",
       "        vertical-align: middle;\n",
       "    }\n",
       "\n",
       "    .dataframe tbody tr th {\n",
       "        vertical-align: top;\n",
       "    }\n",
       "\n",
       "    .dataframe thead th {\n",
       "        text-align: right;\n",
       "    }\n",
       "</style>\n",
       "<table border=\"1\" class=\"dataframe\">\n",
       "  <thead>\n",
       "    <tr style=\"text-align: right;\">\n",
       "      <th></th>\n",
       "      <th>0</th>\n",
       "      <th>1</th>\n",
       "      <th>2</th>\n",
       "      <th>3</th>\n",
       "      <th>4</th>\n",
       "      <th>5</th>\n",
       "      <th>6</th>\n",
       "      <th>7</th>\n",
       "      <th>8</th>\n",
       "      <th>9</th>\n",
       "      <th>...</th>\n",
       "      <th>1084894</th>\n",
       "      <th>1084895</th>\n",
       "      <th>1084896</th>\n",
       "      <th>1084897</th>\n",
       "      <th>1084898</th>\n",
       "      <th>1084899</th>\n",
       "      <th>1084900</th>\n",
       "      <th>1084901</th>\n",
       "      <th>1084902</th>\n",
       "      <th>1084903</th>\n",
       "    </tr>\n",
       "  </thead>\n",
       "  <tbody>\n",
       "    <tr>\n",
       "      <th>BIN</th>\n",
       "      <td>3394646</td>\n",
       "      <td>4548330</td>\n",
       "      <td>4460479</td>\n",
       "      <td>3355684</td>\n",
       "      <td>3131737</td>\n",
       "      <td>4299828</td>\n",
       "      <td>4609623</td>\n",
       "      <td>4554786</td>\n",
       "      <td>3388445</td>\n",
       "      <td>3110799</td>\n",
       "      <td>...</td>\n",
       "      <td>3137845</td>\n",
       "      <td>4623378</td>\n",
       "      <td>3379714</td>\n",
       "      <td>3427176</td>\n",
       "      <td>4596249</td>\n",
       "      <td>4047647</td>\n",
       "      <td>3428798</td>\n",
       "      <td>1053478</td>\n",
       "      <td>3427174</td>\n",
       "      <td>4000000</td>\n",
       "    </tr>\n",
       "    <tr>\n",
       "      <th>NAME</th>\n",
       "      <td>NaN</td>\n",
       "      <td>NaN</td>\n",
       "      <td>NaN</td>\n",
       "      <td>NaN</td>\n",
       "      <td>NaN</td>\n",
       "      <td>NaN</td>\n",
       "      <td>NaN</td>\n",
       "      <td>NaN</td>\n",
       "      <td>NaN</td>\n",
       "      <td>NaN</td>\n",
       "      <td>...</td>\n",
       "      <td>NaN</td>\n",
       "      <td>NaN</td>\n",
       "      <td>NaN</td>\n",
       "      <td>NaN</td>\n",
       "      <td>NaN</td>\n",
       "      <td>NaN</td>\n",
       "      <td>NaN</td>\n",
       "      <td>NaN</td>\n",
       "      <td>NaN</td>\n",
       "      <td>NaN</td>\n",
       "    </tr>\n",
       "    <tr>\n",
       "      <th>CNSTRCT_YR</th>\n",
       "      <td>2009.000</td>\n",
       "      <td>1930.000</td>\n",
       "      <td>1960.000</td>\n",
       "      <td>1920.000</td>\n",
       "      <td>1915.000</td>\n",
       "      <td>1950.000</td>\n",
       "      <td>1965.000</td>\n",
       "      <td>1935.000</td>\n",
       "      <td>2004.000</td>\n",
       "      <td>1910.000</td>\n",
       "      <td>...</td>\n",
       "      <td>2019.000</td>\n",
       "      <td>2020.000</td>\n",
       "      <td>NaN</td>\n",
       "      <td>NaN</td>\n",
       "      <td>2020.000</td>\n",
       "      <td>2020.000</td>\n",
       "      <td>2020.000</td>\n",
       "      <td>2020.000</td>\n",
       "      <td>2020.000</td>\n",
       "      <td>2020.000</td>\n",
       "    </tr>\n",
       "    <tr>\n",
       "      <th>the_geom</th>\n",
       "      <td>MULTIPOLYGON (((-73.87129515296562 40.65717370...</td>\n",
       "      <td>MULTIPOLYGON (((-73.87670970144625 40.71425234...</td>\n",
       "      <td>MULTIPOLYGON (((-73.85195485799383 40.66235471...</td>\n",
       "      <td>MULTIPOLYGON (((-73.94029215265738 40.64108287...</td>\n",
       "      <td>MULTIPOLYGON (((-73.98998983552244 40.62383804...</td>\n",
       "      <td>MULTIPOLYGON (((-73.7654951204543 40.611271914...</td>\n",
       "      <td>MULTIPOLYGON (((-73.85236537192253 40.75122838...</td>\n",
       "      <td>MULTIPOLYGON (((-73.71512875395307 40.73330867...</td>\n",
       "      <td>MULTIPOLYGON (((-73.94606707932263 40.66016319...</td>\n",
       "      <td>MULTIPOLYGON (((-73.94669293900293 40.64493688...</td>\n",
       "      <td>...</td>\n",
       "      <td>MULTIPOLYGON (((-74.00263890964455 40.63971028...</td>\n",
       "      <td>MULTIPOLYGON (((-73.709604382206 40.7420999484...</td>\n",
       "      <td>MULTIPOLYGON (((-73.9613116464096 40.700139388...</td>\n",
       "      <td>MULTIPOLYGON (((-73.98499409546126 40.59630472...</td>\n",
       "      <td>MULTIPOLYGON (((-73.74774774899996 40.60649556...</td>\n",
       "      <td>MULTIPOLYGON (((-73.85889247576631 40.74054424...</td>\n",
       "      <td>MULTIPOLYGON (((-73.87650008254877 40.67924266...</td>\n",
       "      <td>MULTIPOLYGON (((-73.94459250834333 40.80724041...</td>\n",
       "      <td>MULTIPOLYGON (((-73.99000028548764 40.57901597...</td>\n",
       "      <td>MULTIPOLYGON (((-73.85889325464234 40.74054543...</td>\n",
       "    </tr>\n",
       "    <tr>\n",
       "      <th>LSTMODDATE</th>\n",
       "      <td>08/22/2017 12:00:00 AM +0000</td>\n",
       "      <td>08/17/2017 12:00:00 AM +0000</td>\n",
       "      <td>08/22/2017 12:00:00 AM +0000</td>\n",
       "      <td>08/17/2017 12:00:00 AM +0000</td>\n",
       "      <td>08/22/2017 12:00:00 AM +0000</td>\n",
       "      <td>08/22/2017 12:00:00 AM +0000</td>\n",
       "      <td>08/17/2017 12:00:00 AM +0000</td>\n",
       "      <td>08/17/2017 12:00:00 AM +0000</td>\n",
       "      <td>08/22/2017 12:00:00 AM +0000</td>\n",
       "      <td>08/22/2017 12:00:00 AM +0000</td>\n",
       "      <td>...</td>\n",
       "      <td>10/16/2020 12:00:00 AM +0000</td>\n",
       "      <td>10/16/2020 12:00:00 AM +0000</td>\n",
       "      <td>10/13/2020 12:00:00 AM +0000</td>\n",
       "      <td>10/16/2020 12:00:00 AM +0000</td>\n",
       "      <td>10/15/2020 12:00:00 AM +0000</td>\n",
       "      <td>10/16/2020 12:00:00 AM +0000</td>\n",
       "      <td>10/13/2020 12:00:00 AM +0000</td>\n",
       "      <td>10/13/2020 12:00:00 AM +0000</td>\n",
       "      <td>10/13/2020 12:00:00 AM +0000</td>\n",
       "      <td>10/16/2020 12:00:00 AM +0000</td>\n",
       "    </tr>\n",
       "    <tr>\n",
       "      <th>LSTSTATYPE</th>\n",
       "      <td>Constructed</td>\n",
       "      <td>Constructed</td>\n",
       "      <td>Constructed</td>\n",
       "      <td>Constructed</td>\n",
       "      <td>Constructed</td>\n",
       "      <td>Constructed</td>\n",
       "      <td>Constructed</td>\n",
       "      <td>Constructed</td>\n",
       "      <td>Constructed</td>\n",
       "      <td>Constructed</td>\n",
       "      <td>...</td>\n",
       "      <td>Constructed</td>\n",
       "      <td>Constructed</td>\n",
       "      <td>Constructed</td>\n",
       "      <td>Constructed</td>\n",
       "      <td>Constructed</td>\n",
       "      <td>Constructed</td>\n",
       "      <td>Constructed</td>\n",
       "      <td>Constructed</td>\n",
       "      <td>Initialization</td>\n",
       "      <td>Constructed</td>\n",
       "    </tr>\n",
       "    <tr>\n",
       "      <th>DOITT_ID</th>\n",
       "      <td>1212853</td>\n",
       "      <td>1226227</td>\n",
       "      <td>581946</td>\n",
       "      <td>858061</td>\n",
       "      <td>568078</td>\n",
       "      <td>41210</td>\n",
       "      <td>1220055</td>\n",
       "      <td>1228515</td>\n",
       "      <td>1014893</td>\n",
       "      <td>757675</td>\n",
       "      <td>...</td>\n",
       "      <td>1293229</td>\n",
       "      <td>1293234</td>\n",
       "      <td>1293212</td>\n",
       "      <td>1293233</td>\n",
       "      <td>1293226</td>\n",
       "      <td>1293231</td>\n",
       "      <td>1293214</td>\n",
       "      <td>1293216</td>\n",
       "      <td>1293213</td>\n",
       "      <td>1293230</td>\n",
       "    </tr>\n",
       "    <tr>\n",
       "      <th>HEIGHTROOF</th>\n",
       "      <td>21.609</td>\n",
       "      <td>10.360</td>\n",
       "      <td>29.812</td>\n",
       "      <td>11.200</td>\n",
       "      <td>24.980</td>\n",
       "      <td>30.161</td>\n",
       "      <td>10.770</td>\n",
       "      <td>12.150</td>\n",
       "      <td>32.770</td>\n",
       "      <td>27.370</td>\n",
       "      <td>...</td>\n",
       "      <td>55.000</td>\n",
       "      <td>12.000</td>\n",
       "      <td>18.000</td>\n",
       "      <td>18.000</td>\n",
       "      <td>35.000</td>\n",
       "      <td>50.000</td>\n",
       "      <td>29.900</td>\n",
       "      <td>181.400</td>\n",
       "      <td>110.000</td>\n",
       "      <td>50.000</td>\n",
       "    </tr>\n",
       "    <tr>\n",
       "      <th>FEAT_CODE</th>\n",
       "      <td>2100.000</td>\n",
       "      <td>5110.000</td>\n",
       "      <td>2100.000</td>\n",
       "      <td>5110.000</td>\n",
       "      <td>2100.000</td>\n",
       "      <td>2100.000</td>\n",
       "      <td>5110.000</td>\n",
       "      <td>5110.000</td>\n",
       "      <td>2100.000</td>\n",
       "      <td>2100.000</td>\n",
       "      <td>...</td>\n",
       "      <td>2100.000</td>\n",
       "      <td>5110.000</td>\n",
       "      <td>1001.000</td>\n",
       "      <td>1001.000</td>\n",
       "      <td>2100.000</td>\n",
       "      <td>2100.000</td>\n",
       "      <td>2100.000</td>\n",
       "      <td>5100.000</td>\n",
       "      <td>5100.000</td>\n",
       "      <td>2100.000</td>\n",
       "    </tr>\n",
       "    <tr>\n",
       "      <th>GROUNDELEV</th>\n",
       "      <td>18.000</td>\n",
       "      <td>122.000</td>\n",
       "      <td>10.000</td>\n",
       "      <td>32.000</td>\n",
       "      <td>44.000</td>\n",
       "      <td>6.000</td>\n",
       "      <td>38.000</td>\n",
       "      <td>96.000</td>\n",
       "      <td>40.000</td>\n",
       "      <td>39.000</td>\n",
       "      <td>...</td>\n",
       "      <td>112.000</td>\n",
       "      <td>116.000</td>\n",
       "      <td>10.000</td>\n",
       "      <td>9.000</td>\n",
       "      <td>30.000</td>\n",
       "      <td>17.000</td>\n",
       "      <td>37.000</td>\n",
       "      <td>24.000</td>\n",
       "      <td>7.000</td>\n",
       "      <td>17.000</td>\n",
       "    </tr>\n",
       "    <tr>\n",
       "      <th>SHAPE_AREA</th>\n",
       "      <td>854.662</td>\n",
       "      <td>217.594</td>\n",
       "      <td>946.427</td>\n",
       "      <td>248.678</td>\n",
       "      <td>1163.228</td>\n",
       "      <td>1420.667</td>\n",
       "      <td>366.518</td>\n",
       "      <td>213.102</td>\n",
       "      <td>1037.407</td>\n",
       "      <td>1150.816</td>\n",
       "      <td>...</td>\n",
       "      <td>1558.823</td>\n",
       "      <td>275.126</td>\n",
       "      <td>1317.603</td>\n",
       "      <td>2600.805</td>\n",
       "      <td>1497.360</td>\n",
       "      <td>1007.192</td>\n",
       "      <td>2327.394</td>\n",
       "      <td>12475.370</td>\n",
       "      <td>15392.482</td>\n",
       "      <td>1016.313</td>\n",
       "    </tr>\n",
       "    <tr>\n",
       "      <th>SHAPE_LEN</th>\n",
       "      <td>125.080</td>\n",
       "      <td>60.226</td>\n",
       "      <td>123.142</td>\n",
       "      <td>63.941</td>\n",
       "      <td>165.609</td>\n",
       "      <td>155.916</td>\n",
       "      <td>77.166</td>\n",
       "      <td>60.121</td>\n",
       "      <td>147.770</td>\n",
       "      <td>151.861</td>\n",
       "      <td>...</td>\n",
       "      <td>169.333</td>\n",
       "      <td>68.247</td>\n",
       "      <td>147.693</td>\n",
       "      <td>226.680</td>\n",
       "      <td>165.486</td>\n",
       "      <td>134.880</td>\n",
       "      <td>195.425</td>\n",
       "      <td>449.515</td>\n",
       "      <td>511.090</td>\n",
       "      <td>135.696</td>\n",
       "    </tr>\n",
       "    <tr>\n",
       "      <th>BASE_BBL</th>\n",
       "      <td>3044520815.000</td>\n",
       "      <td>4030640041.000</td>\n",
       "      <td>4139430001.000</td>\n",
       "      <td>3049720006.000</td>\n",
       "      <td>3055100055.000</td>\n",
       "      <td>4156840062.000</td>\n",
       "      <td>4020140047.000</td>\n",
       "      <td>4086190031.000</td>\n",
       "      <td>3048020021.000</td>\n",
       "      <td>3049320062.000</td>\n",
       "      <td>...</td>\n",
       "      <td>3056440053.000</td>\n",
       "      <td>4087350049.000</td>\n",
       "      <td>3022160006.000</td>\n",
       "      <td>3070920060.000</td>\n",
       "      <td>4155420050.000</td>\n",
       "      <td>4019390026.000</td>\n",
       "      <td>3041540061.000</td>\n",
       "      <td>1017220059.000</td>\n",
       "      <td>3069900001.000</td>\n",
       "      <td>4019390126.000</td>\n",
       "    </tr>\n",
       "    <tr>\n",
       "      <th>MPLUTO_BBL</th>\n",
       "      <td>3044520815.000</td>\n",
       "      <td>4030640041.000</td>\n",
       "      <td>4139430001.000</td>\n",
       "      <td>3049720006.000</td>\n",
       "      <td>3055100055.000</td>\n",
       "      <td>4156840062.000</td>\n",
       "      <td>4020140047.000</td>\n",
       "      <td>4086190031.000</td>\n",
       "      <td>3048020021.000</td>\n",
       "      <td>3049320062.000</td>\n",
       "      <td>...</td>\n",
       "      <td>NaN</td>\n",
       "      <td>NaN</td>\n",
       "      <td>NaN</td>\n",
       "      <td>3070920060.000</td>\n",
       "      <td>4155420050.000</td>\n",
       "      <td>NaN</td>\n",
       "      <td>3041540061.000</td>\n",
       "      <td>1017220059.000</td>\n",
       "      <td>NaN</td>\n",
       "      <td>NaN</td>\n",
       "    </tr>\n",
       "    <tr>\n",
       "      <th>GEOMSOURCE</th>\n",
       "      <td>Photogramm</td>\n",
       "      <td>Photogramm</td>\n",
       "      <td>Photogramm</td>\n",
       "      <td>Photogramm</td>\n",
       "      <td>Photogramm</td>\n",
       "      <td>Photogramm</td>\n",
       "      <td>Photogramm</td>\n",
       "      <td>Photogramm</td>\n",
       "      <td>Other (Man</td>\n",
       "      <td>Photogramm</td>\n",
       "      <td>...</td>\n",
       "      <td>Other (Man</td>\n",
       "      <td>Other (Man</td>\n",
       "      <td>Other (Man</td>\n",
       "      <td>Other (Man</td>\n",
       "      <td>Other (Man</td>\n",
       "      <td>Other (Man</td>\n",
       "      <td>Other (Man</td>\n",
       "      <td>Other (Man</td>\n",
       "      <td>Other (Man</td>\n",
       "      <td>Other (Man</td>\n",
       "    </tr>\n",
       "  </tbody>\n",
       "</table>\n",
       "<p>15 rows × 1084904 columns</p>\n",
       "</div>"
      ],
      "text/plain": [
       "                                                      0        \\\n",
       "BIN                                                   3394646   \n",
       "NAME                                                      NaN   \n",
       "CNSTRCT_YR                                           2009.000   \n",
       "the_geom    MULTIPOLYGON (((-73.87129515296562 40.65717370...   \n",
       "LSTMODDATE                       08/22/2017 12:00:00 AM +0000   \n",
       "LSTSTATYPE                                        Constructed   \n",
       "DOITT_ID                                              1212853   \n",
       "HEIGHTROOF                                             21.609   \n",
       "FEAT_CODE                                            2100.000   \n",
       "GROUNDELEV                                             18.000   \n",
       "SHAPE_AREA                                            854.662   \n",
       "SHAPE_LEN                                             125.080   \n",
       "BASE_BBL                                       3044520815.000   \n",
       "MPLUTO_BBL                                     3044520815.000   \n",
       "GEOMSOURCE                                         Photogramm   \n",
       "\n",
       "                                                      1        \\\n",
       "BIN                                                   4548330   \n",
       "NAME                                                      NaN   \n",
       "CNSTRCT_YR                                           1930.000   \n",
       "the_geom    MULTIPOLYGON (((-73.87670970144625 40.71425234...   \n",
       "LSTMODDATE                       08/17/2017 12:00:00 AM +0000   \n",
       "LSTSTATYPE                                        Constructed   \n",
       "DOITT_ID                                              1226227   \n",
       "HEIGHTROOF                                             10.360   \n",
       "FEAT_CODE                                            5110.000   \n",
       "GROUNDELEV                                            122.000   \n",
       "SHAPE_AREA                                            217.594   \n",
       "SHAPE_LEN                                              60.226   \n",
       "BASE_BBL                                       4030640041.000   \n",
       "MPLUTO_BBL                                     4030640041.000   \n",
       "GEOMSOURCE                                         Photogramm   \n",
       "\n",
       "                                                      2        \\\n",
       "BIN                                                   4460479   \n",
       "NAME                                                      NaN   \n",
       "CNSTRCT_YR                                           1960.000   \n",
       "the_geom    MULTIPOLYGON (((-73.85195485799383 40.66235471...   \n",
       "LSTMODDATE                       08/22/2017 12:00:00 AM +0000   \n",
       "LSTSTATYPE                                        Constructed   \n",
       "DOITT_ID                                               581946   \n",
       "HEIGHTROOF                                             29.812   \n",
       "FEAT_CODE                                            2100.000   \n",
       "GROUNDELEV                                             10.000   \n",
       "SHAPE_AREA                                            946.427   \n",
       "SHAPE_LEN                                             123.142   \n",
       "BASE_BBL                                       4139430001.000   \n",
       "MPLUTO_BBL                                     4139430001.000   \n",
       "GEOMSOURCE                                         Photogramm   \n",
       "\n",
       "                                                      3        \\\n",
       "BIN                                                   3355684   \n",
       "NAME                                                      NaN   \n",
       "CNSTRCT_YR                                           1920.000   \n",
       "the_geom    MULTIPOLYGON (((-73.94029215265738 40.64108287...   \n",
       "LSTMODDATE                       08/17/2017 12:00:00 AM +0000   \n",
       "LSTSTATYPE                                        Constructed   \n",
       "DOITT_ID                                               858061   \n",
       "HEIGHTROOF                                             11.200   \n",
       "FEAT_CODE                                            5110.000   \n",
       "GROUNDELEV                                             32.000   \n",
       "SHAPE_AREA                                            248.678   \n",
       "SHAPE_LEN                                              63.941   \n",
       "BASE_BBL                                       3049720006.000   \n",
       "MPLUTO_BBL                                     3049720006.000   \n",
       "GEOMSOURCE                                         Photogramm   \n",
       "\n",
       "                                                      4        \\\n",
       "BIN                                                   3131737   \n",
       "NAME                                                      NaN   \n",
       "CNSTRCT_YR                                           1915.000   \n",
       "the_geom    MULTIPOLYGON (((-73.98998983552244 40.62383804...   \n",
       "LSTMODDATE                       08/22/2017 12:00:00 AM +0000   \n",
       "LSTSTATYPE                                        Constructed   \n",
       "DOITT_ID                                               568078   \n",
       "HEIGHTROOF                                             24.980   \n",
       "FEAT_CODE                                            2100.000   \n",
       "GROUNDELEV                                             44.000   \n",
       "SHAPE_AREA                                           1163.228   \n",
       "SHAPE_LEN                                             165.609   \n",
       "BASE_BBL                                       3055100055.000   \n",
       "MPLUTO_BBL                                     3055100055.000   \n",
       "GEOMSOURCE                                         Photogramm   \n",
       "\n",
       "                                                      5        \\\n",
       "BIN                                                   4299828   \n",
       "NAME                                                      NaN   \n",
       "CNSTRCT_YR                                           1950.000   \n",
       "the_geom    MULTIPOLYGON (((-73.7654951204543 40.611271914...   \n",
       "LSTMODDATE                       08/22/2017 12:00:00 AM +0000   \n",
       "LSTSTATYPE                                        Constructed   \n",
       "DOITT_ID                                                41210   \n",
       "HEIGHTROOF                                             30.161   \n",
       "FEAT_CODE                                            2100.000   \n",
       "GROUNDELEV                                              6.000   \n",
       "SHAPE_AREA                                           1420.667   \n",
       "SHAPE_LEN                                             155.916   \n",
       "BASE_BBL                                       4156840062.000   \n",
       "MPLUTO_BBL                                     4156840062.000   \n",
       "GEOMSOURCE                                         Photogramm   \n",
       "\n",
       "                                                      6        \\\n",
       "BIN                                                   4609623   \n",
       "NAME                                                      NaN   \n",
       "CNSTRCT_YR                                           1965.000   \n",
       "the_geom    MULTIPOLYGON (((-73.85236537192253 40.75122838...   \n",
       "LSTMODDATE                       08/17/2017 12:00:00 AM +0000   \n",
       "LSTSTATYPE                                        Constructed   \n",
       "DOITT_ID                                              1220055   \n",
       "HEIGHTROOF                                             10.770   \n",
       "FEAT_CODE                                            5110.000   \n",
       "GROUNDELEV                                             38.000   \n",
       "SHAPE_AREA                                            366.518   \n",
       "SHAPE_LEN                                              77.166   \n",
       "BASE_BBL                                       4020140047.000   \n",
       "MPLUTO_BBL                                     4020140047.000   \n",
       "GEOMSOURCE                                         Photogramm   \n",
       "\n",
       "                                                      7        \\\n",
       "BIN                                                   4554786   \n",
       "NAME                                                      NaN   \n",
       "CNSTRCT_YR                                           1935.000   \n",
       "the_geom    MULTIPOLYGON (((-73.71512875395307 40.73330867...   \n",
       "LSTMODDATE                       08/17/2017 12:00:00 AM +0000   \n",
       "LSTSTATYPE                                        Constructed   \n",
       "DOITT_ID                                              1228515   \n",
       "HEIGHTROOF                                             12.150   \n",
       "FEAT_CODE                                            5110.000   \n",
       "GROUNDELEV                                             96.000   \n",
       "SHAPE_AREA                                            213.102   \n",
       "SHAPE_LEN                                              60.121   \n",
       "BASE_BBL                                       4086190031.000   \n",
       "MPLUTO_BBL                                     4086190031.000   \n",
       "GEOMSOURCE                                         Photogramm   \n",
       "\n",
       "                                                      8        \\\n",
       "BIN                                                   3388445   \n",
       "NAME                                                      NaN   \n",
       "CNSTRCT_YR                                           2004.000   \n",
       "the_geom    MULTIPOLYGON (((-73.94606707932263 40.66016319...   \n",
       "LSTMODDATE                       08/22/2017 12:00:00 AM +0000   \n",
       "LSTSTATYPE                                        Constructed   \n",
       "DOITT_ID                                              1014893   \n",
       "HEIGHTROOF                                             32.770   \n",
       "FEAT_CODE                                            2100.000   \n",
       "GROUNDELEV                                             40.000   \n",
       "SHAPE_AREA                                           1037.407   \n",
       "SHAPE_LEN                                             147.770   \n",
       "BASE_BBL                                       3048020021.000   \n",
       "MPLUTO_BBL                                     3048020021.000   \n",
       "GEOMSOURCE                                         Other (Man   \n",
       "\n",
       "                                                      9        ...  \\\n",
       "BIN                                                   3110799  ...   \n",
       "NAME                                                      NaN  ...   \n",
       "CNSTRCT_YR                                           1910.000  ...   \n",
       "the_geom    MULTIPOLYGON (((-73.94669293900293 40.64493688...  ...   \n",
       "LSTMODDATE                       08/22/2017 12:00:00 AM +0000  ...   \n",
       "LSTSTATYPE                                        Constructed  ...   \n",
       "DOITT_ID                                               757675  ...   \n",
       "HEIGHTROOF                                             27.370  ...   \n",
       "FEAT_CODE                                            2100.000  ...   \n",
       "GROUNDELEV                                             39.000  ...   \n",
       "SHAPE_AREA                                           1150.816  ...   \n",
       "SHAPE_LEN                                             151.861  ...   \n",
       "BASE_BBL                                       3049320062.000  ...   \n",
       "MPLUTO_BBL                                     3049320062.000  ...   \n",
       "GEOMSOURCE                                         Photogramm  ...   \n",
       "\n",
       "                                                      1084894  \\\n",
       "BIN                                                   3137845   \n",
       "NAME                                                      NaN   \n",
       "CNSTRCT_YR                                           2019.000   \n",
       "the_geom    MULTIPOLYGON (((-74.00263890964455 40.63971028...   \n",
       "LSTMODDATE                       10/16/2020 12:00:00 AM +0000   \n",
       "LSTSTATYPE                                        Constructed   \n",
       "DOITT_ID                                              1293229   \n",
       "HEIGHTROOF                                             55.000   \n",
       "FEAT_CODE                                            2100.000   \n",
       "GROUNDELEV                                            112.000   \n",
       "SHAPE_AREA                                           1558.823   \n",
       "SHAPE_LEN                                             169.333   \n",
       "BASE_BBL                                       3056440053.000   \n",
       "MPLUTO_BBL                                                NaN   \n",
       "GEOMSOURCE                                         Other (Man   \n",
       "\n",
       "                                                      1084895  \\\n",
       "BIN                                                   4623378   \n",
       "NAME                                                      NaN   \n",
       "CNSTRCT_YR                                           2020.000   \n",
       "the_geom    MULTIPOLYGON (((-73.709604382206 40.7420999484...   \n",
       "LSTMODDATE                       10/16/2020 12:00:00 AM +0000   \n",
       "LSTSTATYPE                                        Constructed   \n",
       "DOITT_ID                                              1293234   \n",
       "HEIGHTROOF                                             12.000   \n",
       "FEAT_CODE                                            5110.000   \n",
       "GROUNDELEV                                            116.000   \n",
       "SHAPE_AREA                                            275.126   \n",
       "SHAPE_LEN                                              68.247   \n",
       "BASE_BBL                                       4087350049.000   \n",
       "MPLUTO_BBL                                                NaN   \n",
       "GEOMSOURCE                                         Other (Man   \n",
       "\n",
       "                                                      1084896  \\\n",
       "BIN                                                   3379714   \n",
       "NAME                                                      NaN   \n",
       "CNSTRCT_YR                                                NaN   \n",
       "the_geom    MULTIPOLYGON (((-73.9613116464096 40.700139388...   \n",
       "LSTMODDATE                       10/13/2020 12:00:00 AM +0000   \n",
       "LSTSTATYPE                                        Constructed   \n",
       "DOITT_ID                                              1293212   \n",
       "HEIGHTROOF                                             18.000   \n",
       "FEAT_CODE                                            1001.000   \n",
       "GROUNDELEV                                             10.000   \n",
       "SHAPE_AREA                                           1317.603   \n",
       "SHAPE_LEN                                             147.693   \n",
       "BASE_BBL                                       3022160006.000   \n",
       "MPLUTO_BBL                                                NaN   \n",
       "GEOMSOURCE                                         Other (Man   \n",
       "\n",
       "                                                      1084897  \\\n",
       "BIN                                                   3427176   \n",
       "NAME                                                      NaN   \n",
       "CNSTRCT_YR                                                NaN   \n",
       "the_geom    MULTIPOLYGON (((-73.98499409546126 40.59630472...   \n",
       "LSTMODDATE                       10/16/2020 12:00:00 AM +0000   \n",
       "LSTSTATYPE                                        Constructed   \n",
       "DOITT_ID                                              1293233   \n",
       "HEIGHTROOF                                             18.000   \n",
       "FEAT_CODE                                            1001.000   \n",
       "GROUNDELEV                                              9.000   \n",
       "SHAPE_AREA                                           2600.805   \n",
       "SHAPE_LEN                                             226.680   \n",
       "BASE_BBL                                       3070920060.000   \n",
       "MPLUTO_BBL                                     3070920060.000   \n",
       "GEOMSOURCE                                         Other (Man   \n",
       "\n",
       "                                                      1084898  \\\n",
       "BIN                                                   4596249   \n",
       "NAME                                                      NaN   \n",
       "CNSTRCT_YR                                           2020.000   \n",
       "the_geom    MULTIPOLYGON (((-73.74774774899996 40.60649556...   \n",
       "LSTMODDATE                       10/15/2020 12:00:00 AM +0000   \n",
       "LSTSTATYPE                                        Constructed   \n",
       "DOITT_ID                                              1293226   \n",
       "HEIGHTROOF                                             35.000   \n",
       "FEAT_CODE                                            2100.000   \n",
       "GROUNDELEV                                             30.000   \n",
       "SHAPE_AREA                                           1497.360   \n",
       "SHAPE_LEN                                             165.486   \n",
       "BASE_BBL                                       4155420050.000   \n",
       "MPLUTO_BBL                                     4155420050.000   \n",
       "GEOMSOURCE                                         Other (Man   \n",
       "\n",
       "                                                      1084899  \\\n",
       "BIN                                                   4047647   \n",
       "NAME                                                      NaN   \n",
       "CNSTRCT_YR                                           2020.000   \n",
       "the_geom    MULTIPOLYGON (((-73.85889247576631 40.74054424...   \n",
       "LSTMODDATE                       10/16/2020 12:00:00 AM +0000   \n",
       "LSTSTATYPE                                        Constructed   \n",
       "DOITT_ID                                              1293231   \n",
       "HEIGHTROOF                                             50.000   \n",
       "FEAT_CODE                                            2100.000   \n",
       "GROUNDELEV                                             17.000   \n",
       "SHAPE_AREA                                           1007.192   \n",
       "SHAPE_LEN                                             134.880   \n",
       "BASE_BBL                                       4019390026.000   \n",
       "MPLUTO_BBL                                                NaN   \n",
       "GEOMSOURCE                                         Other (Man   \n",
       "\n",
       "                                                      1084900  \\\n",
       "BIN                                                   3428798   \n",
       "NAME                                                      NaN   \n",
       "CNSTRCT_YR                                           2020.000   \n",
       "the_geom    MULTIPOLYGON (((-73.87650008254877 40.67924266...   \n",
       "LSTMODDATE                       10/13/2020 12:00:00 AM +0000   \n",
       "LSTSTATYPE                                        Constructed   \n",
       "DOITT_ID                                              1293214   \n",
       "HEIGHTROOF                                             29.900   \n",
       "FEAT_CODE                                            2100.000   \n",
       "GROUNDELEV                                             37.000   \n",
       "SHAPE_AREA                                           2327.394   \n",
       "SHAPE_LEN                                             195.425   \n",
       "BASE_BBL                                       3041540061.000   \n",
       "MPLUTO_BBL                                     3041540061.000   \n",
       "GEOMSOURCE                                         Other (Man   \n",
       "\n",
       "                                                      1084901  \\\n",
       "BIN                                                   1053478   \n",
       "NAME                                                      NaN   \n",
       "CNSTRCT_YR                                           2020.000   \n",
       "the_geom    MULTIPOLYGON (((-73.94459250834333 40.80724041...   \n",
       "LSTMODDATE                       10/13/2020 12:00:00 AM +0000   \n",
       "LSTSTATYPE                                        Constructed   \n",
       "DOITT_ID                                              1293216   \n",
       "HEIGHTROOF                                            181.400   \n",
       "FEAT_CODE                                            5100.000   \n",
       "GROUNDELEV                                             24.000   \n",
       "SHAPE_AREA                                          12475.370   \n",
       "SHAPE_LEN                                             449.515   \n",
       "BASE_BBL                                       1017220059.000   \n",
       "MPLUTO_BBL                                     1017220059.000   \n",
       "GEOMSOURCE                                         Other (Man   \n",
       "\n",
       "                                                      1084902  \\\n",
       "BIN                                                   3427174   \n",
       "NAME                                                      NaN   \n",
       "CNSTRCT_YR                                           2020.000   \n",
       "the_geom    MULTIPOLYGON (((-73.99000028548764 40.57901597...   \n",
       "LSTMODDATE                       10/13/2020 12:00:00 AM +0000   \n",
       "LSTSTATYPE                                     Initialization   \n",
       "DOITT_ID                                              1293213   \n",
       "HEIGHTROOF                                            110.000   \n",
       "FEAT_CODE                                            5100.000   \n",
       "GROUNDELEV                                              7.000   \n",
       "SHAPE_AREA                                          15392.482   \n",
       "SHAPE_LEN                                             511.090   \n",
       "BASE_BBL                                       3069900001.000   \n",
       "MPLUTO_BBL                                                NaN   \n",
       "GEOMSOURCE                                         Other (Man   \n",
       "\n",
       "                                                      1084903  \n",
       "BIN                                                   4000000  \n",
       "NAME                                                      NaN  \n",
       "CNSTRCT_YR                                           2020.000  \n",
       "the_geom    MULTIPOLYGON (((-73.85889325464234 40.74054543...  \n",
       "LSTMODDATE                       10/16/2020 12:00:00 AM +0000  \n",
       "LSTSTATYPE                                        Constructed  \n",
       "DOITT_ID                                              1293230  \n",
       "HEIGHTROOF                                             50.000  \n",
       "FEAT_CODE                                            2100.000  \n",
       "GROUNDELEV                                             17.000  \n",
       "SHAPE_AREA                                           1016.313  \n",
       "SHAPE_LEN                                             135.696  \n",
       "BASE_BBL                                       4019390126.000  \n",
       "MPLUTO_BBL                                                NaN  \n",
       "GEOMSOURCE                                         Other (Man  \n",
       "\n",
       "[15 rows x 1084904 columns]"
      ]
     },
     "execution_count": 602,
     "metadata": {},
     "output_type": "execute_result"
    }
   ],
   "source": [
    "# transpose index and columns\n",
    "building_footprints.T"
   ]
  },
  {
   "cell_type": "markdown",
   "metadata": {},
   "source": [
    "## 3.2 Calcualting Summary Statistics"
   ]
  },
  {
   "cell_type": "code",
   "execution_count": 603,
   "metadata": {},
   "outputs": [],
   "source": [
    "# display floats up to three decimals\n",
    "pd.set_option('display.float_format', lambda x: '%.3f' % x)"
   ]
  },
  {
   "cell_type": "code",
   "execution_count": 604,
   "metadata": {},
   "outputs": [
    {
     "data": {
      "text/html": [
       "<div>\n",
       "<style scoped>\n",
       "    .dataframe tbody tr th:only-of-type {\n",
       "        vertical-align: middle;\n",
       "    }\n",
       "\n",
       "    .dataframe tbody tr th {\n",
       "        vertical-align: top;\n",
       "    }\n",
       "\n",
       "    .dataframe thead th {\n",
       "        text-align: right;\n",
       "    }\n",
       "</style>\n",
       "<table border=\"1\" class=\"dataframe\">\n",
       "  <thead>\n",
       "    <tr style=\"text-align: right;\">\n",
       "      <th></th>\n",
       "      <th>BIN</th>\n",
       "      <th>CNSTRCT_YR</th>\n",
       "      <th>DOITT_ID</th>\n",
       "      <th>HEIGHTROOF</th>\n",
       "      <th>FEAT_CODE</th>\n",
       "      <th>GROUNDELEV</th>\n",
       "      <th>SHAPE_AREA</th>\n",
       "      <th>SHAPE_LEN</th>\n",
       "      <th>BASE_BBL</th>\n",
       "      <th>MPLUTO_BBL</th>\n",
       "    </tr>\n",
       "  </thead>\n",
       "  <tbody>\n",
       "    <tr>\n",
       "      <th>count</th>\n",
       "      <td>1084904.000</td>\n",
       "      <td>1080023.000</td>\n",
       "      <td>1084904.000</td>\n",
       "      <td>1082240.000</td>\n",
       "      <td>1084895.000</td>\n",
       "      <td>1084377.000</td>\n",
       "      <td>1084904.000</td>\n",
       "      <td>1084904.000</td>\n",
       "      <td>1084902.000</td>\n",
       "      <td>1084341.000</td>\n",
       "    </tr>\n",
       "    <tr>\n",
       "      <th>mean</th>\n",
       "      <td>3710200.085</td>\n",
       "      <td>1946.647</td>\n",
       "      <td>590982.280</td>\n",
       "      <td>27.549</td>\n",
       "      <td>2698.565</td>\n",
       "      <td>55.099</td>\n",
       "      <td>1596.816</td>\n",
       "      <td>155.312</td>\n",
       "      <td>3562022467.369</td>\n",
       "      <td>3561869091.624</td>\n",
       "    </tr>\n",
       "    <tr>\n",
       "      <th>std</th>\n",
       "      <td>1026803.034</td>\n",
       "      <td>19243.534</td>\n",
       "      <td>359307.070</td>\n",
       "      <td>21.322</td>\n",
       "      <td>1202.259</td>\n",
       "      <td>41.510</td>\n",
       "      <td>5601.413</td>\n",
       "      <td>127.150</td>\n",
       "      <td>986059691.680</td>\n",
       "      <td>986084211.300</td>\n",
       "    </tr>\n",
       "    <tr>\n",
       "      <th>min</th>\n",
       "      <td>1000002.000</td>\n",
       "      <td>0.000</td>\n",
       "      <td>1.000</td>\n",
       "      <td>0.000</td>\n",
       "      <td>0.000</td>\n",
       "      <td>-14.000</td>\n",
       "      <td>32.475</td>\n",
       "      <td>23.737</td>\n",
       "      <td>3064269.000</td>\n",
       "      <td>3064269.000</td>\n",
       "    </tr>\n",
       "    <tr>\n",
       "      <th>25%</th>\n",
       "      <td>3128602.500</td>\n",
       "      <td>1920.000</td>\n",
       "      <td>286558.750</td>\n",
       "      <td>18.340</td>\n",
       "      <td>2100.000</td>\n",
       "      <td>25.000</td>\n",
       "      <td>652.091</td>\n",
       "      <td>109.693</td>\n",
       "      <td>3043180104.250</td>\n",
       "      <td>3043170026.000</td>\n",
       "    </tr>\n",
       "    <tr>\n",
       "      <th>50%</th>\n",
       "      <td>4066837.500</td>\n",
       "      <td>1930.000</td>\n",
       "      <td>573297.500</td>\n",
       "      <td>26.100</td>\n",
       "      <td>2100.000</td>\n",
       "      <td>46.000</td>\n",
       "      <td>957.232</td>\n",
       "      <td>137.920</td>\n",
       "      <td>4019290075.500</td>\n",
       "      <td>4019260034.000</td>\n",
       "    </tr>\n",
       "    <tr>\n",
       "      <th>75%</th>\n",
       "      <td>4481748.250</td>\n",
       "      <td>1955.000</td>\n",
       "      <td>861610.250</td>\n",
       "      <td>31.098</td>\n",
       "      <td>2100.000</td>\n",
       "      <td>74.000</td>\n",
       "      <td>1320.290</td>\n",
       "      <td>164.448</td>\n",
       "      <td>4106720014.750</td>\n",
       "      <td>4106690102.000</td>\n",
       "    </tr>\n",
       "    <tr>\n",
       "      <th>max</th>\n",
       "      <td>5799523.000</td>\n",
       "      <td>19999979.000</td>\n",
       "      <td>1293234.000</td>\n",
       "      <td>1550.000</td>\n",
       "      <td>5110.000</td>\n",
       "      <td>556.000</td>\n",
       "      <td>1171874.446</td>\n",
       "      <td>20017.293</td>\n",
       "      <td>5999999999.000</td>\n",
       "      <td>5999999999.000</td>\n",
       "    </tr>\n",
       "  </tbody>\n",
       "</table>\n",
       "</div>"
      ],
      "text/plain": [
       "              BIN   CNSTRCT_YR    DOITT_ID  HEIGHTROOF   FEAT_CODE  \\\n",
       "count 1084904.000  1080023.000 1084904.000 1082240.000 1084895.000   \n",
       "mean  3710200.085     1946.647  590982.280      27.549    2698.565   \n",
       "std   1026803.034    19243.534  359307.070      21.322    1202.259   \n",
       "min   1000002.000        0.000       1.000       0.000       0.000   \n",
       "25%   3128602.500     1920.000  286558.750      18.340    2100.000   \n",
       "50%   4066837.500     1930.000  573297.500      26.100    2100.000   \n",
       "75%   4481748.250     1955.000  861610.250      31.098    2100.000   \n",
       "max   5799523.000 19999979.000 1293234.000    1550.000    5110.000   \n",
       "\n",
       "       GROUNDELEV  SHAPE_AREA   SHAPE_LEN       BASE_BBL     MPLUTO_BBL  \n",
       "count 1084377.000 1084904.000 1084904.000    1084902.000    1084341.000  \n",
       "mean       55.099    1596.816     155.312 3562022467.369 3561869091.624  \n",
       "std        41.510    5601.413     127.150  986059691.680  986084211.300  \n",
       "min       -14.000      32.475      23.737    3064269.000    3064269.000  \n",
       "25%        25.000     652.091     109.693 3043180104.250 3043170026.000  \n",
       "50%        46.000     957.232     137.920 4019290075.500 4019260034.000  \n",
       "75%        74.000    1320.290     164.448 4106720014.750 4106690102.000  \n",
       "max       556.000 1171874.446   20017.293 5999999999.000 5999999999.000  "
      ]
     },
     "execution_count": 604,
     "metadata": {},
     "output_type": "execute_result"
    }
   ],
   "source": [
    "# printing descriptive statistics of our numeric columns in our data\n",
    "building_footprints.describe()"
   ]
  },
  {
   "cell_type": "code",
   "execution_count": 605,
   "metadata": {},
   "outputs": [
    {
     "data": {
      "text/plain": [
       "BIN             4066837.500\n",
       "CNSTRCT_YR         1930.000\n",
       "DOITT_ID         573297.500\n",
       "HEIGHTROOF           26.100\n",
       "FEAT_CODE          2100.000\n",
       "GROUNDELEV           46.000\n",
       "SHAPE_AREA          957.232\n",
       "SHAPE_LEN           137.920\n",
       "BASE_BBL     4019290075.500\n",
       "MPLUTO_BBL   4019260034.000\n",
       "dtype: float64"
      ]
     },
     "execution_count": 605,
     "metadata": {},
     "output_type": "execute_result"
    }
   ],
   "source": [
    "# calculating the median value in each columns\n",
    "# this can also be found with the describe method above at the 50% index/row\n",
    "building_footprints.median()"
   ]
  },
  {
   "cell_type": "code",
   "execution_count": 606,
   "metadata": {},
   "outputs": [
    {
     "data": {
      "text/html": [
       "<div>\n",
       "<style scoped>\n",
       "    .dataframe tbody tr th:only-of-type {\n",
       "        vertical-align: middle;\n",
       "    }\n",
       "\n",
       "    .dataframe tbody tr th {\n",
       "        vertical-align: top;\n",
       "    }\n",
       "\n",
       "    .dataframe thead th {\n",
       "        text-align: right;\n",
       "    }\n",
       "</style>\n",
       "<table border=\"1\" class=\"dataframe\">\n",
       "  <thead>\n",
       "    <tr style=\"text-align: right;\">\n",
       "      <th></th>\n",
       "      <th>BIN</th>\n",
       "      <th>CNSTRCT_YR</th>\n",
       "      <th>HEIGHTROOF</th>\n",
       "      <th>FEAT_CODE</th>\n",
       "      <th>GROUNDELEV</th>\n",
       "      <th>SHAPE_AREA</th>\n",
       "      <th>SHAPE_LEN</th>\n",
       "      <th>BASE_BBL</th>\n",
       "      <th>MPLUTO_BBL</th>\n",
       "    </tr>\n",
       "  </thead>\n",
       "  <tbody>\n",
       "    <tr>\n",
       "      <th>mode</th>\n",
       "      <td>4000000</td>\n",
       "      <td>1920.000</td>\n",
       "      <td>30.000</td>\n",
       "      <td>2100.000</td>\n",
       "      <td>10.000</td>\n",
       "      <td>173.205</td>\n",
       "      <td>60.000</td>\n",
       "      <td>4163500400.000</td>\n",
       "      <td>4163500400.000</td>\n",
       "    </tr>\n",
       "  </tbody>\n",
       "</table>\n",
       "</div>"
      ],
      "text/plain": [
       "          BIN  CNSTRCT_YR  HEIGHTROOF  FEAT_CODE  GROUNDELEV  SHAPE_AREA  \\\n",
       "mode  4000000    1920.000      30.000   2100.000      10.000     173.205   \n",
       "\n",
       "      SHAPE_LEN       BASE_BBL     MPLUTO_BBL  \n",
       "mode     60.000 4163500400.000 4163500400.000  "
      ]
     },
     "execution_count": 606,
     "metadata": {},
     "output_type": "execute_result"
    }
   ],
   "source": [
    "# returning the mode of our numeric columns (excluding our unique key = 'DOITT_ID') as 'mode'\n",
    "mode = building_footprints.loc[:, building_footprints.columns != 'DOITT_ID'].mode(numeric_only=True)\n",
    "\n",
    "# renaming index to 'mode'\n",
    "mode.rename(index={0: \"mode\"}, inplace=True)\n",
    "mode"
   ]
  },
  {
   "cell_type": "code",
   "execution_count": 607,
   "metadata": {},
   "outputs": [
    {
     "data": {
      "text/html": [
       "<div>\n",
       "<style scoped>\n",
       "    .dataframe tbody tr th:only-of-type {\n",
       "        vertical-align: middle;\n",
       "    }\n",
       "\n",
       "    .dataframe tbody tr th {\n",
       "        vertical-align: top;\n",
       "    }\n",
       "\n",
       "    .dataframe thead th {\n",
       "        text-align: right;\n",
       "    }\n",
       "</style>\n",
       "<table border=\"1\" class=\"dataframe\">\n",
       "  <thead>\n",
       "    <tr style=\"text-align: right;\">\n",
       "      <th></th>\n",
       "      <th>mode</th>\n",
       "    </tr>\n",
       "  </thead>\n",
       "  <tbody>\n",
       "    <tr>\n",
       "      <th>BIN</th>\n",
       "      <td>4000000.000</td>\n",
       "    </tr>\n",
       "    <tr>\n",
       "      <th>CNSTRCT_YR</th>\n",
       "      <td>1920.000</td>\n",
       "    </tr>\n",
       "    <tr>\n",
       "      <th>HEIGHTROOF</th>\n",
       "      <td>30.000</td>\n",
       "    </tr>\n",
       "    <tr>\n",
       "      <th>FEAT_CODE</th>\n",
       "      <td>2100.000</td>\n",
       "    </tr>\n",
       "    <tr>\n",
       "      <th>GROUNDELEV</th>\n",
       "      <td>10.000</td>\n",
       "    </tr>\n",
       "    <tr>\n",
       "      <th>SHAPE_AREA</th>\n",
       "      <td>173.205</td>\n",
       "    </tr>\n",
       "    <tr>\n",
       "      <th>SHAPE_LEN</th>\n",
       "      <td>60.000</td>\n",
       "    </tr>\n",
       "    <tr>\n",
       "      <th>BASE_BBL</th>\n",
       "      <td>4163500400.000</td>\n",
       "    </tr>\n",
       "    <tr>\n",
       "      <th>MPLUTO_BBL</th>\n",
       "      <td>4163500400.000</td>\n",
       "    </tr>\n",
       "  </tbody>\n",
       "</table>\n",
       "</div>"
      ],
      "text/plain": [
       "                     mode\n",
       "BIN           4000000.000\n",
       "CNSTRCT_YR       1920.000\n",
       "HEIGHTROOF         30.000\n",
       "FEAT_CODE        2100.000\n",
       "GROUNDELEV         10.000\n",
       "SHAPE_AREA        173.205\n",
       "SHAPE_LEN          60.000\n",
       "BASE_BBL   4163500400.000\n",
       "MPLUTO_BBL 4163500400.000"
      ]
     },
     "execution_count": 607,
     "metadata": {},
     "output_type": "execute_result"
    }
   ],
   "source": [
    "# transposing and printing the mode ofour numeric columns (excluding our unique key = 'DOITT_ID')\n",
    "mode.T"
   ]
  },
  {
   "cell_type": "code",
   "execution_count": 608,
   "metadata": {},
   "outputs": [
    {
     "data": {
      "text/html": [
       "<div>\n",
       "<style scoped>\n",
       "    .dataframe tbody tr th:only-of-type {\n",
       "        vertical-align: middle;\n",
       "    }\n",
       "\n",
       "    .dataframe tbody tr th {\n",
       "        vertical-align: top;\n",
       "    }\n",
       "\n",
       "    .dataframe thead th {\n",
       "        text-align: right;\n",
       "    }\n",
       "</style>\n",
       "<table border=\"1\" class=\"dataframe\">\n",
       "  <thead>\n",
       "    <tr style=\"text-align: right;\">\n",
       "      <th></th>\n",
       "      <th>BIN</th>\n",
       "      <th>CNSTRCT_YR</th>\n",
       "      <th>DOITT_ID</th>\n",
       "      <th>HEIGHTROOF</th>\n",
       "      <th>FEAT_CODE</th>\n",
       "      <th>GROUNDELEV</th>\n",
       "      <th>SHAPE_AREA</th>\n",
       "      <th>SHAPE_LEN</th>\n",
       "      <th>BASE_BBL</th>\n",
       "      <th>MPLUTO_BBL</th>\n",
       "    </tr>\n",
       "  </thead>\n",
       "  <tbody>\n",
       "    <tr>\n",
       "      <th>BIN</th>\n",
       "      <td>1.000</td>\n",
       "      <td>0.002</td>\n",
       "      <td>0.156</td>\n",
       "      <td>-0.361</td>\n",
       "      <td>0.190</td>\n",
       "      <td>0.087</td>\n",
       "      <td>-0.101</td>\n",
       "      <td>-0.216</td>\n",
       "      <td>0.989</td>\n",
       "      <td>0.989</td>\n",
       "    </tr>\n",
       "    <tr>\n",
       "      <th>CNSTRCT_YR</th>\n",
       "      <td>0.002</td>\n",
       "      <td>1.000</td>\n",
       "      <td>0.002</td>\n",
       "      <td>0.001</td>\n",
       "      <td>-0.001</td>\n",
       "      <td>0.001</td>\n",
       "      <td>-0.000</td>\n",
       "      <td>-0.001</td>\n",
       "      <td>0.002</td>\n",
       "      <td>0.002</td>\n",
       "    </tr>\n",
       "    <tr>\n",
       "      <th>DOITT_ID</th>\n",
       "      <td>0.156</td>\n",
       "      <td>0.002</td>\n",
       "      <td>1.000</td>\n",
       "      <td>-0.177</td>\n",
       "      <td>0.551</td>\n",
       "      <td>-0.017</td>\n",
       "      <td>-0.038</td>\n",
       "      <td>-0.161</td>\n",
       "      <td>0.076</td>\n",
       "      <td>0.075</td>\n",
       "    </tr>\n",
       "    <tr>\n",
       "      <th>HEIGHTROOF</th>\n",
       "      <td>-0.361</td>\n",
       "      <td>0.001</td>\n",
       "      <td>-0.177</td>\n",
       "      <td>1.000</td>\n",
       "      <td>-0.364</td>\n",
       "      <td>-0.001</td>\n",
       "      <td>0.279</td>\n",
       "      <td>0.444</td>\n",
       "      <td>-0.330</td>\n",
       "      <td>-0.330</td>\n",
       "    </tr>\n",
       "    <tr>\n",
       "      <th>FEAT_CODE</th>\n",
       "      <td>0.190</td>\n",
       "      <td>-0.001</td>\n",
       "      <td>0.551</td>\n",
       "      <td>-0.364</td>\n",
       "      <td>1.000</td>\n",
       "      <td>0.001</td>\n",
       "      <td>-0.108</td>\n",
       "      <td>-0.311</td>\n",
       "      <td>0.089</td>\n",
       "      <td>0.089</td>\n",
       "    </tr>\n",
       "    <tr>\n",
       "      <th>GROUNDELEV</th>\n",
       "      <td>0.087</td>\n",
       "      <td>0.001</td>\n",
       "      <td>-0.017</td>\n",
       "      <td>-0.001</td>\n",
       "      <td>0.001</td>\n",
       "      <td>1.000</td>\n",
       "      <td>-0.020</td>\n",
       "      <td>-0.005</td>\n",
       "      <td>0.106</td>\n",
       "      <td>0.106</td>\n",
       "    </tr>\n",
       "    <tr>\n",
       "      <th>SHAPE_AREA</th>\n",
       "      <td>-0.101</td>\n",
       "      <td>-0.000</td>\n",
       "      <td>-0.038</td>\n",
       "      <td>0.279</td>\n",
       "      <td>-0.108</td>\n",
       "      <td>-0.020</td>\n",
       "      <td>1.000</td>\n",
       "      <td>0.785</td>\n",
       "      <td>-0.096</td>\n",
       "      <td>-0.096</td>\n",
       "    </tr>\n",
       "    <tr>\n",
       "      <th>SHAPE_LEN</th>\n",
       "      <td>-0.216</td>\n",
       "      <td>-0.001</td>\n",
       "      <td>-0.161</td>\n",
       "      <td>0.444</td>\n",
       "      <td>-0.311</td>\n",
       "      <td>-0.005</td>\n",
       "      <td>0.785</td>\n",
       "      <td>1.000</td>\n",
       "      <td>-0.191</td>\n",
       "      <td>-0.191</td>\n",
       "    </tr>\n",
       "    <tr>\n",
       "      <th>BASE_BBL</th>\n",
       "      <td>0.989</td>\n",
       "      <td>0.002</td>\n",
       "      <td>0.076</td>\n",
       "      <td>-0.330</td>\n",
       "      <td>0.089</td>\n",
       "      <td>0.106</td>\n",
       "      <td>-0.096</td>\n",
       "      <td>-0.191</td>\n",
       "      <td>1.000</td>\n",
       "      <td>1.000</td>\n",
       "    </tr>\n",
       "    <tr>\n",
       "      <th>MPLUTO_BBL</th>\n",
       "      <td>0.989</td>\n",
       "      <td>0.002</td>\n",
       "      <td>0.075</td>\n",
       "      <td>-0.330</td>\n",
       "      <td>0.089</td>\n",
       "      <td>0.106</td>\n",
       "      <td>-0.096</td>\n",
       "      <td>-0.191</td>\n",
       "      <td>1.000</td>\n",
       "      <td>1.000</td>\n",
       "    </tr>\n",
       "  </tbody>\n",
       "</table>\n",
       "</div>"
      ],
      "text/plain": [
       "              BIN  CNSTRCT_YR  DOITT_ID  HEIGHTROOF  FEAT_CODE  GROUNDELEV  \\\n",
       "BIN         1.000       0.002     0.156      -0.361      0.190       0.087   \n",
       "CNSTRCT_YR  0.002       1.000     0.002       0.001     -0.001       0.001   \n",
       "DOITT_ID    0.156       0.002     1.000      -0.177      0.551      -0.017   \n",
       "HEIGHTROOF -0.361       0.001    -0.177       1.000     -0.364      -0.001   \n",
       "FEAT_CODE   0.190      -0.001     0.551      -0.364      1.000       0.001   \n",
       "GROUNDELEV  0.087       0.001    -0.017      -0.001      0.001       1.000   \n",
       "SHAPE_AREA -0.101      -0.000    -0.038       0.279     -0.108      -0.020   \n",
       "SHAPE_LEN  -0.216      -0.001    -0.161       0.444     -0.311      -0.005   \n",
       "BASE_BBL    0.989       0.002     0.076      -0.330      0.089       0.106   \n",
       "MPLUTO_BBL  0.989       0.002     0.075      -0.330      0.089       0.106   \n",
       "\n",
       "            SHAPE_AREA  SHAPE_LEN  BASE_BBL  MPLUTO_BBL  \n",
       "BIN             -0.101     -0.216     0.989       0.989  \n",
       "CNSTRCT_YR      -0.000     -0.001     0.002       0.002  \n",
       "DOITT_ID        -0.038     -0.161     0.076       0.075  \n",
       "HEIGHTROOF       0.279      0.444    -0.330      -0.330  \n",
       "FEAT_CODE       -0.108     -0.311     0.089       0.089  \n",
       "GROUNDELEV      -0.020     -0.005     0.106       0.106  \n",
       "SHAPE_AREA       1.000      0.785    -0.096      -0.096  \n",
       "SHAPE_LEN        0.785      1.000    -0.191      -0.191  \n",
       "BASE_BBL        -0.096     -0.191     1.000       1.000  \n",
       "MPLUTO_BBL      -0.096     -0.191     1.000       1.000  "
      ]
     },
     "execution_count": 608,
     "metadata": {},
     "output_type": "execute_result"
    }
   ],
   "source": [
    "# compute pairwise correlation of columns, excluding NA/null values\n",
    "building_footprints.corr()"
   ]
  },
  {
   "cell_type": "markdown",
   "metadata": {},
   "source": [
    "## 3.3 Identifying Null/NA Values"
   ]
  },
  {
   "cell_type": "code",
   "execution_count": 609,
   "metadata": {},
   "outputs": [
    {
     "data": {
      "text/plain": [
       "BIN                 0\n",
       "NAME          1083152\n",
       "CNSTRCT_YR       4881\n",
       "the_geom            0\n",
       "LSTMODDATE          0\n",
       "LSTSTATYPE        187\n",
       "DOITT_ID            0\n",
       "HEIGHTROOF       2664\n",
       "FEAT_CODE           9\n",
       "GROUNDELEV        527\n",
       "SHAPE_AREA          0\n",
       "SHAPE_LEN           0\n",
       "BASE_BBL            2\n",
       "MPLUTO_BBL        563\n",
       "GEOMSOURCE        216\n",
       "dtype: int64"
      ]
     },
     "execution_count": 609,
     "metadata": {},
     "output_type": "execute_result"
    }
   ],
   "source": [
    "# printing the number of null/na values in each column\n",
    "building_footprints.isna().sum()"
   ]
  },
  {
   "cell_type": "code",
   "execution_count": 610,
   "metadata": {},
   "outputs": [
    {
     "data": {
      "text/plain": [
       "1092201"
      ]
     },
     "execution_count": 610,
     "metadata": {},
     "output_type": "execute_result"
    }
   ],
   "source": [
    "# printing the total amount of null/na values in our data\n",
    "building_footprints.isnull().sum().sum()"
   ]
  },
  {
   "cell_type": "markdown",
   "metadata": {},
   "source": [
    "# 4. Data Cleaning & Wrangling"
   ]
  },
  {
   "cell_type": "markdown",
   "metadata": {},
   "source": [
    "We will be cleaning the **Construction Year** (i.e. CNSTRCT_YR) column, as this is the column we will be using in our analysis."
   ]
  },
  {
   "cell_type": "markdown",
   "metadata": {},
   "source": [
    "## 4.1 Previewing Column Values"
   ]
  },
  {
   "cell_type": "code",
   "execution_count": 611,
   "metadata": {},
   "outputs": [
    {
     "data": {
      "text/plain": [
       "pandas.core.series.Series"
      ]
     },
     "execution_count": 611,
     "metadata": {},
     "output_type": "execute_result"
    }
   ],
   "source": [
    "# printing the object's type\n",
    "type(building_footprints['CNSTRCT_YR'])"
   ]
  },
  {
   "cell_type": "code",
   "execution_count": 612,
   "metadata": {},
   "outputs": [
    {
     "data": {
      "text/html": [
       "<div>\n",
       "<style scoped>\n",
       "    .dataframe tbody tr th:only-of-type {\n",
       "        vertical-align: middle;\n",
       "    }\n",
       "\n",
       "    .dataframe tbody tr th {\n",
       "        vertical-align: top;\n",
       "    }\n",
       "\n",
       "    .dataframe thead th {\n",
       "        text-align: right;\n",
       "    }\n",
       "</style>\n",
       "<table border=\"1\" class=\"dataframe\">\n",
       "  <thead>\n",
       "    <tr style=\"text-align: right;\">\n",
       "      <th></th>\n",
       "      <th>BIN</th>\n",
       "      <th>NAME</th>\n",
       "      <th>CNSTRCT_YR</th>\n",
       "      <th>the_geom</th>\n",
       "      <th>LSTMODDATE</th>\n",
       "      <th>LSTSTATYPE</th>\n",
       "      <th>DOITT_ID</th>\n",
       "      <th>HEIGHTROOF</th>\n",
       "      <th>FEAT_CODE</th>\n",
       "      <th>GROUNDELEV</th>\n",
       "      <th>SHAPE_AREA</th>\n",
       "      <th>SHAPE_LEN</th>\n",
       "      <th>BASE_BBL</th>\n",
       "      <th>MPLUTO_BBL</th>\n",
       "      <th>GEOMSOURCE</th>\n",
       "    </tr>\n",
       "  </thead>\n",
       "  <tbody>\n",
       "    <tr>\n",
       "      <th>79745</th>\n",
       "      <td>3422914</td>\n",
       "      <td>NaN</td>\n",
       "      <td>0.000</td>\n",
       "      <td>MULTIPOLYGON (((-73.95012768948108 40.64148246...</td>\n",
       "      <td>12/07/2018 12:00:00 AM +0000</td>\n",
       "      <td>Constructed</td>\n",
       "      <td>1257530</td>\n",
       "      <td>33.037</td>\n",
       "      <td>2100.000</td>\n",
       "      <td>24.000</td>\n",
       "      <td>1116.319</td>\n",
       "      <td>151.602</td>\n",
       "      <td>3051940156.000</td>\n",
       "      <td>3051940156.000</td>\n",
       "      <td>Other (Man</td>\n",
       "    </tr>\n",
       "    <tr>\n",
       "      <th>747096</th>\n",
       "      <td>4198384</td>\n",
       "      <td>NaN</td>\n",
       "      <td>0.000</td>\n",
       "      <td>MULTIPOLYGON (((-73.8403075449343 40.685236442...</td>\n",
       "      <td>08/22/2017 12:00:00 AM +0000</td>\n",
       "      <td>Constructed</td>\n",
       "      <td>113232</td>\n",
       "      <td>28.500</td>\n",
       "      <td>2100.000</td>\n",
       "      <td>39.000</td>\n",
       "      <td>1628.253</td>\n",
       "      <td>184.346</td>\n",
       "      <td>4094200011.000</td>\n",
       "      <td>4094200011.000</td>\n",
       "      <td>Photogramm</td>\n",
       "    </tr>\n",
       "    <tr>\n",
       "      <th>113382</th>\n",
       "      <td>3338279</td>\n",
       "      <td>NaN</td>\n",
       "      <td>0.000</td>\n",
       "      <td>MULTIPOLYGON (((-73.93081689287352 40.71932713...</td>\n",
       "      <td>07/11/2014 12:00:00 AM +0000</td>\n",
       "      <td>Constructed</td>\n",
       "      <td>1261764</td>\n",
       "      <td>11.445</td>\n",
       "      <td>2100.000</td>\n",
       "      <td>13.000</td>\n",
       "      <td>320.841</td>\n",
       "      <td>80.736</td>\n",
       "      <td>3028370001.000</td>\n",
       "      <td>3028370001.000</td>\n",
       "      <td>NaN</td>\n",
       "    </tr>\n",
       "    <tr>\n",
       "      <th>1057911</th>\n",
       "      <td>3385481</td>\n",
       "      <td>NaN</td>\n",
       "      <td>0.000</td>\n",
       "      <td>MULTIPOLYGON (((-73.97264072289283 40.59654906...</td>\n",
       "      <td>01/22/2019 12:00:00 AM +0000</td>\n",
       "      <td>Constructed</td>\n",
       "      <td>1089240</td>\n",
       "      <td>71.070</td>\n",
       "      <td>2100.000</td>\n",
       "      <td>19.000</td>\n",
       "      <td>9547.582</td>\n",
       "      <td>451.707</td>\n",
       "      <td>3071240039.000</td>\n",
       "      <td>3071247501.000</td>\n",
       "      <td>Other (Man</td>\n",
       "    </tr>\n",
       "    <tr>\n",
       "      <th>1084403</th>\n",
       "      <td>4623054</td>\n",
       "      <td>NaN</td>\n",
       "      <td>0.000</td>\n",
       "      <td>MULTIPOLYGON (((-73.89231819008918 40.78103738...</td>\n",
       "      <td>08/11/2020 12:00:00 AM +0000</td>\n",
       "      <td>Constructed</td>\n",
       "      <td>1076497</td>\n",
       "      <td>16.160</td>\n",
       "      <td>2100.000</td>\n",
       "      <td>12.000</td>\n",
       "      <td>2972.372</td>\n",
       "      <td>232.834</td>\n",
       "      <td>4007760150.000</td>\n",
       "      <td>4007760150.000</td>\n",
       "      <td>Photogramm</td>\n",
       "    </tr>\n",
       "  </tbody>\n",
       "</table>\n",
       "</div>"
      ],
      "text/plain": [
       "             BIN NAME  CNSTRCT_YR  \\\n",
       "79745    3422914  NaN       0.000   \n",
       "747096   4198384  NaN       0.000   \n",
       "113382   3338279  NaN       0.000   \n",
       "1057911  3385481  NaN       0.000   \n",
       "1084403  4623054  NaN       0.000   \n",
       "\n",
       "                                                  the_geom  \\\n",
       "79745    MULTIPOLYGON (((-73.95012768948108 40.64148246...   \n",
       "747096   MULTIPOLYGON (((-73.8403075449343 40.685236442...   \n",
       "113382   MULTIPOLYGON (((-73.93081689287352 40.71932713...   \n",
       "1057911  MULTIPOLYGON (((-73.97264072289283 40.59654906...   \n",
       "1084403  MULTIPOLYGON (((-73.89231819008918 40.78103738...   \n",
       "\n",
       "                           LSTMODDATE   LSTSTATYPE  DOITT_ID  HEIGHTROOF  \\\n",
       "79745    12/07/2018 12:00:00 AM +0000  Constructed   1257530      33.037   \n",
       "747096   08/22/2017 12:00:00 AM +0000  Constructed    113232      28.500   \n",
       "113382   07/11/2014 12:00:00 AM +0000  Constructed   1261764      11.445   \n",
       "1057911  01/22/2019 12:00:00 AM +0000  Constructed   1089240      71.070   \n",
       "1084403  08/11/2020 12:00:00 AM +0000  Constructed   1076497      16.160   \n",
       "\n",
       "         FEAT_CODE  GROUNDELEV  SHAPE_AREA  SHAPE_LEN       BASE_BBL  \\\n",
       "79745     2100.000      24.000    1116.319    151.602 3051940156.000   \n",
       "747096    2100.000      39.000    1628.253    184.346 4094200011.000   \n",
       "113382    2100.000      13.000     320.841     80.736 3028370001.000   \n",
       "1057911   2100.000      19.000    9547.582    451.707 3071240039.000   \n",
       "1084403   2100.000      12.000    2972.372    232.834 4007760150.000   \n",
       "\n",
       "            MPLUTO_BBL  GEOMSOURCE  \n",
       "79745   3051940156.000  Other (Man  \n",
       "747096  4094200011.000  Photogramm  \n",
       "113382  3028370001.000         NaN  \n",
       "1057911 3071247501.000  Other (Man  \n",
       "1084403 4007760150.000  Photogramm  "
      ]
     },
     "execution_count": 612,
     "metadata": {},
     "output_type": "execute_result"
    }
   ],
   "source": [
    "# printing the first five rows of our data sorted by the 'CNSTRCT_YR' column in ascending order\n",
    "building_footprints.sort_values('CNSTRCT_YR').head()"
   ]
  },
  {
   "cell_type": "code",
   "execution_count": 613,
   "metadata": {},
   "outputs": [
    {
     "data": {
      "text/html": [
       "<div>\n",
       "<style scoped>\n",
       "    .dataframe tbody tr th:only-of-type {\n",
       "        vertical-align: middle;\n",
       "    }\n",
       "\n",
       "    .dataframe tbody tr th {\n",
       "        vertical-align: top;\n",
       "    }\n",
       "\n",
       "    .dataframe thead th {\n",
       "        text-align: right;\n",
       "    }\n",
       "</style>\n",
       "<table border=\"1\" class=\"dataframe\">\n",
       "  <thead>\n",
       "    <tr style=\"text-align: right;\">\n",
       "      <th></th>\n",
       "      <th>BIN</th>\n",
       "      <th>NAME</th>\n",
       "      <th>CNSTRCT_YR</th>\n",
       "      <th>the_geom</th>\n",
       "      <th>LSTMODDATE</th>\n",
       "      <th>LSTSTATYPE</th>\n",
       "      <th>DOITT_ID</th>\n",
       "      <th>HEIGHTROOF</th>\n",
       "      <th>FEAT_CODE</th>\n",
       "      <th>GROUNDELEV</th>\n",
       "      <th>SHAPE_AREA</th>\n",
       "      <th>SHAPE_LEN</th>\n",
       "      <th>BASE_BBL</th>\n",
       "      <th>MPLUTO_BBL</th>\n",
       "      <th>GEOMSOURCE</th>\n",
       "    </tr>\n",
       "  </thead>\n",
       "  <tbody>\n",
       "    <tr>\n",
       "      <th>1056530</th>\n",
       "      <td>5171292</td>\n",
       "      <td>NaN</td>\n",
       "      <td>19999979.000</td>\n",
       "      <td>MULTIPOLYGON (((-74.16106976376206 40.58166589...</td>\n",
       "      <td>01/22/2019 12:00:00 AM +0000</td>\n",
       "      <td>Constructed</td>\n",
       "      <td>1287742</td>\n",
       "      <td>43.530</td>\n",
       "      <td>2100.000</td>\n",
       "      <td>68.000</td>\n",
       "      <td>347.825</td>\n",
       "      <td>75.359</td>\n",
       "      <td>5024500240.000</td>\n",
       "      <td>5024507505.000</td>\n",
       "      <td>Other (Man</td>\n",
       "    </tr>\n",
       "    <tr>\n",
       "      <th>840953</th>\n",
       "      <td>5165187</td>\n",
       "      <td>NaN</td>\n",
       "      <td>20115.000</td>\n",
       "      <td>MULTIPOLYGON (((-74.144838646532 40.6162472403...</td>\n",
       "      <td>12/05/2019 12:00:00 AM +0000</td>\n",
       "      <td>Constructed</td>\n",
       "      <td>1291251</td>\n",
       "      <td>31.000</td>\n",
       "      <td>2100.000</td>\n",
       "      <td>40.000</td>\n",
       "      <td>1124.997</td>\n",
       "      <td>140.000</td>\n",
       "      <td>5004770044.000</td>\n",
       "      <td>5004770044.000</td>\n",
       "      <td>Other (Man</td>\n",
       "    </tr>\n",
       "    <tr>\n",
       "      <th>518159</th>\n",
       "      <td>5018663</td>\n",
       "      <td>NaN</td>\n",
       "      <td>20004.000</td>\n",
       "      <td>MULTIPOLYGON (((-74.13682929776881 40.61168969...</td>\n",
       "      <td>08/16/2019 12:00:00 AM +0000</td>\n",
       "      <td>Constructed</td>\n",
       "      <td>1288905</td>\n",
       "      <td>28.400</td>\n",
       "      <td>2100.000</td>\n",
       "      <td>89.000</td>\n",
       "      <td>702.366</td>\n",
       "      <td>127.117</td>\n",
       "      <td>5007350170.000</td>\n",
       "      <td>5007350170.000</td>\n",
       "      <td>Other (Man</td>\n",
       "    </tr>\n",
       "    <tr>\n",
       "      <th>743206</th>\n",
       "      <td>1082416</td>\n",
       "      <td>NaN</td>\n",
       "      <td>20000.000</td>\n",
       "      <td>MULTIPOLYGON (((-73.988920998115 40.7645846572...</td>\n",
       "      <td>03/09/2018 12:00:00 AM +0000</td>\n",
       "      <td>Alteration</td>\n",
       "      <td>97464</td>\n",
       "      <td>74.210</td>\n",
       "      <td>2100.000</td>\n",
       "      <td>52.000</td>\n",
       "      <td>3678.718</td>\n",
       "      <td>298.770</td>\n",
       "      <td>1010610027.000</td>\n",
       "      <td>1010610027.000</td>\n",
       "      <td>Other (Man</td>\n",
       "    </tr>\n",
       "    <tr>\n",
       "      <th>64079</th>\n",
       "      <td>2129310</td>\n",
       "      <td>NaN</td>\n",
       "      <td>20000.000</td>\n",
       "      <td>MULTIPOLYGON (((-73.90852861892834 40.82877161...</td>\n",
       "      <td>11/05/2018 12:00:00 AM +0000</td>\n",
       "      <td>Constructed</td>\n",
       "      <td>1285830</td>\n",
       "      <td>10.000</td>\n",
       "      <td>1000.000</td>\n",
       "      <td>32.000</td>\n",
       "      <td>373.099</td>\n",
       "      <td>86.566</td>\n",
       "      <td>2023880061.000</td>\n",
       "      <td>2023880061.000</td>\n",
       "      <td>Other (Man</td>\n",
       "    </tr>\n",
       "  </tbody>\n",
       "</table>\n",
       "</div>"
      ],
      "text/plain": [
       "             BIN NAME   CNSTRCT_YR  \\\n",
       "1056530  5171292  NaN 19999979.000   \n",
       "840953   5165187  NaN    20115.000   \n",
       "518159   5018663  NaN    20004.000   \n",
       "743206   1082416  NaN    20000.000   \n",
       "64079    2129310  NaN    20000.000   \n",
       "\n",
       "                                                  the_geom  \\\n",
       "1056530  MULTIPOLYGON (((-74.16106976376206 40.58166589...   \n",
       "840953   MULTIPOLYGON (((-74.144838646532 40.6162472403...   \n",
       "518159   MULTIPOLYGON (((-74.13682929776881 40.61168969...   \n",
       "743206   MULTIPOLYGON (((-73.988920998115 40.7645846572...   \n",
       "64079    MULTIPOLYGON (((-73.90852861892834 40.82877161...   \n",
       "\n",
       "                           LSTMODDATE   LSTSTATYPE  DOITT_ID  HEIGHTROOF  \\\n",
       "1056530  01/22/2019 12:00:00 AM +0000  Constructed   1287742      43.530   \n",
       "840953   12/05/2019 12:00:00 AM +0000  Constructed   1291251      31.000   \n",
       "518159   08/16/2019 12:00:00 AM +0000  Constructed   1288905      28.400   \n",
       "743206   03/09/2018 12:00:00 AM +0000   Alteration     97464      74.210   \n",
       "64079    11/05/2018 12:00:00 AM +0000  Constructed   1285830      10.000   \n",
       "\n",
       "         FEAT_CODE  GROUNDELEV  SHAPE_AREA  SHAPE_LEN       BASE_BBL  \\\n",
       "1056530   2100.000      68.000     347.825     75.359 5024500240.000   \n",
       "840953    2100.000      40.000    1124.997    140.000 5004770044.000   \n",
       "518159    2100.000      89.000     702.366    127.117 5007350170.000   \n",
       "743206    2100.000      52.000    3678.718    298.770 1010610027.000   \n",
       "64079     1000.000      32.000     373.099     86.566 2023880061.000   \n",
       "\n",
       "            MPLUTO_BBL  GEOMSOURCE  \n",
       "1056530 5024507505.000  Other (Man  \n",
       "840953  5004770044.000  Other (Man  \n",
       "518159  5007350170.000  Other (Man  \n",
       "743206  1010610027.000  Other (Man  \n",
       "64079   2023880061.000  Other (Man  "
      ]
     },
     "execution_count": 613,
     "metadata": {},
     "output_type": "execute_result"
    }
   ],
   "source": [
    "# printing the first five rows of our data sorted by the 'CNSTRCT_YR' column in descending order\n",
    "building_footprints.sort_values('CNSTRCT_YR',ascending=False).head()"
   ]
  },
  {
   "cell_type": "code",
   "execution_count": 614,
   "metadata": {},
   "outputs": [
    {
     "data": {
      "text/html": [
       "<div>\n",
       "<style scoped>\n",
       "    .dataframe tbody tr th:only-of-type {\n",
       "        vertical-align: middle;\n",
       "    }\n",
       "\n",
       "    .dataframe tbody tr th {\n",
       "        vertical-align: top;\n",
       "    }\n",
       "\n",
       "    .dataframe thead th {\n",
       "        text-align: right;\n",
       "    }\n",
       "</style>\n",
       "<table border=\"1\" class=\"dataframe\">\n",
       "  <thead>\n",
       "    <tr style=\"text-align: right;\">\n",
       "      <th></th>\n",
       "      <th>index</th>\n",
       "      <th>CNSTRCT_YR</th>\n",
       "    </tr>\n",
       "  </thead>\n",
       "  <tbody>\n",
       "    <tr>\n",
       "      <th>0</th>\n",
       "      <td>count</td>\n",
       "      <td>1080023.000</td>\n",
       "    </tr>\n",
       "    <tr>\n",
       "      <th>1</th>\n",
       "      <td>mean</td>\n",
       "      <td>1946.647</td>\n",
       "    </tr>\n",
       "    <tr>\n",
       "      <th>2</th>\n",
       "      <td>std</td>\n",
       "      <td>19243.534</td>\n",
       "    </tr>\n",
       "    <tr>\n",
       "      <th>3</th>\n",
       "      <td>min</td>\n",
       "      <td>0.000</td>\n",
       "    </tr>\n",
       "    <tr>\n",
       "      <th>4</th>\n",
       "      <td>25%</td>\n",
       "      <td>1920.000</td>\n",
       "    </tr>\n",
       "    <tr>\n",
       "      <th>5</th>\n",
       "      <td>50%</td>\n",
       "      <td>1930.000</td>\n",
       "    </tr>\n",
       "    <tr>\n",
       "      <th>6</th>\n",
       "      <td>75%</td>\n",
       "      <td>1955.000</td>\n",
       "    </tr>\n",
       "    <tr>\n",
       "      <th>7</th>\n",
       "      <td>max</td>\n",
       "      <td>19999979.000</td>\n",
       "    </tr>\n",
       "  </tbody>\n",
       "</table>\n",
       "</div>"
      ],
      "text/plain": [
       "   index   CNSTRCT_YR\n",
       "0  count  1080023.000\n",
       "1   mean     1946.647\n",
       "2    std    19243.534\n",
       "3    min        0.000\n",
       "4    25%     1920.000\n",
       "5    50%     1930.000\n",
       "6    75%     1955.000\n",
       "7    max 19999979.000"
      ]
     },
     "execution_count": 614,
     "metadata": {},
     "output_type": "execute_result"
    }
   ],
   "source": [
    "# Descriptive statistics include those that summarize the central tendency, \n",
    "# dispersion and shape of a dataset's distribution, excluding ``NaN`` values.\n",
    "# reset index for readability.\n",
    "building_footprints['CNSTRCT_YR'].describe().reset_index()"
   ]
  },
  {
   "cell_type": "code",
   "execution_count": 615,
   "metadata": {},
   "outputs": [
    {
     "data": {
      "text/html": [
       "<div>\n",
       "<style scoped>\n",
       "    .dataframe tbody tr th:only-of-type {\n",
       "        vertical-align: middle;\n",
       "    }\n",
       "\n",
       "    .dataframe tbody tr th {\n",
       "        vertical-align: top;\n",
       "    }\n",
       "\n",
       "    .dataframe thead th {\n",
       "        text-align: right;\n",
       "    }\n",
       "</style>\n",
       "<table border=\"1\" class=\"dataframe\">\n",
       "  <thead>\n",
       "    <tr style=\"text-align: right;\">\n",
       "      <th></th>\n",
       "      <th>index</th>\n",
       "      <th>0</th>\n",
       "    </tr>\n",
       "  </thead>\n",
       "  <tbody>\n",
       "    <tr>\n",
       "      <th>0</th>\n",
       "      <td>0</td>\n",
       "      <td>1920.000</td>\n",
       "    </tr>\n",
       "  </tbody>\n",
       "</table>\n",
       "</div>"
      ],
      "text/plain": [
       "   index        0\n",
       "0      0 1920.000"
      ]
     },
     "execution_count": 615,
     "metadata": {},
     "output_type": "execute_result"
    }
   ],
   "source": [
    "# printing the mode of our 'CNSTRCT_YR' column.\n",
    "building_footprints['CNSTRCT_YR'].mode().reset_index()"
   ]
  },
  {
   "cell_type": "code",
   "execution_count": 616,
   "metadata": {},
   "outputs": [
    {
     "data": {
      "text/plain": [
       "True"
      ]
     },
     "execution_count": 616,
     "metadata": {},
     "output_type": "execute_result"
    }
   ],
   "source": [
    "# detecting any nulls in our 'CNSTRCT_YR' column.\n",
    "building_footprints['CNSTRCT_YR'].isnull().values.any()"
   ]
  },
  {
   "cell_type": "code",
   "execution_count": 617,
   "metadata": {},
   "outputs": [
    {
     "data": {
      "text/plain": [
       "4881"
      ]
     },
     "execution_count": 617,
     "metadata": {},
     "output_type": "execute_result"
    }
   ],
   "source": [
    "# summing all the null/na values in our 'CNSTRCT_YR' column.\n",
    "building_footprints['CNSTRCT_YR'].isna().sum()"
   ]
  },
  {
   "cell_type": "code",
   "execution_count": 618,
   "metadata": {},
   "outputs": [
    {
     "data": {
      "text/plain": [
       "1080023"
      ]
     },
     "execution_count": 618,
     "metadata": {},
     "output_type": "execute_result"
    }
   ],
   "source": [
    "# summing all the not null/na values in our 'CNSTRCT_YR' column.\n",
    "building_footprints['CNSTRCT_YR'].notnull().sum()"
   ]
  },
  {
   "cell_type": "code",
   "execution_count": 619,
   "metadata": {},
   "outputs": [
    {
     "name": "stdout",
     "output_type": "stream",
     "text": [
      "0.45 %\n"
     ]
    }
   ],
   "source": [
    "# printing the percent total of all the null/na values in our 'CNSTRCT_YR' column.\n",
    "print((building_footprints['CNSTRCT_YR'].isna().sum()*100/len(building_footprints)).round(2),'%')"
   ]
  },
  {
   "cell_type": "code",
   "execution_count": 620,
   "metadata": {},
   "outputs": [
    {
     "name": "stdout",
     "output_type": "stream",
     "text": [
      "99.55 %\n"
     ]
    }
   ],
   "source": [
    "# printing the percent total of all the not null/na values in our 'CNSTRCT_YR' column.\n",
    "print((building_footprints['CNSTRCT_YR'].notnull().sum()*100/len(building_footprints)).round(2), '%')"
   ]
  },
  {
   "cell_type": "markdown",
   "metadata": {},
   "source": [
    "## 4.2 Identifying Outliers in Column"
   ]
  },
  {
   "cell_type": "code",
   "execution_count": 621,
   "metadata": {},
   "outputs": [
    {
     "data": {
      "image/png": "[encoded data removed]",
      "text/plain": [
       "<Figure size 1080x720 with 1 Axes>"
      ]
     },
     "metadata": {
      "needs_background": "light"
     },
     "output_type": "display_data"
    }
   ],
   "source": [
    "# making a histogram of our 'CNSTRCT_YR' column with 25 bins.\n",
    "building_footprints['CNSTRCT_YR'].hist(figsize=(15,10), bins=25)\n",
    "\n",
    "plt.xlabel('Construction Year', fontsize=15) # adding x-label\n",
    "plt.ylabel('Counts', fontsize=15) # adding y-label\n",
    "plt.title('Histogram of Construction Year Values', fontsize=15) # adding histogram title\n",
    "plt.savefig('figures/fig-1.png')"
   ]
  },
  {
   "cell_type": "code",
   "execution_count": 622,
   "metadata": {},
   "outputs": [
    {
     "data": {
      "text/plain": [
       "Text(0.5, 1.0, 'Histogram of Construction Year Values')"
      ]
     },
     "execution_count": 622,
     "metadata": {},
     "output_type": "execute_result"
    },
    {
     "data": {
      "image/png": "[encoded data removed]",
      "text/plain": [
       "<Figure size 1080x720 with 1 Axes>"
      ]
     },
     "metadata": {
      "needs_background": "light"
     },
     "output_type": "display_data"
    }
   ],
   "source": [
    "# making a histogram of our 'CNSTRCT_YR' column with 50 bins\n",
    "building_footprints['CNSTRCT_YR'].hist(figsize=(15,10), bins=50)\n",
    "\n",
    "plt.xlabel('Construction Year', fontsize=15)\n",
    "plt.ylabel('Counts', fontsize=15)\n",
    "plt.title('Histogram of Construction Year Values', fontsize=15)"
   ]
  },
  {
   "cell_type": "code",
   "execution_count": 623,
   "metadata": {},
   "outputs": [
    {
     "data": {
      "text/plain": [
       "1920.000        131426\n",
       "1930.000        113689\n",
       "1925.000        109684\n",
       "1950.000         63001\n",
       "1910.000         52929\n",
       "                 ...  \n",
       "202.000              1\n",
       "1803.000             1\n",
       "1809.000             1\n",
       "1811.000             1\n",
       "19999979.000         1\n",
       "Name: CNSTRCT_YR, Length: 252, dtype: int64"
      ]
     },
     "execution_count": 623,
     "metadata": {},
     "output_type": "execute_result"
    }
   ],
   "source": [
    "# prints the counts of values in our 'CNSTRCT_YR' column in descending order.\n",
    "building_footprints['CNSTRCT_YR'].value_counts()"
   ]
  },
  {
   "cell_type": "code",
   "execution_count": 624,
   "metadata": {},
   "outputs": [
    {
     "data": {
      "text/plain": [
       "0.000           6140\n",
       "202.000            1\n",
       "1652.000           1\n",
       "1661.000           2\n",
       "1665.000           1\n",
       "                ... \n",
       "2020.000         479\n",
       "20000.000          2\n",
       "20004.000          1\n",
       "20115.000          1\n",
       "19999979.000       1\n",
       "Name: CNSTRCT_YR, Length: 252, dtype: int64"
      ]
     },
     "execution_count": 624,
     "metadata": {},
     "output_type": "execute_result"
    }
   ],
   "source": [
    "# prints the counts of values in our 'CNSTRCT_YR' column sorted by the index ascending order.\n",
    "building_footprints['CNSTRCT_YR'].value_counts().sort_index()"
   ]
  },
  {
   "cell_type": "code",
   "execution_count": 625,
   "metadata": {},
   "outputs": [
    {
     "data": {
      "text/plain": [
       "0.000       6140\n",
       "202.000        1\n",
       "1652.000       1\n",
       "1661.000       2\n",
       "1665.000       1\n",
       "1680.000       1\n",
       "1690.000       1\n",
       "1694.000       1\n",
       "1706.000       2\n",
       "1719.000       1\n",
       "Name: CNSTRCT_YR, dtype: int64"
      ]
     },
     "execution_count": 625,
     "metadata": {},
     "output_type": "execute_result"
    }
   ],
   "source": [
    "# prints the first ten rows of the counts of values in our 'CNSTRCT_YR' column \n",
    "# sorted by the index ascending order.\n",
    "building_footprints['CNSTRCT_YR'].value_counts().sort_index(ascending=True).head(10)"
   ]
  },
  {
   "cell_type": "code",
   "execution_count": 626,
   "metadata": {},
   "outputs": [
    {
     "data": {
      "text/plain": [
       "19999979.000       1\n",
       "20115.000          1\n",
       "20004.000          1\n",
       "20000.000          2\n",
       "2020.000         479\n",
       "2019.000         802\n",
       "2018.000        2050\n",
       "2017.000        1866\n",
       "2016.000        1743\n",
       "2015.000        1034\n",
       "Name: CNSTRCT_YR, dtype: int64"
      ]
     },
     "execution_count": 626,
     "metadata": {},
     "output_type": "execute_result"
    }
   ],
   "source": [
    "# prints the first ten rows of the counts of values in our 'CNSTRCT_YR' column \n",
    "# sorted by the index descending order.\n",
    "building_footprints['CNSTRCT_YR'].value_counts().sort_index(ascending=False).head(10)"
   ]
  },
  {
   "cell_type": "markdown",
   "metadata": {},
   "source": [
    "# Attempting to identify the oldest building in the dataset"
   ]
  },
  {
   "cell_type": "code",
   "execution_count": 627,
   "metadata": {},
   "outputs": [
    {
     "data": {
      "text/html": [
       "<div>\n",
       "<style scoped>\n",
       "    .dataframe tbody tr th:only-of-type {\n",
       "        vertical-align: middle;\n",
       "    }\n",
       "\n",
       "    .dataframe tbody tr th {\n",
       "        vertical-align: top;\n",
       "    }\n",
       "\n",
       "    .dataframe thead th {\n",
       "        text-align: right;\n",
       "    }\n",
       "</style>\n",
       "<table border=\"1\" class=\"dataframe\">\n",
       "  <thead>\n",
       "    <tr style=\"text-align: right;\">\n",
       "      <th></th>\n",
       "      <th>BIN</th>\n",
       "      <th>NAME</th>\n",
       "      <th>CNSTRCT_YR</th>\n",
       "      <th>the_geom</th>\n",
       "      <th>LSTMODDATE</th>\n",
       "      <th>LSTSTATYPE</th>\n",
       "      <th>DOITT_ID</th>\n",
       "      <th>HEIGHTROOF</th>\n",
       "      <th>FEAT_CODE</th>\n",
       "      <th>GROUNDELEV</th>\n",
       "      <th>SHAPE_AREA</th>\n",
       "      <th>SHAPE_LEN</th>\n",
       "      <th>BASE_BBL</th>\n",
       "      <th>MPLUTO_BBL</th>\n",
       "      <th>GEOMSOURCE</th>\n",
       "    </tr>\n",
       "  </thead>\n",
       "  <tbody>\n",
       "    <tr>\n",
       "      <th>883039</th>\n",
       "      <td>4459549</td>\n",
       "      <td>203</td>\n",
       "      <td>0.000</td>\n",
       "      <td>MULTIPOLYGON (((-73.80700601312394 40.66313828...</td>\n",
       "      <td>08/22/2017 12:00:00 AM +0000</td>\n",
       "      <td>Constructed</td>\n",
       "      <td>522064</td>\n",
       "      <td>42.708</td>\n",
       "      <td>2100.000</td>\n",
       "      <td>15.000</td>\n",
       "      <td>26587.245</td>\n",
       "      <td>855.637</td>\n",
       "      <td>4119000002.000</td>\n",
       "      <td>4119000002.000</td>\n",
       "      <td>Photogramm</td>\n",
       "    </tr>\n",
       "    <tr>\n",
       "      <th>1084418</th>\n",
       "      <td>2118153</td>\n",
       "      <td>Building 126</td>\n",
       "      <td>0.000</td>\n",
       "      <td>MULTIPOLYGON (((-73.884693163002 40.8026302347...</td>\n",
       "      <td>08/12/2020 12:00:00 AM +0000</td>\n",
       "      <td>Constructed</td>\n",
       "      <td>838666</td>\n",
       "      <td>13.150</td>\n",
       "      <td>1004.000</td>\n",
       "      <td>18.000</td>\n",
       "      <td>46240.599</td>\n",
       "      <td>1230.739</td>\n",
       "      <td>2027800002.000</td>\n",
       "      <td>2027800002.000</td>\n",
       "      <td>Other (Man</td>\n",
       "    </tr>\n",
       "    <tr>\n",
       "      <th>1084408</th>\n",
       "      <td>2118145</td>\n",
       "      <td>Building 131</td>\n",
       "      <td>0.000</td>\n",
       "      <td>MULTIPOLYGON (((-73.88410300359251 40.80235670...</td>\n",
       "      <td>08/12/2020 12:00:00 AM +0000</td>\n",
       "      <td>Constructed</td>\n",
       "      <td>462233</td>\n",
       "      <td>15.600</td>\n",
       "      <td>1004.000</td>\n",
       "      <td>12.000</td>\n",
       "      <td>7647.999</td>\n",
       "      <td>350.925</td>\n",
       "      <td>2027800002.000</td>\n",
       "      <td>2027800002.000</td>\n",
       "      <td>Other (Man</td>\n",
       "    </tr>\n",
       "    <tr>\n",
       "      <th>331895</th>\n",
       "      <td>1088650</td>\n",
       "      <td>Delacorte Theater</td>\n",
       "      <td>0.000</td>\n",
       "      <td>MULTIPOLYGON (((-73.96843282197511 40.78027910...</td>\n",
       "      <td>08/10/2017 12:00:00 AM +0000</td>\n",
       "      <td>Constructed</td>\n",
       "      <td>1197832</td>\n",
       "      <td>16.599</td>\n",
       "      <td>2100.000</td>\n",
       "      <td>103.000</td>\n",
       "      <td>13663.319</td>\n",
       "      <td>515.785</td>\n",
       "      <td>1011110001.000</td>\n",
       "      <td>1011110001.000</td>\n",
       "      <td>Other (Man</td>\n",
       "    </tr>\n",
       "    <tr>\n",
       "      <th>808623</th>\n",
       "      <td>1082908</td>\n",
       "      <td>Madison Square Garden</td>\n",
       "      <td>0.000</td>\n",
       "      <td>MULTIPOLYGON (((-73.99354971485617 40.75110707...</td>\n",
       "      <td>08/22/2017 12:00:00 AM +0000</td>\n",
       "      <td>Constructed</td>\n",
       "      <td>831086</td>\n",
       "      <td>145.640</td>\n",
       "      <td>2100.000</td>\n",
       "      <td>35.000</td>\n",
       "      <td>179912.149</td>\n",
       "      <td>1887.376</td>\n",
       "      <td>1007810001.000</td>\n",
       "      <td>1007810001.000</td>\n",
       "      <td>Photogramm</td>\n",
       "    </tr>\n",
       "  </tbody>\n",
       "</table>\n",
       "</div>"
      ],
      "text/plain": [
       "             BIN                   NAME  CNSTRCT_YR  \\\n",
       "883039   4459549                    203       0.000   \n",
       "1084418  2118153           Building 126       0.000   \n",
       "1084408  2118145           Building 131       0.000   \n",
       "331895   1088650      Delacorte Theater       0.000   \n",
       "808623   1082908  Madison Square Garden       0.000   \n",
       "\n",
       "                                                  the_geom  \\\n",
       "883039   MULTIPOLYGON (((-73.80700601312394 40.66313828...   \n",
       "1084418  MULTIPOLYGON (((-73.884693163002 40.8026302347...   \n",
       "1084408  MULTIPOLYGON (((-73.88410300359251 40.80235670...   \n",
       "331895   MULTIPOLYGON (((-73.96843282197511 40.78027910...   \n",
       "808623   MULTIPOLYGON (((-73.99354971485617 40.75110707...   \n",
       "\n",
       "                           LSTMODDATE   LSTSTATYPE  DOITT_ID  HEIGHTROOF  \\\n",
       "883039   08/22/2017 12:00:00 AM +0000  Constructed    522064      42.708   \n",
       "1084418  08/12/2020 12:00:00 AM +0000  Constructed    838666      13.150   \n",
       "1084408  08/12/2020 12:00:00 AM +0000  Constructed    462233      15.600   \n",
       "331895   08/10/2017 12:00:00 AM +0000  Constructed   1197832      16.599   \n",
       "808623   08/22/2017 12:00:00 AM +0000  Constructed    831086     145.640   \n",
       "\n",
       "         FEAT_CODE  GROUNDELEV  SHAPE_AREA  SHAPE_LEN       BASE_BBL  \\\n",
       "883039    2100.000      15.000   26587.245    855.637 4119000002.000   \n",
       "1084418   1004.000      18.000   46240.599   1230.739 2027800002.000   \n",
       "1084408   1004.000      12.000    7647.999    350.925 2027800002.000   \n",
       "331895    2100.000     103.000   13663.319    515.785 1011110001.000   \n",
       "808623    2100.000      35.000  179912.149   1887.376 1007810001.000   \n",
       "\n",
       "            MPLUTO_BBL  GEOMSOURCE  \n",
       "883039  4119000002.000  Photogramm  \n",
       "1084418 2027800002.000  Other (Man  \n",
       "1084408 2027800002.000  Other (Man  \n",
       "331895  1011110001.000  Other (Man  \n",
       "808623  1007810001.000  Photogramm  "
      ]
     },
     "execution_count": 627,
     "metadata": {},
     "output_type": "execute_result"
    }
   ],
   "source": [
    "# sorting by the 'CNSTRCT_YR' in ascending order and \n",
    "# dropping records that don't have a building name (i.e. NAME).\n",
    "building_footprints.sort_values(by='CNSTRCT_YR').dropna(subset=['NAME']).head()"
   ]
  },
  {
   "cell_type": "code",
   "execution_count": 628,
   "metadata": {},
   "outputs": [
    {
     "data": {
      "text/html": [
       "<div>\n",
       "<style scoped>\n",
       "    .dataframe tbody tr th:only-of-type {\n",
       "        vertical-align: middle;\n",
       "    }\n",
       "\n",
       "    .dataframe tbody tr th {\n",
       "        vertical-align: top;\n",
       "    }\n",
       "\n",
       "    .dataframe thead th {\n",
       "        text-align: right;\n",
       "    }\n",
       "</style>\n",
       "<table border=\"1\" class=\"dataframe\">\n",
       "  <thead>\n",
       "    <tr style=\"text-align: right;\">\n",
       "      <th></th>\n",
       "      <th>BIN</th>\n",
       "      <th>NAME</th>\n",
       "      <th>CNSTRCT_YR</th>\n",
       "      <th>the_geom</th>\n",
       "      <th>LSTMODDATE</th>\n",
       "      <th>LSTSTATYPE</th>\n",
       "      <th>DOITT_ID</th>\n",
       "      <th>HEIGHTROOF</th>\n",
       "      <th>FEAT_CODE</th>\n",
       "      <th>GROUNDELEV</th>\n",
       "      <th>SHAPE_AREA</th>\n",
       "      <th>SHAPE_LEN</th>\n",
       "      <th>BASE_BBL</th>\n",
       "      <th>MPLUTO_BBL</th>\n",
       "      <th>GEOMSOURCE</th>\n",
       "    </tr>\n",
       "  </thead>\n",
       "  <tbody>\n",
       "    <tr>\n",
       "      <th>1079167</th>\n",
       "      <td>3221967</td>\n",
       "      <td>Pieter Claesen Wyckoff House</td>\n",
       "      <td>1652.000</td>\n",
       "      <td>MULTIPOLYGON (((-73.92083460429942 40.64439765...</td>\n",
       "      <td>01/28/2020 12:00:00 AM +0000</td>\n",
       "      <td>Constructed</td>\n",
       "      <td>550741</td>\n",
       "      <td>24.540</td>\n",
       "      <td>2100.000</td>\n",
       "      <td>14.000</td>\n",
       "      <td>2214.189</td>\n",
       "      <td>208.884</td>\n",
       "      <td>3079170009.000</td>\n",
       "      <td>3079170009.000</td>\n",
       "      <td>Photogramm</td>\n",
       "    </tr>\n",
       "    <tr>\n",
       "      <th>801684</th>\n",
       "      <td>4113403</td>\n",
       "      <td>Bowne House</td>\n",
       "      <td>1661.000</td>\n",
       "      <td>MULTIPOLYGON (((-73.8247828135812 40.762948467...</td>\n",
       "      <td>08/22/2017 12:00:00 AM +0000</td>\n",
       "      <td>Constructed</td>\n",
       "      <td>776399</td>\n",
       "      <td>26.120</td>\n",
       "      <td>2100.000</td>\n",
       "      <td>64.000</td>\n",
       "      <td>2814.439</td>\n",
       "      <td>242.381</td>\n",
       "      <td>4050130006.000</td>\n",
       "      <td>4050130006.000</td>\n",
       "      <td>Photogramm</td>\n",
       "    </tr>\n",
       "    <tr>\n",
       "      <th>1083705</th>\n",
       "      <td>5087656</td>\n",
       "      <td>Conference House</td>\n",
       "      <td>1680.000</td>\n",
       "      <td>MULTIPOLYGON (((-74.25311647359251 40.50309522...</td>\n",
       "      <td>04/13/2020 12:00:00 AM +0000</td>\n",
       "      <td>Constructed</td>\n",
       "      <td>702698</td>\n",
       "      <td>38.640</td>\n",
       "      <td>2100.000</td>\n",
       "      <td>38.000</td>\n",
       "      <td>2051.849</td>\n",
       "      <td>181.231</td>\n",
       "      <td>5078570090.000</td>\n",
       "      <td>5078570090.000</td>\n",
       "      <td>Photogramm</td>\n",
       "    </tr>\n",
       "    <tr>\n",
       "      <th>1083714</th>\n",
       "      <td>5042188</td>\n",
       "      <td>Alice Austen House Museum</td>\n",
       "      <td>1690.000</td>\n",
       "      <td>MULTIPOLYGON (((-74.06293248238293 40.61512359...</td>\n",
       "      <td>04/13/2020 12:00:00 AM +0000</td>\n",
       "      <td>Alteration</td>\n",
       "      <td>806241</td>\n",
       "      <td>22.260</td>\n",
       "      <td>2100.000</td>\n",
       "      <td>21.000</td>\n",
       "      <td>2643.247</td>\n",
       "      <td>249.018</td>\n",
       "      <td>5028300049.000</td>\n",
       "      <td>5028300049.000</td>\n",
       "      <td>Photogramm</td>\n",
       "    </tr>\n",
       "    <tr>\n",
       "      <th>567756</th>\n",
       "      <td>1078965</td>\n",
       "      <td>Fraunces Tavern</td>\n",
       "      <td>1719.000</td>\n",
       "      <td>MULTIPOLYGON (((-74.01121069434295 40.70334382...</td>\n",
       "      <td>01/28/2020 12:00:00 AM +0000</td>\n",
       "      <td>Constructed</td>\n",
       "      <td>299639</td>\n",
       "      <td>47.830</td>\n",
       "      <td>2100.000</td>\n",
       "      <td>7.000</td>\n",
       "      <td>2521.723</td>\n",
       "      <td>263.058</td>\n",
       "      <td>1000070035.000</td>\n",
       "      <td>1000070035.000</td>\n",
       "      <td>Photogramm</td>\n",
       "    </tr>\n",
       "  </tbody>\n",
       "</table>\n",
       "</div>"
      ],
      "text/plain": [
       "             BIN                          NAME  CNSTRCT_YR  \\\n",
       "1079167  3221967  Pieter Claesen Wyckoff House    1652.000   \n",
       "801684   4113403                   Bowne House    1661.000   \n",
       "1083705  5087656              Conference House    1680.000   \n",
       "1083714  5042188     Alice Austen House Museum    1690.000   \n",
       "567756   1078965               Fraunces Tavern    1719.000   \n",
       "\n",
       "                                                  the_geom  \\\n",
       "1079167  MULTIPOLYGON (((-73.92083460429942 40.64439765...   \n",
       "801684   MULTIPOLYGON (((-73.8247828135812 40.762948467...   \n",
       "1083705  MULTIPOLYGON (((-74.25311647359251 40.50309522...   \n",
       "1083714  MULTIPOLYGON (((-74.06293248238293 40.61512359...   \n",
       "567756   MULTIPOLYGON (((-74.01121069434295 40.70334382...   \n",
       "\n",
       "                           LSTMODDATE   LSTSTATYPE  DOITT_ID  HEIGHTROOF  \\\n",
       "1079167  01/28/2020 12:00:00 AM +0000  Constructed    550741      24.540   \n",
       "801684   08/22/2017 12:00:00 AM +0000  Constructed    776399      26.120   \n",
       "1083705  04/13/2020 12:00:00 AM +0000  Constructed    702698      38.640   \n",
       "1083714  04/13/2020 12:00:00 AM +0000   Alteration    806241      22.260   \n",
       "567756   01/28/2020 12:00:00 AM +0000  Constructed    299639      47.830   \n",
       "\n",
       "         FEAT_CODE  GROUNDELEV  SHAPE_AREA  SHAPE_LEN       BASE_BBL  \\\n",
       "1079167   2100.000      14.000    2214.189    208.884 3079170009.000   \n",
       "801684    2100.000      64.000    2814.439    242.381 4050130006.000   \n",
       "1083705   2100.000      38.000    2051.849    181.231 5078570090.000   \n",
       "1083714   2100.000      21.000    2643.247    249.018 5028300049.000   \n",
       "567756    2100.000       7.000    2521.723    263.058 1000070035.000   \n",
       "\n",
       "            MPLUTO_BBL  GEOMSOURCE  \n",
       "1079167 3079170009.000  Photogramm  \n",
       "801684  4050130006.000  Photogramm  \n",
       "1083705 5078570090.000  Photogramm  \n",
       "1083714 5028300049.000  Photogramm  \n",
       "567756  1000070035.000  Photogramm  "
      ]
     },
     "execution_count": 628,
     "metadata": {},
     "output_type": "execute_result"
    }
   ],
   "source": [
    "# sorting by the 'CNSTRCT_YR' in ascending order and \n",
    "# dropping records that don't have a building name (i.e. NAME) and\n",
    "# returning only buildings with 'CNSTRCT_YR' > 0\n",
    "building_footprints[building_footprints.CNSTRCT_YR > 0].sort_values(by='CNSTRCT_YR').dropna(subset=['NAME']).head()"
   ]
  },
  {
   "cell_type": "code",
   "execution_count": 629,
   "metadata": {},
   "outputs": [
    {
     "data": {
      "text/html": [
       "<div>\n",
       "<style scoped>\n",
       "    .dataframe tbody tr th:only-of-type {\n",
       "        vertical-align: middle;\n",
       "    }\n",
       "\n",
       "    .dataframe tbody tr th {\n",
       "        vertical-align: top;\n",
       "    }\n",
       "\n",
       "    .dataframe thead th {\n",
       "        text-align: right;\n",
       "    }\n",
       "</style>\n",
       "<table border=\"1\" class=\"dataframe\">\n",
       "  <thead>\n",
       "    <tr style=\"text-align: right;\">\n",
       "      <th></th>\n",
       "      <th>BIN</th>\n",
       "      <th>NAME</th>\n",
       "      <th>CNSTRCT_YR</th>\n",
       "      <th>the_geom</th>\n",
       "      <th>LSTMODDATE</th>\n",
       "      <th>LSTSTATYPE</th>\n",
       "      <th>DOITT_ID</th>\n",
       "      <th>HEIGHTROOF</th>\n",
       "      <th>FEAT_CODE</th>\n",
       "      <th>GROUNDELEV</th>\n",
       "      <th>SHAPE_AREA</th>\n",
       "      <th>SHAPE_LEN</th>\n",
       "      <th>BASE_BBL</th>\n",
       "      <th>MPLUTO_BBL</th>\n",
       "      <th>GEOMSOURCE</th>\n",
       "    </tr>\n",
       "  </thead>\n",
       "  <tbody>\n",
       "    <tr>\n",
       "      <th>1079167</th>\n",
       "      <td>3221967</td>\n",
       "      <td>Pieter Claesen Wyckoff House</td>\n",
       "      <td>1652.000</td>\n",
       "      <td>MULTIPOLYGON (((-73.92083460429942 40.64439765...</td>\n",
       "      <td>01/28/2020 12:00:00 AM +0000</td>\n",
       "      <td>Constructed</td>\n",
       "      <td>550741</td>\n",
       "      <td>24.540</td>\n",
       "      <td>2100.000</td>\n",
       "      <td>14.000</td>\n",
       "      <td>2214.189</td>\n",
       "      <td>208.884</td>\n",
       "      <td>3079170009.000</td>\n",
       "      <td>3079170009.000</td>\n",
       "      <td>Photogramm</td>\n",
       "    </tr>\n",
       "  </tbody>\n",
       "</table>\n",
       "</div>"
      ],
      "text/plain": [
       "             BIN                          NAME  CNSTRCT_YR  \\\n",
       "1079167  3221967  Pieter Claesen Wyckoff House    1652.000   \n",
       "\n",
       "                                                  the_geom  \\\n",
       "1079167  MULTIPOLYGON (((-73.92083460429942 40.64439765...   \n",
       "\n",
       "                           LSTMODDATE   LSTSTATYPE  DOITT_ID  HEIGHTROOF  \\\n",
       "1079167  01/28/2020 12:00:00 AM +0000  Constructed    550741      24.540   \n",
       "\n",
       "         FEAT_CODE  GROUNDELEV  SHAPE_AREA  SHAPE_LEN       BASE_BBL  \\\n",
       "1079167   2100.000      14.000    2214.189    208.884 3079170009.000   \n",
       "\n",
       "            MPLUTO_BBL  GEOMSOURCE  \n",
       "1079167 3079170009.000  Photogramm  "
      ]
     },
     "execution_count": 629,
     "metadata": {},
     "output_type": "execute_result"
    }
   ],
   "source": [
    "# identifying the oldest building with a building name in this dataset\n",
    "building_footprints[building_footprints.CNSTRCT_YR > 0].sort_values(by='CNSTRCT_YR').dropna(subset=['NAME']).head(1)"
   ]
  },
  {
   "cell_type": "code",
   "execution_count": 630,
   "metadata": {},
   "outputs": [
    {
     "data": {
      "text/html": [
       "<div>\n",
       "<style scoped>\n",
       "    .dataframe tbody tr th:only-of-type {\n",
       "        vertical-align: middle;\n",
       "    }\n",
       "\n",
       "    .dataframe tbody tr th {\n",
       "        vertical-align: top;\n",
       "    }\n",
       "\n",
       "    .dataframe thead th {\n",
       "        text-align: right;\n",
       "    }\n",
       "</style>\n",
       "<table border=\"1\" class=\"dataframe\">\n",
       "  <thead>\n",
       "    <tr style=\"text-align: right;\">\n",
       "      <th></th>\n",
       "      <th>1079167</th>\n",
       "    </tr>\n",
       "  </thead>\n",
       "  <tbody>\n",
       "    <tr>\n",
       "      <th>BIN</th>\n",
       "      <td>3221967</td>\n",
       "    </tr>\n",
       "    <tr>\n",
       "      <th>NAME</th>\n",
       "      <td>Pieter Claesen Wyckoff House</td>\n",
       "    </tr>\n",
       "    <tr>\n",
       "      <th>CNSTRCT_YR</th>\n",
       "      <td>1652.000</td>\n",
       "    </tr>\n",
       "    <tr>\n",
       "      <th>the_geom</th>\n",
       "      <td>MULTIPOLYGON (((-73.92083460429942 40.64439765...</td>\n",
       "    </tr>\n",
       "    <tr>\n",
       "      <th>LSTMODDATE</th>\n",
       "      <td>01/28/2020 12:00:00 AM +0000</td>\n",
       "    </tr>\n",
       "    <tr>\n",
       "      <th>LSTSTATYPE</th>\n",
       "      <td>Constructed</td>\n",
       "    </tr>\n",
       "    <tr>\n",
       "      <th>DOITT_ID</th>\n",
       "      <td>550741</td>\n",
       "    </tr>\n",
       "    <tr>\n",
       "      <th>HEIGHTROOF</th>\n",
       "      <td>24.540</td>\n",
       "    </tr>\n",
       "    <tr>\n",
       "      <th>FEAT_CODE</th>\n",
       "      <td>2100.000</td>\n",
       "    </tr>\n",
       "    <tr>\n",
       "      <th>GROUNDELEV</th>\n",
       "      <td>14.000</td>\n",
       "    </tr>\n",
       "    <tr>\n",
       "      <th>SHAPE_AREA</th>\n",
       "      <td>2214.189</td>\n",
       "    </tr>\n",
       "    <tr>\n",
       "      <th>SHAPE_LEN</th>\n",
       "      <td>208.884</td>\n",
       "    </tr>\n",
       "    <tr>\n",
       "      <th>BASE_BBL</th>\n",
       "      <td>3079170009.000</td>\n",
       "    </tr>\n",
       "    <tr>\n",
       "      <th>MPLUTO_BBL</th>\n",
       "      <td>3079170009.000</td>\n",
       "    </tr>\n",
       "    <tr>\n",
       "      <th>GEOMSOURCE</th>\n",
       "      <td>Photogramm</td>\n",
       "    </tr>\n",
       "  </tbody>\n",
       "</table>\n",
       "</div>"
      ],
      "text/plain": [
       "                                                      1079167\n",
       "BIN                                                   3221967\n",
       "NAME                             Pieter Claesen Wyckoff House\n",
       "CNSTRCT_YR                                           1652.000\n",
       "the_geom    MULTIPOLYGON (((-73.92083460429942 40.64439765...\n",
       "LSTMODDATE                       01/28/2020 12:00:00 AM +0000\n",
       "LSTSTATYPE                                        Constructed\n",
       "DOITT_ID                                               550741\n",
       "HEIGHTROOF                                             24.540\n",
       "FEAT_CODE                                            2100.000\n",
       "GROUNDELEV                                             14.000\n",
       "SHAPE_AREA                                           2214.189\n",
       "SHAPE_LEN                                             208.884\n",
       "BASE_BBL                                       3079170009.000\n",
       "MPLUTO_BBL                                     3079170009.000\n",
       "GEOMSOURCE                                         Photogramm"
      ]
     },
     "execution_count": 630,
     "metadata": {},
     "output_type": "execute_result"
    }
   ],
   "source": [
    "# identifying the oldest building with a building name in this dataset and\n",
    "# transposing for readability.\n",
    "building_footprints[building_footprints.CNSTRCT_YR > 0].sort_values(by='CNSTRCT_YR').dropna(subset=['NAME']).head(1).T"
   ]
  },
  {
   "cell_type": "markdown",
   "metadata": {},
   "source": [
    "# We will use the Pieter Claesen Wyckoff House as the oldest building in this dataset"
   ]
  },
  {
   "cell_type": "markdown",
   "metadata": {},
   "source": [
    "**Screenshot of Pieter Claesen Wyckoff House from Wikipedia:**"
   ]
  },
  {
   "cell_type": "markdown",
   "metadata": {},
   "source": [
    "![Pieter-Claesen-Wyckoff-House](images/Pieter-Claesen-Wyckoff-House.png)"
   ]
  },
  {
   "cell_type": "markdown",
   "metadata": {},
   "source": [
    "# Reviewing buildings with 'CNSTRCT_YR' = 0 but have a building name. Perhaps we can identify some of these buildings."
   ]
  },
  {
   "cell_type": "code",
   "execution_count": 631,
   "metadata": {},
   "outputs": [
    {
     "data": {
      "text/html": [
       "<div>\n",
       "<style scoped>\n",
       "    .dataframe tbody tr th:only-of-type {\n",
       "        vertical-align: middle;\n",
       "    }\n",
       "\n",
       "    .dataframe tbody tr th {\n",
       "        vertical-align: top;\n",
       "    }\n",
       "\n",
       "    .dataframe thead th {\n",
       "        text-align: right;\n",
       "    }\n",
       "</style>\n",
       "<table border=\"1\" class=\"dataframe\">\n",
       "  <thead>\n",
       "    <tr style=\"text-align: right;\">\n",
       "      <th></th>\n",
       "      <th>BIN</th>\n",
       "      <th>NAME</th>\n",
       "      <th>CNSTRCT_YR</th>\n",
       "      <th>the_geom</th>\n",
       "      <th>LSTMODDATE</th>\n",
       "      <th>LSTSTATYPE</th>\n",
       "      <th>DOITT_ID</th>\n",
       "      <th>HEIGHTROOF</th>\n",
       "      <th>FEAT_CODE</th>\n",
       "      <th>GROUNDELEV</th>\n",
       "      <th>SHAPE_AREA</th>\n",
       "      <th>SHAPE_LEN</th>\n",
       "      <th>BASE_BBL</th>\n",
       "      <th>MPLUTO_BBL</th>\n",
       "      <th>GEOMSOURCE</th>\n",
       "    </tr>\n",
       "  </thead>\n",
       "  <tbody>\n",
       "    <tr>\n",
       "      <th>723858</th>\n",
       "      <td>1004350</td>\n",
       "      <td>Manhattan Pumping Station</td>\n",
       "      <td>0.000</td>\n",
       "      <td>MULTIPOLYGON (((-73.973538271636 40.7264685500...</td>\n",
       "      <td>08/22/2017 12:00:00 AM +0000</td>\n",
       "      <td>Constructed</td>\n",
       "      <td>266156</td>\n",
       "      <td>107.019</td>\n",
       "      <td>2100.000</td>\n",
       "      <td>9.000</td>\n",
       "      <td>17100.962</td>\n",
       "      <td>637.272</td>\n",
       "      <td>1003670025.000</td>\n",
       "      <td>1003670025.000</td>\n",
       "      <td>Other (Man</td>\n",
       "    </tr>\n",
       "    <tr>\n",
       "      <th>714705</th>\n",
       "      <td>1083621</td>\n",
       "      <td>New York Telephone Compa*</td>\n",
       "      <td>0.000</td>\n",
       "      <td>MULTIPOLYGON (((-73.99020239051326 40.75240074...</td>\n",
       "      <td>08/22/2017 12:00:00 AM +0000</td>\n",
       "      <td>Constructed</td>\n",
       "      <td>775248</td>\n",
       "      <td>160.660</td>\n",
       "      <td>2100.000</td>\n",
       "      <td>39.000</td>\n",
       "      <td>16470.978</td>\n",
       "      <td>532.578</td>\n",
       "      <td>1007850049.000</td>\n",
       "      <td>1007850049.000</td>\n",
       "      <td>Photogramm</td>\n",
       "    </tr>\n",
       "    <tr>\n",
       "      <th>683013</th>\n",
       "      <td>1083622</td>\n",
       "      <td>New York Telephone Compa*</td>\n",
       "      <td>0.000</td>\n",
       "      <td>MULTIPOLYGON (((-73.9907346786451 40.752624973...</td>\n",
       "      <td>08/22/2017 12:00:00 AM +0000</td>\n",
       "      <td>Constructed</td>\n",
       "      <td>95063</td>\n",
       "      <td>219.683</td>\n",
       "      <td>2100.000</td>\n",
       "      <td>39.000</td>\n",
       "      <td>17008.123</td>\n",
       "      <td>543.573</td>\n",
       "      <td>1007850049.000</td>\n",
       "      <td>1007850049.000</td>\n",
       "      <td>Photogramm</td>\n",
       "    </tr>\n",
       "    <tr>\n",
       "      <th>808623</th>\n",
       "      <td>1082908</td>\n",
       "      <td>Madison Square Garden</td>\n",
       "      <td>0.000</td>\n",
       "      <td>MULTIPOLYGON (((-73.99354971485617 40.75110707...</td>\n",
       "      <td>08/22/2017 12:00:00 AM +0000</td>\n",
       "      <td>Constructed</td>\n",
       "      <td>831086</td>\n",
       "      <td>145.640</td>\n",
       "      <td>2100.000</td>\n",
       "      <td>35.000</td>\n",
       "      <td>179912.149</td>\n",
       "      <td>1887.376</td>\n",
       "      <td>1007810001.000</td>\n",
       "      <td>1007810001.000</td>\n",
       "      <td>Photogramm</td>\n",
       "    </tr>\n",
       "    <tr>\n",
       "      <th>1034997</th>\n",
       "      <td>1083810</td>\n",
       "      <td>The Metropolitan Museum</td>\n",
       "      <td>0.000</td>\n",
       "      <td>MULTIPOLYGON (((-73.96303731664047 40.78070299...</td>\n",
       "      <td>08/22/2017 12:00:00 AM +0000</td>\n",
       "      <td>Constructed</td>\n",
       "      <td>120474</td>\n",
       "      <td>87.770</td>\n",
       "      <td>2100.000</td>\n",
       "      <td>100.000</td>\n",
       "      <td>481865.279</td>\n",
       "      <td>4606.613</td>\n",
       "      <td>1011110001.000</td>\n",
       "      <td>1011110001.000</td>\n",
       "      <td>Photogramm</td>\n",
       "    </tr>\n",
       "  </tbody>\n",
       "</table>\n",
       "</div>"
      ],
      "text/plain": [
       "             BIN                       NAME  CNSTRCT_YR  \\\n",
       "723858   1004350  Manhattan Pumping Station       0.000   \n",
       "714705   1083621  New York Telephone Compa*       0.000   \n",
       "683013   1083622  New York Telephone Compa*       0.000   \n",
       "808623   1082908      Madison Square Garden       0.000   \n",
       "1034997  1083810    The Metropolitan Museum       0.000   \n",
       "\n",
       "                                                  the_geom  \\\n",
       "723858   MULTIPOLYGON (((-73.973538271636 40.7264685500...   \n",
       "714705   MULTIPOLYGON (((-73.99020239051326 40.75240074...   \n",
       "683013   MULTIPOLYGON (((-73.9907346786451 40.752624973...   \n",
       "808623   MULTIPOLYGON (((-73.99354971485617 40.75110707...   \n",
       "1034997  MULTIPOLYGON (((-73.96303731664047 40.78070299...   \n",
       "\n",
       "                           LSTMODDATE   LSTSTATYPE  DOITT_ID  HEIGHTROOF  \\\n",
       "723858   08/22/2017 12:00:00 AM +0000  Constructed    266156     107.019   \n",
       "714705   08/22/2017 12:00:00 AM +0000  Constructed    775248     160.660   \n",
       "683013   08/22/2017 12:00:00 AM +0000  Constructed     95063     219.683   \n",
       "808623   08/22/2017 12:00:00 AM +0000  Constructed    831086     145.640   \n",
       "1034997  08/22/2017 12:00:00 AM +0000  Constructed    120474      87.770   \n",
       "\n",
       "         FEAT_CODE  GROUNDELEV  SHAPE_AREA  SHAPE_LEN       BASE_BBL  \\\n",
       "723858    2100.000       9.000   17100.962    637.272 1003670025.000   \n",
       "714705    2100.000      39.000   16470.978    532.578 1007850049.000   \n",
       "683013    2100.000      39.000   17008.123    543.573 1007850049.000   \n",
       "808623    2100.000      35.000  179912.149   1887.376 1007810001.000   \n",
       "1034997   2100.000     100.000  481865.279   4606.613 1011110001.000   \n",
       "\n",
       "            MPLUTO_BBL  GEOMSOURCE  \n",
       "723858  1003670025.000  Other (Man  \n",
       "714705  1007850049.000  Photogramm  \n",
       "683013  1007850049.000  Photogramm  \n",
       "808623  1007810001.000  Photogramm  \n",
       "1034997 1011110001.000  Photogramm  "
      ]
     },
     "execution_count": 631,
     "metadata": {},
     "output_type": "execute_result"
    }
   ],
   "source": [
    "# sorting by the 'CNSTRCT_YR' in ascending order and \n",
    "# dropping records that don't have a building name (i.e. NAME) and\n",
    "# returning buildings with 'CNSTRCT_YR' < 1\n",
    "building_footprints[building_footprints.CNSTRCT_YR < 1].sort_values(by='CNSTRCT_YR').dropna(subset=['NAME']).head()"
   ]
  },
  {
   "cell_type": "code",
   "execution_count": 632,
   "metadata": {},
   "outputs": [
    {
     "data": {
      "text/plain": [
       "New York Telephone Compa*              2\n",
       "building                               1\n",
       "Rosewood Playground-Comfort Station    1\n",
       "Mobil Building                         1\n",
       "Vidalia Park-Comfort Station           1\n",
       "3412609                                1\n",
       "Saint Patrick's R.C. School            1\n",
       "Building 115                           1\n",
       "Grand Central Terminal                 1\n",
       "Building 126                           1\n",
       "Building 131                           1\n",
       "Manhattan Pumping Station              1\n",
       "Siemens Building                       1\n",
       "Barretto Point Park-BUILDING           1\n",
       "Delacorte Theater                      1\n",
       "Building 127                           1\n",
       "Newsweek Building                      1\n",
       "MetLife Building                       1\n",
       "Soundview Field House                  1\n",
       "Two Penn Plaza                         1\n",
       "203                                    1\n",
       "The Metropolitan Museum                1\n",
       "Madison Square Garden                  1\n",
       "Name: NAME, dtype: int64"
      ]
     },
     "execution_count": 632,
     "metadata": {},
     "output_type": "execute_result"
    }
   ],
   "source": [
    "# identifying buildings with names but no 'CNSTRCT_YR'.\n",
    "name_no_year = building_footprints[building_footprints.CNSTRCT_YR < 1].sort_values(by='CNSTRCT_YR').dropna(subset=['NAME'])\n",
    "\n",
    "# printing the counts of values of buildings with names but no year.\n",
    "name_no_year.NAME.value_counts()"
   ]
  },
  {
   "cell_type": "code",
   "execution_count": 633,
   "metadata": {},
   "outputs": [
    {
     "data": {
      "text/html": [
       "<div>\n",
       "<style scoped>\n",
       "    .dataframe tbody tr th:only-of-type {\n",
       "        vertical-align: middle;\n",
       "    }\n",
       "\n",
       "    .dataframe tbody tr th {\n",
       "        vertical-align: top;\n",
       "    }\n",
       "\n",
       "    .dataframe thead th {\n",
       "        text-align: right;\n",
       "    }\n",
       "</style>\n",
       "<table border=\"1\" class=\"dataframe\">\n",
       "  <thead>\n",
       "    <tr style=\"text-align: right;\">\n",
       "      <th></th>\n",
       "      <th>index</th>\n",
       "      <th>NAME</th>\n",
       "    </tr>\n",
       "  </thead>\n",
       "  <tbody>\n",
       "    <tr>\n",
       "      <th>0</th>\n",
       "      <td>New York Telephone Compa*</td>\n",
       "      <td>2</td>\n",
       "    </tr>\n",
       "    <tr>\n",
       "      <th>1</th>\n",
       "      <td>building</td>\n",
       "      <td>1</td>\n",
       "    </tr>\n",
       "    <tr>\n",
       "      <th>2</th>\n",
       "      <td>Rosewood Playground-Comfort Station</td>\n",
       "      <td>1</td>\n",
       "    </tr>\n",
       "    <tr>\n",
       "      <th>3</th>\n",
       "      <td>Mobil Building</td>\n",
       "      <td>1</td>\n",
       "    </tr>\n",
       "    <tr>\n",
       "      <th>4</th>\n",
       "      <td>Vidalia Park-Comfort Station</td>\n",
       "      <td>1</td>\n",
       "    </tr>\n",
       "    <tr>\n",
       "      <th>5</th>\n",
       "      <td>3412609</td>\n",
       "      <td>1</td>\n",
       "    </tr>\n",
       "    <tr>\n",
       "      <th>6</th>\n",
       "      <td>Saint Patrick's R.C. School</td>\n",
       "      <td>1</td>\n",
       "    </tr>\n",
       "    <tr>\n",
       "      <th>7</th>\n",
       "      <td>Building 115</td>\n",
       "      <td>1</td>\n",
       "    </tr>\n",
       "    <tr>\n",
       "      <th>8</th>\n",
       "      <td>Grand Central Terminal</td>\n",
       "      <td>1</td>\n",
       "    </tr>\n",
       "    <tr>\n",
       "      <th>9</th>\n",
       "      <td>Building 126</td>\n",
       "      <td>1</td>\n",
       "    </tr>\n",
       "    <tr>\n",
       "      <th>10</th>\n",
       "      <td>Building 131</td>\n",
       "      <td>1</td>\n",
       "    </tr>\n",
       "    <tr>\n",
       "      <th>11</th>\n",
       "      <td>Manhattan Pumping Station</td>\n",
       "      <td>1</td>\n",
       "    </tr>\n",
       "    <tr>\n",
       "      <th>12</th>\n",
       "      <td>Siemens Building</td>\n",
       "      <td>1</td>\n",
       "    </tr>\n",
       "    <tr>\n",
       "      <th>13</th>\n",
       "      <td>Barretto Point Park-BUILDING</td>\n",
       "      <td>1</td>\n",
       "    </tr>\n",
       "    <tr>\n",
       "      <th>14</th>\n",
       "      <td>Delacorte Theater</td>\n",
       "      <td>1</td>\n",
       "    </tr>\n",
       "    <tr>\n",
       "      <th>15</th>\n",
       "      <td>Building 127</td>\n",
       "      <td>1</td>\n",
       "    </tr>\n",
       "    <tr>\n",
       "      <th>16</th>\n",
       "      <td>Newsweek Building</td>\n",
       "      <td>1</td>\n",
       "    </tr>\n",
       "    <tr>\n",
       "      <th>17</th>\n",
       "      <td>MetLife Building</td>\n",
       "      <td>1</td>\n",
       "    </tr>\n",
       "    <tr>\n",
       "      <th>18</th>\n",
       "      <td>Soundview Field House</td>\n",
       "      <td>1</td>\n",
       "    </tr>\n",
       "    <tr>\n",
       "      <th>19</th>\n",
       "      <td>Two Penn Plaza</td>\n",
       "      <td>1</td>\n",
       "    </tr>\n",
       "    <tr>\n",
       "      <th>20</th>\n",
       "      <td>203</td>\n",
       "      <td>1</td>\n",
       "    </tr>\n",
       "    <tr>\n",
       "      <th>21</th>\n",
       "      <td>The Metropolitan Museum</td>\n",
       "      <td>1</td>\n",
       "    </tr>\n",
       "    <tr>\n",
       "      <th>22</th>\n",
       "      <td>Madison Square Garden</td>\n",
       "      <td>1</td>\n",
       "    </tr>\n",
       "  </tbody>\n",
       "</table>\n",
       "</div>"
      ],
      "text/plain": [
       "                                  index  NAME\n",
       "0             New York Telephone Compa*     2\n",
       "1                              building     1\n",
       "2   Rosewood Playground-Comfort Station     1\n",
       "3                        Mobil Building     1\n",
       "4          Vidalia Park-Comfort Station     1\n",
       "5                               3412609     1\n",
       "6           Saint Patrick's R.C. School     1\n",
       "7                          Building 115     1\n",
       "8                Grand Central Terminal     1\n",
       "9                          Building 126     1\n",
       "10                         Building 131     1\n",
       "11            Manhattan Pumping Station     1\n",
       "12                     Siemens Building     1\n",
       "13         Barretto Point Park-BUILDING     1\n",
       "14                    Delacorte Theater     1\n",
       "15                         Building 127     1\n",
       "16                    Newsweek Building     1\n",
       "17                     MetLife Building     1\n",
       "18                Soundview Field House     1\n",
       "19                       Two Penn Plaza     1\n",
       "20                                  203     1\n",
       "21              The Metropolitan Museum     1\n",
       "22                Madison Square Garden     1"
      ]
     },
     "execution_count": 633,
     "metadata": {},
     "output_type": "execute_result"
    }
   ],
   "source": [
    "# resetting index for readability\n",
    "name_no_year.NAME.value_counts().reset_index()"
   ]
  },
  {
   "cell_type": "code",
   "execution_count": 634,
   "metadata": {},
   "outputs": [
    {
     "data": {
      "text/plain": [
       "24"
      ]
     },
     "execution_count": 634,
     "metadata": {},
     "output_type": "execute_result"
    }
   ],
   "source": [
    "# printing the number of buildings with names but no 'CNSTRCT_YR'.\n",
    "len(name_no_year)"
   ]
  },
  {
   "cell_type": "markdown",
   "metadata": {},
   "source": [
    "# Nothing jumps out at me. We will assume Pieter Claesen Wyckoff House as the oldest building in this dataset."
   ]
  },
  {
   "cell_type": "markdown",
   "metadata": {},
   "source": [
    "# Assumption: Construction Year of 1652 as first building"
   ]
  },
  {
   "cell_type": "code",
   "execution_count": 635,
   "metadata": {},
   "outputs": [
    {
     "data": {
      "text/html": [
       "<div>\n",
       "<style scoped>\n",
       "    .dataframe tbody tr th:only-of-type {\n",
       "        vertical-align: middle;\n",
       "    }\n",
       "\n",
       "    .dataframe tbody tr th {\n",
       "        vertical-align: top;\n",
       "    }\n",
       "\n",
       "    .dataframe thead th {\n",
       "        text-align: right;\n",
       "    }\n",
       "</style>\n",
       "<table border=\"1\" class=\"dataframe\">\n",
       "  <thead>\n",
       "    <tr style=\"text-align: right;\">\n",
       "      <th></th>\n",
       "      <th>1079167</th>\n",
       "    </tr>\n",
       "  </thead>\n",
       "  <tbody>\n",
       "    <tr>\n",
       "      <th>BIN</th>\n",
       "      <td>3221967</td>\n",
       "    </tr>\n",
       "    <tr>\n",
       "      <th>NAME</th>\n",
       "      <td>Pieter Claesen Wyckoff House</td>\n",
       "    </tr>\n",
       "    <tr>\n",
       "      <th>CNSTRCT_YR</th>\n",
       "      <td>1652.000</td>\n",
       "    </tr>\n",
       "    <tr>\n",
       "      <th>the_geom</th>\n",
       "      <td>MULTIPOLYGON (((-73.92083460429942 40.64439765...</td>\n",
       "    </tr>\n",
       "    <tr>\n",
       "      <th>LSTMODDATE</th>\n",
       "      <td>01/28/2020 12:00:00 AM +0000</td>\n",
       "    </tr>\n",
       "    <tr>\n",
       "      <th>LSTSTATYPE</th>\n",
       "      <td>Constructed</td>\n",
       "    </tr>\n",
       "    <tr>\n",
       "      <th>DOITT_ID</th>\n",
       "      <td>550741</td>\n",
       "    </tr>\n",
       "    <tr>\n",
       "      <th>HEIGHTROOF</th>\n",
       "      <td>24.540</td>\n",
       "    </tr>\n",
       "    <tr>\n",
       "      <th>FEAT_CODE</th>\n",
       "      <td>2100.000</td>\n",
       "    </tr>\n",
       "    <tr>\n",
       "      <th>GROUNDELEV</th>\n",
       "      <td>14.000</td>\n",
       "    </tr>\n",
       "    <tr>\n",
       "      <th>SHAPE_AREA</th>\n",
       "      <td>2214.189</td>\n",
       "    </tr>\n",
       "    <tr>\n",
       "      <th>SHAPE_LEN</th>\n",
       "      <td>208.884</td>\n",
       "    </tr>\n",
       "    <tr>\n",
       "      <th>BASE_BBL</th>\n",
       "      <td>3079170009.000</td>\n",
       "    </tr>\n",
       "    <tr>\n",
       "      <th>MPLUTO_BBL</th>\n",
       "      <td>3079170009.000</td>\n",
       "    </tr>\n",
       "    <tr>\n",
       "      <th>GEOMSOURCE</th>\n",
       "      <td>Photogramm</td>\n",
       "    </tr>\n",
       "  </tbody>\n",
       "</table>\n",
       "</div>"
      ],
      "text/plain": [
       "                                                      1079167\n",
       "BIN                                                   3221967\n",
       "NAME                             Pieter Claesen Wyckoff House\n",
       "CNSTRCT_YR                                           1652.000\n",
       "the_geom    MULTIPOLYGON (((-73.92083460429942 40.64439765...\n",
       "LSTMODDATE                       01/28/2020 12:00:00 AM +0000\n",
       "LSTSTATYPE                                        Constructed\n",
       "DOITT_ID                                               550741\n",
       "HEIGHTROOF                                             24.540\n",
       "FEAT_CODE                                            2100.000\n",
       "GROUNDELEV                                             14.000\n",
       "SHAPE_AREA                                           2214.189\n",
       "SHAPE_LEN                                             208.884\n",
       "BASE_BBL                                       3079170009.000\n",
       "MPLUTO_BBL                                     3079170009.000\n",
       "GEOMSOURCE                                         Photogramm"
      ]
     },
     "execution_count": 635,
     "metadata": {},
     "output_type": "execute_result"
    }
   ],
   "source": [
    "# identifying the oldest building with a building name in this dataset and\n",
    "# transposing for readability.\n",
    "building_footprints[building_footprints.CNSTRCT_YR > 0].sort_values(by='CNSTRCT_YR').dropna(subset=['NAME']).head(1).T"
   ]
  },
  {
   "cell_type": "code",
   "execution_count": 636,
   "metadata": {},
   "outputs": [
    {
     "data": {
      "text/plain": [
       "array([0.0000000e+00,           nan, 2.0000000e+04, 2.0004000e+04,\n",
       "       2.0115000e+04, 1.9999979e+07, 2.0200000e+02])"
      ]
     },
     "execution_count": 636,
     "metadata": {},
     "output_type": "execute_result"
    }
   ],
   "source": [
    "# printing unique values in 'CNSTRCT_YR' not between 1652 and 2020.\n",
    "building_footprints[~building_footprints['CNSTRCT_YR'].between(1652, 2020)]['CNSTRCT_YR'].unique()"
   ]
  },
  {
   "cell_type": "code",
   "execution_count": 637,
   "metadata": {},
   "outputs": [
    {
     "name": "stdout",
     "output_type": "stream",
     "text": [
      "0.0\n",
      "nan\n",
      "20000.0\n",
      "20004.0\n",
      "20115.0\n",
      "19999979.0\n",
      "202.0\n"
     ]
    }
   ],
   "source": [
    "# saving unique values in 'CNSTRCT_YR' not between 1652 and 2020 as unique_values.\n",
    "unique_values = building_footprints[~building_footprints['CNSTRCT_YR'].between(1652, 2020)]['CNSTRCT_YR'].unique()\n",
    "\n",
    "# printing unique_values separated by a new line.\n",
    "print(*unique_values, sep='\\n')"
   ]
  },
  {
   "cell_type": "code",
   "execution_count": 638,
   "metadata": {},
   "outputs": [
    {
     "name": "stdout",
     "output_type": "stream",
     "text": [
      "0.0\n",
      "202.0\n",
      "20000.0\n",
      "20004.0\n",
      "20115.0\n",
      "19999979.0\n",
      "nan\n"
     ]
    }
   ],
   "source": [
    "# sorting unique_values in ascending order\n",
    "unique_values_sorted = np.sort(unique_values)\n",
    "\n",
    "# printing sorted unique_values separated by a new line\n",
    "print(*unique_values_sorted, sep='\\n')"
   ]
  },
  {
   "cell_type": "code",
   "execution_count": 639,
   "metadata": {},
   "outputs": [
    {
     "data": {
      "text/plain": [
       "6"
      ]
     },
     "execution_count": 639,
     "metadata": {},
     "output_type": "execute_result"
    }
   ],
   "source": [
    "# printing number of unique values not between 1652 and 2020 in 'CNSTRCT_YR'.\n",
    "building_footprints[~building_footprints['CNSTRCT_YR'].between(1652, 2020)]['CNSTRCT_YR'].nunique()"
   ]
  },
  {
   "cell_type": "code",
   "execution_count": 640,
   "metadata": {},
   "outputs": [
    {
     "data": {
      "text/plain": [
       "0.000           6140\n",
       "20000.000          2\n",
       "202.000            1\n",
       "20115.000          1\n",
       "19999979.000       1\n",
       "20004.000          1\n",
       "Name: CNSTRCT_YR, dtype: int64"
      ]
     },
     "execution_count": 640,
     "metadata": {},
     "output_type": "execute_result"
    }
   ],
   "source": [
    "# printing the counts of values not between 1652 and 2020 in 'CNSTRCT_YR'.\n",
    "building_footprints[~building_footprints['CNSTRCT_YR'].between(1652, 2020)]['CNSTRCT_YR'].value_counts()"
   ]
  },
  {
   "cell_type": "code",
   "execution_count": 641,
   "metadata": {},
   "outputs": [
    {
     "data": {
      "text/plain": [
       "0.000           6140\n",
       "202.000            1\n",
       "20000.000          2\n",
       "20004.000          1\n",
       "20115.000          1\n",
       "19999979.000       1\n",
       "Name: CNSTRCT_YR, dtype: int64"
      ]
     },
     "execution_count": 641,
     "metadata": {},
     "output_type": "execute_result"
    }
   ],
   "source": [
    "# printing the counts of values not between 1652 and 2020 in 'CNSTRCT_YR'\n",
    "# and sorting by 'CNSTRCT_YR' (in this case, the index)\n",
    "building_footprints[~building_footprints['CNSTRCT_YR'].between(1652, 2020)]['CNSTRCT_YR'].value_counts().sort_index()"
   ]
  },
  {
   "cell_type": "code",
   "execution_count": 642,
   "metadata": {},
   "outputs": [
    {
     "name": "stdout",
     "output_type": "stream",
     "text": [
      "6146\n"
     ]
    }
   ],
   "source": [
    "# saving sum of values not between 1652 and 2020 in 'CNSTRCT_YR'.\n",
    "num_of_outliers = building_footprints[~building_footprints['CNSTRCT_YR'].between(1652, 2020)]['CNSTRCT_YR'].value_counts().sum()\n",
    "\n",
    "# printing sum of values not between 1652 and 2020 in 'CNSTRCT_YR'.\n",
    "print(num_of_outliers)"
   ]
  },
  {
   "cell_type": "code",
   "execution_count": 643,
   "metadata": {},
   "outputs": [
    {
     "name": "stdout",
     "output_type": "stream",
     "text": [
      "Possible outliers: 6,146\n"
     ]
    }
   ],
   "source": [
    "# formatting sentance of possible outliers\n",
    "print('Possible outliers: ' +  \"{:,}\".format(num_of_outliers))"
   ]
  },
  {
   "cell_type": "markdown",
   "metadata": {},
   "source": [
    "## 4.3 Replacing Outliers with Null/NA Values"
   ]
  },
  {
   "cell_type": "markdown",
   "metadata": {},
   "source": [
    "One of my favorite pandas methods is `pd.to_numeric()`. We set `errors='coerce'` so any value that can not be converted to an integer returns 'NaN.' And then, you guest it, we can fill in these NaN values."
   ]
  },
  {
   "cell_type": "code",
   "execution_count": 644,
   "metadata": {},
   "outputs": [
    {
     "data": {
      "text/plain": [
       "4881"
      ]
     },
     "execution_count": 644,
     "metadata": {},
     "output_type": "execute_result"
    }
   ],
   "source": [
    "# summing null/na values in the 'CNSTRCT_YR' column\n",
    "building_footprints['CNSTRCT_YR'].isna().sum()"
   ]
  },
  {
   "cell_type": "code",
   "execution_count": 645,
   "metadata": {},
   "outputs": [
    {
     "data": {
      "text/plain": [
       "0         2009.000\n",
       "1         1930.000\n",
       "2         1960.000\n",
       "3         1920.000\n",
       "4         1915.000\n",
       "            ...   \n",
       "1084899   2020.000\n",
       "1084900   2020.000\n",
       "1084901   2020.000\n",
       "1084902   2020.000\n",
       "1084903   2020.000\n",
       "Name: CNSTRCT_YR, Length: 1084904, dtype: float64"
      ]
     },
     "execution_count": 645,
     "metadata": {},
     "output_type": "execute_result"
    }
   ],
   "source": [
    "# converting all the values in our 'CNSTRCT_YR' column as numeric\n",
    "# invalid conversions will be set as NaN with errors='coerce'\n",
    "pd.to_numeric(building_footprints['CNSTRCT_YR'], downcast='integer', errors='coerce')"
   ]
  },
  {
   "cell_type": "code",
   "execution_count": 646,
   "metadata": {},
   "outputs": [
    {
     "data": {
      "text/plain": [
       "4881"
      ]
     },
     "execution_count": 646,
     "metadata": {},
     "output_type": "execute_result"
    }
   ],
   "source": [
    "# summing null/na values in the 'CNSTRCT_YR' column\n",
    "building_footprints['CNSTRCT_YR'].isna().sum()"
   ]
  },
  {
   "cell_type": "code",
   "execution_count": 647,
   "metadata": {},
   "outputs": [
    {
     "name": "stdout",
     "output_type": "stream",
     "text": [
      "1946.6465871560142\n",
      "1930.0\n"
     ]
    }
   ],
   "source": [
    "# printing the mean and median of the 'CNSTRCT_YR' column\n",
    "print(building_footprints['CNSTRCT_YR'].mean())\n",
    "print(building_footprints['CNSTRCT_YR'].median())"
   ]
  },
  {
   "cell_type": "code",
   "execution_count": 648,
   "metadata": {},
   "outputs": [],
   "source": [
    "# identifying values not between 1652 and 2020 and saving as the name 'replace'\n",
    "replace = building_footprints[~building_footprints['CNSTRCT_YR'].between(1652, 2020)]\n",
    "\n",
    "# replacing values not between 1652 and 2020 with nan\n",
    "building_footprints[['CNSTRCT_YR']] = building_footprints[['CNSTRCT_YR']].replace(replace, np.nan)"
   ]
  },
  {
   "cell_type": "code",
   "execution_count": 649,
   "metadata": {},
   "outputs": [
    {
     "name": "stdout",
     "output_type": "stream",
     "text": [
      "Series([], Name: CNSTRCT_YR, dtype: int64)\n",
      "Possible outliers: 0\n"
     ]
    }
   ],
   "source": [
    "# printing count of values not between 1652 and 2020\n",
    "print(building_footprints[~building_footprints['CNSTRCT_YR'].between(1652, 2020)]['CNSTRCT_YR'].value_counts())\n",
    "\n",
    "# summing number of values not between 1652 and 2020\n",
    "sum_nan = building_footprints[~building_footprints['CNSTRCT_YR'].between(1652, 2020)]['CNSTRCT_YR'].value_counts().sum()\n",
    "print('Possible outliers:', sum_nan)"
   ]
  },
  {
   "cell_type": "code",
   "execution_count": 650,
   "metadata": {},
   "outputs": [
    {
     "name": "stdout",
     "output_type": "stream",
     "text": [
      "2020.0\n",
      "1652.0\n"
     ]
    }
   ],
   "source": [
    "print(building_footprints['CNSTRCT_YR'].max()) # print max value\n",
    "print(building_footprints['CNSTRCT_YR'].min()) # print min value"
   ]
  },
  {
   "cell_type": "code",
   "execution_count": 651,
   "metadata": {},
   "outputs": [
    {
     "data": {
      "text/plain": [
       "11027"
      ]
     },
     "execution_count": 651,
     "metadata": {},
     "output_type": "execute_result"
    }
   ],
   "source": [
    "# summing null/na values in the 'CNSTRCT_YR' column\n",
    "building_footprints['CNSTRCT_YR'].isna().sum()"
   ]
  },
  {
   "cell_type": "markdown",
   "metadata": {},
   "source": [
    "## 4.4 Dropping Null/NA Values"
   ]
  },
  {
   "cell_type": "code",
   "execution_count": 652,
   "metadata": {},
   "outputs": [
    {
     "data": {
      "text/plain": [
       "1084904"
      ]
     },
     "execution_count": 652,
     "metadata": {},
     "output_type": "execute_result"
    }
   ],
   "source": [
    "# print number of rows\n",
    "len(building_footprints)"
   ]
  },
  {
   "cell_type": "code",
   "execution_count": 653,
   "metadata": {},
   "outputs": [
    {
     "data": {
      "text/plain": [
       "1073877"
      ]
     },
     "execution_count": 653,
     "metadata": {},
     "output_type": "execute_result"
    }
   ],
   "source": [
    "# drop nan in 'CNSTRCT_YR' and then print number of rows \n",
    "len(building_footprints.dropna(subset=['CNSTRCT_YR']))"
   ]
  },
  {
   "cell_type": "code",
   "execution_count": 654,
   "metadata": {},
   "outputs": [
    {
     "data": {
      "text/plain": [
       "11027"
      ]
     },
     "execution_count": 654,
     "metadata": {},
     "output_type": "execute_result"
    }
   ],
   "source": [
    "# print number of dropped records where 'CNSTRCT_YR' is nan \n",
    "len(building_footprints) - len(building_footprints.dropna(subset=['CNSTRCT_YR']))"
   ]
  },
  {
   "cell_type": "code",
   "execution_count": 655,
   "metadata": {},
   "outputs": [
    {
     "name": "stdout",
     "output_type": "stream",
     "text": [
      "Dropping 11,027 (or 0.01% of total) nulls from dataset.\n"
     ]
    }
   ],
   "source": [
    "# formatting a sentance for dropped records\n",
    "\n",
    "print('Dropping ' + \\\n",
    "      (\"{:,}\".format(len(building_footprints) - \\\n",
    "                     len(building_footprints.dropna(subset=['CNSTRCT_YR'])))) \\\n",
    "      + ' (or '\n",
    "      + (\"{:,.2f}\".format((len(building_footprints) - \\\n",
    "                          len(building_footprints.dropna(subset=['CNSTRCT_YR'])))/len(building_footprints)))\n",
    "      + '% of total) nulls from dataset.')"
   ]
  },
  {
   "cell_type": "code",
   "execution_count": 656,
   "metadata": {
    "scrolled": true
   },
   "outputs": [
    {
     "name": "stdout",
     "output_type": "stream",
     "text": [
      "1073877\n"
     ]
    }
   ],
   "source": [
    "# saving new dataframe called 'building_footprints_dropna' and dropped all records \n",
    "# where 'CNSTRCT_YR' as nan\n",
    "building_footprints_dropna = building_footprints.dropna(subset=['CNSTRCT_YR'])\n",
    "\n",
    "# printing number of records\n",
    "print(len(building_footprints_dropna))"
   ]
  },
  {
   "cell_type": "code",
   "execution_count": 657,
   "metadata": {},
   "outputs": [
    {
     "data": {
      "text/html": [
       "<div>\n",
       "<style scoped>\n",
       "    .dataframe tbody tr th:only-of-type {\n",
       "        vertical-align: middle;\n",
       "    }\n",
       "\n",
       "    .dataframe tbody tr th {\n",
       "        vertical-align: top;\n",
       "    }\n",
       "\n",
       "    .dataframe thead th {\n",
       "        text-align: right;\n",
       "    }\n",
       "</style>\n",
       "<table border=\"1\" class=\"dataframe\">\n",
       "  <thead>\n",
       "    <tr style=\"text-align: right;\">\n",
       "      <th></th>\n",
       "      <th>BIN</th>\n",
       "      <th>NAME</th>\n",
       "      <th>CNSTRCT_YR</th>\n",
       "      <th>the_geom</th>\n",
       "      <th>LSTMODDATE</th>\n",
       "      <th>LSTSTATYPE</th>\n",
       "      <th>DOITT_ID</th>\n",
       "      <th>HEIGHTROOF</th>\n",
       "      <th>FEAT_CODE</th>\n",
       "      <th>GROUNDELEV</th>\n",
       "      <th>SHAPE_AREA</th>\n",
       "      <th>SHAPE_LEN</th>\n",
       "      <th>BASE_BBL</th>\n",
       "      <th>MPLUTO_BBL</th>\n",
       "      <th>GEOMSOURCE</th>\n",
       "    </tr>\n",
       "  </thead>\n",
       "  <tbody>\n",
       "    <tr>\n",
       "      <th>0</th>\n",
       "      <td>3394646</td>\n",
       "      <td>NaN</td>\n",
       "      <td>2009.000</td>\n",
       "      <td>MULTIPOLYGON (((-73.87129515296562 40.65717370...</td>\n",
       "      <td>08/22/2017 12:00:00 AM +0000</td>\n",
       "      <td>Constructed</td>\n",
       "      <td>1212853</td>\n",
       "      <td>21.609</td>\n",
       "      <td>2100.000</td>\n",
       "      <td>18.000</td>\n",
       "      <td>854.662</td>\n",
       "      <td>125.080</td>\n",
       "      <td>3044520815.000</td>\n",
       "      <td>3044520815.000</td>\n",
       "      <td>Photogramm</td>\n",
       "    </tr>\n",
       "    <tr>\n",
       "      <th>1</th>\n",
       "      <td>4548330</td>\n",
       "      <td>NaN</td>\n",
       "      <td>1930.000</td>\n",
       "      <td>MULTIPOLYGON (((-73.87670970144625 40.71425234...</td>\n",
       "      <td>08/17/2017 12:00:00 AM +0000</td>\n",
       "      <td>Constructed</td>\n",
       "      <td>1226227</td>\n",
       "      <td>10.360</td>\n",
       "      <td>5110.000</td>\n",
       "      <td>122.000</td>\n",
       "      <td>217.594</td>\n",
       "      <td>60.226</td>\n",
       "      <td>4030640041.000</td>\n",
       "      <td>4030640041.000</td>\n",
       "      <td>Photogramm</td>\n",
       "    </tr>\n",
       "    <tr>\n",
       "      <th>2</th>\n",
       "      <td>4460479</td>\n",
       "      <td>NaN</td>\n",
       "      <td>1960.000</td>\n",
       "      <td>MULTIPOLYGON (((-73.85195485799383 40.66235471...</td>\n",
       "      <td>08/22/2017 12:00:00 AM +0000</td>\n",
       "      <td>Constructed</td>\n",
       "      <td>581946</td>\n",
       "      <td>29.812</td>\n",
       "      <td>2100.000</td>\n",
       "      <td>10.000</td>\n",
       "      <td>946.427</td>\n",
       "      <td>123.142</td>\n",
       "      <td>4139430001.000</td>\n",
       "      <td>4139430001.000</td>\n",
       "      <td>Photogramm</td>\n",
       "    </tr>\n",
       "    <tr>\n",
       "      <th>3</th>\n",
       "      <td>3355684</td>\n",
       "      <td>NaN</td>\n",
       "      <td>1920.000</td>\n",
       "      <td>MULTIPOLYGON (((-73.94029215265738 40.64108287...</td>\n",
       "      <td>08/17/2017 12:00:00 AM +0000</td>\n",
       "      <td>Constructed</td>\n",
       "      <td>858061</td>\n",
       "      <td>11.200</td>\n",
       "      <td>5110.000</td>\n",
       "      <td>32.000</td>\n",
       "      <td>248.678</td>\n",
       "      <td>63.941</td>\n",
       "      <td>3049720006.000</td>\n",
       "      <td>3049720006.000</td>\n",
       "      <td>Photogramm</td>\n",
       "    </tr>\n",
       "    <tr>\n",
       "      <th>4</th>\n",
       "      <td>3131737</td>\n",
       "      <td>NaN</td>\n",
       "      <td>1915.000</td>\n",
       "      <td>MULTIPOLYGON (((-73.98998983552244 40.62383804...</td>\n",
       "      <td>08/22/2017 12:00:00 AM +0000</td>\n",
       "      <td>Constructed</td>\n",
       "      <td>568078</td>\n",
       "      <td>24.980</td>\n",
       "      <td>2100.000</td>\n",
       "      <td>44.000</td>\n",
       "      <td>1163.228</td>\n",
       "      <td>165.609</td>\n",
       "      <td>3055100055.000</td>\n",
       "      <td>3055100055.000</td>\n",
       "      <td>Photogramm</td>\n",
       "    </tr>\n",
       "  </tbody>\n",
       "</table>\n",
       "</div>"
      ],
      "text/plain": [
       "       BIN NAME  CNSTRCT_YR  \\\n",
       "0  3394646  NaN    2009.000   \n",
       "1  4548330  NaN    1930.000   \n",
       "2  4460479  NaN    1960.000   \n",
       "3  3355684  NaN    1920.000   \n",
       "4  3131737  NaN    1915.000   \n",
       "\n",
       "                                            the_geom  \\\n",
       "0  MULTIPOLYGON (((-73.87129515296562 40.65717370...   \n",
       "1  MULTIPOLYGON (((-73.87670970144625 40.71425234...   \n",
       "2  MULTIPOLYGON (((-73.85195485799383 40.66235471...   \n",
       "3  MULTIPOLYGON (((-73.94029215265738 40.64108287...   \n",
       "4  MULTIPOLYGON (((-73.98998983552244 40.62383804...   \n",
       "\n",
       "                     LSTMODDATE   LSTSTATYPE  DOITT_ID  HEIGHTROOF  FEAT_CODE  \\\n",
       "0  08/22/2017 12:00:00 AM +0000  Constructed   1212853      21.609   2100.000   \n",
       "1  08/17/2017 12:00:00 AM +0000  Constructed   1226227      10.360   5110.000   \n",
       "2  08/22/2017 12:00:00 AM +0000  Constructed    581946      29.812   2100.000   \n",
       "3  08/17/2017 12:00:00 AM +0000  Constructed    858061      11.200   5110.000   \n",
       "4  08/22/2017 12:00:00 AM +0000  Constructed    568078      24.980   2100.000   \n",
       "\n",
       "   GROUNDELEV  SHAPE_AREA  SHAPE_LEN       BASE_BBL     MPLUTO_BBL  GEOMSOURCE  \n",
       "0      18.000     854.662    125.080 3044520815.000 3044520815.000  Photogramm  \n",
       "1     122.000     217.594     60.226 4030640041.000 4030640041.000  Photogramm  \n",
       "2      10.000     946.427    123.142 4139430001.000 4139430001.000  Photogramm  \n",
       "3      32.000     248.678     63.941 3049720006.000 3049720006.000  Photogramm  \n",
       "4      44.000    1163.228    165.609 3055100055.000 3055100055.000  Photogramm  "
      ]
     },
     "execution_count": 657,
     "metadata": {},
     "output_type": "execute_result"
    }
   ],
   "source": [
    "# preview first five rows\n",
    "building_footprints_dropna.head()"
   ]
  },
  {
   "cell_type": "code",
   "execution_count": 658,
   "metadata": {},
   "outputs": [
    {
     "name": "stdout",
     "output_type": "stream",
     "text": [
      "1677-09-21 00:12:43.145225\n",
      "2262-04-11 23:47:16.854775807\n"
     ]
    }
   ],
   "source": [
    "# print the min and max of pandas timestamps  \n",
    "print(pd.Timestamp.min)\n",
    "print(pd.Timestamp.max)"
   ]
  },
  {
   "cell_type": "code",
   "execution_count": 659,
   "metadata": {},
   "outputs": [
    {
     "data": {
      "image/png": "[encoded data removed]",
      "text/plain": [
       "<Figure size 1080x720 with 1 Axes>"
      ]
     },
     "metadata": {
      "needs_background": "light"
     },
     "output_type": "display_data"
    }
   ],
   "source": [
    "# making a histogram of our 'CNSTRCT_YR' column with 10 bins\n",
    "building_footprints_dropna['CNSTRCT_YR'].hist(bins=10, figsize=(15,10))\n",
    "plt.xlabel('Construction Year', fontsize=15)\n",
    "plt.ylabel('Counts', fontsize=15)\n",
    "plt.title('Histogram of Construction Year Values Between \\\n",
    "1652 and 2020 Excluding NaNs', fontsize=15)\n",
    "plt.savefig('figures/fig-2.png')"
   ]
  },
  {
   "cell_type": "code",
   "execution_count": 660,
   "metadata": {},
   "outputs": [
    {
     "data": {
      "text/plain": [
       "Text(0.5, 1.0, 'Histogram of Construction Year Values Between 1652 and 2020 Excluding NaNs')"
      ]
     },
     "execution_count": 660,
     "metadata": {},
     "output_type": "execute_result"
    },
    {
     "data": {
      "image/png": "[encoded data removed]",
      "text/plain": [
       "<Figure size 1080x720 with 1 Axes>"
      ]
     },
     "metadata": {
      "needs_background": "light"
     },
     "output_type": "display_data"
    }
   ],
   "source": [
    "# making a histogram of our 'CNSTRCT_YR' column with 25 bins\n",
    "building_footprints_dropna['CNSTRCT_YR'].hist(bins=25, figsize=(15,10))\n",
    "plt.xlabel('Construction Year', fontsize=15)\n",
    "plt.ylabel('Counts', fontsize=15)\n",
    "plt.title('Histogram of Construction Year Values Between \\\n",
    "1652 and 2020 Excluding NaNs', fontsize=15)"
   ]
  },
  {
   "cell_type": "code",
   "execution_count": 661,
   "metadata": {},
   "outputs": [
    {
     "data": {
      "text/html": [
       "<div>\n",
       "<style scoped>\n",
       "    .dataframe tbody tr th:only-of-type {\n",
       "        vertical-align: middle;\n",
       "    }\n",
       "\n",
       "    .dataframe tbody tr th {\n",
       "        vertical-align: top;\n",
       "    }\n",
       "\n",
       "    .dataframe thead th {\n",
       "        text-align: right;\n",
       "    }\n",
       "</style>\n",
       "<table border=\"1\" class=\"dataframe\">\n",
       "  <thead>\n",
       "    <tr style=\"text-align: right;\">\n",
       "      <th></th>\n",
       "      <th>CNSTRCT_YR</th>\n",
       "      <th>count</th>\n",
       "    </tr>\n",
       "  </thead>\n",
       "  <tbody>\n",
       "    <tr>\n",
       "      <th>1652</th>\n",
       "      <td>1652.000</td>\n",
       "      <td>1</td>\n",
       "    </tr>\n",
       "    <tr>\n",
       "      <th>1661</th>\n",
       "      <td>1661.000</td>\n",
       "      <td>2</td>\n",
       "    </tr>\n",
       "    <tr>\n",
       "      <th>1665</th>\n",
       "      <td>1665.000</td>\n",
       "      <td>1</td>\n",
       "    </tr>\n",
       "    <tr>\n",
       "      <th>1680</th>\n",
       "      <td>1680.000</td>\n",
       "      <td>1</td>\n",
       "    </tr>\n",
       "    <tr>\n",
       "      <th>1690</th>\n",
       "      <td>1690.000</td>\n",
       "      <td>1</td>\n",
       "    </tr>\n",
       "  </tbody>\n",
       "</table>\n",
       "</div>"
      ],
      "text/plain": [
       "      CNSTRCT_YR  count\n",
       "1652    1652.000      1\n",
       "1661    1661.000      2\n",
       "1665    1665.000      1\n",
       "1680    1680.000      1\n",
       "1690    1690.000      1"
      ]
     },
     "execution_count": 661,
     "metadata": {},
     "output_type": "execute_result"
    }
   ],
   "source": [
    "# returning number of buildings by year as 'g'\n",
    "\n",
    "g = building_footprints_dropna.groupby('CNSTRCT_YR')['DOITT_ID'].count().reset_index()\n",
    "g.rename({'DOITT_ID': 'count'}, axis=1, inplace=True)\n",
    "g.set_index('CNSTRCT_YR', drop=False, inplace=True)\n",
    "g.index = g.index.astype('int64')\n",
    "\n",
    "g.head()"
   ]
  },
  {
   "cell_type": "code",
   "execution_count": 662,
   "metadata": {},
   "outputs": [
    {
     "data": {
      "image/png": "[encoded data removed]",
      "text/plain": [
       "<Figure size 1080x720 with 1 Axes>"
      ]
     },
     "metadata": {
      "needs_background": "light"
     },
     "output_type": "display_data"
    }
   ],
   "source": [
    "fig, ax = plt.subplots(figsize=(15,10))\n",
    "\n",
    "# plotting line chart of number of buildings by 'CNSTRCT_YR'\n",
    "ax.plot(g['count'], linewidth=4)\n",
    "\n",
    "# formatting Y axis with comma\n",
    "ax.get_yaxis().set_major_formatter(\n",
    "    matplotlib.ticker.FuncFormatter(lambda x, p: format(int(x), ',')))\n",
    "\n",
    "plt.xlabel('Construction Year', fontsize=15)\n",
    "plt.ylabel('Number of Buildings', fontsize=15)\n",
    "plt.title('Number of Buildings by Construction Year in NYC', fontsize=17)\n",
    "plt.tight_layout()\n",
    "plt.savefig('figures/fig-3.png')"
   ]
  },
  {
   "cell_type": "code",
   "execution_count": 663,
   "metadata": {},
   "outputs": [
    {
     "data": {
      "text/plain": [
       "1901    26851\n",
       "1902      501\n",
       "1903      506\n",
       "1904      579\n",
       "1905     8448\n",
       "        ...  \n",
       "2016     1743\n",
       "2017     1866\n",
       "2018     2050\n",
       "2019      802\n",
       "2020      479\n",
       "Name: count, Length: 120, dtype: int64"
      ]
     },
     "execution_count": 663,
     "metadata": {},
     "output_type": "execute_result"
    }
   ],
   "source": [
    "# previewing number of buildings constructed after 1900\n",
    "g[g['CNSTRCT_YR'] > 1900]['count']"
   ]
  },
  {
   "cell_type": "code",
   "execution_count": 664,
   "metadata": {},
   "outputs": [
    {
     "data": {
      "image/png": "[encoded data removed]",
      "text/plain": [
       "<Figure size 1080x720 with 1 Axes>"
      ]
     },
     "metadata": {
      "needs_background": "light"
     },
     "output_type": "display_data"
    }
   ],
   "source": [
    "fig, ax = plt.subplots(figsize=(15,10))\n",
    "\n",
    "# plotting line chart of number of buildings by 'CNSTRCT_YR' built after 1900\n",
    "ax.plot(g[g['CNSTRCT_YR'] > 1900]['count'], linewidth=4)\n",
    "\n",
    "# formatting Y axis with comma\n",
    "ax.get_yaxis().set_major_formatter(\n",
    "    matplotlib.ticker.FuncFormatter(lambda x, p: format(int(x), ',')))\n",
    "\n",
    "plt.xlabel('Construction Year', fontsize=15)\n",
    "plt.ylabel('Number of Buildings', fontsize=15)\n",
    "plt.title('Number of Buildings by Construction Year Built After 1900 in NYC', fontsize=17)\n",
    "plt.tight_layout()\n",
    "plt.savefig('figures/fig-4.png')"
   ]
  },
  {
   "cell_type": "code",
   "execution_count": 665,
   "metadata": {},
   "outputs": [
    {
     "data": {
      "text/html": [
       "<div>\n",
       "<style scoped>\n",
       "    .dataframe tbody tr th:only-of-type {\n",
       "        vertical-align: middle;\n",
       "    }\n",
       "\n",
       "    .dataframe tbody tr th {\n",
       "        vertical-align: top;\n",
       "    }\n",
       "\n",
       "    .dataframe thead th {\n",
       "        text-align: right;\n",
       "    }\n",
       "</style>\n",
       "<table border=\"1\" class=\"dataframe\">\n",
       "  <thead>\n",
       "    <tr style=\"text-align: right;\">\n",
       "      <th></th>\n",
       "      <th>CNSTRCT_YR</th>\n",
       "      <th>count</th>\n",
       "    </tr>\n",
       "  </thead>\n",
       "  <tbody>\n",
       "    <tr>\n",
       "      <th>1652</th>\n",
       "      <td>1652.000</td>\n",
       "      <td>1</td>\n",
       "    </tr>\n",
       "    <tr>\n",
       "      <th>1661</th>\n",
       "      <td>1661.000</td>\n",
       "      <td>2</td>\n",
       "    </tr>\n",
       "    <tr>\n",
       "      <th>1665</th>\n",
       "      <td>1665.000</td>\n",
       "      <td>1</td>\n",
       "    </tr>\n",
       "    <tr>\n",
       "      <th>1680</th>\n",
       "      <td>1680.000</td>\n",
       "      <td>1</td>\n",
       "    </tr>\n",
       "    <tr>\n",
       "      <th>1690</th>\n",
       "      <td>1690.000</td>\n",
       "      <td>1</td>\n",
       "    </tr>\n",
       "  </tbody>\n",
       "</table>\n",
       "</div>"
      ],
      "text/plain": [
       "      CNSTRCT_YR  count\n",
       "1652    1652.000      1\n",
       "1661    1661.000      2\n",
       "1665    1665.000      1\n",
       "1680    1680.000      1\n",
       "1690    1690.000      1"
      ]
     },
     "execution_count": 665,
     "metadata": {},
     "output_type": "execute_result"
    }
   ],
   "source": [
    "# previewing first five rows\n",
    "g.head()"
   ]
  },
  {
   "cell_type": "code",
   "execution_count": 666,
   "metadata": {},
   "outputs": [],
   "source": [
    "# calculating the cumulative sum of buildings by 'CNSTRCT_YR'\n",
    "g['cumsum'] = g['count'].cumsum()"
   ]
  },
  {
   "cell_type": "code",
   "execution_count": 667,
   "metadata": {},
   "outputs": [
    {
     "data": {
      "text/html": [
       "<div>\n",
       "<style scoped>\n",
       "    .dataframe tbody tr th:only-of-type {\n",
       "        vertical-align: middle;\n",
       "    }\n",
       "\n",
       "    .dataframe tbody tr th {\n",
       "        vertical-align: top;\n",
       "    }\n",
       "\n",
       "    .dataframe thead th {\n",
       "        text-align: right;\n",
       "    }\n",
       "</style>\n",
       "<table border=\"1\" class=\"dataframe\">\n",
       "  <thead>\n",
       "    <tr style=\"text-align: right;\">\n",
       "      <th></th>\n",
       "      <th>CNSTRCT_YR</th>\n",
       "      <th>count</th>\n",
       "      <th>cumsum</th>\n",
       "    </tr>\n",
       "  </thead>\n",
       "  <tbody>\n",
       "    <tr>\n",
       "      <th>1652</th>\n",
       "      <td>1652.000</td>\n",
       "      <td>1</td>\n",
       "      <td>1</td>\n",
       "    </tr>\n",
       "    <tr>\n",
       "      <th>1661</th>\n",
       "      <td>1661.000</td>\n",
       "      <td>2</td>\n",
       "      <td>3</td>\n",
       "    </tr>\n",
       "    <tr>\n",
       "      <th>1665</th>\n",
       "      <td>1665.000</td>\n",
       "      <td>1</td>\n",
       "      <td>4</td>\n",
       "    </tr>\n",
       "    <tr>\n",
       "      <th>1680</th>\n",
       "      <td>1680.000</td>\n",
       "      <td>1</td>\n",
       "      <td>5</td>\n",
       "    </tr>\n",
       "    <tr>\n",
       "      <th>1690</th>\n",
       "      <td>1690.000</td>\n",
       "      <td>1</td>\n",
       "      <td>6</td>\n",
       "    </tr>\n",
       "  </tbody>\n",
       "</table>\n",
       "</div>"
      ],
      "text/plain": [
       "      CNSTRCT_YR  count  cumsum\n",
       "1652    1652.000      1       1\n",
       "1661    1661.000      2       3\n",
       "1665    1665.000      1       4\n",
       "1680    1680.000      1       5\n",
       "1690    1690.000      1       6"
      ]
     },
     "execution_count": 667,
     "metadata": {},
     "output_type": "execute_result"
    }
   ],
   "source": [
    "# previewing first five rows\n",
    "g.head()"
   ]
  },
  {
   "cell_type": "code",
   "execution_count": 668,
   "metadata": {},
   "outputs": [
    {
     "data": {
      "image/png": "[encoded data removed]",
      "text/plain": [
       "<Figure size 1080x720 with 1 Axes>"
      ]
     },
     "metadata": {
      "needs_background": "light"
     },
     "output_type": "display_data"
    }
   ],
   "source": [
    "fig, ax = plt.subplots(figsize=(15,10))\n",
    "\n",
    "# plotting line chart of cumulative number of buildings by 'CNSTRCT_YR'\n",
    "ax.plot(g['cumsum'], linewidth=4)\n",
    "\n",
    "# formatting Y axis with comma\n",
    "ax.get_yaxis().set_major_formatter(\n",
    "    matplotlib.ticker.FuncFormatter(lambda x, p: format(int(x), ',')))\n",
    "\n",
    "plt.xlabel('Construction Year', fontsize=15)\n",
    "plt.ylabel('Cumulative Number of Buildings', fontsize=15)\n",
    "plt.title('Cumulative Number of Buildings by Construction Year in NYC', fontsize=17)\n",
    "plt.tight_layout()\n",
    "plt.savefig('figures/fig-5.png')"
   ]
  },
  {
   "cell_type": "code",
   "execution_count": 669,
   "metadata": {},
   "outputs": [
    {
     "data": {
      "image/png": "[encoded data removed]",
      "text/plain": [
       "<Figure size 1080x720 with 1 Axes>"
      ]
     },
     "metadata": {
      "needs_background": "light"
     },
     "output_type": "display_data"
    }
   ],
   "source": [
    "fig, ax = plt.subplots(figsize=(15,10))\n",
    "\n",
    "# plotting line chart of cumulative number of buildings by 'CNSTRCT_YR' built after 1900\n",
    "ax.plot(g[g['CNSTRCT_YR'] > 1900]['cumsum'], linewidth=4)\n",
    "\n",
    "# formatting Y axis with comma\n",
    "ax.get_yaxis().set_major_formatter(\n",
    "    matplotlib.ticker.FuncFormatter(lambda x, p: format(int(x), ',')))\n",
    "\n",
    "plt.xlabel('Construction Year', fontsize=15)\n",
    "plt.ylabel('Cumulative Number of Buildings', fontsize=15)\n",
    "plt.title('Cumulative Number of Buildings by Construction Year Built After 1900 in NYC', fontsize=17)\n",
    "plt.tight_layout()\n",
    "plt.savefig('figures/fig-6.png')"
   ]
  },
  {
   "cell_type": "markdown",
   "metadata": {},
   "source": [
    "## 4.5 Filling In Null/NA Values With Median "
   ]
  },
  {
   "cell_type": "code",
   "execution_count": 670,
   "metadata": {},
   "outputs": [
    {
     "data": {
      "text/html": [
       "<div>\n",
       "<style scoped>\n",
       "    .dataframe tbody tr th:only-of-type {\n",
       "        vertical-align: middle;\n",
       "    }\n",
       "\n",
       "    .dataframe tbody tr th {\n",
       "        vertical-align: top;\n",
       "    }\n",
       "\n",
       "    .dataframe thead th {\n",
       "        text-align: right;\n",
       "    }\n",
       "</style>\n",
       "<table border=\"1\" class=\"dataframe\">\n",
       "  <thead>\n",
       "    <tr style=\"text-align: right;\">\n",
       "      <th></th>\n",
       "      <th>BIN</th>\n",
       "      <th>NAME</th>\n",
       "      <th>CNSTRCT_YR</th>\n",
       "      <th>the_geom</th>\n",
       "      <th>LSTMODDATE</th>\n",
       "      <th>LSTSTATYPE</th>\n",
       "      <th>DOITT_ID</th>\n",
       "      <th>HEIGHTROOF</th>\n",
       "      <th>FEAT_CODE</th>\n",
       "      <th>GROUNDELEV</th>\n",
       "      <th>SHAPE_AREA</th>\n",
       "      <th>SHAPE_LEN</th>\n",
       "      <th>BASE_BBL</th>\n",
       "      <th>MPLUTO_BBL</th>\n",
       "      <th>GEOMSOURCE</th>\n",
       "    </tr>\n",
       "  </thead>\n",
       "  <tbody>\n",
       "    <tr>\n",
       "      <th>0</th>\n",
       "      <td>3394646</td>\n",
       "      <td>NaN</td>\n",
       "      <td>2009.000</td>\n",
       "      <td>MULTIPOLYGON (((-73.87129515296562 40.65717370...</td>\n",
       "      <td>08/22/2017 12:00:00 AM +0000</td>\n",
       "      <td>Constructed</td>\n",
       "      <td>1212853</td>\n",
       "      <td>21.609</td>\n",
       "      <td>2100.000</td>\n",
       "      <td>18.000</td>\n",
       "      <td>854.662</td>\n",
       "      <td>125.080</td>\n",
       "      <td>3044520815.000</td>\n",
       "      <td>3044520815.000</td>\n",
       "      <td>Photogramm</td>\n",
       "    </tr>\n",
       "    <tr>\n",
       "      <th>1</th>\n",
       "      <td>4548330</td>\n",
       "      <td>NaN</td>\n",
       "      <td>1930.000</td>\n",
       "      <td>MULTIPOLYGON (((-73.87670970144625 40.71425234...</td>\n",
       "      <td>08/17/2017 12:00:00 AM +0000</td>\n",
       "      <td>Constructed</td>\n",
       "      <td>1226227</td>\n",
       "      <td>10.360</td>\n",
       "      <td>5110.000</td>\n",
       "      <td>122.000</td>\n",
       "      <td>217.594</td>\n",
       "      <td>60.226</td>\n",
       "      <td>4030640041.000</td>\n",
       "      <td>4030640041.000</td>\n",
       "      <td>Photogramm</td>\n",
       "    </tr>\n",
       "    <tr>\n",
       "      <th>2</th>\n",
       "      <td>4460479</td>\n",
       "      <td>NaN</td>\n",
       "      <td>1960.000</td>\n",
       "      <td>MULTIPOLYGON (((-73.85195485799383 40.66235471...</td>\n",
       "      <td>08/22/2017 12:00:00 AM +0000</td>\n",
       "      <td>Constructed</td>\n",
       "      <td>581946</td>\n",
       "      <td>29.812</td>\n",
       "      <td>2100.000</td>\n",
       "      <td>10.000</td>\n",
       "      <td>946.427</td>\n",
       "      <td>123.142</td>\n",
       "      <td>4139430001.000</td>\n",
       "      <td>4139430001.000</td>\n",
       "      <td>Photogramm</td>\n",
       "    </tr>\n",
       "    <tr>\n",
       "      <th>3</th>\n",
       "      <td>3355684</td>\n",
       "      <td>NaN</td>\n",
       "      <td>1920.000</td>\n",
       "      <td>MULTIPOLYGON (((-73.94029215265738 40.64108287...</td>\n",
       "      <td>08/17/2017 12:00:00 AM +0000</td>\n",
       "      <td>Constructed</td>\n",
       "      <td>858061</td>\n",
       "      <td>11.200</td>\n",
       "      <td>5110.000</td>\n",
       "      <td>32.000</td>\n",
       "      <td>248.678</td>\n",
       "      <td>63.941</td>\n",
       "      <td>3049720006.000</td>\n",
       "      <td>3049720006.000</td>\n",
       "      <td>Photogramm</td>\n",
       "    </tr>\n",
       "    <tr>\n",
       "      <th>4</th>\n",
       "      <td>3131737</td>\n",
       "      <td>NaN</td>\n",
       "      <td>1915.000</td>\n",
       "      <td>MULTIPOLYGON (((-73.98998983552244 40.62383804...</td>\n",
       "      <td>08/22/2017 12:00:00 AM +0000</td>\n",
       "      <td>Constructed</td>\n",
       "      <td>568078</td>\n",
       "      <td>24.980</td>\n",
       "      <td>2100.000</td>\n",
       "      <td>44.000</td>\n",
       "      <td>1163.228</td>\n",
       "      <td>165.609</td>\n",
       "      <td>3055100055.000</td>\n",
       "      <td>3055100055.000</td>\n",
       "      <td>Photogramm</td>\n",
       "    </tr>\n",
       "  </tbody>\n",
       "</table>\n",
       "</div>"
      ],
      "text/plain": [
       "       BIN NAME  CNSTRCT_YR  \\\n",
       "0  3394646  NaN    2009.000   \n",
       "1  4548330  NaN    1930.000   \n",
       "2  4460479  NaN    1960.000   \n",
       "3  3355684  NaN    1920.000   \n",
       "4  3131737  NaN    1915.000   \n",
       "\n",
       "                                            the_geom  \\\n",
       "0  MULTIPOLYGON (((-73.87129515296562 40.65717370...   \n",
       "1  MULTIPOLYGON (((-73.87670970144625 40.71425234...   \n",
       "2  MULTIPOLYGON (((-73.85195485799383 40.66235471...   \n",
       "3  MULTIPOLYGON (((-73.94029215265738 40.64108287...   \n",
       "4  MULTIPOLYGON (((-73.98998983552244 40.62383804...   \n",
       "\n",
       "                     LSTMODDATE   LSTSTATYPE  DOITT_ID  HEIGHTROOF  FEAT_CODE  \\\n",
       "0  08/22/2017 12:00:00 AM +0000  Constructed   1212853      21.609   2100.000   \n",
       "1  08/17/2017 12:00:00 AM +0000  Constructed   1226227      10.360   5110.000   \n",
       "2  08/22/2017 12:00:00 AM +0000  Constructed    581946      29.812   2100.000   \n",
       "3  08/17/2017 12:00:00 AM +0000  Constructed    858061      11.200   5110.000   \n",
       "4  08/22/2017 12:00:00 AM +0000  Constructed    568078      24.980   2100.000   \n",
       "\n",
       "   GROUNDELEV  SHAPE_AREA  SHAPE_LEN       BASE_BBL     MPLUTO_BBL  GEOMSOURCE  \n",
       "0      18.000     854.662    125.080 3044520815.000 3044520815.000  Photogramm  \n",
       "1     122.000     217.594     60.226 4030640041.000 4030640041.000  Photogramm  \n",
       "2      10.000     946.427    123.142 4139430001.000 4139430001.000  Photogramm  \n",
       "3      32.000     248.678     63.941 3049720006.000 3049720006.000  Photogramm  \n",
       "4      44.000    1163.228    165.609 3055100055.000 3055100055.000  Photogramm  "
      ]
     },
     "execution_count": 670,
     "metadata": {},
     "output_type": "execute_result"
    }
   ],
   "source": [
    "# preview first five rows\n",
    "building_footprints.head()"
   ]
  },
  {
   "cell_type": "code",
   "execution_count": 671,
   "metadata": {},
   "outputs": [],
   "source": [
    "# saving a new dataframe to fill nans with the median value of 'CNSTRCT_YR'\n",
    "building_footprints_fill_median = building_footprints.sort_values(by='CNSTRCT_YR')"
   ]
  },
  {
   "cell_type": "code",
   "execution_count": 672,
   "metadata": {},
   "outputs": [
    {
     "data": {
      "text/html": [
       "<div>\n",
       "<style scoped>\n",
       "    .dataframe tbody tr th:only-of-type {\n",
       "        vertical-align: middle;\n",
       "    }\n",
       "\n",
       "    .dataframe tbody tr th {\n",
       "        vertical-align: top;\n",
       "    }\n",
       "\n",
       "    .dataframe thead th {\n",
       "        text-align: right;\n",
       "    }\n",
       "</style>\n",
       "<table border=\"1\" class=\"dataframe\">\n",
       "  <thead>\n",
       "    <tr style=\"text-align: right;\">\n",
       "      <th></th>\n",
       "      <th>BIN</th>\n",
       "      <th>NAME</th>\n",
       "      <th>CNSTRCT_YR</th>\n",
       "      <th>the_geom</th>\n",
       "      <th>LSTMODDATE</th>\n",
       "      <th>LSTSTATYPE</th>\n",
       "      <th>DOITT_ID</th>\n",
       "      <th>HEIGHTROOF</th>\n",
       "      <th>FEAT_CODE</th>\n",
       "      <th>GROUNDELEV</th>\n",
       "      <th>SHAPE_AREA</th>\n",
       "      <th>SHAPE_LEN</th>\n",
       "      <th>BASE_BBL</th>\n",
       "      <th>MPLUTO_BBL</th>\n",
       "      <th>GEOMSOURCE</th>\n",
       "    </tr>\n",
       "  </thead>\n",
       "  <tbody>\n",
       "    <tr>\n",
       "      <th>1079167</th>\n",
       "      <td>3221967</td>\n",
       "      <td>Pieter Claesen Wyckoff House</td>\n",
       "      <td>1652.000</td>\n",
       "      <td>MULTIPOLYGON (((-73.92083460429942 40.64439765...</td>\n",
       "      <td>01/28/2020 12:00:00 AM +0000</td>\n",
       "      <td>Constructed</td>\n",
       "      <td>550741</td>\n",
       "      <td>24.540</td>\n",
       "      <td>2100.000</td>\n",
       "      <td>14.000</td>\n",
       "      <td>2214.189</td>\n",
       "      <td>208.884</td>\n",
       "      <td>3079170009.000</td>\n",
       "      <td>3079170009.000</td>\n",
       "      <td>Photogramm</td>\n",
       "    </tr>\n",
       "    <tr>\n",
       "      <th>482973</th>\n",
       "      <td>4610542</td>\n",
       "      <td>NaN</td>\n",
       "      <td>1661.000</td>\n",
       "      <td>MULTIPOLYGON (((-73.82449114078894 40.76279389...</td>\n",
       "      <td>08/17/2017 12:00:00 AM +0000</td>\n",
       "      <td>Constructed</td>\n",
       "      <td>1190137</td>\n",
       "      <td>14.847</td>\n",
       "      <td>5110.000</td>\n",
       "      <td>63.000</td>\n",
       "      <td>571.058</td>\n",
       "      <td>112.945</td>\n",
       "      <td>4050130006.000</td>\n",
       "      <td>4050130006.000</td>\n",
       "      <td>Photogramm</td>\n",
       "    </tr>\n",
       "    <tr>\n",
       "      <th>801684</th>\n",
       "      <td>4113403</td>\n",
       "      <td>Bowne House</td>\n",
       "      <td>1661.000</td>\n",
       "      <td>MULTIPOLYGON (((-73.8247828135812 40.762948467...</td>\n",
       "      <td>08/22/2017 12:00:00 AM +0000</td>\n",
       "      <td>Constructed</td>\n",
       "      <td>776399</td>\n",
       "      <td>26.120</td>\n",
       "      <td>2100.000</td>\n",
       "      <td>64.000</td>\n",
       "      <td>2814.439</td>\n",
       "      <td>242.381</td>\n",
       "      <td>4050130006.000</td>\n",
       "      <td>4050130006.000</td>\n",
       "      <td>Photogramm</td>\n",
       "    </tr>\n",
       "    <tr>\n",
       "      <th>964700</th>\n",
       "      <td>5130548</td>\n",
       "      <td>NaN</td>\n",
       "      <td>1665.000</td>\n",
       "      <td>MULTIPOLYGON (((-74.06383185277687 40.61463876...</td>\n",
       "      <td>08/22/2017 12:00:00 AM +0000</td>\n",
       "      <td>Constructed</td>\n",
       "      <td>160094</td>\n",
       "      <td>32.570</td>\n",
       "      <td>2100.000</td>\n",
       "      <td>38.000</td>\n",
       "      <td>3580.968</td>\n",
       "      <td>308.578</td>\n",
       "      <td>5028300049.000</td>\n",
       "      <td>5028300049.000</td>\n",
       "      <td>Photogramm</td>\n",
       "    </tr>\n",
       "    <tr>\n",
       "      <th>1083705</th>\n",
       "      <td>5087656</td>\n",
       "      <td>Conference House</td>\n",
       "      <td>1680.000</td>\n",
       "      <td>MULTIPOLYGON (((-74.25311647359251 40.50309522...</td>\n",
       "      <td>04/13/2020 12:00:00 AM +0000</td>\n",
       "      <td>Constructed</td>\n",
       "      <td>702698</td>\n",
       "      <td>38.640</td>\n",
       "      <td>2100.000</td>\n",
       "      <td>38.000</td>\n",
       "      <td>2051.849</td>\n",
       "      <td>181.231</td>\n",
       "      <td>5078570090.000</td>\n",
       "      <td>5078570090.000</td>\n",
       "      <td>Photogramm</td>\n",
       "    </tr>\n",
       "  </tbody>\n",
       "</table>\n",
       "</div>"
      ],
      "text/plain": [
       "             BIN                          NAME  CNSTRCT_YR  \\\n",
       "1079167  3221967  Pieter Claesen Wyckoff House    1652.000   \n",
       "482973   4610542                           NaN    1661.000   \n",
       "801684   4113403                   Bowne House    1661.000   \n",
       "964700   5130548                           NaN    1665.000   \n",
       "1083705  5087656              Conference House    1680.000   \n",
       "\n",
       "                                                  the_geom  \\\n",
       "1079167  MULTIPOLYGON (((-73.92083460429942 40.64439765...   \n",
       "482973   MULTIPOLYGON (((-73.82449114078894 40.76279389...   \n",
       "801684   MULTIPOLYGON (((-73.8247828135812 40.762948467...   \n",
       "964700   MULTIPOLYGON (((-74.06383185277687 40.61463876...   \n",
       "1083705  MULTIPOLYGON (((-74.25311647359251 40.50309522...   \n",
       "\n",
       "                           LSTMODDATE   LSTSTATYPE  DOITT_ID  HEIGHTROOF  \\\n",
       "1079167  01/28/2020 12:00:00 AM +0000  Constructed    550741      24.540   \n",
       "482973   08/17/2017 12:00:00 AM +0000  Constructed   1190137      14.847   \n",
       "801684   08/22/2017 12:00:00 AM +0000  Constructed    776399      26.120   \n",
       "964700   08/22/2017 12:00:00 AM +0000  Constructed    160094      32.570   \n",
       "1083705  04/13/2020 12:00:00 AM +0000  Constructed    702698      38.640   \n",
       "\n",
       "         FEAT_CODE  GROUNDELEV  SHAPE_AREA  SHAPE_LEN       BASE_BBL  \\\n",
       "1079167   2100.000      14.000    2214.189    208.884 3079170009.000   \n",
       "482973    5110.000      63.000     571.058    112.945 4050130006.000   \n",
       "801684    2100.000      64.000    2814.439    242.381 4050130006.000   \n",
       "964700    2100.000      38.000    3580.968    308.578 5028300049.000   \n",
       "1083705   2100.000      38.000    2051.849    181.231 5078570090.000   \n",
       "\n",
       "            MPLUTO_BBL  GEOMSOURCE  \n",
       "1079167 3079170009.000  Photogramm  \n",
       "482973  4050130006.000  Photogramm  \n",
       "801684  4050130006.000  Photogramm  \n",
       "964700  5028300049.000  Photogramm  \n",
       "1083705 5078570090.000  Photogramm  "
      ]
     },
     "execution_count": 672,
     "metadata": {},
     "output_type": "execute_result"
    }
   ],
   "source": [
    "# saving the median of our 'CNSTRCT_YR' as the name 'median'\n",
    "median = building_footprints_fill_median['CNSTRCT_YR'].median()\n",
    "\n",
    "# filling na values in our'CNSTRCT_YR' column with the column's median value\n",
    "building_footprints_fill_median[\"CNSTRCT_YR\"] = building_footprints_fill_median[\"CNSTRCT_YR\"].fillna(value=median)\n",
    "building_footprints_fill_median.head()"
   ]
  },
  {
   "cell_type": "code",
   "execution_count": 673,
   "metadata": {},
   "outputs": [
    {
     "data": {
      "text/plain": [
       "0"
      ]
     },
     "execution_count": 673,
     "metadata": {},
     "output_type": "execute_result"
    }
   ],
   "source": [
    "# summing null/na values in the 'CNSTRCT_YR' column\n",
    "building_footprints_fill_median['CNSTRCT_YR'].isna().sum()"
   ]
  },
  {
   "cell_type": "code",
   "execution_count": 674,
   "metadata": {
    "scrolled": true
   },
   "outputs": [
    {
     "data": {
      "text/html": [
       "<div>\n",
       "<style scoped>\n",
       "    .dataframe tbody tr th:only-of-type {\n",
       "        vertical-align: middle;\n",
       "    }\n",
       "\n",
       "    .dataframe tbody tr th {\n",
       "        vertical-align: top;\n",
       "    }\n",
       "\n",
       "    .dataframe thead th {\n",
       "        text-align: right;\n",
       "    }\n",
       "</style>\n",
       "<table border=\"1\" class=\"dataframe\">\n",
       "  <thead>\n",
       "    <tr style=\"text-align: right;\">\n",
       "      <th></th>\n",
       "      <th>BIN</th>\n",
       "      <th>NAME</th>\n",
       "      <th>CNSTRCT_YR</th>\n",
       "      <th>the_geom</th>\n",
       "      <th>LSTMODDATE</th>\n",
       "      <th>LSTSTATYPE</th>\n",
       "      <th>DOITT_ID</th>\n",
       "      <th>HEIGHTROOF</th>\n",
       "      <th>FEAT_CODE</th>\n",
       "      <th>GROUNDELEV</th>\n",
       "      <th>SHAPE_AREA</th>\n",
       "      <th>SHAPE_LEN</th>\n",
       "      <th>BASE_BBL</th>\n",
       "      <th>MPLUTO_BBL</th>\n",
       "      <th>GEOMSOURCE</th>\n",
       "    </tr>\n",
       "  </thead>\n",
       "  <tbody>\n",
       "    <tr>\n",
       "      <th>1079167</th>\n",
       "      <td>3221967</td>\n",
       "      <td>Pieter Claesen Wyckoff House</td>\n",
       "      <td>1652.000</td>\n",
       "      <td>MULTIPOLYGON (((-73.92083460429942 40.64439765...</td>\n",
       "      <td>01/28/2020 12:00:00 AM +0000</td>\n",
       "      <td>Constructed</td>\n",
       "      <td>550741</td>\n",
       "      <td>24.540</td>\n",
       "      <td>2100.000</td>\n",
       "      <td>14.000</td>\n",
       "      <td>2214.189</td>\n",
       "      <td>208.884</td>\n",
       "      <td>3079170009.000</td>\n",
       "      <td>3079170009.000</td>\n",
       "      <td>Photogramm</td>\n",
       "    </tr>\n",
       "    <tr>\n",
       "      <th>482973</th>\n",
       "      <td>4610542</td>\n",
       "      <td>NaN</td>\n",
       "      <td>1661.000</td>\n",
       "      <td>MULTIPOLYGON (((-73.82449114078894 40.76279389...</td>\n",
       "      <td>08/17/2017 12:00:00 AM +0000</td>\n",
       "      <td>Constructed</td>\n",
       "      <td>1190137</td>\n",
       "      <td>14.847</td>\n",
       "      <td>5110.000</td>\n",
       "      <td>63.000</td>\n",
       "      <td>571.058</td>\n",
       "      <td>112.945</td>\n",
       "      <td>4050130006.000</td>\n",
       "      <td>4050130006.000</td>\n",
       "      <td>Photogramm</td>\n",
       "    </tr>\n",
       "    <tr>\n",
       "      <th>801684</th>\n",
       "      <td>4113403</td>\n",
       "      <td>Bowne House</td>\n",
       "      <td>1661.000</td>\n",
       "      <td>MULTIPOLYGON (((-73.8247828135812 40.762948467...</td>\n",
       "      <td>08/22/2017 12:00:00 AM +0000</td>\n",
       "      <td>Constructed</td>\n",
       "      <td>776399</td>\n",
       "      <td>26.120</td>\n",
       "      <td>2100.000</td>\n",
       "      <td>64.000</td>\n",
       "      <td>2814.439</td>\n",
       "      <td>242.381</td>\n",
       "      <td>4050130006.000</td>\n",
       "      <td>4050130006.000</td>\n",
       "      <td>Photogramm</td>\n",
       "    </tr>\n",
       "    <tr>\n",
       "      <th>964700</th>\n",
       "      <td>5130548</td>\n",
       "      <td>NaN</td>\n",
       "      <td>1665.000</td>\n",
       "      <td>MULTIPOLYGON (((-74.06383185277687 40.61463876...</td>\n",
       "      <td>08/22/2017 12:00:00 AM +0000</td>\n",
       "      <td>Constructed</td>\n",
       "      <td>160094</td>\n",
       "      <td>32.570</td>\n",
       "      <td>2100.000</td>\n",
       "      <td>38.000</td>\n",
       "      <td>3580.968</td>\n",
       "      <td>308.578</td>\n",
       "      <td>5028300049.000</td>\n",
       "      <td>5028300049.000</td>\n",
       "      <td>Photogramm</td>\n",
       "    </tr>\n",
       "    <tr>\n",
       "      <th>1083705</th>\n",
       "      <td>5087656</td>\n",
       "      <td>Conference House</td>\n",
       "      <td>1680.000</td>\n",
       "      <td>MULTIPOLYGON (((-74.25311647359251 40.50309522...</td>\n",
       "      <td>04/13/2020 12:00:00 AM +0000</td>\n",
       "      <td>Constructed</td>\n",
       "      <td>702698</td>\n",
       "      <td>38.640</td>\n",
       "      <td>2100.000</td>\n",
       "      <td>38.000</td>\n",
       "      <td>2051.849</td>\n",
       "      <td>181.231</td>\n",
       "      <td>5078570090.000</td>\n",
       "      <td>5078570090.000</td>\n",
       "      <td>Photogramm</td>\n",
       "    </tr>\n",
       "  </tbody>\n",
       "</table>\n",
       "</div>"
      ],
      "text/plain": [
       "             BIN                          NAME  CNSTRCT_YR  \\\n",
       "1079167  3221967  Pieter Claesen Wyckoff House    1652.000   \n",
       "482973   4610542                           NaN    1661.000   \n",
       "801684   4113403                   Bowne House    1661.000   \n",
       "964700   5130548                           NaN    1665.000   \n",
       "1083705  5087656              Conference House    1680.000   \n",
       "\n",
       "                                                  the_geom  \\\n",
       "1079167  MULTIPOLYGON (((-73.92083460429942 40.64439765...   \n",
       "482973   MULTIPOLYGON (((-73.82449114078894 40.76279389...   \n",
       "801684   MULTIPOLYGON (((-73.8247828135812 40.762948467...   \n",
       "964700   MULTIPOLYGON (((-74.06383185277687 40.61463876...   \n",
       "1083705  MULTIPOLYGON (((-74.25311647359251 40.50309522...   \n",
       "\n",
       "                           LSTMODDATE   LSTSTATYPE  DOITT_ID  HEIGHTROOF  \\\n",
       "1079167  01/28/2020 12:00:00 AM +0000  Constructed    550741      24.540   \n",
       "482973   08/17/2017 12:00:00 AM +0000  Constructed   1190137      14.847   \n",
       "801684   08/22/2017 12:00:00 AM +0000  Constructed    776399      26.120   \n",
       "964700   08/22/2017 12:00:00 AM +0000  Constructed    160094      32.570   \n",
       "1083705  04/13/2020 12:00:00 AM +0000  Constructed    702698      38.640   \n",
       "\n",
       "         FEAT_CODE  GROUNDELEV  SHAPE_AREA  SHAPE_LEN       BASE_BBL  \\\n",
       "1079167   2100.000      14.000    2214.189    208.884 3079170009.000   \n",
       "482973    5110.000      63.000     571.058    112.945 4050130006.000   \n",
       "801684    2100.000      64.000    2814.439    242.381 4050130006.000   \n",
       "964700    2100.000      38.000    3580.968    308.578 5028300049.000   \n",
       "1083705   2100.000      38.000    2051.849    181.231 5078570090.000   \n",
       "\n",
       "            MPLUTO_BBL  GEOMSOURCE  \n",
       "1079167 3079170009.000  Photogramm  \n",
       "482973  4050130006.000  Photogramm  \n",
       "801684  4050130006.000  Photogramm  \n",
       "964700  5028300049.000  Photogramm  \n",
       "1083705 5078570090.000  Photogramm  "
      ]
     },
     "execution_count": 674,
     "metadata": {},
     "output_type": "execute_result"
    }
   ],
   "source": [
    "# printing the first five rows of our data sorted by the 'CNSTRCT_YR' column in ascending order\n",
    "building_footprints_fill_median.sort_values('CNSTRCT_YR').head()"
   ]
  },
  {
   "cell_type": "code",
   "execution_count": 675,
   "metadata": {},
   "outputs": [
    {
     "data": {
      "text/html": [
       "<div>\n",
       "<style scoped>\n",
       "    .dataframe tbody tr th:only-of-type {\n",
       "        vertical-align: middle;\n",
       "    }\n",
       "\n",
       "    .dataframe tbody tr th {\n",
       "        vertical-align: top;\n",
       "    }\n",
       "\n",
       "    .dataframe thead th {\n",
       "        text-align: right;\n",
       "    }\n",
       "</style>\n",
       "<table border=\"1\" class=\"dataframe\">\n",
       "  <thead>\n",
       "    <tr style=\"text-align: right;\">\n",
       "      <th></th>\n",
       "      <th>BIN</th>\n",
       "      <th>NAME</th>\n",
       "      <th>CNSTRCT_YR</th>\n",
       "      <th>the_geom</th>\n",
       "      <th>LSTMODDATE</th>\n",
       "      <th>LSTSTATYPE</th>\n",
       "      <th>DOITT_ID</th>\n",
       "      <th>HEIGHTROOF</th>\n",
       "      <th>FEAT_CODE</th>\n",
       "      <th>GROUNDELEV</th>\n",
       "      <th>SHAPE_AREA</th>\n",
       "      <th>SHAPE_LEN</th>\n",
       "      <th>BASE_BBL</th>\n",
       "      <th>MPLUTO_BBL</th>\n",
       "      <th>GEOMSOURCE</th>\n",
       "    </tr>\n",
       "  </thead>\n",
       "  <tbody>\n",
       "    <tr>\n",
       "      <th>1082693</th>\n",
       "      <td>4619039</td>\n",
       "      <td>NaN</td>\n",
       "      <td>2020.000</td>\n",
       "      <td>MULTIPOLYGON (((-73.92761298690611 40.76525898...</td>\n",
       "      <td>02/06/2020 12:00:00 AM +0000</td>\n",
       "      <td>Marked for Construction</td>\n",
       "      <td>1292035</td>\n",
       "      <td>50.000</td>\n",
       "      <td>5100.000</td>\n",
       "      <td>15.000</td>\n",
       "      <td>5106.992</td>\n",
       "      <td>285.937</td>\n",
       "      <td>4005690008.000</td>\n",
       "      <td>nan</td>\n",
       "      <td>Other (Man</td>\n",
       "    </tr>\n",
       "    <tr>\n",
       "      <th>1083932</th>\n",
       "      <td>2127944</td>\n",
       "      <td>NaN</td>\n",
       "      <td>2020.000</td>\n",
       "      <td>MULTIPOLYGON (((-73.88068080076081 40.82731890...</td>\n",
       "      <td>05/26/2020 12:00:00 AM +0000</td>\n",
       "      <td>Initialization</td>\n",
       "      <td>1292512</td>\n",
       "      <td>75.000</td>\n",
       "      <td>5100.000</td>\n",
       "      <td>20.000</td>\n",
       "      <td>22336.657</td>\n",
       "      <td>644.886</td>\n",
       "      <td>2037380018.000</td>\n",
       "      <td>2037380018.000</td>\n",
       "      <td>Other (Man</td>\n",
       "    </tr>\n",
       "    <tr>\n",
       "      <th>1082597</th>\n",
       "      <td>4619717</td>\n",
       "      <td>NaN</td>\n",
       "      <td>2020.000</td>\n",
       "      <td>MULTIPOLYGON (((-73.94711984291467 40.74624359...</td>\n",
       "      <td>01/29/2020 12:00:00 AM +0000</td>\n",
       "      <td>Constructed</td>\n",
       "      <td>1291960</td>\n",
       "      <td>48.500</td>\n",
       "      <td>2100.000</td>\n",
       "      <td>12.000</td>\n",
       "      <td>1694.812</td>\n",
       "      <td>188.105</td>\n",
       "      <td>4000760042.000</td>\n",
       "      <td>nan</td>\n",
       "      <td>Other (Man</td>\n",
       "    </tr>\n",
       "    <tr>\n",
       "      <th>1082596</th>\n",
       "      <td>4614924</td>\n",
       "      <td>NaN</td>\n",
       "      <td>2020.000</td>\n",
       "      <td>MULTIPOLYGON (((-73.94686030129175 40.74619365...</td>\n",
       "      <td>01/29/2020 12:00:00 AM +0000</td>\n",
       "      <td>Constructed</td>\n",
       "      <td>1291957</td>\n",
       "      <td>48.500</td>\n",
       "      <td>2100.000</td>\n",
       "      <td>11.000</td>\n",
       "      <td>1775.604</td>\n",
       "      <td>190.870</td>\n",
       "      <td>4000760040.000</td>\n",
       "      <td>nan</td>\n",
       "      <td>Other (Man</td>\n",
       "    </tr>\n",
       "    <tr>\n",
       "      <th>1083804</th>\n",
       "      <td>1090305</td>\n",
       "      <td>NaN</td>\n",
       "      <td>2020.000</td>\n",
       "      <td>MULTIPOLYGON (((-73.95403122079169 40.77389389...</td>\n",
       "      <td>05/07/2020 12:00:00 AM +0000</td>\n",
       "      <td>Marked for Construction</td>\n",
       "      <td>1292459</td>\n",
       "      <td>388.000</td>\n",
       "      <td>2100.000</td>\n",
       "      <td>50.000</td>\n",
       "      <td>12766.356</td>\n",
       "      <td>454.874</td>\n",
       "      <td>1015430001.000</td>\n",
       "      <td>1015430001.000</td>\n",
       "      <td>Other (Man</td>\n",
       "    </tr>\n",
       "  </tbody>\n",
       "</table>\n",
       "</div>"
      ],
      "text/plain": [
       "             BIN NAME  CNSTRCT_YR  \\\n",
       "1082693  4619039  NaN    2020.000   \n",
       "1083932  2127944  NaN    2020.000   \n",
       "1082597  4619717  NaN    2020.000   \n",
       "1082596  4614924  NaN    2020.000   \n",
       "1083804  1090305  NaN    2020.000   \n",
       "\n",
       "                                                  the_geom  \\\n",
       "1082693  MULTIPOLYGON (((-73.92761298690611 40.76525898...   \n",
       "1083932  MULTIPOLYGON (((-73.88068080076081 40.82731890...   \n",
       "1082597  MULTIPOLYGON (((-73.94711984291467 40.74624359...   \n",
       "1082596  MULTIPOLYGON (((-73.94686030129175 40.74619365...   \n",
       "1083804  MULTIPOLYGON (((-73.95403122079169 40.77389389...   \n",
       "\n",
       "                           LSTMODDATE               LSTSTATYPE  DOITT_ID  \\\n",
       "1082693  02/06/2020 12:00:00 AM +0000  Marked for Construction   1292035   \n",
       "1083932  05/26/2020 12:00:00 AM +0000           Initialization   1292512   \n",
       "1082597  01/29/2020 12:00:00 AM +0000              Constructed   1291960   \n",
       "1082596  01/29/2020 12:00:00 AM +0000              Constructed   1291957   \n",
       "1083804  05/07/2020 12:00:00 AM +0000  Marked for Construction   1292459   \n",
       "\n",
       "         HEIGHTROOF  FEAT_CODE  GROUNDELEV  SHAPE_AREA  SHAPE_LEN  \\\n",
       "1082693      50.000   5100.000      15.000    5106.992    285.937   \n",
       "1083932      75.000   5100.000      20.000   22336.657    644.886   \n",
       "1082597      48.500   2100.000      12.000    1694.812    188.105   \n",
       "1082596      48.500   2100.000      11.000    1775.604    190.870   \n",
       "1083804     388.000   2100.000      50.000   12766.356    454.874   \n",
       "\n",
       "              BASE_BBL     MPLUTO_BBL  GEOMSOURCE  \n",
       "1082693 4005690008.000            nan  Other (Man  \n",
       "1083932 2037380018.000 2037380018.000  Other (Man  \n",
       "1082597 4000760042.000            nan  Other (Man  \n",
       "1082596 4000760040.000            nan  Other (Man  \n",
       "1083804 1015430001.000 1015430001.000  Other (Man  "
      ]
     },
     "execution_count": 675,
     "metadata": {},
     "output_type": "execute_result"
    }
   ],
   "source": [
    "# printing the first five rows of our data sorted by the 'CNSTRCT_YR' column in descending order\n",
    "building_footprints_fill_median.sort_values('CNSTRCT_YR', ascending=False).head()"
   ]
  },
  {
   "cell_type": "code",
   "execution_count": 676,
   "metadata": {},
   "outputs": [
    {
     "data": {
      "text/plain": [
       "count   1084904.000\n",
       "mean       1938.996\n",
       "std          28.696\n",
       "min        1652.000\n",
       "25%        1920.000\n",
       "50%        1930.000\n",
       "75%        1955.000\n",
       "max        2020.000\n",
       "Name: CNSTRCT_YR, dtype: float64"
      ]
     },
     "execution_count": 676,
     "metadata": {},
     "output_type": "execute_result"
    }
   ],
   "source": [
    "# printing descriptive statistics of our 'CNSTRCT_YR' column\n",
    "building_footprints_fill_median['CNSTRCT_YR'].describe()"
   ]
  },
  {
   "cell_type": "code",
   "execution_count": 677,
   "metadata": {},
   "outputs": [
    {
     "data": {
      "text/plain": [
       "1920.000    131426\n",
       "1930.000    124716\n",
       "1925.000    109684\n",
       "1950.000     63001\n",
       "1910.000     52929\n",
       "             ...  \n",
       "1797.000         1\n",
       "1803.000         1\n",
       "1809.000         1\n",
       "1811.000         1\n",
       "1652.000         1\n",
       "Name: CNSTRCT_YR, Length: 246, dtype: int64"
      ]
     },
     "execution_count": 677,
     "metadata": {},
     "output_type": "execute_result"
    }
   ],
   "source": [
    "# return counts of values in descending order of our'CNSTRCT_YR' column\n",
    "building_footprints_fill_median['CNSTRCT_YR'].value_counts()"
   ]
  },
  {
   "cell_type": "code",
   "execution_count": 678,
   "metadata": {},
   "outputs": [
    {
     "data": {
      "text/plain": [
       "1652.000       1\n",
       "1661.000       2\n",
       "1665.000       1\n",
       "1680.000       1\n",
       "1690.000       1\n",
       "            ... \n",
       "2016.000    1743\n",
       "2017.000    1866\n",
       "2018.000    2050\n",
       "2019.000     802\n",
       "2020.000     479\n",
       "Name: CNSTRCT_YR, Length: 246, dtype: int64"
      ]
     },
     "execution_count": 678,
     "metadata": {},
     "output_type": "execute_result"
    }
   ],
   "source": [
    "# return counts of values of our 'CNSTRCT_YR' column sorted by 'CNSTRCT_YR' in ascending order\n",
    "building_footprints_fill_median['CNSTRCT_YR'].value_counts().sort_index()"
   ]
  },
  {
   "cell_type": "code",
   "execution_count": 679,
   "metadata": {},
   "outputs": [
    {
     "data": {
      "text/html": [
       "<div>\n",
       "<style scoped>\n",
       "    .dataframe tbody tr th:only-of-type {\n",
       "        vertical-align: middle;\n",
       "    }\n",
       "\n",
       "    .dataframe tbody tr th {\n",
       "        vertical-align: top;\n",
       "    }\n",
       "\n",
       "    .dataframe thead th {\n",
       "        text-align: right;\n",
       "    }\n",
       "</style>\n",
       "<table border=\"1\" class=\"dataframe\">\n",
       "  <thead>\n",
       "    <tr style=\"text-align: right;\">\n",
       "      <th></th>\n",
       "      <th>BIN</th>\n",
       "      <th>CNSTRCT_YR</th>\n",
       "      <th>DOITT_ID</th>\n",
       "      <th>HEIGHTROOF</th>\n",
       "      <th>FEAT_CODE</th>\n",
       "      <th>GROUNDELEV</th>\n",
       "      <th>SHAPE_AREA</th>\n",
       "      <th>SHAPE_LEN</th>\n",
       "      <th>BASE_BBL</th>\n",
       "      <th>MPLUTO_BBL</th>\n",
       "    </tr>\n",
       "  </thead>\n",
       "  <tbody>\n",
       "    <tr>\n",
       "      <th>count</th>\n",
       "      <td>1084904.000</td>\n",
       "      <td>1084904.000</td>\n",
       "      <td>1084904.000</td>\n",
       "      <td>1082240.000</td>\n",
       "      <td>1084895.000</td>\n",
       "      <td>1084377.000</td>\n",
       "      <td>1084904.000</td>\n",
       "      <td>1084904.000</td>\n",
       "      <td>1084902.000</td>\n",
       "      <td>1084341.000</td>\n",
       "    </tr>\n",
       "    <tr>\n",
       "      <th>mean</th>\n",
       "      <td>3710200.085</td>\n",
       "      <td>1938.996</td>\n",
       "      <td>590982.280</td>\n",
       "      <td>27.549</td>\n",
       "      <td>2698.565</td>\n",
       "      <td>55.099</td>\n",
       "      <td>1596.816</td>\n",
       "      <td>155.312</td>\n",
       "      <td>3562022467.369</td>\n",
       "      <td>3561869091.624</td>\n",
       "    </tr>\n",
       "    <tr>\n",
       "      <th>std</th>\n",
       "      <td>1026803.034</td>\n",
       "      <td>28.696</td>\n",
       "      <td>359307.070</td>\n",
       "      <td>21.322</td>\n",
       "      <td>1202.259</td>\n",
       "      <td>41.510</td>\n",
       "      <td>5601.413</td>\n",
       "      <td>127.150</td>\n",
       "      <td>986059691.680</td>\n",
       "      <td>986084211.300</td>\n",
       "    </tr>\n",
       "    <tr>\n",
       "      <th>min</th>\n",
       "      <td>1000002.000</td>\n",
       "      <td>1652.000</td>\n",
       "      <td>1.000</td>\n",
       "      <td>0.000</td>\n",
       "      <td>0.000</td>\n",
       "      <td>-14.000</td>\n",
       "      <td>32.475</td>\n",
       "      <td>23.737</td>\n",
       "      <td>3064269.000</td>\n",
       "      <td>3064269.000</td>\n",
       "    </tr>\n",
       "    <tr>\n",
       "      <th>25%</th>\n",
       "      <td>3128602.500</td>\n",
       "      <td>1920.000</td>\n",
       "      <td>286558.750</td>\n",
       "      <td>18.340</td>\n",
       "      <td>2100.000</td>\n",
       "      <td>25.000</td>\n",
       "      <td>652.091</td>\n",
       "      <td>109.693</td>\n",
       "      <td>3043180104.250</td>\n",
       "      <td>3043170026.000</td>\n",
       "    </tr>\n",
       "    <tr>\n",
       "      <th>50%</th>\n",
       "      <td>4066837.500</td>\n",
       "      <td>1930.000</td>\n",
       "      <td>573297.500</td>\n",
       "      <td>26.100</td>\n",
       "      <td>2100.000</td>\n",
       "      <td>46.000</td>\n",
       "      <td>957.232</td>\n",
       "      <td>137.920</td>\n",
       "      <td>4019290075.500</td>\n",
       "      <td>4019260034.000</td>\n",
       "    </tr>\n",
       "    <tr>\n",
       "      <th>75%</th>\n",
       "      <td>4481748.250</td>\n",
       "      <td>1955.000</td>\n",
       "      <td>861610.250</td>\n",
       "      <td>31.098</td>\n",
       "      <td>2100.000</td>\n",
       "      <td>74.000</td>\n",
       "      <td>1320.290</td>\n",
       "      <td>164.448</td>\n",
       "      <td>4106720014.750</td>\n",
       "      <td>4106690102.000</td>\n",
       "    </tr>\n",
       "    <tr>\n",
       "      <th>max</th>\n",
       "      <td>5799523.000</td>\n",
       "      <td>2020.000</td>\n",
       "      <td>1293234.000</td>\n",
       "      <td>1550.000</td>\n",
       "      <td>5110.000</td>\n",
       "      <td>556.000</td>\n",
       "      <td>1171874.446</td>\n",
       "      <td>20017.293</td>\n",
       "      <td>5999999999.000</td>\n",
       "      <td>5999999999.000</td>\n",
       "    </tr>\n",
       "  </tbody>\n",
       "</table>\n",
       "</div>"
      ],
      "text/plain": [
       "              BIN  CNSTRCT_YR    DOITT_ID  HEIGHTROOF   FEAT_CODE  GROUNDELEV  \\\n",
       "count 1084904.000 1084904.000 1084904.000 1082240.000 1084895.000 1084377.000   \n",
       "mean  3710200.085    1938.996  590982.280      27.549    2698.565      55.099   \n",
       "std   1026803.034      28.696  359307.070      21.322    1202.259      41.510   \n",
       "min   1000002.000    1652.000       1.000       0.000       0.000     -14.000   \n",
       "25%   3128602.500    1920.000  286558.750      18.340    2100.000      25.000   \n",
       "50%   4066837.500    1930.000  573297.500      26.100    2100.000      46.000   \n",
       "75%   4481748.250    1955.000  861610.250      31.098    2100.000      74.000   \n",
       "max   5799523.000    2020.000 1293234.000    1550.000    5110.000     556.000   \n",
       "\n",
       "       SHAPE_AREA   SHAPE_LEN       BASE_BBL     MPLUTO_BBL  \n",
       "count 1084904.000 1084904.000    1084902.000    1084341.000  \n",
       "mean     1596.816     155.312 3562022467.369 3561869091.624  \n",
       "std      5601.413     127.150  986059691.680  986084211.300  \n",
       "min        32.475      23.737    3064269.000    3064269.000  \n",
       "25%       652.091     109.693 3043180104.250 3043170026.000  \n",
       "50%       957.232     137.920 4019290075.500 4019260034.000  \n",
       "75%      1320.290     164.448 4106720014.750 4106690102.000  \n",
       "max   1171874.446   20017.293 5999999999.000 5999999999.000  "
      ]
     },
     "execution_count": 679,
     "metadata": {},
     "output_type": "execute_result"
    }
   ],
   "source": [
    "# printing descriptive statistics of our data \n",
    "building_footprints_fill_median.describe()"
   ]
  },
  {
   "cell_type": "code",
   "execution_count": 680,
   "metadata": {},
   "outputs": [
    {
     "data": {
      "text/plain": [
       "Text(0.5, 1.0, 'Histogram of Construction Year Values Between 1652 and 2020 Replacing NaNs with Median')"
      ]
     },
     "execution_count": 680,
     "metadata": {},
     "output_type": "execute_result"
    },
    {
     "data": {
      "image/png": "[encoded data removed]",
      "text/plain": [
       "<Figure size 1080x720 with 1 Axes>"
      ]
     },
     "metadata": {
      "needs_background": "light"
     },
     "output_type": "display_data"
    }
   ],
   "source": [
    "# making a histogram of our 'CNSTRCT_YR' column with 10 bins\n",
    "building_footprints_fill_median['CNSTRCT_YR'].hist(bins=10, figsize=(15,10))\n",
    "plt.xlabel('Construction Year', fontsize=15)\n",
    "plt.ylabel('Counts', fontsize=15)\n",
    "plt.title('Histogram of Construction Year Values Between \\\n",
    "1652 and 2020 Replacing NaNs with Median', fontsize=15)"
   ]
  },
  {
   "cell_type": "code",
   "execution_count": 681,
   "metadata": {},
   "outputs": [
    {
     "data": {
      "image/png": "[encoded data removed]",
      "text/plain": [
       "<Figure size 1080x720 with 1 Axes>"
      ]
     },
     "metadata": {
      "needs_background": "light"
     },
     "output_type": "display_data"
    }
   ],
   "source": [
    "# making a histogram of our 'CNSTRCT_YR' column with 25 bins\n",
    "building_footprints_fill_median['CNSTRCT_YR'].hist(bins=25, figsize=(15,10))\n",
    "plt.xlabel('Construction Year', fontsize=15)\n",
    "plt.ylabel('Counts', fontsize=15)\n",
    "plt.title('Histogram of Construction Year Values Between \\\n",
    "1652 and 2020 Replacing NaNs with Median', fontsize=15)\n",
    "plt.savefig('figures/fig-7.png')"
   ]
  },
  {
   "cell_type": "code",
   "execution_count": 682,
   "metadata": {},
   "outputs": [
    {
     "data": {
      "text/html": [
       "<div>\n",
       "<style scoped>\n",
       "    .dataframe tbody tr th:only-of-type {\n",
       "        vertical-align: middle;\n",
       "    }\n",
       "\n",
       "    .dataframe tbody tr th {\n",
       "        vertical-align: top;\n",
       "    }\n",
       "\n",
       "    .dataframe thead th {\n",
       "        text-align: right;\n",
       "    }\n",
       "</style>\n",
       "<table border=\"1\" class=\"dataframe\">\n",
       "  <thead>\n",
       "    <tr style=\"text-align: right;\">\n",
       "      <th></th>\n",
       "      <th>CNSTRCT_YR</th>\n",
       "      <th>count</th>\n",
       "    </tr>\n",
       "  </thead>\n",
       "  <tbody>\n",
       "    <tr>\n",
       "      <th>1652</th>\n",
       "      <td>1652.000</td>\n",
       "      <td>1</td>\n",
       "    </tr>\n",
       "    <tr>\n",
       "      <th>1661</th>\n",
       "      <td>1661.000</td>\n",
       "      <td>2</td>\n",
       "    </tr>\n",
       "    <tr>\n",
       "      <th>1665</th>\n",
       "      <td>1665.000</td>\n",
       "      <td>1</td>\n",
       "    </tr>\n",
       "    <tr>\n",
       "      <th>1680</th>\n",
       "      <td>1680.000</td>\n",
       "      <td>1</td>\n",
       "    </tr>\n",
       "    <tr>\n",
       "      <th>1690</th>\n",
       "      <td>1690.000</td>\n",
       "      <td>1</td>\n",
       "    </tr>\n",
       "  </tbody>\n",
       "</table>\n",
       "</div>"
      ],
      "text/plain": [
       "      CNSTRCT_YR  count\n",
       "1652    1652.000      1\n",
       "1661    1661.000      2\n",
       "1665    1665.000      1\n",
       "1680    1680.000      1\n",
       "1690    1690.000      1"
      ]
     },
     "execution_count": 682,
     "metadata": {},
     "output_type": "execute_result"
    }
   ],
   "source": [
    "# returning number of buildings by year as 'g'\n",
    "g = building_footprints_fill_median.groupby('CNSTRCT_YR')['DOITT_ID'].count().reset_index()\n",
    "g.rename({'DOITT_ID': 'count'}, axis=1, inplace=True)\n",
    "g.set_index('CNSTRCT_YR', drop=False, inplace=True)\n",
    "g.index = g.index.astype('int64')\n",
    "\n",
    "g.head()"
   ]
  },
  {
   "cell_type": "code",
   "execution_count": 683,
   "metadata": {},
   "outputs": [
    {
     "data": {
      "image/png": "[encoded data removed]",
      "text/plain": [
       "<Figure size 1080x720 with 1 Axes>"
      ]
     },
     "metadata": {
      "needs_background": "light"
     },
     "output_type": "display_data"
    }
   ],
   "source": [
    "fig, ax = plt.subplots(figsize=(15,10))\n",
    "\n",
    "# plotting line chart of number of buildings by 'CNSTRCT_YR'\n",
    "ax.plot(g['count'], linewidth=4)\n",
    "\n",
    "# formatting Y axis with comma\n",
    "ax.get_yaxis().set_major_formatter(\n",
    "    matplotlib.ticker.FuncFormatter(lambda x, p: format(int(x), ',')))\n",
    "\n",
    "plt.xlabel('Construction Year', fontsize=15)\n",
    "plt.ylabel('Number of Buildings', fontsize=15)\n",
    "plt.title('Number of Buildings by Construction Year in NYC', fontsize=17)\n",
    "plt.tight_layout()\n",
    "plt.savefig('figures/fig-8.png')"
   ]
  },
  {
   "cell_type": "code",
   "execution_count": 684,
   "metadata": {},
   "outputs": [
    {
     "data": {
      "image/png": "[encoded data removed]",
      "text/plain": [
       "<Figure size 1080x720 with 1 Axes>"
      ]
     },
     "metadata": {
      "needs_background": "light"
     },
     "output_type": "display_data"
    }
   ],
   "source": [
    "fig, ax = plt.subplots(figsize=(15,10))\n",
    "\n",
    "# plotting line chart of number of buildings by 'CNSTRCT_YR' built after 1900\n",
    "ax.plot(g[g['CNSTRCT_YR'] > 1900]['count'], linewidth=4)\n",
    "\n",
    "# formatting Y axis with comma\n",
    "ax.get_yaxis().set_major_formatter(\n",
    "    matplotlib.ticker.FuncFormatter(lambda x, p: format(int(x), ',')))\n",
    "\n",
    "plt.xlabel('Construction Year', fontsize=15)\n",
    "plt.ylabel('Number of Buildings', fontsize=15)\n",
    "plt.title('Number of Buildings by Construction Year Built After 1900 in NYC', fontsize=17)\n",
    "plt.tight_layout()\n",
    "plt.savefig('figures/fig-9.png')"
   ]
  },
  {
   "cell_type": "code",
   "execution_count": 685,
   "metadata": {},
   "outputs": [
    {
     "data": {
      "text/html": [
       "<div>\n",
       "<style scoped>\n",
       "    .dataframe tbody tr th:only-of-type {\n",
       "        vertical-align: middle;\n",
       "    }\n",
       "\n",
       "    .dataframe tbody tr th {\n",
       "        vertical-align: top;\n",
       "    }\n",
       "\n",
       "    .dataframe thead th {\n",
       "        text-align: right;\n",
       "    }\n",
       "</style>\n",
       "<table border=\"1\" class=\"dataframe\">\n",
       "  <thead>\n",
       "    <tr style=\"text-align: right;\">\n",
       "      <th></th>\n",
       "      <th>CNSTRCT_YR</th>\n",
       "      <th>count</th>\n",
       "    </tr>\n",
       "  </thead>\n",
       "  <tbody>\n",
       "    <tr>\n",
       "      <th>1652</th>\n",
       "      <td>1652.000</td>\n",
       "      <td>1</td>\n",
       "    </tr>\n",
       "    <tr>\n",
       "      <th>1661</th>\n",
       "      <td>1661.000</td>\n",
       "      <td>2</td>\n",
       "    </tr>\n",
       "    <tr>\n",
       "      <th>1665</th>\n",
       "      <td>1665.000</td>\n",
       "      <td>1</td>\n",
       "    </tr>\n",
       "    <tr>\n",
       "      <th>1680</th>\n",
       "      <td>1680.000</td>\n",
       "      <td>1</td>\n",
       "    </tr>\n",
       "    <tr>\n",
       "      <th>1690</th>\n",
       "      <td>1690.000</td>\n",
       "      <td>1</td>\n",
       "    </tr>\n",
       "  </tbody>\n",
       "</table>\n",
       "</div>"
      ],
      "text/plain": [
       "      CNSTRCT_YR  count\n",
       "1652    1652.000      1\n",
       "1661    1661.000      2\n",
       "1665    1665.000      1\n",
       "1680    1680.000      1\n",
       "1690    1690.000      1"
      ]
     },
     "execution_count": 685,
     "metadata": {},
     "output_type": "execute_result"
    }
   ],
   "source": [
    "# preview first five rows\n",
    "g.head()"
   ]
  },
  {
   "cell_type": "code",
   "execution_count": 686,
   "metadata": {},
   "outputs": [],
   "source": [
    "# calculating cumulative sum of number of buildings by 'CNSTRCT_YR'\n",
    "g['cumsum'] = g['count'].cumsum()"
   ]
  },
  {
   "cell_type": "code",
   "execution_count": 687,
   "metadata": {},
   "outputs": [
    {
     "data": {
      "text/html": [
       "<div>\n",
       "<style scoped>\n",
       "    .dataframe tbody tr th:only-of-type {\n",
       "        vertical-align: middle;\n",
       "    }\n",
       "\n",
       "    .dataframe tbody tr th {\n",
       "        vertical-align: top;\n",
       "    }\n",
       "\n",
       "    .dataframe thead th {\n",
       "        text-align: right;\n",
       "    }\n",
       "</style>\n",
       "<table border=\"1\" class=\"dataframe\">\n",
       "  <thead>\n",
       "    <tr style=\"text-align: right;\">\n",
       "      <th></th>\n",
       "      <th>CNSTRCT_YR</th>\n",
       "      <th>count</th>\n",
       "      <th>cumsum</th>\n",
       "    </tr>\n",
       "  </thead>\n",
       "  <tbody>\n",
       "    <tr>\n",
       "      <th>1652</th>\n",
       "      <td>1652.000</td>\n",
       "      <td>1</td>\n",
       "      <td>1</td>\n",
       "    </tr>\n",
       "    <tr>\n",
       "      <th>1661</th>\n",
       "      <td>1661.000</td>\n",
       "      <td>2</td>\n",
       "      <td>3</td>\n",
       "    </tr>\n",
       "    <tr>\n",
       "      <th>1665</th>\n",
       "      <td>1665.000</td>\n",
       "      <td>1</td>\n",
       "      <td>4</td>\n",
       "    </tr>\n",
       "    <tr>\n",
       "      <th>1680</th>\n",
       "      <td>1680.000</td>\n",
       "      <td>1</td>\n",
       "      <td>5</td>\n",
       "    </tr>\n",
       "    <tr>\n",
       "      <th>1690</th>\n",
       "      <td>1690.000</td>\n",
       "      <td>1</td>\n",
       "      <td>6</td>\n",
       "    </tr>\n",
       "  </tbody>\n",
       "</table>\n",
       "</div>"
      ],
      "text/plain": [
       "      CNSTRCT_YR  count  cumsum\n",
       "1652    1652.000      1       1\n",
       "1661    1661.000      2       3\n",
       "1665    1665.000      1       4\n",
       "1680    1680.000      1       5\n",
       "1690    1690.000      1       6"
      ]
     },
     "execution_count": 687,
     "metadata": {},
     "output_type": "execute_result"
    }
   ],
   "source": [
    "# preview first five rows\n",
    "g.head()"
   ]
  },
  {
   "cell_type": "code",
   "execution_count": 688,
   "metadata": {},
   "outputs": [
    {
     "data": {
      "image/png": "[encoded data removed]",
      "text/plain": [
       "<Figure size 1080x720 with 1 Axes>"
      ]
     },
     "metadata": {
      "needs_background": "light"
     },
     "output_type": "display_data"
    }
   ],
   "source": [
    "fig, ax = plt.subplots(figsize=(15,10))\n",
    "\n",
    "# plotting line chart of cumulative number of buildings by 'CNSTRCT_YR'\n",
    "ax.plot(g['cumsum'], linewidth=4)\n",
    "\n",
    "# formatting Y axis with comma\n",
    "ax.get_yaxis().set_major_formatter(\n",
    "    matplotlib.ticker.FuncFormatter(lambda x, p: format(int(x), ',')))\n",
    "\n",
    "plt.xlabel('Construction Year', fontsize=15)\n",
    "plt.ylabel('Cumulative Number of Buildings', fontsize=15)\n",
    "plt.title('Cumulative Number of Buildings by Construction Year in NYC', fontsize=17)\n",
    "plt.tight_layout()\n",
    "plt.savefig('figures/fig-10.png')"
   ]
  },
  {
   "cell_type": "code",
   "execution_count": 730,
   "metadata": {},
   "outputs": [
    {
     "data": {
      "image/png": "[encoded data removed]",
      "text/plain": [
       "<Figure size 1080x720 with 1 Axes>"
      ]
     },
     "metadata": {
      "needs_background": "light"
     },
     "output_type": "display_data"
    }
   ],
   "source": [
    "fig, ax = plt.subplots(figsize=(15,10))\n",
    "\n",
    "# plotting line chart of cumulative number of buildings by 'CNSTRCT_YR' built after 1900\n",
    "ax.plot(g[g['CNSTRCT_YR'] > 1900]['cumsum'], linewidth=4)\n",
    "\n",
    "# formatting Y axis with comma\n",
    "ax.get_yaxis().set_major_formatter(\n",
    "    matplotlib.ticker.FuncFormatter(lambda x, p: format(int(x), ',')))\n",
    "\n",
    "plt.xlabel('Construction Year', fontsize=15)\n",
    "plt.ylabel('Cumulative Number of Buildings', fontsize=15)\n",
    "plt.title('Cumulative Number of Buildings by Construction Year Built After 1900 in NYC', fontsize=17)\n",
    "plt.tight_layout()\n",
    "plt.savefig('figures/fig-11.png')"
   ]
  },
  {
   "cell_type": "markdown",
   "metadata": {},
   "source": [
    "# 5. Detecting Outliers"
   ]
  },
  {
   "cell_type": "markdown",
   "metadata": {},
   "source": [
    "## 5.1 Making a Box Plot"
   ]
  },
  {
   "cell_type": "code",
   "execution_count": 690,
   "metadata": {},
   "outputs": [],
   "source": [
    "# setting the link of our data (a static csv file) as the name 'url'\n",
    "url = 'https://data.cityofnewyork.us/api/views/cn3y-d5py/rows.csv?accessType=DOWNLOAD'\n",
    "\n",
    "# reading in our building footprints data as a pandas dataframe and \n",
    "# setting the name of dataframe as 'building_footprints'\n",
    "building_footprints = pd.read_csv(url)"
   ]
  },
  {
   "cell_type": "code",
   "execution_count": 691,
   "metadata": {},
   "outputs": [
    {
     "data": {
      "text/html": [
       "<div>\n",
       "<style scoped>\n",
       "    .dataframe tbody tr th:only-of-type {\n",
       "        vertical-align: middle;\n",
       "    }\n",
       "\n",
       "    .dataframe tbody tr th {\n",
       "        vertical-align: top;\n",
       "    }\n",
       "\n",
       "    .dataframe thead th {\n",
       "        text-align: right;\n",
       "    }\n",
       "</style>\n",
       "<table border=\"1\" class=\"dataframe\">\n",
       "  <thead>\n",
       "    <tr style=\"text-align: right;\">\n",
       "      <th></th>\n",
       "      <th>BIN</th>\n",
       "      <th>NAME</th>\n",
       "      <th>CNSTRCT_YR</th>\n",
       "      <th>the_geom</th>\n",
       "      <th>LSTMODDATE</th>\n",
       "      <th>LSTSTATYPE</th>\n",
       "      <th>DOITT_ID</th>\n",
       "      <th>HEIGHTROOF</th>\n",
       "      <th>FEAT_CODE</th>\n",
       "      <th>GROUNDELEV</th>\n",
       "      <th>SHAPE_AREA</th>\n",
       "      <th>SHAPE_LEN</th>\n",
       "      <th>BASE_BBL</th>\n",
       "      <th>MPLUTO_BBL</th>\n",
       "      <th>GEOMSOURCE</th>\n",
       "    </tr>\n",
       "  </thead>\n",
       "  <tbody>\n",
       "    <tr>\n",
       "      <th>0</th>\n",
       "      <td>3394646</td>\n",
       "      <td>NaN</td>\n",
       "      <td>2009.000</td>\n",
       "      <td>MULTIPOLYGON (((-73.87129515296562 40.65717370...</td>\n",
       "      <td>08/22/2017 12:00:00 AM +0000</td>\n",
       "      <td>Constructed</td>\n",
       "      <td>1212853</td>\n",
       "      <td>21.609</td>\n",
       "      <td>2100.000</td>\n",
       "      <td>18.000</td>\n",
       "      <td>854.662</td>\n",
       "      <td>125.080</td>\n",
       "      <td>3044520815.000</td>\n",
       "      <td>3044520815.000</td>\n",
       "      <td>Photogramm</td>\n",
       "    </tr>\n",
       "    <tr>\n",
       "      <th>1</th>\n",
       "      <td>4548330</td>\n",
       "      <td>NaN</td>\n",
       "      <td>1930.000</td>\n",
       "      <td>MULTIPOLYGON (((-73.87670970144625 40.71425234...</td>\n",
       "      <td>08/17/2017 12:00:00 AM +0000</td>\n",
       "      <td>Constructed</td>\n",
       "      <td>1226227</td>\n",
       "      <td>10.360</td>\n",
       "      <td>5110.000</td>\n",
       "      <td>122.000</td>\n",
       "      <td>217.594</td>\n",
       "      <td>60.226</td>\n",
       "      <td>4030640041.000</td>\n",
       "      <td>4030640041.000</td>\n",
       "      <td>Photogramm</td>\n",
       "    </tr>\n",
       "    <tr>\n",
       "      <th>2</th>\n",
       "      <td>4460479</td>\n",
       "      <td>NaN</td>\n",
       "      <td>1960.000</td>\n",
       "      <td>MULTIPOLYGON (((-73.85195485799383 40.66235471...</td>\n",
       "      <td>08/22/2017 12:00:00 AM +0000</td>\n",
       "      <td>Constructed</td>\n",
       "      <td>581946</td>\n",
       "      <td>29.812</td>\n",
       "      <td>2100.000</td>\n",
       "      <td>10.000</td>\n",
       "      <td>946.427</td>\n",
       "      <td>123.142</td>\n",
       "      <td>4139430001.000</td>\n",
       "      <td>4139430001.000</td>\n",
       "      <td>Photogramm</td>\n",
       "    </tr>\n",
       "    <tr>\n",
       "      <th>3</th>\n",
       "      <td>3355684</td>\n",
       "      <td>NaN</td>\n",
       "      <td>1920.000</td>\n",
       "      <td>MULTIPOLYGON (((-73.94029215265738 40.64108287...</td>\n",
       "      <td>08/17/2017 12:00:00 AM +0000</td>\n",
       "      <td>Constructed</td>\n",
       "      <td>858061</td>\n",
       "      <td>11.200</td>\n",
       "      <td>5110.000</td>\n",
       "      <td>32.000</td>\n",
       "      <td>248.678</td>\n",
       "      <td>63.941</td>\n",
       "      <td>3049720006.000</td>\n",
       "      <td>3049720006.000</td>\n",
       "      <td>Photogramm</td>\n",
       "    </tr>\n",
       "    <tr>\n",
       "      <th>4</th>\n",
       "      <td>3131737</td>\n",
       "      <td>NaN</td>\n",
       "      <td>1915.000</td>\n",
       "      <td>MULTIPOLYGON (((-73.98998983552244 40.62383804...</td>\n",
       "      <td>08/22/2017 12:00:00 AM +0000</td>\n",
       "      <td>Constructed</td>\n",
       "      <td>568078</td>\n",
       "      <td>24.980</td>\n",
       "      <td>2100.000</td>\n",
       "      <td>44.000</td>\n",
       "      <td>1163.228</td>\n",
       "      <td>165.609</td>\n",
       "      <td>3055100055.000</td>\n",
       "      <td>3055100055.000</td>\n",
       "      <td>Photogramm</td>\n",
       "    </tr>\n",
       "  </tbody>\n",
       "</table>\n",
       "</div>"
      ],
      "text/plain": [
       "       BIN NAME  CNSTRCT_YR  \\\n",
       "0  3394646  NaN    2009.000   \n",
       "1  4548330  NaN    1930.000   \n",
       "2  4460479  NaN    1960.000   \n",
       "3  3355684  NaN    1920.000   \n",
       "4  3131737  NaN    1915.000   \n",
       "\n",
       "                                            the_geom  \\\n",
       "0  MULTIPOLYGON (((-73.87129515296562 40.65717370...   \n",
       "1  MULTIPOLYGON (((-73.87670970144625 40.71425234...   \n",
       "2  MULTIPOLYGON (((-73.85195485799383 40.66235471...   \n",
       "3  MULTIPOLYGON (((-73.94029215265738 40.64108287...   \n",
       "4  MULTIPOLYGON (((-73.98998983552244 40.62383804...   \n",
       "\n",
       "                     LSTMODDATE   LSTSTATYPE  DOITT_ID  HEIGHTROOF  FEAT_CODE  \\\n",
       "0  08/22/2017 12:00:00 AM +0000  Constructed   1212853      21.609   2100.000   \n",
       "1  08/17/2017 12:00:00 AM +0000  Constructed   1226227      10.360   5110.000   \n",
       "2  08/22/2017 12:00:00 AM +0000  Constructed    581946      29.812   2100.000   \n",
       "3  08/17/2017 12:00:00 AM +0000  Constructed    858061      11.200   5110.000   \n",
       "4  08/22/2017 12:00:00 AM +0000  Constructed    568078      24.980   2100.000   \n",
       "\n",
       "   GROUNDELEV  SHAPE_AREA  SHAPE_LEN       BASE_BBL     MPLUTO_BBL  GEOMSOURCE  \n",
       "0      18.000     854.662    125.080 3044520815.000 3044520815.000  Photogramm  \n",
       "1     122.000     217.594     60.226 4030640041.000 4030640041.000  Photogramm  \n",
       "2      10.000     946.427    123.142 4139430001.000 4139430001.000  Photogramm  \n",
       "3      32.000     248.678     63.941 3049720006.000 3049720006.000  Photogramm  \n",
       "4      44.000    1163.228    165.609 3055100055.000 3055100055.000  Photogramm  "
      ]
     },
     "execution_count": 691,
     "metadata": {},
     "output_type": "execute_result"
    }
   ],
   "source": [
    "# previewing the first five rows of our dataframe\n",
    "building_footprints.head()"
   ]
  },
  {
   "cell_type": "code",
   "execution_count": 692,
   "metadata": {},
   "outputs": [
    {
     "name": "stdout",
     "output_type": "stream",
     "text": [
      "(1084904, 15)\n"
     ]
    }
   ],
   "source": [
    "# returning number of rows and columns as a tuple\n",
    "print(building_footprints.shape)"
   ]
  },
  {
   "cell_type": "code",
   "execution_count": 693,
   "metadata": {},
   "outputs": [
    {
     "data": {
      "text/plain": [
       "0         2009.000\n",
       "1         1930.000\n",
       "2         1960.000\n",
       "3         1920.000\n",
       "4         1915.000\n",
       "            ...   \n",
       "1084899   2020.000\n",
       "1084900   2020.000\n",
       "1084901   2020.000\n",
       "1084902   2020.000\n",
       "1084903   2020.000\n",
       "Name: CNSTRCT_YR, Length: 1084904, dtype: float64"
      ]
     },
     "execution_count": 693,
     "metadata": {},
     "output_type": "execute_result"
    }
   ],
   "source": [
    "# converting all the values in our 'CNSTRCT_YR' column as integers\n",
    "# invalid conversions will be set as NaN with errors='coerce'\n",
    "pd.to_numeric(building_footprints['CNSTRCT_YR'], downcast='integer', errors='coerce')"
   ]
  },
  {
   "cell_type": "code",
   "execution_count": 694,
   "metadata": {},
   "outputs": [
    {
     "data": {
      "text/plain": [
       "Text(0.5, 1.0, 'Histogram of Construction Year Values')"
      ]
     },
     "execution_count": 694,
     "metadata": {},
     "output_type": "execute_result"
    },
    {
     "data": {
      "image/png": "[encoded data removed]",
      "text/plain": [
       "<Figure size 1080x720 with 1 Axes>"
      ]
     },
     "metadata": {
      "needs_background": "light"
     },
     "output_type": "display_data"
    }
   ],
   "source": [
    "# making a histogram of our 'CNSTRCT_YR' column with 10 bins\n",
    "building_footprints['CNSTRCT_YR'].hist(figsize=(15,10))\n",
    "plt.xlabel('Construction Year', fontsize=15)\n",
    "plt.ylabel('Counts', fontsize=15)\n",
    "plt.title('Histogram of Construction Year Values', fontsize=15)"
   ]
  },
  {
   "cell_type": "code",
   "execution_count": 695,
   "metadata": {},
   "outputs": [
    {
     "data": {
      "text/plain": [
       "Text(0.5, 1.0, 'Histogram of Construction Year Values')"
      ]
     },
     "execution_count": 695,
     "metadata": {},
     "output_type": "execute_result"
    },
    {
     "data": {
      "image/png": "[encoded data removed]",
      "text/plain": [
       "<Figure size 1080x720 with 1 Axes>"
      ]
     },
     "metadata": {
      "needs_background": "light"
     },
     "output_type": "display_data"
    }
   ],
   "source": [
    "# making a histogram of our 'CNSTRCT_YR' column with 10 bins\n",
    "building_footprints['CNSTRCT_YR'].hist(figsize=(15,10), bins=50)\n",
    "plt.xlabel('Construction Year', fontsize=15)\n",
    "plt.ylabel('Counts', fontsize=15)\n",
    "plt.title('Histogram of Construction Year Values', fontsize=15)"
   ]
  },
  {
   "cell_type": "markdown",
   "metadata": {},
   "source": [
    "### 5.1.1 Calculating Interquartile Range (IQR)"
   ]
  },
  {
   "cell_type": "code",
   "execution_count": 696,
   "metadata": {},
   "outputs": [
    {
     "name": "stdout",
     "output_type": "stream",
     "text": [
      "1920.0\n",
      "1955.0\n"
     ]
    }
   ],
   "source": [
    "# printing the 25% and 75% quantiles of our 'CNSTRCT_YR' column\n",
    "print(building_footprints['CNSTRCT_YR'].quantile(0.25))\n",
    "print(building_footprints['CNSTRCT_YR'].quantile(0.75))"
   ]
  },
  {
   "cell_type": "code",
   "execution_count": 697,
   "metadata": {},
   "outputs": [],
   "source": [
    "# saving the 25% (i.e. Q1) and 75% (i.e. Q3) quantiles of our 'CNSTRCT_YR' column\n",
    "Q1 = building_footprints['CNSTRCT_YR'].quantile(0.25)\n",
    "Q3 = building_footprints['CNSTRCT_YR'].quantile(0.75)\n",
    "\n",
    "# Computing the interquartile range (IQR)\n",
    "IQR = Q3 - Q1"
   ]
  },
  {
   "cell_type": "code",
   "execution_count": 698,
   "metadata": {},
   "outputs": [
    {
     "data": {
      "text/plain": [
       "35.0"
      ]
     },
     "execution_count": 698,
     "metadata": {},
     "output_type": "execute_result"
    }
   ],
   "source": [
    "# printing the IQR of our 'CNSTRCT_YR' column\n",
    "IQR"
   ]
  },
  {
   "cell_type": "code",
   "execution_count": 699,
   "metadata": {},
   "outputs": [
    {
     "name": "stdout",
     "output_type": "stream",
     "text": [
      "1867.5\n",
      "2007.5\n"
     ]
    }
   ],
   "source": [
    "# printing the lower 1.5*IQR whisker = Q1 - 1.5 * IQR\n",
    "print((Q1 - 1.5 * IQR))\n",
    "\n",
    "# printing the upper 1.5*IQR whisker = Q1 - 1.5 * IQR\n",
    "print((Q3 + 1.5 * IQR))"
   ]
  },
  {
   "cell_type": "markdown",
   "metadata": {},
   "source": [
    "### 5.1.2 Box Plot of Construction Year Values"
   ]
  },
  {
   "cell_type": "code",
   "execution_count": 700,
   "metadata": {
    "scrolled": false
   },
   "outputs": [
    {
     "data": {
      "image/png": "[encoded data removed]",
      "text/plain": [
       "<Figure size 1080x720 with 1 Axes>"
      ]
     },
     "metadata": {
      "needs_background": "light"
     },
     "output_type": "display_data"
    }
   ],
   "source": [
    "# making a box plot from our 'CNSTRCT_YR' column\n",
    "CNSTRCT_YR_boxplot = building_footprints.boxplot(column=['CNSTRCT_YR'], figsize=(15,10))\n",
    "plt.title('Box Plot of Construction Year Value', fontsize=15)\n",
    "plt.savefig('figures/fig-12.png')"
   ]
  },
  {
   "cell_type": "markdown",
   "metadata": {},
   "source": [
    "### 5.1.3 Making Histograms of Values Above and Below Box Plot Whiskers"
   ]
  },
  {
   "cell_type": "code",
   "execution_count": 701,
   "metadata": {},
   "outputs": [
    {
     "data": {
      "image/png": "[encoded data removed]",
      "text/plain": [
       "<Figure size 1080x360 with 2 Axes>"
      ]
     },
     "metadata": {
      "needs_background": "light"
     },
     "output_type": "display_data"
    }
   ],
   "source": [
    "plt.figure(figsize=(15,5))\n",
    "\n",
    "# identifying values lower than our lower whisker\n",
    "floor = building_footprints[building_footprints.CNSTRCT_YR < (Q1 - 1.5 * IQR)] \n",
    "\n",
    "# identifying values higher than our upper whisker\n",
    "ceiling = building_footprints[building_footprints.CNSTRCT_YR > (Q3 + 1.5 * IQR)]\n",
    "\n",
    "# making histograms of these distributions\n",
    "plt.subplot(121)\n",
    "floor['CNSTRCT_YR'].hist()\n",
    "plt.xlabel('Construction Year')\n",
    "plt.ylabel('Counts')\n",
    "plt.title('Histogram of Construction Year Values Below Lower Whisker')\n",
    "\n",
    "plt.subplot(122)\n",
    "ceiling['CNSTRCT_YR'].hist()\n",
    "plt.xlabel('Construction Year')\n",
    "plt.ylabel('Counts')\n",
    "plt.title('Histogram of Construction Year Values Above Upper Whisker')\n",
    "\n",
    "plt.tight_layout()\n",
    "plt.savefig('figures/fig-13.png')"
   ]
  },
  {
   "cell_type": "code",
   "execution_count": 702,
   "metadata": {},
   "outputs": [
    {
     "data": {
      "text/plain": [
       "0.000       6140\n",
       "1855.000     271\n",
       "1850.000     260\n",
       "1853.000     248\n",
       "1854.000     241\n",
       "            ... \n",
       "1735.000       1\n",
       "1720.000       1\n",
       "1797.000       1\n",
       "1811.000       1\n",
       "1665.000       1\n",
       "Name: CNSTRCT_YR, Length: 95, dtype: int64"
      ]
     },
     "execution_count": 702,
     "metadata": {},
     "output_type": "execute_result"
    }
   ],
   "source": [
    "# return counts of unique values in descending order less than our lower whisker\n",
    "floor['CNSTRCT_YR'].value_counts()"
   ]
  },
  {
   "cell_type": "code",
   "execution_count": 703,
   "metadata": {},
   "outputs": [
    {
     "data": {
      "text/plain": [
       "0.000       6140\n",
       "202.000        1\n",
       "1652.000       1\n",
       "1661.000       2\n",
       "1665.000       1\n",
       "            ... \n",
       "1863.000      67\n",
       "1864.000     108\n",
       "1865.000     141\n",
       "1866.000     152\n",
       "1867.000     174\n",
       "Name: CNSTRCT_YR, Length: 95, dtype: int64"
      ]
     },
     "execution_count": 703,
     "metadata": {},
     "output_type": "execute_result"
    }
   ],
   "source": [
    "# return counts of unique values less than our lower whisker sorted by index (i.e. 'CNSTRCT_YR')\n",
    "floor['CNSTRCT_YR'].value_counts().sort_index()"
   ]
  },
  {
   "cell_type": "code",
   "execution_count": 704,
   "metadata": {},
   "outputs": [
    {
     "data": {
      "text/plain": [
       "array([   0.,  202., 1652., 1661., 1665., 1680., 1690., 1694., 1706.,\n",
       "       1719., 1720., 1722., 1725., 1729., 1735., 1747., 1750., 1758.,\n",
       "       1765., 1766., 1775., 1779., 1785., 1789., 1792., 1793., 1795.,\n",
       "       1797., 1799., 1800., 1801., 1802., 1803., 1804., 1807., 1808.,\n",
       "       1809., 1810., 1811., 1812., 1813., 1814., 1815., 1816., 1817.,\n",
       "       1818., 1819., 1820., 1821., 1822., 1823., 1824., 1825., 1826.,\n",
       "       1827., 1828., 1829., 1830., 1831., 1832., 1833., 1834., 1835.,\n",
       "       1836., 1837., 1838., 1839., 1840., 1841., 1842., 1843., 1844.,\n",
       "       1845., 1846., 1847., 1848., 1849., 1850., 1851., 1852., 1853.,\n",
       "       1854., 1855., 1856., 1857., 1858., 1859., 1860., 1861., 1862.,\n",
       "       1863., 1864., 1865., 1866., 1867.])"
      ]
     },
     "execution_count": 704,
     "metadata": {},
     "output_type": "execute_result"
    }
   ],
   "source": [
    "# printing the unique values less than our lower whisker\n",
    "floor['CNSTRCT_YR'].sort_values().unique()"
   ]
  },
  {
   "cell_type": "code",
   "execution_count": 705,
   "metadata": {},
   "outputs": [
    {
     "data": {
      "text/plain": [
       "2008.000        3291\n",
       "2018.000        2050\n",
       "2009.000        1955\n",
       "2017.000        1866\n",
       "2016.000        1743\n",
       "2011.000        1487\n",
       "2012.000        1435\n",
       "2010.000        1366\n",
       "2015.000        1034\n",
       "2013.000         897\n",
       "2014.000         833\n",
       "2019.000         802\n",
       "2020.000         479\n",
       "20000.000          2\n",
       "20115.000          1\n",
       "20004.000          1\n",
       "19999979.000       1\n",
       "Name: CNSTRCT_YR, dtype: int64"
      ]
     },
     "execution_count": 705,
     "metadata": {},
     "output_type": "execute_result"
    }
   ],
   "source": [
    "# return counts of unique values in descending order greater than our upper whisker\n",
    "ceiling['CNSTRCT_YR'].value_counts()"
   ]
  },
  {
   "cell_type": "code",
   "execution_count": 706,
   "metadata": {},
   "outputs": [
    {
     "data": {
      "text/plain": [
       "2008.000        3291\n",
       "2009.000        1955\n",
       "2010.000        1366\n",
       "2011.000        1487\n",
       "2012.000        1435\n",
       "2013.000         897\n",
       "2014.000         833\n",
       "2015.000        1034\n",
       "2016.000        1743\n",
       "2017.000        1866\n",
       "2018.000        2050\n",
       "2019.000         802\n",
       "2020.000         479\n",
       "20000.000          2\n",
       "20004.000          1\n",
       "20115.000          1\n",
       "19999979.000       1\n",
       "Name: CNSTRCT_YR, dtype: int64"
      ]
     },
     "execution_count": 706,
     "metadata": {},
     "output_type": "execute_result"
    }
   ],
   "source": [
    "# return counts of unique values in descending order greater than our upper whisker\n",
    "ceiling['CNSTRCT_YR'].value_counts().sort_index()"
   ]
  },
  {
   "cell_type": "markdown",
   "metadata": {},
   "source": [
    "## 5.2. Z-Scores"
   ]
  },
  {
   "cell_type": "markdown",
   "metadata": {},
   "source": [
    "### 5.2.1 Calculating Z-Scores"
   ]
  },
  {
   "cell_type": "code",
   "execution_count": 707,
   "metadata": {},
   "outputs": [],
   "source": [
    "# calculating the z score of our 'CNSTRCT_YR' column\n",
    "building_footprints['CNSTRCT_YR_zscore'] = (building_footprints.CNSTRCT_YR - building_footprints.CNSTRCT_YR.mean())/building_footprints.CNSTRCT_YR.std()"
   ]
  },
  {
   "cell_type": "code",
   "execution_count": 708,
   "metadata": {},
   "outputs": [
    {
     "data": {
      "text/html": [
       "<div>\n",
       "<style scoped>\n",
       "    .dataframe tbody tr th:only-of-type {\n",
       "        vertical-align: middle;\n",
       "    }\n",
       "\n",
       "    .dataframe tbody tr th {\n",
       "        vertical-align: top;\n",
       "    }\n",
       "\n",
       "    .dataframe thead th {\n",
       "        text-align: right;\n",
       "    }\n",
       "</style>\n",
       "<table border=\"1\" class=\"dataframe\">\n",
       "  <thead>\n",
       "    <tr style=\"text-align: right;\">\n",
       "      <th></th>\n",
       "      <th>CNSTRCT_YR</th>\n",
       "      <th>CNSTRCT_YR_zscore</th>\n",
       "    </tr>\n",
       "  </thead>\n",
       "  <tbody>\n",
       "    <tr>\n",
       "      <th>0</th>\n",
       "      <td>2009.000</td>\n",
       "      <td>0.003</td>\n",
       "    </tr>\n",
       "    <tr>\n",
       "      <th>1</th>\n",
       "      <td>1930.000</td>\n",
       "      <td>-0.001</td>\n",
       "    </tr>\n",
       "    <tr>\n",
       "      <th>2</th>\n",
       "      <td>1960.000</td>\n",
       "      <td>0.001</td>\n",
       "    </tr>\n",
       "    <tr>\n",
       "      <th>3</th>\n",
       "      <td>1920.000</td>\n",
       "      <td>-0.001</td>\n",
       "    </tr>\n",
       "    <tr>\n",
       "      <th>4</th>\n",
       "      <td>1915.000</td>\n",
       "      <td>-0.002</td>\n",
       "    </tr>\n",
       "  </tbody>\n",
       "</table>\n",
       "</div>"
      ],
      "text/plain": [
       "   CNSTRCT_YR  CNSTRCT_YR_zscore\n",
       "0    2009.000              0.003\n",
       "1    1930.000             -0.001\n",
       "2    1960.000              0.001\n",
       "3    1920.000             -0.001\n",
       "4    1915.000             -0.002"
      ]
     },
     "execution_count": 708,
     "metadata": {},
     "output_type": "execute_result"
    }
   ],
   "source": [
    "# making a separate dataframe with only the columns ['CNSTRCT_YR', 'CNSTRCT_YR_zscore']\n",
    "CNSTRCT_YR_zscore = building_footprints[['CNSTRCT_YR', 'CNSTRCT_YR_zscore']]\n",
    "CNSTRCT_YR_zscore.head()"
   ]
  },
  {
   "cell_type": "code",
   "execution_count": 709,
   "metadata": {},
   "outputs": [
    {
     "data": {
      "text/html": [
       "<div>\n",
       "<style scoped>\n",
       "    .dataframe tbody tr th:only-of-type {\n",
       "        vertical-align: middle;\n",
       "    }\n",
       "\n",
       "    .dataframe tbody tr th {\n",
       "        vertical-align: top;\n",
       "    }\n",
       "\n",
       "    .dataframe thead th {\n",
       "        text-align: right;\n",
       "    }\n",
       "</style>\n",
       "<table border=\"1\" class=\"dataframe\">\n",
       "  <thead>\n",
       "    <tr style=\"text-align: right;\">\n",
       "      <th></th>\n",
       "      <th>CNSTRCT_YR</th>\n",
       "      <th>CNSTRCT_YR_zscore</th>\n",
       "    </tr>\n",
       "  </thead>\n",
       "  <tbody>\n",
       "    <tr>\n",
       "      <th>79745</th>\n",
       "      <td>0.000</td>\n",
       "      <td>-0.101</td>\n",
       "    </tr>\n",
       "    <tr>\n",
       "      <th>747096</th>\n",
       "      <td>0.000</td>\n",
       "      <td>-0.101</td>\n",
       "    </tr>\n",
       "    <tr>\n",
       "      <th>113382</th>\n",
       "      <td>0.000</td>\n",
       "      <td>-0.101</td>\n",
       "    </tr>\n",
       "    <tr>\n",
       "      <th>1057911</th>\n",
       "      <td>0.000</td>\n",
       "      <td>-0.101</td>\n",
       "    </tr>\n",
       "    <tr>\n",
       "      <th>1084403</th>\n",
       "      <td>0.000</td>\n",
       "      <td>-0.101</td>\n",
       "    </tr>\n",
       "    <tr>\n",
       "      <th>...</th>\n",
       "      <td>...</td>\n",
       "      <td>...</td>\n",
       "    </tr>\n",
       "    <tr>\n",
       "      <th>1084848</th>\n",
       "      <td>nan</td>\n",
       "      <td>nan</td>\n",
       "    </tr>\n",
       "    <tr>\n",
       "      <th>1084850</th>\n",
       "      <td>nan</td>\n",
       "      <td>nan</td>\n",
       "    </tr>\n",
       "    <tr>\n",
       "      <th>1084874</th>\n",
       "      <td>nan</td>\n",
       "      <td>nan</td>\n",
       "    </tr>\n",
       "    <tr>\n",
       "      <th>1084896</th>\n",
       "      <td>nan</td>\n",
       "      <td>nan</td>\n",
       "    </tr>\n",
       "    <tr>\n",
       "      <th>1084897</th>\n",
       "      <td>nan</td>\n",
       "      <td>nan</td>\n",
       "    </tr>\n",
       "  </tbody>\n",
       "</table>\n",
       "<p>1084904 rows × 2 columns</p>\n",
       "</div>"
      ],
      "text/plain": [
       "         CNSTRCT_YR  CNSTRCT_YR_zscore\n",
       "79745         0.000             -0.101\n",
       "747096        0.000             -0.101\n",
       "113382        0.000             -0.101\n",
       "1057911       0.000             -0.101\n",
       "1084403       0.000             -0.101\n",
       "...             ...                ...\n",
       "1084848         nan                nan\n",
       "1084850         nan                nan\n",
       "1084874         nan                nan\n",
       "1084896         nan                nan\n",
       "1084897         nan                nan\n",
       "\n",
       "[1084904 rows x 2 columns]"
      ]
     },
     "execution_count": 709,
     "metadata": {},
     "output_type": "execute_result"
    }
   ],
   "source": [
    "# sorting by CNSTRCT_YR_zscore in ascending order\n",
    "CNSTRCT_YR_zscore.sort_values(by='CNSTRCT_YR_zscore')"
   ]
  },
  {
   "cell_type": "code",
   "execution_count": 710,
   "metadata": {},
   "outputs": [
    {
     "data": {
      "text/html": [
       "<div>\n",
       "<style scoped>\n",
       "    .dataframe tbody tr th:only-of-type {\n",
       "        vertical-align: middle;\n",
       "    }\n",
       "\n",
       "    .dataframe tbody tr th {\n",
       "        vertical-align: top;\n",
       "    }\n",
       "\n",
       "    .dataframe thead th {\n",
       "        text-align: right;\n",
       "    }\n",
       "</style>\n",
       "<table border=\"1\" class=\"dataframe\">\n",
       "  <thead>\n",
       "    <tr style=\"text-align: right;\">\n",
       "      <th></th>\n",
       "      <th>CNSTRCT_YR</th>\n",
       "      <th>CNSTRCT_YR_zscore</th>\n",
       "    </tr>\n",
       "  </thead>\n",
       "  <tbody>\n",
       "    <tr>\n",
       "      <th>1056530</th>\n",
       "      <td>19999979.000</td>\n",
       "      <td>1039.208</td>\n",
       "    </tr>\n",
       "    <tr>\n",
       "      <th>840953</th>\n",
       "      <td>20115.000</td>\n",
       "      <td>0.944</td>\n",
       "    </tr>\n",
       "    <tr>\n",
       "      <th>518159</th>\n",
       "      <td>20004.000</td>\n",
       "      <td>0.938</td>\n",
       "    </tr>\n",
       "    <tr>\n",
       "      <th>743206</th>\n",
       "      <td>20000.000</td>\n",
       "      <td>0.938</td>\n",
       "    </tr>\n",
       "    <tr>\n",
       "      <th>64079</th>\n",
       "      <td>20000.000</td>\n",
       "      <td>0.938</td>\n",
       "    </tr>\n",
       "    <tr>\n",
       "      <th>...</th>\n",
       "      <td>...</td>\n",
       "      <td>...</td>\n",
       "    </tr>\n",
       "    <tr>\n",
       "      <th>1084848</th>\n",
       "      <td>nan</td>\n",
       "      <td>nan</td>\n",
       "    </tr>\n",
       "    <tr>\n",
       "      <th>1084850</th>\n",
       "      <td>nan</td>\n",
       "      <td>nan</td>\n",
       "    </tr>\n",
       "    <tr>\n",
       "      <th>1084874</th>\n",
       "      <td>nan</td>\n",
       "      <td>nan</td>\n",
       "    </tr>\n",
       "    <tr>\n",
       "      <th>1084896</th>\n",
       "      <td>nan</td>\n",
       "      <td>nan</td>\n",
       "    </tr>\n",
       "    <tr>\n",
       "      <th>1084897</th>\n",
       "      <td>nan</td>\n",
       "      <td>nan</td>\n",
       "    </tr>\n",
       "  </tbody>\n",
       "</table>\n",
       "<p>1084904 rows × 2 columns</p>\n",
       "</div>"
      ],
      "text/plain": [
       "          CNSTRCT_YR  CNSTRCT_YR_zscore\n",
       "1056530 19999979.000           1039.208\n",
       "840953     20115.000              0.944\n",
       "518159     20004.000              0.938\n",
       "743206     20000.000              0.938\n",
       "64079      20000.000              0.938\n",
       "...              ...                ...\n",
       "1084848          nan                nan\n",
       "1084850          nan                nan\n",
       "1084874          nan                nan\n",
       "1084896          nan                nan\n",
       "1084897          nan                nan\n",
       "\n",
       "[1084904 rows x 2 columns]"
      ]
     },
     "execution_count": 710,
     "metadata": {},
     "output_type": "execute_result"
    }
   ],
   "source": [
    "# sorting by CNSTRCT_YR_zscore in descending order\n",
    "CNSTRCT_YR_zscore.sort_values(by='CNSTRCT_YR_zscore', ascending=False)"
   ]
  },
  {
   "cell_type": "code",
   "execution_count": 711,
   "metadata": {},
   "outputs": [
    {
     "name": "stdout",
     "output_type": "stream",
     "text": [
      "1084904\n"
     ]
    }
   ],
   "source": [
    "# printing number of rows in our dataframe\n",
    "print(len(CNSTRCT_YR_zscore))"
   ]
  },
  {
   "cell_type": "code",
   "execution_count": 712,
   "metadata": {},
   "outputs": [
    {
     "name": "stdout",
     "output_type": "stream",
     "text": [
      "CNSTRCT_YR           float64\n",
      "CNSTRCT_YR_zscore    float64\n",
      "dtype: object\n"
     ]
    }
   ],
   "source": [
    "# printing the datatypes in our dataframe\n",
    "print(CNSTRCT_YR_zscore.dtypes)"
   ]
  },
  {
   "cell_type": "markdown",
   "metadata": {},
   "source": [
    "### 5.2.2 Identifying Possible Outliers from Z-Score"
   ]
  },
  {
   "cell_type": "code",
   "execution_count": 713,
   "metadata": {},
   "outputs": [],
   "source": [
    "# returning values in 'CNSTRCT_YR_zscore' column not between -3 and 3\n",
    "# and saving as 'outside_zscore'\n",
    "outside_zscore = CNSTRCT_YR_zscore[~CNSTRCT_YR_zscore['CNSTRCT_YR_zscore'].between(-3, 3, inclusive=True)]"
   ]
  },
  {
   "cell_type": "code",
   "execution_count": 714,
   "metadata": {},
   "outputs": [
    {
     "data": {
      "text/html": [
       "<div>\n",
       "<style scoped>\n",
       "    .dataframe tbody tr th:only-of-type {\n",
       "        vertical-align: middle;\n",
       "    }\n",
       "\n",
       "    .dataframe tbody tr th {\n",
       "        vertical-align: top;\n",
       "    }\n",
       "\n",
       "    .dataframe thead th {\n",
       "        text-align: right;\n",
       "    }\n",
       "</style>\n",
       "<table border=\"1\" class=\"dataframe\">\n",
       "  <thead>\n",
       "    <tr style=\"text-align: right;\">\n",
       "      <th></th>\n",
       "      <th>CNSTRCT_YR</th>\n",
       "      <th>CNSTRCT_YR_zscore</th>\n",
       "    </tr>\n",
       "  </thead>\n",
       "  <tbody>\n",
       "    <tr>\n",
       "      <th>4943</th>\n",
       "      <td>nan</td>\n",
       "      <td>nan</td>\n",
       "    </tr>\n",
       "    <tr>\n",
       "      <th>45949</th>\n",
       "      <td>nan</td>\n",
       "      <td>nan</td>\n",
       "    </tr>\n",
       "    <tr>\n",
       "      <th>45955</th>\n",
       "      <td>nan</td>\n",
       "      <td>nan</td>\n",
       "    </tr>\n",
       "    <tr>\n",
       "      <th>46004</th>\n",
       "      <td>nan</td>\n",
       "      <td>nan</td>\n",
       "    </tr>\n",
       "    <tr>\n",
       "      <th>50349</th>\n",
       "      <td>nan</td>\n",
       "      <td>nan</td>\n",
       "    </tr>\n",
       "  </tbody>\n",
       "</table>\n",
       "</div>"
      ],
      "text/plain": [
       "       CNSTRCT_YR  CNSTRCT_YR_zscore\n",
       "4943          nan                nan\n",
       "45949         nan                nan\n",
       "45955         nan                nan\n",
       "46004         nan                nan\n",
       "50349         nan                nan"
      ]
     },
     "execution_count": 714,
     "metadata": {},
     "output_type": "execute_result"
    }
   ],
   "source": [
    "# previewing first five rows \n",
    "outside_zscore.head()"
   ]
  },
  {
   "cell_type": "code",
   "execution_count": 715,
   "metadata": {},
   "outputs": [
    {
     "data": {
      "text/html": [
       "<div>\n",
       "<style scoped>\n",
       "    .dataframe tbody tr th:only-of-type {\n",
       "        vertical-align: middle;\n",
       "    }\n",
       "\n",
       "    .dataframe tbody tr th {\n",
       "        vertical-align: top;\n",
       "    }\n",
       "\n",
       "    .dataframe thead th {\n",
       "        text-align: right;\n",
       "    }\n",
       "</style>\n",
       "<table border=\"1\" class=\"dataframe\">\n",
       "  <thead>\n",
       "    <tr style=\"text-align: right;\">\n",
       "      <th></th>\n",
       "      <th>CNSTRCT_YR</th>\n",
       "      <th>CNSTRCT_YR_zscore</th>\n",
       "    </tr>\n",
       "  </thead>\n",
       "  <tbody>\n",
       "    <tr>\n",
       "      <th>1056530</th>\n",
       "      <td>19999979.000</td>\n",
       "      <td>1039.208</td>\n",
       "    </tr>\n",
       "    <tr>\n",
       "      <th>4943</th>\n",
       "      <td>nan</td>\n",
       "      <td>nan</td>\n",
       "    </tr>\n",
       "    <tr>\n",
       "      <th>45949</th>\n",
       "      <td>nan</td>\n",
       "      <td>nan</td>\n",
       "    </tr>\n",
       "    <tr>\n",
       "      <th>45955</th>\n",
       "      <td>nan</td>\n",
       "      <td>nan</td>\n",
       "    </tr>\n",
       "    <tr>\n",
       "      <th>46004</th>\n",
       "      <td>nan</td>\n",
       "      <td>nan</td>\n",
       "    </tr>\n",
       "    <tr>\n",
       "      <th>...</th>\n",
       "      <td>...</td>\n",
       "      <td>...</td>\n",
       "    </tr>\n",
       "    <tr>\n",
       "      <th>1084848</th>\n",
       "      <td>nan</td>\n",
       "      <td>nan</td>\n",
       "    </tr>\n",
       "    <tr>\n",
       "      <th>1084850</th>\n",
       "      <td>nan</td>\n",
       "      <td>nan</td>\n",
       "    </tr>\n",
       "    <tr>\n",
       "      <th>1084874</th>\n",
       "      <td>nan</td>\n",
       "      <td>nan</td>\n",
       "    </tr>\n",
       "    <tr>\n",
       "      <th>1084896</th>\n",
       "      <td>nan</td>\n",
       "      <td>nan</td>\n",
       "    </tr>\n",
       "    <tr>\n",
       "      <th>1084897</th>\n",
       "      <td>nan</td>\n",
       "      <td>nan</td>\n",
       "    </tr>\n",
       "  </tbody>\n",
       "</table>\n",
       "<p>4882 rows × 2 columns</p>\n",
       "</div>"
      ],
      "text/plain": [
       "          CNSTRCT_YR  CNSTRCT_YR_zscore\n",
       "1056530 19999979.000           1039.208\n",
       "4943             nan                nan\n",
       "45949            nan                nan\n",
       "45955            nan                nan\n",
       "46004            nan                nan\n",
       "...              ...                ...\n",
       "1084848          nan                nan\n",
       "1084850          nan                nan\n",
       "1084874          nan                nan\n",
       "1084896          nan                nan\n",
       "1084897          nan                nan\n",
       "\n",
       "[4882 rows x 2 columns]"
      ]
     },
     "execution_count": 715,
     "metadata": {},
     "output_type": "execute_result"
    }
   ],
   "source": [
    "# sorting values in 'CNSTRCT_YR_zscore' in ascending order\n",
    "outside_zscore.sort_values(by='CNSTRCT_YR_zscore')"
   ]
  },
  {
   "cell_type": "code",
   "execution_count": 716,
   "metadata": {},
   "outputs": [],
   "source": [
    "# dropping nans in our 'CNSTRCT_YR_zscore' column\n",
    "outside_zscore = outside_zscore.dropna(subset=['CNSTRCT_YR_zscore'])"
   ]
  },
  {
   "cell_type": "code",
   "execution_count": 717,
   "metadata": {},
   "outputs": [
    {
     "data": {
      "text/html": [
       "<div>\n",
       "<style scoped>\n",
       "    .dataframe tbody tr th:only-of-type {\n",
       "        vertical-align: middle;\n",
       "    }\n",
       "\n",
       "    .dataframe tbody tr th {\n",
       "        vertical-align: top;\n",
       "    }\n",
       "\n",
       "    .dataframe thead th {\n",
       "        text-align: right;\n",
       "    }\n",
       "</style>\n",
       "<table border=\"1\" class=\"dataframe\">\n",
       "  <thead>\n",
       "    <tr style=\"text-align: right;\">\n",
       "      <th></th>\n",
       "      <th>CNSTRCT_YR</th>\n",
       "      <th>CNSTRCT_YR_zscore</th>\n",
       "    </tr>\n",
       "  </thead>\n",
       "  <tbody>\n",
       "    <tr>\n",
       "      <th>1056530</th>\n",
       "      <td>19999979.000</td>\n",
       "      <td>1039.208</td>\n",
       "    </tr>\n",
       "  </tbody>\n",
       "</table>\n",
       "</div>"
      ],
      "text/plain": [
       "          CNSTRCT_YR  CNSTRCT_YR_zscore\n",
       "1056530 19999979.000           1039.208"
      ]
     },
     "execution_count": 717,
     "metadata": {},
     "output_type": "execute_result"
    }
   ],
   "source": [
    "# sorting values in 'CNSTRCT_YR_zscore' in descending order\n",
    "outside_zscore.sort_values(by='CNSTRCT_YR_zscore', ascending=False)"
   ]
  },
  {
   "cell_type": "code",
   "execution_count": 718,
   "metadata": {},
   "outputs": [
    {
     "data": {
      "text/plain": [
       "1"
      ]
     },
     "execution_count": 718,
     "metadata": {},
     "output_type": "execute_result"
    }
   ],
   "source": [
    "# printing number of rows\n",
    "len(outside_zscore)"
   ]
  },
  {
   "cell_type": "markdown",
   "metadata": {},
   "source": [
    "### 5.2.3 Making Histograms of Construction Year Raw and Normalized (Z-Score) Values"
   ]
  },
  {
   "cell_type": "code",
   "execution_count": 719,
   "metadata": {},
   "outputs": [
    {
     "data": {
      "text/html": [
       "<div>\n",
       "<style scoped>\n",
       "    .dataframe tbody tr th:only-of-type {\n",
       "        vertical-align: middle;\n",
       "    }\n",
       "\n",
       "    .dataframe tbody tr th {\n",
       "        vertical-align: top;\n",
       "    }\n",
       "\n",
       "    .dataframe thead th {\n",
       "        text-align: right;\n",
       "    }\n",
       "</style>\n",
       "<table border=\"1\" class=\"dataframe\">\n",
       "  <thead>\n",
       "    <tr style=\"text-align: right;\">\n",
       "      <th></th>\n",
       "      <th>CNSTRCT_YR</th>\n",
       "      <th>CNSTRCT_YR_zscore</th>\n",
       "    </tr>\n",
       "  </thead>\n",
       "  <tbody>\n",
       "    <tr>\n",
       "      <th>0</th>\n",
       "      <td>2009.000</td>\n",
       "      <td>0.003</td>\n",
       "    </tr>\n",
       "    <tr>\n",
       "      <th>1</th>\n",
       "      <td>1930.000</td>\n",
       "      <td>-0.001</td>\n",
       "    </tr>\n",
       "    <tr>\n",
       "      <th>2</th>\n",
       "      <td>1960.000</td>\n",
       "      <td>0.001</td>\n",
       "    </tr>\n",
       "    <tr>\n",
       "      <th>3</th>\n",
       "      <td>1920.000</td>\n",
       "      <td>-0.001</td>\n",
       "    </tr>\n",
       "    <tr>\n",
       "      <th>4</th>\n",
       "      <td>1915.000</td>\n",
       "      <td>-0.002</td>\n",
       "    </tr>\n",
       "  </tbody>\n",
       "</table>\n",
       "</div>"
      ],
      "text/plain": [
       "   CNSTRCT_YR  CNSTRCT_YR_zscore\n",
       "0    2009.000              0.003\n",
       "1    1930.000             -0.001\n",
       "2    1960.000              0.001\n",
       "3    1920.000             -0.001\n",
       "4    1915.000             -0.002"
      ]
     },
     "execution_count": 719,
     "metadata": {},
     "output_type": "execute_result"
    }
   ],
   "source": [
    "# previewing first five rows\n",
    "CNSTRCT_YR_zscore.head()"
   ]
  },
  {
   "cell_type": "code",
   "execution_count": 728,
   "metadata": {},
   "outputs": [
    {
     "data": {
      "image/png": "[encoded data removed]",
      "text/plain": [
       "<Figure size 1800x720 with 2 Axes>"
      ]
     },
     "metadata": {
      "needs_background": "light"
     },
     "output_type": "display_data"
    }
   ],
   "source": [
    "# making histograms of the distributions of both columns\n",
    "CNSTRCT_YR_zscore.hist(bins=25, figsize=(25,10))\n",
    "plt.suptitle(\"Histogram of Construction Year Values \\n Raw and Normalized\", fontsize=17)\n",
    "plt.savefig('figures/fig-14.png')"
   ]
  },
  {
   "cell_type": "markdown",
   "metadata": {},
   "source": [
    "# 6. Conclusion"
   ]
  },
  {
   "cell_type": "markdown",
   "metadata": {},
   "source": [
    "In this notebook, we reviewed various ways to inspect, clean, wrangle, and detect any outliers in your data.  Specifically, we focused on ways to inspect the shape (number of rows, columns) of your data, fill in or replace incorrect values with the median, and detect outliers with box plots and z-scores. This step is crucial if you are interested in modeling or predicting future values. In Part III, we will focus on data visualization."
   ]
  },
  {
   "cell_type": "code",
   "execution_count": null,
   "metadata": {},
   "outputs": [],
   "source": []
  }
 ],
 "metadata": {
  "kernelspec": {
   "display_name": "Python 3",
   "language": "python",
   "name": "python3"
  },
  "language_info": {
   "codemirror_mode": {
    "name": "ipython",
    "version": 3
   },
   "file_extension": ".py",
   "mimetype": "text/x-python",
   "name": "python",
   "nbconvert_exporter": "python",
   "pygments_lexer": "ipython3",
   "version": "3.7.1"
  }
 },
 "nbformat": 4,
 "nbformat_minor": 2
}
