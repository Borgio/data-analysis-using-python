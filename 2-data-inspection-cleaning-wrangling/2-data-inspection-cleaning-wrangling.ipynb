{
 "cells": [
  {
   "cell_type": "markdown",
   "metadata": {},
   "source": [
    "# Data Analysis Using Python: A Beginner’s Guide Featuring NYC Open Data\n",
    "\n",
    "\n",
    "Part 2: Data Inspection, Cleaning and Wrangling in Python\n",
    "\n",
    "*Mark Bauer*"
   ]
  },
  {
   "cell_type": "markdown",
   "metadata": {},
   "source": [
    "Table of Contents\n",
    "=================\n",
    "\n",
    "   * [Getting Started](#-Getting-Started:-Accessing-the-Building-Footprints-Dataset)\n",
    "       * [Reading in data as csv in static form](##-Reading-in-data-as-csv-in-static-form)\n",
    "       \n",
    "       \n",
    "   * [1. Importing Libraries](##-1.-Importing-Libraries)\n",
    "\n",
    "       \n",
    "   * [2. Reading in data as a pandas dataframe](#-2.-Reading-in-data-as-a-pandas-dataframe)\n",
    "       \n",
    "   \n",
    "   * [3. Data Inspection](#-3.-Data-Inspection)\n",
    "       * [3.1 Previewing Data](##-3.1-Previewing-Data)\n",
    "       * [3.2 Calcualting Summary Statistics](##-3.2-Calcualting-Summary-Statistics)\n",
    "       * [3.3 Identifying Null/NA Values](##-3.3-Identifying-Null/NA-Values)\n",
    "       \n",
    "       \n",
    "   * [4. Data Cleaning/Wrangling](#-4.-Data-Cleaning/Wrangling)\n",
    "       * [4.1 Previewing Column Values](##-4.1-Previewing-Column-Values)\n",
    "       * [4.2 Filling In Null/NA Values With Median ](##-4.2-Filling-In-Null/NA-Values-With-Median)\n",
    "       * [4.3 Plotting Histogram of Raw Construction Year Values](##-4.3-Plotting-Histogram-of-Raw-Construction-Year-Values)   \n",
    "       * [4.4 Identiyfying Values Not Between Years 1 and 2020](##-4.4-Identiyfying-Values-Not-Between-Years-1-and-2020)\n",
    "       * [4.5 Replacing Values Not Between Years 1 and 2020 with the Median](##-4.5-Replacing-Values-Not-Between-Years-1-and-2020-with-the-Median)\n",
    "       * [4.6 Plotting Histogram of Construction Years Between 1 and 2020](##-4.6-Plotting-Histogram-of-Construction-Years-Between-1-and-2020)\n",
    "       * [4.7 Identifying Buildings Built Before 1652 - Possible Outliers](##-4.7-Identifying-Buildings-Built-Before-1652---Possible-Outliers)\n",
    "       * [4.8 Replacing Values Less Than 1652 with the Median](##-4.8-Replacing-Values-Less-Than-1652-with-the-Median)\n",
    "       * [4.9 Plotting Histogram of Construction Years with Cleaned Column](##-4.9-Plotting-Histogram-of-Construction-Years-with-Cleaned-Column)\n",
    "       \n",
    "       \n",
    "   * [5. Detecting Outliers](#-5.-Detecting-Outliers)\n",
    "       * [5.1. Making a Box Plot](#-5.1-Making-a-Box-Plot)\n",
    "           * [5.1.1 Calculating Interquartile Range (IQR)](##-5.1.1-Calculating-Interquartile-Range-(IQR))\n",
    "           * [5.1.2 Box Plot of Construction Year Values](##-5.1.2-Box-Plot-of-Construction-Year-Values)\n",
    "           * [5.1.3 Making Histograms of Values Above and Below Box Plot Whiskers](##-5.1.3-Making-Histograms-of-Values-Above-and-Below-Box-Plot-Whiskers)\n",
    "       * [5.2 Z-Scores](#-5.2-Z-Scores)\n",
    "           * [5.2.1 Calculating Z-Scores](##-5.2.1-Calculating-Z-Scores)\n",
    "           * [5.2.2 Identifying Possible Outliers from Z-Score](##-5.2.2-Identifying-Possible-Outliers-from-Z-Score)\n",
    "           * [5.2.3 Making Histograms of Construction Year Raw and Normalized (Z-Score) Values](##-5.2.3-Making-Histograms-of-Construction-Year-Raw-and-Normalized-%29Z-Score%29-Values)    \n",
    "       \n",
    "       \n",
    "   * [6. Conclusion](#-4.-Conclusion)"
   ]
  },
  {
   "cell_type": "markdown",
   "metadata": {},
   "source": [
    "**Goal:** In this notebook, we will review various ways to to inspect, clean, wrangle, and detect any outliers in your data.\n",
    "\n",
    "**Main Library:** [pandas](https://pandas.pydata.org/) is a fast, powerful, flexible and easy to use open source data analysis and manipulation tool, built on top of the Python programming language."
   ]
  },
  {
   "cell_type": "markdown",
   "metadata": {},
   "source": [
    "# Getting Started: Accessing the Building Footprints Dataset"
   ]
  },
  {
   "cell_type": "markdown",
   "metadata": {},
   "source": [
    "## Reading in data as csv in static form\n",
    "\n",
    "Copy this link address shown below."
   ]
  },
  {
   "cell_type": "markdown",
   "metadata": {},
   "source": [
    "![building_footprints_csv](images/building-footprints-csv.png)"
   ]
  },
  {
   "cell_type": "markdown",
   "metadata": {},
   "source": [
    "## Dataset Web Page Link: \n",
    "https://data.cityofnewyork.us/Housing-Development/Building-Footprints/nqwf-w8eh\n",
    "\n",
    "## Documentation/Metadata: \n",
    "https://github.com/CityOfNewYork/nyc-geo-metadata/blob/master/Metadata/Metadata_BuildingFootprints.md"
   ]
  },
  {
   "cell_type": "markdown",
   "metadata": {},
   "source": [
    "# 1. Importing Libraries"
   ]
  },
  {
   "cell_type": "code",
   "execution_count": 1,
   "metadata": {},
   "outputs": [],
   "source": [
    "# importing libraries\n",
    "import pandas as pd # the pd is by convention\n",
    "import numpy as np # as is the np\n",
    "import matplotlib.pyplot as plt\n",
    "\n",
    "# to plot matplotlib figures inline on the notebook\n",
    "%matplotlib inline"
   ]
  },
  {
   "cell_type": "code",
   "execution_count": 2,
   "metadata": {},
   "outputs": [
    {
     "name": "stdout",
     "output_type": "stream",
     "text": [
      "CPython 3.7.1\n",
      "IPython 7.2.0\n",
      "\n",
      "numpy 1.16.1\n",
      "pandas 1.0.0\n",
      "matplotlib.pyplot 3.1.1\n"
     ]
    }
   ],
   "source": [
    "#Printing verions of Python modules and packages with **watermark** - the IPython magic extension.\n",
    "\n",
    "%load_ext watermark\n",
    "\n",
    "%watermark -v -p numpy,pandas,matplotlib.pyplot"
   ]
  },
  {
   "cell_type": "markdown",
   "metadata": {},
   "source": [
    "Documention for installing watermark: https://github.com/rasbt/watermark"
   ]
  },
  {
   "cell_type": "markdown",
   "metadata": {},
   "source": [
    "# 2. Reading in data as a pandas dataframe"
   ]
  },
  {
   "cell_type": "markdown",
   "metadata": {},
   "source": [
    "If you receive `HTTPError: HTTP Error 404: Not Found`, you need to replace the csv link. DoITT changes the link path regularly."
   ]
  },
  {
   "cell_type": "code",
   "execution_count": 4,
   "metadata": {},
   "outputs": [],
   "source": [
    "# setting the link of our data (a static csv file) as the name 'url'\n",
    "url = 'https://data.cityofnewyork.us/api/views/4zxm-zkth/rows.csv?accessType=DOWNLOAD'\n",
    "\n",
    "# reading in our data as a pandas dataframe and setting the name to'building_footprints'\n",
    "building_footprints = pd.read_csv(url)"
   ]
  },
  {
   "cell_type": "markdown",
   "metadata": {},
   "source": [
    "# 3. Data Inspection"
   ]
  },
  {
   "cell_type": "markdown",
   "metadata": {},
   "source": [
    "## 3.1 Previewing Data"
   ]
  },
  {
   "cell_type": "code",
   "execution_count": 5,
   "metadata": {},
   "outputs": [
    {
     "data": {
      "text/html": [
       "<div>\n",
       "<style scoped>\n",
       "    .dataframe tbody tr th:only-of-type {\n",
       "        vertical-align: middle;\n",
       "    }\n",
       "\n",
       "    .dataframe tbody tr th {\n",
       "        vertical-align: top;\n",
       "    }\n",
       "\n",
       "    .dataframe thead th {\n",
       "        text-align: right;\n",
       "    }\n",
       "</style>\n",
       "<table border=\"1\" class=\"dataframe\">\n",
       "  <thead>\n",
       "    <tr style=\"text-align: right;\">\n",
       "      <th></th>\n",
       "      <th>the_geom</th>\n",
       "      <th>CNSTRCT_YR</th>\n",
       "      <th>NAME</th>\n",
       "      <th>BIN</th>\n",
       "      <th>LSTMODDATE</th>\n",
       "      <th>LSTSTATYPE</th>\n",
       "      <th>DOITT_ID</th>\n",
       "      <th>HEIGHTROOF</th>\n",
       "      <th>FEAT_CODE</th>\n",
       "      <th>GROUNDELEV</th>\n",
       "      <th>SHAPE_AREA</th>\n",
       "      <th>SHAPE_LEN</th>\n",
       "      <th>BASE_BBL</th>\n",
       "      <th>MPLUTO_BBL</th>\n",
       "      <th>GEOMSOURCE</th>\n",
       "    </tr>\n",
       "  </thead>\n",
       "  <tbody>\n",
       "    <tr>\n",
       "      <th>0</th>\n",
       "      <td>MULTIPOLYGON (((-73.87129515296562 40.65717370...</td>\n",
       "      <td>2009.0</td>\n",
       "      <td>NaN</td>\n",
       "      <td>3394646</td>\n",
       "      <td>08/22/2017 12:00:00 AM +0000</td>\n",
       "      <td>Constructed</td>\n",
       "      <td>1212853</td>\n",
       "      <td>21.608508</td>\n",
       "      <td>2100.0</td>\n",
       "      <td>18.0</td>\n",
       "      <td>854.662433</td>\n",
       "      <td>125.079796</td>\n",
       "      <td>3.044521e+09</td>\n",
       "      <td>3.044521e+09</td>\n",
       "      <td>Photogramm</td>\n",
       "    </tr>\n",
       "    <tr>\n",
       "      <th>1</th>\n",
       "      <td>MULTIPOLYGON (((-73.87670970144625 40.71425234...</td>\n",
       "      <td>1930.0</td>\n",
       "      <td>NaN</td>\n",
       "      <td>4548330</td>\n",
       "      <td>08/17/2017 12:00:00 AM +0000</td>\n",
       "      <td>Constructed</td>\n",
       "      <td>1226227</td>\n",
       "      <td>10.360000</td>\n",
       "      <td>5110.0</td>\n",
       "      <td>122.0</td>\n",
       "      <td>217.594243</td>\n",
       "      <td>60.225858</td>\n",
       "      <td>4.030640e+09</td>\n",
       "      <td>4.030640e+09</td>\n",
       "      <td>Photogramm</td>\n",
       "    </tr>\n",
       "    <tr>\n",
       "      <th>2</th>\n",
       "      <td>MULTIPOLYGON (((-73.85195485799383 40.66235471...</td>\n",
       "      <td>1960.0</td>\n",
       "      <td>NaN</td>\n",
       "      <td>4460479</td>\n",
       "      <td>08/22/2017 12:00:00 AM +0000</td>\n",
       "      <td>Constructed</td>\n",
       "      <td>581946</td>\n",
       "      <td>29.811570</td>\n",
       "      <td>2100.0</td>\n",
       "      <td>10.0</td>\n",
       "      <td>946.427476</td>\n",
       "      <td>123.141941</td>\n",
       "      <td>4.139430e+09</td>\n",
       "      <td>4.139430e+09</td>\n",
       "      <td>Photogramm</td>\n",
       "    </tr>\n",
       "    <tr>\n",
       "      <th>3</th>\n",
       "      <td>MULTIPOLYGON (((-73.94029215265738 40.64108287...</td>\n",
       "      <td>1920.0</td>\n",
       "      <td>NaN</td>\n",
       "      <td>3355684</td>\n",
       "      <td>08/17/2017 12:00:00 AM +0000</td>\n",
       "      <td>Constructed</td>\n",
       "      <td>858061</td>\n",
       "      <td>11.200000</td>\n",
       "      <td>5110.0</td>\n",
       "      <td>32.0</td>\n",
       "      <td>248.678169</td>\n",
       "      <td>63.940817</td>\n",
       "      <td>3.049720e+09</td>\n",
       "      <td>3.049720e+09</td>\n",
       "      <td>Photogramm</td>\n",
       "    </tr>\n",
       "    <tr>\n",
       "      <th>4</th>\n",
       "      <td>MULTIPOLYGON (((-73.98998983552244 40.62383804...</td>\n",
       "      <td>1915.0</td>\n",
       "      <td>NaN</td>\n",
       "      <td>3131737</td>\n",
       "      <td>08/22/2017 12:00:00 AM +0000</td>\n",
       "      <td>Constructed</td>\n",
       "      <td>568078</td>\n",
       "      <td>24.980000</td>\n",
       "      <td>2100.0</td>\n",
       "      <td>44.0</td>\n",
       "      <td>1163.227669</td>\n",
       "      <td>165.608763</td>\n",
       "      <td>3.055100e+09</td>\n",
       "      <td>3.055100e+09</td>\n",
       "      <td>Photogramm</td>\n",
       "    </tr>\n",
       "  </tbody>\n",
       "</table>\n",
       "</div>"
      ],
      "text/plain": [
       "                                            the_geom  CNSTRCT_YR NAME  \\\n",
       "0  MULTIPOLYGON (((-73.87129515296562 40.65717370...      2009.0  NaN   \n",
       "1  MULTIPOLYGON (((-73.87670970144625 40.71425234...      1930.0  NaN   \n",
       "2  MULTIPOLYGON (((-73.85195485799383 40.66235471...      1960.0  NaN   \n",
       "3  MULTIPOLYGON (((-73.94029215265738 40.64108287...      1920.0  NaN   \n",
       "4  MULTIPOLYGON (((-73.98998983552244 40.62383804...      1915.0  NaN   \n",
       "\n",
       "       BIN                    LSTMODDATE   LSTSTATYPE  DOITT_ID  HEIGHTROOF  \\\n",
       "0  3394646  08/22/2017 12:00:00 AM +0000  Constructed   1212853   21.608508   \n",
       "1  4548330  08/17/2017 12:00:00 AM +0000  Constructed   1226227   10.360000   \n",
       "2  4460479  08/22/2017 12:00:00 AM +0000  Constructed    581946   29.811570   \n",
       "3  3355684  08/17/2017 12:00:00 AM +0000  Constructed    858061   11.200000   \n",
       "4  3131737  08/22/2017 12:00:00 AM +0000  Constructed    568078   24.980000   \n",
       "\n",
       "   FEAT_CODE  GROUNDELEV   SHAPE_AREA   SHAPE_LEN      BASE_BBL    MPLUTO_BBL  \\\n",
       "0     2100.0        18.0   854.662433  125.079796  3.044521e+09  3.044521e+09   \n",
       "1     5110.0       122.0   217.594243   60.225858  4.030640e+09  4.030640e+09   \n",
       "2     2100.0        10.0   946.427476  123.141941  4.139430e+09  4.139430e+09   \n",
       "3     5110.0        32.0   248.678169   63.940817  3.049720e+09  3.049720e+09   \n",
       "4     2100.0        44.0  1163.227669  165.608763  3.055100e+09  3.055100e+09   \n",
       "\n",
       "   GEOMSOURCE  \n",
       "0  Photogramm  \n",
       "1  Photogramm  \n",
       "2  Photogramm  \n",
       "3  Photogramm  \n",
       "4  Photogramm  "
      ]
     },
     "execution_count": 5,
     "metadata": {},
     "output_type": "execute_result"
    }
   ],
   "source": [
    "# previewing the first five rows of our dataframe\n",
    "building_footprints.head()"
   ]
  },
  {
   "cell_type": "code",
   "execution_count": 6,
   "metadata": {},
   "outputs": [
    {
     "data": {
      "text/html": [
       "<div>\n",
       "<style scoped>\n",
       "    .dataframe tbody tr th:only-of-type {\n",
       "        vertical-align: middle;\n",
       "    }\n",
       "\n",
       "    .dataframe tbody tr th {\n",
       "        vertical-align: top;\n",
       "    }\n",
       "\n",
       "    .dataframe thead th {\n",
       "        text-align: right;\n",
       "    }\n",
       "</style>\n",
       "<table border=\"1\" class=\"dataframe\">\n",
       "  <thead>\n",
       "    <tr style=\"text-align: right;\">\n",
       "      <th></th>\n",
       "      <th>the_geom</th>\n",
       "      <th>CNSTRCT_YR</th>\n",
       "      <th>NAME</th>\n",
       "      <th>BIN</th>\n",
       "      <th>LSTMODDATE</th>\n",
       "      <th>LSTSTATYPE</th>\n",
       "      <th>DOITT_ID</th>\n",
       "      <th>HEIGHTROOF</th>\n",
       "      <th>FEAT_CODE</th>\n",
       "      <th>GROUNDELEV</th>\n",
       "      <th>SHAPE_AREA</th>\n",
       "      <th>SHAPE_LEN</th>\n",
       "      <th>BASE_BBL</th>\n",
       "      <th>MPLUTO_BBL</th>\n",
       "      <th>GEOMSOURCE</th>\n",
       "    </tr>\n",
       "  </thead>\n",
       "  <tbody>\n",
       "    <tr>\n",
       "      <th>1084954</th>\n",
       "      <td>MULTIPOLYGON (((-74.19445796227131 40.53927900...</td>\n",
       "      <td>1980.0</td>\n",
       "      <td>NaN</td>\n",
       "      <td>5081526</td>\n",
       "      <td>09/18/2020 12:00:00 AM +0000</td>\n",
       "      <td>Alteration</td>\n",
       "      <td>168284</td>\n",
       "      <td>35.0</td>\n",
       "      <td>2100.0</td>\n",
       "      <td>123.0</td>\n",
       "      <td>2869.317259</td>\n",
       "      <td>247.918686</td>\n",
       "      <td>5.063360e+09</td>\n",
       "      <td>5.063360e+09</td>\n",
       "      <td>Other (Man</td>\n",
       "    </tr>\n",
       "    <tr>\n",
       "      <th>1084955</th>\n",
       "      <td>MULTIPOLYGON (((-73.95732983152737 40.63563775...</td>\n",
       "      <td>2020.0</td>\n",
       "      <td>NaN</td>\n",
       "      <td>3426611</td>\n",
       "      <td>09/17/2020 12:00:00 AM +0000</td>\n",
       "      <td>Constructed</td>\n",
       "      <td>1293102</td>\n",
       "      <td>75.0</td>\n",
       "      <td>2100.0</td>\n",
       "      <td>26.0</td>\n",
       "      <td>3873.555738</td>\n",
       "      <td>292.361111</td>\n",
       "      <td>3.052200e+09</td>\n",
       "      <td>3.052200e+09</td>\n",
       "      <td>Other (Man</td>\n",
       "    </tr>\n",
       "    <tr>\n",
       "      <th>1084956</th>\n",
       "      <td>MULTIPOLYGON (((-73.86959847028427 40.65700259...</td>\n",
       "      <td>2017.0</td>\n",
       "      <td>NaN</td>\n",
       "      <td>3418144</td>\n",
       "      <td>09/17/2020 12:00:00 AM +0000</td>\n",
       "      <td>Constructed</td>\n",
       "      <td>1292611</td>\n",
       "      <td>15.0</td>\n",
       "      <td>2100.0</td>\n",
       "      <td>14.0</td>\n",
       "      <td>643.367828</td>\n",
       "      <td>106.263690</td>\n",
       "      <td>3.045861e+09</td>\n",
       "      <td>NaN</td>\n",
       "      <td>Other (Man</td>\n",
       "    </tr>\n",
       "    <tr>\n",
       "      <th>1084957</th>\n",
       "      <td>MULTIPOLYGON (((-74.19368057016453 40.53947895...</td>\n",
       "      <td>1980.0</td>\n",
       "      <td>NaN</td>\n",
       "      <td>5081529</td>\n",
       "      <td>09/18/2020 12:00:00 AM +0000</td>\n",
       "      <td>Alteration</td>\n",
       "      <td>308899</td>\n",
       "      <td>28.0</td>\n",
       "      <td>2100.0</td>\n",
       "      <td>120.0</td>\n",
       "      <td>2679.415233</td>\n",
       "      <td>216.697399</td>\n",
       "      <td>5.063360e+09</td>\n",
       "      <td>5.063360e+09</td>\n",
       "      <td>Other (Man</td>\n",
       "    </tr>\n",
       "    <tr>\n",
       "      <th>1084958</th>\n",
       "      <td>MULTIPOLYGON (((-74.19405636715909 40.53927738...</td>\n",
       "      <td>2020.0</td>\n",
       "      <td>NaN</td>\n",
       "      <td>5171437</td>\n",
       "      <td>09/18/2020 12:00:00 AM +0000</td>\n",
       "      <td>Constructed</td>\n",
       "      <td>1293108</td>\n",
       "      <td>34.0</td>\n",
       "      <td>2100.0</td>\n",
       "      <td>122.0</td>\n",
       "      <td>1650.589979</td>\n",
       "      <td>168.615080</td>\n",
       "      <td>5.063360e+09</td>\n",
       "      <td>5.063360e+09</td>\n",
       "      <td>Other (Man</td>\n",
       "    </tr>\n",
       "  </tbody>\n",
       "</table>\n",
       "</div>"
      ],
      "text/plain": [
       "                                                  the_geom  CNSTRCT_YR NAME  \\\n",
       "1084954  MULTIPOLYGON (((-74.19445796227131 40.53927900...      1980.0  NaN   \n",
       "1084955  MULTIPOLYGON (((-73.95732983152737 40.63563775...      2020.0  NaN   \n",
       "1084956  MULTIPOLYGON (((-73.86959847028427 40.65700259...      2017.0  NaN   \n",
       "1084957  MULTIPOLYGON (((-74.19368057016453 40.53947895...      1980.0  NaN   \n",
       "1084958  MULTIPOLYGON (((-74.19405636715909 40.53927738...      2020.0  NaN   \n",
       "\n",
       "             BIN                    LSTMODDATE   LSTSTATYPE  DOITT_ID  \\\n",
       "1084954  5081526  09/18/2020 12:00:00 AM +0000   Alteration    168284   \n",
       "1084955  3426611  09/17/2020 12:00:00 AM +0000  Constructed   1293102   \n",
       "1084956  3418144  09/17/2020 12:00:00 AM +0000  Constructed   1292611   \n",
       "1084957  5081529  09/18/2020 12:00:00 AM +0000   Alteration    308899   \n",
       "1084958  5171437  09/18/2020 12:00:00 AM +0000  Constructed   1293108   \n",
       "\n",
       "         HEIGHTROOF  FEAT_CODE  GROUNDELEV   SHAPE_AREA   SHAPE_LEN  \\\n",
       "1084954        35.0     2100.0       123.0  2869.317259  247.918686   \n",
       "1084955        75.0     2100.0        26.0  3873.555738  292.361111   \n",
       "1084956        15.0     2100.0        14.0   643.367828  106.263690   \n",
       "1084957        28.0     2100.0       120.0  2679.415233  216.697399   \n",
       "1084958        34.0     2100.0       122.0  1650.589979  168.615080   \n",
       "\n",
       "             BASE_BBL    MPLUTO_BBL  GEOMSOURCE  \n",
       "1084954  5.063360e+09  5.063360e+09  Other (Man  \n",
       "1084955  3.052200e+09  3.052200e+09  Other (Man  \n",
       "1084956  3.045861e+09           NaN  Other (Man  \n",
       "1084957  5.063360e+09  5.063360e+09  Other (Man  \n",
       "1084958  5.063360e+09  5.063360e+09  Other (Man  "
      ]
     },
     "execution_count": 6,
     "metadata": {},
     "output_type": "execute_result"
    }
   ],
   "source": [
    "# previewing the last five rows of our dataframe\n",
    "building_footprints.tail()"
   ]
  },
  {
   "cell_type": "code",
   "execution_count": 7,
   "metadata": {},
   "outputs": [
    {
     "data": {
      "text/plain": [
       "(1084959, 15)"
      ]
     },
     "execution_count": 7,
     "metadata": {},
     "output_type": "execute_result"
    }
   ],
   "source": [
    "# printing the shape or dimensions of our dataframe (i.e. rows, columns)\n",
    "building_footprints.shape"
   ]
  },
  {
   "cell_type": "code",
   "execution_count": 8,
   "metadata": {},
   "outputs": [
    {
     "data": {
      "text/plain": [
       "Index(['the_geom', 'CNSTRCT_YR', 'NAME', 'BIN', 'LSTMODDATE', 'LSTSTATYPE',\n",
       "       'DOITT_ID', 'HEIGHTROOF', 'FEAT_CODE', 'GROUNDELEV', 'SHAPE_AREA',\n",
       "       'SHAPE_LEN', 'BASE_BBL', 'MPLUTO_BBL', 'GEOMSOURCE'],\n",
       "      dtype='object')"
      ]
     },
     "execution_count": 8,
     "metadata": {},
     "output_type": "execute_result"
    }
   ],
   "source": [
    "# printing the columns our dataframe\n",
    "building_footprints.columns"
   ]
  },
  {
   "cell_type": "code",
   "execution_count": 9,
   "metadata": {},
   "outputs": [
    {
     "data": {
      "text/plain": [
       "the_geom       object\n",
       "CNSTRCT_YR    float64\n",
       "NAME           object\n",
       "BIN             int64\n",
       "LSTMODDATE     object\n",
       "LSTSTATYPE     object\n",
       "DOITT_ID        int64\n",
       "HEIGHTROOF    float64\n",
       "FEAT_CODE     float64\n",
       "GROUNDELEV    float64\n",
       "SHAPE_AREA    float64\n",
       "SHAPE_LEN     float64\n",
       "BASE_BBL      float64\n",
       "MPLUTO_BBL    float64\n",
       "GEOMSOURCE     object\n",
       "dtype: object"
      ]
     },
     "execution_count": 9,
     "metadata": {},
     "output_type": "execute_result"
    }
   ],
   "source": [
    "# printing the data types of our columns\n",
    "building_footprints.dtypes"
   ]
  },
  {
   "cell_type": "code",
   "execution_count": 10,
   "metadata": {},
   "outputs": [
    {
     "name": "stdout",
     "output_type": "stream",
     "text": [
      "<class 'pandas.core.frame.DataFrame'>\n",
      "RangeIndex: 1084959 entries, 0 to 1084958\n",
      "Data columns (total 15 columns):\n",
      " #   Column      Non-Null Count    Dtype  \n",
      "---  ------      --------------    -----  \n",
      " 0   the_geom    1084959 non-null  object \n",
      " 1   CNSTRCT_YR  1080078 non-null  float64\n",
      " 2   NAME        1752 non-null     object \n",
      " 3   BIN         1084959 non-null  int64  \n",
      " 4   LSTMODDATE  1084959 non-null  object \n",
      " 5   LSTSTATYPE  1084769 non-null  object \n",
      " 6   DOITT_ID    1084959 non-null  int64  \n",
      " 7   HEIGHTROOF  1082294 non-null  float64\n",
      " 8   FEAT_CODE   1084950 non-null  float64\n",
      " 9   GROUNDELEV  1084430 non-null  float64\n",
      " 10  SHAPE_AREA  1084959 non-null  float64\n",
      " 11  SHAPE_LEN   1084959 non-null  float64\n",
      " 12  BASE_BBL    1084957 non-null  float64\n",
      " 13  MPLUTO_BBL  1084423 non-null  float64\n",
      " 14  GEOMSOURCE  1084741 non-null  object \n",
      "dtypes: float64(8), int64(2), object(5)\n",
      "memory usage: 124.2+ MB\n"
     ]
    }
   ],
   "source": [
    "# printing the column names, non-null counts, and data types of our columns\n",
    "building_footprints.info()"
   ]
  },
  {
   "cell_type": "markdown",
   "metadata": {},
   "source": [
    "## 3.2 Calcualting Summary Statistics"
   ]
  },
  {
   "cell_type": "code",
   "execution_count": 11,
   "metadata": {},
   "outputs": [
    {
     "data": {
      "text/html": [
       "<div>\n",
       "<style scoped>\n",
       "    .dataframe tbody tr th:only-of-type {\n",
       "        vertical-align: middle;\n",
       "    }\n",
       "\n",
       "    .dataframe tbody tr th {\n",
       "        vertical-align: top;\n",
       "    }\n",
       "\n",
       "    .dataframe thead th {\n",
       "        text-align: right;\n",
       "    }\n",
       "</style>\n",
       "<table border=\"1\" class=\"dataframe\">\n",
       "  <thead>\n",
       "    <tr style=\"text-align: right;\">\n",
       "      <th></th>\n",
       "      <th>CNSTRCT_YR</th>\n",
       "      <th>BIN</th>\n",
       "      <th>DOITT_ID</th>\n",
       "      <th>HEIGHTROOF</th>\n",
       "      <th>FEAT_CODE</th>\n",
       "      <th>GROUNDELEV</th>\n",
       "      <th>SHAPE_AREA</th>\n",
       "      <th>SHAPE_LEN</th>\n",
       "      <th>BASE_BBL</th>\n",
       "      <th>MPLUTO_BBL</th>\n",
       "    </tr>\n",
       "  </thead>\n",
       "  <tbody>\n",
       "    <tr>\n",
       "      <th>count</th>\n",
       "      <td>1.080078e+06</td>\n",
       "      <td>1.084959e+06</td>\n",
       "      <td>1.084959e+06</td>\n",
       "      <td>1.082294e+06</td>\n",
       "      <td>1.084950e+06</td>\n",
       "      <td>1.084430e+06</td>\n",
       "      <td>1.084959e+06</td>\n",
       "      <td>1.084959e+06</td>\n",
       "      <td>1.084957e+06</td>\n",
       "      <td>1.084423e+06</td>\n",
       "    </tr>\n",
       "    <tr>\n",
       "      <th>mean</th>\n",
       "      <td>1.946634e+03</td>\n",
       "      <td>3.710141e+06</td>\n",
       "      <td>5.909110e+05</td>\n",
       "      <td>2.754626e+01</td>\n",
       "      <td>2.698625e+03</td>\n",
       "      <td>5.509883e+01</td>\n",
       "      <td>1.596715e+03</td>\n",
       "      <td>1.553100e+02</td>\n",
       "      <td>3.561975e+09</td>\n",
       "      <td>3.561808e+09</td>\n",
       "    </tr>\n",
       "    <tr>\n",
       "      <th>std</th>\n",
       "      <td>1.924304e+04</td>\n",
       "      <td>1.026815e+06</td>\n",
       "      <td>3.592553e+05</td>\n",
       "      <td>2.131574e+01</td>\n",
       "      <td>1.202283e+03</td>\n",
       "      <td>4.150831e+01</td>\n",
       "      <td>5.600723e+03</td>\n",
       "      <td>1.271423e+02</td>\n",
       "      <td>9.860708e+08</td>\n",
       "      <td>9.861026e+08</td>\n",
       "    </tr>\n",
       "    <tr>\n",
       "      <th>min</th>\n",
       "      <td>0.000000e+00</td>\n",
       "      <td>1.000002e+06</td>\n",
       "      <td>1.000000e+00</td>\n",
       "      <td>0.000000e+00</td>\n",
       "      <td>0.000000e+00</td>\n",
       "      <td>-1.400000e+01</td>\n",
       "      <td>3.247526e+01</td>\n",
       "      <td>2.373699e+01</td>\n",
       "      <td>3.064269e+06</td>\n",
       "      <td>3.064269e+06</td>\n",
       "    </tr>\n",
       "    <tr>\n",
       "      <th>25%</th>\n",
       "      <td>1.920000e+03</td>\n",
       "      <td>3.128576e+06</td>\n",
       "      <td>2.865335e+05</td>\n",
       "      <td>1.834000e+01</td>\n",
       "      <td>2.100000e+03</td>\n",
       "      <td>2.500000e+01</td>\n",
       "      <td>6.520730e+02</td>\n",
       "      <td>1.096924e+02</td>\n",
       "      <td>3.043170e+09</td>\n",
       "      <td>3.043160e+09</td>\n",
       "    </tr>\n",
       "    <tr>\n",
       "      <th>50%</th>\n",
       "      <td>1.930000e+03</td>\n",
       "      <td>4.066817e+06</td>\n",
       "      <td>5.732300e+05</td>\n",
       "      <td>2.610000e+01</td>\n",
       "      <td>2.100000e+03</td>\n",
       "      <td>4.600000e+01</td>\n",
       "      <td>9.572074e+02</td>\n",
       "      <td>1.379178e+02</td>\n",
       "      <td>4.019280e+09</td>\n",
       "      <td>4.019180e+09</td>\n",
       "    </tr>\n",
       "    <tr>\n",
       "      <th>75%</th>\n",
       "      <td>1.955000e+03</td>\n",
       "      <td>4.481724e+06</td>\n",
       "      <td>8.615195e+05</td>\n",
       "      <td>3.109511e+01</td>\n",
       "      <td>2.100000e+03</td>\n",
       "      <td>7.400000e+01</td>\n",
       "      <td>1.320289e+03</td>\n",
       "      <td>1.644478e+02</td>\n",
       "      <td>4.106720e+09</td>\n",
       "      <td>4.106680e+09</td>\n",
       "    </tr>\n",
       "    <tr>\n",
       "      <th>max</th>\n",
       "      <td>1.999998e+07</td>\n",
       "      <td>5.799523e+06</td>\n",
       "      <td>1.293109e+06</td>\n",
       "      <td>1.550000e+03</td>\n",
       "      <td>5.110000e+03</td>\n",
       "      <td>5.560000e+02</td>\n",
       "      <td>1.171874e+06</td>\n",
       "      <td>2.001729e+04</td>\n",
       "      <td>6.000000e+09</td>\n",
       "      <td>6.000000e+09</td>\n",
       "    </tr>\n",
       "  </tbody>\n",
       "</table>\n",
       "</div>"
      ],
      "text/plain": [
       "         CNSTRCT_YR           BIN      DOITT_ID    HEIGHTROOF     FEAT_CODE  \\\n",
       "count  1.080078e+06  1.084959e+06  1.084959e+06  1.082294e+06  1.084950e+06   \n",
       "mean   1.946634e+03  3.710141e+06  5.909110e+05  2.754626e+01  2.698625e+03   \n",
       "std    1.924304e+04  1.026815e+06  3.592553e+05  2.131574e+01  1.202283e+03   \n",
       "min    0.000000e+00  1.000002e+06  1.000000e+00  0.000000e+00  0.000000e+00   \n",
       "25%    1.920000e+03  3.128576e+06  2.865335e+05  1.834000e+01  2.100000e+03   \n",
       "50%    1.930000e+03  4.066817e+06  5.732300e+05  2.610000e+01  2.100000e+03   \n",
       "75%    1.955000e+03  4.481724e+06  8.615195e+05  3.109511e+01  2.100000e+03   \n",
       "max    1.999998e+07  5.799523e+06  1.293109e+06  1.550000e+03  5.110000e+03   \n",
       "\n",
       "         GROUNDELEV    SHAPE_AREA     SHAPE_LEN      BASE_BBL    MPLUTO_BBL  \n",
       "count  1.084430e+06  1.084959e+06  1.084959e+06  1.084957e+06  1.084423e+06  \n",
       "mean   5.509883e+01  1.596715e+03  1.553100e+02  3.561975e+09  3.561808e+09  \n",
       "std    4.150831e+01  5.600723e+03  1.271423e+02  9.860708e+08  9.861026e+08  \n",
       "min   -1.400000e+01  3.247526e+01  2.373699e+01  3.064269e+06  3.064269e+06  \n",
       "25%    2.500000e+01  6.520730e+02  1.096924e+02  3.043170e+09  3.043160e+09  \n",
       "50%    4.600000e+01  9.572074e+02  1.379178e+02  4.019280e+09  4.019180e+09  \n",
       "75%    7.400000e+01  1.320289e+03  1.644478e+02  4.106720e+09  4.106680e+09  \n",
       "max    5.560000e+02  1.171874e+06  2.001729e+04  6.000000e+09  6.000000e+09  "
      ]
     },
     "execution_count": 11,
     "metadata": {},
     "output_type": "execute_result"
    }
   ],
   "source": [
    "# printing descriptive statistics of our numeric columns in our data\n",
    "building_footprints.describe()"
   ]
  },
  {
   "cell_type": "code",
   "execution_count": 12,
   "metadata": {},
   "outputs": [
    {
     "data": {
      "text/plain": [
       "CNSTRCT_YR    1.930000e+03\n",
       "BIN           4.066817e+06\n",
       "DOITT_ID      5.732300e+05\n",
       "HEIGHTROOF    2.610000e+01\n",
       "FEAT_CODE     2.100000e+03\n",
       "GROUNDELEV    4.600000e+01\n",
       "SHAPE_AREA    9.572074e+02\n",
       "SHAPE_LEN     1.379178e+02\n",
       "BASE_BBL      4.019280e+09\n",
       "MPLUTO_BBL    4.019180e+09\n",
       "dtype: float64"
      ]
     },
     "execution_count": 12,
     "metadata": {},
     "output_type": "execute_result"
    }
   ],
   "source": [
    "# calculating the median value in each columns\n",
    "# this can also be found with the describe method above at the 50% index/row\n",
    "building_footprints.median()"
   ]
  },
  {
   "cell_type": "code",
   "execution_count": 13,
   "metadata": {},
   "outputs": [
    {
     "data": {
      "text/html": [
       "<div>\n",
       "<style scoped>\n",
       "    .dataframe tbody tr th:only-of-type {\n",
       "        vertical-align: middle;\n",
       "    }\n",
       "\n",
       "    .dataframe tbody tr th {\n",
       "        vertical-align: top;\n",
       "    }\n",
       "\n",
       "    .dataframe thead th {\n",
       "        text-align: right;\n",
       "    }\n",
       "</style>\n",
       "<table border=\"1\" class=\"dataframe\">\n",
       "  <thead>\n",
       "    <tr style=\"text-align: right;\">\n",
       "      <th></th>\n",
       "      <th>CNSTRCT_YR</th>\n",
       "      <th>BIN</th>\n",
       "      <th>DOITT_ID</th>\n",
       "      <th>HEIGHTROOF</th>\n",
       "      <th>FEAT_CODE</th>\n",
       "      <th>GROUNDELEV</th>\n",
       "      <th>SHAPE_AREA</th>\n",
       "      <th>SHAPE_LEN</th>\n",
       "      <th>BASE_BBL</th>\n",
       "      <th>MPLUTO_BBL</th>\n",
       "    </tr>\n",
       "  </thead>\n",
       "  <tbody>\n",
       "    <tr>\n",
       "      <th>CNSTRCT_YR</th>\n",
       "      <td>1.000000</td>\n",
       "      <td>0.001861</td>\n",
       "      <td>0.001763</td>\n",
       "      <td>0.000773</td>\n",
       "      <td>-0.000746</td>\n",
       "      <td>0.000506</td>\n",
       "      <td>-0.000433</td>\n",
       "      <td>-0.000793</td>\n",
       "      <td>0.001981</td>\n",
       "      <td>0.001980</td>\n",
       "    </tr>\n",
       "    <tr>\n",
       "      <th>BIN</th>\n",
       "      <td>0.001861</td>\n",
       "      <td>1.000000</td>\n",
       "      <td>0.155983</td>\n",
       "      <td>-0.360692</td>\n",
       "      <td>0.190310</td>\n",
       "      <td>0.086523</td>\n",
       "      <td>-0.101138</td>\n",
       "      <td>-0.216160</td>\n",
       "      <td>0.988708</td>\n",
       "      <td>0.988716</td>\n",
       "    </tr>\n",
       "    <tr>\n",
       "      <th>DOITT_ID</th>\n",
       "      <td>0.001763</td>\n",
       "      <td>0.155983</td>\n",
       "      <td>1.000000</td>\n",
       "      <td>-0.177097</td>\n",
       "      <td>0.551449</td>\n",
       "      <td>-0.016658</td>\n",
       "      <td>-0.038350</td>\n",
       "      <td>-0.161292</td>\n",
       "      <td>0.075657</td>\n",
       "      <td>0.075412</td>\n",
       "    </tr>\n",
       "    <tr>\n",
       "      <th>HEIGHTROOF</th>\n",
       "      <td>0.000773</td>\n",
       "      <td>-0.360692</td>\n",
       "      <td>-0.177097</td>\n",
       "      <td>1.000000</td>\n",
       "      <td>-0.364620</td>\n",
       "      <td>-0.001072</td>\n",
       "      <td>0.278922</td>\n",
       "      <td>0.443686</td>\n",
       "      <td>-0.329833</td>\n",
       "      <td>-0.330034</td>\n",
       "    </tr>\n",
       "    <tr>\n",
       "      <th>FEAT_CODE</th>\n",
       "      <td>-0.000746</td>\n",
       "      <td>0.190310</td>\n",
       "      <td>0.551449</td>\n",
       "      <td>-0.364620</td>\n",
       "      <td>1.000000</td>\n",
       "      <td>0.001108</td>\n",
       "      <td>-0.107474</td>\n",
       "      <td>-0.311469</td>\n",
       "      <td>0.089235</td>\n",
       "      <td>0.089367</td>\n",
       "    </tr>\n",
       "    <tr>\n",
       "      <th>GROUNDELEV</th>\n",
       "      <td>0.000506</td>\n",
       "      <td>0.086523</td>\n",
       "      <td>-0.016658</td>\n",
       "      <td>-0.001072</td>\n",
       "      <td>0.001108</td>\n",
       "      <td>1.000000</td>\n",
       "      <td>-0.020149</td>\n",
       "      <td>-0.005314</td>\n",
       "      <td>0.105542</td>\n",
       "      <td>0.105771</td>\n",
       "    </tr>\n",
       "    <tr>\n",
       "      <th>SHAPE_AREA</th>\n",
       "      <td>-0.000433</td>\n",
       "      <td>-0.101138</td>\n",
       "      <td>-0.038350</td>\n",
       "      <td>0.278922</td>\n",
       "      <td>-0.107474</td>\n",
       "      <td>-0.020149</td>\n",
       "      <td>1.000000</td>\n",
       "      <td>0.784640</td>\n",
       "      <td>-0.095597</td>\n",
       "      <td>-0.095562</td>\n",
       "    </tr>\n",
       "    <tr>\n",
       "      <th>SHAPE_LEN</th>\n",
       "      <td>-0.000793</td>\n",
       "      <td>-0.216160</td>\n",
       "      <td>-0.161292</td>\n",
       "      <td>0.443686</td>\n",
       "      <td>-0.311469</td>\n",
       "      <td>-0.005314</td>\n",
       "      <td>0.784640</td>\n",
       "      <td>1.000000</td>\n",
       "      <td>-0.190967</td>\n",
       "      <td>-0.190946</td>\n",
       "    </tr>\n",
       "    <tr>\n",
       "      <th>BASE_BBL</th>\n",
       "      <td>0.001981</td>\n",
       "      <td>0.988708</td>\n",
       "      <td>0.075657</td>\n",
       "      <td>-0.329833</td>\n",
       "      <td>0.089235</td>\n",
       "      <td>0.105542</td>\n",
       "      <td>-0.095597</td>\n",
       "      <td>-0.190967</td>\n",
       "      <td>1.000000</td>\n",
       "      <td>0.999996</td>\n",
       "    </tr>\n",
       "    <tr>\n",
       "      <th>MPLUTO_BBL</th>\n",
       "      <td>0.001980</td>\n",
       "      <td>0.988716</td>\n",
       "      <td>0.075412</td>\n",
       "      <td>-0.330034</td>\n",
       "      <td>0.089367</td>\n",
       "      <td>0.105771</td>\n",
       "      <td>-0.095562</td>\n",
       "      <td>-0.190946</td>\n",
       "      <td>0.999996</td>\n",
       "      <td>1.000000</td>\n",
       "    </tr>\n",
       "  </tbody>\n",
       "</table>\n",
       "</div>"
      ],
      "text/plain": [
       "            CNSTRCT_YR       BIN  DOITT_ID  HEIGHTROOF  FEAT_CODE  GROUNDELEV  \\\n",
       "CNSTRCT_YR    1.000000  0.001861  0.001763    0.000773  -0.000746    0.000506   \n",
       "BIN           0.001861  1.000000  0.155983   -0.360692   0.190310    0.086523   \n",
       "DOITT_ID      0.001763  0.155983  1.000000   -0.177097   0.551449   -0.016658   \n",
       "HEIGHTROOF    0.000773 -0.360692 -0.177097    1.000000  -0.364620   -0.001072   \n",
       "FEAT_CODE    -0.000746  0.190310  0.551449   -0.364620   1.000000    0.001108   \n",
       "GROUNDELEV    0.000506  0.086523 -0.016658   -0.001072   0.001108    1.000000   \n",
       "SHAPE_AREA   -0.000433 -0.101138 -0.038350    0.278922  -0.107474   -0.020149   \n",
       "SHAPE_LEN    -0.000793 -0.216160 -0.161292    0.443686  -0.311469   -0.005314   \n",
       "BASE_BBL      0.001981  0.988708  0.075657   -0.329833   0.089235    0.105542   \n",
       "MPLUTO_BBL    0.001980  0.988716  0.075412   -0.330034   0.089367    0.105771   \n",
       "\n",
       "            SHAPE_AREA  SHAPE_LEN  BASE_BBL  MPLUTO_BBL  \n",
       "CNSTRCT_YR   -0.000433  -0.000793  0.001981    0.001980  \n",
       "BIN          -0.101138  -0.216160  0.988708    0.988716  \n",
       "DOITT_ID     -0.038350  -0.161292  0.075657    0.075412  \n",
       "HEIGHTROOF    0.278922   0.443686 -0.329833   -0.330034  \n",
       "FEAT_CODE    -0.107474  -0.311469  0.089235    0.089367  \n",
       "GROUNDELEV   -0.020149  -0.005314  0.105542    0.105771  \n",
       "SHAPE_AREA    1.000000   0.784640 -0.095597   -0.095562  \n",
       "SHAPE_LEN     0.784640   1.000000 -0.190967   -0.190946  \n",
       "BASE_BBL     -0.095597  -0.190967  1.000000    0.999996  \n",
       "MPLUTO_BBL   -0.095562  -0.190946  0.999996    1.000000  "
      ]
     },
     "execution_count": 13,
     "metadata": {},
     "output_type": "execute_result"
    }
   ],
   "source": [
    "# compute pairwise correlation of columns, excluding NA/null values\n",
    "building_footprints.corr()"
   ]
  },
  {
   "cell_type": "markdown",
   "metadata": {},
   "source": [
    "## 3.3 Identifying Null/NA Values"
   ]
  },
  {
   "cell_type": "markdown",
   "metadata": {},
   "source": [
    "This is a *very important* step that is often overlooked. We don't want to perform any statistics on columns with null values."
   ]
  },
  {
   "cell_type": "code",
   "execution_count": 14,
   "metadata": {},
   "outputs": [
    {
     "data": {
      "text/plain": [
       "the_geom            0\n",
       "CNSTRCT_YR       4881\n",
       "NAME          1083207\n",
       "BIN                 0\n",
       "LSTMODDATE          0\n",
       "LSTSTATYPE        190\n",
       "DOITT_ID            0\n",
       "HEIGHTROOF       2665\n",
       "FEAT_CODE           9\n",
       "GROUNDELEV        529\n",
       "SHAPE_AREA          0\n",
       "SHAPE_LEN           0\n",
       "BASE_BBL            2\n",
       "MPLUTO_BBL        536\n",
       "GEOMSOURCE        218\n",
       "dtype: int64"
      ]
     },
     "execution_count": 14,
     "metadata": {},
     "output_type": "execute_result"
    }
   ],
   "source": [
    "# printing the number of null/na values in each column\n",
    "building_footprints.isna().sum()"
   ]
  },
  {
   "cell_type": "code",
   "execution_count": 15,
   "metadata": {},
   "outputs": [
    {
     "data": {
      "text/plain": [
       "1092237"
      ]
     },
     "execution_count": 15,
     "metadata": {},
     "output_type": "execute_result"
    }
   ],
   "source": [
    "# printing the total amount of null/na values in our data\n",
    "building_footprints.isnull().sum().sum()"
   ]
  },
  {
   "cell_type": "markdown",
   "metadata": {},
   "source": [
    "# 4. Data Cleaning/Wrangling"
   ]
  },
  {
   "cell_type": "markdown",
   "metadata": {},
   "source": [
    "We will be cleaning the **Construction Year** (i.e. CNSTRCT_YR) column, as this is the column we will be using in our analysis."
   ]
  },
  {
   "cell_type": "markdown",
   "metadata": {},
   "source": [
    "## 4.1 Previewing Column Values"
   ]
  },
  {
   "cell_type": "code",
   "execution_count": 16,
   "metadata": {},
   "outputs": [
    {
     "data": {
      "text/html": [
       "<div>\n",
       "<style scoped>\n",
       "    .dataframe tbody tr th:only-of-type {\n",
       "        vertical-align: middle;\n",
       "    }\n",
       "\n",
       "    .dataframe tbody tr th {\n",
       "        vertical-align: top;\n",
       "    }\n",
       "\n",
       "    .dataframe thead th {\n",
       "        text-align: right;\n",
       "    }\n",
       "</style>\n",
       "<table border=\"1\" class=\"dataframe\">\n",
       "  <thead>\n",
       "    <tr style=\"text-align: right;\">\n",
       "      <th></th>\n",
       "      <th>the_geom</th>\n",
       "      <th>CNSTRCT_YR</th>\n",
       "      <th>NAME</th>\n",
       "      <th>BIN</th>\n",
       "      <th>LSTMODDATE</th>\n",
       "      <th>LSTSTATYPE</th>\n",
       "      <th>DOITT_ID</th>\n",
       "      <th>HEIGHTROOF</th>\n",
       "      <th>FEAT_CODE</th>\n",
       "      <th>GROUNDELEV</th>\n",
       "      <th>SHAPE_AREA</th>\n",
       "      <th>SHAPE_LEN</th>\n",
       "      <th>BASE_BBL</th>\n",
       "      <th>MPLUTO_BBL</th>\n",
       "      <th>GEOMSOURCE</th>\n",
       "    </tr>\n",
       "  </thead>\n",
       "  <tbody>\n",
       "    <tr>\n",
       "      <th>222836</th>\n",
       "      <td>MULTIPOLYGON (((-73.84973284797533 40.72102428...</td>\n",
       "      <td>0.0</td>\n",
       "      <td>NaN</td>\n",
       "      <td>4591428</td>\n",
       "      <td>08/17/2017 12:00:00 AM +0000</td>\n",
       "      <td>Constructed</td>\n",
       "      <td>340320</td>\n",
       "      <td>16.190000</td>\n",
       "      <td>5110.0</td>\n",
       "      <td>59.0</td>\n",
       "      <td>379.795077</td>\n",
       "      <td>83.674116</td>\n",
       "      <td>4.032340e+09</td>\n",
       "      <td>4.032340e+09</td>\n",
       "      <td>Other (Man</td>\n",
       "    </tr>\n",
       "    <tr>\n",
       "      <th>830563</th>\n",
       "      <td>MULTIPOLYGON (((-73.86860840293613 40.84709033...</td>\n",
       "      <td>0.0</td>\n",
       "      <td>NaN</td>\n",
       "      <td>2120180</td>\n",
       "      <td>08/22/2017 12:00:00 AM +0000</td>\n",
       "      <td>Constructed</td>\n",
       "      <td>1115479</td>\n",
       "      <td>14.537168</td>\n",
       "      <td>2100.0</td>\n",
       "      <td>62.0</td>\n",
       "      <td>4918.047984</td>\n",
       "      <td>286.312617</td>\n",
       "      <td>2.040110e+09</td>\n",
       "      <td>2.040110e+09</td>\n",
       "      <td>Other (Man</td>\n",
       "    </tr>\n",
       "    <tr>\n",
       "      <th>830544</th>\n",
       "      <td>MULTIPOLYGON (((-74.12302389786203 40.59408122...</td>\n",
       "      <td>0.0</td>\n",
       "      <td>NaN</td>\n",
       "      <td>5154839</td>\n",
       "      <td>12/08/2016 12:00:00 AM +0000</td>\n",
       "      <td>Constructed</td>\n",
       "      <td>1026107</td>\n",
       "      <td>10.380000</td>\n",
       "      <td>2100.0</td>\n",
       "      <td>280.0</td>\n",
       "      <td>515.810631</td>\n",
       "      <td>115.169367</td>\n",
       "      <td>5.009290e+09</td>\n",
       "      <td>5.009290e+09</td>\n",
       "      <td>Photogramm</td>\n",
       "    </tr>\n",
       "    <tr>\n",
       "      <th>313718</th>\n",
       "      <td>MULTIPOLYGON (((-73.7993603831876 40.680488481...</td>\n",
       "      <td>0.0</td>\n",
       "      <td>NaN</td>\n",
       "      <td>4538834</td>\n",
       "      <td>12/07/2018 12:00:00 AM +0000</td>\n",
       "      <td>Constructed</td>\n",
       "      <td>1107015</td>\n",
       "      <td>23.957158</td>\n",
       "      <td>2100.0</td>\n",
       "      <td>39.0</td>\n",
       "      <td>606.799608</td>\n",
       "      <td>112.490940</td>\n",
       "      <td>4.120000e+09</td>\n",
       "      <td>4.120000e+09</td>\n",
       "      <td>Other (Man</td>\n",
       "    </tr>\n",
       "    <tr>\n",
       "      <th>830314</th>\n",
       "      <td>MULTIPOLYGON (((-74.07422300270187 40.62549313...</td>\n",
       "      <td>0.0</td>\n",
       "      <td>NaN</td>\n",
       "      <td>5166116</td>\n",
       "      <td>09/11/2015 12:00:00 AM +0000</td>\n",
       "      <td>Constructed</td>\n",
       "      <td>1246338</td>\n",
       "      <td>10.368076</td>\n",
       "      <td>2100.0</td>\n",
       "      <td>25.0</td>\n",
       "      <td>365.567572</td>\n",
       "      <td>96.331160</td>\n",
       "      <td>5.004960e+09</td>\n",
       "      <td>5.004960e+09</td>\n",
       "      <td>Photogramm</td>\n",
       "    </tr>\n",
       "  </tbody>\n",
       "</table>\n",
       "</div>"
      ],
      "text/plain": [
       "                                                 the_geom  CNSTRCT_YR NAME  \\\n",
       "222836  MULTIPOLYGON (((-73.84973284797533 40.72102428...         0.0  NaN   \n",
       "830563  MULTIPOLYGON (((-73.86860840293613 40.84709033...         0.0  NaN   \n",
       "830544  MULTIPOLYGON (((-74.12302389786203 40.59408122...         0.0  NaN   \n",
       "313718  MULTIPOLYGON (((-73.7993603831876 40.680488481...         0.0  NaN   \n",
       "830314  MULTIPOLYGON (((-74.07422300270187 40.62549313...         0.0  NaN   \n",
       "\n",
       "            BIN                    LSTMODDATE   LSTSTATYPE  DOITT_ID  \\\n",
       "222836  4591428  08/17/2017 12:00:00 AM +0000  Constructed    340320   \n",
       "830563  2120180  08/22/2017 12:00:00 AM +0000  Constructed   1115479   \n",
       "830544  5154839  12/08/2016 12:00:00 AM +0000  Constructed   1026107   \n",
       "313718  4538834  12/07/2018 12:00:00 AM +0000  Constructed   1107015   \n",
       "830314  5166116  09/11/2015 12:00:00 AM +0000  Constructed   1246338   \n",
       "\n",
       "        HEIGHTROOF  FEAT_CODE  GROUNDELEV   SHAPE_AREA   SHAPE_LEN  \\\n",
       "222836   16.190000     5110.0        59.0   379.795077   83.674116   \n",
       "830563   14.537168     2100.0        62.0  4918.047984  286.312617   \n",
       "830544   10.380000     2100.0       280.0   515.810631  115.169367   \n",
       "313718   23.957158     2100.0        39.0   606.799608  112.490940   \n",
       "830314   10.368076     2100.0        25.0   365.567572   96.331160   \n",
       "\n",
       "            BASE_BBL    MPLUTO_BBL  GEOMSOURCE  \n",
       "222836  4.032340e+09  4.032340e+09  Other (Man  \n",
       "830563  2.040110e+09  2.040110e+09  Other (Man  \n",
       "830544  5.009290e+09  5.009290e+09  Photogramm  \n",
       "313718  4.120000e+09  4.120000e+09  Other (Man  \n",
       "830314  5.004960e+09  5.004960e+09  Photogramm  "
      ]
     },
     "execution_count": 16,
     "metadata": {},
     "output_type": "execute_result"
    }
   ],
   "source": [
    "# printing the first five rows of our data sorted by the 'CNSTRCT_YR' column in ascending order\n",
    "building_footprints.sort_values('CNSTRCT_YR').head()"
   ]
  },
  {
   "cell_type": "code",
   "execution_count": 17,
   "metadata": {},
   "outputs": [
    {
     "data": {
      "text/html": [
       "<div>\n",
       "<style scoped>\n",
       "    .dataframe tbody tr th:only-of-type {\n",
       "        vertical-align: middle;\n",
       "    }\n",
       "\n",
       "    .dataframe tbody tr th {\n",
       "        vertical-align: top;\n",
       "    }\n",
       "\n",
       "    .dataframe thead th {\n",
       "        text-align: right;\n",
       "    }\n",
       "</style>\n",
       "<table border=\"1\" class=\"dataframe\">\n",
       "  <thead>\n",
       "    <tr style=\"text-align: right;\">\n",
       "      <th></th>\n",
       "      <th>the_geom</th>\n",
       "      <th>CNSTRCT_YR</th>\n",
       "      <th>NAME</th>\n",
       "      <th>BIN</th>\n",
       "      <th>LSTMODDATE</th>\n",
       "      <th>LSTSTATYPE</th>\n",
       "      <th>DOITT_ID</th>\n",
       "      <th>HEIGHTROOF</th>\n",
       "      <th>FEAT_CODE</th>\n",
       "      <th>GROUNDELEV</th>\n",
       "      <th>SHAPE_AREA</th>\n",
       "      <th>SHAPE_LEN</th>\n",
       "      <th>BASE_BBL</th>\n",
       "      <th>MPLUTO_BBL</th>\n",
       "      <th>GEOMSOURCE</th>\n",
       "    </tr>\n",
       "  </thead>\n",
       "  <tbody>\n",
       "    <tr>\n",
       "      <th>1056729</th>\n",
       "      <td>MULTIPOLYGON (((-74.16106976376206 40.58166589...</td>\n",
       "      <td>19999979.0</td>\n",
       "      <td>NaN</td>\n",
       "      <td>5171292</td>\n",
       "      <td>01/22/2019 12:00:00 AM +0000</td>\n",
       "      <td>Constructed</td>\n",
       "      <td>1287742</td>\n",
       "      <td>43.53</td>\n",
       "      <td>2100.0</td>\n",
       "      <td>68.0</td>\n",
       "      <td>347.824676</td>\n",
       "      <td>75.359453</td>\n",
       "      <td>5.024500e+09</td>\n",
       "      <td>5.024508e+09</td>\n",
       "      <td>Other (Man</td>\n",
       "    </tr>\n",
       "    <tr>\n",
       "      <th>841114</th>\n",
       "      <td>MULTIPOLYGON (((-74.144838646532 40.6162472403...</td>\n",
       "      <td>20115.0</td>\n",
       "      <td>NaN</td>\n",
       "      <td>5165187</td>\n",
       "      <td>12/05/2019 12:00:00 AM +0000</td>\n",
       "      <td>Constructed</td>\n",
       "      <td>1291251</td>\n",
       "      <td>31.00</td>\n",
       "      <td>2100.0</td>\n",
       "      <td>40.0</td>\n",
       "      <td>1124.997132</td>\n",
       "      <td>139.999793</td>\n",
       "      <td>5.004770e+09</td>\n",
       "      <td>5.004770e+09</td>\n",
       "      <td>Other (Man</td>\n",
       "    </tr>\n",
       "    <tr>\n",
       "      <th>518264</th>\n",
       "      <td>MULTIPOLYGON (((-74.13682929776881 40.61168969...</td>\n",
       "      <td>20004.0</td>\n",
       "      <td>NaN</td>\n",
       "      <td>5018663</td>\n",
       "      <td>08/16/2019 12:00:00 AM +0000</td>\n",
       "      <td>Constructed</td>\n",
       "      <td>1288905</td>\n",
       "      <td>28.40</td>\n",
       "      <td>2100.0</td>\n",
       "      <td>89.0</td>\n",
       "      <td>702.366326</td>\n",
       "      <td>127.116855</td>\n",
       "      <td>5.007350e+09</td>\n",
       "      <td>5.007350e+09</td>\n",
       "      <td>Other (Man</td>\n",
       "    </tr>\n",
       "    <tr>\n",
       "      <th>64084</th>\n",
       "      <td>MULTIPOLYGON (((-73.90852861892834 40.82877161...</td>\n",
       "      <td>20000.0</td>\n",
       "      <td>NaN</td>\n",
       "      <td>2129310</td>\n",
       "      <td>11/05/2018 12:00:00 AM +0000</td>\n",
       "      <td>Constructed</td>\n",
       "      <td>1285830</td>\n",
       "      <td>10.00</td>\n",
       "      <td>1000.0</td>\n",
       "      <td>32.0</td>\n",
       "      <td>373.098721</td>\n",
       "      <td>86.566495</td>\n",
       "      <td>2.023880e+09</td>\n",
       "      <td>2.023880e+09</td>\n",
       "      <td>Other (Man</td>\n",
       "    </tr>\n",
       "    <tr>\n",
       "      <th>743353</th>\n",
       "      <td>MULTIPOLYGON (((-73.988920998115 40.7645846572...</td>\n",
       "      <td>20000.0</td>\n",
       "      <td>NaN</td>\n",
       "      <td>1082416</td>\n",
       "      <td>03/09/2018 12:00:00 AM +0000</td>\n",
       "      <td>Alteration</td>\n",
       "      <td>97464</td>\n",
       "      <td>74.21</td>\n",
       "      <td>2100.0</td>\n",
       "      <td>52.0</td>\n",
       "      <td>3678.718152</td>\n",
       "      <td>298.769770</td>\n",
       "      <td>1.010610e+09</td>\n",
       "      <td>1.010610e+09</td>\n",
       "      <td>Other (Man</td>\n",
       "    </tr>\n",
       "  </tbody>\n",
       "</table>\n",
       "</div>"
      ],
      "text/plain": [
       "                                                  the_geom  CNSTRCT_YR NAME  \\\n",
       "1056729  MULTIPOLYGON (((-74.16106976376206 40.58166589...  19999979.0  NaN   \n",
       "841114   MULTIPOLYGON (((-74.144838646532 40.6162472403...     20115.0  NaN   \n",
       "518264   MULTIPOLYGON (((-74.13682929776881 40.61168969...     20004.0  NaN   \n",
       "64084    MULTIPOLYGON (((-73.90852861892834 40.82877161...     20000.0  NaN   \n",
       "743353   MULTIPOLYGON (((-73.988920998115 40.7645846572...     20000.0  NaN   \n",
       "\n",
       "             BIN                    LSTMODDATE   LSTSTATYPE  DOITT_ID  \\\n",
       "1056729  5171292  01/22/2019 12:00:00 AM +0000  Constructed   1287742   \n",
       "841114   5165187  12/05/2019 12:00:00 AM +0000  Constructed   1291251   \n",
       "518264   5018663  08/16/2019 12:00:00 AM +0000  Constructed   1288905   \n",
       "64084    2129310  11/05/2018 12:00:00 AM +0000  Constructed   1285830   \n",
       "743353   1082416  03/09/2018 12:00:00 AM +0000   Alteration     97464   \n",
       "\n",
       "         HEIGHTROOF  FEAT_CODE  GROUNDELEV   SHAPE_AREA   SHAPE_LEN  \\\n",
       "1056729       43.53     2100.0        68.0   347.824676   75.359453   \n",
       "841114        31.00     2100.0        40.0  1124.997132  139.999793   \n",
       "518264        28.40     2100.0        89.0   702.366326  127.116855   \n",
       "64084         10.00     1000.0        32.0   373.098721   86.566495   \n",
       "743353        74.21     2100.0        52.0  3678.718152  298.769770   \n",
       "\n",
       "             BASE_BBL    MPLUTO_BBL  GEOMSOURCE  \n",
       "1056729  5.024500e+09  5.024508e+09  Other (Man  \n",
       "841114   5.004770e+09  5.004770e+09  Other (Man  \n",
       "518264   5.007350e+09  5.007350e+09  Other (Man  \n",
       "64084    2.023880e+09  2.023880e+09  Other (Man  \n",
       "743353   1.010610e+09  1.010610e+09  Other (Man  "
      ]
     },
     "execution_count": 17,
     "metadata": {},
     "output_type": "execute_result"
    }
   ],
   "source": [
    "# printing the first five rows of our data sorted by the 'CNSTRCT_YR' column in descending order\n",
    "building_footprints.sort_values('CNSTRCT_YR',ascending=False).head()"
   ]
  },
  {
   "cell_type": "code",
   "execution_count": 18,
   "metadata": {},
   "outputs": [
    {
     "data": {
      "text/plain": [
       "1920.0        131445\n",
       "1930.0        113707\n",
       "1925.0        109705\n",
       "1950.0         63008\n",
       "1910.0         52948\n",
       "               ...  \n",
       "202.0              1\n",
       "1803.0             1\n",
       "1809.0             1\n",
       "1811.0             1\n",
       "19999979.0         1\n",
       "Name: CNSTRCT_YR, Length: 252, dtype: int64"
      ]
     },
     "execution_count": 18,
     "metadata": {},
     "output_type": "execute_result"
    }
   ],
   "source": [
    "# return counts of unique values in descending order of our'CNSTRCT_YR' column\n",
    "building_footprints['CNSTRCT_YR'].value_counts()"
   ]
  },
  {
   "cell_type": "code",
   "execution_count": 19,
   "metadata": {},
   "outputs": [
    {
     "data": {
      "text/plain": [
       "0.0           6142\n",
       "202.0            1\n",
       "1652.0           1\n",
       "1661.0           2\n",
       "1665.0           1\n",
       "              ... \n",
       "2020.0         394\n",
       "20000.0          2\n",
       "20004.0          1\n",
       "20115.0          1\n",
       "19999979.0       1\n",
       "Name: CNSTRCT_YR, Length: 252, dtype: int64"
      ]
     },
     "execution_count": 19,
     "metadata": {},
     "output_type": "execute_result"
    }
   ],
   "source": [
    "# return counts of unique values but sorted by our index - 'CNSTRCT_YR' column values\n",
    "building_footprints['CNSTRCT_YR'].value_counts().sort_index()"
   ]
  },
  {
   "cell_type": "code",
   "execution_count": 20,
   "metadata": {},
   "outputs": [
    {
     "data": {
      "text/plain": [
       "4881"
      ]
     },
     "execution_count": 20,
     "metadata": {},
     "output_type": "execute_result"
    }
   ],
   "source": [
    "# summing all the null/na values in our 'CNSTRCT_YR' column\n",
    "building_footprints['CNSTRCT_YR'].isna().sum()"
   ]
  },
  {
   "cell_type": "markdown",
   "metadata": {},
   "source": [
    "One of my favorite pandas methods is `pd.to_numeric()`. We set `errors='coerce'` so any value that can not be converted to an integer returns 'NaN.' And then, you guest it, we can fill in these NaN values."
   ]
  },
  {
   "cell_type": "code",
   "execution_count": 21,
   "metadata": {},
   "outputs": [
    {
     "data": {
      "text/plain": [
       "0          2009.0\n",
       "1          1930.0\n",
       "2          1960.0\n",
       "3          1920.0\n",
       "4          1915.0\n",
       "            ...  \n",
       "1084954    1980.0\n",
       "1084955    2020.0\n",
       "1084956    2017.0\n",
       "1084957    1980.0\n",
       "1084958    2020.0\n",
       "Name: CNSTRCT_YR, Length: 1084959, dtype: float64"
      ]
     },
     "execution_count": 21,
     "metadata": {},
     "output_type": "execute_result"
    }
   ],
   "source": [
    "# converting all the values in our 'CNSTRCT_YR' column as integers\n",
    "# invalid conversions will be set as NaN with errors='coerce'\n",
    "pd.to_numeric(building_footprints['CNSTRCT_YR'], downcast='integer', errors='coerce')"
   ]
  },
  {
   "cell_type": "code",
   "execution_count": 22,
   "metadata": {},
   "outputs": [
    {
     "data": {
      "text/plain": [
       "4881"
      ]
     },
     "execution_count": 22,
     "metadata": {},
     "output_type": "execute_result"
    }
   ],
   "source": [
    "# summing null/na values in the 'CNSTRCT_YR' column\n",
    "building_footprints['CNSTRCT_YR'].isna().sum()"
   ]
  },
  {
   "cell_type": "code",
   "execution_count": 23,
   "metadata": {},
   "outputs": [
    {
     "name": "stdout",
     "output_type": "stream",
     "text": [
      "1946.6336005362575\n",
      "1930.0\n"
     ]
    }
   ],
   "source": [
    "# printing the mean and median of the 'CNSTRCT_YR' column\n",
    "print(building_footprints['CNSTRCT_YR'].mean())\n",
    "print(building_footprints['CNSTRCT_YR'].median())"
   ]
  },
  {
   "cell_type": "markdown",
   "metadata": {},
   "source": [
    "## 4.2 Filling In Null/NA Values With Median "
   ]
  },
  {
   "cell_type": "markdown",
   "metadata": {},
   "source": [
    "Since our data has numerous incorrect values, we will fill values with NaN with the median."
   ]
  },
  {
   "cell_type": "code",
   "execution_count": 24,
   "metadata": {},
   "outputs": [
    {
     "data": {
      "text/html": [
       "<div>\n",
       "<style scoped>\n",
       "    .dataframe tbody tr th:only-of-type {\n",
       "        vertical-align: middle;\n",
       "    }\n",
       "\n",
       "    .dataframe tbody tr th {\n",
       "        vertical-align: top;\n",
       "    }\n",
       "\n",
       "    .dataframe thead th {\n",
       "        text-align: right;\n",
       "    }\n",
       "</style>\n",
       "<table border=\"1\" class=\"dataframe\">\n",
       "  <thead>\n",
       "    <tr style=\"text-align: right;\">\n",
       "      <th></th>\n",
       "      <th>the_geom</th>\n",
       "      <th>CNSTRCT_YR</th>\n",
       "      <th>NAME</th>\n",
       "      <th>BIN</th>\n",
       "      <th>LSTMODDATE</th>\n",
       "      <th>LSTSTATYPE</th>\n",
       "      <th>DOITT_ID</th>\n",
       "      <th>HEIGHTROOF</th>\n",
       "      <th>FEAT_CODE</th>\n",
       "      <th>GROUNDELEV</th>\n",
       "      <th>SHAPE_AREA</th>\n",
       "      <th>SHAPE_LEN</th>\n",
       "      <th>BASE_BBL</th>\n",
       "      <th>MPLUTO_BBL</th>\n",
       "      <th>GEOMSOURCE</th>\n",
       "    </tr>\n",
       "  </thead>\n",
       "  <tbody>\n",
       "    <tr>\n",
       "      <th>0</th>\n",
       "      <td>MULTIPOLYGON (((-73.87129515296562 40.65717370...</td>\n",
       "      <td>2009.0</td>\n",
       "      <td>NaN</td>\n",
       "      <td>3394646</td>\n",
       "      <td>08/22/2017 12:00:00 AM +0000</td>\n",
       "      <td>Constructed</td>\n",
       "      <td>1212853</td>\n",
       "      <td>21.608508</td>\n",
       "      <td>2100.0</td>\n",
       "      <td>18.0</td>\n",
       "      <td>854.662433</td>\n",
       "      <td>125.079796</td>\n",
       "      <td>3.044521e+09</td>\n",
       "      <td>3.044521e+09</td>\n",
       "      <td>Photogramm</td>\n",
       "    </tr>\n",
       "    <tr>\n",
       "      <th>1</th>\n",
       "      <td>MULTIPOLYGON (((-73.87670970144625 40.71425234...</td>\n",
       "      <td>1930.0</td>\n",
       "      <td>NaN</td>\n",
       "      <td>4548330</td>\n",
       "      <td>08/17/2017 12:00:00 AM +0000</td>\n",
       "      <td>Constructed</td>\n",
       "      <td>1226227</td>\n",
       "      <td>10.360000</td>\n",
       "      <td>5110.0</td>\n",
       "      <td>122.0</td>\n",
       "      <td>217.594243</td>\n",
       "      <td>60.225858</td>\n",
       "      <td>4.030640e+09</td>\n",
       "      <td>4.030640e+09</td>\n",
       "      <td>Photogramm</td>\n",
       "    </tr>\n",
       "    <tr>\n",
       "      <th>2</th>\n",
       "      <td>MULTIPOLYGON (((-73.85195485799383 40.66235471...</td>\n",
       "      <td>1960.0</td>\n",
       "      <td>NaN</td>\n",
       "      <td>4460479</td>\n",
       "      <td>08/22/2017 12:00:00 AM +0000</td>\n",
       "      <td>Constructed</td>\n",
       "      <td>581946</td>\n",
       "      <td>29.811570</td>\n",
       "      <td>2100.0</td>\n",
       "      <td>10.0</td>\n",
       "      <td>946.427476</td>\n",
       "      <td>123.141941</td>\n",
       "      <td>4.139430e+09</td>\n",
       "      <td>4.139430e+09</td>\n",
       "      <td>Photogramm</td>\n",
       "    </tr>\n",
       "    <tr>\n",
       "      <th>3</th>\n",
       "      <td>MULTIPOLYGON (((-73.94029215265738 40.64108287...</td>\n",
       "      <td>1920.0</td>\n",
       "      <td>NaN</td>\n",
       "      <td>3355684</td>\n",
       "      <td>08/17/2017 12:00:00 AM +0000</td>\n",
       "      <td>Constructed</td>\n",
       "      <td>858061</td>\n",
       "      <td>11.200000</td>\n",
       "      <td>5110.0</td>\n",
       "      <td>32.0</td>\n",
       "      <td>248.678169</td>\n",
       "      <td>63.940817</td>\n",
       "      <td>3.049720e+09</td>\n",
       "      <td>3.049720e+09</td>\n",
       "      <td>Photogramm</td>\n",
       "    </tr>\n",
       "    <tr>\n",
       "      <th>4</th>\n",
       "      <td>MULTIPOLYGON (((-73.98998983552244 40.62383804...</td>\n",
       "      <td>1915.0</td>\n",
       "      <td>NaN</td>\n",
       "      <td>3131737</td>\n",
       "      <td>08/22/2017 12:00:00 AM +0000</td>\n",
       "      <td>Constructed</td>\n",
       "      <td>568078</td>\n",
       "      <td>24.980000</td>\n",
       "      <td>2100.0</td>\n",
       "      <td>44.0</td>\n",
       "      <td>1163.227669</td>\n",
       "      <td>165.608763</td>\n",
       "      <td>3.055100e+09</td>\n",
       "      <td>3.055100e+09</td>\n",
       "      <td>Photogramm</td>\n",
       "    </tr>\n",
       "  </tbody>\n",
       "</table>\n",
       "</div>"
      ],
      "text/plain": [
       "                                            the_geom  CNSTRCT_YR NAME  \\\n",
       "0  MULTIPOLYGON (((-73.87129515296562 40.65717370...      2009.0  NaN   \n",
       "1  MULTIPOLYGON (((-73.87670970144625 40.71425234...      1930.0  NaN   \n",
       "2  MULTIPOLYGON (((-73.85195485799383 40.66235471...      1960.0  NaN   \n",
       "3  MULTIPOLYGON (((-73.94029215265738 40.64108287...      1920.0  NaN   \n",
       "4  MULTIPOLYGON (((-73.98998983552244 40.62383804...      1915.0  NaN   \n",
       "\n",
       "       BIN                    LSTMODDATE   LSTSTATYPE  DOITT_ID  HEIGHTROOF  \\\n",
       "0  3394646  08/22/2017 12:00:00 AM +0000  Constructed   1212853   21.608508   \n",
       "1  4548330  08/17/2017 12:00:00 AM +0000  Constructed   1226227   10.360000   \n",
       "2  4460479  08/22/2017 12:00:00 AM +0000  Constructed    581946   29.811570   \n",
       "3  3355684  08/17/2017 12:00:00 AM +0000  Constructed    858061   11.200000   \n",
       "4  3131737  08/22/2017 12:00:00 AM +0000  Constructed    568078   24.980000   \n",
       "\n",
       "   FEAT_CODE  GROUNDELEV   SHAPE_AREA   SHAPE_LEN      BASE_BBL    MPLUTO_BBL  \\\n",
       "0     2100.0        18.0   854.662433  125.079796  3.044521e+09  3.044521e+09   \n",
       "1     5110.0       122.0   217.594243   60.225858  4.030640e+09  4.030640e+09   \n",
       "2     2100.0        10.0   946.427476  123.141941  4.139430e+09  4.139430e+09   \n",
       "3     5110.0        32.0   248.678169   63.940817  3.049720e+09  3.049720e+09   \n",
       "4     2100.0        44.0  1163.227669  165.608763  3.055100e+09  3.055100e+09   \n",
       "\n",
       "   GEOMSOURCE  \n",
       "0  Photogramm  \n",
       "1  Photogramm  \n",
       "2  Photogramm  \n",
       "3  Photogramm  \n",
       "4  Photogramm  "
      ]
     },
     "execution_count": 24,
     "metadata": {},
     "output_type": "execute_result"
    }
   ],
   "source": [
    "# saving the median of our 'CNSTRCT_YR' as the name 'median'\n",
    "median = building_footprints['CNSTRCT_YR'].median()\n",
    "\n",
    "# filling na values in our'CNSTRCT_YR' column with the column's median value\n",
    "building_footprints[\"CNSTRCT_YR\"] = building_footprints[\"CNSTRCT_YR\"].fillna(value=median)\n",
    "building_footprints.head()"
   ]
  },
  {
   "cell_type": "code",
   "execution_count": 25,
   "metadata": {},
   "outputs": [
    {
     "data": {
      "text/plain": [
       "0"
      ]
     },
     "execution_count": 25,
     "metadata": {},
     "output_type": "execute_result"
    }
   ],
   "source": [
    "# summing null/na values in the 'CNSTRCT_YR' column\n",
    "building_footprints['CNSTRCT_YR'].isna().sum()"
   ]
  },
  {
   "cell_type": "code",
   "execution_count": 26,
   "metadata": {},
   "outputs": [
    {
     "data": {
      "text/plain": [
       "the_geom       object\n",
       "CNSTRCT_YR      int32\n",
       "NAME           object\n",
       "BIN             int64\n",
       "LSTMODDATE     object\n",
       "LSTSTATYPE     object\n",
       "DOITT_ID        int64\n",
       "HEIGHTROOF    float64\n",
       "FEAT_CODE     float64\n",
       "GROUNDELEV    float64\n",
       "SHAPE_AREA    float64\n",
       "SHAPE_LEN     float64\n",
       "BASE_BBL      float64\n",
       "MPLUTO_BBL    float64\n",
       "GEOMSOURCE     object\n",
       "dtype: object"
      ]
     },
     "execution_count": 26,
     "metadata": {},
     "output_type": "execute_result"
    }
   ],
   "source": [
    "# casting our 'CNSTRCT_YR' column as an integer datatype\n",
    "building_footprints.astype({'CNSTRCT_YR': 'int32'}).dtypes"
   ]
  },
  {
   "cell_type": "code",
   "execution_count": 27,
   "metadata": {
    "scrolled": true
   },
   "outputs": [
    {
     "data": {
      "text/html": [
       "<div>\n",
       "<style scoped>\n",
       "    .dataframe tbody tr th:only-of-type {\n",
       "        vertical-align: middle;\n",
       "    }\n",
       "\n",
       "    .dataframe tbody tr th {\n",
       "        vertical-align: top;\n",
       "    }\n",
       "\n",
       "    .dataframe thead th {\n",
       "        text-align: right;\n",
       "    }\n",
       "</style>\n",
       "<table border=\"1\" class=\"dataframe\">\n",
       "  <thead>\n",
       "    <tr style=\"text-align: right;\">\n",
       "      <th></th>\n",
       "      <th>the_geom</th>\n",
       "      <th>CNSTRCT_YR</th>\n",
       "      <th>NAME</th>\n",
       "      <th>BIN</th>\n",
       "      <th>LSTMODDATE</th>\n",
       "      <th>LSTSTATYPE</th>\n",
       "      <th>DOITT_ID</th>\n",
       "      <th>HEIGHTROOF</th>\n",
       "      <th>FEAT_CODE</th>\n",
       "      <th>GROUNDELEV</th>\n",
       "      <th>SHAPE_AREA</th>\n",
       "      <th>SHAPE_LEN</th>\n",
       "      <th>BASE_BBL</th>\n",
       "      <th>MPLUTO_BBL</th>\n",
       "      <th>GEOMSOURCE</th>\n",
       "    </tr>\n",
       "  </thead>\n",
       "  <tbody>\n",
       "    <tr>\n",
       "      <th>715518</th>\n",
       "      <td>MULTIPOLYGON (((-73.82396887986631 40.69552252...</td>\n",
       "      <td>0.0</td>\n",
       "      <td>NaN</td>\n",
       "      <td>4589042</td>\n",
       "      <td>07/24/2014 12:00:00 AM +0000</td>\n",
       "      <td>Constructed</td>\n",
       "      <td>806767</td>\n",
       "      <td>19.390000</td>\n",
       "      <td>2100.0</td>\n",
       "      <td>57.0</td>\n",
       "      <td>2906.956090</td>\n",
       "      <td>216.820368</td>\n",
       "      <td>4.093750e+09</td>\n",
       "      <td>4.093750e+09</td>\n",
       "      <td>Photogramm</td>\n",
       "    </tr>\n",
       "    <tr>\n",
       "      <th>31899</th>\n",
       "      <td>MULTIPOLYGON (((-73.92911942073772 40.70505033...</td>\n",
       "      <td>0.0</td>\n",
       "      <td>NaN</td>\n",
       "      <td>3400405</td>\n",
       "      <td>11/17/2017 12:00:00 AM +0000</td>\n",
       "      <td>Constructed</td>\n",
       "      <td>1255009</td>\n",
       "      <td>13.448280</td>\n",
       "      <td>2100.0</td>\n",
       "      <td>25.0</td>\n",
       "      <td>2433.201127</td>\n",
       "      <td>211.329538</td>\n",
       "      <td>3.030140e+09</td>\n",
       "      <td>3.030140e+09</td>\n",
       "      <td>Other (Man</td>\n",
       "    </tr>\n",
       "    <tr>\n",
       "      <th>75625</th>\n",
       "      <td>MULTIPOLYGON (((-74.23997406812904 40.49951273...</td>\n",
       "      <td>0.0</td>\n",
       "      <td>NaN</td>\n",
       "      <td>5166421</td>\n",
       "      <td>06/13/2018 12:00:00 AM +0000</td>\n",
       "      <td>Constructed</td>\n",
       "      <td>1272698</td>\n",
       "      <td>NaN</td>\n",
       "      <td>2100.0</td>\n",
       "      <td>8.0</td>\n",
       "      <td>602.033778</td>\n",
       "      <td>111.772387</td>\n",
       "      <td>5.078800e+09</td>\n",
       "      <td>5.078800e+09</td>\n",
       "      <td>Other (Man</td>\n",
       "    </tr>\n",
       "    <tr>\n",
       "      <th>167839</th>\n",
       "      <td>MULTIPOLYGON (((-73.87506878374307 40.82236561...</td>\n",
       "      <td>0.0</td>\n",
       "      <td>NaN</td>\n",
       "      <td>2022600</td>\n",
       "      <td>08/22/2017 12:00:00 AM +0000</td>\n",
       "      <td>Constructed</td>\n",
       "      <td>162280</td>\n",
       "      <td>21.020000</td>\n",
       "      <td>5110.0</td>\n",
       "      <td>15.0</td>\n",
       "      <td>55089.695769</td>\n",
       "      <td>939.508993</td>\n",
       "      <td>2.036530e+09</td>\n",
       "      <td>2.036530e+09</td>\n",
       "      <td>Photogramm</td>\n",
       "    </tr>\n",
       "    <tr>\n",
       "      <th>104970</th>\n",
       "      <td>MULTIPOLYGON (((-73.77875175060497 40.66633622...</td>\n",
       "      <td>0.0</td>\n",
       "      <td>NaN</td>\n",
       "      <td>4617451</td>\n",
       "      <td>09/11/2017 12:00:00 AM +0000</td>\n",
       "      <td>Constructed</td>\n",
       "      <td>1243915</td>\n",
       "      <td>15.229623</td>\n",
       "      <td>2100.0</td>\n",
       "      <td>13.0</td>\n",
       "      <td>1072.425418</td>\n",
       "      <td>143.340320</td>\n",
       "      <td>4.132670e+09</td>\n",
       "      <td>4.132670e+09</td>\n",
       "      <td>Photogramm</td>\n",
       "    </tr>\n",
       "  </tbody>\n",
       "</table>\n",
       "</div>"
      ],
      "text/plain": [
       "                                                 the_geom  CNSTRCT_YR NAME  \\\n",
       "715518  MULTIPOLYGON (((-73.82396887986631 40.69552252...         0.0  NaN   \n",
       "31899   MULTIPOLYGON (((-73.92911942073772 40.70505033...         0.0  NaN   \n",
       "75625   MULTIPOLYGON (((-74.23997406812904 40.49951273...         0.0  NaN   \n",
       "167839  MULTIPOLYGON (((-73.87506878374307 40.82236561...         0.0  NaN   \n",
       "104970  MULTIPOLYGON (((-73.77875175060497 40.66633622...         0.0  NaN   \n",
       "\n",
       "            BIN                    LSTMODDATE   LSTSTATYPE  DOITT_ID  \\\n",
       "715518  4589042  07/24/2014 12:00:00 AM +0000  Constructed    806767   \n",
       "31899   3400405  11/17/2017 12:00:00 AM +0000  Constructed   1255009   \n",
       "75625   5166421  06/13/2018 12:00:00 AM +0000  Constructed   1272698   \n",
       "167839  2022600  08/22/2017 12:00:00 AM +0000  Constructed    162280   \n",
       "104970  4617451  09/11/2017 12:00:00 AM +0000  Constructed   1243915   \n",
       "\n",
       "        HEIGHTROOF  FEAT_CODE  GROUNDELEV    SHAPE_AREA   SHAPE_LEN  \\\n",
       "715518   19.390000     2100.0        57.0   2906.956090  216.820368   \n",
       "31899    13.448280     2100.0        25.0   2433.201127  211.329538   \n",
       "75625          NaN     2100.0         8.0    602.033778  111.772387   \n",
       "167839   21.020000     5110.0        15.0  55089.695769  939.508993   \n",
       "104970   15.229623     2100.0        13.0   1072.425418  143.340320   \n",
       "\n",
       "            BASE_BBL    MPLUTO_BBL  GEOMSOURCE  \n",
       "715518  4.093750e+09  4.093750e+09  Photogramm  \n",
       "31899   3.030140e+09  3.030140e+09  Other (Man  \n",
       "75625   5.078800e+09  5.078800e+09  Other (Man  \n",
       "167839  2.036530e+09  2.036530e+09  Photogramm  \n",
       "104970  4.132670e+09  4.132670e+09  Photogramm  "
      ]
     },
     "execution_count": 27,
     "metadata": {},
     "output_type": "execute_result"
    }
   ],
   "source": [
    "# printing the first five rows of our data sorted by the 'CNSTRCT_YR' column in ascending order\n",
    "building_footprints.sort_values('CNSTRCT_YR').head()"
   ]
  },
  {
   "cell_type": "markdown",
   "metadata": {},
   "source": [
    "## 4.3 Plotting Histogram of Raw Construction Year Values"
   ]
  },
  {
   "cell_type": "code",
   "execution_count": 28,
   "metadata": {},
   "outputs": [
    {
     "data": {
      "text/plain": [
       "Text(0.5, 1.0, 'Histogram of Construction Year Values')"
      ]
     },
     "execution_count": 28,
     "metadata": {},
     "output_type": "execute_result"
    },
    {
     "data": {
      "image/png": "[encoded data removed]",
      "text/plain": [
       "<Figure size 1080x720 with 1 Axes>"
      ]
     },
     "metadata": {
      "needs_background": "light"
     },
     "output_type": "display_data"
    }
   ],
   "source": [
    "# making a histogram of our 'CNSTRCT_YR' column with 10 bins\n",
    "building_footprints['CNSTRCT_YR'].hist(figsize=(15,10))\n",
    "plt.xlabel('Construction Year', fontsize=15)\n",
    "plt.ylabel('Counts', fontsize=15)\n",
    "plt.title('Histogram of Construction Year Values', fontsize=15)"
   ]
  },
  {
   "cell_type": "code",
   "execution_count": 29,
   "metadata": {},
   "outputs": [
    {
     "name": "stdout",
     "output_type": "stream",
     "text": [
      "19999979.0\n",
      "0.0\n"
     ]
    }
   ],
   "source": [
    "# printing the max and min values of our CNSTRCT_YR' column\n",
    "print(building_footprints['CNSTRCT_YR'].max())\n",
    "print(building_footprints['CNSTRCT_YR'].min())"
   ]
  },
  {
   "cell_type": "markdown",
   "metadata": {},
   "source": [
    "## 4.4 Identiyfying Values Not Between Years 1 and 2020"
   ]
  },
  {
   "cell_type": "code",
   "execution_count": 30,
   "metadata": {},
   "outputs": [
    {
     "data": {
      "text/html": [
       "<div>\n",
       "<style scoped>\n",
       "    .dataframe tbody tr th:only-of-type {\n",
       "        vertical-align: middle;\n",
       "    }\n",
       "\n",
       "    .dataframe tbody tr th {\n",
       "        vertical-align: top;\n",
       "    }\n",
       "\n",
       "    .dataframe thead th {\n",
       "        text-align: right;\n",
       "    }\n",
       "</style>\n",
       "<table border=\"1\" class=\"dataframe\">\n",
       "  <thead>\n",
       "    <tr style=\"text-align: right;\">\n",
       "      <th></th>\n",
       "      <th>the_geom</th>\n",
       "      <th>CNSTRCT_YR</th>\n",
       "      <th>NAME</th>\n",
       "      <th>BIN</th>\n",
       "      <th>LSTMODDATE</th>\n",
       "      <th>LSTSTATYPE</th>\n",
       "      <th>DOITT_ID</th>\n",
       "      <th>HEIGHTROOF</th>\n",
       "      <th>FEAT_CODE</th>\n",
       "      <th>GROUNDELEV</th>\n",
       "      <th>SHAPE_AREA</th>\n",
       "      <th>SHAPE_LEN</th>\n",
       "      <th>BASE_BBL</th>\n",
       "      <th>MPLUTO_BBL</th>\n",
       "      <th>GEOMSOURCE</th>\n",
       "    </tr>\n",
       "  </thead>\n",
       "  <tbody>\n",
       "    <tr>\n",
       "      <th>50</th>\n",
       "      <td>MULTIPOLYGON (((-73.98260213243807 40.66219192...</td>\n",
       "      <td>0.0</td>\n",
       "      <td>NaN</td>\n",
       "      <td>3396049</td>\n",
       "      <td>12/07/2018 12:00:00 AM +0000</td>\n",
       "      <td>Constructed</td>\n",
       "      <td>1098656</td>\n",
       "      <td>64.34975</td>\n",
       "      <td>2100.0</td>\n",
       "      <td>153.0</td>\n",
       "      <td>5670.027484</td>\n",
       "      <td>339.330474</td>\n",
       "      <td>3.011040e+09</td>\n",
       "      <td>3.011040e+09</td>\n",
       "      <td>Photogramm</td>\n",
       "    </tr>\n",
       "    <tr>\n",
       "      <th>172</th>\n",
       "      <td>MULTIPOLYGON (((-73.88298274971864 40.81517278...</td>\n",
       "      <td>0.0</td>\n",
       "      <td>NaN</td>\n",
       "      <td>2098658</td>\n",
       "      <td>08/22/2017 12:00:00 AM +0000</td>\n",
       "      <td>Constructed</td>\n",
       "      <td>441521</td>\n",
       "      <td>18.40000</td>\n",
       "      <td>2100.0</td>\n",
       "      <td>23.0</td>\n",
       "      <td>1614.466219</td>\n",
       "      <td>176.130060</td>\n",
       "      <td>2.027640e+09</td>\n",
       "      <td>2.027640e+09</td>\n",
       "      <td>Photogramm</td>\n",
       "    </tr>\n",
       "    <tr>\n",
       "      <th>934</th>\n",
       "      <td>MULTIPOLYGON (((-73.80705540401291 40.66400343...</td>\n",
       "      <td>0.0</td>\n",
       "      <td>NaN</td>\n",
       "      <td>4594704</td>\n",
       "      <td>08/22/2017 12:00:00 AM +0000</td>\n",
       "      <td>Constructed</td>\n",
       "      <td>367831</td>\n",
       "      <td>43.10980</td>\n",
       "      <td>2100.0</td>\n",
       "      <td>13.0</td>\n",
       "      <td>12451.758982</td>\n",
       "      <td>692.645592</td>\n",
       "      <td>4.119000e+09</td>\n",
       "      <td>4.119000e+09</td>\n",
       "      <td>Other (Man</td>\n",
       "    </tr>\n",
       "    <tr>\n",
       "      <th>995</th>\n",
       "      <td>MULTIPOLYGON (((-73.94343801996024 40.62077805...</td>\n",
       "      <td>0.0</td>\n",
       "      <td>NaN</td>\n",
       "      <td>3209687</td>\n",
       "      <td>12/07/2018 12:00:00 AM +0000</td>\n",
       "      <td>Constructed</td>\n",
       "      <td>801244</td>\n",
       "      <td>27.16000</td>\n",
       "      <td>2100.0</td>\n",
       "      <td>24.0</td>\n",
       "      <td>857.225891</td>\n",
       "      <td>135.011032</td>\n",
       "      <td>3.076500e+09</td>\n",
       "      <td>3.076500e+09</td>\n",
       "      <td>Photogramm</td>\n",
       "    </tr>\n",
       "    <tr>\n",
       "      <th>1005</th>\n",
       "      <td>MULTIPOLYGON (((-73.97720397258655 40.58652267...</td>\n",
       "      <td>0.0</td>\n",
       "      <td>NaN</td>\n",
       "      <td>3412431</td>\n",
       "      <td>11/15/2016 12:00:00 AM +0000</td>\n",
       "      <td>Constructed</td>\n",
       "      <td>1222091</td>\n",
       "      <td>11.65000</td>\n",
       "      <td>2100.0</td>\n",
       "      <td>10.0</td>\n",
       "      <td>577.522408</td>\n",
       "      <td>113.491237</td>\n",
       "      <td>3.072080e+09</td>\n",
       "      <td>3.072080e+09</td>\n",
       "      <td>Photogramm</td>\n",
       "    </tr>\n",
       "  </tbody>\n",
       "</table>\n",
       "</div>"
      ],
      "text/plain": [
       "                                               the_geom  CNSTRCT_YR NAME  \\\n",
       "50    MULTIPOLYGON (((-73.98260213243807 40.66219192...         0.0  NaN   \n",
       "172   MULTIPOLYGON (((-73.88298274971864 40.81517278...         0.0  NaN   \n",
       "934   MULTIPOLYGON (((-73.80705540401291 40.66400343...         0.0  NaN   \n",
       "995   MULTIPOLYGON (((-73.94343801996024 40.62077805...         0.0  NaN   \n",
       "1005  MULTIPOLYGON (((-73.97720397258655 40.58652267...         0.0  NaN   \n",
       "\n",
       "          BIN                    LSTMODDATE   LSTSTATYPE  DOITT_ID  \\\n",
       "50    3396049  12/07/2018 12:00:00 AM +0000  Constructed   1098656   \n",
       "172   2098658  08/22/2017 12:00:00 AM +0000  Constructed    441521   \n",
       "934   4594704  08/22/2017 12:00:00 AM +0000  Constructed    367831   \n",
       "995   3209687  12/07/2018 12:00:00 AM +0000  Constructed    801244   \n",
       "1005  3412431  11/15/2016 12:00:00 AM +0000  Constructed   1222091   \n",
       "\n",
       "      HEIGHTROOF  FEAT_CODE  GROUNDELEV    SHAPE_AREA   SHAPE_LEN  \\\n",
       "50      64.34975     2100.0       153.0   5670.027484  339.330474   \n",
       "172     18.40000     2100.0        23.0   1614.466219  176.130060   \n",
       "934     43.10980     2100.0        13.0  12451.758982  692.645592   \n",
       "995     27.16000     2100.0        24.0    857.225891  135.011032   \n",
       "1005    11.65000     2100.0        10.0    577.522408  113.491237   \n",
       "\n",
       "          BASE_BBL    MPLUTO_BBL  GEOMSOURCE  \n",
       "50    3.011040e+09  3.011040e+09  Photogramm  \n",
       "172   2.027640e+09  2.027640e+09  Photogramm  \n",
       "934   4.119000e+09  4.119000e+09  Other (Man  \n",
       "995   3.076500e+09  3.076500e+09  Photogramm  \n",
       "1005  3.072080e+09  3.072080e+09  Photogramm  "
      ]
     },
     "execution_count": 30,
     "metadata": {},
     "output_type": "execute_result"
    }
   ],
   "source": [
    "# previewing the first five rows of values not (i.e. ~) between 1 and 2020 in our data\n",
    "building_footprints[~building_footprints['CNSTRCT_YR'].between(1, 2020)].head()"
   ]
  },
  {
   "cell_type": "code",
   "execution_count": 31,
   "metadata": {},
   "outputs": [
    {
     "data": {
      "text/plain": [
       "(6147, 15)"
      ]
     },
     "execution_count": 31,
     "metadata": {},
     "output_type": "execute_result"
    }
   ],
   "source": [
    "# printing the number of rows and columns of values in 'CNSTRCT_YR' column not between 1 and 2020\n",
    "building_footprints[~building_footprints['CNSTRCT_YR'].between(1, 2020, inclusive=True)].shape"
   ]
  },
  {
   "cell_type": "markdown",
   "metadata": {},
   "source": [
    "## 4.5 Replacing Values Not Between Years 1 and 2020 with the Median"
   ]
  },
  {
   "cell_type": "code",
   "execution_count": 32,
   "metadata": {},
   "outputs": [],
   "source": [
    "# identifying values not between 1 and 2020 and saving as the name 'replace'\n",
    "replace = building_footprints[~building_footprints['CNSTRCT_YR'].between(1, 2020)]\n",
    "# replacing not between 1 and 2020 with the median as the name 'replacement_value'\n",
    "replacement_value = building_footprints['CNSTRCT_YR'].median()\n",
    "\n",
    "building_footprints[['CNSTRCT_YR']] = building_footprints[['CNSTRCT_YR']].replace(replace, replacement_value)"
   ]
  },
  {
   "cell_type": "code",
   "execution_count": 33,
   "metadata": {},
   "outputs": [
    {
     "data": {
      "text/html": [
       "<div>\n",
       "<style scoped>\n",
       "    .dataframe tbody tr th:only-of-type {\n",
       "        vertical-align: middle;\n",
       "    }\n",
       "\n",
       "    .dataframe tbody tr th {\n",
       "        vertical-align: top;\n",
       "    }\n",
       "\n",
       "    .dataframe thead th {\n",
       "        text-align: right;\n",
       "    }\n",
       "</style>\n",
       "<table border=\"1\" class=\"dataframe\">\n",
       "  <thead>\n",
       "    <tr style=\"text-align: right;\">\n",
       "      <th></th>\n",
       "      <th>the_geom</th>\n",
       "      <th>CNSTRCT_YR</th>\n",
       "      <th>NAME</th>\n",
       "      <th>BIN</th>\n",
       "      <th>LSTMODDATE</th>\n",
       "      <th>LSTSTATYPE</th>\n",
       "      <th>DOITT_ID</th>\n",
       "      <th>HEIGHTROOF</th>\n",
       "      <th>FEAT_CODE</th>\n",
       "      <th>GROUNDELEV</th>\n",
       "      <th>SHAPE_AREA</th>\n",
       "      <th>SHAPE_LEN</th>\n",
       "      <th>BASE_BBL</th>\n",
       "      <th>MPLUTO_BBL</th>\n",
       "      <th>GEOMSOURCE</th>\n",
       "    </tr>\n",
       "  </thead>\n",
       "  <tbody>\n",
       "  </tbody>\n",
       "</table>\n",
       "</div>"
      ],
      "text/plain": [
       "Empty DataFrame\n",
       "Columns: [the_geom, CNSTRCT_YR, NAME, BIN, LSTMODDATE, LSTSTATYPE, DOITT_ID, HEIGHTROOF, FEAT_CODE, GROUNDELEV, SHAPE_AREA, SHAPE_LEN, BASE_BBL, MPLUTO_BBL, GEOMSOURCE]\n",
       "Index: []"
      ]
     },
     "execution_count": 33,
     "metadata": {},
     "output_type": "execute_result"
    }
   ],
   "source": [
    "# previewing the first five rows of values not (i.e. ~) between 1 and 2020 in our data\n",
    "building_footprints[~building_footprints['CNSTRCT_YR'].between(1, 2020)].head()"
   ]
  },
  {
   "cell_type": "code",
   "execution_count": 34,
   "metadata": {},
   "outputs": [
    {
     "data": {
      "text/plain": [
       "(0, 15)"
      ]
     },
     "execution_count": 34,
     "metadata": {},
     "output_type": "execute_result"
    }
   ],
   "source": [
    "# printing the number of rows and columns of values in CNSTRCT_YR' column not between 1 and 2020\n",
    "building_footprints[~building_footprints['CNSTRCT_YR'].between(1, 2020)].shape"
   ]
  },
  {
   "cell_type": "code",
   "execution_count": 35,
   "metadata": {},
   "outputs": [
    {
     "data": {
      "text/plain": [
       "count    1.084959e+06\n",
       "mean     1.938986e+03\n",
       "std      2.873383e+01\n",
       "min      2.020000e+02\n",
       "25%      1.920000e+03\n",
       "50%      1.930000e+03\n",
       "75%      1.955000e+03\n",
       "max      2.020000e+03\n",
       "Name: CNSTRCT_YR, dtype: float64"
      ]
     },
     "execution_count": 35,
     "metadata": {},
     "output_type": "execute_result"
    }
   ],
   "source": [
    "# printing descriptive statistics of our 'CNSTRCT_YR' column\n",
    "building_footprints['CNSTRCT_YR'].describe()"
   ]
  },
  {
   "cell_type": "markdown",
   "metadata": {},
   "source": [
    "## 4.6 Plotting Histogram of Construction Years Between 1 and 2020"
   ]
  },
  {
   "cell_type": "code",
   "execution_count": 36,
   "metadata": {},
   "outputs": [
    {
     "data": {
      "text/plain": [
       "Text(0.5, 1.0, 'Histogram of Construction Year Values')"
      ]
     },
     "execution_count": 36,
     "metadata": {},
     "output_type": "execute_result"
    },
    {
     "data": {
      "image/png": "[encoded data removed]",
      "text/plain": [
       "<Figure size 1080x720 with 1 Axes>"
      ]
     },
     "metadata": {
      "needs_background": "light"
     },
     "output_type": "display_data"
    }
   ],
   "source": [
    "# making a histogram of our 'CNSTRCT_YR' column with 10 bins\n",
    "building_footprints['CNSTRCT_YR'].hist(figsize=(15,10))\n",
    "plt.xlabel('Construction Year', fontsize=15)\n",
    "plt.ylabel('Counts', fontsize=15)\n",
    "plt.title('Histogram of Construction Year Values', fontsize=15)"
   ]
  },
  {
   "cell_type": "code",
   "execution_count": 37,
   "metadata": {},
   "outputs": [
    {
     "data": {
      "text/html": [
       "<div>\n",
       "<style scoped>\n",
       "    .dataframe tbody tr th:only-of-type {\n",
       "        vertical-align: middle;\n",
       "    }\n",
       "\n",
       "    .dataframe tbody tr th {\n",
       "        vertical-align: top;\n",
       "    }\n",
       "\n",
       "    .dataframe thead th {\n",
       "        text-align: right;\n",
       "    }\n",
       "</style>\n",
       "<table border=\"1\" class=\"dataframe\">\n",
       "  <thead>\n",
       "    <tr style=\"text-align: right;\">\n",
       "      <th></th>\n",
       "      <th>the_geom</th>\n",
       "      <th>CNSTRCT_YR</th>\n",
       "      <th>NAME</th>\n",
       "      <th>BIN</th>\n",
       "      <th>LSTMODDATE</th>\n",
       "      <th>LSTSTATYPE</th>\n",
       "      <th>DOITT_ID</th>\n",
       "      <th>HEIGHTROOF</th>\n",
       "      <th>FEAT_CODE</th>\n",
       "      <th>GROUNDELEV</th>\n",
       "      <th>SHAPE_AREA</th>\n",
       "      <th>SHAPE_LEN</th>\n",
       "      <th>BASE_BBL</th>\n",
       "      <th>MPLUTO_BBL</th>\n",
       "      <th>GEOMSOURCE</th>\n",
       "    </tr>\n",
       "  </thead>\n",
       "  <tbody>\n",
       "    <tr>\n",
       "      <th>1083981</th>\n",
       "      <td>MULTIPOLYGON (((-73.85862589920973 40.72962642...</td>\n",
       "      <td>202.0</td>\n",
       "      <td>NaN</td>\n",
       "      <td>4622920</td>\n",
       "      <td>04/23/2020 12:00:00 AM +0000</td>\n",
       "      <td>Marked for Construction</td>\n",
       "      <td>1292435</td>\n",
       "      <td>NaN</td>\n",
       "      <td>1003.0</td>\n",
       "      <td>40.0</td>\n",
       "      <td>1251.090432</td>\n",
       "      <td>163.221642</td>\n",
       "      <td>4.020910e+09</td>\n",
       "      <td>4.020910e+09</td>\n",
       "      <td>Other (Man</td>\n",
       "    </tr>\n",
       "    <tr>\n",
       "      <th>1079368</th>\n",
       "      <td>MULTIPOLYGON (((-73.92083460429942 40.64439765...</td>\n",
       "      <td>1652.0</td>\n",
       "      <td>Pieter Claesen Wyckoff House</td>\n",
       "      <td>3221967</td>\n",
       "      <td>01/28/2020 12:00:00 AM +0000</td>\n",
       "      <td>Constructed</td>\n",
       "      <td>550741</td>\n",
       "      <td>24.540000</td>\n",
       "      <td>2100.0</td>\n",
       "      <td>14.0</td>\n",
       "      <td>2214.189137</td>\n",
       "      <td>208.884085</td>\n",
       "      <td>3.079170e+09</td>\n",
       "      <td>3.079170e+09</td>\n",
       "      <td>Photogramm</td>\n",
       "    </tr>\n",
       "    <tr>\n",
       "      <th>801841</th>\n",
       "      <td>MULTIPOLYGON (((-73.8247828135812 40.762948467...</td>\n",
       "      <td>1661.0</td>\n",
       "      <td>Bowne House</td>\n",
       "      <td>4113403</td>\n",
       "      <td>08/22/2017 12:00:00 AM +0000</td>\n",
       "      <td>Constructed</td>\n",
       "      <td>776399</td>\n",
       "      <td>26.120000</td>\n",
       "      <td>2100.0</td>\n",
       "      <td>64.0</td>\n",
       "      <td>2814.439349</td>\n",
       "      <td>242.381274</td>\n",
       "      <td>4.050130e+09</td>\n",
       "      <td>4.050130e+09</td>\n",
       "      <td>Photogramm</td>\n",
       "    </tr>\n",
       "    <tr>\n",
       "      <th>483069</th>\n",
       "      <td>MULTIPOLYGON (((-73.82449114078894 40.76279389...</td>\n",
       "      <td>1661.0</td>\n",
       "      <td>NaN</td>\n",
       "      <td>4610542</td>\n",
       "      <td>08/17/2017 12:00:00 AM +0000</td>\n",
       "      <td>Constructed</td>\n",
       "      <td>1190137</td>\n",
       "      <td>14.846959</td>\n",
       "      <td>5110.0</td>\n",
       "      <td>63.0</td>\n",
       "      <td>571.057794</td>\n",
       "      <td>112.944873</td>\n",
       "      <td>4.050130e+09</td>\n",
       "      <td>4.050130e+09</td>\n",
       "      <td>Photogramm</td>\n",
       "    </tr>\n",
       "    <tr>\n",
       "      <th>964878</th>\n",
       "      <td>MULTIPOLYGON (((-74.06383185277687 40.61463876...</td>\n",
       "      <td>1665.0</td>\n",
       "      <td>NaN</td>\n",
       "      <td>5130548</td>\n",
       "      <td>08/22/2017 12:00:00 AM +0000</td>\n",
       "      <td>Constructed</td>\n",
       "      <td>160094</td>\n",
       "      <td>32.570000</td>\n",
       "      <td>2100.0</td>\n",
       "      <td>38.0</td>\n",
       "      <td>3580.967750</td>\n",
       "      <td>308.578271</td>\n",
       "      <td>5.028300e+09</td>\n",
       "      <td>5.028300e+09</td>\n",
       "      <td>Photogramm</td>\n",
       "    </tr>\n",
       "    <tr>\n",
       "      <th>1083906</th>\n",
       "      <td>MULTIPOLYGON (((-74.25311647359251 40.50309522...</td>\n",
       "      <td>1680.0</td>\n",
       "      <td>Conference House</td>\n",
       "      <td>5087656</td>\n",
       "      <td>04/13/2020 12:00:00 AM +0000</td>\n",
       "      <td>Constructed</td>\n",
       "      <td>702698</td>\n",
       "      <td>38.640000</td>\n",
       "      <td>2100.0</td>\n",
       "      <td>38.0</td>\n",
       "      <td>2051.848904</td>\n",
       "      <td>181.231385</td>\n",
       "      <td>5.078570e+09</td>\n",
       "      <td>5.078570e+09</td>\n",
       "      <td>Photogramm</td>\n",
       "    </tr>\n",
       "    <tr>\n",
       "      <th>1083915</th>\n",
       "      <td>MULTIPOLYGON (((-74.06293248238293 40.61512359...</td>\n",
       "      <td>1690.0</td>\n",
       "      <td>Alice Austen House Museum</td>\n",
       "      <td>5042188</td>\n",
       "      <td>04/13/2020 12:00:00 AM +0000</td>\n",
       "      <td>Alteration</td>\n",
       "      <td>806241</td>\n",
       "      <td>22.260000</td>\n",
       "      <td>2100.0</td>\n",
       "      <td>21.0</td>\n",
       "      <td>2643.246683</td>\n",
       "      <td>249.017591</td>\n",
       "      <td>5.028300e+09</td>\n",
       "      <td>5.028300e+09</td>\n",
       "      <td>Photogramm</td>\n",
       "    </tr>\n",
       "    <tr>\n",
       "      <th>1080978</th>\n",
       "      <td>MULTIPOLYGON (((-73.83018115607636 40.76296466...</td>\n",
       "      <td>1694.0</td>\n",
       "      <td>NaN</td>\n",
       "      <td>4112345</td>\n",
       "      <td>01/28/2020 12:00:00 AM +0000</td>\n",
       "      <td>Constructed</td>\n",
       "      <td>101470</td>\n",
       "      <td>40.050000</td>\n",
       "      <td>2100.0</td>\n",
       "      <td>24.0</td>\n",
       "      <td>3302.526302</td>\n",
       "      <td>238.863553</td>\n",
       "      <td>4.049770e+09</td>\n",
       "      <td>4.049770e+09</td>\n",
       "      <td>Photogramm</td>\n",
       "    </tr>\n",
       "    <tr>\n",
       "      <th>644658</th>\n",
       "      <td>MULTIPOLYGON (((-73.87809412136981 40.73834078...</td>\n",
       "      <td>1706.0</td>\n",
       "      <td>NaN</td>\n",
       "      <td>4539447</td>\n",
       "      <td>08/22/2017 12:00:00 AM +0000</td>\n",
       "      <td>Constructed</td>\n",
       "      <td>1255838</td>\n",
       "      <td>13.250610</td>\n",
       "      <td>2100.0</td>\n",
       "      <td>26.0</td>\n",
       "      <td>2695.667896</td>\n",
       "      <td>208.568070</td>\n",
       "      <td>4.015490e+09</td>\n",
       "      <td>4.015490e+09</td>\n",
       "      <td>Other (Man</td>\n",
       "    </tr>\n",
       "    <tr>\n",
       "      <th>246330</th>\n",
       "      <td>MULTIPOLYGON (((-73.87747039074847 40.73837525...</td>\n",
       "      <td>1706.0</td>\n",
       "      <td>NaN</td>\n",
       "      <td>4038764</td>\n",
       "      <td>08/22/2017 12:00:00 AM +0000</td>\n",
       "      <td>Constructed</td>\n",
       "      <td>150331</td>\n",
       "      <td>37.280000</td>\n",
       "      <td>2100.0</td>\n",
       "      <td>25.0</td>\n",
       "      <td>2619.408603</td>\n",
       "      <td>241.003409</td>\n",
       "      <td>4.015490e+09</td>\n",
       "      <td>4.015490e+09</td>\n",
       "      <td>Photogramm</td>\n",
       "    </tr>\n",
       "    <tr>\n",
       "      <th>567867</th>\n",
       "      <td>MULTIPOLYGON (((-74.01121069434295 40.70334382...</td>\n",
       "      <td>1719.0</td>\n",
       "      <td>Fraunces Tavern</td>\n",
       "      <td>1078965</td>\n",
       "      <td>01/28/2020 12:00:00 AM +0000</td>\n",
       "      <td>Constructed</td>\n",
       "      <td>299639</td>\n",
       "      <td>47.830000</td>\n",
       "      <td>2100.0</td>\n",
       "      <td>7.0</td>\n",
       "      <td>2521.723447</td>\n",
       "      <td>263.057677</td>\n",
       "      <td>1.000070e+09</td>\n",
       "      <td>1.000070e+09</td>\n",
       "      <td>Photogramm</td>\n",
       "    </tr>\n",
       "    <tr>\n",
       "      <th>1079344</th>\n",
       "      <td>MULTIPOLYGON (((-74.1580589943076 40.531948790...</td>\n",
       "      <td>1720.0</td>\n",
       "      <td>NaN</td>\n",
       "      <td>5069636</td>\n",
       "      <td>01/28/2020 12:00:00 AM +0000</td>\n",
       "      <td>Constructed</td>\n",
       "      <td>278809</td>\n",
       "      <td>33.100000</td>\n",
       "      <td>2100.0</td>\n",
       "      <td>38.0</td>\n",
       "      <td>1746.042976</td>\n",
       "      <td>196.874253</td>\n",
       "      <td>5.053780e+09</td>\n",
       "      <td>5.053780e+09</td>\n",
       "      <td>Photogramm</td>\n",
       "    </tr>\n",
       "    <tr>\n",
       "      <th>1081996</th>\n",
       "      <td>MULTIPOLYGON (((-74.11194710490798 40.64370115...</td>\n",
       "      <td>1722.0</td>\n",
       "      <td>NaN</td>\n",
       "      <td>5003802</td>\n",
       "      <td>01/28/2020 12:00:00 AM +0000</td>\n",
       "      <td>Constructed</td>\n",
       "      <td>348950</td>\n",
       "      <td>26.630000</td>\n",
       "      <td>2100.0</td>\n",
       "      <td>18.0</td>\n",
       "      <td>2338.259100</td>\n",
       "      <td>270.534835</td>\n",
       "      <td>5.001490e+09</td>\n",
       "      <td>5.001490e+09</td>\n",
       "      <td>Photogramm</td>\n",
       "    </tr>\n",
       "    <tr>\n",
       "      <th>1067916</th>\n",
       "      <td>MULTIPOLYGON (((-73.97417672122658 40.59555038...</td>\n",
       "      <td>1725.0</td>\n",
       "      <td>NaN</td>\n",
       "      <td>3192660</td>\n",
       "      <td>01/28/2020 12:00:00 AM +0000</td>\n",
       "      <td>Constructed</td>\n",
       "      <td>639407</td>\n",
       "      <td>24.570000</td>\n",
       "      <td>2100.0</td>\n",
       "      <td>19.0</td>\n",
       "      <td>1853.593936</td>\n",
       "      <td>185.869695</td>\n",
       "      <td>3.071230e+09</td>\n",
       "      <td>3.071230e+09</td>\n",
       "      <td>Photogramm</td>\n",
       "    </tr>\n",
       "    <tr>\n",
       "      <th>819314</th>\n",
       "      <td>MULTIPOLYGON (((-73.89189961127266 40.77319167...</td>\n",
       "      <td>1729.0</td>\n",
       "      <td>NaN</td>\n",
       "      <td>4014161</td>\n",
       "      <td>08/22/2017 12:00:00 AM +0000</td>\n",
       "      <td>Constructed</td>\n",
       "      <td>714343</td>\n",
       "      <td>26.040000</td>\n",
       "      <td>2100.0</td>\n",
       "      <td>20.0</td>\n",
       "      <td>1751.437063</td>\n",
       "      <td>167.588771</td>\n",
       "      <td>4.007550e+09</td>\n",
       "      <td>4.007550e+09</td>\n",
       "      <td>Photogramm</td>\n",
       "    </tr>\n",
       "    <tr>\n",
       "      <th>725891</th>\n",
       "      <td>MULTIPOLYGON (((-73.89235267720602 40.77315821...</td>\n",
       "      <td>1729.0</td>\n",
       "      <td>NaN</td>\n",
       "      <td>4544218</td>\n",
       "      <td>08/17/2017 12:00:00 AM +0000</td>\n",
       "      <td>Constructed</td>\n",
       "      <td>54663</td>\n",
       "      <td>13.790000</td>\n",
       "      <td>5110.0</td>\n",
       "      <td>18.0</td>\n",
       "      <td>218.554868</td>\n",
       "      <td>59.349903</td>\n",
       "      <td>4.007550e+09</td>\n",
       "      <td>4.007550e+09</td>\n",
       "      <td>Photogramm</td>\n",
       "    </tr>\n",
       "    <tr>\n",
       "      <th>814207</th>\n",
       "      <td>MULTIPOLYGON (((-73.89240443753562 40.77304063...</td>\n",
       "      <td>1729.0</td>\n",
       "      <td>NaN</td>\n",
       "      <td>4442534</td>\n",
       "      <td>08/22/2017 12:00:00 AM +0000</td>\n",
       "      <td>Constructed</td>\n",
       "      <td>416428</td>\n",
       "      <td>15.240000</td>\n",
       "      <td>5110.0</td>\n",
       "      <td>20.0</td>\n",
       "      <td>482.213285</td>\n",
       "      <td>88.824270</td>\n",
       "      <td>4.007550e+09</td>\n",
       "      <td>4.007550e+09</td>\n",
       "      <td>Photogramm</td>\n",
       "    </tr>\n",
       "    <tr>\n",
       "      <th>1071128</th>\n",
       "      <td>MULTIPOLYGON (((-73.75250496339186 40.77336441...</td>\n",
       "      <td>1735.0</td>\n",
       "      <td>NaN</td>\n",
       "      <td>4168433</td>\n",
       "      <td>01/28/2020 12:00:00 AM +0000</td>\n",
       "      <td>Constructed</td>\n",
       "      <td>215687</td>\n",
       "      <td>30.150000</td>\n",
       "      <td>2100.0</td>\n",
       "      <td>34.0</td>\n",
       "      <td>1981.668456</td>\n",
       "      <td>191.736085</td>\n",
       "      <td>4.080560e+09</td>\n",
       "      <td>4.080560e+09</td>\n",
       "      <td>Photogramm</td>\n",
       "    </tr>\n",
       "    <tr>\n",
       "      <th>1063467</th>\n",
       "      <td>MULTIPOLYGON (((-73.92916441907107 40.62050935...</td>\n",
       "      <td>1747.0</td>\n",
       "      <td>NaN</td>\n",
       "      <td>3219819</td>\n",
       "      <td>01/28/2020 12:00:00 AM +0000</td>\n",
       "      <td>Constructed</td>\n",
       "      <td>586135</td>\n",
       "      <td>31.110000</td>\n",
       "      <td>2100.0</td>\n",
       "      <td>16.0</td>\n",
       "      <td>2417.172949</td>\n",
       "      <td>224.726032</td>\n",
       "      <td>3.078720e+09</td>\n",
       "      <td>3.078720e+09</td>\n",
       "      <td>Photogramm</td>\n",
       "    </tr>\n",
       "    <tr>\n",
       "      <th>1063232</th>\n",
       "      <td>MULTIPOLYGON (((-74.12352136240041 40.62892209...</td>\n",
       "      <td>1750.0</td>\n",
       "      <td>NaN</td>\n",
       "      <td>5006233</td>\n",
       "      <td>01/28/2020 12:00:00 AM +0000</td>\n",
       "      <td>Constructed</td>\n",
       "      <td>74187</td>\n",
       "      <td>23.070000</td>\n",
       "      <td>2100.0</td>\n",
       "      <td>56.0</td>\n",
       "      <td>2738.181085</td>\n",
       "      <td>251.914497</td>\n",
       "      <td>5.002300e+09</td>\n",
       "      <td>5.002300e+09</td>\n",
       "      <td>Photogramm</td>\n",
       "    </tr>\n",
       "  </tbody>\n",
       "</table>\n",
       "</div>"
      ],
      "text/plain": [
       "                                                  the_geom  CNSTRCT_YR  \\\n",
       "1083981  MULTIPOLYGON (((-73.85862589920973 40.72962642...       202.0   \n",
       "1079368  MULTIPOLYGON (((-73.92083460429942 40.64439765...      1652.0   \n",
       "801841   MULTIPOLYGON (((-73.8247828135812 40.762948467...      1661.0   \n",
       "483069   MULTIPOLYGON (((-73.82449114078894 40.76279389...      1661.0   \n",
       "964878   MULTIPOLYGON (((-74.06383185277687 40.61463876...      1665.0   \n",
       "1083906  MULTIPOLYGON (((-74.25311647359251 40.50309522...      1680.0   \n",
       "1083915  MULTIPOLYGON (((-74.06293248238293 40.61512359...      1690.0   \n",
       "1080978  MULTIPOLYGON (((-73.83018115607636 40.76296466...      1694.0   \n",
       "644658   MULTIPOLYGON (((-73.87809412136981 40.73834078...      1706.0   \n",
       "246330   MULTIPOLYGON (((-73.87747039074847 40.73837525...      1706.0   \n",
       "567867   MULTIPOLYGON (((-74.01121069434295 40.70334382...      1719.0   \n",
       "1079344  MULTIPOLYGON (((-74.1580589943076 40.531948790...      1720.0   \n",
       "1081996  MULTIPOLYGON (((-74.11194710490798 40.64370115...      1722.0   \n",
       "1067916  MULTIPOLYGON (((-73.97417672122658 40.59555038...      1725.0   \n",
       "819314   MULTIPOLYGON (((-73.89189961127266 40.77319167...      1729.0   \n",
       "725891   MULTIPOLYGON (((-73.89235267720602 40.77315821...      1729.0   \n",
       "814207   MULTIPOLYGON (((-73.89240443753562 40.77304063...      1729.0   \n",
       "1071128  MULTIPOLYGON (((-73.75250496339186 40.77336441...      1735.0   \n",
       "1063467  MULTIPOLYGON (((-73.92916441907107 40.62050935...      1747.0   \n",
       "1063232  MULTIPOLYGON (((-74.12352136240041 40.62892209...      1750.0   \n",
       "\n",
       "                                 NAME      BIN                    LSTMODDATE  \\\n",
       "1083981                           NaN  4622920  04/23/2020 12:00:00 AM +0000   \n",
       "1079368  Pieter Claesen Wyckoff House  3221967  01/28/2020 12:00:00 AM +0000   \n",
       "801841                    Bowne House  4113403  08/22/2017 12:00:00 AM +0000   \n",
       "483069                            NaN  4610542  08/17/2017 12:00:00 AM +0000   \n",
       "964878                            NaN  5130548  08/22/2017 12:00:00 AM +0000   \n",
       "1083906              Conference House  5087656  04/13/2020 12:00:00 AM +0000   \n",
       "1083915     Alice Austen House Museum  5042188  04/13/2020 12:00:00 AM +0000   \n",
       "1080978                           NaN  4112345  01/28/2020 12:00:00 AM +0000   \n",
       "644658                            NaN  4539447  08/22/2017 12:00:00 AM +0000   \n",
       "246330                            NaN  4038764  08/22/2017 12:00:00 AM +0000   \n",
       "567867                Fraunces Tavern  1078965  01/28/2020 12:00:00 AM +0000   \n",
       "1079344                           NaN  5069636  01/28/2020 12:00:00 AM +0000   \n",
       "1081996                           NaN  5003802  01/28/2020 12:00:00 AM +0000   \n",
       "1067916                           NaN  3192660  01/28/2020 12:00:00 AM +0000   \n",
       "819314                            NaN  4014161  08/22/2017 12:00:00 AM +0000   \n",
       "725891                            NaN  4544218  08/17/2017 12:00:00 AM +0000   \n",
       "814207                            NaN  4442534  08/22/2017 12:00:00 AM +0000   \n",
       "1071128                           NaN  4168433  01/28/2020 12:00:00 AM +0000   \n",
       "1063467                           NaN  3219819  01/28/2020 12:00:00 AM +0000   \n",
       "1063232                           NaN  5006233  01/28/2020 12:00:00 AM +0000   \n",
       "\n",
       "                      LSTSTATYPE  DOITT_ID  HEIGHTROOF  FEAT_CODE  GROUNDELEV  \\\n",
       "1083981  Marked for Construction   1292435         NaN     1003.0        40.0   \n",
       "1079368              Constructed    550741   24.540000     2100.0        14.0   \n",
       "801841               Constructed    776399   26.120000     2100.0        64.0   \n",
       "483069               Constructed   1190137   14.846959     5110.0        63.0   \n",
       "964878               Constructed    160094   32.570000     2100.0        38.0   \n",
       "1083906              Constructed    702698   38.640000     2100.0        38.0   \n",
       "1083915               Alteration    806241   22.260000     2100.0        21.0   \n",
       "1080978              Constructed    101470   40.050000     2100.0        24.0   \n",
       "644658               Constructed   1255838   13.250610     2100.0        26.0   \n",
       "246330               Constructed    150331   37.280000     2100.0        25.0   \n",
       "567867               Constructed    299639   47.830000     2100.0         7.0   \n",
       "1079344              Constructed    278809   33.100000     2100.0        38.0   \n",
       "1081996              Constructed    348950   26.630000     2100.0        18.0   \n",
       "1067916              Constructed    639407   24.570000     2100.0        19.0   \n",
       "819314               Constructed    714343   26.040000     2100.0        20.0   \n",
       "725891               Constructed     54663   13.790000     5110.0        18.0   \n",
       "814207               Constructed    416428   15.240000     5110.0        20.0   \n",
       "1071128              Constructed    215687   30.150000     2100.0        34.0   \n",
       "1063467              Constructed    586135   31.110000     2100.0        16.0   \n",
       "1063232              Constructed     74187   23.070000     2100.0        56.0   \n",
       "\n",
       "          SHAPE_AREA   SHAPE_LEN      BASE_BBL    MPLUTO_BBL  GEOMSOURCE  \n",
       "1083981  1251.090432  163.221642  4.020910e+09  4.020910e+09  Other (Man  \n",
       "1079368  2214.189137  208.884085  3.079170e+09  3.079170e+09  Photogramm  \n",
       "801841   2814.439349  242.381274  4.050130e+09  4.050130e+09  Photogramm  \n",
       "483069    571.057794  112.944873  4.050130e+09  4.050130e+09  Photogramm  \n",
       "964878   3580.967750  308.578271  5.028300e+09  5.028300e+09  Photogramm  \n",
       "1083906  2051.848904  181.231385  5.078570e+09  5.078570e+09  Photogramm  \n",
       "1083915  2643.246683  249.017591  5.028300e+09  5.028300e+09  Photogramm  \n",
       "1080978  3302.526302  238.863553  4.049770e+09  4.049770e+09  Photogramm  \n",
       "644658   2695.667896  208.568070  4.015490e+09  4.015490e+09  Other (Man  \n",
       "246330   2619.408603  241.003409  4.015490e+09  4.015490e+09  Photogramm  \n",
       "567867   2521.723447  263.057677  1.000070e+09  1.000070e+09  Photogramm  \n",
       "1079344  1746.042976  196.874253  5.053780e+09  5.053780e+09  Photogramm  \n",
       "1081996  2338.259100  270.534835  5.001490e+09  5.001490e+09  Photogramm  \n",
       "1067916  1853.593936  185.869695  3.071230e+09  3.071230e+09  Photogramm  \n",
       "819314   1751.437063  167.588771  4.007550e+09  4.007550e+09  Photogramm  \n",
       "725891    218.554868   59.349903  4.007550e+09  4.007550e+09  Photogramm  \n",
       "814207    482.213285   88.824270  4.007550e+09  4.007550e+09  Photogramm  \n",
       "1071128  1981.668456  191.736085  4.080560e+09  4.080560e+09  Photogramm  \n",
       "1063467  2417.172949  224.726032  3.078720e+09  3.078720e+09  Photogramm  \n",
       "1063232  2738.181085  251.914497  5.002300e+09  5.002300e+09  Photogramm  "
      ]
     },
     "execution_count": 37,
     "metadata": {},
     "output_type": "execute_result"
    }
   ],
   "source": [
    "# printing the first 20 rows of our data sorted by the 'CNSTRCT_YR' column in ascending order\n",
    "building_footprints.sort_values('CNSTRCT_YR').head(20)"
   ]
  },
  {
   "cell_type": "markdown",
   "metadata": {},
   "source": [
    "## 4.7 Identifying Buildings Built Before 1652 - Possible Outliers"
   ]
  },
  {
   "cell_type": "code",
   "execution_count": 38,
   "metadata": {},
   "outputs": [
    {
     "data": {
      "text/html": [
       "<div>\n",
       "<style scoped>\n",
       "    .dataframe tbody tr th:only-of-type {\n",
       "        vertical-align: middle;\n",
       "    }\n",
       "\n",
       "    .dataframe tbody tr th {\n",
       "        vertical-align: top;\n",
       "    }\n",
       "\n",
       "    .dataframe thead th {\n",
       "        text-align: right;\n",
       "    }\n",
       "</style>\n",
       "<table border=\"1\" class=\"dataframe\">\n",
       "  <thead>\n",
       "    <tr style=\"text-align: right;\">\n",
       "      <th></th>\n",
       "      <th>the_geom</th>\n",
       "      <th>CNSTRCT_YR</th>\n",
       "      <th>NAME</th>\n",
       "      <th>BIN</th>\n",
       "      <th>LSTMODDATE</th>\n",
       "      <th>LSTSTATYPE</th>\n",
       "      <th>DOITT_ID</th>\n",
       "      <th>HEIGHTROOF</th>\n",
       "      <th>FEAT_CODE</th>\n",
       "      <th>GROUNDELEV</th>\n",
       "      <th>SHAPE_AREA</th>\n",
       "      <th>SHAPE_LEN</th>\n",
       "      <th>BASE_BBL</th>\n",
       "      <th>MPLUTO_BBL</th>\n",
       "      <th>GEOMSOURCE</th>\n",
       "    </tr>\n",
       "  </thead>\n",
       "  <tbody>\n",
       "    <tr>\n",
       "      <th>1083981</th>\n",
       "      <td>MULTIPOLYGON (((-73.85862589920973 40.72962642...</td>\n",
       "      <td>202.0</td>\n",
       "      <td>NaN</td>\n",
       "      <td>4622920</td>\n",
       "      <td>04/23/2020 12:00:00 AM +0000</td>\n",
       "      <td>Marked for Construction</td>\n",
       "      <td>1292435</td>\n",
       "      <td>NaN</td>\n",
       "      <td>1003.0</td>\n",
       "      <td>40.0</td>\n",
       "      <td>1251.090432</td>\n",
       "      <td>163.221642</td>\n",
       "      <td>4.020910e+09</td>\n",
       "      <td>4.020910e+09</td>\n",
       "      <td>Other (Man</td>\n",
       "    </tr>\n",
       "  </tbody>\n",
       "</table>\n",
       "</div>"
      ],
      "text/plain": [
       "                                                  the_geom  CNSTRCT_YR NAME  \\\n",
       "1083981  MULTIPOLYGON (((-73.85862589920973 40.72962642...       202.0  NaN   \n",
       "\n",
       "             BIN                    LSTMODDATE               LSTSTATYPE  \\\n",
       "1083981  4622920  04/23/2020 12:00:00 AM +0000  Marked for Construction   \n",
       "\n",
       "         DOITT_ID  HEIGHTROOF  FEAT_CODE  GROUNDELEV   SHAPE_AREA   SHAPE_LEN  \\\n",
       "1083981   1292435         NaN     1003.0        40.0  1251.090432  163.221642   \n",
       "\n",
       "             BASE_BBL    MPLUTO_BBL  GEOMSOURCE  \n",
       "1083981  4.020910e+09  4.020910e+09  Other (Man  "
      ]
     },
     "execution_count": 38,
     "metadata": {},
     "output_type": "execute_result"
    }
   ],
   "source": [
    "# returning the rows of which  the 'CNSTRCT_YR' is less than 1652\n",
    "# I am using '1652' because this ism most likely the oldest building in this dataset \n",
    "building_footprints[building_footprints['CNSTRCT_YR'] < 1652]"
   ]
  },
  {
   "cell_type": "code",
   "execution_count": 39,
   "metadata": {},
   "outputs": [
    {
     "data": {
      "text/plain": [
       "1930.0"
      ]
     },
     "execution_count": 39,
     "metadata": {},
     "output_type": "execute_result"
    }
   ],
   "source": [
    "# printing the median of the 'CNSTRCT_YR' column\n",
    "building_footprints['CNSTRCT_YR'].median()"
   ]
  },
  {
   "cell_type": "markdown",
   "metadata": {},
   "source": [
    "## 4.8 Replacing Values Less Than 1652 with the Median"
   ]
  },
  {
   "cell_type": "code",
   "execution_count": 40,
   "metadata": {},
   "outputs": [],
   "source": [
    "# identifying values less than 1652 to be replaced as the name 'replace'\n",
    "replace = building_footprints[building_footprints['CNSTRCT_YR'] < 1652]\n",
    "# saving the median as the name 'replacement_value' \n",
    "replacement_value = building_footprints['CNSTRCT_YR'].median()\n",
    "\n",
    "# replacing these values with the column's median \n",
    "building_footprints[['CNSTRCT_YR']] = building_footprints[['CNSTRCT_YR']].replace(replace, replacement_value)"
   ]
  },
  {
   "cell_type": "code",
   "execution_count": 41,
   "metadata": {},
   "outputs": [
    {
     "data": {
      "text/plain": [
       "the_geom      MULTIPOLYGON (((-73.8540959118754 40.662971736...\n",
       "CNSTRCT_YR                                                 1958\n",
       "NAME                                                        NaN\n",
       "BIN                                                     4434910\n",
       "LSTMODDATE                         11/28/2018 12:00:00 AM +0000\n",
       "Name: 62757, dtype: object"
      ]
     },
     "execution_count": 41,
     "metadata": {},
     "output_type": "execute_result"
    }
   ],
   "source": [
    "# performing a sanity check and looking at the first record (i.e. 62757) of our data and see if the old value\n",
    "# of 216 has been replaced with 1930\n",
    "building_footprints.loc[62757].head()"
   ]
  },
  {
   "cell_type": "code",
   "execution_count": 42,
   "metadata": {},
   "outputs": [
    {
     "data": {
      "text/html": [
       "<div>\n",
       "<style scoped>\n",
       "    .dataframe tbody tr th:only-of-type {\n",
       "        vertical-align: middle;\n",
       "    }\n",
       "\n",
       "    .dataframe tbody tr th {\n",
       "        vertical-align: top;\n",
       "    }\n",
       "\n",
       "    .dataframe thead th {\n",
       "        text-align: right;\n",
       "    }\n",
       "</style>\n",
       "<table border=\"1\" class=\"dataframe\">\n",
       "  <thead>\n",
       "    <tr style=\"text-align: right;\">\n",
       "      <th></th>\n",
       "      <th>the_geom</th>\n",
       "      <th>CNSTRCT_YR</th>\n",
       "      <th>NAME</th>\n",
       "      <th>BIN</th>\n",
       "      <th>LSTMODDATE</th>\n",
       "      <th>LSTSTATYPE</th>\n",
       "      <th>DOITT_ID</th>\n",
       "      <th>HEIGHTROOF</th>\n",
       "      <th>FEAT_CODE</th>\n",
       "      <th>GROUNDELEV</th>\n",
       "      <th>SHAPE_AREA</th>\n",
       "      <th>SHAPE_LEN</th>\n",
       "      <th>BASE_BBL</th>\n",
       "      <th>MPLUTO_BBL</th>\n",
       "      <th>GEOMSOURCE</th>\n",
       "    </tr>\n",
       "  </thead>\n",
       "  <tbody>\n",
       "    <tr>\n",
       "      <th>1079368</th>\n",
       "      <td>MULTIPOLYGON (((-73.92083460429942 40.64439765...</td>\n",
       "      <td>1652.0</td>\n",
       "      <td>Pieter Claesen Wyckoff House</td>\n",
       "      <td>3221967</td>\n",
       "      <td>01/28/2020 12:00:00 AM +0000</td>\n",
       "      <td>Constructed</td>\n",
       "      <td>550741</td>\n",
       "      <td>24.540000</td>\n",
       "      <td>2100.0</td>\n",
       "      <td>14.0</td>\n",
       "      <td>2214.189137</td>\n",
       "      <td>208.884085</td>\n",
       "      <td>3.079170e+09</td>\n",
       "      <td>3.079170e+09</td>\n",
       "      <td>Photogramm</td>\n",
       "    </tr>\n",
       "    <tr>\n",
       "      <th>801841</th>\n",
       "      <td>MULTIPOLYGON (((-73.8247828135812 40.762948467...</td>\n",
       "      <td>1661.0</td>\n",
       "      <td>Bowne House</td>\n",
       "      <td>4113403</td>\n",
       "      <td>08/22/2017 12:00:00 AM +0000</td>\n",
       "      <td>Constructed</td>\n",
       "      <td>776399</td>\n",
       "      <td>26.120000</td>\n",
       "      <td>2100.0</td>\n",
       "      <td>64.0</td>\n",
       "      <td>2814.439349</td>\n",
       "      <td>242.381274</td>\n",
       "      <td>4.050130e+09</td>\n",
       "      <td>4.050130e+09</td>\n",
       "      <td>Photogramm</td>\n",
       "    </tr>\n",
       "    <tr>\n",
       "      <th>483069</th>\n",
       "      <td>MULTIPOLYGON (((-73.82449114078894 40.76279389...</td>\n",
       "      <td>1661.0</td>\n",
       "      <td>NaN</td>\n",
       "      <td>4610542</td>\n",
       "      <td>08/17/2017 12:00:00 AM +0000</td>\n",
       "      <td>Constructed</td>\n",
       "      <td>1190137</td>\n",
       "      <td>14.846959</td>\n",
       "      <td>5110.0</td>\n",
       "      <td>63.0</td>\n",
       "      <td>571.057794</td>\n",
       "      <td>112.944873</td>\n",
       "      <td>4.050130e+09</td>\n",
       "      <td>4.050130e+09</td>\n",
       "      <td>Photogramm</td>\n",
       "    </tr>\n",
       "    <tr>\n",
       "      <th>964878</th>\n",
       "      <td>MULTIPOLYGON (((-74.06383185277687 40.61463876...</td>\n",
       "      <td>1665.0</td>\n",
       "      <td>NaN</td>\n",
       "      <td>5130548</td>\n",
       "      <td>08/22/2017 12:00:00 AM +0000</td>\n",
       "      <td>Constructed</td>\n",
       "      <td>160094</td>\n",
       "      <td>32.570000</td>\n",
       "      <td>2100.0</td>\n",
       "      <td>38.0</td>\n",
       "      <td>3580.967750</td>\n",
       "      <td>308.578271</td>\n",
       "      <td>5.028300e+09</td>\n",
       "      <td>5.028300e+09</td>\n",
       "      <td>Photogramm</td>\n",
       "    </tr>\n",
       "    <tr>\n",
       "      <th>1083906</th>\n",
       "      <td>MULTIPOLYGON (((-74.25311647359251 40.50309522...</td>\n",
       "      <td>1680.0</td>\n",
       "      <td>Conference House</td>\n",
       "      <td>5087656</td>\n",
       "      <td>04/13/2020 12:00:00 AM +0000</td>\n",
       "      <td>Constructed</td>\n",
       "      <td>702698</td>\n",
       "      <td>38.640000</td>\n",
       "      <td>2100.0</td>\n",
       "      <td>38.0</td>\n",
       "      <td>2051.848904</td>\n",
       "      <td>181.231385</td>\n",
       "      <td>5.078570e+09</td>\n",
       "      <td>5.078570e+09</td>\n",
       "      <td>Photogramm</td>\n",
       "    </tr>\n",
       "  </tbody>\n",
       "</table>\n",
       "</div>"
      ],
      "text/plain": [
       "                                                  the_geom  CNSTRCT_YR  \\\n",
       "1079368  MULTIPOLYGON (((-73.92083460429942 40.64439765...      1652.0   \n",
       "801841   MULTIPOLYGON (((-73.8247828135812 40.762948467...      1661.0   \n",
       "483069   MULTIPOLYGON (((-73.82449114078894 40.76279389...      1661.0   \n",
       "964878   MULTIPOLYGON (((-74.06383185277687 40.61463876...      1665.0   \n",
       "1083906  MULTIPOLYGON (((-74.25311647359251 40.50309522...      1680.0   \n",
       "\n",
       "                                 NAME      BIN                    LSTMODDATE  \\\n",
       "1079368  Pieter Claesen Wyckoff House  3221967  01/28/2020 12:00:00 AM +0000   \n",
       "801841                    Bowne House  4113403  08/22/2017 12:00:00 AM +0000   \n",
       "483069                            NaN  4610542  08/17/2017 12:00:00 AM +0000   \n",
       "964878                            NaN  5130548  08/22/2017 12:00:00 AM +0000   \n",
       "1083906              Conference House  5087656  04/13/2020 12:00:00 AM +0000   \n",
       "\n",
       "          LSTSTATYPE  DOITT_ID  HEIGHTROOF  FEAT_CODE  GROUNDELEV  \\\n",
       "1079368  Constructed    550741   24.540000     2100.0        14.0   \n",
       "801841   Constructed    776399   26.120000     2100.0        64.0   \n",
       "483069   Constructed   1190137   14.846959     5110.0        63.0   \n",
       "964878   Constructed    160094   32.570000     2100.0        38.0   \n",
       "1083906  Constructed    702698   38.640000     2100.0        38.0   \n",
       "\n",
       "          SHAPE_AREA   SHAPE_LEN      BASE_BBL    MPLUTO_BBL  GEOMSOURCE  \n",
       "1079368  2214.189137  208.884085  3.079170e+09  3.079170e+09  Photogramm  \n",
       "801841   2814.439349  242.381274  4.050130e+09  4.050130e+09  Photogramm  \n",
       "483069    571.057794  112.944873  4.050130e+09  4.050130e+09  Photogramm  \n",
       "964878   3580.967750  308.578271  5.028300e+09  5.028300e+09  Photogramm  \n",
       "1083906  2051.848904  181.231385  5.078570e+09  5.078570e+09  Photogramm  "
      ]
     },
     "execution_count": 42,
     "metadata": {},
     "output_type": "execute_result"
    }
   ],
   "source": [
    "# printing the first 5 rows of our data sorted by the 'CNSTRCT_YR' column in ascending order\n",
    "building_footprints.sort_values('CNSTRCT_YR').head()"
   ]
  },
  {
   "cell_type": "code",
   "execution_count": 43,
   "metadata": {},
   "outputs": [
    {
     "data": {
      "text/html": [
       "<div>\n",
       "<style scoped>\n",
       "    .dataframe tbody tr th:only-of-type {\n",
       "        vertical-align: middle;\n",
       "    }\n",
       "\n",
       "    .dataframe tbody tr th {\n",
       "        vertical-align: top;\n",
       "    }\n",
       "\n",
       "    .dataframe thead th {\n",
       "        text-align: right;\n",
       "    }\n",
       "</style>\n",
       "<table border=\"1\" class=\"dataframe\">\n",
       "  <thead>\n",
       "    <tr style=\"text-align: right;\">\n",
       "      <th></th>\n",
       "      <th>the_geom</th>\n",
       "      <th>CNSTRCT_YR</th>\n",
       "      <th>NAME</th>\n",
       "      <th>BIN</th>\n",
       "      <th>LSTMODDATE</th>\n",
       "      <th>LSTSTATYPE</th>\n",
       "      <th>DOITT_ID</th>\n",
       "      <th>HEIGHTROOF</th>\n",
       "      <th>FEAT_CODE</th>\n",
       "      <th>GROUNDELEV</th>\n",
       "      <th>SHAPE_AREA</th>\n",
       "      <th>SHAPE_LEN</th>\n",
       "      <th>BASE_BBL</th>\n",
       "      <th>MPLUTO_BBL</th>\n",
       "      <th>GEOMSOURCE</th>\n",
       "    </tr>\n",
       "  </thead>\n",
       "  <tbody>\n",
       "    <tr>\n",
       "      <th>1084958</th>\n",
       "      <td>MULTIPOLYGON (((-74.19405636715909 40.53927738...</td>\n",
       "      <td>2020.0</td>\n",
       "      <td>NaN</td>\n",
       "      <td>5171437</td>\n",
       "      <td>09/18/2020 12:00:00 AM +0000</td>\n",
       "      <td>Constructed</td>\n",
       "      <td>1293108</td>\n",
       "      <td>34.0</td>\n",
       "      <td>2100.0</td>\n",
       "      <td>122.0</td>\n",
       "      <td>1650.589979</td>\n",
       "      <td>168.615080</td>\n",
       "      <td>5.063360e+09</td>\n",
       "      <td>5.063360e+09</td>\n",
       "      <td>Other (Man</td>\n",
       "    </tr>\n",
       "    <tr>\n",
       "      <th>1084121</th>\n",
       "      <td>MULTIPOLYGON (((-73.90893687955305 40.67512084...</td>\n",
       "      <td>2020.0</td>\n",
       "      <td>NaN</td>\n",
       "      <td>3426987</td>\n",
       "      <td>05/18/2020 12:00:00 AM +0000</td>\n",
       "      <td>Marked for Construction</td>\n",
       "      <td>1292496</td>\n",
       "      <td>NaN</td>\n",
       "      <td>1003.0</td>\n",
       "      <td>73.0</td>\n",
       "      <td>396.515189</td>\n",
       "      <td>93.590591</td>\n",
       "      <td>3.014420e+09</td>\n",
       "      <td>3.014420e+09</td>\n",
       "      <td>Other (Man</td>\n",
       "    </tr>\n",
       "    <tr>\n",
       "      <th>1084252</th>\n",
       "      <td>MULTIPOLYGON (((-73.95068721636177 40.71270923...</td>\n",
       "      <td>2020.0</td>\n",
       "      <td>NaN</td>\n",
       "      <td>3421698</td>\n",
       "      <td>06/29/2020 12:00:00 AM +0000</td>\n",
       "      <td>Constructed</td>\n",
       "      <td>1292643</td>\n",
       "      <td>50.0</td>\n",
       "      <td>2100.0</td>\n",
       "      <td>22.0</td>\n",
       "      <td>2062.829995</td>\n",
       "      <td>183.999358</td>\n",
       "      <td>3.027670e+09</td>\n",
       "      <td>NaN</td>\n",
       "      <td>Other (Man</td>\n",
       "    </tr>\n",
       "    <tr>\n",
       "      <th>1084254</th>\n",
       "      <td>MULTIPOLYGON (((-74.11662951600003 40.55782897...</td>\n",
       "      <td>2020.0</td>\n",
       "      <td>NaN</td>\n",
       "      <td>5170494</td>\n",
       "      <td>07/08/2020 12:00:00 AM +0000</td>\n",
       "      <td>Constructed</td>\n",
       "      <td>1292670</td>\n",
       "      <td>30.0</td>\n",
       "      <td>2100.0</td>\n",
       "      <td>10.0</td>\n",
       "      <td>937.023497</td>\n",
       "      <td>127.857539</td>\n",
       "      <td>5.046780e+09</td>\n",
       "      <td>5.046780e+09</td>\n",
       "      <td>Other (Man</td>\n",
       "    </tr>\n",
       "    <tr>\n",
       "      <th>1084256</th>\n",
       "      <td>MULTIPOLYGON (((-74.11653844940435 40.55791675...</td>\n",
       "      <td>2020.0</td>\n",
       "      <td>NaN</td>\n",
       "      <td>5170495</td>\n",
       "      <td>07/08/2020 12:00:00 AM +0000</td>\n",
       "      <td>Constructed</td>\n",
       "      <td>1292671</td>\n",
       "      <td>30.0</td>\n",
       "      <td>2100.0</td>\n",
       "      <td>10.0</td>\n",
       "      <td>918.200899</td>\n",
       "      <td>126.786386</td>\n",
       "      <td>5.046780e+09</td>\n",
       "      <td>5.046780e+09</td>\n",
       "      <td>Other (Man</td>\n",
       "    </tr>\n",
       "  </tbody>\n",
       "</table>\n",
       "</div>"
      ],
      "text/plain": [
       "                                                  the_geom  CNSTRCT_YR NAME  \\\n",
       "1084958  MULTIPOLYGON (((-74.19405636715909 40.53927738...      2020.0  NaN   \n",
       "1084121  MULTIPOLYGON (((-73.90893687955305 40.67512084...      2020.0  NaN   \n",
       "1084252  MULTIPOLYGON (((-73.95068721636177 40.71270923...      2020.0  NaN   \n",
       "1084254  MULTIPOLYGON (((-74.11662951600003 40.55782897...      2020.0  NaN   \n",
       "1084256  MULTIPOLYGON (((-74.11653844940435 40.55791675...      2020.0  NaN   \n",
       "\n",
       "             BIN                    LSTMODDATE               LSTSTATYPE  \\\n",
       "1084958  5171437  09/18/2020 12:00:00 AM +0000              Constructed   \n",
       "1084121  3426987  05/18/2020 12:00:00 AM +0000  Marked for Construction   \n",
       "1084252  3421698  06/29/2020 12:00:00 AM +0000              Constructed   \n",
       "1084254  5170494  07/08/2020 12:00:00 AM +0000              Constructed   \n",
       "1084256  5170495  07/08/2020 12:00:00 AM +0000              Constructed   \n",
       "\n",
       "         DOITT_ID  HEIGHTROOF  FEAT_CODE  GROUNDELEV   SHAPE_AREA   SHAPE_LEN  \\\n",
       "1084958   1293108        34.0     2100.0       122.0  1650.589979  168.615080   \n",
       "1084121   1292496         NaN     1003.0        73.0   396.515189   93.590591   \n",
       "1084252   1292643        50.0     2100.0        22.0  2062.829995  183.999358   \n",
       "1084254   1292670        30.0     2100.0        10.0   937.023497  127.857539   \n",
       "1084256   1292671        30.0     2100.0        10.0   918.200899  126.786386   \n",
       "\n",
       "             BASE_BBL    MPLUTO_BBL  GEOMSOURCE  \n",
       "1084958  5.063360e+09  5.063360e+09  Other (Man  \n",
       "1084121  3.014420e+09  3.014420e+09  Other (Man  \n",
       "1084252  3.027670e+09           NaN  Other (Man  \n",
       "1084254  5.046780e+09  5.046780e+09  Other (Man  \n",
       "1084256  5.046780e+09  5.046780e+09  Other (Man  "
      ]
     },
     "execution_count": 43,
     "metadata": {},
     "output_type": "execute_result"
    }
   ],
   "source": [
    "# printing the first 5 rows of our data sorted by the 'CNSTRCT_YR' column in descending order\n",
    "building_footprints.sort_values('CNSTRCT_YR',ascending=False).head()"
   ]
  },
  {
   "cell_type": "markdown",
   "metadata": {},
   "source": [
    "## 4.9 Plotting Histogram of Construction Years with Cleaned Column"
   ]
  },
  {
   "cell_type": "code",
   "execution_count": 44,
   "metadata": {},
   "outputs": [
    {
     "data": {
      "text/plain": [
       "Text(0.5, 1.0, 'Histogram of Construction Year Values')"
      ]
     },
     "execution_count": 44,
     "metadata": {},
     "output_type": "execute_result"
    },
    {
     "data": {
      "image/png": "[encoded data removed]",
      "text/plain": [
       "<Figure size 1080x720 with 1 Axes>"
      ]
     },
     "metadata": {
      "needs_background": "light"
     },
     "output_type": "display_data"
    }
   ],
   "source": [
    "# making a histogram of our 'CNSTRCT_YR' column with 10 bins\n",
    "building_footprints['CNSTRCT_YR'].hist(figsize=(15,10))\n",
    "plt.xlabel('Construction Year', fontsize=15)\n",
    "plt.ylabel('Counts', fontsize=15)\n",
    "plt.title('Histogram of Construction Year Values', fontsize=15)"
   ]
  },
  {
   "cell_type": "code",
   "execution_count": 45,
   "metadata": {},
   "outputs": [
    {
     "data": {
      "text/plain": [
       "count    1.084959e+06\n",
       "mean     1.938987e+03\n",
       "std      2.868540e+01\n",
       "min      1.652000e+03\n",
       "25%      1.920000e+03\n",
       "50%      1.930000e+03\n",
       "75%      1.955000e+03\n",
       "max      2.020000e+03\n",
       "Name: CNSTRCT_YR, dtype: float64"
      ]
     },
     "execution_count": 45,
     "metadata": {},
     "output_type": "execute_result"
    }
   ],
   "source": [
    "# printing descriptive statistics of our 'CNSTRCT_YR' column\n",
    "building_footprints['CNSTRCT_YR'].describe()"
   ]
  },
  {
   "cell_type": "code",
   "execution_count": 46,
   "metadata": {},
   "outputs": [
    {
     "data": {
      "text/plain": [
       "1920.0    131445\n",
       "1930.0    124736\n",
       "1925.0    109705\n",
       "1950.0     63008\n",
       "1910.0     52948\n",
       "           ...  \n",
       "1795.0         1\n",
       "1797.0         1\n",
       "1809.0         1\n",
       "1811.0         1\n",
       "1652.0         1\n",
       "Name: CNSTRCT_YR, Length: 246, dtype: int64"
      ]
     },
     "execution_count": 46,
     "metadata": {},
     "output_type": "execute_result"
    }
   ],
   "source": [
    "# return counts of unique values in descending order of our'CNSTRCT_YR' column\n",
    "building_footprints['CNSTRCT_YR'].value_counts()"
   ]
  },
  {
   "cell_type": "code",
   "execution_count": 47,
   "metadata": {},
   "outputs": [
    {
     "data": {
      "text/plain": [
       "1652.0       1\n",
       "1661.0       2\n",
       "1665.0       1\n",
       "1680.0       1\n",
       "1690.0       1\n",
       "          ... \n",
       "2016.0    1742\n",
       "2017.0    1866\n",
       "2018.0    2044\n",
       "2019.0     795\n",
       "2020.0     394\n",
       "Name: CNSTRCT_YR, Length: 246, dtype: int64"
      ]
     },
     "execution_count": 47,
     "metadata": {},
     "output_type": "execute_result"
    }
   ],
   "source": [
    "# return counts of unique values of our 'CNSTRCT_YR' column sorted by 'CNSTRCT_YR'\n",
    "building_footprints['CNSTRCT_YR'].value_counts().sort_index()"
   ]
  },
  {
   "cell_type": "code",
   "execution_count": 48,
   "metadata": {},
   "outputs": [
    {
     "data": {
      "text/plain": [
       "0"
      ]
     },
     "execution_count": 48,
     "metadata": {},
     "output_type": "execute_result"
    }
   ],
   "source": [
    "# summing null/na values in our 'CNSTRCT_YR' column\n",
    "building_footprints['CNSTRCT_YR'].isna().sum()"
   ]
  },
  {
   "cell_type": "code",
   "execution_count": 49,
   "metadata": {},
   "outputs": [
    {
     "data": {
      "text/html": [
       "<div>\n",
       "<style scoped>\n",
       "    .dataframe tbody tr th:only-of-type {\n",
       "        vertical-align: middle;\n",
       "    }\n",
       "\n",
       "    .dataframe tbody tr th {\n",
       "        vertical-align: top;\n",
       "    }\n",
       "\n",
       "    .dataframe thead th {\n",
       "        text-align: right;\n",
       "    }\n",
       "</style>\n",
       "<table border=\"1\" class=\"dataframe\">\n",
       "  <thead>\n",
       "    <tr style=\"text-align: right;\">\n",
       "      <th></th>\n",
       "      <th>CNSTRCT_YR</th>\n",
       "      <th>BIN</th>\n",
       "      <th>DOITT_ID</th>\n",
       "      <th>HEIGHTROOF</th>\n",
       "      <th>FEAT_CODE</th>\n",
       "      <th>GROUNDELEV</th>\n",
       "      <th>SHAPE_AREA</th>\n",
       "      <th>SHAPE_LEN</th>\n",
       "      <th>BASE_BBL</th>\n",
       "      <th>MPLUTO_BBL</th>\n",
       "    </tr>\n",
       "  </thead>\n",
       "  <tbody>\n",
       "    <tr>\n",
       "      <th>count</th>\n",
       "      <td>1.084959e+06</td>\n",
       "      <td>1.084959e+06</td>\n",
       "      <td>1.084959e+06</td>\n",
       "      <td>1.082294e+06</td>\n",
       "      <td>1.084950e+06</td>\n",
       "      <td>1.084430e+06</td>\n",
       "      <td>1.084959e+06</td>\n",
       "      <td>1.084959e+06</td>\n",
       "      <td>1.084957e+06</td>\n",
       "      <td>1.084423e+06</td>\n",
       "    </tr>\n",
       "    <tr>\n",
       "      <th>mean</th>\n",
       "      <td>1.938987e+03</td>\n",
       "      <td>3.710141e+06</td>\n",
       "      <td>5.909110e+05</td>\n",
       "      <td>2.754626e+01</td>\n",
       "      <td>2.698625e+03</td>\n",
       "      <td>5.509883e+01</td>\n",
       "      <td>1.596715e+03</td>\n",
       "      <td>1.553100e+02</td>\n",
       "      <td>3.561975e+09</td>\n",
       "      <td>3.561808e+09</td>\n",
       "    </tr>\n",
       "    <tr>\n",
       "      <th>std</th>\n",
       "      <td>2.868540e+01</td>\n",
       "      <td>1.026815e+06</td>\n",
       "      <td>3.592553e+05</td>\n",
       "      <td>2.131574e+01</td>\n",
       "      <td>1.202283e+03</td>\n",
       "      <td>4.150831e+01</td>\n",
       "      <td>5.600723e+03</td>\n",
       "      <td>1.271423e+02</td>\n",
       "      <td>9.860708e+08</td>\n",
       "      <td>9.861026e+08</td>\n",
       "    </tr>\n",
       "    <tr>\n",
       "      <th>min</th>\n",
       "      <td>1.652000e+03</td>\n",
       "      <td>1.000002e+06</td>\n",
       "      <td>1.000000e+00</td>\n",
       "      <td>0.000000e+00</td>\n",
       "      <td>0.000000e+00</td>\n",
       "      <td>-1.400000e+01</td>\n",
       "      <td>3.247526e+01</td>\n",
       "      <td>2.373699e+01</td>\n",
       "      <td>3.064269e+06</td>\n",
       "      <td>3.064269e+06</td>\n",
       "    </tr>\n",
       "    <tr>\n",
       "      <th>25%</th>\n",
       "      <td>1.920000e+03</td>\n",
       "      <td>3.128576e+06</td>\n",
       "      <td>2.865335e+05</td>\n",
       "      <td>1.834000e+01</td>\n",
       "      <td>2.100000e+03</td>\n",
       "      <td>2.500000e+01</td>\n",
       "      <td>6.520730e+02</td>\n",
       "      <td>1.096924e+02</td>\n",
       "      <td>3.043170e+09</td>\n",
       "      <td>3.043160e+09</td>\n",
       "    </tr>\n",
       "    <tr>\n",
       "      <th>50%</th>\n",
       "      <td>1.930000e+03</td>\n",
       "      <td>4.066817e+06</td>\n",
       "      <td>5.732300e+05</td>\n",
       "      <td>2.610000e+01</td>\n",
       "      <td>2.100000e+03</td>\n",
       "      <td>4.600000e+01</td>\n",
       "      <td>9.572074e+02</td>\n",
       "      <td>1.379178e+02</td>\n",
       "      <td>4.019280e+09</td>\n",
       "      <td>4.019180e+09</td>\n",
       "    </tr>\n",
       "    <tr>\n",
       "      <th>75%</th>\n",
       "      <td>1.955000e+03</td>\n",
       "      <td>4.481724e+06</td>\n",
       "      <td>8.615195e+05</td>\n",
       "      <td>3.109511e+01</td>\n",
       "      <td>2.100000e+03</td>\n",
       "      <td>7.400000e+01</td>\n",
       "      <td>1.320289e+03</td>\n",
       "      <td>1.644478e+02</td>\n",
       "      <td>4.106720e+09</td>\n",
       "      <td>4.106680e+09</td>\n",
       "    </tr>\n",
       "    <tr>\n",
       "      <th>max</th>\n",
       "      <td>2.020000e+03</td>\n",
       "      <td>5.799523e+06</td>\n",
       "      <td>1.293109e+06</td>\n",
       "      <td>1.550000e+03</td>\n",
       "      <td>5.110000e+03</td>\n",
       "      <td>5.560000e+02</td>\n",
       "      <td>1.171874e+06</td>\n",
       "      <td>2.001729e+04</td>\n",
       "      <td>6.000000e+09</td>\n",
       "      <td>6.000000e+09</td>\n",
       "    </tr>\n",
       "  </tbody>\n",
       "</table>\n",
       "</div>"
      ],
      "text/plain": [
       "         CNSTRCT_YR           BIN      DOITT_ID    HEIGHTROOF     FEAT_CODE  \\\n",
       "count  1.084959e+06  1.084959e+06  1.084959e+06  1.082294e+06  1.084950e+06   \n",
       "mean   1.938987e+03  3.710141e+06  5.909110e+05  2.754626e+01  2.698625e+03   \n",
       "std    2.868540e+01  1.026815e+06  3.592553e+05  2.131574e+01  1.202283e+03   \n",
       "min    1.652000e+03  1.000002e+06  1.000000e+00  0.000000e+00  0.000000e+00   \n",
       "25%    1.920000e+03  3.128576e+06  2.865335e+05  1.834000e+01  2.100000e+03   \n",
       "50%    1.930000e+03  4.066817e+06  5.732300e+05  2.610000e+01  2.100000e+03   \n",
       "75%    1.955000e+03  4.481724e+06  8.615195e+05  3.109511e+01  2.100000e+03   \n",
       "max    2.020000e+03  5.799523e+06  1.293109e+06  1.550000e+03  5.110000e+03   \n",
       "\n",
       "         GROUNDELEV    SHAPE_AREA     SHAPE_LEN      BASE_BBL    MPLUTO_BBL  \n",
       "count  1.084430e+06  1.084959e+06  1.084959e+06  1.084957e+06  1.084423e+06  \n",
       "mean   5.509883e+01  1.596715e+03  1.553100e+02  3.561975e+09  3.561808e+09  \n",
       "std    4.150831e+01  5.600723e+03  1.271423e+02  9.860708e+08  9.861026e+08  \n",
       "min   -1.400000e+01  3.247526e+01  2.373699e+01  3.064269e+06  3.064269e+06  \n",
       "25%    2.500000e+01  6.520730e+02  1.096924e+02  3.043170e+09  3.043160e+09  \n",
       "50%    4.600000e+01  9.572074e+02  1.379178e+02  4.019280e+09  4.019180e+09  \n",
       "75%    7.400000e+01  1.320289e+03  1.644478e+02  4.106720e+09  4.106680e+09  \n",
       "max    5.560000e+02  1.171874e+06  2.001729e+04  6.000000e+09  6.000000e+09  "
      ]
     },
     "execution_count": 49,
     "metadata": {},
     "output_type": "execute_result"
    }
   ],
   "source": [
    "# printing descriptive statistics of our data \n",
    "building_footprints.describe()"
   ]
  },
  {
   "cell_type": "code",
   "execution_count": 50,
   "metadata": {},
   "outputs": [
    {
     "data": {
      "text/plain": [
       "the_geom            0\n",
       "CNSTRCT_YR          0\n",
       "NAME          1083207\n",
       "BIN                 0\n",
       "LSTMODDATE          0\n",
       "LSTSTATYPE        190\n",
       "DOITT_ID            0\n",
       "HEIGHTROOF       2665\n",
       "FEAT_CODE           9\n",
       "GROUNDELEV        529\n",
       "SHAPE_AREA          0\n",
       "SHAPE_LEN           0\n",
       "BASE_BBL            2\n",
       "MPLUTO_BBL        536\n",
       "GEOMSOURCE        218\n",
       "dtype: int64"
      ]
     },
     "execution_count": 50,
     "metadata": {},
     "output_type": "execute_result"
    }
   ],
   "source": [
    "# printing the null/na values of each column in our data\n",
    "building_footprints.isna().sum()"
   ]
  },
  {
   "cell_type": "code",
   "execution_count": 51,
   "metadata": {},
   "outputs": [
    {
     "data": {
      "text/plain": [
       "Text(0.5, 1.0, 'Histogram of Construction Year Values')"
      ]
     },
     "execution_count": 51,
     "metadata": {},
     "output_type": "execute_result"
    },
    {
     "data": {
      "image/png": "[encoded data removed]",
      "text/plain": [
       "<Figure size 1080x720 with 1 Axes>"
      ]
     },
     "metadata": {
      "needs_background": "light"
     },
     "output_type": "display_data"
    }
   ],
   "source": [
    "# making a histogram of our 'CNSTRCT_YR' column with 10 bins\n",
    "building_footprints['CNSTRCT_YR'].hist(bins=10, figsize=(15,10))\n",
    "plt.xlabel('Construction Year', fontsize=15)\n",
    "plt.ylabel('Counts', fontsize=15)\n",
    "plt.title('Histogram of Construction Year Values', fontsize=15)"
   ]
  },
  {
   "cell_type": "code",
   "execution_count": 52,
   "metadata": {},
   "outputs": [
    {
     "data": {
      "text/plain": [
       "Text(0.5, 1.0, 'Histogram of Construction Year Values')"
      ]
     },
     "execution_count": 52,
     "metadata": {},
     "output_type": "execute_result"
    },
    {
     "data": {
      "image/png": "[encoded data removed]",
      "text/plain": [
       "<Figure size 1080x720 with 1 Axes>"
      ]
     },
     "metadata": {
      "needs_background": "light"
     },
     "output_type": "display_data"
    }
   ],
   "source": [
    "# making a histogram of our 'CNSTRCT_YR' column with 25 bins\n",
    "building_footprints['CNSTRCT_YR'].hist(bins=25, figsize=(15,10))\n",
    "plt.xlabel('Construction Year', fontsize=15)\n",
    "plt.ylabel('Counts', fontsize=15)\n",
    "plt.title('Histogram of Construction Year Values', fontsize=15)"
   ]
  },
  {
   "cell_type": "code",
   "execution_count": 53,
   "metadata": {
    "scrolled": false
   },
   "outputs": [
    {
     "data": {
      "text/plain": [
       "Text(0.5, 1.0, 'Histogram of Construction Year Values')"
      ]
     },
     "execution_count": 53,
     "metadata": {},
     "output_type": "execute_result"
    },
    {
     "data": {
      "image/png": "[encoded data removed]",
      "text/plain": [
       "<Figure size 1080x720 with 1 Axes>"
      ]
     },
     "metadata": {
      "needs_background": "light"
     },
     "output_type": "display_data"
    }
   ],
   "source": [
    "# making a histogram of our 'CNSTRCT_YR' column with 50 bins\n",
    "building_footprints['CNSTRCT_YR'].hist(bins=50, figsize=(15,10))\n",
    "plt.xlabel('Construction Year', fontsize=15)\n",
    "plt.ylabel('Counts', fontsize=15)\n",
    "plt.title('Histogram of Construction Year Values', fontsize=15)"
   ]
  },
  {
   "cell_type": "code",
   "execution_count": 54,
   "metadata": {},
   "outputs": [
    {
     "name": "stdout",
     "output_type": "stream",
     "text": [
      "1938.9873681862632\n",
      "1930.0\n"
     ]
    }
   ],
   "source": [
    "# printing mean and median of our 'CNSTRCT_YR' column\n",
    "print(building_footprints['CNSTRCT_YR'].mean())\n",
    "print(building_footprints['CNSTRCT_YR'].median())"
   ]
  },
  {
   "cell_type": "markdown",
   "metadata": {},
   "source": [
    "# 5. Detecting Outliers"
   ]
  },
  {
   "cell_type": "markdown",
   "metadata": {},
   "source": [
    "## 5.1 Making a Box Plot"
   ]
  },
  {
   "cell_type": "markdown",
   "metadata": {},
   "source": [
    "### 5.1.1 Calculating Interquartile Range (IQR)"
   ]
  },
  {
   "cell_type": "code",
   "execution_count": 55,
   "metadata": {},
   "outputs": [
    {
     "name": "stdout",
     "output_type": "stream",
     "text": [
      "1920.0\n",
      "1955.0\n"
     ]
    }
   ],
   "source": [
    "# printing the 25% and 75% quantiles of our 'CNSTRCT_YR' column\n",
    "print(building_footprints['CNSTRCT_YR'].quantile(0.25))\n",
    "print(building_footprints['CNSTRCT_YR'].quantile(0.75))"
   ]
  },
  {
   "cell_type": "code",
   "execution_count": 56,
   "metadata": {},
   "outputs": [],
   "source": [
    "# saving the 25% (i.e. Q1) and 75% (i.e. Q3) quantiles of our 'CNSTRCT_YR' column\n",
    "Q1 = building_footprints['CNSTRCT_YR'].quantile(0.25)\n",
    "Q3 = building_footprints['CNSTRCT_YR'].quantile(0.75)\n",
    "\n",
    "# Computing the interquartile range (IQR)\n",
    "IQR = Q3 - Q1"
   ]
  },
  {
   "cell_type": "code",
   "execution_count": 57,
   "metadata": {},
   "outputs": [
    {
     "data": {
      "text/plain": [
       "35.0"
      ]
     },
     "execution_count": 57,
     "metadata": {},
     "output_type": "execute_result"
    }
   ],
   "source": [
    "# printing the IQR of our 'CNSTRCT_YR' column\n",
    "IQR"
   ]
  },
  {
   "cell_type": "code",
   "execution_count": 58,
   "metadata": {},
   "outputs": [
    {
     "name": "stdout",
     "output_type": "stream",
     "text": [
      "1867.5\n",
      "2007.5\n"
     ]
    }
   ],
   "source": [
    "# printing the lower 1.5*IQR whisker = Q1 - 1.5 * IQR\n",
    "print((Q1 - 1.5 * IQR))\n",
    "\n",
    "# printing the upper 1.5*IQR whisker = Q1 - 1.5 * IQR\n",
    "print((Q3 + 1.5 * IQR))"
   ]
  },
  {
   "cell_type": "markdown",
   "metadata": {},
   "source": [
    "### 5.1.2 Box Plot of Construction Year Values"
   ]
  },
  {
   "cell_type": "code",
   "execution_count": 59,
   "metadata": {
    "scrolled": false
   },
   "outputs": [
    {
     "data": {
      "text/plain": [
       "Text(0.5, 1.0, 'Box Plot of Construction Year Value')"
      ]
     },
     "execution_count": 59,
     "metadata": {},
     "output_type": "execute_result"
    },
    {
     "data": {
      "image/png": "[encoded data removed]",
      "text/plain": [
       "<Figure size 1080x720 with 1 Axes>"
      ]
     },
     "metadata": {
      "needs_background": "light"
     },
     "output_type": "display_data"
    }
   ],
   "source": [
    "# making a box plot from our 'CNSTRCT_YR' column\n",
    "CNSTRCT_YR_boxplot = building_footprints.boxplot(column=['CNSTRCT_YR'], figsize=(15,10))\n",
    "plt.title('Box Plot of Construction Year Value', fontsize=15)"
   ]
  },
  {
   "cell_type": "markdown",
   "metadata": {},
   "source": [
    "### 5.1.3 Making Histograms of Values Above and Below Box Plot Whiskers"
   ]
  },
  {
   "cell_type": "code",
   "execution_count": 60,
   "metadata": {},
   "outputs": [
    {
     "data": {
      "image/png": "[encoded data removed]",
      "text/plain": [
       "<Figure size 1080x360 with 2 Axes>"
      ]
     },
     "metadata": {
      "needs_background": "light"
     },
     "output_type": "display_data"
    }
   ],
   "source": [
    "plt.figure(figsize=(15,5))\n",
    "\n",
    "# identifying values lower than our lower whisker\n",
    "floor = building_footprints[building_footprints.CNSTRCT_YR < (Q1 - 1.5 * IQR)] \n",
    "\n",
    "# identifying values higher than our upper whisker\n",
    "ceiling = building_footprints[building_footprints.CNSTRCT_YR > (Q3 + 1.5 * IQR)]\n",
    "\n",
    "#making histograms of these distributions\n",
    "plt.subplot(121)\n",
    "floor['CNSTRCT_YR'].hist()\n",
    "plt.xlabel('Construction Year')\n",
    "plt.ylabel('Counts')\n",
    "plt.title('Histogram of Construction Year Values Below Lower Whisker')\n",
    "\n",
    "plt.subplot(122)\n",
    "ceiling['CNSTRCT_YR'].hist()\n",
    "plt.xlabel('Construction Year')\n",
    "plt.ylabel('Counts')\n",
    "plt.title('Histogram of Construction Year Values Above Upper Whisker')\n",
    "\n",
    "plt.tight_layout()"
   ]
  },
  {
   "cell_type": "code",
   "execution_count": 61,
   "metadata": {},
   "outputs": [
    {
     "data": {
      "text/plain": [
       "1855.0    271\n",
       "1850.0    260\n",
       "1853.0    248\n",
       "1854.0    241\n",
       "1860.0    229\n",
       "         ... \n",
       "1694.0      1\n",
       "1747.0      1\n",
       "1775.0      1\n",
       "1719.0      1\n",
       "1735.0      1\n",
       "Name: CNSTRCT_YR, Length: 93, dtype: int64"
      ]
     },
     "execution_count": 61,
     "metadata": {},
     "output_type": "execute_result"
    }
   ],
   "source": [
    "# return counts of unique values in descending order lower than our lower whisker\n",
    "floor['CNSTRCT_YR'].value_counts()"
   ]
  },
  {
   "cell_type": "code",
   "execution_count": 62,
   "metadata": {},
   "outputs": [
    {
     "data": {
      "text/plain": [
       "1652.0      1\n",
       "1661.0      2\n",
       "1665.0      1\n",
       "1680.0      1\n",
       "1690.0      1\n",
       "         ... \n",
       "1863.0     67\n",
       "1864.0    108\n",
       "1865.0    141\n",
       "1866.0    152\n",
       "1867.0    174\n",
       "Name: CNSTRCT_YR, Length: 93, dtype: int64"
      ]
     },
     "execution_count": 62,
     "metadata": {},
     "output_type": "execute_result"
    }
   ],
   "source": [
    "# return counts of unique values lower than our lower whisker sorted by index (i.e. 'CNSTRCT_YR')\n",
    "floor['CNSTRCT_YR'].value_counts().sort_index()"
   ]
  },
  {
   "cell_type": "code",
   "execution_count": 63,
   "metadata": {},
   "outputs": [
    {
     "data": {
      "text/plain": [
       "array([1652., 1661., 1665., 1680., 1690., 1694., 1706., 1719., 1720.,\n",
       "       1722., 1725., 1729., 1735., 1747., 1750., 1758., 1765., 1766.,\n",
       "       1775., 1779., 1785., 1789., 1792., 1793., 1795., 1797., 1799.,\n",
       "       1800., 1801., 1802., 1803., 1804., 1807., 1808., 1809., 1810.,\n",
       "       1811., 1812., 1813., 1814., 1815., 1816., 1817., 1818., 1819.,\n",
       "       1820., 1821., 1822., 1823., 1824., 1825., 1826., 1827., 1828.,\n",
       "       1829., 1830., 1831., 1832., 1833., 1834., 1835., 1836., 1837.,\n",
       "       1838., 1839., 1840., 1841., 1842., 1843., 1844., 1845., 1846.,\n",
       "       1847., 1848., 1849., 1850., 1851., 1852., 1853., 1854., 1855.,\n",
       "       1856., 1857., 1858., 1859., 1860., 1861., 1862., 1863., 1864.,\n",
       "       1865., 1866., 1867.])"
      ]
     },
     "execution_count": 63,
     "metadata": {},
     "output_type": "execute_result"
    }
   ],
   "source": [
    "# printing the unique values lower than our lower whisker\n",
    "floor['CNSTRCT_YR'].sort_values().unique()"
   ]
  },
  {
   "cell_type": "code",
   "execution_count": 64,
   "metadata": {},
   "outputs": [
    {
     "data": {
      "text/plain": [
       "2008.0    3291\n",
       "2018.0    2044\n",
       "2009.0    1955\n",
       "2017.0    1866\n",
       "2016.0    1742\n",
       "2011.0    1487\n",
       "2012.0    1435\n",
       "2010.0    1366\n",
       "2015.0    1034\n",
       "2013.0     897\n",
       "2014.0     833\n",
       "2019.0     795\n",
       "2020.0     394\n",
       "Name: CNSTRCT_YR, dtype: int64"
      ]
     },
     "execution_count": 64,
     "metadata": {},
     "output_type": "execute_result"
    }
   ],
   "source": [
    "# return counts of unique values in descending order greater than our upper whisker\n",
    "ceiling['CNSTRCT_YR'].value_counts()"
   ]
  },
  {
   "cell_type": "code",
   "execution_count": 65,
   "metadata": {},
   "outputs": [
    {
     "data": {
      "text/html": [
       "<div>\n",
       "<style scoped>\n",
       "    .dataframe tbody tr th:only-of-type {\n",
       "        vertical-align: middle;\n",
       "    }\n",
       "\n",
       "    .dataframe tbody tr th {\n",
       "        vertical-align: top;\n",
       "    }\n",
       "\n",
       "    .dataframe thead th {\n",
       "        text-align: right;\n",
       "    }\n",
       "</style>\n",
       "<table border=\"1\" class=\"dataframe\">\n",
       "  <thead>\n",
       "    <tr style=\"text-align: right;\">\n",
       "      <th></th>\n",
       "      <th>the_geom</th>\n",
       "      <th>CNSTRCT_YR</th>\n",
       "      <th>NAME</th>\n",
       "      <th>BIN</th>\n",
       "      <th>LSTMODDATE</th>\n",
       "      <th>LSTSTATYPE</th>\n",
       "      <th>DOITT_ID</th>\n",
       "      <th>HEIGHTROOF</th>\n",
       "      <th>FEAT_CODE</th>\n",
       "      <th>GROUNDELEV</th>\n",
       "      <th>SHAPE_AREA</th>\n",
       "      <th>SHAPE_LEN</th>\n",
       "      <th>BASE_BBL</th>\n",
       "      <th>MPLUTO_BBL</th>\n",
       "      <th>GEOMSOURCE</th>\n",
       "    </tr>\n",
       "  </thead>\n",
       "  <tbody>\n",
       "    <tr>\n",
       "      <th>0</th>\n",
       "      <td>MULTIPOLYGON (((-73.87129515296562 40.65717370...</td>\n",
       "      <td>2009.0</td>\n",
       "      <td>NaN</td>\n",
       "      <td>3394646</td>\n",
       "      <td>08/22/2017 12:00:00 AM +0000</td>\n",
       "      <td>Constructed</td>\n",
       "      <td>1212853</td>\n",
       "      <td>21.608508</td>\n",
       "      <td>2100.0</td>\n",
       "      <td>18.0</td>\n",
       "      <td>854.662433</td>\n",
       "      <td>125.079796</td>\n",
       "      <td>3.044521e+09</td>\n",
       "      <td>3.044521e+09</td>\n",
       "      <td>Photogramm</td>\n",
       "    </tr>\n",
       "    <tr>\n",
       "      <th>1</th>\n",
       "      <td>MULTIPOLYGON (((-73.87670970144625 40.71425234...</td>\n",
       "      <td>1930.0</td>\n",
       "      <td>NaN</td>\n",
       "      <td>4548330</td>\n",
       "      <td>08/17/2017 12:00:00 AM +0000</td>\n",
       "      <td>Constructed</td>\n",
       "      <td>1226227</td>\n",
       "      <td>10.360000</td>\n",
       "      <td>5110.0</td>\n",
       "      <td>122.0</td>\n",
       "      <td>217.594243</td>\n",
       "      <td>60.225858</td>\n",
       "      <td>4.030640e+09</td>\n",
       "      <td>4.030640e+09</td>\n",
       "      <td>Photogramm</td>\n",
       "    </tr>\n",
       "    <tr>\n",
       "      <th>2</th>\n",
       "      <td>MULTIPOLYGON (((-73.85195485799383 40.66235471...</td>\n",
       "      <td>1960.0</td>\n",
       "      <td>NaN</td>\n",
       "      <td>4460479</td>\n",
       "      <td>08/22/2017 12:00:00 AM +0000</td>\n",
       "      <td>Constructed</td>\n",
       "      <td>581946</td>\n",
       "      <td>29.811570</td>\n",
       "      <td>2100.0</td>\n",
       "      <td>10.0</td>\n",
       "      <td>946.427476</td>\n",
       "      <td>123.141941</td>\n",
       "      <td>4.139430e+09</td>\n",
       "      <td>4.139430e+09</td>\n",
       "      <td>Photogramm</td>\n",
       "    </tr>\n",
       "    <tr>\n",
       "      <th>3</th>\n",
       "      <td>MULTIPOLYGON (((-73.94029215265738 40.64108287...</td>\n",
       "      <td>1920.0</td>\n",
       "      <td>NaN</td>\n",
       "      <td>3355684</td>\n",
       "      <td>08/17/2017 12:00:00 AM +0000</td>\n",
       "      <td>Constructed</td>\n",
       "      <td>858061</td>\n",
       "      <td>11.200000</td>\n",
       "      <td>5110.0</td>\n",
       "      <td>32.0</td>\n",
       "      <td>248.678169</td>\n",
       "      <td>63.940817</td>\n",
       "      <td>3.049720e+09</td>\n",
       "      <td>3.049720e+09</td>\n",
       "      <td>Photogramm</td>\n",
       "    </tr>\n",
       "    <tr>\n",
       "      <th>4</th>\n",
       "      <td>MULTIPOLYGON (((-73.98998983552244 40.62383804...</td>\n",
       "      <td>1915.0</td>\n",
       "      <td>NaN</td>\n",
       "      <td>3131737</td>\n",
       "      <td>08/22/2017 12:00:00 AM +0000</td>\n",
       "      <td>Constructed</td>\n",
       "      <td>568078</td>\n",
       "      <td>24.980000</td>\n",
       "      <td>2100.0</td>\n",
       "      <td>44.0</td>\n",
       "      <td>1163.227669</td>\n",
       "      <td>165.608763</td>\n",
       "      <td>3.055100e+09</td>\n",
       "      <td>3.055100e+09</td>\n",
       "      <td>Photogramm</td>\n",
       "    </tr>\n",
       "  </tbody>\n",
       "</table>\n",
       "</div>"
      ],
      "text/plain": [
       "                                            the_geom  CNSTRCT_YR NAME  \\\n",
       "0  MULTIPOLYGON (((-73.87129515296562 40.65717370...      2009.0  NaN   \n",
       "1  MULTIPOLYGON (((-73.87670970144625 40.71425234...      1930.0  NaN   \n",
       "2  MULTIPOLYGON (((-73.85195485799383 40.66235471...      1960.0  NaN   \n",
       "3  MULTIPOLYGON (((-73.94029215265738 40.64108287...      1920.0  NaN   \n",
       "4  MULTIPOLYGON (((-73.98998983552244 40.62383804...      1915.0  NaN   \n",
       "\n",
       "       BIN                    LSTMODDATE   LSTSTATYPE  DOITT_ID  HEIGHTROOF  \\\n",
       "0  3394646  08/22/2017 12:00:00 AM +0000  Constructed   1212853   21.608508   \n",
       "1  4548330  08/17/2017 12:00:00 AM +0000  Constructed   1226227   10.360000   \n",
       "2  4460479  08/22/2017 12:00:00 AM +0000  Constructed    581946   29.811570   \n",
       "3  3355684  08/17/2017 12:00:00 AM +0000  Constructed    858061   11.200000   \n",
       "4  3131737  08/22/2017 12:00:00 AM +0000  Constructed    568078   24.980000   \n",
       "\n",
       "   FEAT_CODE  GROUNDELEV   SHAPE_AREA   SHAPE_LEN      BASE_BBL    MPLUTO_BBL  \\\n",
       "0     2100.0        18.0   854.662433  125.079796  3.044521e+09  3.044521e+09   \n",
       "1     5110.0       122.0   217.594243   60.225858  4.030640e+09  4.030640e+09   \n",
       "2     2100.0        10.0   946.427476  123.141941  4.139430e+09  4.139430e+09   \n",
       "3     5110.0        32.0   248.678169   63.940817  3.049720e+09  3.049720e+09   \n",
       "4     2100.0        44.0  1163.227669  165.608763  3.055100e+09  3.055100e+09   \n",
       "\n",
       "   GEOMSOURCE  \n",
       "0  Photogramm  \n",
       "1  Photogramm  \n",
       "2  Photogramm  \n",
       "3  Photogramm  \n",
       "4  Photogramm  "
      ]
     },
     "execution_count": 65,
     "metadata": {},
     "output_type": "execute_result"
    }
   ],
   "source": [
    "# previewing first five rows of our data\n",
    "building_footprints.head()"
   ]
  },
  {
   "cell_type": "markdown",
   "metadata": {},
   "source": [
    "## 5.2. Z-Scores"
   ]
  },
  {
   "cell_type": "markdown",
   "metadata": {},
   "source": [
    "### 5.2.1 Calculating Z-Scores"
   ]
  },
  {
   "cell_type": "code",
   "execution_count": 66,
   "metadata": {},
   "outputs": [],
   "source": [
    "# calculating the z score of our 'CNSTRCT_YR' column\n",
    "building_footprints['CNSTRCT_YR_zscore'] = (building_footprints.CNSTRCT_YR - building_footprints.CNSTRCT_YR.mean())/building_footprints.CNSTRCT_YR.std()"
   ]
  },
  {
   "cell_type": "code",
   "execution_count": 67,
   "metadata": {},
   "outputs": [
    {
     "data": {
      "text/html": [
       "<div>\n",
       "<style scoped>\n",
       "    .dataframe tbody tr th:only-of-type {\n",
       "        vertical-align: middle;\n",
       "    }\n",
       "\n",
       "    .dataframe tbody tr th {\n",
       "        vertical-align: top;\n",
       "    }\n",
       "\n",
       "    .dataframe thead th {\n",
       "        text-align: right;\n",
       "    }\n",
       "</style>\n",
       "<table border=\"1\" class=\"dataframe\">\n",
       "  <thead>\n",
       "    <tr style=\"text-align: right;\">\n",
       "      <th></th>\n",
       "      <th>CNSTRCT_YR</th>\n",
       "      <th>CNSTRCT_YR_zscore</th>\n",
       "    </tr>\n",
       "  </thead>\n",
       "  <tbody>\n",
       "    <tr>\n",
       "      <th>0</th>\n",
       "      <td>2009.0</td>\n",
       "      <td>2.440706</td>\n",
       "    </tr>\n",
       "    <tr>\n",
       "      <th>1</th>\n",
       "      <td>1930.0</td>\n",
       "      <td>-0.313308</td>\n",
       "    </tr>\n",
       "    <tr>\n",
       "      <th>2</th>\n",
       "      <td>1960.0</td>\n",
       "      <td>0.732520</td>\n",
       "    </tr>\n",
       "    <tr>\n",
       "      <th>3</th>\n",
       "      <td>1920.0</td>\n",
       "      <td>-0.661917</td>\n",
       "    </tr>\n",
       "    <tr>\n",
       "      <th>4</th>\n",
       "      <td>1915.0</td>\n",
       "      <td>-0.836222</td>\n",
       "    </tr>\n",
       "  </tbody>\n",
       "</table>\n",
       "</div>"
      ],
      "text/plain": [
       "   CNSTRCT_YR  CNSTRCT_YR_zscore\n",
       "0      2009.0           2.440706\n",
       "1      1930.0          -0.313308\n",
       "2      1960.0           0.732520\n",
       "3      1920.0          -0.661917\n",
       "4      1915.0          -0.836222"
      ]
     },
     "execution_count": 67,
     "metadata": {},
     "output_type": "execute_result"
    }
   ],
   "source": [
    "# making a separate dataframe with only the columns ['CNSTRCT_YR', 'CNSTRCT_YR_zscore']\n",
    "CNSTRCT_YR_zscore = building_footprints[['CNSTRCT_YR', 'CNSTRCT_YR_zscore']]\n",
    "CNSTRCT_YR_zscore.head()"
   ]
  },
  {
   "cell_type": "code",
   "execution_count": 68,
   "metadata": {},
   "outputs": [
    {
     "data": {
      "text/html": [
       "<div>\n",
       "<style scoped>\n",
       "    .dataframe tbody tr th:only-of-type {\n",
       "        vertical-align: middle;\n",
       "    }\n",
       "\n",
       "    .dataframe tbody tr th {\n",
       "        vertical-align: top;\n",
       "    }\n",
       "\n",
       "    .dataframe thead th {\n",
       "        text-align: right;\n",
       "    }\n",
       "</style>\n",
       "<table border=\"1\" class=\"dataframe\">\n",
       "  <thead>\n",
       "    <tr style=\"text-align: right;\">\n",
       "      <th></th>\n",
       "      <th>CNSTRCT_YR</th>\n",
       "      <th>CNSTRCT_YR_zscore</th>\n",
       "    </tr>\n",
       "  </thead>\n",
       "  <tbody>\n",
       "    <tr>\n",
       "      <th>1079368</th>\n",
       "      <td>1652.0</td>\n",
       "      <td>-10.004648</td>\n",
       "    </tr>\n",
       "    <tr>\n",
       "      <th>801841</th>\n",
       "      <td>1661.0</td>\n",
       "      <td>-9.690900</td>\n",
       "    </tr>\n",
       "    <tr>\n",
       "      <th>483069</th>\n",
       "      <td>1661.0</td>\n",
       "      <td>-9.690900</td>\n",
       "    </tr>\n",
       "    <tr>\n",
       "      <th>964878</th>\n",
       "      <td>1665.0</td>\n",
       "      <td>-9.551456</td>\n",
       "    </tr>\n",
       "    <tr>\n",
       "      <th>1083906</th>\n",
       "      <td>1680.0</td>\n",
       "      <td>-9.028542</td>\n",
       "    </tr>\n",
       "    <tr>\n",
       "      <th>...</th>\n",
       "      <td>...</td>\n",
       "      <td>...</td>\n",
       "    </tr>\n",
       "    <tr>\n",
       "      <th>1083691</th>\n",
       "      <td>2020.0</td>\n",
       "      <td>2.824176</td>\n",
       "    </tr>\n",
       "    <tr>\n",
       "      <th>1061837</th>\n",
       "      <td>2020.0</td>\n",
       "      <td>2.824176</td>\n",
       "    </tr>\n",
       "    <tr>\n",
       "      <th>1083694</th>\n",
       "      <td>2020.0</td>\n",
       "      <td>2.824176</td>\n",
       "    </tr>\n",
       "    <tr>\n",
       "      <th>1082903</th>\n",
       "      <td>2020.0</td>\n",
       "      <td>2.824176</td>\n",
       "    </tr>\n",
       "    <tr>\n",
       "      <th>1084958</th>\n",
       "      <td>2020.0</td>\n",
       "      <td>2.824176</td>\n",
       "    </tr>\n",
       "  </tbody>\n",
       "</table>\n",
       "<p>1084959 rows × 2 columns</p>\n",
       "</div>"
      ],
      "text/plain": [
       "         CNSTRCT_YR  CNSTRCT_YR_zscore\n",
       "1079368      1652.0         -10.004648\n",
       "801841       1661.0          -9.690900\n",
       "483069       1661.0          -9.690900\n",
       "964878       1665.0          -9.551456\n",
       "1083906      1680.0          -9.028542\n",
       "...             ...                ...\n",
       "1083691      2020.0           2.824176\n",
       "1061837      2020.0           2.824176\n",
       "1083694      2020.0           2.824176\n",
       "1082903      2020.0           2.824176\n",
       "1084958      2020.0           2.824176\n",
       "\n",
       "[1084959 rows x 2 columns]"
      ]
     },
     "execution_count": 68,
     "metadata": {},
     "output_type": "execute_result"
    }
   ],
   "source": [
    "# sorting by CNSTRCT_YR_zscore in ascending order\n",
    "CNSTRCT_YR_zscore.sort_values(by='CNSTRCT_YR_zscore')"
   ]
  },
  {
   "cell_type": "code",
   "execution_count": 69,
   "metadata": {},
   "outputs": [
    {
     "data": {
      "text/html": [
       "<div>\n",
       "<style scoped>\n",
       "    .dataframe tbody tr th:only-of-type {\n",
       "        vertical-align: middle;\n",
       "    }\n",
       "\n",
       "    .dataframe tbody tr th {\n",
       "        vertical-align: top;\n",
       "    }\n",
       "\n",
       "    .dataframe thead th {\n",
       "        text-align: right;\n",
       "    }\n",
       "</style>\n",
       "<table border=\"1\" class=\"dataframe\">\n",
       "  <thead>\n",
       "    <tr style=\"text-align: right;\">\n",
       "      <th></th>\n",
       "      <th>CNSTRCT_YR</th>\n",
       "      <th>CNSTRCT_YR_zscore</th>\n",
       "    </tr>\n",
       "  </thead>\n",
       "  <tbody>\n",
       "    <tr>\n",
       "      <th>1084958</th>\n",
       "      <td>2020.0</td>\n",
       "      <td>2.824176</td>\n",
       "    </tr>\n",
       "    <tr>\n",
       "      <th>1084121</th>\n",
       "      <td>2020.0</td>\n",
       "      <td>2.824176</td>\n",
       "    </tr>\n",
       "    <tr>\n",
       "      <th>1084252</th>\n",
       "      <td>2020.0</td>\n",
       "      <td>2.824176</td>\n",
       "    </tr>\n",
       "    <tr>\n",
       "      <th>1084254</th>\n",
       "      <td>2020.0</td>\n",
       "      <td>2.824176</td>\n",
       "    </tr>\n",
       "    <tr>\n",
       "      <th>1084256</th>\n",
       "      <td>2020.0</td>\n",
       "      <td>2.824176</td>\n",
       "    </tr>\n",
       "    <tr>\n",
       "      <th>...</th>\n",
       "      <td>...</td>\n",
       "      <td>...</td>\n",
       "    </tr>\n",
       "    <tr>\n",
       "      <th>1083906</th>\n",
       "      <td>1680.0</td>\n",
       "      <td>-9.028542</td>\n",
       "    </tr>\n",
       "    <tr>\n",
       "      <th>964878</th>\n",
       "      <td>1665.0</td>\n",
       "      <td>-9.551456</td>\n",
       "    </tr>\n",
       "    <tr>\n",
       "      <th>801841</th>\n",
       "      <td>1661.0</td>\n",
       "      <td>-9.690900</td>\n",
       "    </tr>\n",
       "    <tr>\n",
       "      <th>483069</th>\n",
       "      <td>1661.0</td>\n",
       "      <td>-9.690900</td>\n",
       "    </tr>\n",
       "    <tr>\n",
       "      <th>1079368</th>\n",
       "      <td>1652.0</td>\n",
       "      <td>-10.004648</td>\n",
       "    </tr>\n",
       "  </tbody>\n",
       "</table>\n",
       "<p>1084959 rows × 2 columns</p>\n",
       "</div>"
      ],
      "text/plain": [
       "         CNSTRCT_YR  CNSTRCT_YR_zscore\n",
       "1084958      2020.0           2.824176\n",
       "1084121      2020.0           2.824176\n",
       "1084252      2020.0           2.824176\n",
       "1084254      2020.0           2.824176\n",
       "1084256      2020.0           2.824176\n",
       "...             ...                ...\n",
       "1083906      1680.0          -9.028542\n",
       "964878       1665.0          -9.551456\n",
       "801841       1661.0          -9.690900\n",
       "483069       1661.0          -9.690900\n",
       "1079368      1652.0         -10.004648\n",
       "\n",
       "[1084959 rows x 2 columns]"
      ]
     },
     "execution_count": 69,
     "metadata": {},
     "output_type": "execute_result"
    }
   ],
   "source": [
    "# sorting by CNSTRCT_YR_zscore in descending order\n",
    "CNSTRCT_YR_zscore.sort_values(by='CNSTRCT_YR_zscore', ascending=False)"
   ]
  },
  {
   "cell_type": "code",
   "execution_count": 70,
   "metadata": {},
   "outputs": [
    {
     "data": {
      "text/plain": [
       "1084959"
      ]
     },
     "execution_count": 70,
     "metadata": {},
     "output_type": "execute_result"
    }
   ],
   "source": [
    "len(CNSTRCT_YR_zscore)"
   ]
  },
  {
   "cell_type": "code",
   "execution_count": 71,
   "metadata": {},
   "outputs": [
    {
     "data": {
      "text/plain": [
       "CNSTRCT_YR           float64\n",
       "CNSTRCT_YR_zscore    float64\n",
       "dtype: object"
      ]
     },
     "execution_count": 71,
     "metadata": {},
     "output_type": "execute_result"
    }
   ],
   "source": [
    "CNSTRCT_YR_zscore.dtypes"
   ]
  },
  {
   "cell_type": "markdown",
   "metadata": {},
   "source": [
    "### 5.2.2 Identifying Possible Outliers from Z-Score"
   ]
  },
  {
   "cell_type": "code",
   "execution_count": 72,
   "metadata": {},
   "outputs": [],
   "source": [
    "# returning values in 'CNSTRCT_YR_zscore' column not between -3 and 3\n",
    "outside_zscore = CNSTRCT_YR_zscore[~CNSTRCT_YR_zscore['CNSTRCT_YR_zscore'].between(-3, 3, inclusive=True)]"
   ]
  },
  {
   "cell_type": "code",
   "execution_count": 73,
   "metadata": {},
   "outputs": [
    {
     "data": {
      "text/html": [
       "<div>\n",
       "<style scoped>\n",
       "    .dataframe tbody tr th:only-of-type {\n",
       "        vertical-align: middle;\n",
       "    }\n",
       "\n",
       "    .dataframe tbody tr th {\n",
       "        vertical-align: top;\n",
       "    }\n",
       "\n",
       "    .dataframe thead th {\n",
       "        text-align: right;\n",
       "    }\n",
       "</style>\n",
       "<table border=\"1\" class=\"dataframe\">\n",
       "  <thead>\n",
       "    <tr style=\"text-align: right;\">\n",
       "      <th></th>\n",
       "      <th>CNSTRCT_YR</th>\n",
       "      <th>CNSTRCT_YR_zscore</th>\n",
       "    </tr>\n",
       "  </thead>\n",
       "  <tbody>\n",
       "    <tr>\n",
       "      <th>3246</th>\n",
       "      <td>1843.0</td>\n",
       "      <td>-3.346209</td>\n",
       "    </tr>\n",
       "    <tr>\n",
       "      <th>6666</th>\n",
       "      <td>1850.0</td>\n",
       "      <td>-3.102183</td>\n",
       "    </tr>\n",
       "    <tr>\n",
       "      <th>9199</th>\n",
       "      <td>1850.0</td>\n",
       "      <td>-3.102183</td>\n",
       "    </tr>\n",
       "    <tr>\n",
       "      <th>11124</th>\n",
       "      <td>1850.0</td>\n",
       "      <td>-3.102183</td>\n",
       "    </tr>\n",
       "    <tr>\n",
       "      <th>11434</th>\n",
       "      <td>1836.0</td>\n",
       "      <td>-3.590236</td>\n",
       "    </tr>\n",
       "  </tbody>\n",
       "</table>\n",
       "</div>"
      ],
      "text/plain": [
       "       CNSTRCT_YR  CNSTRCT_YR_zscore\n",
       "3246       1843.0          -3.346209\n",
       "6666       1850.0          -3.102183\n",
       "9199       1850.0          -3.102183\n",
       "11124      1850.0          -3.102183\n",
       "11434      1836.0          -3.590236"
      ]
     },
     "execution_count": 73,
     "metadata": {},
     "output_type": "execute_result"
    }
   ],
   "source": [
    "# previewing first five rows \n",
    "outside_zscore.head()"
   ]
  },
  {
   "cell_type": "code",
   "execution_count": 74,
   "metadata": {},
   "outputs": [
    {
     "data": {
      "text/html": [
       "<div>\n",
       "<style scoped>\n",
       "    .dataframe tbody tr th:only-of-type {\n",
       "        vertical-align: middle;\n",
       "    }\n",
       "\n",
       "    .dataframe tbody tr th {\n",
       "        vertical-align: top;\n",
       "    }\n",
       "\n",
       "    .dataframe thead th {\n",
       "        text-align: right;\n",
       "    }\n",
       "</style>\n",
       "<table border=\"1\" class=\"dataframe\">\n",
       "  <thead>\n",
       "    <tr style=\"text-align: right;\">\n",
       "      <th></th>\n",
       "      <th>CNSTRCT_YR</th>\n",
       "      <th>CNSTRCT_YR_zscore</th>\n",
       "    </tr>\n",
       "  </thead>\n",
       "  <tbody>\n",
       "    <tr>\n",
       "      <th>3246</th>\n",
       "      <td>1843.0</td>\n",
       "      <td>-3.346209</td>\n",
       "    </tr>\n",
       "    <tr>\n",
       "      <th>6666</th>\n",
       "      <td>1850.0</td>\n",
       "      <td>-3.102183</td>\n",
       "    </tr>\n",
       "    <tr>\n",
       "      <th>9199</th>\n",
       "      <td>1850.0</td>\n",
       "      <td>-3.102183</td>\n",
       "    </tr>\n",
       "    <tr>\n",
       "      <th>11124</th>\n",
       "      <td>1850.0</td>\n",
       "      <td>-3.102183</td>\n",
       "    </tr>\n",
       "    <tr>\n",
       "      <th>11434</th>\n",
       "      <td>1836.0</td>\n",
       "      <td>-3.590236</td>\n",
       "    </tr>\n",
       "  </tbody>\n",
       "</table>\n",
       "</div>"
      ],
      "text/plain": [
       "       CNSTRCT_YR  CNSTRCT_YR_zscore\n",
       "3246       1843.0          -3.346209\n",
       "6666       1850.0          -3.102183\n",
       "9199       1850.0          -3.102183\n",
       "11124      1850.0          -3.102183\n",
       "11434      1836.0          -3.590236"
      ]
     },
     "execution_count": 74,
     "metadata": {},
     "output_type": "execute_result"
    }
   ],
   "source": [
    "# previewing first five rows \n",
    "outside_zscore.head()"
   ]
  },
  {
   "cell_type": "code",
   "execution_count": 75,
   "metadata": {},
   "outputs": [
    {
     "data": {
      "text/html": [
       "<div>\n",
       "<style scoped>\n",
       "    .dataframe tbody tr th:only-of-type {\n",
       "        vertical-align: middle;\n",
       "    }\n",
       "\n",
       "    .dataframe tbody tr th {\n",
       "        vertical-align: top;\n",
       "    }\n",
       "\n",
       "    .dataframe thead th {\n",
       "        text-align: right;\n",
       "    }\n",
       "</style>\n",
       "<table border=\"1\" class=\"dataframe\">\n",
       "  <thead>\n",
       "    <tr style=\"text-align: right;\">\n",
       "      <th></th>\n",
       "      <th>CNSTRCT_YR</th>\n",
       "      <th>CNSTRCT_YR_zscore</th>\n",
       "    </tr>\n",
       "  </thead>\n",
       "  <tbody>\n",
       "    <tr>\n",
       "      <th>1079368</th>\n",
       "      <td>1652.0</td>\n",
       "      <td>-10.004648</td>\n",
       "    </tr>\n",
       "    <tr>\n",
       "      <th>801841</th>\n",
       "      <td>1661.0</td>\n",
       "      <td>-9.690900</td>\n",
       "    </tr>\n",
       "    <tr>\n",
       "      <th>483069</th>\n",
       "      <td>1661.0</td>\n",
       "      <td>-9.690900</td>\n",
       "    </tr>\n",
       "    <tr>\n",
       "      <th>964878</th>\n",
       "      <td>1665.0</td>\n",
       "      <td>-9.551456</td>\n",
       "    </tr>\n",
       "    <tr>\n",
       "      <th>1083906</th>\n",
       "      <td>1680.0</td>\n",
       "      <td>-9.028542</td>\n",
       "    </tr>\n",
       "    <tr>\n",
       "      <th>...</th>\n",
       "      <td>...</td>\n",
       "      <td>...</td>\n",
       "    </tr>\n",
       "    <tr>\n",
       "      <th>1078530</th>\n",
       "      <td>1852.0</td>\n",
       "      <td>-3.032461</td>\n",
       "    </tr>\n",
       "    <tr>\n",
       "      <th>498843</th>\n",
       "      <td>1852.0</td>\n",
       "      <td>-3.032461</td>\n",
       "    </tr>\n",
       "    <tr>\n",
       "      <th>505226</th>\n",
       "      <td>1852.0</td>\n",
       "      <td>-3.032461</td>\n",
       "    </tr>\n",
       "    <tr>\n",
       "      <th>1069623</th>\n",
       "      <td>1852.0</td>\n",
       "      <td>-3.032461</td>\n",
       "    </tr>\n",
       "    <tr>\n",
       "      <th>1067989</th>\n",
       "      <td>1852.0</td>\n",
       "      <td>-3.032461</td>\n",
       "    </tr>\n",
       "  </tbody>\n",
       "</table>\n",
       "<p>2926 rows × 2 columns</p>\n",
       "</div>"
      ],
      "text/plain": [
       "         CNSTRCT_YR  CNSTRCT_YR_zscore\n",
       "1079368      1652.0         -10.004648\n",
       "801841       1661.0          -9.690900\n",
       "483069       1661.0          -9.690900\n",
       "964878       1665.0          -9.551456\n",
       "1083906      1680.0          -9.028542\n",
       "...             ...                ...\n",
       "1078530      1852.0          -3.032461\n",
       "498843       1852.0          -3.032461\n",
       "505226       1852.0          -3.032461\n",
       "1069623      1852.0          -3.032461\n",
       "1067989      1852.0          -3.032461\n",
       "\n",
       "[2926 rows x 2 columns]"
      ]
     },
     "execution_count": 75,
     "metadata": {},
     "output_type": "execute_result"
    }
   ],
   "source": [
    "# sorting values in 'CNSTRCT_YR_zscore' in ascending order\n",
    "outside_zscore.sort_values(by='CNSTRCT_YR_zscore')"
   ]
  },
  {
   "cell_type": "code",
   "execution_count": 76,
   "metadata": {},
   "outputs": [
    {
     "data": {
      "text/html": [
       "<div>\n",
       "<style scoped>\n",
       "    .dataframe tbody tr th:only-of-type {\n",
       "        vertical-align: middle;\n",
       "    }\n",
       "\n",
       "    .dataframe tbody tr th {\n",
       "        vertical-align: top;\n",
       "    }\n",
       "\n",
       "    .dataframe thead th {\n",
       "        text-align: right;\n",
       "    }\n",
       "</style>\n",
       "<table border=\"1\" class=\"dataframe\">\n",
       "  <thead>\n",
       "    <tr style=\"text-align: right;\">\n",
       "      <th></th>\n",
       "      <th>CNSTRCT_YR</th>\n",
       "      <th>CNSTRCT_YR_zscore</th>\n",
       "    </tr>\n",
       "  </thead>\n",
       "  <tbody>\n",
       "    <tr>\n",
       "      <th>1076031</th>\n",
       "      <td>1852.0</td>\n",
       "      <td>-3.032461</td>\n",
       "    </tr>\n",
       "    <tr>\n",
       "      <th>1080971</th>\n",
       "      <td>1852.0</td>\n",
       "      <td>-3.032461</td>\n",
       "    </tr>\n",
       "    <tr>\n",
       "      <th>772189</th>\n",
       "      <td>1852.0</td>\n",
       "      <td>-3.032461</td>\n",
       "    </tr>\n",
       "    <tr>\n",
       "      <th>1068179</th>\n",
       "      <td>1852.0</td>\n",
       "      <td>-3.032461</td>\n",
       "    </tr>\n",
       "    <tr>\n",
       "      <th>1075382</th>\n",
       "      <td>1852.0</td>\n",
       "      <td>-3.032461</td>\n",
       "    </tr>\n",
       "    <tr>\n",
       "      <th>...</th>\n",
       "      <td>...</td>\n",
       "      <td>...</td>\n",
       "    </tr>\n",
       "    <tr>\n",
       "      <th>1083906</th>\n",
       "      <td>1680.0</td>\n",
       "      <td>-9.028542</td>\n",
       "    </tr>\n",
       "    <tr>\n",
       "      <th>964878</th>\n",
       "      <td>1665.0</td>\n",
       "      <td>-9.551456</td>\n",
       "    </tr>\n",
       "    <tr>\n",
       "      <th>483069</th>\n",
       "      <td>1661.0</td>\n",
       "      <td>-9.690900</td>\n",
       "    </tr>\n",
       "    <tr>\n",
       "      <th>801841</th>\n",
       "      <td>1661.0</td>\n",
       "      <td>-9.690900</td>\n",
       "    </tr>\n",
       "    <tr>\n",
       "      <th>1079368</th>\n",
       "      <td>1652.0</td>\n",
       "      <td>-10.004648</td>\n",
       "    </tr>\n",
       "  </tbody>\n",
       "</table>\n",
       "<p>2926 rows × 2 columns</p>\n",
       "</div>"
      ],
      "text/plain": [
       "         CNSTRCT_YR  CNSTRCT_YR_zscore\n",
       "1076031      1852.0          -3.032461\n",
       "1080971      1852.0          -3.032461\n",
       "772189       1852.0          -3.032461\n",
       "1068179      1852.0          -3.032461\n",
       "1075382      1852.0          -3.032461\n",
       "...             ...                ...\n",
       "1083906      1680.0          -9.028542\n",
       "964878       1665.0          -9.551456\n",
       "483069       1661.0          -9.690900\n",
       "801841       1661.0          -9.690900\n",
       "1079368      1652.0         -10.004648\n",
       "\n",
       "[2926 rows x 2 columns]"
      ]
     },
     "execution_count": 76,
     "metadata": {},
     "output_type": "execute_result"
    }
   ],
   "source": [
    "# sorting values in 'CNSTRCT_YR_zscore' in descending order\n",
    "outside_zscore.sort_values(by='CNSTRCT_YR_zscore', ascending=False)"
   ]
  },
  {
   "cell_type": "code",
   "execution_count": 77,
   "metadata": {},
   "outputs": [
    {
     "data": {
      "text/plain": [
       "2926"
      ]
     },
     "execution_count": 77,
     "metadata": {},
     "output_type": "execute_result"
    }
   ],
   "source": [
    "# printing number of rows\n",
    "len(outside_zscore)"
   ]
  },
  {
   "cell_type": "markdown",
   "metadata": {},
   "source": [
    "### 5.2.3 Making Histograms of Construction Year Raw and Normalized (Z-Score) Values"
   ]
  },
  {
   "cell_type": "code",
   "execution_count": 78,
   "metadata": {},
   "outputs": [
    {
     "data": {
      "text/plain": [
       "array([[<matplotlib.axes._subplots.AxesSubplot object at 0x1232c6748>,\n",
       "        <matplotlib.axes._subplots.AxesSubplot object at 0x122a3c048>]],\n",
       "      dtype=object)"
      ]
     },
     "execution_count": 78,
     "metadata": {},
     "output_type": "execute_result"
    },
    {
     "data": {
      "image/png": "[encoded data removed]",
      "text/plain": [
       "<Figure size 1800x720 with 2 Axes>"
      ]
     },
     "metadata": {
      "needs_background": "light"
     },
     "output_type": "display_data"
    }
   ],
   "source": [
    "# making histograms of the distributions of both columns\n",
    "CNSTRCT_YR_zscore.hist(bins=25, figsize=(25,10))"
   ]
  },
  {
   "cell_type": "code",
   "execution_count": 79,
   "metadata": {},
   "outputs": [
    {
     "data": {
      "text/html": [
       "<div>\n",
       "<style scoped>\n",
       "    .dataframe tbody tr th:only-of-type {\n",
       "        vertical-align: middle;\n",
       "    }\n",
       "\n",
       "    .dataframe tbody tr th {\n",
       "        vertical-align: top;\n",
       "    }\n",
       "\n",
       "    .dataframe thead th {\n",
       "        text-align: right;\n",
       "    }\n",
       "</style>\n",
       "<table border=\"1\" class=\"dataframe\">\n",
       "  <thead>\n",
       "    <tr style=\"text-align: right;\">\n",
       "      <th></th>\n",
       "      <th>the_geom</th>\n",
       "      <th>CNSTRCT_YR</th>\n",
       "      <th>NAME</th>\n",
       "      <th>BIN</th>\n",
       "      <th>LSTMODDATE</th>\n",
       "      <th>LSTSTATYPE</th>\n",
       "      <th>DOITT_ID</th>\n",
       "      <th>HEIGHTROOF</th>\n",
       "      <th>FEAT_CODE</th>\n",
       "      <th>GROUNDELEV</th>\n",
       "      <th>SHAPE_AREA</th>\n",
       "      <th>SHAPE_LEN</th>\n",
       "      <th>BASE_BBL</th>\n",
       "      <th>MPLUTO_BBL</th>\n",
       "      <th>GEOMSOURCE</th>\n",
       "      <th>CNSTRCT_YR_zscore</th>\n",
       "    </tr>\n",
       "  </thead>\n",
       "  <tbody>\n",
       "    <tr>\n",
       "      <th>0</th>\n",
       "      <td>MULTIPOLYGON (((-73.87129515296562 40.65717370...</td>\n",
       "      <td>2009.0</td>\n",
       "      <td>NaN</td>\n",
       "      <td>3394646</td>\n",
       "      <td>08/22/2017 12:00:00 AM +0000</td>\n",
       "      <td>Constructed</td>\n",
       "      <td>1212853</td>\n",
       "      <td>21.608508</td>\n",
       "      <td>2100.0</td>\n",
       "      <td>18.0</td>\n",
       "      <td>854.662433</td>\n",
       "      <td>125.079796</td>\n",
       "      <td>3.044521e+09</td>\n",
       "      <td>3.044521e+09</td>\n",
       "      <td>Photogramm</td>\n",
       "      <td>2.440706</td>\n",
       "    </tr>\n",
       "    <tr>\n",
       "      <th>1</th>\n",
       "      <td>MULTIPOLYGON (((-73.87670970144625 40.71425234...</td>\n",
       "      <td>1930.0</td>\n",
       "      <td>NaN</td>\n",
       "      <td>4548330</td>\n",
       "      <td>08/17/2017 12:00:00 AM +0000</td>\n",
       "      <td>Constructed</td>\n",
       "      <td>1226227</td>\n",
       "      <td>10.360000</td>\n",
       "      <td>5110.0</td>\n",
       "      <td>122.0</td>\n",
       "      <td>217.594243</td>\n",
       "      <td>60.225858</td>\n",
       "      <td>4.030640e+09</td>\n",
       "      <td>4.030640e+09</td>\n",
       "      <td>Photogramm</td>\n",
       "      <td>-0.313308</td>\n",
       "    </tr>\n",
       "    <tr>\n",
       "      <th>2</th>\n",
       "      <td>MULTIPOLYGON (((-73.85195485799383 40.66235471...</td>\n",
       "      <td>1960.0</td>\n",
       "      <td>NaN</td>\n",
       "      <td>4460479</td>\n",
       "      <td>08/22/2017 12:00:00 AM +0000</td>\n",
       "      <td>Constructed</td>\n",
       "      <td>581946</td>\n",
       "      <td>29.811570</td>\n",
       "      <td>2100.0</td>\n",
       "      <td>10.0</td>\n",
       "      <td>946.427476</td>\n",
       "      <td>123.141941</td>\n",
       "      <td>4.139430e+09</td>\n",
       "      <td>4.139430e+09</td>\n",
       "      <td>Photogramm</td>\n",
       "      <td>0.732520</td>\n",
       "    </tr>\n",
       "    <tr>\n",
       "      <th>3</th>\n",
       "      <td>MULTIPOLYGON (((-73.94029215265738 40.64108287...</td>\n",
       "      <td>1920.0</td>\n",
       "      <td>NaN</td>\n",
       "      <td>3355684</td>\n",
       "      <td>08/17/2017 12:00:00 AM +0000</td>\n",
       "      <td>Constructed</td>\n",
       "      <td>858061</td>\n",
       "      <td>11.200000</td>\n",
       "      <td>5110.0</td>\n",
       "      <td>32.0</td>\n",
       "      <td>248.678169</td>\n",
       "      <td>63.940817</td>\n",
       "      <td>3.049720e+09</td>\n",
       "      <td>3.049720e+09</td>\n",
       "      <td>Photogramm</td>\n",
       "      <td>-0.661917</td>\n",
       "    </tr>\n",
       "    <tr>\n",
       "      <th>4</th>\n",
       "      <td>MULTIPOLYGON (((-73.98998983552244 40.62383804...</td>\n",
       "      <td>1915.0</td>\n",
       "      <td>NaN</td>\n",
       "      <td>3131737</td>\n",
       "      <td>08/22/2017 12:00:00 AM +0000</td>\n",
       "      <td>Constructed</td>\n",
       "      <td>568078</td>\n",
       "      <td>24.980000</td>\n",
       "      <td>2100.0</td>\n",
       "      <td>44.0</td>\n",
       "      <td>1163.227669</td>\n",
       "      <td>165.608763</td>\n",
       "      <td>3.055100e+09</td>\n",
       "      <td>3.055100e+09</td>\n",
       "      <td>Photogramm</td>\n",
       "      <td>-0.836222</td>\n",
       "    </tr>\n",
       "  </tbody>\n",
       "</table>\n",
       "</div>"
      ],
      "text/plain": [
       "                                            the_geom  CNSTRCT_YR NAME  \\\n",
       "0  MULTIPOLYGON (((-73.87129515296562 40.65717370...      2009.0  NaN   \n",
       "1  MULTIPOLYGON (((-73.87670970144625 40.71425234...      1930.0  NaN   \n",
       "2  MULTIPOLYGON (((-73.85195485799383 40.66235471...      1960.0  NaN   \n",
       "3  MULTIPOLYGON (((-73.94029215265738 40.64108287...      1920.0  NaN   \n",
       "4  MULTIPOLYGON (((-73.98998983552244 40.62383804...      1915.0  NaN   \n",
       "\n",
       "       BIN                    LSTMODDATE   LSTSTATYPE  DOITT_ID  HEIGHTROOF  \\\n",
       "0  3394646  08/22/2017 12:00:00 AM +0000  Constructed   1212853   21.608508   \n",
       "1  4548330  08/17/2017 12:00:00 AM +0000  Constructed   1226227   10.360000   \n",
       "2  4460479  08/22/2017 12:00:00 AM +0000  Constructed    581946   29.811570   \n",
       "3  3355684  08/17/2017 12:00:00 AM +0000  Constructed    858061   11.200000   \n",
       "4  3131737  08/22/2017 12:00:00 AM +0000  Constructed    568078   24.980000   \n",
       "\n",
       "   FEAT_CODE  GROUNDELEV   SHAPE_AREA   SHAPE_LEN      BASE_BBL    MPLUTO_BBL  \\\n",
       "0     2100.0        18.0   854.662433  125.079796  3.044521e+09  3.044521e+09   \n",
       "1     5110.0       122.0   217.594243   60.225858  4.030640e+09  4.030640e+09   \n",
       "2     2100.0        10.0   946.427476  123.141941  4.139430e+09  4.139430e+09   \n",
       "3     5110.0        32.0   248.678169   63.940817  3.049720e+09  3.049720e+09   \n",
       "4     2100.0        44.0  1163.227669  165.608763  3.055100e+09  3.055100e+09   \n",
       "\n",
       "   GEOMSOURCE  CNSTRCT_YR_zscore  \n",
       "0  Photogramm           2.440706  \n",
       "1  Photogramm          -0.313308  \n",
       "2  Photogramm           0.732520  \n",
       "3  Photogramm          -0.661917  \n",
       "4  Photogramm          -0.836222  "
      ]
     },
     "execution_count": 79,
     "metadata": {},
     "output_type": "execute_result"
    }
   ],
   "source": [
    "# previewing the first five rows of entire dataframe\n",
    "building_footprints.head()"
   ]
  },
  {
   "cell_type": "code",
   "execution_count": 80,
   "metadata": {},
   "outputs": [
    {
     "data": {
      "text/html": [
       "<div>\n",
       "<style scoped>\n",
       "    .dataframe tbody tr th:only-of-type {\n",
       "        vertical-align: middle;\n",
       "    }\n",
       "\n",
       "    .dataframe tbody tr th {\n",
       "        vertical-align: top;\n",
       "    }\n",
       "\n",
       "    .dataframe thead th {\n",
       "        text-align: right;\n",
       "    }\n",
       "</style>\n",
       "<table border=\"1\" class=\"dataframe\">\n",
       "  <thead>\n",
       "    <tr style=\"text-align: right;\">\n",
       "      <th></th>\n",
       "      <th>the_geom</th>\n",
       "      <th>CNSTRCT_YR</th>\n",
       "      <th>NAME</th>\n",
       "      <th>BIN</th>\n",
       "      <th>LSTMODDATE</th>\n",
       "      <th>LSTSTATYPE</th>\n",
       "      <th>DOITT_ID</th>\n",
       "      <th>HEIGHTROOF</th>\n",
       "      <th>FEAT_CODE</th>\n",
       "      <th>GROUNDELEV</th>\n",
       "      <th>SHAPE_AREA</th>\n",
       "      <th>SHAPE_LEN</th>\n",
       "      <th>BASE_BBL</th>\n",
       "      <th>MPLUTO_BBL</th>\n",
       "      <th>GEOMSOURCE</th>\n",
       "      <th>CNSTRCT_YR_zscore</th>\n",
       "    </tr>\n",
       "  </thead>\n",
       "  <tbody>\n",
       "    <tr>\n",
       "      <th>1084954</th>\n",
       "      <td>MULTIPOLYGON (((-74.19445796227131 40.53927900...</td>\n",
       "      <td>1980.0</td>\n",
       "      <td>NaN</td>\n",
       "      <td>5081526</td>\n",
       "      <td>09/18/2020 12:00:00 AM +0000</td>\n",
       "      <td>Alteration</td>\n",
       "      <td>168284</td>\n",
       "      <td>35.0</td>\n",
       "      <td>2100.0</td>\n",
       "      <td>123.0</td>\n",
       "      <td>2869.317259</td>\n",
       "      <td>247.918686</td>\n",
       "      <td>5.063360e+09</td>\n",
       "      <td>5.063360e+09</td>\n",
       "      <td>Other (Man</td>\n",
       "      <td>1.429739</td>\n",
       "    </tr>\n",
       "    <tr>\n",
       "      <th>1084955</th>\n",
       "      <td>MULTIPOLYGON (((-73.95732983152737 40.63563775...</td>\n",
       "      <td>2020.0</td>\n",
       "      <td>NaN</td>\n",
       "      <td>3426611</td>\n",
       "      <td>09/17/2020 12:00:00 AM +0000</td>\n",
       "      <td>Constructed</td>\n",
       "      <td>1293102</td>\n",
       "      <td>75.0</td>\n",
       "      <td>2100.0</td>\n",
       "      <td>26.0</td>\n",
       "      <td>3873.555738</td>\n",
       "      <td>292.361111</td>\n",
       "      <td>3.052200e+09</td>\n",
       "      <td>3.052200e+09</td>\n",
       "      <td>Other (Man</td>\n",
       "      <td>2.824176</td>\n",
       "    </tr>\n",
       "    <tr>\n",
       "      <th>1084956</th>\n",
       "      <td>MULTIPOLYGON (((-73.86959847028427 40.65700259...</td>\n",
       "      <td>2017.0</td>\n",
       "      <td>NaN</td>\n",
       "      <td>3418144</td>\n",
       "      <td>09/17/2020 12:00:00 AM +0000</td>\n",
       "      <td>Constructed</td>\n",
       "      <td>1292611</td>\n",
       "      <td>15.0</td>\n",
       "      <td>2100.0</td>\n",
       "      <td>14.0</td>\n",
       "      <td>643.367828</td>\n",
       "      <td>106.263690</td>\n",
       "      <td>3.045861e+09</td>\n",
       "      <td>NaN</td>\n",
       "      <td>Other (Man</td>\n",
       "      <td>2.719593</td>\n",
       "    </tr>\n",
       "    <tr>\n",
       "      <th>1084957</th>\n",
       "      <td>MULTIPOLYGON (((-74.19368057016453 40.53947895...</td>\n",
       "      <td>1980.0</td>\n",
       "      <td>NaN</td>\n",
       "      <td>5081529</td>\n",
       "      <td>09/18/2020 12:00:00 AM +0000</td>\n",
       "      <td>Alteration</td>\n",
       "      <td>308899</td>\n",
       "      <td>28.0</td>\n",
       "      <td>2100.0</td>\n",
       "      <td>120.0</td>\n",
       "      <td>2679.415233</td>\n",
       "      <td>216.697399</td>\n",
       "      <td>5.063360e+09</td>\n",
       "      <td>5.063360e+09</td>\n",
       "      <td>Other (Man</td>\n",
       "      <td>1.429739</td>\n",
       "    </tr>\n",
       "    <tr>\n",
       "      <th>1084958</th>\n",
       "      <td>MULTIPOLYGON (((-74.19405636715909 40.53927738...</td>\n",
       "      <td>2020.0</td>\n",
       "      <td>NaN</td>\n",
       "      <td>5171437</td>\n",
       "      <td>09/18/2020 12:00:00 AM +0000</td>\n",
       "      <td>Constructed</td>\n",
       "      <td>1293108</td>\n",
       "      <td>34.0</td>\n",
       "      <td>2100.0</td>\n",
       "      <td>122.0</td>\n",
       "      <td>1650.589979</td>\n",
       "      <td>168.615080</td>\n",
       "      <td>5.063360e+09</td>\n",
       "      <td>5.063360e+09</td>\n",
       "      <td>Other (Man</td>\n",
       "      <td>2.824176</td>\n",
       "    </tr>\n",
       "  </tbody>\n",
       "</table>\n",
       "</div>"
      ],
      "text/plain": [
       "                                                  the_geom  CNSTRCT_YR NAME  \\\n",
       "1084954  MULTIPOLYGON (((-74.19445796227131 40.53927900...      1980.0  NaN   \n",
       "1084955  MULTIPOLYGON (((-73.95732983152737 40.63563775...      2020.0  NaN   \n",
       "1084956  MULTIPOLYGON (((-73.86959847028427 40.65700259...      2017.0  NaN   \n",
       "1084957  MULTIPOLYGON (((-74.19368057016453 40.53947895...      1980.0  NaN   \n",
       "1084958  MULTIPOLYGON (((-74.19405636715909 40.53927738...      2020.0  NaN   \n",
       "\n",
       "             BIN                    LSTMODDATE   LSTSTATYPE  DOITT_ID  \\\n",
       "1084954  5081526  09/18/2020 12:00:00 AM +0000   Alteration    168284   \n",
       "1084955  3426611  09/17/2020 12:00:00 AM +0000  Constructed   1293102   \n",
       "1084956  3418144  09/17/2020 12:00:00 AM +0000  Constructed   1292611   \n",
       "1084957  5081529  09/18/2020 12:00:00 AM +0000   Alteration    308899   \n",
       "1084958  5171437  09/18/2020 12:00:00 AM +0000  Constructed   1293108   \n",
       "\n",
       "         HEIGHTROOF  FEAT_CODE  GROUNDELEV   SHAPE_AREA   SHAPE_LEN  \\\n",
       "1084954        35.0     2100.0       123.0  2869.317259  247.918686   \n",
       "1084955        75.0     2100.0        26.0  3873.555738  292.361111   \n",
       "1084956        15.0     2100.0        14.0   643.367828  106.263690   \n",
       "1084957        28.0     2100.0       120.0  2679.415233  216.697399   \n",
       "1084958        34.0     2100.0       122.0  1650.589979  168.615080   \n",
       "\n",
       "             BASE_BBL    MPLUTO_BBL  GEOMSOURCE  CNSTRCT_YR_zscore  \n",
       "1084954  5.063360e+09  5.063360e+09  Other (Man           1.429739  \n",
       "1084955  3.052200e+09  3.052200e+09  Other (Man           2.824176  \n",
       "1084956  3.045861e+09           NaN  Other (Man           2.719593  \n",
       "1084957  5.063360e+09  5.063360e+09  Other (Man           1.429739  \n",
       "1084958  5.063360e+09  5.063360e+09  Other (Man           2.824176  "
      ]
     },
     "execution_count": 80,
     "metadata": {},
     "output_type": "execute_result"
    }
   ],
   "source": [
    "# previewing the last five rows of entire dataframe\n",
    "building_footprints.tail()"
   ]
  },
  {
   "cell_type": "code",
   "execution_count": 81,
   "metadata": {},
   "outputs": [
    {
     "data": {
      "text/plain": [
       "(1084959, 16)"
      ]
     },
     "execution_count": 81,
     "metadata": {},
     "output_type": "execute_result"
    }
   ],
   "source": [
    "# printing the dimensions (i.e. rows, columns) of entire dataframe\n",
    "building_footprints.shape"
   ]
  },
  {
   "cell_type": "markdown",
   "metadata": {},
   "source": [
    "# 6. Conclusion"
   ]
  },
  {
   "cell_type": "markdown",
   "metadata": {},
   "source": [
    "In this notebook, we reviewed various ways to inspect, clean, wrangle, and detect any outliers in your data.  Specifically, we focused on ways to inspect the shape (number of rows, columns) of your data, fill in or replace incorrect values with the median, and detect outliers with box plots and z-scores. This step is crucial if you are interested in modeling or predicting future values.. In Part III, we will focus on data visualization."
   ]
  },
  {
   "cell_type": "code",
   "execution_count": null,
   "metadata": {},
   "outputs": [],
   "source": []
  }
 ],
 "metadata": {
  "kernelspec": {
   "display_name": "Python 3",
   "language": "python",
   "name": "python3"
  },
  "language_info": {
   "codemirror_mode": {
    "name": "ipython",
    "version": 3
   },
   "file_extension": ".py",
   "mimetype": "text/x-python",
   "name": "python",
   "nbconvert_exporter": "python",
   "pygments_lexer": "ipython3",
   "version": "3.7.1"
  }
 },
 "nbformat": 4,
 "nbformat_minor": 2
}
