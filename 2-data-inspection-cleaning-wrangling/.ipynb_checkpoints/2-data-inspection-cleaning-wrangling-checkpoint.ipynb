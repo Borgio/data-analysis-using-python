{
 "cells": [
  {
   "cell_type": "markdown",
   "metadata": {},
   "source": [
    "# Data Analysis Using Python: A Beginner’s Guide Featuring NYC Open Data\n",
    "\n",
    "\n",
    "Part 2: Data Inspection, Cleaning and Wrangling in Python\n",
    "\n",
    "*Mark Bauer*"
   ]
  },
  {
   "cell_type": "markdown",
   "metadata": {},
   "source": [
    "Table of Contents\n",
    "=================\n",
    "\n",
    "   * [Getting Started](#-Getting-Started:-Accessing-the-Building-Footprints-Dataset)\n",
    "       * [Reading in data as csv in static form](##-Reading-in-data-as-csv-in-static-form)\n",
    "       \n",
    "       \n",
    "   * [1. Importing Libraries](##-1.-Importing-Libraries)\n",
    "\n",
    "       \n",
    "   * [2. Reading in data as a pandas dataframe](#-2.-Reading-in-data-as-a-pandas-dataframe)\n",
    "       \n",
    "   \n",
    "   * [3. Data Inspection](#-3.-Data-Inspection)\n",
    "       * [3.1 Previewing Data](##-3.1-Previewing-Data)\n",
    "       * [3.2 Calcualting Summary Statistics](##-3.2-Calcualting-Summary-Statistics)\n",
    "       * [3.3 Identifying Null/NA Values](##-3.3-Identifying-Null/NA-Values)\n",
    "       \n",
    "       \n",
    "   * [4. Data Cleaning/Wrangling](#-4.-Data-Cleaning/Wrangling)\n",
    "       * [4.1 Previewing Column Values](##-4.1-Previewing-Column-Values)\n",
    "       * [4.2 Filling In Null/NA Values With Median ](##-4.2-Filling-In-Null/NA-Values-With-Median)\n",
    "       * [4.3 Plotting Histogram of Raw Construction Year Values](##-4.3-Plotting-Histogram-of-Raw-Construction-Year-Values)   \n",
    "       * [4.4 Identiyfying Values Not Between Years 1 and 2020](##-4.4-Identiyfying-Values-Not-Between-Years-1-and-2020)\n",
    "       * [4.5 Replacing Values Not Between Years 1 and 2020 with the Median](##-4.5-Replacing-Values-Not-Between-Years-1-and-2020-with-the-Median)\n",
    "       * [4.6 Plotting Histogram of Construction Years Between 1 and 2020](##-4.6-Plotting-Histogram-of-Construction-Years-Between-1-and-2020)\n",
    "       * [4.7 Identifying Buildings Built Before 1652 - Possible Outliers](##-4.7-Identifying-Buildings-Built-Before-1652---Possible-Outliers)\n",
    "       * [4.8 Replacing Values Less Than 1652 with the Median](##-4.8-Replacing-Values-Less-Than-1652-with-the-Median)\n",
    "       * [4.9 Plotting Histogram of Construction Years with Cleaned Column](##-4.9-Plotting-Histogram-of-Construction-Years-with-Cleaned-Column)\n",
    "       \n",
    "       \n",
    "   * [5. Detecting Outliers](#-5.-Detecting-Outliers)\n",
    "       * [5.1. Making a Box Plot](#-5.1-Making-a-Box-Plot)\n",
    "           * [5.1.1 Calculating Interquartile Range (IQR)](##-5.1.1-Calculating-Interquartile-Range-(IQR))\n",
    "           * [5.1.2 Box Plot of Construction Year Values](##-5.1.2-Box-Plot-of-Construction-Year-Values)\n",
    "           * [5.1.3 Making Histograms of Values Above and Below Box Plot Whiskers](##-5.1.3-Making-Histograms-of-Values-Above-and-Below-Box-Plot-Whiskers)\n",
    "       * [5.2 Z-Scores](#-5.2-Z-Scores)\n",
    "           * [5.2.1 Calculating Z-Scores](##-5.2.1-Calculating-Z-Scores)\n",
    "           * [5.2.2 Identifying Possible Outliers from Z-Score](##-5.2.2-Identifying-Possible-Outliers-from-Z-Score)\n",
    "           * [5.2.3 Making Histograms of Construction Year Raw and Normalized (Z-Score) Values](##-5.2.3-Making-Histograms-of-Construction-Year-Raw-and-Normalized-%29Z-Score%29-Values)    \n",
    "       \n",
    "       \n",
    "   * [6. Conclusion](#-4.-Conclusion)"
   ]
  },
  {
   "cell_type": "markdown",
   "metadata": {},
   "source": [
    "**Goal:** In this notebook, we will review various ways to to inspect, clean, wrangle, and detect any outliers in your data.\n",
    "\n",
    "**Main Library:** [pandas](https://pandas.pydata.org/) is a fast, powerful, flexible and easy to use open source data analysis and manipulation tool, built on top of the Python programming language."
   ]
  },
  {
   "cell_type": "markdown",
   "metadata": {},
   "source": [
    "# Getting Started: Accessing the Building Footprints Dataset"
   ]
  },
  {
   "cell_type": "markdown",
   "metadata": {},
   "source": [
    "## Reading in data as csv in static form\n",
    "\n",
    "Copy this link address shown below."
   ]
  },
  {
   "cell_type": "markdown",
   "metadata": {},
   "source": [
    "![building_footprints_csv](images/building-footprints-csv.png)"
   ]
  },
  {
   "cell_type": "markdown",
   "metadata": {},
   "source": [
    "## Dataset Web Page Link: \n",
    "https://data.cityofnewyork.us/Housing-Development/Building-Footprints/nqwf-w8eh\n",
    "\n",
    "## Documentation/Metadata: \n",
    "https://github.com/CityOfNewYork/nyc-geo-metadata/blob/master/Metadata/Metadata_BuildingFootprints.md"
   ]
  },
  {
   "cell_type": "markdown",
   "metadata": {},
   "source": [
    "# 1. Importing Libraries"
   ]
  },
  {
   "cell_type": "code",
   "execution_count": 108,
   "metadata": {},
   "outputs": [],
   "source": [
    "# importing libraries\n",
    "import pandas as pd # the pd is by convention\n",
    "import numpy as np # as is the np\n",
    "import matplotlib.pyplot as plt\n",
    "import matplotlib\n",
    "from matplotlib.ticker import FuncFormatter\n",
    "\n",
    "# to plot matplotlib figures inline on the notebook\n",
    "%matplotlib inline"
   ]
  },
  {
   "cell_type": "code",
   "execution_count": 2,
   "metadata": {},
   "outputs": [
    {
     "name": "stdout",
     "output_type": "stream",
     "text": [
      "CPython 3.7.1\n",
      "IPython 7.18.1\n",
      "\n",
      "numpy 1.19.1\n",
      "pandas 1.0.0\n",
      "matplotlib.pyplot 3.3.1\n"
     ]
    }
   ],
   "source": [
    "#Printing verions of Python modules and packages with **watermark** - the IPython magic extension.\n",
    "\n",
    "%load_ext watermark\n",
    "\n",
    "%watermark -v -p numpy,pandas,matplotlib.pyplot"
   ]
  },
  {
   "cell_type": "markdown",
   "metadata": {},
   "source": [
    "Documention for installing watermark: https://github.com/rasbt/watermark"
   ]
  },
  {
   "cell_type": "markdown",
   "metadata": {},
   "source": [
    "# 2. Reading in data as a pandas dataframe"
   ]
  },
  {
   "cell_type": "markdown",
   "metadata": {},
   "source": [
    "If you receive `HTTPError: HTTP Error 404: Not Found`, you need to replace the csv link. DoITT changes the link path regularly."
   ]
  },
  {
   "cell_type": "code",
   "execution_count": 3,
   "metadata": {},
   "outputs": [],
   "source": [
    "# setting the link of our data (a static csv file) as the name 'url'\n",
    "url = 'https://data.cityofnewyork.us/api/views/s75a-ei9u/rows.csv?accessType=DOWNLOAD'\n",
    "\n",
    "# reading in our data as a pandas dataframe and setting the name to'building_footprints'\n",
    "building_footprints = pd.read_csv(url)"
   ]
  },
  {
   "cell_type": "markdown",
   "metadata": {},
   "source": [
    "# 3. Data Inspection"
   ]
  },
  {
   "cell_type": "markdown",
   "metadata": {},
   "source": [
    "## 3.1 Previewing Data"
   ]
  },
  {
   "cell_type": "code",
   "execution_count": 4,
   "metadata": {},
   "outputs": [
    {
     "data": {
      "text/html": [
       "<div>\n",
       "<style scoped>\n",
       "    .dataframe tbody tr th:only-of-type {\n",
       "        vertical-align: middle;\n",
       "    }\n",
       "\n",
       "    .dataframe tbody tr th {\n",
       "        vertical-align: top;\n",
       "    }\n",
       "\n",
       "    .dataframe thead th {\n",
       "        text-align: right;\n",
       "    }\n",
       "</style>\n",
       "<table border=\"1\" class=\"dataframe\">\n",
       "  <thead>\n",
       "    <tr style=\"text-align: right;\">\n",
       "      <th></th>\n",
       "      <th>BIN</th>\n",
       "      <th>the_geom</th>\n",
       "      <th>NAME</th>\n",
       "      <th>LSTMODDATE</th>\n",
       "      <th>CNSTRCT_YR</th>\n",
       "      <th>LSTSTATYPE</th>\n",
       "      <th>DOITT_ID</th>\n",
       "      <th>HEIGHTROOF</th>\n",
       "      <th>FEAT_CODE</th>\n",
       "      <th>GROUNDELEV</th>\n",
       "      <th>SHAPE_AREA</th>\n",
       "      <th>SHAPE_LEN</th>\n",
       "      <th>BASE_BBL</th>\n",
       "      <th>MPLUTO_BBL</th>\n",
       "      <th>GEOMSOURCE</th>\n",
       "    </tr>\n",
       "  </thead>\n",
       "  <tbody>\n",
       "    <tr>\n",
       "      <th>0</th>\n",
       "      <td>3394646</td>\n",
       "      <td>MULTIPOLYGON (((-73.87129515296562 40.65717370...</td>\n",
       "      <td>NaN</td>\n",
       "      <td>08/22/2017 12:00:00 AM +0000</td>\n",
       "      <td>2009.0</td>\n",
       "      <td>Constructed</td>\n",
       "      <td>1212853</td>\n",
       "      <td>21.608508</td>\n",
       "      <td>2100.0</td>\n",
       "      <td>18.0</td>\n",
       "      <td>854.662433</td>\n",
       "      <td>125.079796</td>\n",
       "      <td>3.044521e+09</td>\n",
       "      <td>3.044521e+09</td>\n",
       "      <td>Photogramm</td>\n",
       "    </tr>\n",
       "    <tr>\n",
       "      <th>1</th>\n",
       "      <td>4548330</td>\n",
       "      <td>MULTIPOLYGON (((-73.87670970144625 40.71425234...</td>\n",
       "      <td>NaN</td>\n",
       "      <td>08/17/2017 12:00:00 AM +0000</td>\n",
       "      <td>1930.0</td>\n",
       "      <td>Constructed</td>\n",
       "      <td>1226227</td>\n",
       "      <td>10.360000</td>\n",
       "      <td>5110.0</td>\n",
       "      <td>122.0</td>\n",
       "      <td>217.594243</td>\n",
       "      <td>60.225858</td>\n",
       "      <td>4.030640e+09</td>\n",
       "      <td>4.030640e+09</td>\n",
       "      <td>Photogramm</td>\n",
       "    </tr>\n",
       "    <tr>\n",
       "      <th>2</th>\n",
       "      <td>4460479</td>\n",
       "      <td>MULTIPOLYGON (((-73.85195485799383 40.66235471...</td>\n",
       "      <td>NaN</td>\n",
       "      <td>08/22/2017 12:00:00 AM +0000</td>\n",
       "      <td>1960.0</td>\n",
       "      <td>Constructed</td>\n",
       "      <td>581946</td>\n",
       "      <td>29.811570</td>\n",
       "      <td>2100.0</td>\n",
       "      <td>10.0</td>\n",
       "      <td>946.427476</td>\n",
       "      <td>123.141941</td>\n",
       "      <td>4.139430e+09</td>\n",
       "      <td>4.139430e+09</td>\n",
       "      <td>Photogramm</td>\n",
       "    </tr>\n",
       "    <tr>\n",
       "      <th>3</th>\n",
       "      <td>3355684</td>\n",
       "      <td>MULTIPOLYGON (((-73.94029215265738 40.64108287...</td>\n",
       "      <td>NaN</td>\n",
       "      <td>08/17/2017 12:00:00 AM +0000</td>\n",
       "      <td>1920.0</td>\n",
       "      <td>Constructed</td>\n",
       "      <td>858061</td>\n",
       "      <td>11.200000</td>\n",
       "      <td>5110.0</td>\n",
       "      <td>32.0</td>\n",
       "      <td>248.678169</td>\n",
       "      <td>63.940817</td>\n",
       "      <td>3.049720e+09</td>\n",
       "      <td>3.049720e+09</td>\n",
       "      <td>Photogramm</td>\n",
       "    </tr>\n",
       "    <tr>\n",
       "      <th>4</th>\n",
       "      <td>3131737</td>\n",
       "      <td>MULTIPOLYGON (((-73.98998983552244 40.62383804...</td>\n",
       "      <td>NaN</td>\n",
       "      <td>08/22/2017 12:00:00 AM +0000</td>\n",
       "      <td>1915.0</td>\n",
       "      <td>Constructed</td>\n",
       "      <td>568078</td>\n",
       "      <td>24.980000</td>\n",
       "      <td>2100.0</td>\n",
       "      <td>44.0</td>\n",
       "      <td>1163.227669</td>\n",
       "      <td>165.608763</td>\n",
       "      <td>3.055100e+09</td>\n",
       "      <td>3.055100e+09</td>\n",
       "      <td>Photogramm</td>\n",
       "    </tr>\n",
       "  </tbody>\n",
       "</table>\n",
       "</div>"
      ],
      "text/plain": [
       "       BIN                                           the_geom NAME  \\\n",
       "0  3394646  MULTIPOLYGON (((-73.87129515296562 40.65717370...  NaN   \n",
       "1  4548330  MULTIPOLYGON (((-73.87670970144625 40.71425234...  NaN   \n",
       "2  4460479  MULTIPOLYGON (((-73.85195485799383 40.66235471...  NaN   \n",
       "3  3355684  MULTIPOLYGON (((-73.94029215265738 40.64108287...  NaN   \n",
       "4  3131737  MULTIPOLYGON (((-73.98998983552244 40.62383804...  NaN   \n",
       "\n",
       "                     LSTMODDATE  CNSTRCT_YR   LSTSTATYPE  DOITT_ID  \\\n",
       "0  08/22/2017 12:00:00 AM +0000      2009.0  Constructed   1212853   \n",
       "1  08/17/2017 12:00:00 AM +0000      1930.0  Constructed   1226227   \n",
       "2  08/22/2017 12:00:00 AM +0000      1960.0  Constructed    581946   \n",
       "3  08/17/2017 12:00:00 AM +0000      1920.0  Constructed    858061   \n",
       "4  08/22/2017 12:00:00 AM +0000      1915.0  Constructed    568078   \n",
       "\n",
       "   HEIGHTROOF  FEAT_CODE  GROUNDELEV   SHAPE_AREA   SHAPE_LEN      BASE_BBL  \\\n",
       "0   21.608508     2100.0        18.0   854.662433  125.079796  3.044521e+09   \n",
       "1   10.360000     5110.0       122.0   217.594243   60.225858  4.030640e+09   \n",
       "2   29.811570     2100.0        10.0   946.427476  123.141941  4.139430e+09   \n",
       "3   11.200000     5110.0        32.0   248.678169   63.940817  3.049720e+09   \n",
       "4   24.980000     2100.0        44.0  1163.227669  165.608763  3.055100e+09   \n",
       "\n",
       "     MPLUTO_BBL  GEOMSOURCE  \n",
       "0  3.044521e+09  Photogramm  \n",
       "1  4.030640e+09  Photogramm  \n",
       "2  4.139430e+09  Photogramm  \n",
       "3  3.049720e+09  Photogramm  \n",
       "4  3.055100e+09  Photogramm  "
      ]
     },
     "execution_count": 4,
     "metadata": {},
     "output_type": "execute_result"
    }
   ],
   "source": [
    "# previewing the first five rows of our dataframe\n",
    "building_footprints.head()"
   ]
  },
  {
   "cell_type": "code",
   "execution_count": 5,
   "metadata": {},
   "outputs": [
    {
     "data": {
      "text/html": [
       "<div>\n",
       "<style scoped>\n",
       "    .dataframe tbody tr th:only-of-type {\n",
       "        vertical-align: middle;\n",
       "    }\n",
       "\n",
       "    .dataframe tbody tr th {\n",
       "        vertical-align: top;\n",
       "    }\n",
       "\n",
       "    .dataframe thead th {\n",
       "        text-align: right;\n",
       "    }\n",
       "</style>\n",
       "<table border=\"1\" class=\"dataframe\">\n",
       "  <thead>\n",
       "    <tr style=\"text-align: right;\">\n",
       "      <th></th>\n",
       "      <th>BIN</th>\n",
       "      <th>the_geom</th>\n",
       "      <th>NAME</th>\n",
       "      <th>LSTMODDATE</th>\n",
       "      <th>CNSTRCT_YR</th>\n",
       "      <th>LSTSTATYPE</th>\n",
       "      <th>DOITT_ID</th>\n",
       "      <th>HEIGHTROOF</th>\n",
       "      <th>FEAT_CODE</th>\n",
       "      <th>GROUNDELEV</th>\n",
       "      <th>SHAPE_AREA</th>\n",
       "      <th>SHAPE_LEN</th>\n",
       "      <th>BASE_BBL</th>\n",
       "      <th>MPLUTO_BBL</th>\n",
       "      <th>GEOMSOURCE</th>\n",
       "    </tr>\n",
       "  </thead>\n",
       "  <tbody>\n",
       "    <tr>\n",
       "      <th>1084921</th>\n",
       "      <td>2004416</td>\n",
       "      <td>MULTIPOLYGON (((-73.90956075794786 40.81352239...</td>\n",
       "      <td>NaN</td>\n",
       "      <td>10/02/2020 12:00:00 AM +0000</td>\n",
       "      <td>NaN</td>\n",
       "      <td>Constructed</td>\n",
       "      <td>1293189</td>\n",
       "      <td>18.0</td>\n",
       "      <td>1001.0</td>\n",
       "      <td>37.0</td>\n",
       "      <td>2497.520441</td>\n",
       "      <td>235.065631</td>\n",
       "      <td>2.026230e+09</td>\n",
       "      <td>2.026230e+09</td>\n",
       "      <td>Other (Man</td>\n",
       "    </tr>\n",
       "    <tr>\n",
       "      <th>1084922</th>\n",
       "      <td>3383070</td>\n",
       "      <td>MULTIPOLYGON (((-74.02078005035948 40.63829205...</td>\n",
       "      <td>NaN</td>\n",
       "      <td>10/02/2020 12:00:00 AM +0000</td>\n",
       "      <td>NaN</td>\n",
       "      <td>Constructed</td>\n",
       "      <td>1293188</td>\n",
       "      <td>18.0</td>\n",
       "      <td>1001.0</td>\n",
       "      <td>76.0</td>\n",
       "      <td>1275.615105</td>\n",
       "      <td>156.254665</td>\n",
       "      <td>3.058180e+09</td>\n",
       "      <td>NaN</td>\n",
       "      <td>Other (Man</td>\n",
       "    </tr>\n",
       "    <tr>\n",
       "      <th>1084923</th>\n",
       "      <td>2129592</td>\n",
       "      <td>MULTIPOLYGON (((-73.86629143808064 40.83458799...</td>\n",
       "      <td>NaN</td>\n",
       "      <td>10/02/2020 12:00:00 AM +0000</td>\n",
       "      <td>NaN</td>\n",
       "      <td>Constructed</td>\n",
       "      <td>1293190</td>\n",
       "      <td>18.0</td>\n",
       "      <td>1001.0</td>\n",
       "      <td>34.0</td>\n",
       "      <td>927.845148</td>\n",
       "      <td>124.741602</td>\n",
       "      <td>2.038810e+09</td>\n",
       "      <td>2.038810e+09</td>\n",
       "      <td>Other (Man</td>\n",
       "    </tr>\n",
       "    <tr>\n",
       "      <th>1084924</th>\n",
       "      <td>4117949</td>\n",
       "      <td>MULTIPOLYGON (((-73.81363844125889 40.75079318...</td>\n",
       "      <td>NaN</td>\n",
       "      <td>10/02/2020 12:00:00 AM +0000</td>\n",
       "      <td>2018.0</td>\n",
       "      <td>Constructed</td>\n",
       "      <td>1293175</td>\n",
       "      <td>20.0</td>\n",
       "      <td>2100.0</td>\n",
       "      <td>34.0</td>\n",
       "      <td>2002.870217</td>\n",
       "      <td>186.363136</td>\n",
       "      <td>4.052200e+09</td>\n",
       "      <td>4.052200e+09</td>\n",
       "      <td>Other (Man</td>\n",
       "    </tr>\n",
       "    <tr>\n",
       "      <th>1084925</th>\n",
       "      <td>4619762</td>\n",
       "      <td>MULTIPOLYGON (((-73.8713972196869 40.708237472...</td>\n",
       "      <td>NaN</td>\n",
       "      <td>10/02/2020 12:00:00 AM +0000</td>\n",
       "      <td>2019.0</td>\n",
       "      <td>Constructed</td>\n",
       "      <td>1289954</td>\n",
       "      <td>NaN</td>\n",
       "      <td>2100.0</td>\n",
       "      <td>85.0</td>\n",
       "      <td>33487.281561</td>\n",
       "      <td>904.178451</td>\n",
       "      <td>4.033040e+09</td>\n",
       "      <td>4.033040e+09</td>\n",
       "      <td>Other (Man</td>\n",
       "    </tr>\n",
       "  </tbody>\n",
       "</table>\n",
       "</div>"
      ],
      "text/plain": [
       "             BIN                                           the_geom NAME  \\\n",
       "1084921  2004416  MULTIPOLYGON (((-73.90956075794786 40.81352239...  NaN   \n",
       "1084922  3383070  MULTIPOLYGON (((-74.02078005035948 40.63829205...  NaN   \n",
       "1084923  2129592  MULTIPOLYGON (((-73.86629143808064 40.83458799...  NaN   \n",
       "1084924  4117949  MULTIPOLYGON (((-73.81363844125889 40.75079318...  NaN   \n",
       "1084925  4619762  MULTIPOLYGON (((-73.8713972196869 40.708237472...  NaN   \n",
       "\n",
       "                           LSTMODDATE  CNSTRCT_YR   LSTSTATYPE  DOITT_ID  \\\n",
       "1084921  10/02/2020 12:00:00 AM +0000         NaN  Constructed   1293189   \n",
       "1084922  10/02/2020 12:00:00 AM +0000         NaN  Constructed   1293188   \n",
       "1084923  10/02/2020 12:00:00 AM +0000         NaN  Constructed   1293190   \n",
       "1084924  10/02/2020 12:00:00 AM +0000      2018.0  Constructed   1293175   \n",
       "1084925  10/02/2020 12:00:00 AM +0000      2019.0  Constructed   1289954   \n",
       "\n",
       "         HEIGHTROOF  FEAT_CODE  GROUNDELEV    SHAPE_AREA   SHAPE_LEN  \\\n",
       "1084921        18.0     1001.0        37.0   2497.520441  235.065631   \n",
       "1084922        18.0     1001.0        76.0   1275.615105  156.254665   \n",
       "1084923        18.0     1001.0        34.0    927.845148  124.741602   \n",
       "1084924        20.0     2100.0        34.0   2002.870217  186.363136   \n",
       "1084925         NaN     2100.0        85.0  33487.281561  904.178451   \n",
       "\n",
       "             BASE_BBL    MPLUTO_BBL  GEOMSOURCE  \n",
       "1084921  2.026230e+09  2.026230e+09  Other (Man  \n",
       "1084922  3.058180e+09           NaN  Other (Man  \n",
       "1084923  2.038810e+09  2.038810e+09  Other (Man  \n",
       "1084924  4.052200e+09  4.052200e+09  Other (Man  \n",
       "1084925  4.033040e+09  4.033040e+09  Other (Man  "
      ]
     },
     "execution_count": 5,
     "metadata": {},
     "output_type": "execute_result"
    }
   ],
   "source": [
    "# previewing the last five rows of our dataframe\n",
    "building_footprints.tail()"
   ]
  },
  {
   "cell_type": "code",
   "execution_count": 6,
   "metadata": {},
   "outputs": [
    {
     "data": {
      "text/plain": [
       "(1084926, 15)"
      ]
     },
     "execution_count": 6,
     "metadata": {},
     "output_type": "execute_result"
    }
   ],
   "source": [
    "# printing the shape or dimensions of our dataframe (i.e. rows, columns)\n",
    "building_footprints.shape"
   ]
  },
  {
   "cell_type": "code",
   "execution_count": 7,
   "metadata": {},
   "outputs": [
    {
     "data": {
      "text/plain": [
       "pandas.core.frame.DataFrame"
      ]
     },
     "execution_count": 7,
     "metadata": {},
     "output_type": "execute_result"
    }
   ],
   "source": [
    "type(building_footprints)"
   ]
  },
  {
   "cell_type": "code",
   "execution_count": 8,
   "metadata": {},
   "outputs": [
    {
     "data": {
      "text/plain": [
       "Index(['BIN', 'the_geom', 'NAME', 'LSTMODDATE', 'CNSTRCT_YR', 'LSTSTATYPE',\n",
       "       'DOITT_ID', 'HEIGHTROOF', 'FEAT_CODE', 'GROUNDELEV', 'SHAPE_AREA',\n",
       "       'SHAPE_LEN', 'BASE_BBL', 'MPLUTO_BBL', 'GEOMSOURCE'],\n",
       "      dtype='object')"
      ]
     },
     "execution_count": 8,
     "metadata": {},
     "output_type": "execute_result"
    }
   ],
   "source": [
    "# printing the columns our dataframe\n",
    "building_footprints.columns"
   ]
  },
  {
   "cell_type": "code",
   "execution_count": 12,
   "metadata": {},
   "outputs": [
    {
     "data": {
      "text/plain": [
       "BIN             int64\n",
       "the_geom       object\n",
       "NAME           object\n",
       "LSTMODDATE     object\n",
       "CNSTRCT_YR    float64\n",
       "LSTSTATYPE     object\n",
       "DOITT_ID        int64\n",
       "HEIGHTROOF    float64\n",
       "FEAT_CODE     float64\n",
       "GROUNDELEV    float64\n",
       "SHAPE_AREA    float64\n",
       "SHAPE_LEN     float64\n",
       "BASE_BBL      float64\n",
       "MPLUTO_BBL    float64\n",
       "GEOMSOURCE     object\n",
       "dtype: object"
      ]
     },
     "execution_count": 12,
     "metadata": {},
     "output_type": "execute_result"
    }
   ],
   "source": [
    "# printing the data types of our columns\n",
    "building_footprints.dtypes"
   ]
  },
  {
   "cell_type": "code",
   "execution_count": 13,
   "metadata": {},
   "outputs": [
    {
     "name": "stdout",
     "output_type": "stream",
     "text": [
      "<class 'pandas.core.frame.DataFrame'>\n",
      "RangeIndex: 1084926 entries, 0 to 1084925\n",
      "Data columns (total 15 columns):\n",
      " #   Column      Non-Null Count    Dtype  \n",
      "---  ------      --------------    -----  \n",
      " 0   BIN         1084926 non-null  int64  \n",
      " 1   the_geom    1084926 non-null  object \n",
      " 2   NAME        1752 non-null     object \n",
      " 3   LSTMODDATE  1084926 non-null  object \n",
      " 4   CNSTRCT_YR  1080044 non-null  float64\n",
      " 5   LSTSTATYPE  1084738 non-null  object \n",
      " 6   DOITT_ID    1084926 non-null  int64  \n",
      " 7   HEIGHTROOF  1082261 non-null  float64\n",
      " 8   FEAT_CODE   1084917 non-null  float64\n",
      " 9   GROUNDELEV  1084399 non-null  float64\n",
      " 10  SHAPE_AREA  1084926 non-null  float64\n",
      " 11  SHAPE_LEN   1084926 non-null  float64\n",
      " 12  BASE_BBL    1084924 non-null  float64\n",
      " 13  MPLUTO_BBL  1084379 non-null  float64\n",
      " 14  GEOMSOURCE  1084710 non-null  object \n",
      "dtypes: float64(8), int64(2), object(5)\n",
      "memory usage: 124.2+ MB\n"
     ]
    }
   ],
   "source": [
    "# printing the column names, non-null counts, and data types of our columns\n",
    "building_footprints.info()"
   ]
  },
  {
   "cell_type": "code",
   "execution_count": 14,
   "metadata": {},
   "outputs": [
    {
     "data": {
      "text/plain": [
       "float64    8\n",
       "object     5\n",
       "int64      2\n",
       "dtype: int64"
      ]
     },
     "execution_count": 14,
     "metadata": {},
     "output_type": "execute_result"
    }
   ],
   "source": [
    "building_footprints.dtypes.value_counts()"
   ]
  },
  {
   "cell_type": "code",
   "execution_count": 15,
   "metadata": {},
   "outputs": [
    {
     "data": {
      "text/plain": [
       "RangeIndex(start=0, stop=1084926, step=1)"
      ]
     },
     "execution_count": 15,
     "metadata": {},
     "output_type": "execute_result"
    }
   ],
   "source": [
    "building_footprints.index"
   ]
  },
  {
   "cell_type": "code",
   "execution_count": 16,
   "metadata": {},
   "outputs": [
    {
     "data": {
      "text/plain": [
       "True"
      ]
     },
     "execution_count": 16,
     "metadata": {},
     "output_type": "execute_result"
    }
   ],
   "source": [
    "building_footprints['DOITT_ID'].is_unique"
   ]
  },
  {
   "cell_type": "markdown",
   "metadata": {},
   "source": [
    "## 3.2 Calcualting Summary Statistics"
   ]
  },
  {
   "cell_type": "code",
   "execution_count": 17,
   "metadata": {},
   "outputs": [],
   "source": [
    "pd.set_option('display.float_format', lambda x: '%.3f' % x)"
   ]
  },
  {
   "cell_type": "code",
   "execution_count": 18,
   "metadata": {},
   "outputs": [
    {
     "data": {
      "text/html": [
       "<div>\n",
       "<style scoped>\n",
       "    .dataframe tbody tr th:only-of-type {\n",
       "        vertical-align: middle;\n",
       "    }\n",
       "\n",
       "    .dataframe tbody tr th {\n",
       "        vertical-align: top;\n",
       "    }\n",
       "\n",
       "    .dataframe thead th {\n",
       "        text-align: right;\n",
       "    }\n",
       "</style>\n",
       "<table border=\"1\" class=\"dataframe\">\n",
       "  <thead>\n",
       "    <tr style=\"text-align: right;\">\n",
       "      <th></th>\n",
       "      <th>BIN</th>\n",
       "      <th>CNSTRCT_YR</th>\n",
       "      <th>DOITT_ID</th>\n",
       "      <th>HEIGHTROOF</th>\n",
       "      <th>FEAT_CODE</th>\n",
       "      <th>GROUNDELEV</th>\n",
       "      <th>SHAPE_AREA</th>\n",
       "      <th>SHAPE_LEN</th>\n",
       "      <th>BASE_BBL</th>\n",
       "      <th>MPLUTO_BBL</th>\n",
       "    </tr>\n",
       "  </thead>\n",
       "  <tbody>\n",
       "    <tr>\n",
       "      <th>count</th>\n",
       "      <td>1084926.000</td>\n",
       "      <td>1080044.000</td>\n",
       "      <td>1084926.000</td>\n",
       "      <td>1082261.000</td>\n",
       "      <td>1084917.000</td>\n",
       "      <td>1084399.000</td>\n",
       "      <td>1084926.000</td>\n",
       "      <td>1084926.000</td>\n",
       "      <td>1084924.000</td>\n",
       "      <td>1084379.000</td>\n",
       "    </tr>\n",
       "    <tr>\n",
       "      <th>mean</th>\n",
       "      <td>3710168.076</td>\n",
       "      <td>1946.642</td>\n",
       "      <td>590955.860</td>\n",
       "      <td>27.547</td>\n",
       "      <td>2698.573</td>\n",
       "      <td>55.098</td>\n",
       "      <td>1596.840</td>\n",
       "      <td>155.313</td>\n",
       "      <td>3561995498.636</td>\n",
       "      <td>3561833326.458</td>\n",
       "    </tr>\n",
       "    <tr>\n",
       "      <th>std</th>\n",
       "      <td>1026807.296</td>\n",
       "      <td>19243.347</td>\n",
       "      <td>359288.840</td>\n",
       "      <td>21.318</td>\n",
       "      <td>1202.250</td>\n",
       "      <td>41.509</td>\n",
       "      <td>5601.503</td>\n",
       "      <td>127.149</td>\n",
       "      <td>986063765.765</td>\n",
       "      <td>986092644.664</td>\n",
       "    </tr>\n",
       "    <tr>\n",
       "      <th>min</th>\n",
       "      <td>1000002.000</td>\n",
       "      <td>0.000</td>\n",
       "      <td>1.000</td>\n",
       "      <td>0.000</td>\n",
       "      <td>0.000</td>\n",
       "      <td>-14.000</td>\n",
       "      <td>32.475</td>\n",
       "      <td>23.737</td>\n",
       "      <td>3064269.000</td>\n",
       "      <td>3064269.000</td>\n",
       "    </tr>\n",
       "    <tr>\n",
       "      <th>25%</th>\n",
       "      <td>3128593.250</td>\n",
       "      <td>1920.000</td>\n",
       "      <td>286549.250</td>\n",
       "      <td>18.340</td>\n",
       "      <td>2100.000</td>\n",
       "      <td>25.000</td>\n",
       "      <td>652.088</td>\n",
       "      <td>109.693</td>\n",
       "      <td>3043180043.750</td>\n",
       "      <td>3043160071.500</td>\n",
       "    </tr>\n",
       "    <tr>\n",
       "      <th>50%</th>\n",
       "      <td>4066821.500</td>\n",
       "      <td>1930.000</td>\n",
       "      <td>573269.500</td>\n",
       "      <td>26.100</td>\n",
       "      <td>2100.000</td>\n",
       "      <td>46.000</td>\n",
       "      <td>957.230</td>\n",
       "      <td>137.920</td>\n",
       "      <td>4019280046.500</td>\n",
       "      <td>4019180075.000</td>\n",
       "    </tr>\n",
       "    <tr>\n",
       "      <th>75%</th>\n",
       "      <td>4481732.750</td>\n",
       "      <td>1955.000</td>\n",
       "      <td>861574.750</td>\n",
       "      <td>31.097</td>\n",
       "      <td>2100.000</td>\n",
       "      <td>74.000</td>\n",
       "      <td>1320.321</td>\n",
       "      <td>164.450</td>\n",
       "      <td>4106720008.000</td>\n",
       "      <td>4106690091.500</td>\n",
       "    </tr>\n",
       "    <tr>\n",
       "      <th>max</th>\n",
       "      <td>5799523.000</td>\n",
       "      <td>19999979.000</td>\n",
       "      <td>1293191.000</td>\n",
       "      <td>1550.000</td>\n",
       "      <td>5110.000</td>\n",
       "      <td>556.000</td>\n",
       "      <td>1171874.446</td>\n",
       "      <td>20017.293</td>\n",
       "      <td>5999999999.000</td>\n",
       "      <td>5999999999.000</td>\n",
       "    </tr>\n",
       "  </tbody>\n",
       "</table>\n",
       "</div>"
      ],
      "text/plain": [
       "              BIN   CNSTRCT_YR    DOITT_ID  HEIGHTROOF   FEAT_CODE  \\\n",
       "count 1084926.000  1080044.000 1084926.000 1082261.000 1084917.000   \n",
       "mean  3710168.076     1946.642  590955.860      27.547    2698.573   \n",
       "std   1026807.296    19243.347  359288.840      21.318    1202.250   \n",
       "min   1000002.000        0.000       1.000       0.000       0.000   \n",
       "25%   3128593.250     1920.000  286549.250      18.340    2100.000   \n",
       "50%   4066821.500     1930.000  573269.500      26.100    2100.000   \n",
       "75%   4481732.750     1955.000  861574.750      31.097    2100.000   \n",
       "max   5799523.000 19999979.000 1293191.000    1550.000    5110.000   \n",
       "\n",
       "       GROUNDELEV  SHAPE_AREA   SHAPE_LEN       BASE_BBL     MPLUTO_BBL  \n",
       "count 1084399.000 1084926.000 1084926.000    1084924.000    1084379.000  \n",
       "mean       55.098    1596.840     155.313 3561995498.636 3561833326.458  \n",
       "std        41.509    5601.503     127.149  986063765.765  986092644.664  \n",
       "min       -14.000      32.475      23.737    3064269.000    3064269.000  \n",
       "25%        25.000     652.088     109.693 3043180043.750 3043160071.500  \n",
       "50%        46.000     957.230     137.920 4019280046.500 4019180075.000  \n",
       "75%        74.000    1320.321     164.450 4106720008.000 4106690091.500  \n",
       "max       556.000 1171874.446   20017.293 5999999999.000 5999999999.000  "
      ]
     },
     "execution_count": 18,
     "metadata": {},
     "output_type": "execute_result"
    }
   ],
   "source": [
    "# printing descriptive statistics of our numeric columns in our data\n",
    "building_footprints.describe()"
   ]
  },
  {
   "cell_type": "code",
   "execution_count": 19,
   "metadata": {},
   "outputs": [
    {
     "data": {
      "text/plain": [
       "BIN             4066821.500\n",
       "CNSTRCT_YR         1930.000\n",
       "DOITT_ID         573269.500\n",
       "HEIGHTROOF           26.100\n",
       "FEAT_CODE          2100.000\n",
       "GROUNDELEV           46.000\n",
       "SHAPE_AREA          957.230\n",
       "SHAPE_LEN           137.920\n",
       "BASE_BBL     4019280046.500\n",
       "MPLUTO_BBL   4019180075.000\n",
       "dtype: float64"
      ]
     },
     "execution_count": 19,
     "metadata": {},
     "output_type": "execute_result"
    }
   ],
   "source": [
    "# calculating the median value in each columns\n",
    "# this can also be found with the describe method above at the 50% index/row\n",
    "building_footprints.median()"
   ]
  },
  {
   "cell_type": "code",
   "execution_count": 20,
   "metadata": {},
   "outputs": [
    {
     "data": {
      "text/html": [
       "<div>\n",
       "<style scoped>\n",
       "    .dataframe tbody tr th:only-of-type {\n",
       "        vertical-align: middle;\n",
       "    }\n",
       "\n",
       "    .dataframe tbody tr th {\n",
       "        vertical-align: top;\n",
       "    }\n",
       "\n",
       "    .dataframe thead th {\n",
       "        text-align: right;\n",
       "    }\n",
       "</style>\n",
       "<table border=\"1\" class=\"dataframe\">\n",
       "  <thead>\n",
       "    <tr style=\"text-align: right;\">\n",
       "      <th></th>\n",
       "      <th>BIN</th>\n",
       "      <th>CNSTRCT_YR</th>\n",
       "      <th>HEIGHTROOF</th>\n",
       "      <th>FEAT_CODE</th>\n",
       "      <th>GROUNDELEV</th>\n",
       "      <th>SHAPE_AREA</th>\n",
       "      <th>SHAPE_LEN</th>\n",
       "      <th>BASE_BBL</th>\n",
       "      <th>MPLUTO_BBL</th>\n",
       "    </tr>\n",
       "  </thead>\n",
       "  <tbody>\n",
       "    <tr>\n",
       "      <th>0</th>\n",
       "      <td>4000000</td>\n",
       "      <td>1920.000</td>\n",
       "      <td>30.000</td>\n",
       "      <td>2100.000</td>\n",
       "      <td>10.000</td>\n",
       "      <td>173.205</td>\n",
       "      <td>60.000</td>\n",
       "      <td>4163500400.000</td>\n",
       "      <td>4163500400.000</td>\n",
       "    </tr>\n",
       "  </tbody>\n",
       "</table>\n",
       "</div>"
      ],
      "text/plain": [
       "       BIN  CNSTRCT_YR  HEIGHTROOF  FEAT_CODE  GROUNDELEV  SHAPE_AREA  \\\n",
       "0  4000000    1920.000      30.000   2100.000      10.000     173.205   \n",
       "\n",
       "   SHAPE_LEN       BASE_BBL     MPLUTO_BBL  \n",
       "0     60.000 4163500400.000 4163500400.000  "
      ]
     },
     "execution_count": 20,
     "metadata": {},
     "output_type": "execute_result"
    }
   ],
   "source": [
    "building_footprints.loc[:, building_footprints.columns != 'DOITT_ID'].mode(numeric_only=True)"
   ]
  },
  {
   "cell_type": "code",
   "execution_count": 21,
   "metadata": {},
   "outputs": [
    {
     "data": {
      "text/html": [
       "<div>\n",
       "<style scoped>\n",
       "    .dataframe tbody tr th:only-of-type {\n",
       "        vertical-align: middle;\n",
       "    }\n",
       "\n",
       "    .dataframe tbody tr th {\n",
       "        vertical-align: top;\n",
       "    }\n",
       "\n",
       "    .dataframe thead th {\n",
       "        text-align: right;\n",
       "    }\n",
       "</style>\n",
       "<table border=\"1\" class=\"dataframe\">\n",
       "  <thead>\n",
       "    <tr style=\"text-align: right;\">\n",
       "      <th></th>\n",
       "      <th>0</th>\n",
       "    </tr>\n",
       "  </thead>\n",
       "  <tbody>\n",
       "    <tr>\n",
       "      <th>BIN</th>\n",
       "      <td>4000000.000</td>\n",
       "    </tr>\n",
       "    <tr>\n",
       "      <th>CNSTRCT_YR</th>\n",
       "      <td>1920.000</td>\n",
       "    </tr>\n",
       "    <tr>\n",
       "      <th>HEIGHTROOF</th>\n",
       "      <td>30.000</td>\n",
       "    </tr>\n",
       "    <tr>\n",
       "      <th>FEAT_CODE</th>\n",
       "      <td>2100.000</td>\n",
       "    </tr>\n",
       "    <tr>\n",
       "      <th>GROUNDELEV</th>\n",
       "      <td>10.000</td>\n",
       "    </tr>\n",
       "    <tr>\n",
       "      <th>SHAPE_AREA</th>\n",
       "      <td>173.205</td>\n",
       "    </tr>\n",
       "    <tr>\n",
       "      <th>SHAPE_LEN</th>\n",
       "      <td>60.000</td>\n",
       "    </tr>\n",
       "    <tr>\n",
       "      <th>BASE_BBL</th>\n",
       "      <td>4163500400.000</td>\n",
       "    </tr>\n",
       "    <tr>\n",
       "      <th>MPLUTO_BBL</th>\n",
       "      <td>4163500400.000</td>\n",
       "    </tr>\n",
       "  </tbody>\n",
       "</table>\n",
       "</div>"
      ],
      "text/plain": [
       "                        0\n",
       "BIN           4000000.000\n",
       "CNSTRCT_YR       1920.000\n",
       "HEIGHTROOF         30.000\n",
       "FEAT_CODE        2100.000\n",
       "GROUNDELEV         10.000\n",
       "SHAPE_AREA        173.205\n",
       "SHAPE_LEN          60.000\n",
       "BASE_BBL   4163500400.000\n",
       "MPLUTO_BBL 4163500400.000"
      ]
     },
     "execution_count": 21,
     "metadata": {},
     "output_type": "execute_result"
    }
   ],
   "source": [
    "building_footprints.loc[:, building_footprints.columns != 'DOITT_ID'].mode(numeric_only=True).T"
   ]
  },
  {
   "cell_type": "code",
   "execution_count": 22,
   "metadata": {},
   "outputs": [
    {
     "data": {
      "text/html": [
       "<div>\n",
       "<style scoped>\n",
       "    .dataframe tbody tr th:only-of-type {\n",
       "        vertical-align: middle;\n",
       "    }\n",
       "\n",
       "    .dataframe tbody tr th {\n",
       "        vertical-align: top;\n",
       "    }\n",
       "\n",
       "    .dataframe thead th {\n",
       "        text-align: right;\n",
       "    }\n",
       "</style>\n",
       "<table border=\"1\" class=\"dataframe\">\n",
       "  <thead>\n",
       "    <tr style=\"text-align: right;\">\n",
       "      <th></th>\n",
       "      <th>BIN</th>\n",
       "      <th>CNSTRCT_YR</th>\n",
       "      <th>DOITT_ID</th>\n",
       "      <th>HEIGHTROOF</th>\n",
       "      <th>FEAT_CODE</th>\n",
       "      <th>GROUNDELEV</th>\n",
       "      <th>SHAPE_AREA</th>\n",
       "      <th>SHAPE_LEN</th>\n",
       "      <th>BASE_BBL</th>\n",
       "      <th>MPLUTO_BBL</th>\n",
       "    </tr>\n",
       "  </thead>\n",
       "  <tbody>\n",
       "    <tr>\n",
       "      <th>BIN</th>\n",
       "      <td>1.000</td>\n",
       "      <td>0.002</td>\n",
       "      <td>0.156</td>\n",
       "      <td>-0.361</td>\n",
       "      <td>0.190</td>\n",
       "      <td>0.087</td>\n",
       "      <td>-0.101</td>\n",
       "      <td>-0.216</td>\n",
       "      <td>0.989</td>\n",
       "      <td>0.989</td>\n",
       "    </tr>\n",
       "    <tr>\n",
       "      <th>CNSTRCT_YR</th>\n",
       "      <td>0.002</td>\n",
       "      <td>1.000</td>\n",
       "      <td>0.002</td>\n",
       "      <td>0.001</td>\n",
       "      <td>-0.001</td>\n",
       "      <td>0.001</td>\n",
       "      <td>-0.000</td>\n",
       "      <td>-0.001</td>\n",
       "      <td>0.002</td>\n",
       "      <td>0.002</td>\n",
       "    </tr>\n",
       "    <tr>\n",
       "      <th>DOITT_ID</th>\n",
       "      <td>0.156</td>\n",
       "      <td>0.002</td>\n",
       "      <td>1.000</td>\n",
       "      <td>-0.177</td>\n",
       "      <td>0.551</td>\n",
       "      <td>-0.017</td>\n",
       "      <td>-0.038</td>\n",
       "      <td>-0.161</td>\n",
       "      <td>0.076</td>\n",
       "      <td>0.075</td>\n",
       "    </tr>\n",
       "    <tr>\n",
       "      <th>HEIGHTROOF</th>\n",
       "      <td>-0.361</td>\n",
       "      <td>0.001</td>\n",
       "      <td>-0.177</td>\n",
       "      <td>1.000</td>\n",
       "      <td>-0.365</td>\n",
       "      <td>-0.001</td>\n",
       "      <td>0.279</td>\n",
       "      <td>0.444</td>\n",
       "      <td>-0.330</td>\n",
       "      <td>-0.330</td>\n",
       "    </tr>\n",
       "    <tr>\n",
       "      <th>FEAT_CODE</th>\n",
       "      <td>0.190</td>\n",
       "      <td>-0.001</td>\n",
       "      <td>0.551</td>\n",
       "      <td>-0.365</td>\n",
       "      <td>1.000</td>\n",
       "      <td>0.001</td>\n",
       "      <td>-0.107</td>\n",
       "      <td>-0.311</td>\n",
       "      <td>0.089</td>\n",
       "      <td>0.089</td>\n",
       "    </tr>\n",
       "    <tr>\n",
       "      <th>GROUNDELEV</th>\n",
       "      <td>0.087</td>\n",
       "      <td>0.001</td>\n",
       "      <td>-0.017</td>\n",
       "      <td>-0.001</td>\n",
       "      <td>0.001</td>\n",
       "      <td>1.000</td>\n",
       "      <td>-0.020</td>\n",
       "      <td>-0.005</td>\n",
       "      <td>0.106</td>\n",
       "      <td>0.106</td>\n",
       "    </tr>\n",
       "    <tr>\n",
       "      <th>SHAPE_AREA</th>\n",
       "      <td>-0.101</td>\n",
       "      <td>-0.000</td>\n",
       "      <td>-0.038</td>\n",
       "      <td>0.279</td>\n",
       "      <td>-0.107</td>\n",
       "      <td>-0.020</td>\n",
       "      <td>1.000</td>\n",
       "      <td>0.785</td>\n",
       "      <td>-0.096</td>\n",
       "      <td>-0.096</td>\n",
       "    </tr>\n",
       "    <tr>\n",
       "      <th>SHAPE_LEN</th>\n",
       "      <td>-0.216</td>\n",
       "      <td>-0.001</td>\n",
       "      <td>-0.161</td>\n",
       "      <td>0.444</td>\n",
       "      <td>-0.311</td>\n",
       "      <td>-0.005</td>\n",
       "      <td>0.785</td>\n",
       "      <td>1.000</td>\n",
       "      <td>-0.191</td>\n",
       "      <td>-0.191</td>\n",
       "    </tr>\n",
       "    <tr>\n",
       "      <th>BASE_BBL</th>\n",
       "      <td>0.989</td>\n",
       "      <td>0.002</td>\n",
       "      <td>0.076</td>\n",
       "      <td>-0.330</td>\n",
       "      <td>0.089</td>\n",
       "      <td>0.106</td>\n",
       "      <td>-0.096</td>\n",
       "      <td>-0.191</td>\n",
       "      <td>1.000</td>\n",
       "      <td>1.000</td>\n",
       "    </tr>\n",
       "    <tr>\n",
       "      <th>MPLUTO_BBL</th>\n",
       "      <td>0.989</td>\n",
       "      <td>0.002</td>\n",
       "      <td>0.075</td>\n",
       "      <td>-0.330</td>\n",
       "      <td>0.089</td>\n",
       "      <td>0.106</td>\n",
       "      <td>-0.096</td>\n",
       "      <td>-0.191</td>\n",
       "      <td>1.000</td>\n",
       "      <td>1.000</td>\n",
       "    </tr>\n",
       "  </tbody>\n",
       "</table>\n",
       "</div>"
      ],
      "text/plain": [
       "              BIN  CNSTRCT_YR  DOITT_ID  HEIGHTROOF  FEAT_CODE  GROUNDELEV  \\\n",
       "BIN         1.000       0.002     0.156      -0.361      0.190       0.087   \n",
       "CNSTRCT_YR  0.002       1.000     0.002       0.001     -0.001       0.001   \n",
       "DOITT_ID    0.156       0.002     1.000      -0.177      0.551      -0.017   \n",
       "HEIGHTROOF -0.361       0.001    -0.177       1.000     -0.365      -0.001   \n",
       "FEAT_CODE   0.190      -0.001     0.551      -0.365      1.000       0.001   \n",
       "GROUNDELEV  0.087       0.001    -0.017      -0.001      0.001       1.000   \n",
       "SHAPE_AREA -0.101      -0.000    -0.038       0.279     -0.107      -0.020   \n",
       "SHAPE_LEN  -0.216      -0.001    -0.161       0.444     -0.311      -0.005   \n",
       "BASE_BBL    0.989       0.002     0.076      -0.330      0.089       0.106   \n",
       "MPLUTO_BBL  0.989       0.002     0.075      -0.330      0.089       0.106   \n",
       "\n",
       "            SHAPE_AREA  SHAPE_LEN  BASE_BBL  MPLUTO_BBL  \n",
       "BIN             -0.101     -0.216     0.989       0.989  \n",
       "CNSTRCT_YR      -0.000     -0.001     0.002       0.002  \n",
       "DOITT_ID        -0.038     -0.161     0.076       0.075  \n",
       "HEIGHTROOF       0.279      0.444    -0.330      -0.330  \n",
       "FEAT_CODE       -0.107     -0.311     0.089       0.089  \n",
       "GROUNDELEV      -0.020     -0.005     0.106       0.106  \n",
       "SHAPE_AREA       1.000      0.785    -0.096      -0.096  \n",
       "SHAPE_LEN        0.785      1.000    -0.191      -0.191  \n",
       "BASE_BBL        -0.096     -0.191     1.000       1.000  \n",
       "MPLUTO_BBL      -0.096     -0.191     1.000       1.000  "
      ]
     },
     "execution_count": 22,
     "metadata": {},
     "output_type": "execute_result"
    }
   ],
   "source": [
    "# compute pairwise correlation of columns, excluding NA/null values\n",
    "building_footprints.corr()"
   ]
  },
  {
   "cell_type": "code",
   "execution_count": 23,
   "metadata": {},
   "outputs": [
    {
     "data": {
      "text/html": [
       "<div>\n",
       "<style scoped>\n",
       "    .dataframe tbody tr th:only-of-type {\n",
       "        vertical-align: middle;\n",
       "    }\n",
       "\n",
       "    .dataframe tbody tr th {\n",
       "        vertical-align: top;\n",
       "    }\n",
       "\n",
       "    .dataframe thead th {\n",
       "        text-align: right;\n",
       "    }\n",
       "</style>\n",
       "<table border=\"1\" class=\"dataframe\">\n",
       "  <thead>\n",
       "    <tr style=\"text-align: right;\">\n",
       "      <th></th>\n",
       "      <th>0</th>\n",
       "      <th>1</th>\n",
       "      <th>2</th>\n",
       "      <th>3</th>\n",
       "      <th>4</th>\n",
       "      <th>5</th>\n",
       "      <th>6</th>\n",
       "      <th>7</th>\n",
       "      <th>8</th>\n",
       "      <th>9</th>\n",
       "      <th>...</th>\n",
       "      <th>1084916</th>\n",
       "      <th>1084917</th>\n",
       "      <th>1084918</th>\n",
       "      <th>1084919</th>\n",
       "      <th>1084920</th>\n",
       "      <th>1084921</th>\n",
       "      <th>1084922</th>\n",
       "      <th>1084923</th>\n",
       "      <th>1084924</th>\n",
       "      <th>1084925</th>\n",
       "    </tr>\n",
       "  </thead>\n",
       "  <tbody>\n",
       "    <tr>\n",
       "      <th>BIN</th>\n",
       "      <td>3394646</td>\n",
       "      <td>4548330</td>\n",
       "      <td>4460479</td>\n",
       "      <td>3355684</td>\n",
       "      <td>3131737</td>\n",
       "      <td>4299828</td>\n",
       "      <td>4609623</td>\n",
       "      <td>4554786</td>\n",
       "      <td>3388445</td>\n",
       "      <td>3110799</td>\n",
       "      <td>...</td>\n",
       "      <td>2078402</td>\n",
       "      <td>2100866</td>\n",
       "      <td>4617774</td>\n",
       "      <td>2010644</td>\n",
       "      <td>1030358</td>\n",
       "      <td>2004416</td>\n",
       "      <td>3383070</td>\n",
       "      <td>2129592</td>\n",
       "      <td>4117949</td>\n",
       "      <td>4619762</td>\n",
       "    </tr>\n",
       "    <tr>\n",
       "      <th>the_geom</th>\n",
       "      <td>MULTIPOLYGON (((-73.87129515296562 40.65717370...</td>\n",
       "      <td>MULTIPOLYGON (((-73.87670970144625 40.71425234...</td>\n",
       "      <td>MULTIPOLYGON (((-73.85195485799383 40.66235471...</td>\n",
       "      <td>MULTIPOLYGON (((-73.94029215265738 40.64108287...</td>\n",
       "      <td>MULTIPOLYGON (((-73.98998983552244 40.62383804...</td>\n",
       "      <td>MULTIPOLYGON (((-73.7654951204543 40.611271914...</td>\n",
       "      <td>MULTIPOLYGON (((-73.85236537192253 40.75122838...</td>\n",
       "      <td>MULTIPOLYGON (((-73.71512875395307 40.73330867...</td>\n",
       "      <td>MULTIPOLYGON (((-73.94606707932263 40.66016319...</td>\n",
       "      <td>MULTIPOLYGON (((-73.94669293900293 40.64493688...</td>\n",
       "      <td>...</td>\n",
       "      <td>MULTIPOLYGON (((-73.81375616339986 40.82871947...</td>\n",
       "      <td>MULTIPOLYGON (((-73.91193934923515 40.90447526...</td>\n",
       "      <td>MULTIPOLYGON (((-73.86455021486458 40.76221601...</td>\n",
       "      <td>MULTIPOLYGON (((-73.88972485328527 40.83114800...</td>\n",
       "      <td>MULTIPOLYGON (((-73.98345404292539 40.77692763...</td>\n",
       "      <td>MULTIPOLYGON (((-73.90956075794786 40.81352239...</td>\n",
       "      <td>MULTIPOLYGON (((-74.02078005035948 40.63829205...</td>\n",
       "      <td>MULTIPOLYGON (((-73.86629143808064 40.83458799...</td>\n",
       "      <td>MULTIPOLYGON (((-73.81363844125889 40.75079318...</td>\n",
       "      <td>MULTIPOLYGON (((-73.8713972196869 40.708237472...</td>\n",
       "    </tr>\n",
       "    <tr>\n",
       "      <th>NAME</th>\n",
       "      <td>NaN</td>\n",
       "      <td>NaN</td>\n",
       "      <td>NaN</td>\n",
       "      <td>NaN</td>\n",
       "      <td>NaN</td>\n",
       "      <td>NaN</td>\n",
       "      <td>NaN</td>\n",
       "      <td>NaN</td>\n",
       "      <td>NaN</td>\n",
       "      <td>NaN</td>\n",
       "      <td>...</td>\n",
       "      <td>NaN</td>\n",
       "      <td>NaN</td>\n",
       "      <td>NaN</td>\n",
       "      <td>NaN</td>\n",
       "      <td>NaN</td>\n",
       "      <td>NaN</td>\n",
       "      <td>NaN</td>\n",
       "      <td>NaN</td>\n",
       "      <td>NaN</td>\n",
       "      <td>NaN</td>\n",
       "    </tr>\n",
       "    <tr>\n",
       "      <th>LSTMODDATE</th>\n",
       "      <td>08/22/2017 12:00:00 AM +0000</td>\n",
       "      <td>08/17/2017 12:00:00 AM +0000</td>\n",
       "      <td>08/22/2017 12:00:00 AM +0000</td>\n",
       "      <td>08/17/2017 12:00:00 AM +0000</td>\n",
       "      <td>08/22/2017 12:00:00 AM +0000</td>\n",
       "      <td>08/22/2017 12:00:00 AM +0000</td>\n",
       "      <td>08/17/2017 12:00:00 AM +0000</td>\n",
       "      <td>08/17/2017 12:00:00 AM +0000</td>\n",
       "      <td>08/22/2017 12:00:00 AM +0000</td>\n",
       "      <td>08/22/2017 12:00:00 AM +0000</td>\n",
       "      <td>...</td>\n",
       "      <td>10/02/2020 12:00:00 AM +0000</td>\n",
       "      <td>10/02/2020 12:00:00 AM +0000</td>\n",
       "      <td>10/02/2020 12:00:00 AM +0000</td>\n",
       "      <td>10/02/2020 12:00:00 AM +0000</td>\n",
       "      <td>10/02/2020 12:00:00 AM +0000</td>\n",
       "      <td>10/02/2020 12:00:00 AM +0000</td>\n",
       "      <td>10/02/2020 12:00:00 AM +0000</td>\n",
       "      <td>10/02/2020 12:00:00 AM +0000</td>\n",
       "      <td>10/02/2020 12:00:00 AM +0000</td>\n",
       "      <td>10/02/2020 12:00:00 AM +0000</td>\n",
       "    </tr>\n",
       "    <tr>\n",
       "      <th>CNSTRCT_YR</th>\n",
       "      <td>2009.000</td>\n",
       "      <td>1930.000</td>\n",
       "      <td>1960.000</td>\n",
       "      <td>1920.000</td>\n",
       "      <td>1915.000</td>\n",
       "      <td>1950.000</td>\n",
       "      <td>1965.000</td>\n",
       "      <td>1935.000</td>\n",
       "      <td>2004.000</td>\n",
       "      <td>1910.000</td>\n",
       "      <td>...</td>\n",
       "      <td>2020.000</td>\n",
       "      <td>2020.000</td>\n",
       "      <td>2020.000</td>\n",
       "      <td>2020.000</td>\n",
       "      <td>NaN</td>\n",
       "      <td>NaN</td>\n",
       "      <td>NaN</td>\n",
       "      <td>NaN</td>\n",
       "      <td>2018.000</td>\n",
       "      <td>2019.000</td>\n",
       "    </tr>\n",
       "    <tr>\n",
       "      <th>LSTSTATYPE</th>\n",
       "      <td>Constructed</td>\n",
       "      <td>Constructed</td>\n",
       "      <td>Constructed</td>\n",
       "      <td>Constructed</td>\n",
       "      <td>Constructed</td>\n",
       "      <td>Constructed</td>\n",
       "      <td>Constructed</td>\n",
       "      <td>Constructed</td>\n",
       "      <td>Constructed</td>\n",
       "      <td>Constructed</td>\n",
       "      <td>...</td>\n",
       "      <td>Constructed</td>\n",
       "      <td>Marked for Construction</td>\n",
       "      <td>Constructed</td>\n",
       "      <td>Constructed</td>\n",
       "      <td>Marked for Construction</td>\n",
       "      <td>Constructed</td>\n",
       "      <td>Constructed</td>\n",
       "      <td>Constructed</td>\n",
       "      <td>Constructed</td>\n",
       "      <td>Constructed</td>\n",
       "    </tr>\n",
       "    <tr>\n",
       "      <th>DOITT_ID</th>\n",
       "      <td>1212853</td>\n",
       "      <td>1226227</td>\n",
       "      <td>581946</td>\n",
       "      <td>858061</td>\n",
       "      <td>568078</td>\n",
       "      <td>41210</td>\n",
       "      <td>1220055</td>\n",
       "      <td>1228515</td>\n",
       "      <td>1014893</td>\n",
       "      <td>757675</td>\n",
       "      <td>...</td>\n",
       "      <td>1293182</td>\n",
       "      <td>1293183</td>\n",
       "      <td>1293184</td>\n",
       "      <td>1293187</td>\n",
       "      <td>1293191</td>\n",
       "      <td>1293189</td>\n",
       "      <td>1293188</td>\n",
       "      <td>1293190</td>\n",
       "      <td>1293175</td>\n",
       "      <td>1289954</td>\n",
       "    </tr>\n",
       "    <tr>\n",
       "      <th>HEIGHTROOF</th>\n",
       "      <td>21.609</td>\n",
       "      <td>10.360</td>\n",
       "      <td>29.812</td>\n",
       "      <td>11.200</td>\n",
       "      <td>24.980</td>\n",
       "      <td>30.161</td>\n",
       "      <td>10.770</td>\n",
       "      <td>12.150</td>\n",
       "      <td>32.770</td>\n",
       "      <td>27.370</td>\n",
       "      <td>...</td>\n",
       "      <td>25.000</td>\n",
       "      <td>NaN</td>\n",
       "      <td>27.900</td>\n",
       "      <td>40.000</td>\n",
       "      <td>350.000</td>\n",
       "      <td>18.000</td>\n",
       "      <td>18.000</td>\n",
       "      <td>18.000</td>\n",
       "      <td>20.000</td>\n",
       "      <td>NaN</td>\n",
       "    </tr>\n",
       "    <tr>\n",
       "      <th>FEAT_CODE</th>\n",
       "      <td>2100.000</td>\n",
       "      <td>5110.000</td>\n",
       "      <td>2100.000</td>\n",
       "      <td>5110.000</td>\n",
       "      <td>2100.000</td>\n",
       "      <td>2100.000</td>\n",
       "      <td>5110.000</td>\n",
       "      <td>5110.000</td>\n",
       "      <td>2100.000</td>\n",
       "      <td>2100.000</td>\n",
       "      <td>...</td>\n",
       "      <td>2100.000</td>\n",
       "      <td>5100.000</td>\n",
       "      <td>2100.000</td>\n",
       "      <td>2100.000</td>\n",
       "      <td>5100.000</td>\n",
       "      <td>1001.000</td>\n",
       "      <td>1001.000</td>\n",
       "      <td>1001.000</td>\n",
       "      <td>2100.000</td>\n",
       "      <td>2100.000</td>\n",
       "    </tr>\n",
       "    <tr>\n",
       "      <th>GROUNDELEV</th>\n",
       "      <td>18.000</td>\n",
       "      <td>122.000</td>\n",
       "      <td>10.000</td>\n",
       "      <td>32.000</td>\n",
       "      <td>44.000</td>\n",
       "      <td>6.000</td>\n",
       "      <td>38.000</td>\n",
       "      <td>96.000</td>\n",
       "      <td>40.000</td>\n",
       "      <td>39.000</td>\n",
       "      <td>...</td>\n",
       "      <td>8.000</td>\n",
       "      <td>54.000</td>\n",
       "      <td>81.000</td>\n",
       "      <td>81.000</td>\n",
       "      <td>76.000</td>\n",
       "      <td>37.000</td>\n",
       "      <td>76.000</td>\n",
       "      <td>34.000</td>\n",
       "      <td>34.000</td>\n",
       "      <td>85.000</td>\n",
       "    </tr>\n",
       "    <tr>\n",
       "      <th>SHAPE_AREA</th>\n",
       "      <td>854.662</td>\n",
       "      <td>217.594</td>\n",
       "      <td>946.427</td>\n",
       "      <td>248.678</td>\n",
       "      <td>1163.228</td>\n",
       "      <td>1420.667</td>\n",
       "      <td>366.518</td>\n",
       "      <td>213.102</td>\n",
       "      <td>1037.407</td>\n",
       "      <td>1150.816</td>\n",
       "      <td>...</td>\n",
       "      <td>922.782</td>\n",
       "      <td>13719.022</td>\n",
       "      <td>1391.836</td>\n",
       "      <td>1607.366</td>\n",
       "      <td>11450.022</td>\n",
       "      <td>2497.520</td>\n",
       "      <td>1275.615</td>\n",
       "      <td>927.845</td>\n",
       "      <td>2002.870</td>\n",
       "      <td>33487.282</td>\n",
       "    </tr>\n",
       "    <tr>\n",
       "      <th>SHAPE_LEN</th>\n",
       "      <td>125.080</td>\n",
       "      <td>60.226</td>\n",
       "      <td>123.142</td>\n",
       "      <td>63.941</td>\n",
       "      <td>165.609</td>\n",
       "      <td>155.916</td>\n",
       "      <td>77.166</td>\n",
       "      <td>60.121</td>\n",
       "      <td>147.770</td>\n",
       "      <td>151.861</td>\n",
       "      <td>...</td>\n",
       "      <td>143.767</td>\n",
       "      <td>561.203</td>\n",
       "      <td>159.548</td>\n",
       "      <td>178.519</td>\n",
       "      <td>430.019</td>\n",
       "      <td>235.066</td>\n",
       "      <td>156.255</td>\n",
       "      <td>124.742</td>\n",
       "      <td>186.363</td>\n",
       "      <td>904.178</td>\n",
       "    </tr>\n",
       "    <tr>\n",
       "      <th>BASE_BBL</th>\n",
       "      <td>3044520815.000</td>\n",
       "      <td>4030640041.000</td>\n",
       "      <td>4139430001.000</td>\n",
       "      <td>3049720006.000</td>\n",
       "      <td>3055100055.000</td>\n",
       "      <td>4156840062.000</td>\n",
       "      <td>4020140047.000</td>\n",
       "      <td>4086190031.000</td>\n",
       "      <td>3048020021.000</td>\n",
       "      <td>3049320062.000</td>\n",
       "      <td>...</td>\n",
       "      <td>2054860018.000</td>\n",
       "      <td>2059470001.000</td>\n",
       "      <td>4016690018.000</td>\n",
       "      <td>2029870040.000</td>\n",
       "      <td>1011580133.000</td>\n",
       "      <td>2026230140.000</td>\n",
       "      <td>3058180005.000</td>\n",
       "      <td>2038810011.000</td>\n",
       "      <td>4052200029.000</td>\n",
       "      <td>4033040164.000</td>\n",
       "    </tr>\n",
       "    <tr>\n",
       "      <th>MPLUTO_BBL</th>\n",
       "      <td>3044520815.000</td>\n",
       "      <td>4030640041.000</td>\n",
       "      <td>4139430001.000</td>\n",
       "      <td>3049720006.000</td>\n",
       "      <td>3055100055.000</td>\n",
       "      <td>4156840062.000</td>\n",
       "      <td>4020140047.000</td>\n",
       "      <td>4086190031.000</td>\n",
       "      <td>3048020021.000</td>\n",
       "      <td>3049320062.000</td>\n",
       "      <td>...</td>\n",
       "      <td>2054860018.000</td>\n",
       "      <td>2059470001.000</td>\n",
       "      <td>4016690018.000</td>\n",
       "      <td>NaN</td>\n",
       "      <td>NaN</td>\n",
       "      <td>2026230140.000</td>\n",
       "      <td>NaN</td>\n",
       "      <td>2038810011.000</td>\n",
       "      <td>4052200029.000</td>\n",
       "      <td>4033040164.000</td>\n",
       "    </tr>\n",
       "    <tr>\n",
       "      <th>GEOMSOURCE</th>\n",
       "      <td>Photogramm</td>\n",
       "      <td>Photogramm</td>\n",
       "      <td>Photogramm</td>\n",
       "      <td>Photogramm</td>\n",
       "      <td>Photogramm</td>\n",
       "      <td>Photogramm</td>\n",
       "      <td>Photogramm</td>\n",
       "      <td>Photogramm</td>\n",
       "      <td>Other (Man</td>\n",
       "      <td>Photogramm</td>\n",
       "      <td>...</td>\n",
       "      <td>Other (Man</td>\n",
       "      <td>Other (Man</td>\n",
       "      <td>Other (Man</td>\n",
       "      <td>Other (Man</td>\n",
       "      <td>Other (Man</td>\n",
       "      <td>Other (Man</td>\n",
       "      <td>Other (Man</td>\n",
       "      <td>Other (Man</td>\n",
       "      <td>Other (Man</td>\n",
       "      <td>Other (Man</td>\n",
       "    </tr>\n",
       "  </tbody>\n",
       "</table>\n",
       "<p>15 rows × 1084926 columns</p>\n",
       "</div>"
      ],
      "text/plain": [
       "                                                      0        \\\n",
       "BIN                                                   3394646   \n",
       "the_geom    MULTIPOLYGON (((-73.87129515296562 40.65717370...   \n",
       "NAME                                                      NaN   \n",
       "LSTMODDATE                       08/22/2017 12:00:00 AM +0000   \n",
       "CNSTRCT_YR                                           2009.000   \n",
       "LSTSTATYPE                                        Constructed   \n",
       "DOITT_ID                                              1212853   \n",
       "HEIGHTROOF                                             21.609   \n",
       "FEAT_CODE                                            2100.000   \n",
       "GROUNDELEV                                             18.000   \n",
       "SHAPE_AREA                                            854.662   \n",
       "SHAPE_LEN                                             125.080   \n",
       "BASE_BBL                                       3044520815.000   \n",
       "MPLUTO_BBL                                     3044520815.000   \n",
       "GEOMSOURCE                                         Photogramm   \n",
       "\n",
       "                                                      1        \\\n",
       "BIN                                                   4548330   \n",
       "the_geom    MULTIPOLYGON (((-73.87670970144625 40.71425234...   \n",
       "NAME                                                      NaN   \n",
       "LSTMODDATE                       08/17/2017 12:00:00 AM +0000   \n",
       "CNSTRCT_YR                                           1930.000   \n",
       "LSTSTATYPE                                        Constructed   \n",
       "DOITT_ID                                              1226227   \n",
       "HEIGHTROOF                                             10.360   \n",
       "FEAT_CODE                                            5110.000   \n",
       "GROUNDELEV                                            122.000   \n",
       "SHAPE_AREA                                            217.594   \n",
       "SHAPE_LEN                                              60.226   \n",
       "BASE_BBL                                       4030640041.000   \n",
       "MPLUTO_BBL                                     4030640041.000   \n",
       "GEOMSOURCE                                         Photogramm   \n",
       "\n",
       "                                                      2        \\\n",
       "BIN                                                   4460479   \n",
       "the_geom    MULTIPOLYGON (((-73.85195485799383 40.66235471...   \n",
       "NAME                                                      NaN   \n",
       "LSTMODDATE                       08/22/2017 12:00:00 AM +0000   \n",
       "CNSTRCT_YR                                           1960.000   \n",
       "LSTSTATYPE                                        Constructed   \n",
       "DOITT_ID                                               581946   \n",
       "HEIGHTROOF                                             29.812   \n",
       "FEAT_CODE                                            2100.000   \n",
       "GROUNDELEV                                             10.000   \n",
       "SHAPE_AREA                                            946.427   \n",
       "SHAPE_LEN                                             123.142   \n",
       "BASE_BBL                                       4139430001.000   \n",
       "MPLUTO_BBL                                     4139430001.000   \n",
       "GEOMSOURCE                                         Photogramm   \n",
       "\n",
       "                                                      3        \\\n",
       "BIN                                                   3355684   \n",
       "the_geom    MULTIPOLYGON (((-73.94029215265738 40.64108287...   \n",
       "NAME                                                      NaN   \n",
       "LSTMODDATE                       08/17/2017 12:00:00 AM +0000   \n",
       "CNSTRCT_YR                                           1920.000   \n",
       "LSTSTATYPE                                        Constructed   \n",
       "DOITT_ID                                               858061   \n",
       "HEIGHTROOF                                             11.200   \n",
       "FEAT_CODE                                            5110.000   \n",
       "GROUNDELEV                                             32.000   \n",
       "SHAPE_AREA                                            248.678   \n",
       "SHAPE_LEN                                              63.941   \n",
       "BASE_BBL                                       3049720006.000   \n",
       "MPLUTO_BBL                                     3049720006.000   \n",
       "GEOMSOURCE                                         Photogramm   \n",
       "\n",
       "                                                      4        \\\n",
       "BIN                                                   3131737   \n",
       "the_geom    MULTIPOLYGON (((-73.98998983552244 40.62383804...   \n",
       "NAME                                                      NaN   \n",
       "LSTMODDATE                       08/22/2017 12:00:00 AM +0000   \n",
       "CNSTRCT_YR                                           1915.000   \n",
       "LSTSTATYPE                                        Constructed   \n",
       "DOITT_ID                                               568078   \n",
       "HEIGHTROOF                                             24.980   \n",
       "FEAT_CODE                                            2100.000   \n",
       "GROUNDELEV                                             44.000   \n",
       "SHAPE_AREA                                           1163.228   \n",
       "SHAPE_LEN                                             165.609   \n",
       "BASE_BBL                                       3055100055.000   \n",
       "MPLUTO_BBL                                     3055100055.000   \n",
       "GEOMSOURCE                                         Photogramm   \n",
       "\n",
       "                                                      5        \\\n",
       "BIN                                                   4299828   \n",
       "the_geom    MULTIPOLYGON (((-73.7654951204543 40.611271914...   \n",
       "NAME                                                      NaN   \n",
       "LSTMODDATE                       08/22/2017 12:00:00 AM +0000   \n",
       "CNSTRCT_YR                                           1950.000   \n",
       "LSTSTATYPE                                        Constructed   \n",
       "DOITT_ID                                                41210   \n",
       "HEIGHTROOF                                             30.161   \n",
       "FEAT_CODE                                            2100.000   \n",
       "GROUNDELEV                                              6.000   \n",
       "SHAPE_AREA                                           1420.667   \n",
       "SHAPE_LEN                                             155.916   \n",
       "BASE_BBL                                       4156840062.000   \n",
       "MPLUTO_BBL                                     4156840062.000   \n",
       "GEOMSOURCE                                         Photogramm   \n",
       "\n",
       "                                                      6        \\\n",
       "BIN                                                   4609623   \n",
       "the_geom    MULTIPOLYGON (((-73.85236537192253 40.75122838...   \n",
       "NAME                                                      NaN   \n",
       "LSTMODDATE                       08/17/2017 12:00:00 AM +0000   \n",
       "CNSTRCT_YR                                           1965.000   \n",
       "LSTSTATYPE                                        Constructed   \n",
       "DOITT_ID                                              1220055   \n",
       "HEIGHTROOF                                             10.770   \n",
       "FEAT_CODE                                            5110.000   \n",
       "GROUNDELEV                                             38.000   \n",
       "SHAPE_AREA                                            366.518   \n",
       "SHAPE_LEN                                              77.166   \n",
       "BASE_BBL                                       4020140047.000   \n",
       "MPLUTO_BBL                                     4020140047.000   \n",
       "GEOMSOURCE                                         Photogramm   \n",
       "\n",
       "                                                      7        \\\n",
       "BIN                                                   4554786   \n",
       "the_geom    MULTIPOLYGON (((-73.71512875395307 40.73330867...   \n",
       "NAME                                                      NaN   \n",
       "LSTMODDATE                       08/17/2017 12:00:00 AM +0000   \n",
       "CNSTRCT_YR                                           1935.000   \n",
       "LSTSTATYPE                                        Constructed   \n",
       "DOITT_ID                                              1228515   \n",
       "HEIGHTROOF                                             12.150   \n",
       "FEAT_CODE                                            5110.000   \n",
       "GROUNDELEV                                             96.000   \n",
       "SHAPE_AREA                                            213.102   \n",
       "SHAPE_LEN                                              60.121   \n",
       "BASE_BBL                                       4086190031.000   \n",
       "MPLUTO_BBL                                     4086190031.000   \n",
       "GEOMSOURCE                                         Photogramm   \n",
       "\n",
       "                                                      8        \\\n",
       "BIN                                                   3388445   \n",
       "the_geom    MULTIPOLYGON (((-73.94606707932263 40.66016319...   \n",
       "NAME                                                      NaN   \n",
       "LSTMODDATE                       08/22/2017 12:00:00 AM +0000   \n",
       "CNSTRCT_YR                                           2004.000   \n",
       "LSTSTATYPE                                        Constructed   \n",
       "DOITT_ID                                              1014893   \n",
       "HEIGHTROOF                                             32.770   \n",
       "FEAT_CODE                                            2100.000   \n",
       "GROUNDELEV                                             40.000   \n",
       "SHAPE_AREA                                           1037.407   \n",
       "SHAPE_LEN                                             147.770   \n",
       "BASE_BBL                                       3048020021.000   \n",
       "MPLUTO_BBL                                     3048020021.000   \n",
       "GEOMSOURCE                                         Other (Man   \n",
       "\n",
       "                                                      9        ...  \\\n",
       "BIN                                                   3110799  ...   \n",
       "the_geom    MULTIPOLYGON (((-73.94669293900293 40.64493688...  ...   \n",
       "NAME                                                      NaN  ...   \n",
       "LSTMODDATE                       08/22/2017 12:00:00 AM +0000  ...   \n",
       "CNSTRCT_YR                                           1910.000  ...   \n",
       "LSTSTATYPE                                        Constructed  ...   \n",
       "DOITT_ID                                               757675  ...   \n",
       "HEIGHTROOF                                             27.370  ...   \n",
       "FEAT_CODE                                            2100.000  ...   \n",
       "GROUNDELEV                                             39.000  ...   \n",
       "SHAPE_AREA                                           1150.816  ...   \n",
       "SHAPE_LEN                                             151.861  ...   \n",
       "BASE_BBL                                       3049320062.000  ...   \n",
       "MPLUTO_BBL                                     3049320062.000  ...   \n",
       "GEOMSOURCE                                         Photogramm  ...   \n",
       "\n",
       "                                                      1084916  \\\n",
       "BIN                                                   2078402   \n",
       "the_geom    MULTIPOLYGON (((-73.81375616339986 40.82871947...   \n",
       "NAME                                                      NaN   \n",
       "LSTMODDATE                       10/02/2020 12:00:00 AM +0000   \n",
       "CNSTRCT_YR                                           2020.000   \n",
       "LSTSTATYPE                                        Constructed   \n",
       "DOITT_ID                                              1293182   \n",
       "HEIGHTROOF                                             25.000   \n",
       "FEAT_CODE                                            2100.000   \n",
       "GROUNDELEV                                              8.000   \n",
       "SHAPE_AREA                                            922.782   \n",
       "SHAPE_LEN                                             143.767   \n",
       "BASE_BBL                                       2054860018.000   \n",
       "MPLUTO_BBL                                     2054860018.000   \n",
       "GEOMSOURCE                                         Other (Man   \n",
       "\n",
       "                                                      1084917  \\\n",
       "BIN                                                   2100866   \n",
       "the_geom    MULTIPOLYGON (((-73.91193934923515 40.90447526...   \n",
       "NAME                                                      NaN   \n",
       "LSTMODDATE                       10/02/2020 12:00:00 AM +0000   \n",
       "CNSTRCT_YR                                           2020.000   \n",
       "LSTSTATYPE                            Marked for Construction   \n",
       "DOITT_ID                                              1293183   \n",
       "HEIGHTROOF                                                NaN   \n",
       "FEAT_CODE                                            5100.000   \n",
       "GROUNDELEV                                             54.000   \n",
       "SHAPE_AREA                                          13719.022   \n",
       "SHAPE_LEN                                             561.203   \n",
       "BASE_BBL                                       2059470001.000   \n",
       "MPLUTO_BBL                                     2059470001.000   \n",
       "GEOMSOURCE                                         Other (Man   \n",
       "\n",
       "                                                      1084918  \\\n",
       "BIN                                                   4617774   \n",
       "the_geom    MULTIPOLYGON (((-73.86455021486458 40.76221601...   \n",
       "NAME                                                      NaN   \n",
       "LSTMODDATE                       10/02/2020 12:00:00 AM +0000   \n",
       "CNSTRCT_YR                                           2020.000   \n",
       "LSTSTATYPE                                        Constructed   \n",
       "DOITT_ID                                              1293184   \n",
       "HEIGHTROOF                                             27.900   \n",
       "FEAT_CODE                                            2100.000   \n",
       "GROUNDELEV                                             81.000   \n",
       "SHAPE_AREA                                           1391.836   \n",
       "SHAPE_LEN                                             159.548   \n",
       "BASE_BBL                                       4016690018.000   \n",
       "MPLUTO_BBL                                     4016690018.000   \n",
       "GEOMSOURCE                                         Other (Man   \n",
       "\n",
       "                                                      1084919  \\\n",
       "BIN                                                   2010644   \n",
       "the_geom    MULTIPOLYGON (((-73.88972485328527 40.83114800...   \n",
       "NAME                                                      NaN   \n",
       "LSTMODDATE                       10/02/2020 12:00:00 AM +0000   \n",
       "CNSTRCT_YR                                           2020.000   \n",
       "LSTSTATYPE                                        Constructed   \n",
       "DOITT_ID                                              1293187   \n",
       "HEIGHTROOF                                             40.000   \n",
       "FEAT_CODE                                            2100.000   \n",
       "GROUNDELEV                                             81.000   \n",
       "SHAPE_AREA                                           1607.366   \n",
       "SHAPE_LEN                                             178.519   \n",
       "BASE_BBL                                       2029870040.000   \n",
       "MPLUTO_BBL                                                NaN   \n",
       "GEOMSOURCE                                         Other (Man   \n",
       "\n",
       "                                                      1084920  \\\n",
       "BIN                                                   1030358   \n",
       "the_geom    MULTIPOLYGON (((-73.98345404292539 40.77692763...   \n",
       "NAME                                                      NaN   \n",
       "LSTMODDATE                       10/02/2020 12:00:00 AM +0000   \n",
       "CNSTRCT_YR                                                NaN   \n",
       "LSTSTATYPE                            Marked for Construction   \n",
       "DOITT_ID                                              1293191   \n",
       "HEIGHTROOF                                            350.000   \n",
       "FEAT_CODE                                            5100.000   \n",
       "GROUNDELEV                                             76.000   \n",
       "SHAPE_AREA                                          11450.022   \n",
       "SHAPE_LEN                                             430.019   \n",
       "BASE_BBL                                       1011580133.000   \n",
       "MPLUTO_BBL                                                NaN   \n",
       "GEOMSOURCE                                         Other (Man   \n",
       "\n",
       "                                                      1084921  \\\n",
       "BIN                                                   2004416   \n",
       "the_geom    MULTIPOLYGON (((-73.90956075794786 40.81352239...   \n",
       "NAME                                                      NaN   \n",
       "LSTMODDATE                       10/02/2020 12:00:00 AM +0000   \n",
       "CNSTRCT_YR                                                NaN   \n",
       "LSTSTATYPE                                        Constructed   \n",
       "DOITT_ID                                              1293189   \n",
       "HEIGHTROOF                                             18.000   \n",
       "FEAT_CODE                                            1001.000   \n",
       "GROUNDELEV                                             37.000   \n",
       "SHAPE_AREA                                           2497.520   \n",
       "SHAPE_LEN                                             235.066   \n",
       "BASE_BBL                                       2026230140.000   \n",
       "MPLUTO_BBL                                     2026230140.000   \n",
       "GEOMSOURCE                                         Other (Man   \n",
       "\n",
       "                                                      1084922  \\\n",
       "BIN                                                   3383070   \n",
       "the_geom    MULTIPOLYGON (((-74.02078005035948 40.63829205...   \n",
       "NAME                                                      NaN   \n",
       "LSTMODDATE                       10/02/2020 12:00:00 AM +0000   \n",
       "CNSTRCT_YR                                                NaN   \n",
       "LSTSTATYPE                                        Constructed   \n",
       "DOITT_ID                                              1293188   \n",
       "HEIGHTROOF                                             18.000   \n",
       "FEAT_CODE                                            1001.000   \n",
       "GROUNDELEV                                             76.000   \n",
       "SHAPE_AREA                                           1275.615   \n",
       "SHAPE_LEN                                             156.255   \n",
       "BASE_BBL                                       3058180005.000   \n",
       "MPLUTO_BBL                                                NaN   \n",
       "GEOMSOURCE                                         Other (Man   \n",
       "\n",
       "                                                      1084923  \\\n",
       "BIN                                                   2129592   \n",
       "the_geom    MULTIPOLYGON (((-73.86629143808064 40.83458799...   \n",
       "NAME                                                      NaN   \n",
       "LSTMODDATE                       10/02/2020 12:00:00 AM +0000   \n",
       "CNSTRCT_YR                                                NaN   \n",
       "LSTSTATYPE                                        Constructed   \n",
       "DOITT_ID                                              1293190   \n",
       "HEIGHTROOF                                             18.000   \n",
       "FEAT_CODE                                            1001.000   \n",
       "GROUNDELEV                                             34.000   \n",
       "SHAPE_AREA                                            927.845   \n",
       "SHAPE_LEN                                             124.742   \n",
       "BASE_BBL                                       2038810011.000   \n",
       "MPLUTO_BBL                                     2038810011.000   \n",
       "GEOMSOURCE                                         Other (Man   \n",
       "\n",
       "                                                      1084924  \\\n",
       "BIN                                                   4117949   \n",
       "the_geom    MULTIPOLYGON (((-73.81363844125889 40.75079318...   \n",
       "NAME                                                      NaN   \n",
       "LSTMODDATE                       10/02/2020 12:00:00 AM +0000   \n",
       "CNSTRCT_YR                                           2018.000   \n",
       "LSTSTATYPE                                        Constructed   \n",
       "DOITT_ID                                              1293175   \n",
       "HEIGHTROOF                                             20.000   \n",
       "FEAT_CODE                                            2100.000   \n",
       "GROUNDELEV                                             34.000   \n",
       "SHAPE_AREA                                           2002.870   \n",
       "SHAPE_LEN                                             186.363   \n",
       "BASE_BBL                                       4052200029.000   \n",
       "MPLUTO_BBL                                     4052200029.000   \n",
       "GEOMSOURCE                                         Other (Man   \n",
       "\n",
       "                                                      1084925  \n",
       "BIN                                                   4619762  \n",
       "the_geom    MULTIPOLYGON (((-73.8713972196869 40.708237472...  \n",
       "NAME                                                      NaN  \n",
       "LSTMODDATE                       10/02/2020 12:00:00 AM +0000  \n",
       "CNSTRCT_YR                                           2019.000  \n",
       "LSTSTATYPE                                        Constructed  \n",
       "DOITT_ID                                              1289954  \n",
       "HEIGHTROOF                                                NaN  \n",
       "FEAT_CODE                                            2100.000  \n",
       "GROUNDELEV                                             85.000  \n",
       "SHAPE_AREA                                          33487.282  \n",
       "SHAPE_LEN                                             904.178  \n",
       "BASE_BBL                                       4033040164.000  \n",
       "MPLUTO_BBL                                     4033040164.000  \n",
       "GEOMSOURCE                                         Other (Man  \n",
       "\n",
       "[15 rows x 1084926 columns]"
      ]
     },
     "execution_count": 23,
     "metadata": {},
     "output_type": "execute_result"
    }
   ],
   "source": [
    "building_footprints.T"
   ]
  },
  {
   "cell_type": "markdown",
   "metadata": {},
   "source": [
    "## 3.3 Identifying Null/NA Values"
   ]
  },
  {
   "cell_type": "markdown",
   "metadata": {},
   "source": [
    "This is a *very important* step that is often overlooked. We don't want to perform any statistics on columns with null values."
   ]
  },
  {
   "cell_type": "code",
   "execution_count": 24,
   "metadata": {},
   "outputs": [
    {
     "data": {
      "text/plain": [
       "BIN                 0\n",
       "the_geom            0\n",
       "NAME          1083174\n",
       "LSTMODDATE          0\n",
       "CNSTRCT_YR       4882\n",
       "LSTSTATYPE        188\n",
       "DOITT_ID            0\n",
       "HEIGHTROOF       2665\n",
       "FEAT_CODE           9\n",
       "GROUNDELEV        527\n",
       "SHAPE_AREA          0\n",
       "SHAPE_LEN           0\n",
       "BASE_BBL            2\n",
       "MPLUTO_BBL        547\n",
       "GEOMSOURCE        216\n",
       "dtype: int64"
      ]
     },
     "execution_count": 24,
     "metadata": {},
     "output_type": "execute_result"
    }
   ],
   "source": [
    "# printing the number of null/na values in each column\n",
    "building_footprints.isna().sum()"
   ]
  },
  {
   "cell_type": "code",
   "execution_count": 25,
   "metadata": {},
   "outputs": [
    {
     "data": {
      "text/plain": [
       "1092210"
      ]
     },
     "execution_count": 25,
     "metadata": {},
     "output_type": "execute_result"
    }
   ],
   "source": [
    "# printing the total amount of null/na values in our data\n",
    "building_footprints.isnull().sum().sum()"
   ]
  },
  {
   "cell_type": "markdown",
   "metadata": {},
   "source": [
    "# 4. Data Cleaning/Wrangling"
   ]
  },
  {
   "cell_type": "markdown",
   "metadata": {},
   "source": [
    "We will be cleaning the **Construction Year** (i.e. CNSTRCT_YR) column, as this is the column we will be using in our analysis."
   ]
  },
  {
   "cell_type": "markdown",
   "metadata": {},
   "source": [
    "## 4.1 Previewing Column Values"
   ]
  },
  {
   "cell_type": "code",
   "execution_count": 26,
   "metadata": {},
   "outputs": [
    {
     "data": {
      "text/plain": [
       "pandas.core.series.Series"
      ]
     },
     "execution_count": 26,
     "metadata": {},
     "output_type": "execute_result"
    }
   ],
   "source": [
    "type(building_footprints['CNSTRCT_YR'])"
   ]
  },
  {
   "cell_type": "code",
   "execution_count": 27,
   "metadata": {},
   "outputs": [
    {
     "data": {
      "text/html": [
       "<div>\n",
       "<style scoped>\n",
       "    .dataframe tbody tr th:only-of-type {\n",
       "        vertical-align: middle;\n",
       "    }\n",
       "\n",
       "    .dataframe tbody tr th {\n",
       "        vertical-align: top;\n",
       "    }\n",
       "\n",
       "    .dataframe thead th {\n",
       "        text-align: right;\n",
       "    }\n",
       "</style>\n",
       "<table border=\"1\" class=\"dataframe\">\n",
       "  <thead>\n",
       "    <tr style=\"text-align: right;\">\n",
       "      <th></th>\n",
       "      <th>BIN</th>\n",
       "      <th>the_geom</th>\n",
       "      <th>NAME</th>\n",
       "      <th>LSTMODDATE</th>\n",
       "      <th>CNSTRCT_YR</th>\n",
       "      <th>LSTSTATYPE</th>\n",
       "      <th>DOITT_ID</th>\n",
       "      <th>HEIGHTROOF</th>\n",
       "      <th>FEAT_CODE</th>\n",
       "      <th>GROUNDELEV</th>\n",
       "      <th>SHAPE_AREA</th>\n",
       "      <th>SHAPE_LEN</th>\n",
       "      <th>BASE_BBL</th>\n",
       "      <th>MPLUTO_BBL</th>\n",
       "      <th>GEOMSOURCE</th>\n",
       "    </tr>\n",
       "  </thead>\n",
       "  <tbody>\n",
       "    <tr>\n",
       "      <th>264205</th>\n",
       "      <td>4000543</td>\n",
       "      <td>MULTIPOLYGON (((-73.9470287226777 40.744294558...</td>\n",
       "      <td>NaN</td>\n",
       "      <td>08/22/2017 12:00:00 AM +0000</td>\n",
       "      <td>0.000</td>\n",
       "      <td>Constructed</td>\n",
       "      <td>57442</td>\n",
       "      <td>22.920</td>\n",
       "      <td>2100.000</td>\n",
       "      <td>10.000</td>\n",
       "      <td>13780.155</td>\n",
       "      <td>844.595</td>\n",
       "      <td>4000720001.000</td>\n",
       "      <td>4000720001.000</td>\n",
       "      <td>Photogramm</td>\n",
       "    </tr>\n",
       "    <tr>\n",
       "      <th>103309</th>\n",
       "      <td>4617353</td>\n",
       "      <td>MULTIPOLYGON (((-73.8223248393467 40.701240124...</td>\n",
       "      <td>NaN</td>\n",
       "      <td>09/19/2017 12:00:00 AM +0000</td>\n",
       "      <td>0.000</td>\n",
       "      <td>Constructed</td>\n",
       "      <td>1268035</td>\n",
       "      <td>10.810</td>\n",
       "      <td>2100.000</td>\n",
       "      <td>58.000</td>\n",
       "      <td>594.012</td>\n",
       "      <td>98.041</td>\n",
       "      <td>4093370001.000</td>\n",
       "      <td>4093370001.000</td>\n",
       "      <td>Photogramm</td>\n",
       "    </tr>\n",
       "    <tr>\n",
       "      <th>992765</th>\n",
       "      <td>3414335</td>\n",
       "      <td>MULTIPOLYGON (((-73.9396604213564 40.700523385...</td>\n",
       "      <td>NaN</td>\n",
       "      <td>08/22/2017 12:00:00 AM +0000</td>\n",
       "      <td>0.000</td>\n",
       "      <td>Constructed</td>\n",
       "      <td>1194565</td>\n",
       "      <td>11.030</td>\n",
       "      <td>2100.000</td>\n",
       "      <td>36.000</td>\n",
       "      <td>2491.319</td>\n",
       "      <td>260.656</td>\n",
       "      <td>3031320017.000</td>\n",
       "      <td>3031320017.000</td>\n",
       "      <td>Photogramm</td>\n",
       "    </tr>\n",
       "    <tr>\n",
       "      <th>103304</th>\n",
       "      <td>4571234</td>\n",
       "      <td>MULTIPOLYGON (((-73.80377843313404 40.70036160...</td>\n",
       "      <td>NaN</td>\n",
       "      <td>01/01/2015 12:00:00 AM +0000</td>\n",
       "      <td>0.000</td>\n",
       "      <td>Constructed</td>\n",
       "      <td>1259621</td>\n",
       "      <td>21.292</td>\n",
       "      <td>2100.000</td>\n",
       "      <td>38.000</td>\n",
       "      <td>3551.068</td>\n",
       "      <td>334.606</td>\n",
       "      <td>4099980001.000</td>\n",
       "      <td>4099980001.000</td>\n",
       "      <td>Photogramm</td>\n",
       "    </tr>\n",
       "    <tr>\n",
       "      <th>182635</th>\n",
       "      <td>1088040</td>\n",
       "      <td>MULTIPOLYGON (((-73.92321052478155 40.78648128...</td>\n",
       "      <td>NaN</td>\n",
       "      <td>08/22/2017 12:00:00 AM +0000</td>\n",
       "      <td>0.000</td>\n",
       "      <td>Constructed</td>\n",
       "      <td>1159259</td>\n",
       "      <td>17.610</td>\n",
       "      <td>2100.000</td>\n",
       "      <td>18.000</td>\n",
       "      <td>2938.509</td>\n",
       "      <td>221.026</td>\n",
       "      <td>1018190015.000</td>\n",
       "      <td>1018190015.000</td>\n",
       "      <td>Photogramm</td>\n",
       "    </tr>\n",
       "  </tbody>\n",
       "</table>\n",
       "</div>"
      ],
      "text/plain": [
       "            BIN                                           the_geom NAME  \\\n",
       "264205  4000543  MULTIPOLYGON (((-73.9470287226777 40.744294558...  NaN   \n",
       "103309  4617353  MULTIPOLYGON (((-73.8223248393467 40.701240124...  NaN   \n",
       "992765  3414335  MULTIPOLYGON (((-73.9396604213564 40.700523385...  NaN   \n",
       "103304  4571234  MULTIPOLYGON (((-73.80377843313404 40.70036160...  NaN   \n",
       "182635  1088040  MULTIPOLYGON (((-73.92321052478155 40.78648128...  NaN   \n",
       "\n",
       "                          LSTMODDATE  CNSTRCT_YR   LSTSTATYPE  DOITT_ID  \\\n",
       "264205  08/22/2017 12:00:00 AM +0000       0.000  Constructed     57442   \n",
       "103309  09/19/2017 12:00:00 AM +0000       0.000  Constructed   1268035   \n",
       "992765  08/22/2017 12:00:00 AM +0000       0.000  Constructed   1194565   \n",
       "103304  01/01/2015 12:00:00 AM +0000       0.000  Constructed   1259621   \n",
       "182635  08/22/2017 12:00:00 AM +0000       0.000  Constructed   1159259   \n",
       "\n",
       "        HEIGHTROOF  FEAT_CODE  GROUNDELEV  SHAPE_AREA  SHAPE_LEN  \\\n",
       "264205      22.920   2100.000      10.000   13780.155    844.595   \n",
       "103309      10.810   2100.000      58.000     594.012     98.041   \n",
       "992765      11.030   2100.000      36.000    2491.319    260.656   \n",
       "103304      21.292   2100.000      38.000    3551.068    334.606   \n",
       "182635      17.610   2100.000      18.000    2938.509    221.026   \n",
       "\n",
       "             BASE_BBL     MPLUTO_BBL  GEOMSOURCE  \n",
       "264205 4000720001.000 4000720001.000  Photogramm  \n",
       "103309 4093370001.000 4093370001.000  Photogramm  \n",
       "992765 3031320017.000 3031320017.000  Photogramm  \n",
       "103304 4099980001.000 4099980001.000  Photogramm  \n",
       "182635 1018190015.000 1018190015.000  Photogramm  "
      ]
     },
     "execution_count": 27,
     "metadata": {},
     "output_type": "execute_result"
    }
   ],
   "source": [
    "# printing the first five rows of our data sorted by the 'CNSTRCT_YR' column in ascending order\n",
    "building_footprints.sort_values('CNSTRCT_YR').head()"
   ]
  },
  {
   "cell_type": "code",
   "execution_count": 28,
   "metadata": {},
   "outputs": [
    {
     "data": {
      "text/html": [
       "<div>\n",
       "<style scoped>\n",
       "    .dataframe tbody tr th:only-of-type {\n",
       "        vertical-align: middle;\n",
       "    }\n",
       "\n",
       "    .dataframe tbody tr th {\n",
       "        vertical-align: top;\n",
       "    }\n",
       "\n",
       "    .dataframe thead th {\n",
       "        text-align: right;\n",
       "    }\n",
       "</style>\n",
       "<table border=\"1\" class=\"dataframe\">\n",
       "  <thead>\n",
       "    <tr style=\"text-align: right;\">\n",
       "      <th></th>\n",
       "      <th>BIN</th>\n",
       "      <th>the_geom</th>\n",
       "      <th>NAME</th>\n",
       "      <th>LSTMODDATE</th>\n",
       "      <th>CNSTRCT_YR</th>\n",
       "      <th>LSTSTATYPE</th>\n",
       "      <th>DOITT_ID</th>\n",
       "      <th>HEIGHTROOF</th>\n",
       "      <th>FEAT_CODE</th>\n",
       "      <th>GROUNDELEV</th>\n",
       "      <th>SHAPE_AREA</th>\n",
       "      <th>SHAPE_LEN</th>\n",
       "      <th>BASE_BBL</th>\n",
       "      <th>MPLUTO_BBL</th>\n",
       "      <th>GEOMSOURCE</th>\n",
       "    </tr>\n",
       "  </thead>\n",
       "  <tbody>\n",
       "    <tr>\n",
       "      <th>1056601</th>\n",
       "      <td>5171292</td>\n",
       "      <td>MULTIPOLYGON (((-74.16106976376206 40.58166589...</td>\n",
       "      <td>NaN</td>\n",
       "      <td>01/22/2019 12:00:00 AM +0000</td>\n",
       "      <td>19999979.000</td>\n",
       "      <td>Constructed</td>\n",
       "      <td>1287742</td>\n",
       "      <td>43.530</td>\n",
       "      <td>2100.000</td>\n",
       "      <td>68.000</td>\n",
       "      <td>347.825</td>\n",
       "      <td>75.359</td>\n",
       "      <td>5024500240.000</td>\n",
       "      <td>5024507505.000</td>\n",
       "      <td>Other (Man</td>\n",
       "    </tr>\n",
       "    <tr>\n",
       "      <th>841012</th>\n",
       "      <td>5165187</td>\n",
       "      <td>MULTIPOLYGON (((-74.144838646532 40.6162472403...</td>\n",
       "      <td>NaN</td>\n",
       "      <td>12/05/2019 12:00:00 AM +0000</td>\n",
       "      <td>20115.000</td>\n",
       "      <td>Constructed</td>\n",
       "      <td>1291251</td>\n",
       "      <td>31.000</td>\n",
       "      <td>2100.000</td>\n",
       "      <td>40.000</td>\n",
       "      <td>1124.997</td>\n",
       "      <td>140.000</td>\n",
       "      <td>5004770044.000</td>\n",
       "      <td>5004770044.000</td>\n",
       "      <td>Other (Man</td>\n",
       "    </tr>\n",
       "    <tr>\n",
       "      <th>518196</th>\n",
       "      <td>5018663</td>\n",
       "      <td>MULTIPOLYGON (((-74.13682929776881 40.61168969...</td>\n",
       "      <td>NaN</td>\n",
       "      <td>08/16/2019 12:00:00 AM +0000</td>\n",
       "      <td>20004.000</td>\n",
       "      <td>Constructed</td>\n",
       "      <td>1288905</td>\n",
       "      <td>28.400</td>\n",
       "      <td>2100.000</td>\n",
       "      <td>89.000</td>\n",
       "      <td>702.366</td>\n",
       "      <td>127.117</td>\n",
       "      <td>5007350170.000</td>\n",
       "      <td>5007350170.000</td>\n",
       "      <td>Other (Man</td>\n",
       "    </tr>\n",
       "    <tr>\n",
       "      <th>64080</th>\n",
       "      <td>2129310</td>\n",
       "      <td>MULTIPOLYGON (((-73.90852861892834 40.82877161...</td>\n",
       "      <td>NaN</td>\n",
       "      <td>11/05/2018 12:00:00 AM +0000</td>\n",
       "      <td>20000.000</td>\n",
       "      <td>Constructed</td>\n",
       "      <td>1285830</td>\n",
       "      <td>10.000</td>\n",
       "      <td>1000.000</td>\n",
       "      <td>32.000</td>\n",
       "      <td>373.099</td>\n",
       "      <td>86.566</td>\n",
       "      <td>2023880061.000</td>\n",
       "      <td>2023880061.000</td>\n",
       "      <td>Other (Man</td>\n",
       "    </tr>\n",
       "    <tr>\n",
       "      <th>743259</th>\n",
       "      <td>1082416</td>\n",
       "      <td>MULTIPOLYGON (((-73.988920998115 40.7645846572...</td>\n",
       "      <td>NaN</td>\n",
       "      <td>03/09/2018 12:00:00 AM +0000</td>\n",
       "      <td>20000.000</td>\n",
       "      <td>Alteration</td>\n",
       "      <td>97464</td>\n",
       "      <td>74.210</td>\n",
       "      <td>2100.000</td>\n",
       "      <td>52.000</td>\n",
       "      <td>3678.718</td>\n",
       "      <td>298.770</td>\n",
       "      <td>1010610027.000</td>\n",
       "      <td>1010610027.000</td>\n",
       "      <td>Other (Man</td>\n",
       "    </tr>\n",
       "  </tbody>\n",
       "</table>\n",
       "</div>"
      ],
      "text/plain": [
       "             BIN                                           the_geom NAME  \\\n",
       "1056601  5171292  MULTIPOLYGON (((-74.16106976376206 40.58166589...  NaN   \n",
       "841012   5165187  MULTIPOLYGON (((-74.144838646532 40.6162472403...  NaN   \n",
       "518196   5018663  MULTIPOLYGON (((-74.13682929776881 40.61168969...  NaN   \n",
       "64080    2129310  MULTIPOLYGON (((-73.90852861892834 40.82877161...  NaN   \n",
       "743259   1082416  MULTIPOLYGON (((-73.988920998115 40.7645846572...  NaN   \n",
       "\n",
       "                           LSTMODDATE   CNSTRCT_YR   LSTSTATYPE  DOITT_ID  \\\n",
       "1056601  01/22/2019 12:00:00 AM +0000 19999979.000  Constructed   1287742   \n",
       "841012   12/05/2019 12:00:00 AM +0000    20115.000  Constructed   1291251   \n",
       "518196   08/16/2019 12:00:00 AM +0000    20004.000  Constructed   1288905   \n",
       "64080    11/05/2018 12:00:00 AM +0000    20000.000  Constructed   1285830   \n",
       "743259   03/09/2018 12:00:00 AM +0000    20000.000   Alteration     97464   \n",
       "\n",
       "         HEIGHTROOF  FEAT_CODE  GROUNDELEV  SHAPE_AREA  SHAPE_LEN  \\\n",
       "1056601      43.530   2100.000      68.000     347.825     75.359   \n",
       "841012       31.000   2100.000      40.000    1124.997    140.000   \n",
       "518196       28.400   2100.000      89.000     702.366    127.117   \n",
       "64080        10.000   1000.000      32.000     373.099     86.566   \n",
       "743259       74.210   2100.000      52.000    3678.718    298.770   \n",
       "\n",
       "              BASE_BBL     MPLUTO_BBL  GEOMSOURCE  \n",
       "1056601 5024500240.000 5024507505.000  Other (Man  \n",
       "841012  5004770044.000 5004770044.000  Other (Man  \n",
       "518196  5007350170.000 5007350170.000  Other (Man  \n",
       "64080   2023880061.000 2023880061.000  Other (Man  \n",
       "743259  1010610027.000 1010610027.000  Other (Man  "
      ]
     },
     "execution_count": 28,
     "metadata": {},
     "output_type": "execute_result"
    }
   ],
   "source": [
    "# printing the first five rows of our data sorted by the 'CNSTRCT_YR' column in descending order\n",
    "building_footprints.sort_values('CNSTRCT_YR',ascending=False).head()"
   ]
  },
  {
   "cell_type": "code",
   "execution_count": 29,
   "metadata": {},
   "outputs": [
    {
     "data": {
      "text/html": [
       "<div>\n",
       "<style scoped>\n",
       "    .dataframe tbody tr th:only-of-type {\n",
       "        vertical-align: middle;\n",
       "    }\n",
       "\n",
       "    .dataframe tbody tr th {\n",
       "        vertical-align: top;\n",
       "    }\n",
       "\n",
       "    .dataframe thead th {\n",
       "        text-align: right;\n",
       "    }\n",
       "</style>\n",
       "<table border=\"1\" class=\"dataframe\">\n",
       "  <thead>\n",
       "    <tr style=\"text-align: right;\">\n",
       "      <th></th>\n",
       "      <th>index</th>\n",
       "      <th>CNSTRCT_YR</th>\n",
       "    </tr>\n",
       "  </thead>\n",
       "  <tbody>\n",
       "    <tr>\n",
       "      <th>0</th>\n",
       "      <td>count</td>\n",
       "      <td>1080044.000</td>\n",
       "    </tr>\n",
       "    <tr>\n",
       "      <th>1</th>\n",
       "      <td>mean</td>\n",
       "      <td>1946.642</td>\n",
       "    </tr>\n",
       "    <tr>\n",
       "      <th>2</th>\n",
       "      <td>std</td>\n",
       "      <td>19243.347</td>\n",
       "    </tr>\n",
       "    <tr>\n",
       "      <th>3</th>\n",
       "      <td>min</td>\n",
       "      <td>0.000</td>\n",
       "    </tr>\n",
       "    <tr>\n",
       "      <th>4</th>\n",
       "      <td>25%</td>\n",
       "      <td>1920.000</td>\n",
       "    </tr>\n",
       "    <tr>\n",
       "      <th>5</th>\n",
       "      <td>50%</td>\n",
       "      <td>1930.000</td>\n",
       "    </tr>\n",
       "    <tr>\n",
       "      <th>6</th>\n",
       "      <td>75%</td>\n",
       "      <td>1955.000</td>\n",
       "    </tr>\n",
       "    <tr>\n",
       "      <th>7</th>\n",
       "      <td>max</td>\n",
       "      <td>19999979.000</td>\n",
       "    </tr>\n",
       "  </tbody>\n",
       "</table>\n",
       "</div>"
      ],
      "text/plain": [
       "   index   CNSTRCT_YR\n",
       "0  count  1080044.000\n",
       "1   mean     1946.642\n",
       "2    std    19243.347\n",
       "3    min        0.000\n",
       "4    25%     1920.000\n",
       "5    50%     1930.000\n",
       "6    75%     1955.000\n",
       "7    max 19999979.000"
      ]
     },
     "execution_count": 29,
     "metadata": {},
     "output_type": "execute_result"
    }
   ],
   "source": [
    "building_footprints['CNSTRCT_YR'].describe().reset_index()"
   ]
  },
  {
   "cell_type": "code",
   "execution_count": 30,
   "metadata": {},
   "outputs": [
    {
     "data": {
      "text/html": [
       "<div>\n",
       "<style scoped>\n",
       "    .dataframe tbody tr th:only-of-type {\n",
       "        vertical-align: middle;\n",
       "    }\n",
       "\n",
       "    .dataframe tbody tr th {\n",
       "        vertical-align: top;\n",
       "    }\n",
       "\n",
       "    .dataframe thead th {\n",
       "        text-align: right;\n",
       "    }\n",
       "</style>\n",
       "<table border=\"1\" class=\"dataframe\">\n",
       "  <thead>\n",
       "    <tr style=\"text-align: right;\">\n",
       "      <th></th>\n",
       "      <th>index</th>\n",
       "      <th>0</th>\n",
       "    </tr>\n",
       "  </thead>\n",
       "  <tbody>\n",
       "    <tr>\n",
       "      <th>0</th>\n",
       "      <td>0</td>\n",
       "      <td>1920.000</td>\n",
       "    </tr>\n",
       "  </tbody>\n",
       "</table>\n",
       "</div>"
      ],
      "text/plain": [
       "   index        0\n",
       "0      0 1920.000"
      ]
     },
     "execution_count": 30,
     "metadata": {},
     "output_type": "execute_result"
    }
   ],
   "source": [
    "building_footprints['CNSTRCT_YR'].mode().reset_index()"
   ]
  },
  {
   "cell_type": "code",
   "execution_count": 31,
   "metadata": {},
   "outputs": [
    {
     "data": {
      "text/plain": [
       "True"
      ]
     },
     "execution_count": 31,
     "metadata": {},
     "output_type": "execute_result"
    }
   ],
   "source": [
    "building_footprints['CNSTRCT_YR'].isnull().values.any()"
   ]
  },
  {
   "cell_type": "code",
   "execution_count": 32,
   "metadata": {},
   "outputs": [
    {
     "data": {
      "text/plain": [
       "4882"
      ]
     },
     "execution_count": 32,
     "metadata": {},
     "output_type": "execute_result"
    }
   ],
   "source": [
    "# summing all the null/na values in our 'CNSTRCT_YR' column\n",
    "building_footprints['CNSTRCT_YR'].isna().sum()"
   ]
  },
  {
   "cell_type": "code",
   "execution_count": 33,
   "metadata": {},
   "outputs": [
    {
     "data": {
      "text/plain": [
       "1080044"
      ]
     },
     "execution_count": 33,
     "metadata": {},
     "output_type": "execute_result"
    }
   ],
   "source": [
    "# summing all the null/na values in our 'CNSTRCT_YR' column\n",
    "building_footprints['CNSTRCT_YR'].notnull().sum()"
   ]
  },
  {
   "cell_type": "code",
   "execution_count": 62,
   "metadata": {},
   "outputs": [
    {
     "name": "stdout",
     "output_type": "stream",
     "text": [
      "0.45 %\n"
     ]
    }
   ],
   "source": [
    "# summing all the null/na values in our 'CNSTRCT_YR' column\n",
    "print((building_footprints['CNSTRCT_YR'].isna().sum()*100/len(building_footprints)).round(2),'%')"
   ]
  },
  {
   "cell_type": "code",
   "execution_count": 63,
   "metadata": {},
   "outputs": [
    {
     "name": "stdout",
     "output_type": "stream",
     "text": [
      "99.55 %\n"
     ]
    }
   ],
   "source": [
    "# summing all the null/na values in our 'CNSTRCT_YR' column\n",
    "print((building_footprints['CNSTRCT_YR'].notnull().sum()*100/len(building_footprints)).round(2), '%')"
   ]
  },
  {
   "cell_type": "markdown",
   "metadata": {},
   "source": [
    "# Identifying Outliers"
   ]
  },
  {
   "cell_type": "code",
   "execution_count": 64,
   "metadata": {},
   "outputs": [
    {
     "data": {
      "text/plain": [
       "Text(0.5, 1.0, 'Histogram of Construction Year Values')"
      ]
     },
     "execution_count": 64,
     "metadata": {},
     "output_type": "execute_result"
    },
    {
     "data": {
      "image/png": "[encoded data removed]",
      "text/plain": [
       "<Figure size 1080x720 with 1 Axes>"
      ]
     },
     "metadata": {
      "needs_background": "light"
     },
     "output_type": "display_data"
    }
   ],
   "source": [
    "# making a histogram of our 'CNSTRCT_YR' column with 10 bins\n",
    "building_footprints['CNSTRCT_YR'].hist(figsize=(15,10), bins=25)\n",
    "plt.xlabel('Construction Year', fontsize=15)\n",
    "plt.ylabel('Counts', fontsize=15)\n",
    "plt.title('Histogram of Construction Year Values', fontsize=15)"
   ]
  },
  {
   "cell_type": "code",
   "execution_count": 65,
   "metadata": {},
   "outputs": [
    {
     "data": {
      "text/plain": [
       "Text(0.5, 1.0, 'Histogram of Construction Year Values')"
      ]
     },
     "execution_count": 65,
     "metadata": {},
     "output_type": "execute_result"
    },
    {
     "data": {
      "image/png": "[encoded data removed]",
      "text/plain": [
       "<Figure size 1080x720 with 1 Axes>"
      ]
     },
     "metadata": {
      "needs_background": "light"
     },
     "output_type": "display_data"
    }
   ],
   "source": [
    "# making a histogram of our 'CNSTRCT_YR' column with 10 bins\n",
    "building_footprints['CNSTRCT_YR'].hist(figsize=(15,10), bins=50)\n",
    "plt.xlabel('Construction Year', fontsize=15)\n",
    "plt.ylabel('Counts', fontsize=15)\n",
    "plt.title('Histogram of Construction Year Values', fontsize=15)"
   ]
  },
  {
   "cell_type": "code",
   "execution_count": 66,
   "metadata": {},
   "outputs": [
    {
     "data": {
      "text/plain": [
       "1920.000        131437\n",
       "1930.000        113697\n",
       "1925.000        109687\n",
       "1950.000         63006\n",
       "1910.000         52935\n",
       "                 ...  \n",
       "202.000              1\n",
       "1803.000             1\n",
       "1809.000             1\n",
       "1811.000             1\n",
       "19999979.000         1\n",
       "Name: CNSTRCT_YR, Length: 252, dtype: int64"
      ]
     },
     "execution_count": 66,
     "metadata": {},
     "output_type": "execute_result"
    }
   ],
   "source": [
    "# return counts of unique values in descending order of our'CNSTRCT_YR' column\n",
    "building_footprints['CNSTRCT_YR'].value_counts()"
   ]
  },
  {
   "cell_type": "code",
   "execution_count": 67,
   "metadata": {},
   "outputs": [
    {
     "data": {
      "text/plain": [
       "0.000           6141\n",
       "202.000            1\n",
       "1652.000           1\n",
       "1661.000           2\n",
       "1665.000           1\n",
       "                ... \n",
       "2020.000         447\n",
       "20000.000          2\n",
       "20004.000          1\n",
       "20115.000          1\n",
       "19999979.000       1\n",
       "Name: CNSTRCT_YR, Length: 252, dtype: int64"
      ]
     },
     "execution_count": 67,
     "metadata": {},
     "output_type": "execute_result"
    }
   ],
   "source": [
    "# return counts of unique values but sorted by our index - 'CNSTRCT_YR' column values\n",
    "building_footprints['CNSTRCT_YR'].value_counts().sort_index()"
   ]
  },
  {
   "cell_type": "code",
   "execution_count": 68,
   "metadata": {},
   "outputs": [
    {
     "data": {
      "text/plain": [
       "0.000       6141\n",
       "202.000        1\n",
       "1652.000       1\n",
       "1661.000       2\n",
       "1665.000       1\n",
       "1680.000       1\n",
       "1690.000       1\n",
       "1694.000       1\n",
       "1706.000       2\n",
       "1719.000       1\n",
       "Name: CNSTRCT_YR, dtype: int64"
      ]
     },
     "execution_count": 68,
     "metadata": {},
     "output_type": "execute_result"
    }
   ],
   "source": [
    "# return counts of unique values but sorted by our index - 'CNSTRCT_YR' column values\n",
    "building_footprints['CNSTRCT_YR'].value_counts().sort_index(ascending=True).head(10)"
   ]
  },
  {
   "cell_type": "code",
   "execution_count": 69,
   "metadata": {},
   "outputs": [
    {
     "data": {
      "text/plain": [
       "19999979.000       1\n",
       "20115.000          1\n",
       "20004.000          1\n",
       "20000.000          2\n",
       "2020.000         447\n",
       "2019.000         800\n",
       "2018.000        2049\n",
       "2017.000        1866\n",
       "2016.000        1743\n",
       "2015.000        1034\n",
       "Name: CNSTRCT_YR, dtype: int64"
      ]
     },
     "execution_count": 69,
     "metadata": {},
     "output_type": "execute_result"
    }
   ],
   "source": [
    "# return counts of unique values but sorted by our index - 'CNSTRCT_YR' column values\n",
    "building_footprints['CNSTRCT_YR'].value_counts().sort_index(ascending=False).head(10)"
   ]
  },
  {
   "cell_type": "code",
   "execution_count": 70,
   "metadata": {},
   "outputs": [
    {
     "data": {
      "text/html": [
       "<div>\n",
       "<style scoped>\n",
       "    .dataframe tbody tr th:only-of-type {\n",
       "        vertical-align: middle;\n",
       "    }\n",
       "\n",
       "    .dataframe tbody tr th {\n",
       "        vertical-align: top;\n",
       "    }\n",
       "\n",
       "    .dataframe thead th {\n",
       "        text-align: right;\n",
       "    }\n",
       "</style>\n",
       "<table border=\"1\" class=\"dataframe\">\n",
       "  <thead>\n",
       "    <tr style=\"text-align: right;\">\n",
       "      <th></th>\n",
       "      <th>BIN</th>\n",
       "      <th>the_geom</th>\n",
       "      <th>NAME</th>\n",
       "      <th>LSTMODDATE</th>\n",
       "      <th>CNSTRCT_YR</th>\n",
       "      <th>LSTSTATYPE</th>\n",
       "      <th>DOITT_ID</th>\n",
       "      <th>HEIGHTROOF</th>\n",
       "      <th>FEAT_CODE</th>\n",
       "      <th>GROUNDELEV</th>\n",
       "      <th>SHAPE_AREA</th>\n",
       "      <th>SHAPE_LEN</th>\n",
       "      <th>BASE_BBL</th>\n",
       "      <th>MPLUTO_BBL</th>\n",
       "      <th>GEOMSOURCE</th>\n",
       "    </tr>\n",
       "  </thead>\n",
       "  <tbody>\n",
       "    <tr>\n",
       "      <th>1084225</th>\n",
       "      <td>2118156</td>\n",
       "      <td>MULTIPOLYGON (((-73.88517833004113 40.80348065...</td>\n",
       "      <td>Building 115</td>\n",
       "      <td>08/12/2020 12:00:00 AM +0000</td>\n",
       "      <td>0.000</td>\n",
       "      <td>Constructed</td>\n",
       "      <td>752580</td>\n",
       "      <td>28.630</td>\n",
       "      <td>1004.000</td>\n",
       "      <td>17.000</td>\n",
       "      <td>53321.579</td>\n",
       "      <td>1322.332</td>\n",
       "      <td>2027800002.000</td>\n",
       "      <td>2027800002.000</td>\n",
       "      <td>Other (Man</td>\n",
       "    </tr>\n",
       "    <tr>\n",
       "      <th>1084204</th>\n",
       "      <td>2118145</td>\n",
       "      <td>MULTIPOLYGON (((-73.88410300359251 40.80235670...</td>\n",
       "      <td>Building 131</td>\n",
       "      <td>08/12/2020 12:00:00 AM +0000</td>\n",
       "      <td>0.000</td>\n",
       "      <td>Constructed</td>\n",
       "      <td>462233</td>\n",
       "      <td>15.600</td>\n",
       "      <td>1004.000</td>\n",
       "      <td>12.000</td>\n",
       "      <td>7647.999</td>\n",
       "      <td>350.925</td>\n",
       "      <td>2027800002.000</td>\n",
       "      <td>2027800002.000</td>\n",
       "      <td>Other (Man</td>\n",
       "    </tr>\n",
       "    <tr>\n",
       "      <th>1084219</th>\n",
       "      <td>2130415</td>\n",
       "      <td>MULTIPOLYGON (((-73.88474809684517 40.80266512...</td>\n",
       "      <td>Building 127</td>\n",
       "      <td>08/12/2020 12:00:00 AM +0000</td>\n",
       "      <td>0.000</td>\n",
       "      <td>Constructed</td>\n",
       "      <td>1292841</td>\n",
       "      <td>13.150</td>\n",
       "      <td>1004.000</td>\n",
       "      <td>18.000</td>\n",
       "      <td>11173.137</td>\n",
       "      <td>375.218</td>\n",
       "      <td>2027800002.000</td>\n",
       "      <td>2027800002.000</td>\n",
       "      <td>Other (Man</td>\n",
       "    </tr>\n",
       "    <tr>\n",
       "      <th>1084214</th>\n",
       "      <td>2118153</td>\n",
       "      <td>MULTIPOLYGON (((-73.884693163002 40.8026302347...</td>\n",
       "      <td>Building 126</td>\n",
       "      <td>08/12/2020 12:00:00 AM +0000</td>\n",
       "      <td>0.000</td>\n",
       "      <td>Constructed</td>\n",
       "      <td>838666</td>\n",
       "      <td>13.150</td>\n",
       "      <td>1004.000</td>\n",
       "      <td>18.000</td>\n",
       "      <td>46240.599</td>\n",
       "      <td>1230.739</td>\n",
       "      <td>2027800002.000</td>\n",
       "      <td>2027800002.000</td>\n",
       "      <td>Other (Man</td>\n",
       "    </tr>\n",
       "    <tr>\n",
       "      <th>1035066</th>\n",
       "      <td>1083810</td>\n",
       "      <td>MULTIPOLYGON (((-73.96303731664047 40.78070299...</td>\n",
       "      <td>The Metropolitan Museum</td>\n",
       "      <td>08/22/2017 12:00:00 AM +0000</td>\n",
       "      <td>0.000</td>\n",
       "      <td>Constructed</td>\n",
       "      <td>120474</td>\n",
       "      <td>87.770</td>\n",
       "      <td>2100.000</td>\n",
       "      <td>100.000</td>\n",
       "      <td>481865.279</td>\n",
       "      <td>4606.613</td>\n",
       "      <td>1011110001.000</td>\n",
       "      <td>1011110001.000</td>\n",
       "      <td>Photogramm</td>\n",
       "    </tr>\n",
       "  </tbody>\n",
       "</table>\n",
       "</div>"
      ],
      "text/plain": [
       "             BIN                                           the_geom  \\\n",
       "1084225  2118156  MULTIPOLYGON (((-73.88517833004113 40.80348065...   \n",
       "1084204  2118145  MULTIPOLYGON (((-73.88410300359251 40.80235670...   \n",
       "1084219  2130415  MULTIPOLYGON (((-73.88474809684517 40.80266512...   \n",
       "1084214  2118153  MULTIPOLYGON (((-73.884693163002 40.8026302347...   \n",
       "1035066  1083810  MULTIPOLYGON (((-73.96303731664047 40.78070299...   \n",
       "\n",
       "                            NAME                    LSTMODDATE  CNSTRCT_YR  \\\n",
       "1084225             Building 115  08/12/2020 12:00:00 AM +0000       0.000   \n",
       "1084204             Building 131  08/12/2020 12:00:00 AM +0000       0.000   \n",
       "1084219             Building 127  08/12/2020 12:00:00 AM +0000       0.000   \n",
       "1084214             Building 126  08/12/2020 12:00:00 AM +0000       0.000   \n",
       "1035066  The Metropolitan Museum  08/22/2017 12:00:00 AM +0000       0.000   \n",
       "\n",
       "          LSTSTATYPE  DOITT_ID  HEIGHTROOF  FEAT_CODE  GROUNDELEV  SHAPE_AREA  \\\n",
       "1084225  Constructed    752580      28.630   1004.000      17.000   53321.579   \n",
       "1084204  Constructed    462233      15.600   1004.000      12.000    7647.999   \n",
       "1084219  Constructed   1292841      13.150   1004.000      18.000   11173.137   \n",
       "1084214  Constructed    838666      13.150   1004.000      18.000   46240.599   \n",
       "1035066  Constructed    120474      87.770   2100.000     100.000  481865.279   \n",
       "\n",
       "         SHAPE_LEN       BASE_BBL     MPLUTO_BBL  GEOMSOURCE  \n",
       "1084225   1322.332 2027800002.000 2027800002.000  Other (Man  \n",
       "1084204    350.925 2027800002.000 2027800002.000  Other (Man  \n",
       "1084219    375.218 2027800002.000 2027800002.000  Other (Man  \n",
       "1084214   1230.739 2027800002.000 2027800002.000  Other (Man  \n",
       "1035066   4606.613 1011110001.000 1011110001.000  Photogramm  "
      ]
     },
     "execution_count": 70,
     "metadata": {},
     "output_type": "execute_result"
    }
   ],
   "source": [
    "building_footprints.sort_values(by='CNSTRCT_YR').dropna(subset=['NAME']).head()"
   ]
  },
  {
   "cell_type": "code",
   "execution_count": 71,
   "metadata": {},
   "outputs": [
    {
     "data": {
      "text/html": [
       "<div>\n",
       "<style scoped>\n",
       "    .dataframe tbody tr th:only-of-type {\n",
       "        vertical-align: middle;\n",
       "    }\n",
       "\n",
       "    .dataframe tbody tr th {\n",
       "        vertical-align: top;\n",
       "    }\n",
       "\n",
       "    .dataframe thead th {\n",
       "        text-align: right;\n",
       "    }\n",
       "</style>\n",
       "<table border=\"1\" class=\"dataframe\">\n",
       "  <thead>\n",
       "    <tr style=\"text-align: right;\">\n",
       "      <th></th>\n",
       "      <th>BIN</th>\n",
       "      <th>the_geom</th>\n",
       "      <th>NAME</th>\n",
       "      <th>LSTMODDATE</th>\n",
       "      <th>CNSTRCT_YR</th>\n",
       "      <th>LSTSTATYPE</th>\n",
       "      <th>DOITT_ID</th>\n",
       "      <th>HEIGHTROOF</th>\n",
       "      <th>FEAT_CODE</th>\n",
       "      <th>GROUNDELEV</th>\n",
       "      <th>SHAPE_AREA</th>\n",
       "      <th>SHAPE_LEN</th>\n",
       "      <th>BASE_BBL</th>\n",
       "      <th>MPLUTO_BBL</th>\n",
       "      <th>GEOMSOURCE</th>\n",
       "    </tr>\n",
       "  </thead>\n",
       "  <tbody>\n",
       "    <tr>\n",
       "      <th>1079239</th>\n",
       "      <td>3221967</td>\n",
       "      <td>MULTIPOLYGON (((-73.92083460429942 40.64439765...</td>\n",
       "      <td>Pieter Claesen Wyckoff House</td>\n",
       "      <td>01/28/2020 12:00:00 AM +0000</td>\n",
       "      <td>1652.000</td>\n",
       "      <td>Constructed</td>\n",
       "      <td>550741</td>\n",
       "      <td>24.540</td>\n",
       "      <td>2100.000</td>\n",
       "      <td>14.000</td>\n",
       "      <td>2214.189</td>\n",
       "      <td>208.884</td>\n",
       "      <td>3079170009.000</td>\n",
       "      <td>3079170009.000</td>\n",
       "      <td>Photogramm</td>\n",
       "    </tr>\n",
       "    <tr>\n",
       "      <th>801741</th>\n",
       "      <td>4113403</td>\n",
       "      <td>MULTIPOLYGON (((-73.8247828135812 40.762948467...</td>\n",
       "      <td>Bowne House</td>\n",
       "      <td>08/22/2017 12:00:00 AM +0000</td>\n",
       "      <td>1661.000</td>\n",
       "      <td>Constructed</td>\n",
       "      <td>776399</td>\n",
       "      <td>26.120</td>\n",
       "      <td>2100.000</td>\n",
       "      <td>64.000</td>\n",
       "      <td>2814.439</td>\n",
       "      <td>242.381</td>\n",
       "      <td>4050130006.000</td>\n",
       "      <td>4050130006.000</td>\n",
       "      <td>Photogramm</td>\n",
       "    </tr>\n",
       "    <tr>\n",
       "      <th>1083750</th>\n",
       "      <td>5087656</td>\n",
       "      <td>MULTIPOLYGON (((-74.25311647359251 40.50309522...</td>\n",
       "      <td>Conference House</td>\n",
       "      <td>04/13/2020 12:00:00 AM +0000</td>\n",
       "      <td>1680.000</td>\n",
       "      <td>Constructed</td>\n",
       "      <td>702698</td>\n",
       "      <td>38.640</td>\n",
       "      <td>2100.000</td>\n",
       "      <td>38.000</td>\n",
       "      <td>2051.849</td>\n",
       "      <td>181.231</td>\n",
       "      <td>5078570090.000</td>\n",
       "      <td>5078570090.000</td>\n",
       "      <td>Photogramm</td>\n",
       "    </tr>\n",
       "    <tr>\n",
       "      <th>1083759</th>\n",
       "      <td>5042188</td>\n",
       "      <td>MULTIPOLYGON (((-74.06293248238293 40.61512359...</td>\n",
       "      <td>Alice Austen House Museum</td>\n",
       "      <td>04/13/2020 12:00:00 AM +0000</td>\n",
       "      <td>1690.000</td>\n",
       "      <td>Alteration</td>\n",
       "      <td>806241</td>\n",
       "      <td>22.260</td>\n",
       "      <td>2100.000</td>\n",
       "      <td>21.000</td>\n",
       "      <td>2643.247</td>\n",
       "      <td>249.018</td>\n",
       "      <td>5028300049.000</td>\n",
       "      <td>5028300049.000</td>\n",
       "      <td>Photogramm</td>\n",
       "    </tr>\n",
       "    <tr>\n",
       "      <th>567795</th>\n",
       "      <td>1078965</td>\n",
       "      <td>MULTIPOLYGON (((-74.01121069434295 40.70334382...</td>\n",
       "      <td>Fraunces Tavern</td>\n",
       "      <td>01/28/2020 12:00:00 AM +0000</td>\n",
       "      <td>1719.000</td>\n",
       "      <td>Constructed</td>\n",
       "      <td>299639</td>\n",
       "      <td>47.830</td>\n",
       "      <td>2100.000</td>\n",
       "      <td>7.000</td>\n",
       "      <td>2521.723</td>\n",
       "      <td>263.058</td>\n",
       "      <td>1000070035.000</td>\n",
       "      <td>1000070035.000</td>\n",
       "      <td>Photogramm</td>\n",
       "    </tr>\n",
       "  </tbody>\n",
       "</table>\n",
       "</div>"
      ],
      "text/plain": [
       "             BIN                                           the_geom  \\\n",
       "1079239  3221967  MULTIPOLYGON (((-73.92083460429942 40.64439765...   \n",
       "801741   4113403  MULTIPOLYGON (((-73.8247828135812 40.762948467...   \n",
       "1083750  5087656  MULTIPOLYGON (((-74.25311647359251 40.50309522...   \n",
       "1083759  5042188  MULTIPOLYGON (((-74.06293248238293 40.61512359...   \n",
       "567795   1078965  MULTIPOLYGON (((-74.01121069434295 40.70334382...   \n",
       "\n",
       "                                 NAME                    LSTMODDATE  \\\n",
       "1079239  Pieter Claesen Wyckoff House  01/28/2020 12:00:00 AM +0000   \n",
       "801741                    Bowne House  08/22/2017 12:00:00 AM +0000   \n",
       "1083750              Conference House  04/13/2020 12:00:00 AM +0000   \n",
       "1083759     Alice Austen House Museum  04/13/2020 12:00:00 AM +0000   \n",
       "567795                Fraunces Tavern  01/28/2020 12:00:00 AM +0000   \n",
       "\n",
       "         CNSTRCT_YR   LSTSTATYPE  DOITT_ID  HEIGHTROOF  FEAT_CODE  GROUNDELEV  \\\n",
       "1079239    1652.000  Constructed    550741      24.540   2100.000      14.000   \n",
       "801741     1661.000  Constructed    776399      26.120   2100.000      64.000   \n",
       "1083750    1680.000  Constructed    702698      38.640   2100.000      38.000   \n",
       "1083759    1690.000   Alteration    806241      22.260   2100.000      21.000   \n",
       "567795     1719.000  Constructed    299639      47.830   2100.000       7.000   \n",
       "\n",
       "         SHAPE_AREA  SHAPE_LEN       BASE_BBL     MPLUTO_BBL  GEOMSOURCE  \n",
       "1079239    2214.189    208.884 3079170009.000 3079170009.000  Photogramm  \n",
       "801741     2814.439    242.381 4050130006.000 4050130006.000  Photogramm  \n",
       "1083750    2051.849    181.231 5078570090.000 5078570090.000  Photogramm  \n",
       "1083759    2643.247    249.018 5028300049.000 5028300049.000  Photogramm  \n",
       "567795     2521.723    263.058 1000070035.000 1000070035.000  Photogramm  "
      ]
     },
     "execution_count": 71,
     "metadata": {},
     "output_type": "execute_result"
    }
   ],
   "source": [
    "building_footprints[building_footprints.CNSTRCT_YR > 0].sort_values(by='CNSTRCT_YR').dropna(subset=['NAME']).head()"
   ]
  },
  {
   "cell_type": "code",
   "execution_count": 72,
   "metadata": {},
   "outputs": [
    {
     "data": {
      "text/html": [
       "<div>\n",
       "<style scoped>\n",
       "    .dataframe tbody tr th:only-of-type {\n",
       "        vertical-align: middle;\n",
       "    }\n",
       "\n",
       "    .dataframe tbody tr th {\n",
       "        vertical-align: top;\n",
       "    }\n",
       "\n",
       "    .dataframe thead th {\n",
       "        text-align: right;\n",
       "    }\n",
       "</style>\n",
       "<table border=\"1\" class=\"dataframe\">\n",
       "  <thead>\n",
       "    <tr style=\"text-align: right;\">\n",
       "      <th></th>\n",
       "      <th>BIN</th>\n",
       "      <th>the_geom</th>\n",
       "      <th>NAME</th>\n",
       "      <th>LSTMODDATE</th>\n",
       "      <th>CNSTRCT_YR</th>\n",
       "      <th>LSTSTATYPE</th>\n",
       "      <th>DOITT_ID</th>\n",
       "      <th>HEIGHTROOF</th>\n",
       "      <th>FEAT_CODE</th>\n",
       "      <th>GROUNDELEV</th>\n",
       "      <th>SHAPE_AREA</th>\n",
       "      <th>SHAPE_LEN</th>\n",
       "      <th>BASE_BBL</th>\n",
       "      <th>MPLUTO_BBL</th>\n",
       "      <th>GEOMSOURCE</th>\n",
       "    </tr>\n",
       "  </thead>\n",
       "  <tbody>\n",
       "    <tr>\n",
       "      <th>1079239</th>\n",
       "      <td>3221967</td>\n",
       "      <td>MULTIPOLYGON (((-73.92083460429942 40.64439765...</td>\n",
       "      <td>Pieter Claesen Wyckoff House</td>\n",
       "      <td>01/28/2020 12:00:00 AM +0000</td>\n",
       "      <td>1652.000</td>\n",
       "      <td>Constructed</td>\n",
       "      <td>550741</td>\n",
       "      <td>24.540</td>\n",
       "      <td>2100.000</td>\n",
       "      <td>14.000</td>\n",
       "      <td>2214.189</td>\n",
       "      <td>208.884</td>\n",
       "      <td>3079170009.000</td>\n",
       "      <td>3079170009.000</td>\n",
       "      <td>Photogramm</td>\n",
       "    </tr>\n",
       "  </tbody>\n",
       "</table>\n",
       "</div>"
      ],
      "text/plain": [
       "             BIN                                           the_geom  \\\n",
       "1079239  3221967  MULTIPOLYGON (((-73.92083460429942 40.64439765...   \n",
       "\n",
       "                                 NAME                    LSTMODDATE  \\\n",
       "1079239  Pieter Claesen Wyckoff House  01/28/2020 12:00:00 AM +0000   \n",
       "\n",
       "         CNSTRCT_YR   LSTSTATYPE  DOITT_ID  HEIGHTROOF  FEAT_CODE  GROUNDELEV  \\\n",
       "1079239    1652.000  Constructed    550741      24.540   2100.000      14.000   \n",
       "\n",
       "         SHAPE_AREA  SHAPE_LEN       BASE_BBL     MPLUTO_BBL  GEOMSOURCE  \n",
       "1079239    2214.189    208.884 3079170009.000 3079170009.000  Photogramm  "
      ]
     },
     "execution_count": 72,
     "metadata": {},
     "output_type": "execute_result"
    }
   ],
   "source": [
    "building_footprints[building_footprints.CNSTRCT_YR > 0].sort_values(by='CNSTRCT_YR').dropna(subset=['NAME']).head(1)"
   ]
  },
  {
   "cell_type": "code",
   "execution_count": 73,
   "metadata": {},
   "outputs": [
    {
     "data": {
      "text/html": [
       "<div>\n",
       "<style scoped>\n",
       "    .dataframe tbody tr th:only-of-type {\n",
       "        vertical-align: middle;\n",
       "    }\n",
       "\n",
       "    .dataframe tbody tr th {\n",
       "        vertical-align: top;\n",
       "    }\n",
       "\n",
       "    .dataframe thead th {\n",
       "        text-align: right;\n",
       "    }\n",
       "</style>\n",
       "<table border=\"1\" class=\"dataframe\">\n",
       "  <thead>\n",
       "    <tr style=\"text-align: right;\">\n",
       "      <th></th>\n",
       "      <th>1079239</th>\n",
       "    </tr>\n",
       "  </thead>\n",
       "  <tbody>\n",
       "    <tr>\n",
       "      <th>BIN</th>\n",
       "      <td>3221967</td>\n",
       "    </tr>\n",
       "    <tr>\n",
       "      <th>the_geom</th>\n",
       "      <td>MULTIPOLYGON (((-73.92083460429942 40.64439765...</td>\n",
       "    </tr>\n",
       "    <tr>\n",
       "      <th>NAME</th>\n",
       "      <td>Pieter Claesen Wyckoff House</td>\n",
       "    </tr>\n",
       "    <tr>\n",
       "      <th>LSTMODDATE</th>\n",
       "      <td>01/28/2020 12:00:00 AM +0000</td>\n",
       "    </tr>\n",
       "    <tr>\n",
       "      <th>CNSTRCT_YR</th>\n",
       "      <td>1652.000</td>\n",
       "    </tr>\n",
       "    <tr>\n",
       "      <th>LSTSTATYPE</th>\n",
       "      <td>Constructed</td>\n",
       "    </tr>\n",
       "    <tr>\n",
       "      <th>DOITT_ID</th>\n",
       "      <td>550741</td>\n",
       "    </tr>\n",
       "    <tr>\n",
       "      <th>HEIGHTROOF</th>\n",
       "      <td>24.540</td>\n",
       "    </tr>\n",
       "    <tr>\n",
       "      <th>FEAT_CODE</th>\n",
       "      <td>2100.000</td>\n",
       "    </tr>\n",
       "    <tr>\n",
       "      <th>GROUNDELEV</th>\n",
       "      <td>14.000</td>\n",
       "    </tr>\n",
       "    <tr>\n",
       "      <th>SHAPE_AREA</th>\n",
       "      <td>2214.189</td>\n",
       "    </tr>\n",
       "    <tr>\n",
       "      <th>SHAPE_LEN</th>\n",
       "      <td>208.884</td>\n",
       "    </tr>\n",
       "    <tr>\n",
       "      <th>BASE_BBL</th>\n",
       "      <td>3079170009.000</td>\n",
       "    </tr>\n",
       "    <tr>\n",
       "      <th>MPLUTO_BBL</th>\n",
       "      <td>3079170009.000</td>\n",
       "    </tr>\n",
       "    <tr>\n",
       "      <th>GEOMSOURCE</th>\n",
       "      <td>Photogramm</td>\n",
       "    </tr>\n",
       "  </tbody>\n",
       "</table>\n",
       "</div>"
      ],
      "text/plain": [
       "                                                      1079239\n",
       "BIN                                                   3221967\n",
       "the_geom    MULTIPOLYGON (((-73.92083460429942 40.64439765...\n",
       "NAME                             Pieter Claesen Wyckoff House\n",
       "LSTMODDATE                       01/28/2020 12:00:00 AM +0000\n",
       "CNSTRCT_YR                                           1652.000\n",
       "LSTSTATYPE                                        Constructed\n",
       "DOITT_ID                                               550741\n",
       "HEIGHTROOF                                             24.540\n",
       "FEAT_CODE                                            2100.000\n",
       "GROUNDELEV                                             14.000\n",
       "SHAPE_AREA                                           2214.189\n",
       "SHAPE_LEN                                             208.884\n",
       "BASE_BBL                                       3079170009.000\n",
       "MPLUTO_BBL                                     3079170009.000\n",
       "GEOMSOURCE                                         Photogramm"
      ]
     },
     "execution_count": 73,
     "metadata": {},
     "output_type": "execute_result"
    }
   ],
   "source": [
    "building_footprints[building_footprints.CNSTRCT_YR > 0].sort_values(by='CNSTRCT_YR').dropna(subset=['NAME']).head(1).T"
   ]
  },
  {
   "cell_type": "code",
   "execution_count": 74,
   "metadata": {},
   "outputs": [
    {
     "data": {
      "text/html": [
       "<div>\n",
       "<style scoped>\n",
       "    .dataframe tbody tr th:only-of-type {\n",
       "        vertical-align: middle;\n",
       "    }\n",
       "\n",
       "    .dataframe tbody tr th {\n",
       "        vertical-align: top;\n",
       "    }\n",
       "\n",
       "    .dataframe thead th {\n",
       "        text-align: right;\n",
       "    }\n",
       "</style>\n",
       "<table border=\"1\" class=\"dataframe\">\n",
       "  <thead>\n",
       "    <tr style=\"text-align: right;\">\n",
       "      <th></th>\n",
       "      <th>BIN</th>\n",
       "      <th>the_geom</th>\n",
       "      <th>NAME</th>\n",
       "      <th>LSTMODDATE</th>\n",
       "      <th>CNSTRCT_YR</th>\n",
       "      <th>LSTSTATYPE</th>\n",
       "      <th>DOITT_ID</th>\n",
       "      <th>HEIGHTROOF</th>\n",
       "      <th>FEAT_CODE</th>\n",
       "      <th>GROUNDELEV</th>\n",
       "      <th>SHAPE_AREA</th>\n",
       "      <th>SHAPE_LEN</th>\n",
       "      <th>BASE_BBL</th>\n",
       "      <th>MPLUTO_BBL</th>\n",
       "      <th>GEOMSOURCE</th>\n",
       "    </tr>\n",
       "  </thead>\n",
       "  <tbody>\n",
       "    <tr>\n",
       "      <th>723911</th>\n",
       "      <td>1004350</td>\n",
       "      <td>MULTIPOLYGON (((-73.973538271636 40.7264685500...</td>\n",
       "      <td>Manhattan Pumping Station</td>\n",
       "      <td>08/22/2017 12:00:00 AM +0000</td>\n",
       "      <td>0.000</td>\n",
       "      <td>Constructed</td>\n",
       "      <td>266156</td>\n",
       "      <td>107.019</td>\n",
       "      <td>2100.000</td>\n",
       "      <td>9.000</td>\n",
       "      <td>17100.962</td>\n",
       "      <td>637.272</td>\n",
       "      <td>1003670025.000</td>\n",
       "      <td>1003670025.000</td>\n",
       "      <td>Other (Man</td>\n",
       "    </tr>\n",
       "    <tr>\n",
       "      <th>714758</th>\n",
       "      <td>1083621</td>\n",
       "      <td>MULTIPOLYGON (((-73.99020239051326 40.75240074...</td>\n",
       "      <td>New York Telephone Compa*</td>\n",
       "      <td>08/22/2017 12:00:00 AM +0000</td>\n",
       "      <td>0.000</td>\n",
       "      <td>Constructed</td>\n",
       "      <td>775248</td>\n",
       "      <td>160.660</td>\n",
       "      <td>2100.000</td>\n",
       "      <td>39.000</td>\n",
       "      <td>16470.978</td>\n",
       "      <td>532.578</td>\n",
       "      <td>1007850049.000</td>\n",
       "      <td>1007850049.000</td>\n",
       "      <td>Photogramm</td>\n",
       "    </tr>\n",
       "    <tr>\n",
       "      <th>683063</th>\n",
       "      <td>1083622</td>\n",
       "      <td>MULTIPOLYGON (((-73.9907346786451 40.752624973...</td>\n",
       "      <td>New York Telephone Compa*</td>\n",
       "      <td>08/22/2017 12:00:00 AM +0000</td>\n",
       "      <td>0.000</td>\n",
       "      <td>Constructed</td>\n",
       "      <td>95063</td>\n",
       "      <td>219.683</td>\n",
       "      <td>2100.000</td>\n",
       "      <td>39.000</td>\n",
       "      <td>17008.123</td>\n",
       "      <td>543.573</td>\n",
       "      <td>1007850049.000</td>\n",
       "      <td>1007850049.000</td>\n",
       "      <td>Photogramm</td>\n",
       "    </tr>\n",
       "    <tr>\n",
       "      <th>808680</th>\n",
       "      <td>1082908</td>\n",
       "      <td>MULTIPOLYGON (((-73.99354971485617 40.75110707...</td>\n",
       "      <td>Madison Square Garden</td>\n",
       "      <td>08/22/2017 12:00:00 AM +0000</td>\n",
       "      <td>0.000</td>\n",
       "      <td>Constructed</td>\n",
       "      <td>831086</td>\n",
       "      <td>145.640</td>\n",
       "      <td>2100.000</td>\n",
       "      <td>35.000</td>\n",
       "      <td>179912.149</td>\n",
       "      <td>1887.376</td>\n",
       "      <td>1007810001.000</td>\n",
       "      <td>1007810001.000</td>\n",
       "      <td>Photogramm</td>\n",
       "    </tr>\n",
       "    <tr>\n",
       "      <th>1035066</th>\n",
       "      <td>1083810</td>\n",
       "      <td>MULTIPOLYGON (((-73.96303731664047 40.78070299...</td>\n",
       "      <td>The Metropolitan Museum</td>\n",
       "      <td>08/22/2017 12:00:00 AM +0000</td>\n",
       "      <td>0.000</td>\n",
       "      <td>Constructed</td>\n",
       "      <td>120474</td>\n",
       "      <td>87.770</td>\n",
       "      <td>2100.000</td>\n",
       "      <td>100.000</td>\n",
       "      <td>481865.279</td>\n",
       "      <td>4606.613</td>\n",
       "      <td>1011110001.000</td>\n",
       "      <td>1011110001.000</td>\n",
       "      <td>Photogramm</td>\n",
       "    </tr>\n",
       "  </tbody>\n",
       "</table>\n",
       "</div>"
      ],
      "text/plain": [
       "             BIN                                           the_geom  \\\n",
       "723911   1004350  MULTIPOLYGON (((-73.973538271636 40.7264685500...   \n",
       "714758   1083621  MULTIPOLYGON (((-73.99020239051326 40.75240074...   \n",
       "683063   1083622  MULTIPOLYGON (((-73.9907346786451 40.752624973...   \n",
       "808680   1082908  MULTIPOLYGON (((-73.99354971485617 40.75110707...   \n",
       "1035066  1083810  MULTIPOLYGON (((-73.96303731664047 40.78070299...   \n",
       "\n",
       "                              NAME                    LSTMODDATE  CNSTRCT_YR  \\\n",
       "723911   Manhattan Pumping Station  08/22/2017 12:00:00 AM +0000       0.000   \n",
       "714758   New York Telephone Compa*  08/22/2017 12:00:00 AM +0000       0.000   \n",
       "683063   New York Telephone Compa*  08/22/2017 12:00:00 AM +0000       0.000   \n",
       "808680       Madison Square Garden  08/22/2017 12:00:00 AM +0000       0.000   \n",
       "1035066    The Metropolitan Museum  08/22/2017 12:00:00 AM +0000       0.000   \n",
       "\n",
       "          LSTSTATYPE  DOITT_ID  HEIGHTROOF  FEAT_CODE  GROUNDELEV  SHAPE_AREA  \\\n",
       "723911   Constructed    266156     107.019   2100.000       9.000   17100.962   \n",
       "714758   Constructed    775248     160.660   2100.000      39.000   16470.978   \n",
       "683063   Constructed     95063     219.683   2100.000      39.000   17008.123   \n",
       "808680   Constructed    831086     145.640   2100.000      35.000  179912.149   \n",
       "1035066  Constructed    120474      87.770   2100.000     100.000  481865.279   \n",
       "\n",
       "         SHAPE_LEN       BASE_BBL     MPLUTO_BBL  GEOMSOURCE  \n",
       "723911     637.272 1003670025.000 1003670025.000  Other (Man  \n",
       "714758     532.578 1007850049.000 1007850049.000  Photogramm  \n",
       "683063     543.573 1007850049.000 1007850049.000  Photogramm  \n",
       "808680    1887.376 1007810001.000 1007810001.000  Photogramm  \n",
       "1035066   4606.613 1011110001.000 1011110001.000  Photogramm  "
      ]
     },
     "execution_count": 74,
     "metadata": {},
     "output_type": "execute_result"
    }
   ],
   "source": [
    "building_footprints[building_footprints.CNSTRCT_YR < 1].sort_values(by='CNSTRCT_YR').dropna(subset=['NAME']).head()"
   ]
  },
  {
   "cell_type": "code",
   "execution_count": 75,
   "metadata": {},
   "outputs": [
    {
     "data": {
      "text/plain": [
       "New York Telephone Compa*              2\n",
       "3412609                                1\n",
       "Building 127                           1\n",
       "The Metropolitan Museum                1\n",
       "Building 115                           1\n",
       "203                                    1\n",
       "Mobil Building                         1\n",
       "Manhattan Pumping Station              1\n",
       "Saint Patrick's R.C. School            1\n",
       "Vidalia Park-Comfort Station           1\n",
       "Barretto Point Park-BUILDING           1\n",
       "Building 126                           1\n",
       "Two Penn Plaza                         1\n",
       "Building 131                           1\n",
       "Newsweek Building                      1\n",
       "Grand Central Terminal                 1\n",
       "Siemens Building                       1\n",
       "Rosewood Playground-Comfort Station    1\n",
       "Delacorte Theater                      1\n",
       "building                               1\n",
       "MetLife Building                       1\n",
       "Madison Square Garden                  1\n",
       "Soundview Field House                  1\n",
       "Name: NAME, dtype: int64"
      ]
     },
     "execution_count": 75,
     "metadata": {},
     "output_type": "execute_result"
    }
   ],
   "source": [
    "name_no_year = building_footprints[building_footprints.CNSTRCT_YR < 1].sort_values(by='CNSTRCT_YR').dropna(subset=['NAME'])\n",
    "\n",
    "name_no_year.NAME.value_counts()"
   ]
  },
  {
   "cell_type": "code",
   "execution_count": 76,
   "metadata": {},
   "outputs": [
    {
     "data": {
      "text/html": [
       "<div>\n",
       "<style scoped>\n",
       "    .dataframe tbody tr th:only-of-type {\n",
       "        vertical-align: middle;\n",
       "    }\n",
       "\n",
       "    .dataframe tbody tr th {\n",
       "        vertical-align: top;\n",
       "    }\n",
       "\n",
       "    .dataframe thead th {\n",
       "        text-align: right;\n",
       "    }\n",
       "</style>\n",
       "<table border=\"1\" class=\"dataframe\">\n",
       "  <thead>\n",
       "    <tr style=\"text-align: right;\">\n",
       "      <th></th>\n",
       "      <th>index</th>\n",
       "      <th>NAME</th>\n",
       "    </tr>\n",
       "  </thead>\n",
       "  <tbody>\n",
       "    <tr>\n",
       "      <th>0</th>\n",
       "      <td>New York Telephone Compa*</td>\n",
       "      <td>2</td>\n",
       "    </tr>\n",
       "    <tr>\n",
       "      <th>1</th>\n",
       "      <td>3412609</td>\n",
       "      <td>1</td>\n",
       "    </tr>\n",
       "    <tr>\n",
       "      <th>2</th>\n",
       "      <td>Building 127</td>\n",
       "      <td>1</td>\n",
       "    </tr>\n",
       "    <tr>\n",
       "      <th>3</th>\n",
       "      <td>The Metropolitan Museum</td>\n",
       "      <td>1</td>\n",
       "    </tr>\n",
       "    <tr>\n",
       "      <th>4</th>\n",
       "      <td>Building 115</td>\n",
       "      <td>1</td>\n",
       "    </tr>\n",
       "    <tr>\n",
       "      <th>5</th>\n",
       "      <td>203</td>\n",
       "      <td>1</td>\n",
       "    </tr>\n",
       "    <tr>\n",
       "      <th>6</th>\n",
       "      <td>Mobil Building</td>\n",
       "      <td>1</td>\n",
       "    </tr>\n",
       "    <tr>\n",
       "      <th>7</th>\n",
       "      <td>Manhattan Pumping Station</td>\n",
       "      <td>1</td>\n",
       "    </tr>\n",
       "    <tr>\n",
       "      <th>8</th>\n",
       "      <td>Saint Patrick's R.C. School</td>\n",
       "      <td>1</td>\n",
       "    </tr>\n",
       "    <tr>\n",
       "      <th>9</th>\n",
       "      <td>Vidalia Park-Comfort Station</td>\n",
       "      <td>1</td>\n",
       "    </tr>\n",
       "    <tr>\n",
       "      <th>10</th>\n",
       "      <td>Barretto Point Park-BUILDING</td>\n",
       "      <td>1</td>\n",
       "    </tr>\n",
       "    <tr>\n",
       "      <th>11</th>\n",
       "      <td>Building 126</td>\n",
       "      <td>1</td>\n",
       "    </tr>\n",
       "    <tr>\n",
       "      <th>12</th>\n",
       "      <td>Two Penn Plaza</td>\n",
       "      <td>1</td>\n",
       "    </tr>\n",
       "    <tr>\n",
       "      <th>13</th>\n",
       "      <td>Building 131</td>\n",
       "      <td>1</td>\n",
       "    </tr>\n",
       "    <tr>\n",
       "      <th>14</th>\n",
       "      <td>Newsweek Building</td>\n",
       "      <td>1</td>\n",
       "    </tr>\n",
       "    <tr>\n",
       "      <th>15</th>\n",
       "      <td>Grand Central Terminal</td>\n",
       "      <td>1</td>\n",
       "    </tr>\n",
       "    <tr>\n",
       "      <th>16</th>\n",
       "      <td>Siemens Building</td>\n",
       "      <td>1</td>\n",
       "    </tr>\n",
       "    <tr>\n",
       "      <th>17</th>\n",
       "      <td>Rosewood Playground-Comfort Station</td>\n",
       "      <td>1</td>\n",
       "    </tr>\n",
       "    <tr>\n",
       "      <th>18</th>\n",
       "      <td>Delacorte Theater</td>\n",
       "      <td>1</td>\n",
       "    </tr>\n",
       "    <tr>\n",
       "      <th>19</th>\n",
       "      <td>building</td>\n",
       "      <td>1</td>\n",
       "    </tr>\n",
       "    <tr>\n",
       "      <th>20</th>\n",
       "      <td>MetLife Building</td>\n",
       "      <td>1</td>\n",
       "    </tr>\n",
       "    <tr>\n",
       "      <th>21</th>\n",
       "      <td>Madison Square Garden</td>\n",
       "      <td>1</td>\n",
       "    </tr>\n",
       "    <tr>\n",
       "      <th>22</th>\n",
       "      <td>Soundview Field House</td>\n",
       "      <td>1</td>\n",
       "    </tr>\n",
       "  </tbody>\n",
       "</table>\n",
       "</div>"
      ],
      "text/plain": [
       "                                  index  NAME\n",
       "0             New York Telephone Compa*     2\n",
       "1                               3412609     1\n",
       "2                          Building 127     1\n",
       "3               The Metropolitan Museum     1\n",
       "4                          Building 115     1\n",
       "5                                   203     1\n",
       "6                        Mobil Building     1\n",
       "7             Manhattan Pumping Station     1\n",
       "8           Saint Patrick's R.C. School     1\n",
       "9          Vidalia Park-Comfort Station     1\n",
       "10         Barretto Point Park-BUILDING     1\n",
       "11                         Building 126     1\n",
       "12                       Two Penn Plaza     1\n",
       "13                         Building 131     1\n",
       "14                    Newsweek Building     1\n",
       "15               Grand Central Terminal     1\n",
       "16                     Siemens Building     1\n",
       "17  Rosewood Playground-Comfort Station     1\n",
       "18                    Delacorte Theater     1\n",
       "19                             building     1\n",
       "20                     MetLife Building     1\n",
       "21                Madison Square Garden     1\n",
       "22                Soundview Field House     1"
      ]
     },
     "execution_count": 76,
     "metadata": {},
     "output_type": "execute_result"
    }
   ],
   "source": [
    "name_no_year.NAME.value_counts().reset_index()"
   ]
  },
  {
   "cell_type": "code",
   "execution_count": 77,
   "metadata": {},
   "outputs": [
    {
     "data": {
      "text/plain": [
       "24"
      ]
     },
     "execution_count": 77,
     "metadata": {},
     "output_type": "execute_result"
    }
   ],
   "source": [
    "len(name_no_year)"
   ]
  },
  {
   "cell_type": "markdown",
   "metadata": {},
   "source": [
    "# Construction Year 1652 as first building"
   ]
  },
  {
   "cell_type": "code",
   "execution_count": 78,
   "metadata": {},
   "outputs": [
    {
     "data": {
      "text/plain": [
       "array([0.0000000e+00,           nan, 2.0000000e+04, 2.0004000e+04,\n",
       "       2.0115000e+04, 1.9999979e+07, 2.0200000e+02])"
      ]
     },
     "execution_count": 78,
     "metadata": {},
     "output_type": "execute_result"
    }
   ],
   "source": [
    "building_footprints[~building_footprints['CNSTRCT_YR'].between(1652, 2020)]['CNSTRCT_YR'].unique()"
   ]
  },
  {
   "cell_type": "code",
   "execution_count": 79,
   "metadata": {},
   "outputs": [
    {
     "name": "stdout",
     "output_type": "stream",
     "text": [
      "0.0\n",
      "nan\n",
      "20000.0\n",
      "20004.0\n",
      "20115.0\n",
      "19999979.0\n",
      "202.0\n"
     ]
    }
   ],
   "source": [
    "unique_values = building_footprints[~building_footprints['CNSTRCT_YR'].between(1652, 2020)]['CNSTRCT_YR'].unique()\n",
    "\n",
    "print(*unique_values, sep='\\n')"
   ]
  },
  {
   "cell_type": "code",
   "execution_count": 80,
   "metadata": {},
   "outputs": [
    {
     "name": "stdout",
     "output_type": "stream",
     "text": [
      "0.0\n",
      "202.0\n",
      "20000.0\n",
      "20004.0\n",
      "20115.0\n",
      "19999979.0\n",
      "nan\n"
     ]
    }
   ],
   "source": [
    "unique_values_sorted = np.sort(unique_values)\n",
    "\n",
    "print(*unique_values_sorted, sep='\\n')"
   ]
  },
  {
   "cell_type": "code",
   "execution_count": 81,
   "metadata": {},
   "outputs": [
    {
     "data": {
      "text/plain": [
       "6"
      ]
     },
     "execution_count": 81,
     "metadata": {},
     "output_type": "execute_result"
    }
   ],
   "source": [
    "building_footprints[~building_footprints['CNSTRCT_YR'].between(1652, 2020)]['CNSTRCT_YR'].nunique()"
   ]
  },
  {
   "cell_type": "code",
   "execution_count": 82,
   "metadata": {},
   "outputs": [
    {
     "data": {
      "text/plain": [
       "0.000           6141\n",
       "20000.000          2\n",
       "202.000            1\n",
       "20115.000          1\n",
       "19999979.000       1\n",
       "20004.000          1\n",
       "Name: CNSTRCT_YR, dtype: int64"
      ]
     },
     "execution_count": 82,
     "metadata": {},
     "output_type": "execute_result"
    }
   ],
   "source": [
    "building_footprints[~building_footprints['CNSTRCT_YR'].between(1652, 2020)]['CNSTRCT_YR'].value_counts()"
   ]
  },
  {
   "cell_type": "code",
   "execution_count": 83,
   "metadata": {},
   "outputs": [
    {
     "data": {
      "text/plain": [
       "0.000           6141\n",
       "202.000            1\n",
       "20000.000          2\n",
       "20004.000          1\n",
       "20115.000          1\n",
       "19999979.000       1\n",
       "Name: CNSTRCT_YR, dtype: int64"
      ]
     },
     "execution_count": 83,
     "metadata": {},
     "output_type": "execute_result"
    }
   ],
   "source": [
    "building_footprints[~building_footprints['CNSTRCT_YR'].between(1652, 2020)]['CNSTRCT_YR'].value_counts().sort_index()"
   ]
  },
  {
   "cell_type": "code",
   "execution_count": 84,
   "metadata": {},
   "outputs": [
    {
     "name": "stdout",
     "output_type": "stream",
     "text": [
      "6147\n"
     ]
    }
   ],
   "source": [
    "num_of_outliers = building_footprints[~building_footprints['CNSTRCT_YR'].between(1652, 2020)]['CNSTRCT_YR'].value_counts().sum()\n",
    "\n",
    "print(num_of_outliers)"
   ]
  },
  {
   "cell_type": "code",
   "execution_count": 85,
   "metadata": {},
   "outputs": [
    {
     "name": "stdout",
     "output_type": "stream",
     "text": [
      "Possible outliers: 6,147\n"
     ]
    }
   ],
   "source": [
    "print('Possible outliers: ' +  \"{:,}\".format(num_of_outliers))"
   ]
  },
  {
   "cell_type": "markdown",
   "metadata": {},
   "source": [
    "## 4.2 Replacing Outliers with Null/NA Values"
   ]
  },
  {
   "cell_type": "markdown",
   "metadata": {},
   "source": [
    "One of my favorite pandas methods is `pd.to_numeric()`. We set `errors='coerce'` so any value that can not be converted to an integer returns 'NaN.' And then, you guest it, we can fill in these NaN values."
   ]
  },
  {
   "cell_type": "code",
   "execution_count": 89,
   "metadata": {},
   "outputs": [
    {
     "data": {
      "text/plain": [
       "4882"
      ]
     },
     "execution_count": 89,
     "metadata": {},
     "output_type": "execute_result"
    }
   ],
   "source": [
    "# summing null/na values in the 'CNSTRCT_YR' column\n",
    "building_footprints['CNSTRCT_YR'].isna().sum()"
   ]
  },
  {
   "cell_type": "code",
   "execution_count": 90,
   "metadata": {},
   "outputs": [
    {
     "data": {
      "text/plain": [
       "0         2009.000\n",
       "1         1930.000\n",
       "2         1960.000\n",
       "3         1920.000\n",
       "4         1915.000\n",
       "            ...   \n",
       "1084921        nan\n",
       "1084922        nan\n",
       "1084923        nan\n",
       "1084924   2018.000\n",
       "1084925   2019.000\n",
       "Name: CNSTRCT_YR, Length: 1084926, dtype: float64"
      ]
     },
     "execution_count": 90,
     "metadata": {},
     "output_type": "execute_result"
    }
   ],
   "source": [
    "# converting all the values in our 'CNSTRCT_YR' column as integers\n",
    "# invalid conversions will be set as NaN with errors='coerce'\n",
    "pd.to_numeric(building_footprints['CNSTRCT_YR'], downcast='integer', errors='coerce')"
   ]
  },
  {
   "cell_type": "code",
   "execution_count": 91,
   "metadata": {},
   "outputs": [
    {
     "data": {
      "text/plain": [
       "4882"
      ]
     },
     "execution_count": 91,
     "metadata": {},
     "output_type": "execute_result"
    }
   ],
   "source": [
    "# summing null/na values in the 'CNSTRCT_YR' column\n",
    "building_footprints['CNSTRCT_YR'].isna().sum()"
   ]
  },
  {
   "cell_type": "code",
   "execution_count": 92,
   "metadata": {},
   "outputs": [
    {
     "name": "stdout",
     "output_type": "stream",
     "text": [
      "1946.641547936936\n",
      "1930.0\n"
     ]
    }
   ],
   "source": [
    "# printing the mean and median of the 'CNSTRCT_YR' column\n",
    "print(building_footprints['CNSTRCT_YR'].mean())\n",
    "print(building_footprints['CNSTRCT_YR'].median())"
   ]
  },
  {
   "cell_type": "code",
   "execution_count": 93,
   "metadata": {},
   "outputs": [],
   "source": [
    "# identifying values not between 1 and 2020 and saving as the name 'replace'\n",
    "replace = building_footprints[~building_footprints['CNSTRCT_YR'].between(1652, 2020)]\n",
    "\n",
    "building_footprints[['CNSTRCT_YR']] = building_footprints[['CNSTRCT_YR']].replace(replace, np.nan)"
   ]
  },
  {
   "cell_type": "code",
   "execution_count": 94,
   "metadata": {},
   "outputs": [
    {
     "data": {
      "text/plain": [
       "Series([], Name: CNSTRCT_YR, dtype: int64)"
      ]
     },
     "execution_count": 94,
     "metadata": {},
     "output_type": "execute_result"
    }
   ],
   "source": [
    "building_footprints[~building_footprints['CNSTRCT_YR'].between(1652, 2020)]['CNSTRCT_YR'].value_counts()"
   ]
  },
  {
   "cell_type": "code",
   "execution_count": 95,
   "metadata": {},
   "outputs": [
    {
     "name": "stdout",
     "output_type": "stream",
     "text": [
      "2020.0\n",
      "1652.0\n"
     ]
    }
   ],
   "source": [
    "print(building_footprints['CNSTRCT_YR'].max())\n",
    "print(building_footprints['CNSTRCT_YR'].min())"
   ]
  },
  {
   "cell_type": "code",
   "execution_count": 96,
   "metadata": {},
   "outputs": [
    {
     "data": {
      "text/plain": [
       "11029"
      ]
     },
     "execution_count": 96,
     "metadata": {},
     "output_type": "execute_result"
    }
   ],
   "source": [
    "# summing null/na values in the 'CNSTRCT_YR' column\n",
    "building_footprints['CNSTRCT_YR'].isna().sum()"
   ]
  },
  {
   "cell_type": "markdown",
   "metadata": {},
   "source": [
    "## 4.2 Dropping Null/NA Values"
   ]
  },
  {
   "cell_type": "code",
   "execution_count": 97,
   "metadata": {},
   "outputs": [
    {
     "data": {
      "text/plain": [
       "1084926"
      ]
     },
     "execution_count": 97,
     "metadata": {},
     "output_type": "execute_result"
    }
   ],
   "source": [
    "len(building_footprints)"
   ]
  },
  {
   "cell_type": "code",
   "execution_count": 98,
   "metadata": {},
   "outputs": [
    {
     "data": {
      "text/plain": [
       "1073897"
      ]
     },
     "execution_count": 98,
     "metadata": {},
     "output_type": "execute_result"
    }
   ],
   "source": [
    "len(building_footprints.dropna(subset=['CNSTRCT_YR']))"
   ]
  },
  {
   "cell_type": "code",
   "execution_count": 99,
   "metadata": {},
   "outputs": [
    {
     "data": {
      "text/plain": [
       "11029"
      ]
     },
     "execution_count": 99,
     "metadata": {},
     "output_type": "execute_result"
    }
   ],
   "source": [
    "len(building_footprints) - len(building_footprints.dropna(subset=['CNSTRCT_YR']))"
   ]
  },
  {
   "cell_type": "code",
   "execution_count": 100,
   "metadata": {},
   "outputs": [
    {
     "name": "stdout",
     "output_type": "stream",
     "text": [
      "Dropping 11,029 (or 0.01% of total) nulls from dataset.\n"
     ]
    }
   ],
   "source": [
    "print('Dropping ' + \\\n",
    "      (\"{:,}\".format(len(building_footprints) - \\\n",
    "                     len(building_footprints.dropna(subset=['CNSTRCT_YR'])))) \\\n",
    "      + ' (or '\n",
    "      + (\"{:,.2f}\".format((len(building_footprints) - \\\n",
    "                          len(building_footprints.dropna(subset=['CNSTRCT_YR'])))/len(building_footprints)))\n",
    "      + '% of total) nulls from dataset.')"
   ]
  },
  {
   "cell_type": "code",
   "execution_count": 101,
   "metadata": {},
   "outputs": [
    {
     "data": {
      "text/plain": [
       "1073897"
      ]
     },
     "execution_count": 101,
     "metadata": {},
     "output_type": "execute_result"
    }
   ],
   "source": [
    "building_footprints_dropna = building_footprints.dropna(subset=['CNSTRCT_YR'])\n",
    "len(building_footprints_dropna)"
   ]
  },
  {
   "cell_type": "code",
   "execution_count": 102,
   "metadata": {},
   "outputs": [
    {
     "data": {
      "text/html": [
       "<div>\n",
       "<style scoped>\n",
       "    .dataframe tbody tr th:only-of-type {\n",
       "        vertical-align: middle;\n",
       "    }\n",
       "\n",
       "    .dataframe tbody tr th {\n",
       "        vertical-align: top;\n",
       "    }\n",
       "\n",
       "    .dataframe thead th {\n",
       "        text-align: right;\n",
       "    }\n",
       "</style>\n",
       "<table border=\"1\" class=\"dataframe\">\n",
       "  <thead>\n",
       "    <tr style=\"text-align: right;\">\n",
       "      <th></th>\n",
       "      <th>BIN</th>\n",
       "      <th>the_geom</th>\n",
       "      <th>NAME</th>\n",
       "      <th>LSTMODDATE</th>\n",
       "      <th>CNSTRCT_YR</th>\n",
       "      <th>LSTSTATYPE</th>\n",
       "      <th>DOITT_ID</th>\n",
       "      <th>HEIGHTROOF</th>\n",
       "      <th>FEAT_CODE</th>\n",
       "      <th>GROUNDELEV</th>\n",
       "      <th>SHAPE_AREA</th>\n",
       "      <th>SHAPE_LEN</th>\n",
       "      <th>BASE_BBL</th>\n",
       "      <th>MPLUTO_BBL</th>\n",
       "      <th>GEOMSOURCE</th>\n",
       "    </tr>\n",
       "  </thead>\n",
       "  <tbody>\n",
       "    <tr>\n",
       "      <th>0</th>\n",
       "      <td>3394646</td>\n",
       "      <td>MULTIPOLYGON (((-73.87129515296562 40.65717370...</td>\n",
       "      <td>NaN</td>\n",
       "      <td>08/22/2017 12:00:00 AM +0000</td>\n",
       "      <td>2009.000</td>\n",
       "      <td>Constructed</td>\n",
       "      <td>1212853</td>\n",
       "      <td>21.609</td>\n",
       "      <td>2100.000</td>\n",
       "      <td>18.000</td>\n",
       "      <td>854.662</td>\n",
       "      <td>125.080</td>\n",
       "      <td>3044520815.000</td>\n",
       "      <td>3044520815.000</td>\n",
       "      <td>Photogramm</td>\n",
       "    </tr>\n",
       "    <tr>\n",
       "      <th>1</th>\n",
       "      <td>4548330</td>\n",
       "      <td>MULTIPOLYGON (((-73.87670970144625 40.71425234...</td>\n",
       "      <td>NaN</td>\n",
       "      <td>08/17/2017 12:00:00 AM +0000</td>\n",
       "      <td>1930.000</td>\n",
       "      <td>Constructed</td>\n",
       "      <td>1226227</td>\n",
       "      <td>10.360</td>\n",
       "      <td>5110.000</td>\n",
       "      <td>122.000</td>\n",
       "      <td>217.594</td>\n",
       "      <td>60.226</td>\n",
       "      <td>4030640041.000</td>\n",
       "      <td>4030640041.000</td>\n",
       "      <td>Photogramm</td>\n",
       "    </tr>\n",
       "    <tr>\n",
       "      <th>2</th>\n",
       "      <td>4460479</td>\n",
       "      <td>MULTIPOLYGON (((-73.85195485799383 40.66235471...</td>\n",
       "      <td>NaN</td>\n",
       "      <td>08/22/2017 12:00:00 AM +0000</td>\n",
       "      <td>1960.000</td>\n",
       "      <td>Constructed</td>\n",
       "      <td>581946</td>\n",
       "      <td>29.812</td>\n",
       "      <td>2100.000</td>\n",
       "      <td>10.000</td>\n",
       "      <td>946.427</td>\n",
       "      <td>123.142</td>\n",
       "      <td>4139430001.000</td>\n",
       "      <td>4139430001.000</td>\n",
       "      <td>Photogramm</td>\n",
       "    </tr>\n",
       "    <tr>\n",
       "      <th>3</th>\n",
       "      <td>3355684</td>\n",
       "      <td>MULTIPOLYGON (((-73.94029215265738 40.64108287...</td>\n",
       "      <td>NaN</td>\n",
       "      <td>08/17/2017 12:00:00 AM +0000</td>\n",
       "      <td>1920.000</td>\n",
       "      <td>Constructed</td>\n",
       "      <td>858061</td>\n",
       "      <td>11.200</td>\n",
       "      <td>5110.000</td>\n",
       "      <td>32.000</td>\n",
       "      <td>248.678</td>\n",
       "      <td>63.941</td>\n",
       "      <td>3049720006.000</td>\n",
       "      <td>3049720006.000</td>\n",
       "      <td>Photogramm</td>\n",
       "    </tr>\n",
       "    <tr>\n",
       "      <th>4</th>\n",
       "      <td>3131737</td>\n",
       "      <td>MULTIPOLYGON (((-73.98998983552244 40.62383804...</td>\n",
       "      <td>NaN</td>\n",
       "      <td>08/22/2017 12:00:00 AM +0000</td>\n",
       "      <td>1915.000</td>\n",
       "      <td>Constructed</td>\n",
       "      <td>568078</td>\n",
       "      <td>24.980</td>\n",
       "      <td>2100.000</td>\n",
       "      <td>44.000</td>\n",
       "      <td>1163.228</td>\n",
       "      <td>165.609</td>\n",
       "      <td>3055100055.000</td>\n",
       "      <td>3055100055.000</td>\n",
       "      <td>Photogramm</td>\n",
       "    </tr>\n",
       "  </tbody>\n",
       "</table>\n",
       "</div>"
      ],
      "text/plain": [
       "       BIN                                           the_geom NAME  \\\n",
       "0  3394646  MULTIPOLYGON (((-73.87129515296562 40.65717370...  NaN   \n",
       "1  4548330  MULTIPOLYGON (((-73.87670970144625 40.71425234...  NaN   \n",
       "2  4460479  MULTIPOLYGON (((-73.85195485799383 40.66235471...  NaN   \n",
       "3  3355684  MULTIPOLYGON (((-73.94029215265738 40.64108287...  NaN   \n",
       "4  3131737  MULTIPOLYGON (((-73.98998983552244 40.62383804...  NaN   \n",
       "\n",
       "                     LSTMODDATE  CNSTRCT_YR   LSTSTATYPE  DOITT_ID  \\\n",
       "0  08/22/2017 12:00:00 AM +0000    2009.000  Constructed   1212853   \n",
       "1  08/17/2017 12:00:00 AM +0000    1930.000  Constructed   1226227   \n",
       "2  08/22/2017 12:00:00 AM +0000    1960.000  Constructed    581946   \n",
       "3  08/17/2017 12:00:00 AM +0000    1920.000  Constructed    858061   \n",
       "4  08/22/2017 12:00:00 AM +0000    1915.000  Constructed    568078   \n",
       "\n",
       "   HEIGHTROOF  FEAT_CODE  GROUNDELEV  SHAPE_AREA  SHAPE_LEN       BASE_BBL  \\\n",
       "0      21.609   2100.000      18.000     854.662    125.080 3044520815.000   \n",
       "1      10.360   5110.000     122.000     217.594     60.226 4030640041.000   \n",
       "2      29.812   2100.000      10.000     946.427    123.142 4139430001.000   \n",
       "3      11.200   5110.000      32.000     248.678     63.941 3049720006.000   \n",
       "4      24.980   2100.000      44.000    1163.228    165.609 3055100055.000   \n",
       "\n",
       "      MPLUTO_BBL  GEOMSOURCE  \n",
       "0 3044520815.000  Photogramm  \n",
       "1 4030640041.000  Photogramm  \n",
       "2 4139430001.000  Photogramm  \n",
       "3 3049720006.000  Photogramm  \n",
       "4 3055100055.000  Photogramm  "
      ]
     },
     "execution_count": 102,
     "metadata": {},
     "output_type": "execute_result"
    }
   ],
   "source": [
    "building_footprints_dropna.head()"
   ]
  },
  {
   "cell_type": "code",
   "execution_count": 103,
   "metadata": {},
   "outputs": [
    {
     "name": "stdout",
     "output_type": "stream",
     "text": [
      "1677-09-21 00:12:43.145225\n",
      "2262-04-11 23:47:16.854775807\n"
     ]
    }
   ],
   "source": [
    "print(pd.Timestamp.min)\n",
    "print(pd.Timestamp.max)"
   ]
  },
  {
   "cell_type": "code",
   "execution_count": 104,
   "metadata": {},
   "outputs": [
    {
     "data": {
      "text/plain": [
       "Text(0.5, 1.0, 'Histogram of Construction Year Values')"
      ]
     },
     "execution_count": 104,
     "metadata": {},
     "output_type": "execute_result"
    },
    {
     "data": {
      "image/png": "[encoded data removed]",
      "text/plain": [
       "<Figure size 1080x720 with 1 Axes>"
      ]
     },
     "metadata": {
      "needs_background": "light"
     },
     "output_type": "display_data"
    }
   ],
   "source": [
    "# making a histogram of our 'CNSTRCT_YR' column with 10 bins\n",
    "building_footprints_dropna['CNSTRCT_YR'].hist(bins=10, figsize=(15,10))\n",
    "plt.xlabel('Construction Year', fontsize=15)\n",
    "plt.ylabel('Counts', fontsize=15)\n",
    "plt.title('Histogram of Construction Year Values', fontsize=15)"
   ]
  },
  {
   "cell_type": "code",
   "execution_count": 105,
   "metadata": {},
   "outputs": [
    {
     "data": {
      "text/plain": [
       "Text(0.5, 1.0, 'Histogram of Construction Year Values')"
      ]
     },
     "execution_count": 105,
     "metadata": {},
     "output_type": "execute_result"
    },
    {
     "data": {
      "image/png": "[encoded data removed]",
      "text/plain": [
       "<Figure size 1080x720 with 1 Axes>"
      ]
     },
     "metadata": {
      "needs_background": "light"
     },
     "output_type": "display_data"
    }
   ],
   "source": [
    "# making a histogram of our 'CNSTRCT_YR' column with 25 bins\n",
    "building_footprints_dropna['CNSTRCT_YR'].hist(bins=25, figsize=(15,10))\n",
    "plt.xlabel('Construction Year', fontsize=15)\n",
    "plt.ylabel('Counts', fontsize=15)\n",
    "plt.title('Histogram of Construction Year Values', fontsize=15)"
   ]
  },
  {
   "cell_type": "code",
   "execution_count": 106,
   "metadata": {},
   "outputs": [
    {
     "data": {
      "text/html": [
       "<div>\n",
       "<style scoped>\n",
       "    .dataframe tbody tr th:only-of-type {\n",
       "        vertical-align: middle;\n",
       "    }\n",
       "\n",
       "    .dataframe tbody tr th {\n",
       "        vertical-align: top;\n",
       "    }\n",
       "\n",
       "    .dataframe thead th {\n",
       "        text-align: right;\n",
       "    }\n",
       "</style>\n",
       "<table border=\"1\" class=\"dataframe\">\n",
       "  <thead>\n",
       "    <tr style=\"text-align: right;\">\n",
       "      <th></th>\n",
       "      <th>CNSTRCT_YR</th>\n",
       "      <th>count</th>\n",
       "    </tr>\n",
       "  </thead>\n",
       "  <tbody>\n",
       "    <tr>\n",
       "      <th>1652</th>\n",
       "      <td>1652.000</td>\n",
       "      <td>1</td>\n",
       "    </tr>\n",
       "    <tr>\n",
       "      <th>1661</th>\n",
       "      <td>1661.000</td>\n",
       "      <td>2</td>\n",
       "    </tr>\n",
       "    <tr>\n",
       "      <th>1665</th>\n",
       "      <td>1665.000</td>\n",
       "      <td>1</td>\n",
       "    </tr>\n",
       "    <tr>\n",
       "      <th>1680</th>\n",
       "      <td>1680.000</td>\n",
       "      <td>1</td>\n",
       "    </tr>\n",
       "    <tr>\n",
       "      <th>1690</th>\n",
       "      <td>1690.000</td>\n",
       "      <td>1</td>\n",
       "    </tr>\n",
       "  </tbody>\n",
       "</table>\n",
       "</div>"
      ],
      "text/plain": [
       "      CNSTRCT_YR  count\n",
       "1652    1652.000      1\n",
       "1661    1661.000      2\n",
       "1665    1665.000      1\n",
       "1680    1680.000      1\n",
       "1690    1690.000      1"
      ]
     },
     "execution_count": 106,
     "metadata": {},
     "output_type": "execute_result"
    }
   ],
   "source": [
    "g = building_footprints_dropna.groupby('CNSTRCT_YR')['DOITT_ID'].count().reset_index()\n",
    "g.rename({'DOITT_ID': 'count'}, axis=1, inplace=True)\n",
    "g.set_index('CNSTRCT_YR', drop=False, inplace=True)\n",
    "g.index = g.index.astype('int64')\n",
    "\n",
    "g.head()"
   ]
  },
  {
   "cell_type": "code",
   "execution_count": 109,
   "metadata": {},
   "outputs": [
    {
     "data": {
      "image/png": "[encoded data removed]",
      "text/plain": [
       "<Figure size 1080x720 with 1 Axes>"
      ]
     },
     "metadata": {
      "needs_background": "light"
     },
     "output_type": "display_data"
    }
   ],
   "source": [
    "fig, ax = plt.subplots(figsize=(15,10))\n",
    "\n",
    "# plotting bar chart of number of claims by year\n",
    "ax.plot(g['count'], linewidth=4)\n",
    "\n",
    "# formatting Y axis with comma\n",
    "ax.get_yaxis().set_major_formatter(\n",
    "    matplotlib.ticker.FuncFormatter(lambda x, p: format(int(x), ',')))\n",
    "\n",
    "plt.xlabel('Construction Year', fontsize=15)\n",
    "plt.ylabel('Number of Newly Constructed Buildings', fontsize=15)\n",
    "plt.title('Number of Newly Constructed Buildings by Construction Year of Buildings Built in NYC',\n",
    "         fontsize=17)\n",
    "plt.tight_layout()\n",
    "#plt.savefig('figures/line-plot-2')"
   ]
  },
  {
   "cell_type": "code",
   "execution_count": 111,
   "metadata": {},
   "outputs": [
    {
     "data": {
      "text/plain": [
       "1901    26853\n",
       "1902      501\n",
       "1903      506\n",
       "1904      579\n",
       "1905     8448\n",
       "        ...  \n",
       "2016     1743\n",
       "2017     1866\n",
       "2018     2049\n",
       "2019      800\n",
       "2020      447\n",
       "Name: count, Length: 120, dtype: int64"
      ]
     },
     "execution_count": 111,
     "metadata": {},
     "output_type": "execute_result"
    }
   ],
   "source": [
    "g[g['CNSTRCT_YR'] > 1900]['count']"
   ]
  },
  {
   "cell_type": "code",
   "execution_count": 112,
   "metadata": {},
   "outputs": [
    {
     "data": {
      "image/png": "[encoded data removed]",
      "text/plain": [
       "<Figure size 1080x720 with 1 Axes>"
      ]
     },
     "metadata": {
      "needs_background": "light"
     },
     "output_type": "display_data"
    }
   ],
   "source": [
    "fig, ax = plt.subplots(figsize=(15,10))\n",
    "\n",
    "# plotting bar chart of number of claims by year\n",
    "ax.plot(g[g['CNSTRCT_YR'] > 1900]['count'], linewidth=4)\n",
    "\n",
    "# formatting Y axis with comma\n",
    "ax.get_yaxis().set_major_formatter(\n",
    "    matplotlib.ticker.FuncFormatter(lambda x, p: format(int(x), ',')))\n",
    "\n",
    "plt.xlabel('Construction Year', fontsize=15)\n",
    "plt.ylabel('Number of Newly Constructed Buildings', fontsize=15)\n",
    "plt.title('Number of Newly Constructed Buildings by Construction Year of Buildings Built in NYC',\n",
    "         fontsize=17)\n",
    "plt.tight_layout()\n",
    "#plt.savefig('figures/line-plot-2')"
   ]
  },
  {
   "cell_type": "code",
   "execution_count": 115,
   "metadata": {},
   "outputs": [
    {
     "data": {
      "text/html": [
       "<div>\n",
       "<style scoped>\n",
       "    .dataframe tbody tr th:only-of-type {\n",
       "        vertical-align: middle;\n",
       "    }\n",
       "\n",
       "    .dataframe tbody tr th {\n",
       "        vertical-align: top;\n",
       "    }\n",
       "\n",
       "    .dataframe thead th {\n",
       "        text-align: right;\n",
       "    }\n",
       "</style>\n",
       "<table border=\"1\" class=\"dataframe\">\n",
       "  <thead>\n",
       "    <tr style=\"text-align: right;\">\n",
       "      <th></th>\n",
       "      <th>CNSTRCT_YR</th>\n",
       "      <th>count</th>\n",
       "      <th>cumsum</th>\n",
       "    </tr>\n",
       "  </thead>\n",
       "  <tbody>\n",
       "    <tr>\n",
       "      <th>1652</th>\n",
       "      <td>1652.000</td>\n",
       "      <td>1</td>\n",
       "      <td>1</td>\n",
       "    </tr>\n",
       "    <tr>\n",
       "      <th>1661</th>\n",
       "      <td>1661.000</td>\n",
       "      <td>2</td>\n",
       "      <td>3</td>\n",
       "    </tr>\n",
       "    <tr>\n",
       "      <th>1665</th>\n",
       "      <td>1665.000</td>\n",
       "      <td>1</td>\n",
       "      <td>4</td>\n",
       "    </tr>\n",
       "    <tr>\n",
       "      <th>1680</th>\n",
       "      <td>1680.000</td>\n",
       "      <td>1</td>\n",
       "      <td>5</td>\n",
       "    </tr>\n",
       "    <tr>\n",
       "      <th>1690</th>\n",
       "      <td>1690.000</td>\n",
       "      <td>1</td>\n",
       "      <td>6</td>\n",
       "    </tr>\n",
       "  </tbody>\n",
       "</table>\n",
       "</div>"
      ],
      "text/plain": [
       "      CNSTRCT_YR  count  cumsum\n",
       "1652    1652.000      1       1\n",
       "1661    1661.000      2       3\n",
       "1665    1665.000      1       4\n",
       "1680    1680.000      1       5\n",
       "1690    1690.000      1       6"
      ]
     },
     "execution_count": 115,
     "metadata": {},
     "output_type": "execute_result"
    }
   ],
   "source": [
    "g.head()"
   ]
  },
  {
   "cell_type": "code",
   "execution_count": 116,
   "metadata": {},
   "outputs": [],
   "source": [
    "g['cumsum'] = g['count'].cumsum()"
   ]
  },
  {
   "cell_type": "code",
   "execution_count": 117,
   "metadata": {},
   "outputs": [
    {
     "data": {
      "text/html": [
       "<div>\n",
       "<style scoped>\n",
       "    .dataframe tbody tr th:only-of-type {\n",
       "        vertical-align: middle;\n",
       "    }\n",
       "\n",
       "    .dataframe tbody tr th {\n",
       "        vertical-align: top;\n",
       "    }\n",
       "\n",
       "    .dataframe thead th {\n",
       "        text-align: right;\n",
       "    }\n",
       "</style>\n",
       "<table border=\"1\" class=\"dataframe\">\n",
       "  <thead>\n",
       "    <tr style=\"text-align: right;\">\n",
       "      <th></th>\n",
       "      <th>CNSTRCT_YR</th>\n",
       "      <th>count</th>\n",
       "      <th>cumsum</th>\n",
       "    </tr>\n",
       "  </thead>\n",
       "  <tbody>\n",
       "    <tr>\n",
       "      <th>1652</th>\n",
       "      <td>1652.000</td>\n",
       "      <td>1</td>\n",
       "      <td>1</td>\n",
       "    </tr>\n",
       "    <tr>\n",
       "      <th>1661</th>\n",
       "      <td>1661.000</td>\n",
       "      <td>2</td>\n",
       "      <td>3</td>\n",
       "    </tr>\n",
       "    <tr>\n",
       "      <th>1665</th>\n",
       "      <td>1665.000</td>\n",
       "      <td>1</td>\n",
       "      <td>4</td>\n",
       "    </tr>\n",
       "    <tr>\n",
       "      <th>1680</th>\n",
       "      <td>1680.000</td>\n",
       "      <td>1</td>\n",
       "      <td>5</td>\n",
       "    </tr>\n",
       "    <tr>\n",
       "      <th>1690</th>\n",
       "      <td>1690.000</td>\n",
       "      <td>1</td>\n",
       "      <td>6</td>\n",
       "    </tr>\n",
       "  </tbody>\n",
       "</table>\n",
       "</div>"
      ],
      "text/plain": [
       "      CNSTRCT_YR  count  cumsum\n",
       "1652    1652.000      1       1\n",
       "1661    1661.000      2       3\n",
       "1665    1665.000      1       4\n",
       "1680    1680.000      1       5\n",
       "1690    1690.000      1       6"
      ]
     },
     "execution_count": 117,
     "metadata": {},
     "output_type": "execute_result"
    }
   ],
   "source": [
    "g.head()"
   ]
  },
  {
   "cell_type": "code",
   "execution_count": 118,
   "metadata": {},
   "outputs": [
    {
     "data": {
      "image/png": "[encoded data removed]",
      "text/plain": [
       "<Figure size 1080x720 with 1 Axes>"
      ]
     },
     "metadata": {
      "needs_background": "light"
     },
     "output_type": "display_data"
    }
   ],
   "source": [
    "fig, ax = plt.subplots(figsize=(15,10))\n",
    "\n",
    "# plotting bar chart of number of claims by year\n",
    "ax.plot(g['cumsum'], linewidth=4)\n",
    "\n",
    "# formatting Y axis with comma\n",
    "ax.get_yaxis().set_major_formatter(\n",
    "    matplotlib.ticker.FuncFormatter(lambda x, p: format(int(x), ',')))\n",
    "\n",
    "plt.xlabel('Construction Year', fontsize=15)\n",
    "plt.ylabel('Number of Newly Constructed Buildings', fontsize=15)\n",
    "plt.title('Number of Newly Constructed Buildings by Construction Year of Buildings Built in NYC',\n",
    "         fontsize=17)\n",
    "plt.tight_layout()\n",
    "#plt.savefig('figures/line-plot-2')"
   ]
  },
  {
   "cell_type": "code",
   "execution_count": 119,
   "metadata": {},
   "outputs": [
    {
     "data": {
      "image/png": "[encoded data removed]",
      "text/plain": [
       "<Figure size 1080x720 with 1 Axes>"
      ]
     },
     "metadata": {
      "needs_background": "light"
     },
     "output_type": "display_data"
    }
   ],
   "source": [
    "fig, ax = plt.subplots(figsize=(15,10))\n",
    "\n",
    "# plotting bar chart of number of claims by year\n",
    "ax.plot(g[g['CNSTRCT_YR'] > 1900]['cumsum'], linewidth=4)\n",
    "\n",
    "# formatting Y axis with comma\n",
    "ax.get_yaxis().set_major_formatter(\n",
    "    matplotlib.ticker.FuncFormatter(lambda x, p: format(int(x), ',')))\n",
    "\n",
    "plt.xlabel('Construction Year', fontsize=15)\n",
    "plt.ylabel('Number of Newly Constructed Buildings', fontsize=15)\n",
    "plt.title('Number of Newly Constructed Buildings by Construction Year of Buildings Built in NYC',\n",
    "         fontsize=17)\n",
    "plt.tight_layout()\n",
    "#plt.savefig('figures/line-plot-2')"
   ]
  },
  {
   "cell_type": "markdown",
   "metadata": {},
   "source": [
    "## 4.2 Filling In Null/NA Values With Median "
   ]
  },
  {
   "cell_type": "code",
   "execution_count": 120,
   "metadata": {},
   "outputs": [
    {
     "data": {
      "text/html": [
       "<div>\n",
       "<style scoped>\n",
       "    .dataframe tbody tr th:only-of-type {\n",
       "        vertical-align: middle;\n",
       "    }\n",
       "\n",
       "    .dataframe tbody tr th {\n",
       "        vertical-align: top;\n",
       "    }\n",
       "\n",
       "    .dataframe thead th {\n",
       "        text-align: right;\n",
       "    }\n",
       "</style>\n",
       "<table border=\"1\" class=\"dataframe\">\n",
       "  <thead>\n",
       "    <tr style=\"text-align: right;\">\n",
       "      <th></th>\n",
       "      <th>BIN</th>\n",
       "      <th>the_geom</th>\n",
       "      <th>NAME</th>\n",
       "      <th>LSTMODDATE</th>\n",
       "      <th>CNSTRCT_YR</th>\n",
       "      <th>LSTSTATYPE</th>\n",
       "      <th>DOITT_ID</th>\n",
       "      <th>HEIGHTROOF</th>\n",
       "      <th>FEAT_CODE</th>\n",
       "      <th>GROUNDELEV</th>\n",
       "      <th>SHAPE_AREA</th>\n",
       "      <th>SHAPE_LEN</th>\n",
       "      <th>BASE_BBL</th>\n",
       "      <th>MPLUTO_BBL</th>\n",
       "      <th>GEOMSOURCE</th>\n",
       "    </tr>\n",
       "  </thead>\n",
       "  <tbody>\n",
       "    <tr>\n",
       "      <th>0</th>\n",
       "      <td>3394646</td>\n",
       "      <td>MULTIPOLYGON (((-73.87129515296562 40.65717370...</td>\n",
       "      <td>NaN</td>\n",
       "      <td>08/22/2017 12:00:00 AM +0000</td>\n",
       "      <td>2009.000</td>\n",
       "      <td>Constructed</td>\n",
       "      <td>1212853</td>\n",
       "      <td>21.609</td>\n",
       "      <td>2100.000</td>\n",
       "      <td>18.000</td>\n",
       "      <td>854.662</td>\n",
       "      <td>125.080</td>\n",
       "      <td>3044520815.000</td>\n",
       "      <td>3044520815.000</td>\n",
       "      <td>Photogramm</td>\n",
       "    </tr>\n",
       "    <tr>\n",
       "      <th>1</th>\n",
       "      <td>4548330</td>\n",
       "      <td>MULTIPOLYGON (((-73.87670970144625 40.71425234...</td>\n",
       "      <td>NaN</td>\n",
       "      <td>08/17/2017 12:00:00 AM +0000</td>\n",
       "      <td>1930.000</td>\n",
       "      <td>Constructed</td>\n",
       "      <td>1226227</td>\n",
       "      <td>10.360</td>\n",
       "      <td>5110.000</td>\n",
       "      <td>122.000</td>\n",
       "      <td>217.594</td>\n",
       "      <td>60.226</td>\n",
       "      <td>4030640041.000</td>\n",
       "      <td>4030640041.000</td>\n",
       "      <td>Photogramm</td>\n",
       "    </tr>\n",
       "    <tr>\n",
       "      <th>2</th>\n",
       "      <td>4460479</td>\n",
       "      <td>MULTIPOLYGON (((-73.85195485799383 40.66235471...</td>\n",
       "      <td>NaN</td>\n",
       "      <td>08/22/2017 12:00:00 AM +0000</td>\n",
       "      <td>1960.000</td>\n",
       "      <td>Constructed</td>\n",
       "      <td>581946</td>\n",
       "      <td>29.812</td>\n",
       "      <td>2100.000</td>\n",
       "      <td>10.000</td>\n",
       "      <td>946.427</td>\n",
       "      <td>123.142</td>\n",
       "      <td>4139430001.000</td>\n",
       "      <td>4139430001.000</td>\n",
       "      <td>Photogramm</td>\n",
       "    </tr>\n",
       "    <tr>\n",
       "      <th>3</th>\n",
       "      <td>3355684</td>\n",
       "      <td>MULTIPOLYGON (((-73.94029215265738 40.64108287...</td>\n",
       "      <td>NaN</td>\n",
       "      <td>08/17/2017 12:00:00 AM +0000</td>\n",
       "      <td>1920.000</td>\n",
       "      <td>Constructed</td>\n",
       "      <td>858061</td>\n",
       "      <td>11.200</td>\n",
       "      <td>5110.000</td>\n",
       "      <td>32.000</td>\n",
       "      <td>248.678</td>\n",
       "      <td>63.941</td>\n",
       "      <td>3049720006.000</td>\n",
       "      <td>3049720006.000</td>\n",
       "      <td>Photogramm</td>\n",
       "    </tr>\n",
       "    <tr>\n",
       "      <th>4</th>\n",
       "      <td>3131737</td>\n",
       "      <td>MULTIPOLYGON (((-73.98998983552244 40.62383804...</td>\n",
       "      <td>NaN</td>\n",
       "      <td>08/22/2017 12:00:00 AM +0000</td>\n",
       "      <td>1915.000</td>\n",
       "      <td>Constructed</td>\n",
       "      <td>568078</td>\n",
       "      <td>24.980</td>\n",
       "      <td>2100.000</td>\n",
       "      <td>44.000</td>\n",
       "      <td>1163.228</td>\n",
       "      <td>165.609</td>\n",
       "      <td>3055100055.000</td>\n",
       "      <td>3055100055.000</td>\n",
       "      <td>Photogramm</td>\n",
       "    </tr>\n",
       "  </tbody>\n",
       "</table>\n",
       "</div>"
      ],
      "text/plain": [
       "       BIN                                           the_geom NAME  \\\n",
       "0  3394646  MULTIPOLYGON (((-73.87129515296562 40.65717370...  NaN   \n",
       "1  4548330  MULTIPOLYGON (((-73.87670970144625 40.71425234...  NaN   \n",
       "2  4460479  MULTIPOLYGON (((-73.85195485799383 40.66235471...  NaN   \n",
       "3  3355684  MULTIPOLYGON (((-73.94029215265738 40.64108287...  NaN   \n",
       "4  3131737  MULTIPOLYGON (((-73.98998983552244 40.62383804...  NaN   \n",
       "\n",
       "                     LSTMODDATE  CNSTRCT_YR   LSTSTATYPE  DOITT_ID  \\\n",
       "0  08/22/2017 12:00:00 AM +0000    2009.000  Constructed   1212853   \n",
       "1  08/17/2017 12:00:00 AM +0000    1930.000  Constructed   1226227   \n",
       "2  08/22/2017 12:00:00 AM +0000    1960.000  Constructed    581946   \n",
       "3  08/17/2017 12:00:00 AM +0000    1920.000  Constructed    858061   \n",
       "4  08/22/2017 12:00:00 AM +0000    1915.000  Constructed    568078   \n",
       "\n",
       "   HEIGHTROOF  FEAT_CODE  GROUNDELEV  SHAPE_AREA  SHAPE_LEN       BASE_BBL  \\\n",
       "0      21.609   2100.000      18.000     854.662    125.080 3044520815.000   \n",
       "1      10.360   5110.000     122.000     217.594     60.226 4030640041.000   \n",
       "2      29.812   2100.000      10.000     946.427    123.142 4139430001.000   \n",
       "3      11.200   5110.000      32.000     248.678     63.941 3049720006.000   \n",
       "4      24.980   2100.000      44.000    1163.228    165.609 3055100055.000   \n",
       "\n",
       "      MPLUTO_BBL  GEOMSOURCE  \n",
       "0 3044520815.000  Photogramm  \n",
       "1 4030640041.000  Photogramm  \n",
       "2 4139430001.000  Photogramm  \n",
       "3 3049720006.000  Photogramm  \n",
       "4 3055100055.000  Photogramm  "
      ]
     },
     "execution_count": 120,
     "metadata": {},
     "output_type": "execute_result"
    }
   ],
   "source": [
    "building_footprints.head()"
   ]
  },
  {
   "cell_type": "code",
   "execution_count": 121,
   "metadata": {},
   "outputs": [],
   "source": [
    "building_footprints_fillna = building_footprints.sort_values(by='CNSTRCT_YR')"
   ]
  },
  {
   "cell_type": "code",
   "execution_count": 122,
   "metadata": {},
   "outputs": [
    {
     "data": {
      "text/html": [
       "<div>\n",
       "<style scoped>\n",
       "    .dataframe tbody tr th:only-of-type {\n",
       "        vertical-align: middle;\n",
       "    }\n",
       "\n",
       "    .dataframe tbody tr th {\n",
       "        vertical-align: top;\n",
       "    }\n",
       "\n",
       "    .dataframe thead th {\n",
       "        text-align: right;\n",
       "    }\n",
       "</style>\n",
       "<table border=\"1\" class=\"dataframe\">\n",
       "  <thead>\n",
       "    <tr style=\"text-align: right;\">\n",
       "      <th></th>\n",
       "      <th>BIN</th>\n",
       "      <th>the_geom</th>\n",
       "      <th>NAME</th>\n",
       "      <th>LSTMODDATE</th>\n",
       "      <th>CNSTRCT_YR</th>\n",
       "      <th>LSTSTATYPE</th>\n",
       "      <th>DOITT_ID</th>\n",
       "      <th>HEIGHTROOF</th>\n",
       "      <th>FEAT_CODE</th>\n",
       "      <th>GROUNDELEV</th>\n",
       "      <th>SHAPE_AREA</th>\n",
       "      <th>SHAPE_LEN</th>\n",
       "      <th>BASE_BBL</th>\n",
       "      <th>MPLUTO_BBL</th>\n",
       "      <th>GEOMSOURCE</th>\n",
       "    </tr>\n",
       "  </thead>\n",
       "  <tbody>\n",
       "    <tr>\n",
       "      <th>1079239</th>\n",
       "      <td>3221967</td>\n",
       "      <td>MULTIPOLYGON (((-73.92083460429942 40.64439765...</td>\n",
       "      <td>Pieter Claesen Wyckoff House</td>\n",
       "      <td>01/28/2020 12:00:00 AM +0000</td>\n",
       "      <td>1652.000</td>\n",
       "      <td>Constructed</td>\n",
       "      <td>550741</td>\n",
       "      <td>24.540</td>\n",
       "      <td>2100.000</td>\n",
       "      <td>14.000</td>\n",
       "      <td>2214.189</td>\n",
       "      <td>208.884</td>\n",
       "      <td>3079170009.000</td>\n",
       "      <td>3079170009.000</td>\n",
       "      <td>Photogramm</td>\n",
       "    </tr>\n",
       "    <tr>\n",
       "      <th>801741</th>\n",
       "      <td>4113403</td>\n",
       "      <td>MULTIPOLYGON (((-73.8247828135812 40.762948467...</td>\n",
       "      <td>Bowne House</td>\n",
       "      <td>08/22/2017 12:00:00 AM +0000</td>\n",
       "      <td>1661.000</td>\n",
       "      <td>Constructed</td>\n",
       "      <td>776399</td>\n",
       "      <td>26.120</td>\n",
       "      <td>2100.000</td>\n",
       "      <td>64.000</td>\n",
       "      <td>2814.439</td>\n",
       "      <td>242.381</td>\n",
       "      <td>4050130006.000</td>\n",
       "      <td>4050130006.000</td>\n",
       "      <td>Photogramm</td>\n",
       "    </tr>\n",
       "    <tr>\n",
       "      <th>483008</th>\n",
       "      <td>4610542</td>\n",
       "      <td>MULTIPOLYGON (((-73.82449114078894 40.76279389...</td>\n",
       "      <td>NaN</td>\n",
       "      <td>08/17/2017 12:00:00 AM +0000</td>\n",
       "      <td>1661.000</td>\n",
       "      <td>Constructed</td>\n",
       "      <td>1190137</td>\n",
       "      <td>14.847</td>\n",
       "      <td>5110.000</td>\n",
       "      <td>63.000</td>\n",
       "      <td>571.058</td>\n",
       "      <td>112.945</td>\n",
       "      <td>4050130006.000</td>\n",
       "      <td>4050130006.000</td>\n",
       "      <td>Photogramm</td>\n",
       "    </tr>\n",
       "    <tr>\n",
       "      <th>964765</th>\n",
       "      <td>5130548</td>\n",
       "      <td>MULTIPOLYGON (((-74.06383185277687 40.61463876...</td>\n",
       "      <td>NaN</td>\n",
       "      <td>08/22/2017 12:00:00 AM +0000</td>\n",
       "      <td>1665.000</td>\n",
       "      <td>Constructed</td>\n",
       "      <td>160094</td>\n",
       "      <td>32.570</td>\n",
       "      <td>2100.000</td>\n",
       "      <td>38.000</td>\n",
       "      <td>3580.968</td>\n",
       "      <td>308.578</td>\n",
       "      <td>5028300049.000</td>\n",
       "      <td>5028300049.000</td>\n",
       "      <td>Photogramm</td>\n",
       "    </tr>\n",
       "    <tr>\n",
       "      <th>1083750</th>\n",
       "      <td>5087656</td>\n",
       "      <td>MULTIPOLYGON (((-74.25311647359251 40.50309522...</td>\n",
       "      <td>Conference House</td>\n",
       "      <td>04/13/2020 12:00:00 AM +0000</td>\n",
       "      <td>1680.000</td>\n",
       "      <td>Constructed</td>\n",
       "      <td>702698</td>\n",
       "      <td>38.640</td>\n",
       "      <td>2100.000</td>\n",
       "      <td>38.000</td>\n",
       "      <td>2051.849</td>\n",
       "      <td>181.231</td>\n",
       "      <td>5078570090.000</td>\n",
       "      <td>5078570090.000</td>\n",
       "      <td>Photogramm</td>\n",
       "    </tr>\n",
       "  </tbody>\n",
       "</table>\n",
       "</div>"
      ],
      "text/plain": [
       "             BIN                                           the_geom  \\\n",
       "1079239  3221967  MULTIPOLYGON (((-73.92083460429942 40.64439765...   \n",
       "801741   4113403  MULTIPOLYGON (((-73.8247828135812 40.762948467...   \n",
       "483008   4610542  MULTIPOLYGON (((-73.82449114078894 40.76279389...   \n",
       "964765   5130548  MULTIPOLYGON (((-74.06383185277687 40.61463876...   \n",
       "1083750  5087656  MULTIPOLYGON (((-74.25311647359251 40.50309522...   \n",
       "\n",
       "                                 NAME                    LSTMODDATE  \\\n",
       "1079239  Pieter Claesen Wyckoff House  01/28/2020 12:00:00 AM +0000   \n",
       "801741                    Bowne House  08/22/2017 12:00:00 AM +0000   \n",
       "483008                            NaN  08/17/2017 12:00:00 AM +0000   \n",
       "964765                            NaN  08/22/2017 12:00:00 AM +0000   \n",
       "1083750              Conference House  04/13/2020 12:00:00 AM +0000   \n",
       "\n",
       "         CNSTRCT_YR   LSTSTATYPE  DOITT_ID  HEIGHTROOF  FEAT_CODE  GROUNDELEV  \\\n",
       "1079239    1652.000  Constructed    550741      24.540   2100.000      14.000   \n",
       "801741     1661.000  Constructed    776399      26.120   2100.000      64.000   \n",
       "483008     1661.000  Constructed   1190137      14.847   5110.000      63.000   \n",
       "964765     1665.000  Constructed    160094      32.570   2100.000      38.000   \n",
       "1083750    1680.000  Constructed    702698      38.640   2100.000      38.000   \n",
       "\n",
       "         SHAPE_AREA  SHAPE_LEN       BASE_BBL     MPLUTO_BBL  GEOMSOURCE  \n",
       "1079239    2214.189    208.884 3079170009.000 3079170009.000  Photogramm  \n",
       "801741     2814.439    242.381 4050130006.000 4050130006.000  Photogramm  \n",
       "483008      571.058    112.945 4050130006.000 4050130006.000  Photogramm  \n",
       "964765     3580.968    308.578 5028300049.000 5028300049.000  Photogramm  \n",
       "1083750    2051.849    181.231 5078570090.000 5078570090.000  Photogramm  "
      ]
     },
     "execution_count": 122,
     "metadata": {},
     "output_type": "execute_result"
    }
   ],
   "source": [
    "# saving the median of our 'CNSTRCT_YR' as the name 'median'\n",
    "median = building_footprints_fillna['CNSTRCT_YR'].median()\n",
    "\n",
    "# filling na values in our'CNSTRCT_YR' column with the column's median value\n",
    "building_footprints_fillna[\"CNSTRCT_YR\"] = building_footprints_fillna[\"CNSTRCT_YR\"].fillna(value=median)\n",
    "building_footprints_fillna.head()"
   ]
  },
  {
   "cell_type": "code",
   "execution_count": 123,
   "metadata": {},
   "outputs": [
    {
     "data": {
      "text/plain": [
       "0"
      ]
     },
     "execution_count": 123,
     "metadata": {},
     "output_type": "execute_result"
    }
   ],
   "source": [
    "# summing null/na values in the 'CNSTRCT_YR' column\n",
    "building_footprints_fillna['CNSTRCT_YR'].isna().sum()"
   ]
  },
  {
   "cell_type": "code",
   "execution_count": 124,
   "metadata": {
    "scrolled": true
   },
   "outputs": [
    {
     "data": {
      "text/html": [
       "<div>\n",
       "<style scoped>\n",
       "    .dataframe tbody tr th:only-of-type {\n",
       "        vertical-align: middle;\n",
       "    }\n",
       "\n",
       "    .dataframe tbody tr th {\n",
       "        vertical-align: top;\n",
       "    }\n",
       "\n",
       "    .dataframe thead th {\n",
       "        text-align: right;\n",
       "    }\n",
       "</style>\n",
       "<table border=\"1\" class=\"dataframe\">\n",
       "  <thead>\n",
       "    <tr style=\"text-align: right;\">\n",
       "      <th></th>\n",
       "      <th>BIN</th>\n",
       "      <th>the_geom</th>\n",
       "      <th>NAME</th>\n",
       "      <th>LSTMODDATE</th>\n",
       "      <th>CNSTRCT_YR</th>\n",
       "      <th>LSTSTATYPE</th>\n",
       "      <th>DOITT_ID</th>\n",
       "      <th>HEIGHTROOF</th>\n",
       "      <th>FEAT_CODE</th>\n",
       "      <th>GROUNDELEV</th>\n",
       "      <th>SHAPE_AREA</th>\n",
       "      <th>SHAPE_LEN</th>\n",
       "      <th>BASE_BBL</th>\n",
       "      <th>MPLUTO_BBL</th>\n",
       "      <th>GEOMSOURCE</th>\n",
       "    </tr>\n",
       "  </thead>\n",
       "  <tbody>\n",
       "    <tr>\n",
       "      <th>1079239</th>\n",
       "      <td>3221967</td>\n",
       "      <td>MULTIPOLYGON (((-73.92083460429942 40.64439765...</td>\n",
       "      <td>Pieter Claesen Wyckoff House</td>\n",
       "      <td>01/28/2020 12:00:00 AM +0000</td>\n",
       "      <td>1652.000</td>\n",
       "      <td>Constructed</td>\n",
       "      <td>550741</td>\n",
       "      <td>24.540</td>\n",
       "      <td>2100.000</td>\n",
       "      <td>14.000</td>\n",
       "      <td>2214.189</td>\n",
       "      <td>208.884</td>\n",
       "      <td>3079170009.000</td>\n",
       "      <td>3079170009.000</td>\n",
       "      <td>Photogramm</td>\n",
       "    </tr>\n",
       "    <tr>\n",
       "      <th>801741</th>\n",
       "      <td>4113403</td>\n",
       "      <td>MULTIPOLYGON (((-73.8247828135812 40.762948467...</td>\n",
       "      <td>Bowne House</td>\n",
       "      <td>08/22/2017 12:00:00 AM +0000</td>\n",
       "      <td>1661.000</td>\n",
       "      <td>Constructed</td>\n",
       "      <td>776399</td>\n",
       "      <td>26.120</td>\n",
       "      <td>2100.000</td>\n",
       "      <td>64.000</td>\n",
       "      <td>2814.439</td>\n",
       "      <td>242.381</td>\n",
       "      <td>4050130006.000</td>\n",
       "      <td>4050130006.000</td>\n",
       "      <td>Photogramm</td>\n",
       "    </tr>\n",
       "    <tr>\n",
       "      <th>483008</th>\n",
       "      <td>4610542</td>\n",
       "      <td>MULTIPOLYGON (((-73.82449114078894 40.76279389...</td>\n",
       "      <td>NaN</td>\n",
       "      <td>08/17/2017 12:00:00 AM +0000</td>\n",
       "      <td>1661.000</td>\n",
       "      <td>Constructed</td>\n",
       "      <td>1190137</td>\n",
       "      <td>14.847</td>\n",
       "      <td>5110.000</td>\n",
       "      <td>63.000</td>\n",
       "      <td>571.058</td>\n",
       "      <td>112.945</td>\n",
       "      <td>4050130006.000</td>\n",
       "      <td>4050130006.000</td>\n",
       "      <td>Photogramm</td>\n",
       "    </tr>\n",
       "    <tr>\n",
       "      <th>964765</th>\n",
       "      <td>5130548</td>\n",
       "      <td>MULTIPOLYGON (((-74.06383185277687 40.61463876...</td>\n",
       "      <td>NaN</td>\n",
       "      <td>08/22/2017 12:00:00 AM +0000</td>\n",
       "      <td>1665.000</td>\n",
       "      <td>Constructed</td>\n",
       "      <td>160094</td>\n",
       "      <td>32.570</td>\n",
       "      <td>2100.000</td>\n",
       "      <td>38.000</td>\n",
       "      <td>3580.968</td>\n",
       "      <td>308.578</td>\n",
       "      <td>5028300049.000</td>\n",
       "      <td>5028300049.000</td>\n",
       "      <td>Photogramm</td>\n",
       "    </tr>\n",
       "    <tr>\n",
       "      <th>1083750</th>\n",
       "      <td>5087656</td>\n",
       "      <td>MULTIPOLYGON (((-74.25311647359251 40.50309522...</td>\n",
       "      <td>Conference House</td>\n",
       "      <td>04/13/2020 12:00:00 AM +0000</td>\n",
       "      <td>1680.000</td>\n",
       "      <td>Constructed</td>\n",
       "      <td>702698</td>\n",
       "      <td>38.640</td>\n",
       "      <td>2100.000</td>\n",
       "      <td>38.000</td>\n",
       "      <td>2051.849</td>\n",
       "      <td>181.231</td>\n",
       "      <td>5078570090.000</td>\n",
       "      <td>5078570090.000</td>\n",
       "      <td>Photogramm</td>\n",
       "    </tr>\n",
       "  </tbody>\n",
       "</table>\n",
       "</div>"
      ],
      "text/plain": [
       "             BIN                                           the_geom  \\\n",
       "1079239  3221967  MULTIPOLYGON (((-73.92083460429942 40.64439765...   \n",
       "801741   4113403  MULTIPOLYGON (((-73.8247828135812 40.762948467...   \n",
       "483008   4610542  MULTIPOLYGON (((-73.82449114078894 40.76279389...   \n",
       "964765   5130548  MULTIPOLYGON (((-74.06383185277687 40.61463876...   \n",
       "1083750  5087656  MULTIPOLYGON (((-74.25311647359251 40.50309522...   \n",
       "\n",
       "                                 NAME                    LSTMODDATE  \\\n",
       "1079239  Pieter Claesen Wyckoff House  01/28/2020 12:00:00 AM +0000   \n",
       "801741                    Bowne House  08/22/2017 12:00:00 AM +0000   \n",
       "483008                            NaN  08/17/2017 12:00:00 AM +0000   \n",
       "964765                            NaN  08/22/2017 12:00:00 AM +0000   \n",
       "1083750              Conference House  04/13/2020 12:00:00 AM +0000   \n",
       "\n",
       "         CNSTRCT_YR   LSTSTATYPE  DOITT_ID  HEIGHTROOF  FEAT_CODE  GROUNDELEV  \\\n",
       "1079239    1652.000  Constructed    550741      24.540   2100.000      14.000   \n",
       "801741     1661.000  Constructed    776399      26.120   2100.000      64.000   \n",
       "483008     1661.000  Constructed   1190137      14.847   5110.000      63.000   \n",
       "964765     1665.000  Constructed    160094      32.570   2100.000      38.000   \n",
       "1083750    1680.000  Constructed    702698      38.640   2100.000      38.000   \n",
       "\n",
       "         SHAPE_AREA  SHAPE_LEN       BASE_BBL     MPLUTO_BBL  GEOMSOURCE  \n",
       "1079239    2214.189    208.884 3079170009.000 3079170009.000  Photogramm  \n",
       "801741     2814.439    242.381 4050130006.000 4050130006.000  Photogramm  \n",
       "483008      571.058    112.945 4050130006.000 4050130006.000  Photogramm  \n",
       "964765     3580.968    308.578 5028300049.000 5028300049.000  Photogramm  \n",
       "1083750    2051.849    181.231 5078570090.000 5078570090.000  Photogramm  "
      ]
     },
     "execution_count": 124,
     "metadata": {},
     "output_type": "execute_result"
    }
   ],
   "source": [
    "# printing the first five rows of our data sorted by the 'CNSTRCT_YR' column in ascending order\n",
    "building_footprints_fillna.sort_values('CNSTRCT_YR').head()"
   ]
  },
  {
   "cell_type": "code",
   "execution_count": 125,
   "metadata": {},
   "outputs": [
    {
     "data": {
      "text/html": [
       "<div>\n",
       "<style scoped>\n",
       "    .dataframe tbody tr th:only-of-type {\n",
       "        vertical-align: middle;\n",
       "    }\n",
       "\n",
       "    .dataframe tbody tr th {\n",
       "        vertical-align: top;\n",
       "    }\n",
       "\n",
       "    .dataframe thead th {\n",
       "        text-align: right;\n",
       "    }\n",
       "</style>\n",
       "<table border=\"1\" class=\"dataframe\">\n",
       "  <thead>\n",
       "    <tr style=\"text-align: right;\">\n",
       "      <th></th>\n",
       "      <th>BIN</th>\n",
       "      <th>the_geom</th>\n",
       "      <th>NAME</th>\n",
       "      <th>LSTMODDATE</th>\n",
       "      <th>CNSTRCT_YR</th>\n",
       "      <th>LSTSTATYPE</th>\n",
       "      <th>DOITT_ID</th>\n",
       "      <th>HEIGHTROOF</th>\n",
       "      <th>FEAT_CODE</th>\n",
       "      <th>GROUNDELEV</th>\n",
       "      <th>SHAPE_AREA</th>\n",
       "      <th>SHAPE_LEN</th>\n",
       "      <th>BASE_BBL</th>\n",
       "      <th>MPLUTO_BBL</th>\n",
       "      <th>GEOMSOURCE</th>\n",
       "    </tr>\n",
       "  </thead>\n",
       "  <tbody>\n",
       "    <tr>\n",
       "      <th>1084152</th>\n",
       "      <td>4618394</td>\n",
       "      <td>MULTIPOLYGON (((-73.87648825646458 40.76737019...</td>\n",
       "      <td>NaN</td>\n",
       "      <td>07/21/2020 12:00:00 AM +0000</td>\n",
       "      <td>2020.000</td>\n",
       "      <td>Marked for Construction</td>\n",
       "      <td>1292752</td>\n",
       "      <td>22.700</td>\n",
       "      <td>2100.000</td>\n",
       "      <td>60.000</td>\n",
       "      <td>950.030</td>\n",
       "      <td>134.068</td>\n",
       "      <td>4010870018.000</td>\n",
       "      <td>4010870018.000</td>\n",
       "      <td>Other (Man</td>\n",
       "    </tr>\n",
       "    <tr>\n",
       "      <th>1083964</th>\n",
       "      <td>3426987</td>\n",
       "      <td>MULTIPOLYGON (((-73.90893687955305 40.67512084...</td>\n",
       "      <td>NaN</td>\n",
       "      <td>05/18/2020 12:00:00 AM +0000</td>\n",
       "      <td>2020.000</td>\n",
       "      <td>Marked for Construction</td>\n",
       "      <td>1292496</td>\n",
       "      <td>nan</td>\n",
       "      <td>1003.000</td>\n",
       "      <td>73.000</td>\n",
       "      <td>396.515</td>\n",
       "      <td>93.591</td>\n",
       "      <td>3014420037.000</td>\n",
       "      <td>3014420037.000</td>\n",
       "      <td>Other (Man</td>\n",
       "    </tr>\n",
       "    <tr>\n",
       "      <th>1084501</th>\n",
       "      <td>4622983</td>\n",
       "      <td>MULTIPOLYGON (((-73.94950533928937 40.74690102...</td>\n",
       "      <td>NaN</td>\n",
       "      <td>07/10/2020 12:00:00 AM +0000</td>\n",
       "      <td>2020.000</td>\n",
       "      <td>Constructed</td>\n",
       "      <td>1282927</td>\n",
       "      <td>54.000</td>\n",
       "      <td>2100.000</td>\n",
       "      <td>11.000</td>\n",
       "      <td>899.758</td>\n",
       "      <td>153.948</td>\n",
       "      <td>4000540145.000</td>\n",
       "      <td>4000540145.000</td>\n",
       "      <td>Other (Man</td>\n",
       "    </tr>\n",
       "    <tr>\n",
       "      <th>1083993</th>\n",
       "      <td>3427016</td>\n",
       "      <td>MULTIPOLYGON (((-73.95480786627773 40.70170232...</td>\n",
       "      <td>NaN</td>\n",
       "      <td>05/28/2020 12:00:00 AM +0000</td>\n",
       "      <td>2020.000</td>\n",
       "      <td>Constructed</td>\n",
       "      <td>1292533</td>\n",
       "      <td>35.000</td>\n",
       "      <td>2100.000</td>\n",
       "      <td>13.000</td>\n",
       "      <td>1477.514</td>\n",
       "      <td>174.160</td>\n",
       "      <td>3022320070.000</td>\n",
       "      <td>3022320070.000</td>\n",
       "      <td>Other (Man</td>\n",
       "    </tr>\n",
       "    <tr>\n",
       "      <th>1083990</th>\n",
       "      <td>3425415</td>\n",
       "      <td>MULTIPOLYGON (((-73.93670495856153 40.58502622...</td>\n",
       "      <td>NaN</td>\n",
       "      <td>05/27/2020 12:00:00 AM +0000</td>\n",
       "      <td>2020.000</td>\n",
       "      <td>Constructed</td>\n",
       "      <td>1292514</td>\n",
       "      <td>25.000</td>\n",
       "      <td>2100.000</td>\n",
       "      <td>5.000</td>\n",
       "      <td>671.969</td>\n",
       "      <td>111.018</td>\n",
       "      <td>3088000090.000</td>\n",
       "      <td>3088000090.000</td>\n",
       "      <td>Other (Man</td>\n",
       "    </tr>\n",
       "  </tbody>\n",
       "</table>\n",
       "</div>"
      ],
      "text/plain": [
       "             BIN                                           the_geom NAME  \\\n",
       "1084152  4618394  MULTIPOLYGON (((-73.87648825646458 40.76737019...  NaN   \n",
       "1083964  3426987  MULTIPOLYGON (((-73.90893687955305 40.67512084...  NaN   \n",
       "1084501  4622983  MULTIPOLYGON (((-73.94950533928937 40.74690102...  NaN   \n",
       "1083993  3427016  MULTIPOLYGON (((-73.95480786627773 40.70170232...  NaN   \n",
       "1083990  3425415  MULTIPOLYGON (((-73.93670495856153 40.58502622...  NaN   \n",
       "\n",
       "                           LSTMODDATE  CNSTRCT_YR               LSTSTATYPE  \\\n",
       "1084152  07/21/2020 12:00:00 AM +0000    2020.000  Marked for Construction   \n",
       "1083964  05/18/2020 12:00:00 AM +0000    2020.000  Marked for Construction   \n",
       "1084501  07/10/2020 12:00:00 AM +0000    2020.000              Constructed   \n",
       "1083993  05/28/2020 12:00:00 AM +0000    2020.000              Constructed   \n",
       "1083990  05/27/2020 12:00:00 AM +0000    2020.000              Constructed   \n",
       "\n",
       "         DOITT_ID  HEIGHTROOF  FEAT_CODE  GROUNDELEV  SHAPE_AREA  SHAPE_LEN  \\\n",
       "1084152   1292752      22.700   2100.000      60.000     950.030    134.068   \n",
       "1083964   1292496         nan   1003.000      73.000     396.515     93.591   \n",
       "1084501   1282927      54.000   2100.000      11.000     899.758    153.948   \n",
       "1083993   1292533      35.000   2100.000      13.000    1477.514    174.160   \n",
       "1083990   1292514      25.000   2100.000       5.000     671.969    111.018   \n",
       "\n",
       "              BASE_BBL     MPLUTO_BBL  GEOMSOURCE  \n",
       "1084152 4010870018.000 4010870018.000  Other (Man  \n",
       "1083964 3014420037.000 3014420037.000  Other (Man  \n",
       "1084501 4000540145.000 4000540145.000  Other (Man  \n",
       "1083993 3022320070.000 3022320070.000  Other (Man  \n",
       "1083990 3088000090.000 3088000090.000  Other (Man  "
      ]
     },
     "execution_count": 125,
     "metadata": {},
     "output_type": "execute_result"
    }
   ],
   "source": [
    "# printing the first five rows of our data sorted by the 'CNSTRCT_YR' column in ascending order\n",
    "building_footprints.sort_values('CNSTRCT_YR', ascending=False).head()"
   ]
  },
  {
   "cell_type": "code",
   "execution_count": 126,
   "metadata": {},
   "outputs": [
    {
     "data": {
      "text/plain": [
       "count   1084926.000\n",
       "mean       1938.993\n",
       "std          28.692\n",
       "min        1652.000\n",
       "25%        1920.000\n",
       "50%        1930.000\n",
       "75%        1955.000\n",
       "max        2020.000\n",
       "Name: CNSTRCT_YR, dtype: float64"
      ]
     },
     "execution_count": 126,
     "metadata": {},
     "output_type": "execute_result"
    }
   ],
   "source": [
    "# printing descriptive statistics of our 'CNSTRCT_YR' column\n",
    "building_footprints_fillna['CNSTRCT_YR'].describe()"
   ]
  },
  {
   "cell_type": "code",
   "execution_count": 127,
   "metadata": {},
   "outputs": [
    {
     "data": {
      "text/plain": [
       "1920.000    131437\n",
       "1930.000    124726\n",
       "1925.000    109687\n",
       "1950.000     63006\n",
       "1910.000     52935\n",
       "             ...  \n",
       "1803.000         1\n",
       "1789.000         1\n",
       "1792.000         1\n",
       "1793.000         1\n",
       "1652.000         1\n",
       "Name: CNSTRCT_YR, Length: 246, dtype: int64"
      ]
     },
     "execution_count": 127,
     "metadata": {},
     "output_type": "execute_result"
    }
   ],
   "source": [
    "# return counts of unique values in descending order of our'CNSTRCT_YR' column\n",
    "building_footprints_fillna['CNSTRCT_YR'].value_counts()"
   ]
  },
  {
   "cell_type": "code",
   "execution_count": 128,
   "metadata": {},
   "outputs": [
    {
     "data": {
      "text/plain": [
       "1652.000       1\n",
       "1661.000       2\n",
       "1665.000       1\n",
       "1680.000       1\n",
       "1690.000       1\n",
       "            ... \n",
       "2016.000    1743\n",
       "2017.000    1866\n",
       "2018.000    2049\n",
       "2019.000     800\n",
       "2020.000     447\n",
       "Name: CNSTRCT_YR, Length: 246, dtype: int64"
      ]
     },
     "execution_count": 128,
     "metadata": {},
     "output_type": "execute_result"
    }
   ],
   "source": [
    "# return counts of unique values of our 'CNSTRCT_YR' column sorted by 'CNSTRCT_YR'\n",
    "building_footprints_fillna['CNSTRCT_YR'].value_counts().sort_index()"
   ]
  },
  {
   "cell_type": "code",
   "execution_count": 129,
   "metadata": {},
   "outputs": [
    {
     "data": {
      "text/html": [
       "<div>\n",
       "<style scoped>\n",
       "    .dataframe tbody tr th:only-of-type {\n",
       "        vertical-align: middle;\n",
       "    }\n",
       "\n",
       "    .dataframe tbody tr th {\n",
       "        vertical-align: top;\n",
       "    }\n",
       "\n",
       "    .dataframe thead th {\n",
       "        text-align: right;\n",
       "    }\n",
       "</style>\n",
       "<table border=\"1\" class=\"dataframe\">\n",
       "  <thead>\n",
       "    <tr style=\"text-align: right;\">\n",
       "      <th></th>\n",
       "      <th>BIN</th>\n",
       "      <th>CNSTRCT_YR</th>\n",
       "      <th>DOITT_ID</th>\n",
       "      <th>HEIGHTROOF</th>\n",
       "      <th>FEAT_CODE</th>\n",
       "      <th>GROUNDELEV</th>\n",
       "      <th>SHAPE_AREA</th>\n",
       "      <th>SHAPE_LEN</th>\n",
       "      <th>BASE_BBL</th>\n",
       "      <th>MPLUTO_BBL</th>\n",
       "    </tr>\n",
       "  </thead>\n",
       "  <tbody>\n",
       "    <tr>\n",
       "      <th>count</th>\n",
       "      <td>1084926.000</td>\n",
       "      <td>1084926.000</td>\n",
       "      <td>1084926.000</td>\n",
       "      <td>1082261.000</td>\n",
       "      <td>1084917.000</td>\n",
       "      <td>1084399.000</td>\n",
       "      <td>1084926.000</td>\n",
       "      <td>1084926.000</td>\n",
       "      <td>1084924.000</td>\n",
       "      <td>1084379.000</td>\n",
       "    </tr>\n",
       "    <tr>\n",
       "      <th>mean</th>\n",
       "      <td>3710168.076</td>\n",
       "      <td>1938.993</td>\n",
       "      <td>590955.860</td>\n",
       "      <td>27.547</td>\n",
       "      <td>2698.573</td>\n",
       "      <td>55.098</td>\n",
       "      <td>1596.840</td>\n",
       "      <td>155.313</td>\n",
       "      <td>3561995498.636</td>\n",
       "      <td>3561833326.458</td>\n",
       "    </tr>\n",
       "    <tr>\n",
       "      <th>std</th>\n",
       "      <td>1026807.296</td>\n",
       "      <td>28.692</td>\n",
       "      <td>359288.840</td>\n",
       "      <td>21.318</td>\n",
       "      <td>1202.250</td>\n",
       "      <td>41.509</td>\n",
       "      <td>5601.503</td>\n",
       "      <td>127.149</td>\n",
       "      <td>986063765.765</td>\n",
       "      <td>986092644.664</td>\n",
       "    </tr>\n",
       "    <tr>\n",
       "      <th>min</th>\n",
       "      <td>1000002.000</td>\n",
       "      <td>1652.000</td>\n",
       "      <td>1.000</td>\n",
       "      <td>0.000</td>\n",
       "      <td>0.000</td>\n",
       "      <td>-14.000</td>\n",
       "      <td>32.475</td>\n",
       "      <td>23.737</td>\n",
       "      <td>3064269.000</td>\n",
       "      <td>3064269.000</td>\n",
       "    </tr>\n",
       "    <tr>\n",
       "      <th>25%</th>\n",
       "      <td>3128593.250</td>\n",
       "      <td>1920.000</td>\n",
       "      <td>286549.250</td>\n",
       "      <td>18.340</td>\n",
       "      <td>2100.000</td>\n",
       "      <td>25.000</td>\n",
       "      <td>652.088</td>\n",
       "      <td>109.693</td>\n",
       "      <td>3043180043.750</td>\n",
       "      <td>3043160071.500</td>\n",
       "    </tr>\n",
       "    <tr>\n",
       "      <th>50%</th>\n",
       "      <td>4066821.500</td>\n",
       "      <td>1930.000</td>\n",
       "      <td>573269.500</td>\n",
       "      <td>26.100</td>\n",
       "      <td>2100.000</td>\n",
       "      <td>46.000</td>\n",
       "      <td>957.230</td>\n",
       "      <td>137.920</td>\n",
       "      <td>4019280046.500</td>\n",
       "      <td>4019180075.000</td>\n",
       "    </tr>\n",
       "    <tr>\n",
       "      <th>75%</th>\n",
       "      <td>4481732.750</td>\n",
       "      <td>1955.000</td>\n",
       "      <td>861574.750</td>\n",
       "      <td>31.097</td>\n",
       "      <td>2100.000</td>\n",
       "      <td>74.000</td>\n",
       "      <td>1320.321</td>\n",
       "      <td>164.450</td>\n",
       "      <td>4106720008.000</td>\n",
       "      <td>4106690091.500</td>\n",
       "    </tr>\n",
       "    <tr>\n",
       "      <th>max</th>\n",
       "      <td>5799523.000</td>\n",
       "      <td>2020.000</td>\n",
       "      <td>1293191.000</td>\n",
       "      <td>1550.000</td>\n",
       "      <td>5110.000</td>\n",
       "      <td>556.000</td>\n",
       "      <td>1171874.446</td>\n",
       "      <td>20017.293</td>\n",
       "      <td>5999999999.000</td>\n",
       "      <td>5999999999.000</td>\n",
       "    </tr>\n",
       "  </tbody>\n",
       "</table>\n",
       "</div>"
      ],
      "text/plain": [
       "              BIN  CNSTRCT_YR    DOITT_ID  HEIGHTROOF   FEAT_CODE  GROUNDELEV  \\\n",
       "count 1084926.000 1084926.000 1084926.000 1082261.000 1084917.000 1084399.000   \n",
       "mean  3710168.076    1938.993  590955.860      27.547    2698.573      55.098   \n",
       "std   1026807.296      28.692  359288.840      21.318    1202.250      41.509   \n",
       "min   1000002.000    1652.000       1.000       0.000       0.000     -14.000   \n",
       "25%   3128593.250    1920.000  286549.250      18.340    2100.000      25.000   \n",
       "50%   4066821.500    1930.000  573269.500      26.100    2100.000      46.000   \n",
       "75%   4481732.750    1955.000  861574.750      31.097    2100.000      74.000   \n",
       "max   5799523.000    2020.000 1293191.000    1550.000    5110.000     556.000   \n",
       "\n",
       "       SHAPE_AREA   SHAPE_LEN       BASE_BBL     MPLUTO_BBL  \n",
       "count 1084926.000 1084926.000    1084924.000    1084379.000  \n",
       "mean     1596.840     155.313 3561995498.636 3561833326.458  \n",
       "std      5601.503     127.149  986063765.765  986092644.664  \n",
       "min        32.475      23.737    3064269.000    3064269.000  \n",
       "25%       652.088     109.693 3043180043.750 3043160071.500  \n",
       "50%       957.230     137.920 4019280046.500 4019180075.000  \n",
       "75%      1320.321     164.450 4106720008.000 4106690091.500  \n",
       "max   1171874.446   20017.293 5999999999.000 5999999999.000  "
      ]
     },
     "execution_count": 129,
     "metadata": {},
     "output_type": "execute_result"
    }
   ],
   "source": [
    "# printing descriptive statistics of our data \n",
    "building_footprints_fillna.describe()"
   ]
  },
  {
   "cell_type": "code",
   "execution_count": 130,
   "metadata": {},
   "outputs": [
    {
     "data": {
      "text/plain": [
       "Text(0.5, 1.0, 'Histogram of Construction Year Values')"
      ]
     },
     "execution_count": 130,
     "metadata": {},
     "output_type": "execute_result"
    },
    {
     "data": {
      "image/png": "[encoded data removed]",
      "text/plain": [
       "<Figure size 1080x720 with 1 Axes>"
      ]
     },
     "metadata": {
      "needs_background": "light"
     },
     "output_type": "display_data"
    }
   ],
   "source": [
    "# making a histogram of our 'CNSTRCT_YR' column with 10 bins\n",
    "building_footprints_fillna['CNSTRCT_YR'].hist(bins=10, figsize=(15,10))\n",
    "plt.xlabel('Construction Year', fontsize=15)\n",
    "plt.ylabel('Counts', fontsize=15)\n",
    "plt.title('Histogram of Construction Year Values', fontsize=15)"
   ]
  },
  {
   "cell_type": "code",
   "execution_count": 131,
   "metadata": {},
   "outputs": [
    {
     "data": {
      "text/plain": [
       "Text(0.5, 1.0, 'Histogram of Construction Year Values')"
      ]
     },
     "execution_count": 131,
     "metadata": {},
     "output_type": "execute_result"
    },
    {
     "data": {
      "image/png": "[encoded data removed]",
      "text/plain": [
       "<Figure size 1080x720 with 1 Axes>"
      ]
     },
     "metadata": {
      "needs_background": "light"
     },
     "output_type": "display_data"
    }
   ],
   "source": [
    "# making a histogram of our 'CNSTRCT_YR' column with 25 bins\n",
    "building_footprints_fillna['CNSTRCT_YR'].hist(bins=25, figsize=(15,10))\n",
    "plt.xlabel('Construction Year', fontsize=15)\n",
    "plt.ylabel('Counts', fontsize=15)\n",
    "plt.title('Histogram of Construction Year Values', fontsize=15)"
   ]
  },
  {
   "cell_type": "code",
   "execution_count": 132,
   "metadata": {},
   "outputs": [
    {
     "data": {
      "text/html": [
       "<div>\n",
       "<style scoped>\n",
       "    .dataframe tbody tr th:only-of-type {\n",
       "        vertical-align: middle;\n",
       "    }\n",
       "\n",
       "    .dataframe tbody tr th {\n",
       "        vertical-align: top;\n",
       "    }\n",
       "\n",
       "    .dataframe thead th {\n",
       "        text-align: right;\n",
       "    }\n",
       "</style>\n",
       "<table border=\"1\" class=\"dataframe\">\n",
       "  <thead>\n",
       "    <tr style=\"text-align: right;\">\n",
       "      <th></th>\n",
       "      <th>CNSTRCT_YR</th>\n",
       "      <th>count</th>\n",
       "    </tr>\n",
       "  </thead>\n",
       "  <tbody>\n",
       "    <tr>\n",
       "      <th>1652</th>\n",
       "      <td>1652.000</td>\n",
       "      <td>1</td>\n",
       "    </tr>\n",
       "    <tr>\n",
       "      <th>1661</th>\n",
       "      <td>1661.000</td>\n",
       "      <td>2</td>\n",
       "    </tr>\n",
       "    <tr>\n",
       "      <th>1665</th>\n",
       "      <td>1665.000</td>\n",
       "      <td>1</td>\n",
       "    </tr>\n",
       "    <tr>\n",
       "      <th>1680</th>\n",
       "      <td>1680.000</td>\n",
       "      <td>1</td>\n",
       "    </tr>\n",
       "    <tr>\n",
       "      <th>1690</th>\n",
       "      <td>1690.000</td>\n",
       "      <td>1</td>\n",
       "    </tr>\n",
       "  </tbody>\n",
       "</table>\n",
       "</div>"
      ],
      "text/plain": [
       "      CNSTRCT_YR  count\n",
       "1652    1652.000      1\n",
       "1661    1661.000      2\n",
       "1665    1665.000      1\n",
       "1680    1680.000      1\n",
       "1690    1690.000      1"
      ]
     },
     "execution_count": 132,
     "metadata": {},
     "output_type": "execute_result"
    }
   ],
   "source": [
    "g = building_footprints_fillna.groupby('CNSTRCT_YR')['DOITT_ID'].count().reset_index()\n",
    "g.rename({'DOITT_ID': 'count'}, axis=1, inplace=True)\n",
    "g.set_index('CNSTRCT_YR', drop=False, inplace=True)\n",
    "g.index = g.index.astype('int64')\n",
    "\n",
    "g.head()"
   ]
  },
  {
   "cell_type": "code",
   "execution_count": 133,
   "metadata": {},
   "outputs": [
    {
     "data": {
      "image/png": "[encoded data removed]",
      "text/plain": [
       "<Figure size 1080x720 with 1 Axes>"
      ]
     },
     "metadata": {
      "needs_background": "light"
     },
     "output_type": "display_data"
    }
   ],
   "source": [
    "fig, ax = plt.subplots(figsize=(15,10))\n",
    "\n",
    "# plotting bar chart of number of claims by year\n",
    "ax.plot(g['count'], linewidth=4)\n",
    "\n",
    "# formatting Y axis with comma\n",
    "ax.get_yaxis().set_major_formatter(\n",
    "    matplotlib.ticker.FuncFormatter(lambda x, p: format(int(x), ',')))\n",
    "\n",
    "plt.xlabel('Construction Year', fontsize=15)\n",
    "plt.ylabel('Number of Newly Constructed Buildings', fontsize=15)\n",
    "plt.title('Number of Newly Constructed Buildings by Construction Year of Buildings Built in NYC',\n",
    "         fontsize=17)\n",
    "plt.tight_layout()\n",
    "#plt.savefig('figures/line-plot-2')"
   ]
  },
  {
   "cell_type": "code",
   "execution_count": 139,
   "metadata": {},
   "outputs": [
    {
     "data": {
      "image/png": "[encoded data removed]",
      "text/plain": [
       "<Figure size 1080x720 with 1 Axes>"
      ]
     },
     "metadata": {
      "needs_background": "light"
     },
     "output_type": "display_data"
    }
   ],
   "source": [
    "fig, ax = plt.subplots(figsize=(15,10))\n",
    "\n",
    "# plotting bar chart of number of claims by year\n",
    "ax.plot(g[g['CNSTRCT_YR'] > 1900]['count'], linewidth=4)\n",
    "\n",
    "# formatting Y axis with comma\n",
    "ax.get_yaxis().set_major_formatter(\n",
    "    matplotlib.ticker.FuncFormatter(lambda x, p: format(int(x), ',')))\n",
    "\n",
    "plt.xlabel('Construction Year', fontsize=15)\n",
    "plt.ylabel('Number of Newly Constructed Buildings', fontsize=15)\n",
    "plt.title('Number of Newly Constructed Buildings by Construction Year of Buildings Built in NYC',\n",
    "         fontsize=17)\n",
    "plt.tight_layout()\n",
    "#plt.savefig('figures/line-plot-2')"
   ]
  },
  {
   "cell_type": "code",
   "execution_count": 140,
   "metadata": {},
   "outputs": [
    {
     "data": {
      "text/html": [
       "<div>\n",
       "<style scoped>\n",
       "    .dataframe tbody tr th:only-of-type {\n",
       "        vertical-align: middle;\n",
       "    }\n",
       "\n",
       "    .dataframe tbody tr th {\n",
       "        vertical-align: top;\n",
       "    }\n",
       "\n",
       "    .dataframe thead th {\n",
       "        text-align: right;\n",
       "    }\n",
       "</style>\n",
       "<table border=\"1\" class=\"dataframe\">\n",
       "  <thead>\n",
       "    <tr style=\"text-align: right;\">\n",
       "      <th></th>\n",
       "      <th>CNSTRCT_YR</th>\n",
       "      <th>count</th>\n",
       "      <th>cumsum</th>\n",
       "    </tr>\n",
       "  </thead>\n",
       "  <tbody>\n",
       "    <tr>\n",
       "      <th>1652</th>\n",
       "      <td>1652.000</td>\n",
       "      <td>1</td>\n",
       "      <td>1</td>\n",
       "    </tr>\n",
       "    <tr>\n",
       "      <th>1661</th>\n",
       "      <td>1661.000</td>\n",
       "      <td>2</td>\n",
       "      <td>3</td>\n",
       "    </tr>\n",
       "    <tr>\n",
       "      <th>1665</th>\n",
       "      <td>1665.000</td>\n",
       "      <td>1</td>\n",
       "      <td>4</td>\n",
       "    </tr>\n",
       "    <tr>\n",
       "      <th>1680</th>\n",
       "      <td>1680.000</td>\n",
       "      <td>1</td>\n",
       "      <td>5</td>\n",
       "    </tr>\n",
       "    <tr>\n",
       "      <th>1690</th>\n",
       "      <td>1690.000</td>\n",
       "      <td>1</td>\n",
       "      <td>6</td>\n",
       "    </tr>\n",
       "  </tbody>\n",
       "</table>\n",
       "</div>"
      ],
      "text/plain": [
       "      CNSTRCT_YR  count  cumsum\n",
       "1652    1652.000      1       1\n",
       "1661    1661.000      2       3\n",
       "1665    1665.000      1       4\n",
       "1680    1680.000      1       5\n",
       "1690    1690.000      1       6"
      ]
     },
     "execution_count": 140,
     "metadata": {},
     "output_type": "execute_result"
    }
   ],
   "source": [
    "g.head()"
   ]
  },
  {
   "cell_type": "code",
   "execution_count": 141,
   "metadata": {},
   "outputs": [],
   "source": [
    "g['cumsum'] = g['count'].cumsum()"
   ]
  },
  {
   "cell_type": "code",
   "execution_count": 142,
   "metadata": {},
   "outputs": [
    {
     "data": {
      "text/html": [
       "<div>\n",
       "<style scoped>\n",
       "    .dataframe tbody tr th:only-of-type {\n",
       "        vertical-align: middle;\n",
       "    }\n",
       "\n",
       "    .dataframe tbody tr th {\n",
       "        vertical-align: top;\n",
       "    }\n",
       "\n",
       "    .dataframe thead th {\n",
       "        text-align: right;\n",
       "    }\n",
       "</style>\n",
       "<table border=\"1\" class=\"dataframe\">\n",
       "  <thead>\n",
       "    <tr style=\"text-align: right;\">\n",
       "      <th></th>\n",
       "      <th>CNSTRCT_YR</th>\n",
       "      <th>count</th>\n",
       "      <th>cumsum</th>\n",
       "    </tr>\n",
       "  </thead>\n",
       "  <tbody>\n",
       "    <tr>\n",
       "      <th>1652</th>\n",
       "      <td>1652.000</td>\n",
       "      <td>1</td>\n",
       "      <td>1</td>\n",
       "    </tr>\n",
       "    <tr>\n",
       "      <th>1661</th>\n",
       "      <td>1661.000</td>\n",
       "      <td>2</td>\n",
       "      <td>3</td>\n",
       "    </tr>\n",
       "    <tr>\n",
       "      <th>1665</th>\n",
       "      <td>1665.000</td>\n",
       "      <td>1</td>\n",
       "      <td>4</td>\n",
       "    </tr>\n",
       "    <tr>\n",
       "      <th>1680</th>\n",
       "      <td>1680.000</td>\n",
       "      <td>1</td>\n",
       "      <td>5</td>\n",
       "    </tr>\n",
       "    <tr>\n",
       "      <th>1690</th>\n",
       "      <td>1690.000</td>\n",
       "      <td>1</td>\n",
       "      <td>6</td>\n",
       "    </tr>\n",
       "  </tbody>\n",
       "</table>\n",
       "</div>"
      ],
      "text/plain": [
       "      CNSTRCT_YR  count  cumsum\n",
       "1652    1652.000      1       1\n",
       "1661    1661.000      2       3\n",
       "1665    1665.000      1       4\n",
       "1680    1680.000      1       5\n",
       "1690    1690.000      1       6"
      ]
     },
     "execution_count": 142,
     "metadata": {},
     "output_type": "execute_result"
    }
   ],
   "source": [
    "g.head()"
   ]
  },
  {
   "cell_type": "code",
   "execution_count": 143,
   "metadata": {},
   "outputs": [
    {
     "data": {
      "image/png": "[encoded data removed]",
      "text/plain": [
       "<Figure size 1080x720 with 1 Axes>"
      ]
     },
     "metadata": {
      "needs_background": "light"
     },
     "output_type": "display_data"
    }
   ],
   "source": [
    "fig, ax = plt.subplots(figsize=(15,10))\n",
    "\n",
    "# plotting bar chart of number of claims by year\n",
    "ax.plot(g['cumsum'], linewidth=4)\n",
    "\n",
    "# formatting Y axis with comma\n",
    "ax.get_yaxis().set_major_formatter(\n",
    "    matplotlib.ticker.FuncFormatter(lambda x, p: format(int(x), ',')))\n",
    "\n",
    "plt.xlabel('Construction Year', fontsize=15)\n",
    "plt.ylabel('Number of Newly Constructed Buildings', fontsize=15)\n",
    "plt.title('Number of Newly Constructed Buildings by Construction Year of Buildings Built in NYC',\n",
    "         fontsize=17)\n",
    "plt.tight_layout()\n",
    "#plt.savefig('figures/line-plot-2')"
   ]
  },
  {
   "cell_type": "code",
   "execution_count": 144,
   "metadata": {},
   "outputs": [
    {
     "data": {
      "image/png": "[encoded data removed]",
      "text/plain": [
       "<Figure size 1080x720 with 1 Axes>"
      ]
     },
     "metadata": {
      "needs_background": "light"
     },
     "output_type": "display_data"
    }
   ],
   "source": [
    "fig, ax = plt.subplots(figsize=(15,10))\n",
    "\n",
    "# plotting bar chart of number of claims by year\n",
    "ax.plot(g[g['CNSTRCT_YR'] > 1900]['cumsum'], linewidth=4)\n",
    "\n",
    "# formatting Y axis with comma\n",
    "ax.get_yaxis().set_major_formatter(\n",
    "    matplotlib.ticker.FuncFormatter(lambda x, p: format(int(x), ',')))\n",
    "\n",
    "plt.xlabel('Construction Year', fontsize=15)\n",
    "plt.ylabel('Number of Newly Constructed Buildings', fontsize=15)\n",
    "plt.title('Number of Newly Constructed Buildings by Construction Year of Buildings Built in NYC',\n",
    "         fontsize=17)\n",
    "plt.tight_layout()\n",
    "#plt.savefig('figures/line-plot-2')"
   ]
  },
  {
   "cell_type": "markdown",
   "metadata": {},
   "source": [
    "## 5.1 Making a Box Plot"
   ]
  },
  {
   "cell_type": "code",
   "execution_count": 145,
   "metadata": {},
   "outputs": [],
   "source": [
    "# setting the link of our data (a static csv file) as the name 'url'\n",
    "url = 'https://data.cityofnewyork.us/api/views/s75a-ei9u/rows.csv?accessType=DOWNLOAD'\n",
    "\n",
    "# reading in our data as a pandas dataframe and setting the name to'building_footprints'\n",
    "building_footprints = pd.read_csv(url)"
   ]
  },
  {
   "cell_type": "code",
   "execution_count": 146,
   "metadata": {},
   "outputs": [
    {
     "data": {
      "text/html": [
       "<div>\n",
       "<style scoped>\n",
       "    .dataframe tbody tr th:only-of-type {\n",
       "        vertical-align: middle;\n",
       "    }\n",
       "\n",
       "    .dataframe tbody tr th {\n",
       "        vertical-align: top;\n",
       "    }\n",
       "\n",
       "    .dataframe thead th {\n",
       "        text-align: right;\n",
       "    }\n",
       "</style>\n",
       "<table border=\"1\" class=\"dataframe\">\n",
       "  <thead>\n",
       "    <tr style=\"text-align: right;\">\n",
       "      <th></th>\n",
       "      <th>BIN</th>\n",
       "      <th>the_geom</th>\n",
       "      <th>NAME</th>\n",
       "      <th>LSTMODDATE</th>\n",
       "      <th>CNSTRCT_YR</th>\n",
       "      <th>LSTSTATYPE</th>\n",
       "      <th>DOITT_ID</th>\n",
       "      <th>HEIGHTROOF</th>\n",
       "      <th>FEAT_CODE</th>\n",
       "      <th>GROUNDELEV</th>\n",
       "      <th>SHAPE_AREA</th>\n",
       "      <th>SHAPE_LEN</th>\n",
       "      <th>BASE_BBL</th>\n",
       "      <th>MPLUTO_BBL</th>\n",
       "      <th>GEOMSOURCE</th>\n",
       "    </tr>\n",
       "  </thead>\n",
       "  <tbody>\n",
       "    <tr>\n",
       "      <th>0</th>\n",
       "      <td>3394646</td>\n",
       "      <td>MULTIPOLYGON (((-73.87129515296562 40.65717370...</td>\n",
       "      <td>NaN</td>\n",
       "      <td>08/22/2017 12:00:00 AM +0000</td>\n",
       "      <td>2009.000</td>\n",
       "      <td>Constructed</td>\n",
       "      <td>1212853</td>\n",
       "      <td>21.609</td>\n",
       "      <td>2100.000</td>\n",
       "      <td>18.000</td>\n",
       "      <td>854.662</td>\n",
       "      <td>125.080</td>\n",
       "      <td>3044520815.000</td>\n",
       "      <td>3044520815.000</td>\n",
       "      <td>Photogramm</td>\n",
       "    </tr>\n",
       "    <tr>\n",
       "      <th>1</th>\n",
       "      <td>4548330</td>\n",
       "      <td>MULTIPOLYGON (((-73.87670970144625 40.71425234...</td>\n",
       "      <td>NaN</td>\n",
       "      <td>08/17/2017 12:00:00 AM +0000</td>\n",
       "      <td>1930.000</td>\n",
       "      <td>Constructed</td>\n",
       "      <td>1226227</td>\n",
       "      <td>10.360</td>\n",
       "      <td>5110.000</td>\n",
       "      <td>122.000</td>\n",
       "      <td>217.594</td>\n",
       "      <td>60.226</td>\n",
       "      <td>4030640041.000</td>\n",
       "      <td>4030640041.000</td>\n",
       "      <td>Photogramm</td>\n",
       "    </tr>\n",
       "    <tr>\n",
       "      <th>2</th>\n",
       "      <td>4460479</td>\n",
       "      <td>MULTIPOLYGON (((-73.85195485799383 40.66235471...</td>\n",
       "      <td>NaN</td>\n",
       "      <td>08/22/2017 12:00:00 AM +0000</td>\n",
       "      <td>1960.000</td>\n",
       "      <td>Constructed</td>\n",
       "      <td>581946</td>\n",
       "      <td>29.812</td>\n",
       "      <td>2100.000</td>\n",
       "      <td>10.000</td>\n",
       "      <td>946.427</td>\n",
       "      <td>123.142</td>\n",
       "      <td>4139430001.000</td>\n",
       "      <td>4139430001.000</td>\n",
       "      <td>Photogramm</td>\n",
       "    </tr>\n",
       "    <tr>\n",
       "      <th>3</th>\n",
       "      <td>3355684</td>\n",
       "      <td>MULTIPOLYGON (((-73.94029215265738 40.64108287...</td>\n",
       "      <td>NaN</td>\n",
       "      <td>08/17/2017 12:00:00 AM +0000</td>\n",
       "      <td>1920.000</td>\n",
       "      <td>Constructed</td>\n",
       "      <td>858061</td>\n",
       "      <td>11.200</td>\n",
       "      <td>5110.000</td>\n",
       "      <td>32.000</td>\n",
       "      <td>248.678</td>\n",
       "      <td>63.941</td>\n",
       "      <td>3049720006.000</td>\n",
       "      <td>3049720006.000</td>\n",
       "      <td>Photogramm</td>\n",
       "    </tr>\n",
       "    <tr>\n",
       "      <th>4</th>\n",
       "      <td>3131737</td>\n",
       "      <td>MULTIPOLYGON (((-73.98998983552244 40.62383804...</td>\n",
       "      <td>NaN</td>\n",
       "      <td>08/22/2017 12:00:00 AM +0000</td>\n",
       "      <td>1915.000</td>\n",
       "      <td>Constructed</td>\n",
       "      <td>568078</td>\n",
       "      <td>24.980</td>\n",
       "      <td>2100.000</td>\n",
       "      <td>44.000</td>\n",
       "      <td>1163.228</td>\n",
       "      <td>165.609</td>\n",
       "      <td>3055100055.000</td>\n",
       "      <td>3055100055.000</td>\n",
       "      <td>Photogramm</td>\n",
       "    </tr>\n",
       "  </tbody>\n",
       "</table>\n",
       "</div>"
      ],
      "text/plain": [
       "       BIN                                           the_geom NAME  \\\n",
       "0  3394646  MULTIPOLYGON (((-73.87129515296562 40.65717370...  NaN   \n",
       "1  4548330  MULTIPOLYGON (((-73.87670970144625 40.71425234...  NaN   \n",
       "2  4460479  MULTIPOLYGON (((-73.85195485799383 40.66235471...  NaN   \n",
       "3  3355684  MULTIPOLYGON (((-73.94029215265738 40.64108287...  NaN   \n",
       "4  3131737  MULTIPOLYGON (((-73.98998983552244 40.62383804...  NaN   \n",
       "\n",
       "                     LSTMODDATE  CNSTRCT_YR   LSTSTATYPE  DOITT_ID  \\\n",
       "0  08/22/2017 12:00:00 AM +0000    2009.000  Constructed   1212853   \n",
       "1  08/17/2017 12:00:00 AM +0000    1930.000  Constructed   1226227   \n",
       "2  08/22/2017 12:00:00 AM +0000    1960.000  Constructed    581946   \n",
       "3  08/17/2017 12:00:00 AM +0000    1920.000  Constructed    858061   \n",
       "4  08/22/2017 12:00:00 AM +0000    1915.000  Constructed    568078   \n",
       "\n",
       "   HEIGHTROOF  FEAT_CODE  GROUNDELEV  SHAPE_AREA  SHAPE_LEN       BASE_BBL  \\\n",
       "0      21.609   2100.000      18.000     854.662    125.080 3044520815.000   \n",
       "1      10.360   5110.000     122.000     217.594     60.226 4030640041.000   \n",
       "2      29.812   2100.000      10.000     946.427    123.142 4139430001.000   \n",
       "3      11.200   5110.000      32.000     248.678     63.941 3049720006.000   \n",
       "4      24.980   2100.000      44.000    1163.228    165.609 3055100055.000   \n",
       "\n",
       "      MPLUTO_BBL  GEOMSOURCE  \n",
       "0 3044520815.000  Photogramm  \n",
       "1 4030640041.000  Photogramm  \n",
       "2 4139430001.000  Photogramm  \n",
       "3 3049720006.000  Photogramm  \n",
       "4 3055100055.000  Photogramm  "
      ]
     },
     "execution_count": 146,
     "metadata": {},
     "output_type": "execute_result"
    }
   ],
   "source": [
    "# previewing the first five rows of our dataframe\n",
    "building_footprints.head()"
   ]
  },
  {
   "cell_type": "code",
   "execution_count": 147,
   "metadata": {},
   "outputs": [
    {
     "data": {
      "text/plain": [
       "(1084926, 15)"
      ]
     },
     "execution_count": 147,
     "metadata": {},
     "output_type": "execute_result"
    }
   ],
   "source": [
    "building_footprints.shape"
   ]
  },
  {
   "cell_type": "code",
   "execution_count": 148,
   "metadata": {},
   "outputs": [
    {
     "data": {
      "text/plain": [
       "0         2009.000\n",
       "1         1930.000\n",
       "2         1960.000\n",
       "3         1920.000\n",
       "4         1915.000\n",
       "            ...   \n",
       "1084921        nan\n",
       "1084922        nan\n",
       "1084923        nan\n",
       "1084924   2018.000\n",
       "1084925   2019.000\n",
       "Name: CNSTRCT_YR, Length: 1084926, dtype: float64"
      ]
     },
     "execution_count": 148,
     "metadata": {},
     "output_type": "execute_result"
    }
   ],
   "source": [
    "# converting all the values in our 'CNSTRCT_YR' column as integers\n",
    "# invalid conversions will be set as NaN with errors='coerce'\n",
    "pd.to_numeric(building_footprints['CNSTRCT_YR'], downcast='integer', errors='coerce')"
   ]
  },
  {
   "cell_type": "code",
   "execution_count": 149,
   "metadata": {},
   "outputs": [
    {
     "data": {
      "text/plain": [
       "Text(0.5, 1.0, 'Histogram of Construction Year Values')"
      ]
     },
     "execution_count": 149,
     "metadata": {},
     "output_type": "execute_result"
    },
    {
     "data": {
      "image/png": "[encoded data removed]",
      "text/plain": [
       "<Figure size 1080x720 with 1 Axes>"
      ]
     },
     "metadata": {
      "needs_background": "light"
     },
     "output_type": "display_data"
    }
   ],
   "source": [
    "# making a histogram of our 'CNSTRCT_YR' column with 10 bins\n",
    "building_footprints['CNSTRCT_YR'].hist(figsize=(15,10))\n",
    "plt.xlabel('Construction Year', fontsize=15)\n",
    "plt.ylabel('Counts', fontsize=15)\n",
    "plt.title('Histogram of Construction Year Values', fontsize=15)"
   ]
  },
  {
   "cell_type": "code",
   "execution_count": 150,
   "metadata": {},
   "outputs": [
    {
     "data": {
      "text/plain": [
       "Text(0.5, 1.0, 'Histogram of Construction Year Values')"
      ]
     },
     "execution_count": 150,
     "metadata": {},
     "output_type": "execute_result"
    },
    {
     "data": {
      "image/png": "[encoded data removed]",
      "text/plain": [
       "<Figure size 1080x720 with 1 Axes>"
      ]
     },
     "metadata": {
      "needs_background": "light"
     },
     "output_type": "display_data"
    }
   ],
   "source": [
    "# making a histogram of our 'CNSTRCT_YR' column with 10 bins\n",
    "building_footprints['CNSTRCT_YR'].hist(figsize=(15,10), bins=50)\n",
    "plt.xlabel('Construction Year', fontsize=15)\n",
    "plt.ylabel('Counts', fontsize=15)\n",
    "plt.title('Histogram of Construction Year Values', fontsize=15)"
   ]
  },
  {
   "cell_type": "markdown",
   "metadata": {},
   "source": [
    "### 5.1.1 Calculating Interquartile Range (IQR)"
   ]
  },
  {
   "cell_type": "code",
   "execution_count": 151,
   "metadata": {},
   "outputs": [
    {
     "name": "stdout",
     "output_type": "stream",
     "text": [
      "1920.0\n",
      "1955.0\n"
     ]
    }
   ],
   "source": [
    "# printing the 25% and 75% quantiles of our 'CNSTRCT_YR' column\n",
    "print(building_footprints['CNSTRCT_YR'].quantile(0.25))\n",
    "print(building_footprints['CNSTRCT_YR'].quantile(0.75))"
   ]
  },
  {
   "cell_type": "code",
   "execution_count": 152,
   "metadata": {},
   "outputs": [],
   "source": [
    "# saving the 25% (i.e. Q1) and 75% (i.e. Q3) quantiles of our 'CNSTRCT_YR' column\n",
    "Q1 = building_footprints['CNSTRCT_YR'].quantile(0.25)\n",
    "Q3 = building_footprints['CNSTRCT_YR'].quantile(0.75)\n",
    "\n",
    "# Computing the interquartile range (IQR)\n",
    "IQR = Q3 - Q1"
   ]
  },
  {
   "cell_type": "code",
   "execution_count": 153,
   "metadata": {},
   "outputs": [
    {
     "data": {
      "text/plain": [
       "35.0"
      ]
     },
     "execution_count": 153,
     "metadata": {},
     "output_type": "execute_result"
    }
   ],
   "source": [
    "# printing the IQR of our 'CNSTRCT_YR' column\n",
    "IQR"
   ]
  },
  {
   "cell_type": "code",
   "execution_count": 154,
   "metadata": {},
   "outputs": [
    {
     "name": "stdout",
     "output_type": "stream",
     "text": [
      "1867.5\n",
      "2007.5\n"
     ]
    }
   ],
   "source": [
    "# printing the lower 1.5*IQR whisker = Q1 - 1.5 * IQR\n",
    "print((Q1 - 1.5 * IQR))\n",
    "\n",
    "# printing the upper 1.5*IQR whisker = Q1 - 1.5 * IQR\n",
    "print((Q3 + 1.5 * IQR))"
   ]
  },
  {
   "cell_type": "markdown",
   "metadata": {},
   "source": [
    "### 5.1.2 Box Plot of Construction Year Values"
   ]
  },
  {
   "cell_type": "code",
   "execution_count": 155,
   "metadata": {
    "scrolled": false
   },
   "outputs": [
    {
     "data": {
      "text/plain": [
       "Text(0.5, 1.0, 'Box Plot of Construction Year Value')"
      ]
     },
     "execution_count": 155,
     "metadata": {},
     "output_type": "execute_result"
    },
    {
     "data": {
      "image/png": "[encoded data removed]",
      "text/plain": [
       "<Figure size 1080x720 with 1 Axes>"
      ]
     },
     "metadata": {
      "needs_background": "light"
     },
     "output_type": "display_data"
    }
   ],
   "source": [
    "# making a box plot from our 'CNSTRCT_YR' column\n",
    "CNSTRCT_YR_boxplot = building_footprints.boxplot(column=['CNSTRCT_YR'], figsize=(15,10))\n",
    "plt.title('Box Plot of Construction Year Value', fontsize=15)"
   ]
  },
  {
   "cell_type": "markdown",
   "metadata": {},
   "source": [
    "### 5.1.3 Making Histograms of Values Above and Below Box Plot Whiskers"
   ]
  },
  {
   "cell_type": "code",
   "execution_count": 156,
   "metadata": {},
   "outputs": [
    {
     "data": {
      "image/png": "[encoded data removed]",
      "text/plain": [
       "<Figure size 1080x360 with 2 Axes>"
      ]
     },
     "metadata": {
      "needs_background": "light"
     },
     "output_type": "display_data"
    }
   ],
   "source": [
    "plt.figure(figsize=(15,5))\n",
    "\n",
    "# identifying values lower than our lower whisker\n",
    "floor = building_footprints[building_footprints.CNSTRCT_YR < (Q1 - 1.5 * IQR)] \n",
    "\n",
    "# identifying values higher than our upper whisker\n",
    "ceiling = building_footprints[building_footprints.CNSTRCT_YR > (Q3 + 1.5 * IQR)]\n",
    "\n",
    "#making histograms of these distributions\n",
    "plt.subplot(121)\n",
    "floor['CNSTRCT_YR'].hist()\n",
    "plt.xlabel('Construction Year')\n",
    "plt.ylabel('Counts')\n",
    "plt.title('Histogram of Construction Year Values Below Lower Whisker')\n",
    "\n",
    "plt.subplot(122)\n",
    "ceiling['CNSTRCT_YR'].hist()\n",
    "plt.xlabel('Construction Year')\n",
    "plt.ylabel('Counts')\n",
    "plt.title('Histogram of Construction Year Values Above Upper Whisker')\n",
    "\n",
    "plt.tight_layout()"
   ]
  },
  {
   "cell_type": "code",
   "execution_count": 157,
   "metadata": {},
   "outputs": [
    {
     "data": {
      "text/plain": [
       "0.000       6141\n",
       "1855.000     271\n",
       "1850.000     260\n",
       "1853.000     248\n",
       "1854.000     241\n",
       "            ... \n",
       "1735.000       1\n",
       "1720.000       1\n",
       "1797.000       1\n",
       "1811.000       1\n",
       "1665.000       1\n",
       "Name: CNSTRCT_YR, Length: 95, dtype: int64"
      ]
     },
     "execution_count": 157,
     "metadata": {},
     "output_type": "execute_result"
    }
   ],
   "source": [
    "# return counts of unique values in descending order lower than our lower whisker\n",
    "floor['CNSTRCT_YR'].value_counts()"
   ]
  },
  {
   "cell_type": "code",
   "execution_count": 158,
   "metadata": {},
   "outputs": [
    {
     "data": {
      "text/plain": [
       "0.000       6141\n",
       "202.000        1\n",
       "1652.000       1\n",
       "1661.000       2\n",
       "1665.000       1\n",
       "            ... \n",
       "1863.000      67\n",
       "1864.000     108\n",
       "1865.000     141\n",
       "1866.000     152\n",
       "1867.000     174\n",
       "Name: CNSTRCT_YR, Length: 95, dtype: int64"
      ]
     },
     "execution_count": 158,
     "metadata": {},
     "output_type": "execute_result"
    }
   ],
   "source": [
    "# return counts of unique values lower than our lower whisker sorted by index (i.e. 'CNSTRCT_YR')\n",
    "floor['CNSTRCT_YR'].value_counts().sort_index()"
   ]
  },
  {
   "cell_type": "code",
   "execution_count": 159,
   "metadata": {},
   "outputs": [
    {
     "data": {
      "text/plain": [
       "array([   0.,  202., 1652., 1661., 1665., 1680., 1690., 1694., 1706.,\n",
       "       1719., 1720., 1722., 1725., 1729., 1735., 1747., 1750., 1758.,\n",
       "       1765., 1766., 1775., 1779., 1785., 1789., 1792., 1793., 1795.,\n",
       "       1797., 1799., 1800., 1801., 1802., 1803., 1804., 1807., 1808.,\n",
       "       1809., 1810., 1811., 1812., 1813., 1814., 1815., 1816., 1817.,\n",
       "       1818., 1819., 1820., 1821., 1822., 1823., 1824., 1825., 1826.,\n",
       "       1827., 1828., 1829., 1830., 1831., 1832., 1833., 1834., 1835.,\n",
       "       1836., 1837., 1838., 1839., 1840., 1841., 1842., 1843., 1844.,\n",
       "       1845., 1846., 1847., 1848., 1849., 1850., 1851., 1852., 1853.,\n",
       "       1854., 1855., 1856., 1857., 1858., 1859., 1860., 1861., 1862.,\n",
       "       1863., 1864., 1865., 1866., 1867.])"
      ]
     },
     "execution_count": 159,
     "metadata": {},
     "output_type": "execute_result"
    }
   ],
   "source": [
    "# printing the unique values lower than our lower whisker\n",
    "floor['CNSTRCT_YR'].sort_values().unique()"
   ]
  },
  {
   "cell_type": "code",
   "execution_count": 160,
   "metadata": {},
   "outputs": [
    {
     "data": {
      "text/plain": [
       "2008.000        3291\n",
       "2018.000        2049\n",
       "2009.000        1955\n",
       "2017.000        1866\n",
       "2016.000        1743\n",
       "2011.000        1487\n",
       "2012.000        1435\n",
       "2010.000        1366\n",
       "2015.000        1034\n",
       "2013.000         897\n",
       "2014.000         833\n",
       "2019.000         800\n",
       "2020.000         447\n",
       "20000.000          2\n",
       "20115.000          1\n",
       "20004.000          1\n",
       "19999979.000       1\n",
       "Name: CNSTRCT_YR, dtype: int64"
      ]
     },
     "execution_count": 160,
     "metadata": {},
     "output_type": "execute_result"
    }
   ],
   "source": [
    "# return counts of unique values in descending order greater than our upper whisker\n",
    "ceiling['CNSTRCT_YR'].value_counts()"
   ]
  },
  {
   "cell_type": "code",
   "execution_count": 161,
   "metadata": {},
   "outputs": [
    {
     "data": {
      "text/plain": [
       "2008.000        3291\n",
       "2009.000        1955\n",
       "2010.000        1366\n",
       "2011.000        1487\n",
       "2012.000        1435\n",
       "2013.000         897\n",
       "2014.000         833\n",
       "2015.000        1034\n",
       "2016.000        1743\n",
       "2017.000        1866\n",
       "2018.000        2049\n",
       "2019.000         800\n",
       "2020.000         447\n",
       "20000.000          2\n",
       "20004.000          1\n",
       "20115.000          1\n",
       "19999979.000       1\n",
       "Name: CNSTRCT_YR, dtype: int64"
      ]
     },
     "execution_count": 161,
     "metadata": {},
     "output_type": "execute_result"
    }
   ],
   "source": [
    "# return counts of unique values in descending order greater than our upper whisker\n",
    "ceiling['CNSTRCT_YR'].value_counts().sort_index()"
   ]
  },
  {
   "cell_type": "markdown",
   "metadata": {},
   "source": [
    "## 5.2. Z-Scores"
   ]
  },
  {
   "cell_type": "markdown",
   "metadata": {},
   "source": [
    "### 5.2.1 Calculating Z-Scores"
   ]
  },
  {
   "cell_type": "code",
   "execution_count": 162,
   "metadata": {},
   "outputs": [],
   "source": [
    "# calculating the z score of our 'CNSTRCT_YR' column\n",
    "building_footprints['CNSTRCT_YR_zscore'] = (building_footprints.CNSTRCT_YR - building_footprints.CNSTRCT_YR.mean())/building_footprints.CNSTRCT_YR.std()"
   ]
  },
  {
   "cell_type": "code",
   "execution_count": 163,
   "metadata": {},
   "outputs": [
    {
     "data": {
      "text/html": [
       "<div>\n",
       "<style scoped>\n",
       "    .dataframe tbody tr th:only-of-type {\n",
       "        vertical-align: middle;\n",
       "    }\n",
       "\n",
       "    .dataframe tbody tr th {\n",
       "        vertical-align: top;\n",
       "    }\n",
       "\n",
       "    .dataframe thead th {\n",
       "        text-align: right;\n",
       "    }\n",
       "</style>\n",
       "<table border=\"1\" class=\"dataframe\">\n",
       "  <thead>\n",
       "    <tr style=\"text-align: right;\">\n",
       "      <th></th>\n",
       "      <th>CNSTRCT_YR</th>\n",
       "      <th>CNSTRCT_YR_zscore</th>\n",
       "    </tr>\n",
       "  </thead>\n",
       "  <tbody>\n",
       "    <tr>\n",
       "      <th>0</th>\n",
       "      <td>2009.000</td>\n",
       "      <td>0.003</td>\n",
       "    </tr>\n",
       "    <tr>\n",
       "      <th>1</th>\n",
       "      <td>1930.000</td>\n",
       "      <td>-0.001</td>\n",
       "    </tr>\n",
       "    <tr>\n",
       "      <th>2</th>\n",
       "      <td>1960.000</td>\n",
       "      <td>0.001</td>\n",
       "    </tr>\n",
       "    <tr>\n",
       "      <th>3</th>\n",
       "      <td>1920.000</td>\n",
       "      <td>-0.001</td>\n",
       "    </tr>\n",
       "    <tr>\n",
       "      <th>4</th>\n",
       "      <td>1915.000</td>\n",
       "      <td>-0.002</td>\n",
       "    </tr>\n",
       "  </tbody>\n",
       "</table>\n",
       "</div>"
      ],
      "text/plain": [
       "   CNSTRCT_YR  CNSTRCT_YR_zscore\n",
       "0    2009.000              0.003\n",
       "1    1930.000             -0.001\n",
       "2    1960.000              0.001\n",
       "3    1920.000             -0.001\n",
       "4    1915.000             -0.002"
      ]
     },
     "execution_count": 163,
     "metadata": {},
     "output_type": "execute_result"
    }
   ],
   "source": [
    "# making a separate dataframe with only the columns ['CNSTRCT_YR', 'CNSTRCT_YR_zscore']\n",
    "CNSTRCT_YR_zscore = building_footprints[['CNSTRCT_YR', 'CNSTRCT_YR_zscore']]\n",
    "CNSTRCT_YR_zscore.head()"
   ]
  },
  {
   "cell_type": "code",
   "execution_count": 164,
   "metadata": {},
   "outputs": [
    {
     "data": {
      "text/html": [
       "<div>\n",
       "<style scoped>\n",
       "    .dataframe tbody tr th:only-of-type {\n",
       "        vertical-align: middle;\n",
       "    }\n",
       "\n",
       "    .dataframe tbody tr th {\n",
       "        vertical-align: top;\n",
       "    }\n",
       "\n",
       "    .dataframe thead th {\n",
       "        text-align: right;\n",
       "    }\n",
       "</style>\n",
       "<table border=\"1\" class=\"dataframe\">\n",
       "  <thead>\n",
       "    <tr style=\"text-align: right;\">\n",
       "      <th></th>\n",
       "      <th>CNSTRCT_YR</th>\n",
       "      <th>CNSTRCT_YR_zscore</th>\n",
       "    </tr>\n",
       "  </thead>\n",
       "  <tbody>\n",
       "    <tr>\n",
       "      <th>264205</th>\n",
       "      <td>0.000</td>\n",
       "      <td>-0.101</td>\n",
       "    </tr>\n",
       "    <tr>\n",
       "      <th>103309</th>\n",
       "      <td>0.000</td>\n",
       "      <td>-0.101</td>\n",
       "    </tr>\n",
       "    <tr>\n",
       "      <th>992765</th>\n",
       "      <td>0.000</td>\n",
       "      <td>-0.101</td>\n",
       "    </tr>\n",
       "    <tr>\n",
       "      <th>103304</th>\n",
       "      <td>0.000</td>\n",
       "      <td>-0.101</td>\n",
       "    </tr>\n",
       "    <tr>\n",
       "      <th>182635</th>\n",
       "      <td>0.000</td>\n",
       "      <td>-0.101</td>\n",
       "    </tr>\n",
       "    <tr>\n",
       "      <th>...</th>\n",
       "      <td>...</td>\n",
       "      <td>...</td>\n",
       "    </tr>\n",
       "    <tr>\n",
       "      <th>1084847</th>\n",
       "      <td>nan</td>\n",
       "      <td>nan</td>\n",
       "    </tr>\n",
       "    <tr>\n",
       "      <th>1084920</th>\n",
       "      <td>nan</td>\n",
       "      <td>nan</td>\n",
       "    </tr>\n",
       "    <tr>\n",
       "      <th>1084921</th>\n",
       "      <td>nan</td>\n",
       "      <td>nan</td>\n",
       "    </tr>\n",
       "    <tr>\n",
       "      <th>1084922</th>\n",
       "      <td>nan</td>\n",
       "      <td>nan</td>\n",
       "    </tr>\n",
       "    <tr>\n",
       "      <th>1084923</th>\n",
       "      <td>nan</td>\n",
       "      <td>nan</td>\n",
       "    </tr>\n",
       "  </tbody>\n",
       "</table>\n",
       "<p>1084926 rows × 2 columns</p>\n",
       "</div>"
      ],
      "text/plain": [
       "         CNSTRCT_YR  CNSTRCT_YR_zscore\n",
       "264205        0.000             -0.101\n",
       "103309        0.000             -0.101\n",
       "992765        0.000             -0.101\n",
       "103304        0.000             -0.101\n",
       "182635        0.000             -0.101\n",
       "...             ...                ...\n",
       "1084847         nan                nan\n",
       "1084920         nan                nan\n",
       "1084921         nan                nan\n",
       "1084922         nan                nan\n",
       "1084923         nan                nan\n",
       "\n",
       "[1084926 rows x 2 columns]"
      ]
     },
     "execution_count": 164,
     "metadata": {},
     "output_type": "execute_result"
    }
   ],
   "source": [
    "# sorting by CNSTRCT_YR_zscore in ascending order\n",
    "CNSTRCT_YR_zscore.sort_values(by='CNSTRCT_YR_zscore')"
   ]
  },
  {
   "cell_type": "code",
   "execution_count": 165,
   "metadata": {},
   "outputs": [
    {
     "data": {
      "text/html": [
       "<div>\n",
       "<style scoped>\n",
       "    .dataframe tbody tr th:only-of-type {\n",
       "        vertical-align: middle;\n",
       "    }\n",
       "\n",
       "    .dataframe tbody tr th {\n",
       "        vertical-align: top;\n",
       "    }\n",
       "\n",
       "    .dataframe thead th {\n",
       "        text-align: right;\n",
       "    }\n",
       "</style>\n",
       "<table border=\"1\" class=\"dataframe\">\n",
       "  <thead>\n",
       "    <tr style=\"text-align: right;\">\n",
       "      <th></th>\n",
       "      <th>CNSTRCT_YR</th>\n",
       "      <th>CNSTRCT_YR_zscore</th>\n",
       "    </tr>\n",
       "  </thead>\n",
       "  <tbody>\n",
       "    <tr>\n",
       "      <th>1056601</th>\n",
       "      <td>19999979.000</td>\n",
       "      <td>1039.218</td>\n",
       "    </tr>\n",
       "    <tr>\n",
       "      <th>841012</th>\n",
       "      <td>20115.000</td>\n",
       "      <td>0.944</td>\n",
       "    </tr>\n",
       "    <tr>\n",
       "      <th>518196</th>\n",
       "      <td>20004.000</td>\n",
       "      <td>0.938</td>\n",
       "    </tr>\n",
       "    <tr>\n",
       "      <th>64080</th>\n",
       "      <td>20000.000</td>\n",
       "      <td>0.938</td>\n",
       "    </tr>\n",
       "    <tr>\n",
       "      <th>743259</th>\n",
       "      <td>20000.000</td>\n",
       "      <td>0.938</td>\n",
       "    </tr>\n",
       "    <tr>\n",
       "      <th>...</th>\n",
       "      <td>...</td>\n",
       "      <td>...</td>\n",
       "    </tr>\n",
       "    <tr>\n",
       "      <th>1084847</th>\n",
       "      <td>nan</td>\n",
       "      <td>nan</td>\n",
       "    </tr>\n",
       "    <tr>\n",
       "      <th>1084920</th>\n",
       "      <td>nan</td>\n",
       "      <td>nan</td>\n",
       "    </tr>\n",
       "    <tr>\n",
       "      <th>1084921</th>\n",
       "      <td>nan</td>\n",
       "      <td>nan</td>\n",
       "    </tr>\n",
       "    <tr>\n",
       "      <th>1084922</th>\n",
       "      <td>nan</td>\n",
       "      <td>nan</td>\n",
       "    </tr>\n",
       "    <tr>\n",
       "      <th>1084923</th>\n",
       "      <td>nan</td>\n",
       "      <td>nan</td>\n",
       "    </tr>\n",
       "  </tbody>\n",
       "</table>\n",
       "<p>1084926 rows × 2 columns</p>\n",
       "</div>"
      ],
      "text/plain": [
       "          CNSTRCT_YR  CNSTRCT_YR_zscore\n",
       "1056601 19999979.000           1039.218\n",
       "841012     20115.000              0.944\n",
       "518196     20004.000              0.938\n",
       "64080      20000.000              0.938\n",
       "743259     20000.000              0.938\n",
       "...              ...                ...\n",
       "1084847          nan                nan\n",
       "1084920          nan                nan\n",
       "1084921          nan                nan\n",
       "1084922          nan                nan\n",
       "1084923          nan                nan\n",
       "\n",
       "[1084926 rows x 2 columns]"
      ]
     },
     "execution_count": 165,
     "metadata": {},
     "output_type": "execute_result"
    }
   ],
   "source": [
    "# sorting by CNSTRCT_YR_zscore in descending order\n",
    "CNSTRCT_YR_zscore.sort_values(by='CNSTRCT_YR_zscore', ascending=False)"
   ]
  },
  {
   "cell_type": "code",
   "execution_count": 166,
   "metadata": {},
   "outputs": [
    {
     "data": {
      "text/plain": [
       "1084926"
      ]
     },
     "execution_count": 166,
     "metadata": {},
     "output_type": "execute_result"
    }
   ],
   "source": [
    "len(CNSTRCT_YR_zscore)"
   ]
  },
  {
   "cell_type": "code",
   "execution_count": 167,
   "metadata": {},
   "outputs": [
    {
     "data": {
      "text/plain": [
       "CNSTRCT_YR           float64\n",
       "CNSTRCT_YR_zscore    float64\n",
       "dtype: object"
      ]
     },
     "execution_count": 167,
     "metadata": {},
     "output_type": "execute_result"
    }
   ],
   "source": [
    "CNSTRCT_YR_zscore.dtypes"
   ]
  },
  {
   "cell_type": "markdown",
   "metadata": {},
   "source": [
    "### 5.2.2 Identifying Possible Outliers from Z-Score"
   ]
  },
  {
   "cell_type": "code",
   "execution_count": 168,
   "metadata": {},
   "outputs": [],
   "source": [
    "# returning values in 'CNSTRCT_YR_zscore' column not between -3 and 3\n",
    "outside_zscore = CNSTRCT_YR_zscore[~CNSTRCT_YR_zscore['CNSTRCT_YR_zscore'].between(-3, 3, inclusive=True)]"
   ]
  },
  {
   "cell_type": "code",
   "execution_count": 169,
   "metadata": {},
   "outputs": [
    {
     "data": {
      "text/html": [
       "<div>\n",
       "<style scoped>\n",
       "    .dataframe tbody tr th:only-of-type {\n",
       "        vertical-align: middle;\n",
       "    }\n",
       "\n",
       "    .dataframe tbody tr th {\n",
       "        vertical-align: top;\n",
       "    }\n",
       "\n",
       "    .dataframe thead th {\n",
       "        text-align: right;\n",
       "    }\n",
       "</style>\n",
       "<table border=\"1\" class=\"dataframe\">\n",
       "  <thead>\n",
       "    <tr style=\"text-align: right;\">\n",
       "      <th></th>\n",
       "      <th>CNSTRCT_YR</th>\n",
       "      <th>CNSTRCT_YR_zscore</th>\n",
       "    </tr>\n",
       "  </thead>\n",
       "  <tbody>\n",
       "    <tr>\n",
       "      <th>4943</th>\n",
       "      <td>nan</td>\n",
       "      <td>nan</td>\n",
       "    </tr>\n",
       "    <tr>\n",
       "      <th>45950</th>\n",
       "      <td>nan</td>\n",
       "      <td>nan</td>\n",
       "    </tr>\n",
       "    <tr>\n",
       "      <th>45956</th>\n",
       "      <td>nan</td>\n",
       "      <td>nan</td>\n",
       "    </tr>\n",
       "    <tr>\n",
       "      <th>46005</th>\n",
       "      <td>nan</td>\n",
       "      <td>nan</td>\n",
       "    </tr>\n",
       "    <tr>\n",
       "      <th>50350</th>\n",
       "      <td>nan</td>\n",
       "      <td>nan</td>\n",
       "    </tr>\n",
       "  </tbody>\n",
       "</table>\n",
       "</div>"
      ],
      "text/plain": [
       "       CNSTRCT_YR  CNSTRCT_YR_zscore\n",
       "4943          nan                nan\n",
       "45950         nan                nan\n",
       "45956         nan                nan\n",
       "46005         nan                nan\n",
       "50350         nan                nan"
      ]
     },
     "execution_count": 169,
     "metadata": {},
     "output_type": "execute_result"
    }
   ],
   "source": [
    "# previewing first five rows \n",
    "outside_zscore.head()"
   ]
  },
  {
   "cell_type": "code",
   "execution_count": 170,
   "metadata": {},
   "outputs": [
    {
     "data": {
      "text/html": [
       "<div>\n",
       "<style scoped>\n",
       "    .dataframe tbody tr th:only-of-type {\n",
       "        vertical-align: middle;\n",
       "    }\n",
       "\n",
       "    .dataframe tbody tr th {\n",
       "        vertical-align: top;\n",
       "    }\n",
       "\n",
       "    .dataframe thead th {\n",
       "        text-align: right;\n",
       "    }\n",
       "</style>\n",
       "<table border=\"1\" class=\"dataframe\">\n",
       "  <thead>\n",
       "    <tr style=\"text-align: right;\">\n",
       "      <th></th>\n",
       "      <th>CNSTRCT_YR</th>\n",
       "      <th>CNSTRCT_YR_zscore</th>\n",
       "    </tr>\n",
       "  </thead>\n",
       "  <tbody>\n",
       "    <tr>\n",
       "      <th>1056601</th>\n",
       "      <td>19999979.000</td>\n",
       "      <td>1039.218</td>\n",
       "    </tr>\n",
       "    <tr>\n",
       "      <th>4943</th>\n",
       "      <td>nan</td>\n",
       "      <td>nan</td>\n",
       "    </tr>\n",
       "    <tr>\n",
       "      <th>45950</th>\n",
       "      <td>nan</td>\n",
       "      <td>nan</td>\n",
       "    </tr>\n",
       "    <tr>\n",
       "      <th>45956</th>\n",
       "      <td>nan</td>\n",
       "      <td>nan</td>\n",
       "    </tr>\n",
       "    <tr>\n",
       "      <th>46005</th>\n",
       "      <td>nan</td>\n",
       "      <td>nan</td>\n",
       "    </tr>\n",
       "    <tr>\n",
       "      <th>...</th>\n",
       "      <td>...</td>\n",
       "      <td>...</td>\n",
       "    </tr>\n",
       "    <tr>\n",
       "      <th>1084847</th>\n",
       "      <td>nan</td>\n",
       "      <td>nan</td>\n",
       "    </tr>\n",
       "    <tr>\n",
       "      <th>1084920</th>\n",
       "      <td>nan</td>\n",
       "      <td>nan</td>\n",
       "    </tr>\n",
       "    <tr>\n",
       "      <th>1084921</th>\n",
       "      <td>nan</td>\n",
       "      <td>nan</td>\n",
       "    </tr>\n",
       "    <tr>\n",
       "      <th>1084922</th>\n",
       "      <td>nan</td>\n",
       "      <td>nan</td>\n",
       "    </tr>\n",
       "    <tr>\n",
       "      <th>1084923</th>\n",
       "      <td>nan</td>\n",
       "      <td>nan</td>\n",
       "    </tr>\n",
       "  </tbody>\n",
       "</table>\n",
       "<p>4883 rows × 2 columns</p>\n",
       "</div>"
      ],
      "text/plain": [
       "          CNSTRCT_YR  CNSTRCT_YR_zscore\n",
       "1056601 19999979.000           1039.218\n",
       "4943             nan                nan\n",
       "45950            nan                nan\n",
       "45956            nan                nan\n",
       "46005            nan                nan\n",
       "...              ...                ...\n",
       "1084847          nan                nan\n",
       "1084920          nan                nan\n",
       "1084921          nan                nan\n",
       "1084922          nan                nan\n",
       "1084923          nan                nan\n",
       "\n",
       "[4883 rows x 2 columns]"
      ]
     },
     "execution_count": 170,
     "metadata": {},
     "output_type": "execute_result"
    }
   ],
   "source": [
    "# sorting values in 'CNSTRCT_YR_zscore' in ascending order\n",
    "outside_zscore.sort_values(by='CNSTRCT_YR_zscore')"
   ]
  },
  {
   "cell_type": "code",
   "execution_count": 171,
   "metadata": {},
   "outputs": [],
   "source": [
    "outside_zscore = outside_zscore.dropna(subset=['CNSTRCT_YR_zscore'])"
   ]
  },
  {
   "cell_type": "code",
   "execution_count": 172,
   "metadata": {},
   "outputs": [
    {
     "data": {
      "text/html": [
       "<div>\n",
       "<style scoped>\n",
       "    .dataframe tbody tr th:only-of-type {\n",
       "        vertical-align: middle;\n",
       "    }\n",
       "\n",
       "    .dataframe tbody tr th {\n",
       "        vertical-align: top;\n",
       "    }\n",
       "\n",
       "    .dataframe thead th {\n",
       "        text-align: right;\n",
       "    }\n",
       "</style>\n",
       "<table border=\"1\" class=\"dataframe\">\n",
       "  <thead>\n",
       "    <tr style=\"text-align: right;\">\n",
       "      <th></th>\n",
       "      <th>CNSTRCT_YR</th>\n",
       "      <th>CNSTRCT_YR_zscore</th>\n",
       "    </tr>\n",
       "  </thead>\n",
       "  <tbody>\n",
       "    <tr>\n",
       "      <th>1056601</th>\n",
       "      <td>19999979.000</td>\n",
       "      <td>1039.218</td>\n",
       "    </tr>\n",
       "  </tbody>\n",
       "</table>\n",
       "</div>"
      ],
      "text/plain": [
       "          CNSTRCT_YR  CNSTRCT_YR_zscore\n",
       "1056601 19999979.000           1039.218"
      ]
     },
     "execution_count": 172,
     "metadata": {},
     "output_type": "execute_result"
    }
   ],
   "source": [
    "# sorting values in 'CNSTRCT_YR_zscore' in descending order\n",
    "outside_zscore.sort_values(by='CNSTRCT_YR_zscore', ascending=False)"
   ]
  },
  {
   "cell_type": "code",
   "execution_count": 173,
   "metadata": {},
   "outputs": [
    {
     "data": {
      "text/plain": [
       "1"
      ]
     },
     "execution_count": 173,
     "metadata": {},
     "output_type": "execute_result"
    }
   ],
   "source": [
    "# printing number of rows\n",
    "len(outside_zscore)"
   ]
  },
  {
   "cell_type": "markdown",
   "metadata": {},
   "source": [
    "### 5.2.3 Making Histograms of Construction Year Raw and Normalized (Z-Score) Values"
   ]
  },
  {
   "cell_type": "code",
   "execution_count": 175,
   "metadata": {},
   "outputs": [
    {
     "data": {
      "text/html": [
       "<div>\n",
       "<style scoped>\n",
       "    .dataframe tbody tr th:only-of-type {\n",
       "        vertical-align: middle;\n",
       "    }\n",
       "\n",
       "    .dataframe tbody tr th {\n",
       "        vertical-align: top;\n",
       "    }\n",
       "\n",
       "    .dataframe thead th {\n",
       "        text-align: right;\n",
       "    }\n",
       "</style>\n",
       "<table border=\"1\" class=\"dataframe\">\n",
       "  <thead>\n",
       "    <tr style=\"text-align: right;\">\n",
       "      <th></th>\n",
       "      <th>CNSTRCT_YR</th>\n",
       "      <th>CNSTRCT_YR_zscore</th>\n",
       "    </tr>\n",
       "  </thead>\n",
       "  <tbody>\n",
       "    <tr>\n",
       "      <th>0</th>\n",
       "      <td>2009.000</td>\n",
       "      <td>0.003</td>\n",
       "    </tr>\n",
       "    <tr>\n",
       "      <th>1</th>\n",
       "      <td>1930.000</td>\n",
       "      <td>-0.001</td>\n",
       "    </tr>\n",
       "    <tr>\n",
       "      <th>2</th>\n",
       "      <td>1960.000</td>\n",
       "      <td>0.001</td>\n",
       "    </tr>\n",
       "    <tr>\n",
       "      <th>3</th>\n",
       "      <td>1920.000</td>\n",
       "      <td>-0.001</td>\n",
       "    </tr>\n",
       "    <tr>\n",
       "      <th>4</th>\n",
       "      <td>1915.000</td>\n",
       "      <td>-0.002</td>\n",
       "    </tr>\n",
       "  </tbody>\n",
       "</table>\n",
       "</div>"
      ],
      "text/plain": [
       "   CNSTRCT_YR  CNSTRCT_YR_zscore\n",
       "0    2009.000              0.003\n",
       "1    1930.000             -0.001\n",
       "2    1960.000              0.001\n",
       "3    1920.000             -0.001\n",
       "4    1915.000             -0.002"
      ]
     },
     "execution_count": 175,
     "metadata": {},
     "output_type": "execute_result"
    }
   ],
   "source": [
    "CNSTRCT_YR_zscore.head()"
   ]
  },
  {
   "cell_type": "code",
   "execution_count": 174,
   "metadata": {},
   "outputs": [
    {
     "data": {
      "text/plain": [
       "array([[<AxesSubplot:title={'center':'CNSTRCT_YR'}>,\n",
       "        <AxesSubplot:title={'center':'CNSTRCT_YR_zscore'}>]], dtype=object)"
      ]
     },
     "execution_count": 174,
     "metadata": {},
     "output_type": "execute_result"
    },
    {
     "data": {
      "image/png": "[encoded data removed]",
      "text/plain": [
       "<Figure size 1800x720 with 2 Axes>"
      ]
     },
     "metadata": {
      "needs_background": "light"
     },
     "output_type": "display_data"
    }
   ],
   "source": [
    "# making histograms of the distributions of both columns\n",
    "CNSTRCT_YR_zscore.hist(bins=25, figsize=(25,10))"
   ]
  },
  {
   "cell_type": "markdown",
   "metadata": {},
   "source": [
    "# 6. Conclusion"
   ]
  },
  {
   "cell_type": "markdown",
   "metadata": {},
   "source": [
    "In this notebook, we reviewed various ways to inspect, clean, wrangle, and detect any outliers in your data.  Specifically, we focused on ways to inspect the shape (number of rows, columns) of your data, fill in or replace incorrect values with the median, and detect outliers with box plots and z-scores. This step is crucial if you are interested in modeling or predicting future values.. In Part III, we will focus on data visualization."
   ]
  },
  {
   "cell_type": "code",
   "execution_count": null,
   "metadata": {},
   "outputs": [],
   "source": []
  }
 ],
 "metadata": {
  "kernelspec": {
   "display_name": "Python 3",
   "language": "python",
   "name": "python3"
  },
  "language_info": {
   "codemirror_mode": {
    "name": "ipython",
    "version": 3
   },
   "file_extension": ".py",
   "mimetype": "text/x-python",
   "name": "python",
   "nbconvert_exporter": "python",
   "pygments_lexer": "ipython3",
   "version": "3.7.1"
  }
 },
 "nbformat": 4,
 "nbformat_minor": 2
}
