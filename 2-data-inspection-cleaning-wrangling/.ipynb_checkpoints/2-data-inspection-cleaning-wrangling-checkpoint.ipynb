{
 "cells": [
  {
   "cell_type": "markdown",
   "metadata": {},
   "source": [
    "# Data Analysis Using Python: A Beginner’s Guide Featuring NYC Open Data\n",
    "\n",
    "\n",
    "Part 2: Data Inspection, Cleaning and Wrangling in Python\n",
    "\n",
    "*Mark Bauer*"
   ]
  },
  {
   "cell_type": "markdown",
   "metadata": {},
   "source": [
    "Table of Contents\n",
    "=================\n",
    "\n",
    "   * [Getting Started](#-Getting-Started:-Accessing-the-Building-Footprints-Dataset)\n",
    "       * [Reading in data as csv in static form](##-Reading-in-data-as-csv-in-static-form)\n",
    "       \n",
    "       \n",
    "   * [1. Importing Libraries](##-1.-Importing-Libraries)\n",
    "\n",
    "       \n",
    "   * [2. Reading in data as a pandas dataframe](#-2.-Reading-in-data-as-a-pandas-dataframe)\n",
    "       \n",
    "   \n",
    "   * [3. Data Inspection](#-3.-Data-Inspection)\n",
    "       * [3.1 Previewing Data](##-3.1-Previewing-Data)\n",
    "       * [3.2 Calcualting Summary Statistics](##-3.2-Calcualting-Summary-Statistics)\n",
    "       * [3.3 Identifying Null/NA Values](##-3.3-Identifying-Null/NA-Values)\n",
    "       \n",
    "       \n",
    "   * [4. Data Cleaning/Wrangling](#-4.-Data-Cleaning/Wrangling)\n",
    "       * [4.1 Previewing Column Values](##-4.1-Previewing-Column-Values)\n",
    "       * [4.2 Filling In Null/NA Values With Median ](##-4.2-Filling-In-Null/NA-Values-With-Median)\n",
    "       * [4.3 Plotting Histogram of Raw Construction Year Values](##-4.3-Plotting-Histogram-of-Raw-Construction-Year-Values)   \n",
    "       * [4.4 Identiyfying Values Not Between Years 1 and 2020](##-4.4-Identiyfying-Values-Not-Between-Years-1-and-2020)\n",
    "       * [4.5 Replacing Values Not Between Years 1 and 2020 with the Median](##-4.5-Replacing-Values-Not-Between-Years-1-and-2020-with-the-Median)\n",
    "       * [4.6 Plotting Histogram of Construction Years Between 1 and 2020](##-4.6-Plotting-Histogram-of-Construction-Years-Between-1-and-2020)\n",
    "       * [4.7 Identifying Buildings Built Before 1652 - Possible Outliers](##-4.7-Identifying-Buildings-Built-Before-1652---Possible-Outliers)\n",
    "       * [4.8 Replacing Values Less Than 1652 with the Median](##-4.8-Replacing-Values-Less-Than-1652-with-the-Median)\n",
    "       * [4.9 Plotting Histogram of Construction Years with Cleaned Column](##-4.9-Plotting-Histogram-of-Construction-Years-with-Cleaned-Column)\n",
    "       \n",
    "       \n",
    "   * [5. Detecting Outliers](#-5.-Detecting-Outliers)\n",
    "       * [5.1. Making a Box Plot](#-5.1-Making-a-Box-Plot)\n",
    "           * [5.1.1 Calculating Interquartile Range (IQR)](##-5.1.1-Calculating-Interquartile-Range-(IQR))\n",
    "           * [5.1.2 Box Plot of Construction Year Values](##-5.1.2-Box-Plot-of-Construction-Year-Values)\n",
    "           * [5.1.3 Making Histograms of Values Above and Below Box Plot Whiskers](##-5.1.3-Making-Histograms-of-Values-Above-and-Below-Box-Plot-Whiskers)\n",
    "       * [5.2 Z-Scores](#-5.2-Z-Scores)\n",
    "           * [5.2.1 Calculating Z-Scores](##-5.2.1-Calculating-Z-Scores)\n",
    "           * [5.2.2 Identifying Possible Outliers from Z-Score](##-5.2.2-Identifying-Possible-Outliers-from-Z-Score)\n",
    "           * [5.2.3 Making Histograms of Construction Year Raw and Normalized (Z-Score) Values](##-5.2.3-Making-Histograms-of-Construction-Year-Raw-and-Normalized-%29Z-Score%29-Values)    \n",
    "       \n",
    "       \n",
    "   * [6. Conclusion](#-4.-Conclusion)"
   ]
  },
  {
   "cell_type": "markdown",
   "metadata": {},
   "source": [
    "**Goal:** In this notebook, we will review various ways to to inspect, clean, wrangle, and detect any outliers in your data.\n",
    "\n",
    "**Main Library:** [pandas](https://pandas.pydata.org/) is a fast, powerful, flexible and easy to use open source data analysis and manipulation tool, built on top of the Python programming language."
   ]
  },
  {
   "cell_type": "markdown",
   "metadata": {},
   "source": [
    "# Getting Started: Accessing the Building Footprints Dataset"
   ]
  },
  {
   "cell_type": "markdown",
   "metadata": {},
   "source": [
    "## Reading in data as csv in static form\n",
    "\n",
    "Copy this link address shown below."
   ]
  },
  {
   "cell_type": "markdown",
   "metadata": {},
   "source": [
    "![building_footprints_csv](images/building-footprints-csv.png)"
   ]
  },
  {
   "cell_type": "markdown",
   "metadata": {},
   "source": [
    "## Dataset Web Page Link: \n",
    "https://data.cityofnewyork.us/Housing-Development/Building-Footprints/nqwf-w8eh\n",
    "\n",
    "## Documentation/Metadata: \n",
    "https://github.com/CityOfNewYork/nyc-geo-metadata/blob/master/Metadata/Metadata_BuildingFootprints.md"
   ]
  },
  {
   "cell_type": "markdown",
   "metadata": {},
   "source": [
    "# 1. Importing Libraries"
   ]
  },
  {
   "cell_type": "code",
   "execution_count": 1,
   "metadata": {},
   "outputs": [],
   "source": [
    "# importing libraries\n",
    "import pandas as pd # the pd is by convention\n",
    "import numpy as np # as is the np\n",
    "import matplotlib.pyplot as plt\n",
    "import matplotlib\n",
    "from matplotlib.ticker import FuncFormatter\n",
    "\n",
    "# to plot matplotlib figures inline on the notebook\n",
    "%matplotlib inline"
   ]
  },
  {
   "cell_type": "code",
   "execution_count": 2,
   "metadata": {},
   "outputs": [
    {
     "name": "stdout",
     "output_type": "stream",
     "text": [
      "CPython 3.7.1\n",
      "IPython 7.18.1\n",
      "\n",
      "numpy 1.19.1\n",
      "pandas 1.0.0\n",
      "matplotlib.pyplot 3.3.1\n"
     ]
    }
   ],
   "source": [
    "#Printing verions of Python modules and packages with **watermark** - the IPython magic extension.\n",
    "\n",
    "%load_ext watermark\n",
    "\n",
    "%watermark -v -p numpy,pandas,matplotlib.pyplot"
   ]
  },
  {
   "cell_type": "markdown",
   "metadata": {},
   "source": [
    "Documention for installing watermark: https://github.com/rasbt/watermark"
   ]
  },
  {
   "cell_type": "markdown",
   "metadata": {},
   "source": [
    "# 2. Reading in data as a pandas dataframe"
   ]
  },
  {
   "cell_type": "markdown",
   "metadata": {},
   "source": [
    "If you receive `HTTPError: HTTP Error 404: Not Found`, you need to replace the csv link. DoITT changes the link path regularly."
   ]
  },
  {
   "cell_type": "code",
   "execution_count": 4,
   "metadata": {},
   "outputs": [],
   "source": [
    "# setting the link of our data (a static csv file) as the name 'url'\n",
    "url = 'https://data.cityofnewyork.us/api/views/2wbz-fb2h/rows.csv?accessType=DOWNLOAD'\n",
    "\n",
    "# reading in our data as a pandas dataframe and setting the name to'building_footprints'\n",
    "building_footprints = pd.read_csv(url)"
   ]
  },
  {
   "cell_type": "markdown",
   "metadata": {},
   "source": [
    "# 3. Data Inspection"
   ]
  },
  {
   "cell_type": "markdown",
   "metadata": {},
   "source": [
    "## 3.1 Previewing Data"
   ]
  },
  {
   "cell_type": "code",
   "execution_count": 5,
   "metadata": {},
   "outputs": [
    {
     "data": {
      "text/html": [
       "<div>\n",
       "<style scoped>\n",
       "    .dataframe tbody tr th:only-of-type {\n",
       "        vertical-align: middle;\n",
       "    }\n",
       "\n",
       "    .dataframe tbody tr th {\n",
       "        vertical-align: top;\n",
       "    }\n",
       "\n",
       "    .dataframe thead th {\n",
       "        text-align: right;\n",
       "    }\n",
       "</style>\n",
       "<table border=\"1\" class=\"dataframe\">\n",
       "  <thead>\n",
       "    <tr style=\"text-align: right;\">\n",
       "      <th></th>\n",
       "      <th>CNSTRCT_YR</th>\n",
       "      <th>BIN</th>\n",
       "      <th>the_geom</th>\n",
       "      <th>NAME</th>\n",
       "      <th>LSTMODDATE</th>\n",
       "      <th>LSTSTATYPE</th>\n",
       "      <th>DOITT_ID</th>\n",
       "      <th>HEIGHTROOF</th>\n",
       "      <th>FEAT_CODE</th>\n",
       "      <th>GROUNDELEV</th>\n",
       "      <th>SHAPE_AREA</th>\n",
       "      <th>SHAPE_LEN</th>\n",
       "      <th>BASE_BBL</th>\n",
       "      <th>MPLUTO_BBL</th>\n",
       "      <th>GEOMSOURCE</th>\n",
       "    </tr>\n",
       "  </thead>\n",
       "  <tbody>\n",
       "    <tr>\n",
       "      <th>0</th>\n",
       "      <td>2009.0</td>\n",
       "      <td>3394646</td>\n",
       "      <td>MULTIPOLYGON (((-73.87129515296562 40.65717370...</td>\n",
       "      <td>NaN</td>\n",
       "      <td>08/22/2017 12:00:00 AM +0000</td>\n",
       "      <td>Constructed</td>\n",
       "      <td>1212853</td>\n",
       "      <td>21.608508</td>\n",
       "      <td>2100.0</td>\n",
       "      <td>18.0</td>\n",
       "      <td>854.662433</td>\n",
       "      <td>125.079796</td>\n",
       "      <td>3.044521e+09</td>\n",
       "      <td>3.044521e+09</td>\n",
       "      <td>Photogramm</td>\n",
       "    </tr>\n",
       "    <tr>\n",
       "      <th>1</th>\n",
       "      <td>1930.0</td>\n",
       "      <td>4548330</td>\n",
       "      <td>MULTIPOLYGON (((-73.87670970144625 40.71425234...</td>\n",
       "      <td>NaN</td>\n",
       "      <td>08/17/2017 12:00:00 AM +0000</td>\n",
       "      <td>Constructed</td>\n",
       "      <td>1226227</td>\n",
       "      <td>10.360000</td>\n",
       "      <td>5110.0</td>\n",
       "      <td>122.0</td>\n",
       "      <td>217.594243</td>\n",
       "      <td>60.225858</td>\n",
       "      <td>4.030640e+09</td>\n",
       "      <td>4.030640e+09</td>\n",
       "      <td>Photogramm</td>\n",
       "    </tr>\n",
       "    <tr>\n",
       "      <th>2</th>\n",
       "      <td>1960.0</td>\n",
       "      <td>4460479</td>\n",
       "      <td>MULTIPOLYGON (((-73.85195485799383 40.66235471...</td>\n",
       "      <td>NaN</td>\n",
       "      <td>08/22/2017 12:00:00 AM +0000</td>\n",
       "      <td>Constructed</td>\n",
       "      <td>581946</td>\n",
       "      <td>29.811570</td>\n",
       "      <td>2100.0</td>\n",
       "      <td>10.0</td>\n",
       "      <td>946.427476</td>\n",
       "      <td>123.141941</td>\n",
       "      <td>4.139430e+09</td>\n",
       "      <td>4.139430e+09</td>\n",
       "      <td>Photogramm</td>\n",
       "    </tr>\n",
       "    <tr>\n",
       "      <th>3</th>\n",
       "      <td>1920.0</td>\n",
       "      <td>3355684</td>\n",
       "      <td>MULTIPOLYGON (((-73.94029215265738 40.64108287...</td>\n",
       "      <td>NaN</td>\n",
       "      <td>08/17/2017 12:00:00 AM +0000</td>\n",
       "      <td>Constructed</td>\n",
       "      <td>858061</td>\n",
       "      <td>11.200000</td>\n",
       "      <td>5110.0</td>\n",
       "      <td>32.0</td>\n",
       "      <td>248.678169</td>\n",
       "      <td>63.940817</td>\n",
       "      <td>3.049720e+09</td>\n",
       "      <td>3.049720e+09</td>\n",
       "      <td>Photogramm</td>\n",
       "    </tr>\n",
       "    <tr>\n",
       "      <th>4</th>\n",
       "      <td>1915.0</td>\n",
       "      <td>3131737</td>\n",
       "      <td>MULTIPOLYGON (((-73.98998983552244 40.62383804...</td>\n",
       "      <td>NaN</td>\n",
       "      <td>08/22/2017 12:00:00 AM +0000</td>\n",
       "      <td>Constructed</td>\n",
       "      <td>568078</td>\n",
       "      <td>24.980000</td>\n",
       "      <td>2100.0</td>\n",
       "      <td>44.0</td>\n",
       "      <td>1163.227669</td>\n",
       "      <td>165.608763</td>\n",
       "      <td>3.055100e+09</td>\n",
       "      <td>3.055100e+09</td>\n",
       "      <td>Photogramm</td>\n",
       "    </tr>\n",
       "  </tbody>\n",
       "</table>\n",
       "</div>"
      ],
      "text/plain": [
       "   CNSTRCT_YR      BIN                                           the_geom  \\\n",
       "0      2009.0  3394646  MULTIPOLYGON (((-73.87129515296562 40.65717370...   \n",
       "1      1930.0  4548330  MULTIPOLYGON (((-73.87670970144625 40.71425234...   \n",
       "2      1960.0  4460479  MULTIPOLYGON (((-73.85195485799383 40.66235471...   \n",
       "3      1920.0  3355684  MULTIPOLYGON (((-73.94029215265738 40.64108287...   \n",
       "4      1915.0  3131737  MULTIPOLYGON (((-73.98998983552244 40.62383804...   \n",
       "\n",
       "  NAME                    LSTMODDATE   LSTSTATYPE  DOITT_ID  HEIGHTROOF  \\\n",
       "0  NaN  08/22/2017 12:00:00 AM +0000  Constructed   1212853   21.608508   \n",
       "1  NaN  08/17/2017 12:00:00 AM +0000  Constructed   1226227   10.360000   \n",
       "2  NaN  08/22/2017 12:00:00 AM +0000  Constructed    581946   29.811570   \n",
       "3  NaN  08/17/2017 12:00:00 AM +0000  Constructed    858061   11.200000   \n",
       "4  NaN  08/22/2017 12:00:00 AM +0000  Constructed    568078   24.980000   \n",
       "\n",
       "   FEAT_CODE  GROUNDELEV   SHAPE_AREA   SHAPE_LEN      BASE_BBL    MPLUTO_BBL  \\\n",
       "0     2100.0        18.0   854.662433  125.079796  3.044521e+09  3.044521e+09   \n",
       "1     5110.0       122.0   217.594243   60.225858  4.030640e+09  4.030640e+09   \n",
       "2     2100.0        10.0   946.427476  123.141941  4.139430e+09  4.139430e+09   \n",
       "3     5110.0        32.0   248.678169   63.940817  3.049720e+09  3.049720e+09   \n",
       "4     2100.0        44.0  1163.227669  165.608763  3.055100e+09  3.055100e+09   \n",
       "\n",
       "   GEOMSOURCE  \n",
       "0  Photogramm  \n",
       "1  Photogramm  \n",
       "2  Photogramm  \n",
       "3  Photogramm  \n",
       "4  Photogramm  "
      ]
     },
     "execution_count": 5,
     "metadata": {},
     "output_type": "execute_result"
    }
   ],
   "source": [
    "# previewing the first five rows of our dataframe\n",
    "building_footprints.head()"
   ]
  },
  {
   "cell_type": "code",
   "execution_count": 6,
   "metadata": {},
   "outputs": [
    {
     "data": {
      "text/html": [
       "<div>\n",
       "<style scoped>\n",
       "    .dataframe tbody tr th:only-of-type {\n",
       "        vertical-align: middle;\n",
       "    }\n",
       "\n",
       "    .dataframe tbody tr th {\n",
       "        vertical-align: top;\n",
       "    }\n",
       "\n",
       "    .dataframe thead th {\n",
       "        text-align: right;\n",
       "    }\n",
       "</style>\n",
       "<table border=\"1\" class=\"dataframe\">\n",
       "  <thead>\n",
       "    <tr style=\"text-align: right;\">\n",
       "      <th></th>\n",
       "      <th>CNSTRCT_YR</th>\n",
       "      <th>BIN</th>\n",
       "      <th>the_geom</th>\n",
       "      <th>NAME</th>\n",
       "      <th>LSTMODDATE</th>\n",
       "      <th>LSTSTATYPE</th>\n",
       "      <th>DOITT_ID</th>\n",
       "      <th>HEIGHTROOF</th>\n",
       "      <th>FEAT_CODE</th>\n",
       "      <th>GROUNDELEV</th>\n",
       "      <th>SHAPE_AREA</th>\n",
       "      <th>SHAPE_LEN</th>\n",
       "      <th>BASE_BBL</th>\n",
       "      <th>MPLUTO_BBL</th>\n",
       "      <th>GEOMSOURCE</th>\n",
       "    </tr>\n",
       "  </thead>\n",
       "  <tbody>\n",
       "    <tr>\n",
       "      <th>1084915</th>\n",
       "      <td>2020.0</td>\n",
       "      <td>3426817</td>\n",
       "      <td>MULTIPOLYGON (((-73.9643115080547 40.717425039...</td>\n",
       "      <td>NaN</td>\n",
       "      <td>10/06/2020 12:00:00 AM +0000</td>\n",
       "      <td>Constructed</td>\n",
       "      <td>1293196</td>\n",
       "      <td>85.0</td>\n",
       "      <td>2100.0</td>\n",
       "      <td>20.0</td>\n",
       "      <td>22993.524657</td>\n",
       "      <td>725.236588</td>\n",
       "      <td>3.023570e+09</td>\n",
       "      <td>NaN</td>\n",
       "      <td>Other (Man</td>\n",
       "    </tr>\n",
       "    <tr>\n",
       "      <th>1084916</th>\n",
       "      <td>2020.0</td>\n",
       "      <td>5174859</td>\n",
       "      <td>MULTIPOLYGON (((-74.06696583233064 40.59089916...</td>\n",
       "      <td>NaN</td>\n",
       "      <td>10/07/2020 12:00:00 AM +0000</td>\n",
       "      <td>Constructed</td>\n",
       "      <td>1293203</td>\n",
       "      <td>41.0</td>\n",
       "      <td>2100.0</td>\n",
       "      <td>14.0</td>\n",
       "      <td>7994.469625</td>\n",
       "      <td>411.769692</td>\n",
       "      <td>5.031220e+09</td>\n",
       "      <td>5.031220e+09</td>\n",
       "      <td>Other (Man</td>\n",
       "    </tr>\n",
       "    <tr>\n",
       "      <th>1084917</th>\n",
       "      <td>2020.0</td>\n",
       "      <td>3426084</td>\n",
       "      <td>MULTIPOLYGON (((-73.89604506258594 40.68196798...</td>\n",
       "      <td>NaN</td>\n",
       "      <td>10/06/2020 12:00:00 AM +0000</td>\n",
       "      <td>Constructed</td>\n",
       "      <td>1293198</td>\n",
       "      <td>29.0</td>\n",
       "      <td>2100.0</td>\n",
       "      <td>125.0</td>\n",
       "      <td>1160.154028</td>\n",
       "      <td>164.059000</td>\n",
       "      <td>3.038840e+09</td>\n",
       "      <td>3.038840e+09</td>\n",
       "      <td>Other (Man</td>\n",
       "    </tr>\n",
       "    <tr>\n",
       "      <th>1084918</th>\n",
       "      <td>2020.0</td>\n",
       "      <td>1091631</td>\n",
       "      <td>MULTIPOLYGON (((-73.97791985924005 40.74526931...</td>\n",
       "      <td>NaN</td>\n",
       "      <td>10/09/2020 12:00:00 AM +0000</td>\n",
       "      <td>Marked for Construction</td>\n",
       "      <td>1293206</td>\n",
       "      <td>350.0</td>\n",
       "      <td>5100.0</td>\n",
       "      <td>24.0</td>\n",
       "      <td>5713.879069</td>\n",
       "      <td>303.522270</td>\n",
       "      <td>1.009140e+09</td>\n",
       "      <td>1.009140e+09</td>\n",
       "      <td>Other (Man</td>\n",
       "    </tr>\n",
       "    <tr>\n",
       "      <th>1084919</th>\n",
       "      <td>2020.0</td>\n",
       "      <td>2129380</td>\n",
       "      <td>MULTIPOLYGON (((-73.81810674425817 40.84727909...</td>\n",
       "      <td>NaN</td>\n",
       "      <td>10/06/2020 12:00:00 AM +0000</td>\n",
       "      <td>Constructed</td>\n",
       "      <td>1293200</td>\n",
       "      <td>30.0</td>\n",
       "      <td>2100.0</td>\n",
       "      <td>22.0</td>\n",
       "      <td>1567.583216</td>\n",
       "      <td>168.896620</td>\n",
       "      <td>2.054160e+09</td>\n",
       "      <td>2.054160e+09</td>\n",
       "      <td>Other (Man</td>\n",
       "    </tr>\n",
       "  </tbody>\n",
       "</table>\n",
       "</div>"
      ],
      "text/plain": [
       "         CNSTRCT_YR      BIN  \\\n",
       "1084915      2020.0  3426817   \n",
       "1084916      2020.0  5174859   \n",
       "1084917      2020.0  3426084   \n",
       "1084918      2020.0  1091631   \n",
       "1084919      2020.0  2129380   \n",
       "\n",
       "                                                  the_geom NAME  \\\n",
       "1084915  MULTIPOLYGON (((-73.9643115080547 40.717425039...  NaN   \n",
       "1084916  MULTIPOLYGON (((-74.06696583233064 40.59089916...  NaN   \n",
       "1084917  MULTIPOLYGON (((-73.89604506258594 40.68196798...  NaN   \n",
       "1084918  MULTIPOLYGON (((-73.97791985924005 40.74526931...  NaN   \n",
       "1084919  MULTIPOLYGON (((-73.81810674425817 40.84727909...  NaN   \n",
       "\n",
       "                           LSTMODDATE               LSTSTATYPE  DOITT_ID  \\\n",
       "1084915  10/06/2020 12:00:00 AM +0000              Constructed   1293196   \n",
       "1084916  10/07/2020 12:00:00 AM +0000              Constructed   1293203   \n",
       "1084917  10/06/2020 12:00:00 AM +0000              Constructed   1293198   \n",
       "1084918  10/09/2020 12:00:00 AM +0000  Marked for Construction   1293206   \n",
       "1084919  10/06/2020 12:00:00 AM +0000              Constructed   1293200   \n",
       "\n",
       "         HEIGHTROOF  FEAT_CODE  GROUNDELEV    SHAPE_AREA   SHAPE_LEN  \\\n",
       "1084915        85.0     2100.0        20.0  22993.524657  725.236588   \n",
       "1084916        41.0     2100.0        14.0   7994.469625  411.769692   \n",
       "1084917        29.0     2100.0       125.0   1160.154028  164.059000   \n",
       "1084918       350.0     5100.0        24.0   5713.879069  303.522270   \n",
       "1084919        30.0     2100.0        22.0   1567.583216  168.896620   \n",
       "\n",
       "             BASE_BBL    MPLUTO_BBL  GEOMSOURCE  \n",
       "1084915  3.023570e+09           NaN  Other (Man  \n",
       "1084916  5.031220e+09  5.031220e+09  Other (Man  \n",
       "1084917  3.038840e+09  3.038840e+09  Other (Man  \n",
       "1084918  1.009140e+09  1.009140e+09  Other (Man  \n",
       "1084919  2.054160e+09  2.054160e+09  Other (Man  "
      ]
     },
     "execution_count": 6,
     "metadata": {},
     "output_type": "execute_result"
    }
   ],
   "source": [
    "# previewing the last five rows of our dataframe\n",
    "building_footprints.tail()"
   ]
  },
  {
   "cell_type": "code",
   "execution_count": 7,
   "metadata": {},
   "outputs": [
    {
     "data": {
      "text/plain": [
       "(1084920, 15)"
      ]
     },
     "execution_count": 7,
     "metadata": {},
     "output_type": "execute_result"
    }
   ],
   "source": [
    "# printing the shape or dimensions of our dataframe (i.e. rows, columns)\n",
    "building_footprints.shape"
   ]
  },
  {
   "cell_type": "code",
   "execution_count": 8,
   "metadata": {},
   "outputs": [
    {
     "data": {
      "text/plain": [
       "pandas.core.frame.DataFrame"
      ]
     },
     "execution_count": 8,
     "metadata": {},
     "output_type": "execute_result"
    }
   ],
   "source": [
    "type(building_footprints)"
   ]
  },
  {
   "cell_type": "code",
   "execution_count": 9,
   "metadata": {},
   "outputs": [
    {
     "data": {
      "text/plain": [
       "Index(['CNSTRCT_YR', 'BIN', 'the_geom', 'NAME', 'LSTMODDATE', 'LSTSTATYPE',\n",
       "       'DOITT_ID', 'HEIGHTROOF', 'FEAT_CODE', 'GROUNDELEV', 'SHAPE_AREA',\n",
       "       'SHAPE_LEN', 'BASE_BBL', 'MPLUTO_BBL', 'GEOMSOURCE'],\n",
       "      dtype='object')"
      ]
     },
     "execution_count": 9,
     "metadata": {},
     "output_type": "execute_result"
    }
   ],
   "source": [
    "# printing the columns our dataframe\n",
    "building_footprints.columns"
   ]
  },
  {
   "cell_type": "code",
   "execution_count": 10,
   "metadata": {},
   "outputs": [
    {
     "data": {
      "text/plain": [
       "CNSTRCT_YR    float64\n",
       "BIN             int64\n",
       "the_geom       object\n",
       "NAME           object\n",
       "LSTMODDATE     object\n",
       "LSTSTATYPE     object\n",
       "DOITT_ID        int64\n",
       "HEIGHTROOF    float64\n",
       "FEAT_CODE     float64\n",
       "GROUNDELEV    float64\n",
       "SHAPE_AREA    float64\n",
       "SHAPE_LEN     float64\n",
       "BASE_BBL      float64\n",
       "MPLUTO_BBL    float64\n",
       "GEOMSOURCE     object\n",
       "dtype: object"
      ]
     },
     "execution_count": 10,
     "metadata": {},
     "output_type": "execute_result"
    }
   ],
   "source": [
    "# printing the data types of our columns\n",
    "building_footprints.dtypes"
   ]
  },
  {
   "cell_type": "code",
   "execution_count": 11,
   "metadata": {},
   "outputs": [
    {
     "name": "stdout",
     "output_type": "stream",
     "text": [
      "<class 'pandas.core.frame.DataFrame'>\n",
      "RangeIndex: 1084920 entries, 0 to 1084919\n",
      "Data columns (total 15 columns):\n",
      " #   Column      Non-Null Count    Dtype  \n",
      "---  ------      --------------    -----  \n",
      " 0   CNSTRCT_YR  1080039 non-null  float64\n",
      " 1   BIN         1084920 non-null  int64  \n",
      " 2   the_geom    1084920 non-null  object \n",
      " 3   NAME        1752 non-null     object \n",
      " 4   LSTMODDATE  1084920 non-null  object \n",
      " 5   LSTSTATYPE  1084733 non-null  object \n",
      " 6   DOITT_ID    1084920 non-null  int64  \n",
      " 7   HEIGHTROOF  1082256 non-null  float64\n",
      " 8   FEAT_CODE   1084911 non-null  float64\n",
      " 9   GROUNDELEV  1084392 non-null  float64\n",
      " 10  SHAPE_AREA  1084920 non-null  float64\n",
      " 11  SHAPE_LEN   1084920 non-null  float64\n",
      " 12  BASE_BBL    1084918 non-null  float64\n",
      " 13  MPLUTO_BBL  1084368 non-null  float64\n",
      " 14  GEOMSOURCE  1084704 non-null  object \n",
      "dtypes: float64(8), int64(2), object(5)\n",
      "memory usage: 124.2+ MB\n"
     ]
    }
   ],
   "source": [
    "# printing the column names, non-null counts, and data types of our columns\n",
    "building_footprints.info()"
   ]
  },
  {
   "cell_type": "code",
   "execution_count": 12,
   "metadata": {},
   "outputs": [
    {
     "data": {
      "text/plain": [
       "float64    8\n",
       "object     5\n",
       "int64      2\n",
       "dtype: int64"
      ]
     },
     "execution_count": 12,
     "metadata": {},
     "output_type": "execute_result"
    }
   ],
   "source": [
    "building_footprints.dtypes.value_counts()"
   ]
  },
  {
   "cell_type": "code",
   "execution_count": 13,
   "metadata": {},
   "outputs": [
    {
     "data": {
      "text/plain": [
       "RangeIndex(start=0, stop=1084920, step=1)"
      ]
     },
     "execution_count": 13,
     "metadata": {},
     "output_type": "execute_result"
    }
   ],
   "source": [
    "building_footprints.index"
   ]
  },
  {
   "cell_type": "code",
   "execution_count": 14,
   "metadata": {},
   "outputs": [
    {
     "data": {
      "text/plain": [
       "True"
      ]
     },
     "execution_count": 14,
     "metadata": {},
     "output_type": "execute_result"
    }
   ],
   "source": [
    "building_footprints['DOITT_ID'].is_unique"
   ]
  },
  {
   "cell_type": "markdown",
   "metadata": {},
   "source": [
    "## 3.2 Calcualting Summary Statistics"
   ]
  },
  {
   "cell_type": "code",
   "execution_count": 15,
   "metadata": {},
   "outputs": [],
   "source": [
    "pd.set_option('display.float_format', lambda x: '%.3f' % x)"
   ]
  },
  {
   "cell_type": "code",
   "execution_count": 16,
   "metadata": {},
   "outputs": [
    {
     "data": {
      "text/html": [
       "<div>\n",
       "<style scoped>\n",
       "    .dataframe tbody tr th:only-of-type {\n",
       "        vertical-align: middle;\n",
       "    }\n",
       "\n",
       "    .dataframe tbody tr th {\n",
       "        vertical-align: top;\n",
       "    }\n",
       "\n",
       "    .dataframe thead th {\n",
       "        text-align: right;\n",
       "    }\n",
       "</style>\n",
       "<table border=\"1\" class=\"dataframe\">\n",
       "  <thead>\n",
       "    <tr style=\"text-align: right;\">\n",
       "      <th></th>\n",
       "      <th>CNSTRCT_YR</th>\n",
       "      <th>BIN</th>\n",
       "      <th>DOITT_ID</th>\n",
       "      <th>HEIGHTROOF</th>\n",
       "      <th>FEAT_CODE</th>\n",
       "      <th>GROUNDELEV</th>\n",
       "      <th>SHAPE_AREA</th>\n",
       "      <th>SHAPE_LEN</th>\n",
       "      <th>BASE_BBL</th>\n",
       "      <th>MPLUTO_BBL</th>\n",
       "    </tr>\n",
       "  </thead>\n",
       "  <tbody>\n",
       "    <tr>\n",
       "      <th>count</th>\n",
       "      <td>1080039.000</td>\n",
       "      <td>1084920.000</td>\n",
       "      <td>1084920.000</td>\n",
       "      <td>1082256.000</td>\n",
       "      <td>1084911.000</td>\n",
       "      <td>1084392.000</td>\n",
       "      <td>1084920.000</td>\n",
       "      <td>1084920.000</td>\n",
       "      <td>1084918.000</td>\n",
       "      <td>1084368.000</td>\n",
       "    </tr>\n",
       "    <tr>\n",
       "      <th>mean</th>\n",
       "      <td>1946.642</td>\n",
       "      <td>3710175.717</td>\n",
       "      <td>590964.513</td>\n",
       "      <td>27.548</td>\n",
       "      <td>2698.573</td>\n",
       "      <td>55.099</td>\n",
       "      <td>1596.826</td>\n",
       "      <td>155.313</td>\n",
       "      <td>3562000260.428</td>\n",
       "      <td>3561844282.348</td>\n",
       "    </tr>\n",
       "    <tr>\n",
       "      <th>std</th>\n",
       "      <td>19243.391</td>\n",
       "      <td>1026804.560</td>\n",
       "      <td>359294.774</td>\n",
       "      <td>21.321</td>\n",
       "      <td>1202.251</td>\n",
       "      <td>41.509</td>\n",
       "      <td>5601.416</td>\n",
       "      <td>127.149</td>\n",
       "      <td>986061947.604</td>\n",
       "      <td>986086585.783</td>\n",
       "    </tr>\n",
       "    <tr>\n",
       "      <th>min</th>\n",
       "      <td>0.000</td>\n",
       "      <td>1000002.000</td>\n",
       "      <td>1.000</td>\n",
       "      <td>0.000</td>\n",
       "      <td>0.000</td>\n",
       "      <td>-14.000</td>\n",
       "      <td>32.475</td>\n",
       "      <td>23.737</td>\n",
       "      <td>3064269.000</td>\n",
       "      <td>3064269.000</td>\n",
       "    </tr>\n",
       "    <tr>\n",
       "      <th>25%</th>\n",
       "      <td>1920.000</td>\n",
       "      <td>3128598.750</td>\n",
       "      <td>286551.750</td>\n",
       "      <td>18.340</td>\n",
       "      <td>2100.000</td>\n",
       "      <td>25.000</td>\n",
       "      <td>652.086</td>\n",
       "      <td>109.693</td>\n",
       "      <td>3043180044.250</td>\n",
       "      <td>3043167529.750</td>\n",
       "    </tr>\n",
       "    <tr>\n",
       "      <th>50%</th>\n",
       "      <td>1930.000</td>\n",
       "      <td>4066824.500</td>\n",
       "      <td>573279.500</td>\n",
       "      <td>26.100</td>\n",
       "      <td>2100.000</td>\n",
       "      <td>46.000</td>\n",
       "      <td>957.230</td>\n",
       "      <td>137.920</td>\n",
       "      <td>4019290058.000</td>\n",
       "      <td>4019180092.500</td>\n",
       "    </tr>\n",
       "    <tr>\n",
       "      <th>75%</th>\n",
       "      <td>1955.000</td>\n",
       "      <td>4481736.250</td>\n",
       "      <td>861588.250</td>\n",
       "      <td>31.098</td>\n",
       "      <td>2100.000</td>\n",
       "      <td>74.000</td>\n",
       "      <td>1320.308</td>\n",
       "      <td>164.449</td>\n",
       "      <td>4106720009.500</td>\n",
       "      <td>4106690094.250</td>\n",
       "    </tr>\n",
       "    <tr>\n",
       "      <th>max</th>\n",
       "      <td>19999979.000</td>\n",
       "      <td>5799523.000</td>\n",
       "      <td>1293206.000</td>\n",
       "      <td>1550.000</td>\n",
       "      <td>5110.000</td>\n",
       "      <td>556.000</td>\n",
       "      <td>1171874.446</td>\n",
       "      <td>20017.293</td>\n",
       "      <td>5999999999.000</td>\n",
       "      <td>5999999999.000</td>\n",
       "    </tr>\n",
       "  </tbody>\n",
       "</table>\n",
       "</div>"
      ],
      "text/plain": [
       "        CNSTRCT_YR         BIN    DOITT_ID  HEIGHTROOF   FEAT_CODE  \\\n",
       "count  1080039.000 1084920.000 1084920.000 1082256.000 1084911.000   \n",
       "mean      1946.642 3710175.717  590964.513      27.548    2698.573   \n",
       "std      19243.391 1026804.560  359294.774      21.321    1202.251   \n",
       "min          0.000 1000002.000       1.000       0.000       0.000   \n",
       "25%       1920.000 3128598.750  286551.750      18.340    2100.000   \n",
       "50%       1930.000 4066824.500  573279.500      26.100    2100.000   \n",
       "75%       1955.000 4481736.250  861588.250      31.098    2100.000   \n",
       "max   19999979.000 5799523.000 1293206.000    1550.000    5110.000   \n",
       "\n",
       "       GROUNDELEV  SHAPE_AREA   SHAPE_LEN       BASE_BBL     MPLUTO_BBL  \n",
       "count 1084392.000 1084920.000 1084920.000    1084918.000    1084368.000  \n",
       "mean       55.099    1596.826     155.313 3562000260.428 3561844282.348  \n",
       "std        41.509    5601.416     127.149  986061947.604  986086585.783  \n",
       "min       -14.000      32.475      23.737    3064269.000    3064269.000  \n",
       "25%        25.000     652.086     109.693 3043180044.250 3043167529.750  \n",
       "50%        46.000     957.230     137.920 4019290058.000 4019180092.500  \n",
       "75%        74.000    1320.308     164.449 4106720009.500 4106690094.250  \n",
       "max       556.000 1171874.446   20017.293 5999999999.000 5999999999.000  "
      ]
     },
     "execution_count": 16,
     "metadata": {},
     "output_type": "execute_result"
    }
   ],
   "source": [
    "# printing descriptive statistics of our numeric columns in our data\n",
    "building_footprints.describe()"
   ]
  },
  {
   "cell_type": "code",
   "execution_count": 17,
   "metadata": {},
   "outputs": [
    {
     "data": {
      "text/plain": [
       "CNSTRCT_YR         1930.000\n",
       "BIN             4066824.500\n",
       "DOITT_ID         573279.500\n",
       "HEIGHTROOF           26.100\n",
       "FEAT_CODE          2100.000\n",
       "GROUNDELEV           46.000\n",
       "SHAPE_AREA          957.230\n",
       "SHAPE_LEN           137.920\n",
       "BASE_BBL     4019290058.000\n",
       "MPLUTO_BBL   4019180092.500\n",
       "dtype: float64"
      ]
     },
     "execution_count": 17,
     "metadata": {},
     "output_type": "execute_result"
    }
   ],
   "source": [
    "# calculating the median value in each columns\n",
    "# this can also be found with the describe method above at the 50% index/row\n",
    "building_footprints.median()"
   ]
  },
  {
   "cell_type": "code",
   "execution_count": 18,
   "metadata": {},
   "outputs": [
    {
     "data": {
      "text/html": [
       "<div>\n",
       "<style scoped>\n",
       "    .dataframe tbody tr th:only-of-type {\n",
       "        vertical-align: middle;\n",
       "    }\n",
       "\n",
       "    .dataframe tbody tr th {\n",
       "        vertical-align: top;\n",
       "    }\n",
       "\n",
       "    .dataframe thead th {\n",
       "        text-align: right;\n",
       "    }\n",
       "</style>\n",
       "<table border=\"1\" class=\"dataframe\">\n",
       "  <thead>\n",
       "    <tr style=\"text-align: right;\">\n",
       "      <th></th>\n",
       "      <th>CNSTRCT_YR</th>\n",
       "      <th>BIN</th>\n",
       "      <th>HEIGHTROOF</th>\n",
       "      <th>FEAT_CODE</th>\n",
       "      <th>GROUNDELEV</th>\n",
       "      <th>SHAPE_AREA</th>\n",
       "      <th>SHAPE_LEN</th>\n",
       "      <th>BASE_BBL</th>\n",
       "      <th>MPLUTO_BBL</th>\n",
       "    </tr>\n",
       "  </thead>\n",
       "  <tbody>\n",
       "    <tr>\n",
       "      <th>0</th>\n",
       "      <td>1920.000</td>\n",
       "      <td>4000000</td>\n",
       "      <td>30.000</td>\n",
       "      <td>2100.000</td>\n",
       "      <td>10.000</td>\n",
       "      <td>173.205</td>\n",
       "      <td>60.000</td>\n",
       "      <td>4163500400.000</td>\n",
       "      <td>4163500400.000</td>\n",
       "    </tr>\n",
       "  </tbody>\n",
       "</table>\n",
       "</div>"
      ],
      "text/plain": [
       "   CNSTRCT_YR      BIN  HEIGHTROOF  FEAT_CODE  GROUNDELEV  SHAPE_AREA  \\\n",
       "0    1920.000  4000000      30.000   2100.000      10.000     173.205   \n",
       "\n",
       "   SHAPE_LEN       BASE_BBL     MPLUTO_BBL  \n",
       "0     60.000 4163500400.000 4163500400.000  "
      ]
     },
     "execution_count": 18,
     "metadata": {},
     "output_type": "execute_result"
    }
   ],
   "source": [
    "building_footprints.loc[:, building_footprints.columns != 'DOITT_ID'].mode(numeric_only=True)"
   ]
  },
  {
   "cell_type": "code",
   "execution_count": 19,
   "metadata": {},
   "outputs": [
    {
     "data": {
      "text/html": [
       "<div>\n",
       "<style scoped>\n",
       "    .dataframe tbody tr th:only-of-type {\n",
       "        vertical-align: middle;\n",
       "    }\n",
       "\n",
       "    .dataframe tbody tr th {\n",
       "        vertical-align: top;\n",
       "    }\n",
       "\n",
       "    .dataframe thead th {\n",
       "        text-align: right;\n",
       "    }\n",
       "</style>\n",
       "<table border=\"1\" class=\"dataframe\">\n",
       "  <thead>\n",
       "    <tr style=\"text-align: right;\">\n",
       "      <th></th>\n",
       "      <th>0</th>\n",
       "    </tr>\n",
       "  </thead>\n",
       "  <tbody>\n",
       "    <tr>\n",
       "      <th>CNSTRCT_YR</th>\n",
       "      <td>1920.000</td>\n",
       "    </tr>\n",
       "    <tr>\n",
       "      <th>BIN</th>\n",
       "      <td>4000000.000</td>\n",
       "    </tr>\n",
       "    <tr>\n",
       "      <th>HEIGHTROOF</th>\n",
       "      <td>30.000</td>\n",
       "    </tr>\n",
       "    <tr>\n",
       "      <th>FEAT_CODE</th>\n",
       "      <td>2100.000</td>\n",
       "    </tr>\n",
       "    <tr>\n",
       "      <th>GROUNDELEV</th>\n",
       "      <td>10.000</td>\n",
       "    </tr>\n",
       "    <tr>\n",
       "      <th>SHAPE_AREA</th>\n",
       "      <td>173.205</td>\n",
       "    </tr>\n",
       "    <tr>\n",
       "      <th>SHAPE_LEN</th>\n",
       "      <td>60.000</td>\n",
       "    </tr>\n",
       "    <tr>\n",
       "      <th>BASE_BBL</th>\n",
       "      <td>4163500400.000</td>\n",
       "    </tr>\n",
       "    <tr>\n",
       "      <th>MPLUTO_BBL</th>\n",
       "      <td>4163500400.000</td>\n",
       "    </tr>\n",
       "  </tbody>\n",
       "</table>\n",
       "</div>"
      ],
      "text/plain": [
       "                        0\n",
       "CNSTRCT_YR       1920.000\n",
       "BIN           4000000.000\n",
       "HEIGHTROOF         30.000\n",
       "FEAT_CODE        2100.000\n",
       "GROUNDELEV         10.000\n",
       "SHAPE_AREA        173.205\n",
       "SHAPE_LEN          60.000\n",
       "BASE_BBL   4163500400.000\n",
       "MPLUTO_BBL 4163500400.000"
      ]
     },
     "execution_count": 19,
     "metadata": {},
     "output_type": "execute_result"
    }
   ],
   "source": [
    "building_footprints.loc[:, building_footprints.columns != 'DOITT_ID'].mode(numeric_only=True).T"
   ]
  },
  {
   "cell_type": "code",
   "execution_count": 20,
   "metadata": {},
   "outputs": [
    {
     "data": {
      "text/html": [
       "<div>\n",
       "<style scoped>\n",
       "    .dataframe tbody tr th:only-of-type {\n",
       "        vertical-align: middle;\n",
       "    }\n",
       "\n",
       "    .dataframe tbody tr th {\n",
       "        vertical-align: top;\n",
       "    }\n",
       "\n",
       "    .dataframe thead th {\n",
       "        text-align: right;\n",
       "    }\n",
       "</style>\n",
       "<table border=\"1\" class=\"dataframe\">\n",
       "  <thead>\n",
       "    <tr style=\"text-align: right;\">\n",
       "      <th></th>\n",
       "      <th>CNSTRCT_YR</th>\n",
       "      <th>BIN</th>\n",
       "      <th>DOITT_ID</th>\n",
       "      <th>HEIGHTROOF</th>\n",
       "      <th>FEAT_CODE</th>\n",
       "      <th>GROUNDELEV</th>\n",
       "      <th>SHAPE_AREA</th>\n",
       "      <th>SHAPE_LEN</th>\n",
       "      <th>BASE_BBL</th>\n",
       "      <th>MPLUTO_BBL</th>\n",
       "    </tr>\n",
       "  </thead>\n",
       "  <tbody>\n",
       "    <tr>\n",
       "      <th>CNSTRCT_YR</th>\n",
       "      <td>1.000</td>\n",
       "      <td>0.002</td>\n",
       "      <td>0.002</td>\n",
       "      <td>0.001</td>\n",
       "      <td>-0.001</td>\n",
       "      <td>0.001</td>\n",
       "      <td>-0.000</td>\n",
       "      <td>-0.001</td>\n",
       "      <td>0.002</td>\n",
       "      <td>0.002</td>\n",
       "    </tr>\n",
       "    <tr>\n",
       "      <th>BIN</th>\n",
       "      <td>0.002</td>\n",
       "      <td>1.000</td>\n",
       "      <td>0.156</td>\n",
       "      <td>-0.361</td>\n",
       "      <td>0.190</td>\n",
       "      <td>0.087</td>\n",
       "      <td>-0.101</td>\n",
       "      <td>-0.216</td>\n",
       "      <td>0.989</td>\n",
       "      <td>0.989</td>\n",
       "    </tr>\n",
       "    <tr>\n",
       "      <th>DOITT_ID</th>\n",
       "      <td>0.002</td>\n",
       "      <td>0.156</td>\n",
       "      <td>1.000</td>\n",
       "      <td>-0.177</td>\n",
       "      <td>0.551</td>\n",
       "      <td>-0.017</td>\n",
       "      <td>-0.038</td>\n",
       "      <td>-0.161</td>\n",
       "      <td>0.076</td>\n",
       "      <td>0.075</td>\n",
       "    </tr>\n",
       "    <tr>\n",
       "      <th>HEIGHTROOF</th>\n",
       "      <td>0.001</td>\n",
       "      <td>-0.361</td>\n",
       "      <td>-0.177</td>\n",
       "      <td>1.000</td>\n",
       "      <td>-0.364</td>\n",
       "      <td>-0.001</td>\n",
       "      <td>0.279</td>\n",
       "      <td>0.444</td>\n",
       "      <td>-0.330</td>\n",
       "      <td>-0.330</td>\n",
       "    </tr>\n",
       "    <tr>\n",
       "      <th>FEAT_CODE</th>\n",
       "      <td>-0.001</td>\n",
       "      <td>0.190</td>\n",
       "      <td>0.551</td>\n",
       "      <td>-0.364</td>\n",
       "      <td>1.000</td>\n",
       "      <td>0.001</td>\n",
       "      <td>-0.108</td>\n",
       "      <td>-0.311</td>\n",
       "      <td>0.089</td>\n",
       "      <td>0.089</td>\n",
       "    </tr>\n",
       "    <tr>\n",
       "      <th>GROUNDELEV</th>\n",
       "      <td>0.001</td>\n",
       "      <td>0.087</td>\n",
       "      <td>-0.017</td>\n",
       "      <td>-0.001</td>\n",
       "      <td>0.001</td>\n",
       "      <td>1.000</td>\n",
       "      <td>-0.020</td>\n",
       "      <td>-0.005</td>\n",
       "      <td>0.106</td>\n",
       "      <td>0.106</td>\n",
       "    </tr>\n",
       "    <tr>\n",
       "      <th>SHAPE_AREA</th>\n",
       "      <td>-0.000</td>\n",
       "      <td>-0.101</td>\n",
       "      <td>-0.038</td>\n",
       "      <td>0.279</td>\n",
       "      <td>-0.108</td>\n",
       "      <td>-0.020</td>\n",
       "      <td>1.000</td>\n",
       "      <td>0.785</td>\n",
       "      <td>-0.096</td>\n",
       "      <td>-0.096</td>\n",
       "    </tr>\n",
       "    <tr>\n",
       "      <th>SHAPE_LEN</th>\n",
       "      <td>-0.001</td>\n",
       "      <td>-0.216</td>\n",
       "      <td>-0.161</td>\n",
       "      <td>0.444</td>\n",
       "      <td>-0.311</td>\n",
       "      <td>-0.005</td>\n",
       "      <td>0.785</td>\n",
       "      <td>1.000</td>\n",
       "      <td>-0.191</td>\n",
       "      <td>-0.191</td>\n",
       "    </tr>\n",
       "    <tr>\n",
       "      <th>BASE_BBL</th>\n",
       "      <td>0.002</td>\n",
       "      <td>0.989</td>\n",
       "      <td>0.076</td>\n",
       "      <td>-0.330</td>\n",
       "      <td>0.089</td>\n",
       "      <td>0.106</td>\n",
       "      <td>-0.096</td>\n",
       "      <td>-0.191</td>\n",
       "      <td>1.000</td>\n",
       "      <td>1.000</td>\n",
       "    </tr>\n",
       "    <tr>\n",
       "      <th>MPLUTO_BBL</th>\n",
       "      <td>0.002</td>\n",
       "      <td>0.989</td>\n",
       "      <td>0.075</td>\n",
       "      <td>-0.330</td>\n",
       "      <td>0.089</td>\n",
       "      <td>0.106</td>\n",
       "      <td>-0.096</td>\n",
       "      <td>-0.191</td>\n",
       "      <td>1.000</td>\n",
       "      <td>1.000</td>\n",
       "    </tr>\n",
       "  </tbody>\n",
       "</table>\n",
       "</div>"
      ],
      "text/plain": [
       "            CNSTRCT_YR    BIN  DOITT_ID  HEIGHTROOF  FEAT_CODE  GROUNDELEV  \\\n",
       "CNSTRCT_YR       1.000  0.002     0.002       0.001     -0.001       0.001   \n",
       "BIN              0.002  1.000     0.156      -0.361      0.190       0.087   \n",
       "DOITT_ID         0.002  0.156     1.000      -0.177      0.551      -0.017   \n",
       "HEIGHTROOF       0.001 -0.361    -0.177       1.000     -0.364      -0.001   \n",
       "FEAT_CODE       -0.001  0.190     0.551      -0.364      1.000       0.001   \n",
       "GROUNDELEV       0.001  0.087    -0.017      -0.001      0.001       1.000   \n",
       "SHAPE_AREA      -0.000 -0.101    -0.038       0.279     -0.108      -0.020   \n",
       "SHAPE_LEN       -0.001 -0.216    -0.161       0.444     -0.311      -0.005   \n",
       "BASE_BBL         0.002  0.989     0.076      -0.330      0.089       0.106   \n",
       "MPLUTO_BBL       0.002  0.989     0.075      -0.330      0.089       0.106   \n",
       "\n",
       "            SHAPE_AREA  SHAPE_LEN  BASE_BBL  MPLUTO_BBL  \n",
       "CNSTRCT_YR      -0.000     -0.001     0.002       0.002  \n",
       "BIN             -0.101     -0.216     0.989       0.989  \n",
       "DOITT_ID        -0.038     -0.161     0.076       0.075  \n",
       "HEIGHTROOF       0.279      0.444    -0.330      -0.330  \n",
       "FEAT_CODE       -0.108     -0.311     0.089       0.089  \n",
       "GROUNDELEV      -0.020     -0.005     0.106       0.106  \n",
       "SHAPE_AREA       1.000      0.785    -0.096      -0.096  \n",
       "SHAPE_LEN        0.785      1.000    -0.191      -0.191  \n",
       "BASE_BBL        -0.096     -0.191     1.000       1.000  \n",
       "MPLUTO_BBL      -0.096     -0.191     1.000       1.000  "
      ]
     },
     "execution_count": 20,
     "metadata": {},
     "output_type": "execute_result"
    }
   ],
   "source": [
    "# compute pairwise correlation of columns, excluding NA/null values\n",
    "building_footprints.corr()"
   ]
  },
  {
   "cell_type": "code",
   "execution_count": 21,
   "metadata": {},
   "outputs": [
    {
     "data": {
      "text/html": [
       "<div>\n",
       "<style scoped>\n",
       "    .dataframe tbody tr th:only-of-type {\n",
       "        vertical-align: middle;\n",
       "    }\n",
       "\n",
       "    .dataframe tbody tr th {\n",
       "        vertical-align: top;\n",
       "    }\n",
       "\n",
       "    .dataframe thead th {\n",
       "        text-align: right;\n",
       "    }\n",
       "</style>\n",
       "<table border=\"1\" class=\"dataframe\">\n",
       "  <thead>\n",
       "    <tr style=\"text-align: right;\">\n",
       "      <th></th>\n",
       "      <th>0</th>\n",
       "      <th>1</th>\n",
       "      <th>2</th>\n",
       "      <th>3</th>\n",
       "      <th>4</th>\n",
       "      <th>5</th>\n",
       "      <th>6</th>\n",
       "      <th>7</th>\n",
       "      <th>8</th>\n",
       "      <th>9</th>\n",
       "      <th>...</th>\n",
       "      <th>1084910</th>\n",
       "      <th>1084911</th>\n",
       "      <th>1084912</th>\n",
       "      <th>1084913</th>\n",
       "      <th>1084914</th>\n",
       "      <th>1084915</th>\n",
       "      <th>1084916</th>\n",
       "      <th>1084917</th>\n",
       "      <th>1084918</th>\n",
       "      <th>1084919</th>\n",
       "    </tr>\n",
       "  </thead>\n",
       "  <tbody>\n",
       "    <tr>\n",
       "      <th>CNSTRCT_YR</th>\n",
       "      <td>2009.000</td>\n",
       "      <td>1930.000</td>\n",
       "      <td>1960.000</td>\n",
       "      <td>1920.000</td>\n",
       "      <td>1915.000</td>\n",
       "      <td>1950.000</td>\n",
       "      <td>1965.000</td>\n",
       "      <td>1935.000</td>\n",
       "      <td>2004.000</td>\n",
       "      <td>1910.000</td>\n",
       "      <td>...</td>\n",
       "      <td>2020.000</td>\n",
       "      <td>2020.000</td>\n",
       "      <td>2019.000</td>\n",
       "      <td>2020.000</td>\n",
       "      <td>2020.000</td>\n",
       "      <td>2020.000</td>\n",
       "      <td>2020.000</td>\n",
       "      <td>2020.000</td>\n",
       "      <td>2020.000</td>\n",
       "      <td>2020.000</td>\n",
       "    </tr>\n",
       "    <tr>\n",
       "      <th>BIN</th>\n",
       "      <td>3394646</td>\n",
       "      <td>4548330</td>\n",
       "      <td>4460479</td>\n",
       "      <td>3355684</td>\n",
       "      <td>3131737</td>\n",
       "      <td>4299828</td>\n",
       "      <td>4609623</td>\n",
       "      <td>4554786</td>\n",
       "      <td>3388445</td>\n",
       "      <td>3110799</td>\n",
       "      <td>...</td>\n",
       "      <td>1004377</td>\n",
       "      <td>3426086</td>\n",
       "      <td>3421372</td>\n",
       "      <td>3426439</td>\n",
       "      <td>3424693</td>\n",
       "      <td>3426817</td>\n",
       "      <td>5174859</td>\n",
       "      <td>3426084</td>\n",
       "      <td>1091631</td>\n",
       "      <td>2129380</td>\n",
       "    </tr>\n",
       "    <tr>\n",
       "      <th>the_geom</th>\n",
       "      <td>MULTIPOLYGON (((-73.87129515296562 40.65717370...</td>\n",
       "      <td>MULTIPOLYGON (((-73.87670970144625 40.71425234...</td>\n",
       "      <td>MULTIPOLYGON (((-73.85195485799383 40.66235471...</td>\n",
       "      <td>MULTIPOLYGON (((-73.94029215265738 40.64108287...</td>\n",
       "      <td>MULTIPOLYGON (((-73.98998983552244 40.62383804...</td>\n",
       "      <td>MULTIPOLYGON (((-73.7654951204543 40.611271914...</td>\n",
       "      <td>MULTIPOLYGON (((-73.85236537192253 40.75122838...</td>\n",
       "      <td>MULTIPOLYGON (((-73.71512875395307 40.73330867...</td>\n",
       "      <td>MULTIPOLYGON (((-73.94606707932263 40.66016319...</td>\n",
       "      <td>MULTIPOLYGON (((-73.94669293900293 40.64493688...</td>\n",
       "      <td>...</td>\n",
       "      <td>MULTIPOLYGON (((-73.98049301496157 40.72091279...</td>\n",
       "      <td>MULTIPOLYGON (((-73.89604579366434 40.68200134...</td>\n",
       "      <td>MULTIPOLYGON (((-73.89780276398484 40.66391978...</td>\n",
       "      <td>MULTIPOLYGON (((-73.94770260250746 40.70080692...</td>\n",
       "      <td>MULTIPOLYGON (((-73.87589160586263 40.68074641...</td>\n",
       "      <td>MULTIPOLYGON (((-73.9643115080547 40.717425039...</td>\n",
       "      <td>MULTIPOLYGON (((-74.06696583233064 40.59089916...</td>\n",
       "      <td>MULTIPOLYGON (((-73.89604506258594 40.68196798...</td>\n",
       "      <td>MULTIPOLYGON (((-73.97791985924005 40.74526931...</td>\n",
       "      <td>MULTIPOLYGON (((-73.81810674425817 40.84727909...</td>\n",
       "    </tr>\n",
       "    <tr>\n",
       "      <th>NAME</th>\n",
       "      <td>NaN</td>\n",
       "      <td>NaN</td>\n",
       "      <td>NaN</td>\n",
       "      <td>NaN</td>\n",
       "      <td>NaN</td>\n",
       "      <td>NaN</td>\n",
       "      <td>NaN</td>\n",
       "      <td>NaN</td>\n",
       "      <td>NaN</td>\n",
       "      <td>NaN</td>\n",
       "      <td>...</td>\n",
       "      <td>NaN</td>\n",
       "      <td>NaN</td>\n",
       "      <td>NaN</td>\n",
       "      <td>NaN</td>\n",
       "      <td>NaN</td>\n",
       "      <td>NaN</td>\n",
       "      <td>NaN</td>\n",
       "      <td>NaN</td>\n",
       "      <td>NaN</td>\n",
       "      <td>NaN</td>\n",
       "    </tr>\n",
       "    <tr>\n",
       "      <th>LSTMODDATE</th>\n",
       "      <td>08/22/2017 12:00:00 AM +0000</td>\n",
       "      <td>08/17/2017 12:00:00 AM +0000</td>\n",
       "      <td>08/22/2017 12:00:00 AM +0000</td>\n",
       "      <td>08/17/2017 12:00:00 AM +0000</td>\n",
       "      <td>08/22/2017 12:00:00 AM +0000</td>\n",
       "      <td>08/22/2017 12:00:00 AM +0000</td>\n",
       "      <td>08/17/2017 12:00:00 AM +0000</td>\n",
       "      <td>08/17/2017 12:00:00 AM +0000</td>\n",
       "      <td>08/22/2017 12:00:00 AM +0000</td>\n",
       "      <td>08/22/2017 12:00:00 AM +0000</td>\n",
       "      <td>...</td>\n",
       "      <td>10/08/2020 12:00:00 AM +0000</td>\n",
       "      <td>10/06/2020 12:00:00 AM +0000</td>\n",
       "      <td>10/06/2020 12:00:00 AM +0000</td>\n",
       "      <td>10/08/2020 12:00:00 AM +0000</td>\n",
       "      <td>10/06/2020 12:00:00 AM +0000</td>\n",
       "      <td>10/06/2020 12:00:00 AM +0000</td>\n",
       "      <td>10/07/2020 12:00:00 AM +0000</td>\n",
       "      <td>10/06/2020 12:00:00 AM +0000</td>\n",
       "      <td>10/09/2020 12:00:00 AM +0000</td>\n",
       "      <td>10/06/2020 12:00:00 AM +0000</td>\n",
       "    </tr>\n",
       "    <tr>\n",
       "      <th>LSTSTATYPE</th>\n",
       "      <td>Constructed</td>\n",
       "      <td>Constructed</td>\n",
       "      <td>Constructed</td>\n",
       "      <td>Constructed</td>\n",
       "      <td>Constructed</td>\n",
       "      <td>Constructed</td>\n",
       "      <td>Constructed</td>\n",
       "      <td>Constructed</td>\n",
       "      <td>Constructed</td>\n",
       "      <td>Constructed</td>\n",
       "      <td>...</td>\n",
       "      <td>Marked for Construction</td>\n",
       "      <td>Constructed</td>\n",
       "      <td>Constructed</td>\n",
       "      <td>Constructed</td>\n",
       "      <td>Constructed</td>\n",
       "      <td>Constructed</td>\n",
       "      <td>Constructed</td>\n",
       "      <td>Constructed</td>\n",
       "      <td>Marked for Construction</td>\n",
       "      <td>Constructed</td>\n",
       "    </tr>\n",
       "    <tr>\n",
       "      <th>DOITT_ID</th>\n",
       "      <td>1212853</td>\n",
       "      <td>1226227</td>\n",
       "      <td>581946</td>\n",
       "      <td>858061</td>\n",
       "      <td>568078</td>\n",
       "      <td>41210</td>\n",
       "      <td>1220055</td>\n",
       "      <td>1228515</td>\n",
       "      <td>1014893</td>\n",
       "      <td>757675</td>\n",
       "      <td>...</td>\n",
       "      <td>1293204</td>\n",
       "      <td>1293199</td>\n",
       "      <td>1293197</td>\n",
       "      <td>1293205</td>\n",
       "      <td>1292424</td>\n",
       "      <td>1293196</td>\n",
       "      <td>1293203</td>\n",
       "      <td>1293198</td>\n",
       "      <td>1293206</td>\n",
       "      <td>1293200</td>\n",
       "    </tr>\n",
       "    <tr>\n",
       "      <th>HEIGHTROOF</th>\n",
       "      <td>21.609</td>\n",
       "      <td>10.360</td>\n",
       "      <td>29.812</td>\n",
       "      <td>11.200</td>\n",
       "      <td>24.980</td>\n",
       "      <td>30.161</td>\n",
       "      <td>10.770</td>\n",
       "      <td>12.150</td>\n",
       "      <td>32.770</td>\n",
       "      <td>27.370</td>\n",
       "      <td>...</td>\n",
       "      <td>NaN</td>\n",
       "      <td>29.000</td>\n",
       "      <td>80.000</td>\n",
       "      <td>85.000</td>\n",
       "      <td>78.000</td>\n",
       "      <td>85.000</td>\n",
       "      <td>41.000</td>\n",
       "      <td>29.000</td>\n",
       "      <td>350.000</td>\n",
       "      <td>30.000</td>\n",
       "    </tr>\n",
       "    <tr>\n",
       "      <th>FEAT_CODE</th>\n",
       "      <td>2100.000</td>\n",
       "      <td>5110.000</td>\n",
       "      <td>2100.000</td>\n",
       "      <td>5110.000</td>\n",
       "      <td>2100.000</td>\n",
       "      <td>2100.000</td>\n",
       "      <td>5110.000</td>\n",
       "      <td>5110.000</td>\n",
       "      <td>2100.000</td>\n",
       "      <td>2100.000</td>\n",
       "      <td>...</td>\n",
       "      <td>1003.000</td>\n",
       "      <td>2100.000</td>\n",
       "      <td>2100.000</td>\n",
       "      <td>2100.000</td>\n",
       "      <td>2100.000</td>\n",
       "      <td>2100.000</td>\n",
       "      <td>2100.000</td>\n",
       "      <td>2100.000</td>\n",
       "      <td>5100.000</td>\n",
       "      <td>2100.000</td>\n",
       "    </tr>\n",
       "    <tr>\n",
       "      <th>GROUNDELEV</th>\n",
       "      <td>18.000</td>\n",
       "      <td>122.000</td>\n",
       "      <td>10.000</td>\n",
       "      <td>32.000</td>\n",
       "      <td>44.000</td>\n",
       "      <td>6.000</td>\n",
       "      <td>38.000</td>\n",
       "      <td>96.000</td>\n",
       "      <td>40.000</td>\n",
       "      <td>39.000</td>\n",
       "      <td>...</td>\n",
       "      <td>NaN</td>\n",
       "      <td>126.000</td>\n",
       "      <td>27.000</td>\n",
       "      <td>13.000</td>\n",
       "      <td>38.000</td>\n",
       "      <td>20.000</td>\n",
       "      <td>14.000</td>\n",
       "      <td>125.000</td>\n",
       "      <td>24.000</td>\n",
       "      <td>22.000</td>\n",
       "    </tr>\n",
       "    <tr>\n",
       "      <th>SHAPE_AREA</th>\n",
       "      <td>854.662</td>\n",
       "      <td>217.594</td>\n",
       "      <td>946.427</td>\n",
       "      <td>248.678</td>\n",
       "      <td>1163.228</td>\n",
       "      <td>1420.667</td>\n",
       "      <td>366.518</td>\n",
       "      <td>213.102</td>\n",
       "      <td>1037.407</td>\n",
       "      <td>1150.816</td>\n",
       "      <td>...</td>\n",
       "      <td>784.549</td>\n",
       "      <td>1127.377</td>\n",
       "      <td>16157.037</td>\n",
       "      <td>8039.507</td>\n",
       "      <td>34625.708</td>\n",
       "      <td>22993.525</td>\n",
       "      <td>7994.470</td>\n",
       "      <td>1160.154</td>\n",
       "      <td>5713.879</td>\n",
       "      <td>1567.583</td>\n",
       "    </tr>\n",
       "    <tr>\n",
       "      <th>SHAPE_LEN</th>\n",
       "      <td>125.080</td>\n",
       "      <td>60.226</td>\n",
       "      <td>123.142</td>\n",
       "      <td>63.941</td>\n",
       "      <td>165.609</td>\n",
       "      <td>155.916</td>\n",
       "      <td>77.166</td>\n",
       "      <td>60.121</td>\n",
       "      <td>147.770</td>\n",
       "      <td>151.861</td>\n",
       "      <td>...</td>\n",
       "      <td>130.763</td>\n",
       "      <td>164.049</td>\n",
       "      <td>591.730</td>\n",
       "      <td>394.012</td>\n",
       "      <td>856.590</td>\n",
       "      <td>725.237</td>\n",
       "      <td>411.770</td>\n",
       "      <td>164.059</td>\n",
       "      <td>303.522</td>\n",
       "      <td>168.897</td>\n",
       "    </tr>\n",
       "    <tr>\n",
       "      <th>BASE_BBL</th>\n",
       "      <td>3044520815.000</td>\n",
       "      <td>4030640041.000</td>\n",
       "      <td>4139430001.000</td>\n",
       "      <td>3049720006.000</td>\n",
       "      <td>3055100055.000</td>\n",
       "      <td>4156840062.000</td>\n",
       "      <td>4020140047.000</td>\n",
       "      <td>4086190031.000</td>\n",
       "      <td>3048020021.000</td>\n",
       "      <td>3049320062.000</td>\n",
       "      <td>...</td>\n",
       "      <td>1003720064.000</td>\n",
       "      <td>3038840229.000</td>\n",
       "      <td>3038180122.000</td>\n",
       "      <td>3022690002.000</td>\n",
       "      <td>3041420032.000</td>\n",
       "      <td>3023570001.000</td>\n",
       "      <td>5031220001.000</td>\n",
       "      <td>3038840225.000</td>\n",
       "      <td>1009140059.000</td>\n",
       "      <td>2054160125.000</td>\n",
       "    </tr>\n",
       "    <tr>\n",
       "      <th>MPLUTO_BBL</th>\n",
       "      <td>3044520815.000</td>\n",
       "      <td>4030640041.000</td>\n",
       "      <td>4139430001.000</td>\n",
       "      <td>3049720006.000</td>\n",
       "      <td>3055100055.000</td>\n",
       "      <td>4156840062.000</td>\n",
       "      <td>4020140047.000</td>\n",
       "      <td>4086190031.000</td>\n",
       "      <td>3048020021.000</td>\n",
       "      <td>3049320062.000</td>\n",
       "      <td>...</td>\n",
       "      <td>NaN</td>\n",
       "      <td>3038840229.000</td>\n",
       "      <td>NaN</td>\n",
       "      <td>NaN</td>\n",
       "      <td>NaN</td>\n",
       "      <td>NaN</td>\n",
       "      <td>5031220001.000</td>\n",
       "      <td>3038840225.000</td>\n",
       "      <td>1009140059.000</td>\n",
       "      <td>2054160125.000</td>\n",
       "    </tr>\n",
       "    <tr>\n",
       "      <th>GEOMSOURCE</th>\n",
       "      <td>Photogramm</td>\n",
       "      <td>Photogramm</td>\n",
       "      <td>Photogramm</td>\n",
       "      <td>Photogramm</td>\n",
       "      <td>Photogramm</td>\n",
       "      <td>Photogramm</td>\n",
       "      <td>Photogramm</td>\n",
       "      <td>Photogramm</td>\n",
       "      <td>Other (Man</td>\n",
       "      <td>Photogramm</td>\n",
       "      <td>...</td>\n",
       "      <td>Other (Man</td>\n",
       "      <td>Other (Man</td>\n",
       "      <td>Other (Man</td>\n",
       "      <td>Other (Man</td>\n",
       "      <td>Other (Man</td>\n",
       "      <td>Other (Man</td>\n",
       "      <td>Other (Man</td>\n",
       "      <td>Other (Man</td>\n",
       "      <td>Other (Man</td>\n",
       "      <td>Other (Man</td>\n",
       "    </tr>\n",
       "  </tbody>\n",
       "</table>\n",
       "<p>15 rows × 1084920 columns</p>\n",
       "</div>"
      ],
      "text/plain": [
       "                                                      0        \\\n",
       "CNSTRCT_YR                                           2009.000   \n",
       "BIN                                                   3394646   \n",
       "the_geom    MULTIPOLYGON (((-73.87129515296562 40.65717370...   \n",
       "NAME                                                      NaN   \n",
       "LSTMODDATE                       08/22/2017 12:00:00 AM +0000   \n",
       "LSTSTATYPE                                        Constructed   \n",
       "DOITT_ID                                              1212853   \n",
       "HEIGHTROOF                                             21.609   \n",
       "FEAT_CODE                                            2100.000   \n",
       "GROUNDELEV                                             18.000   \n",
       "SHAPE_AREA                                            854.662   \n",
       "SHAPE_LEN                                             125.080   \n",
       "BASE_BBL                                       3044520815.000   \n",
       "MPLUTO_BBL                                     3044520815.000   \n",
       "GEOMSOURCE                                         Photogramm   \n",
       "\n",
       "                                                      1        \\\n",
       "CNSTRCT_YR                                           1930.000   \n",
       "BIN                                                   4548330   \n",
       "the_geom    MULTIPOLYGON (((-73.87670970144625 40.71425234...   \n",
       "NAME                                                      NaN   \n",
       "LSTMODDATE                       08/17/2017 12:00:00 AM +0000   \n",
       "LSTSTATYPE                                        Constructed   \n",
       "DOITT_ID                                              1226227   \n",
       "HEIGHTROOF                                             10.360   \n",
       "FEAT_CODE                                            5110.000   \n",
       "GROUNDELEV                                            122.000   \n",
       "SHAPE_AREA                                            217.594   \n",
       "SHAPE_LEN                                              60.226   \n",
       "BASE_BBL                                       4030640041.000   \n",
       "MPLUTO_BBL                                     4030640041.000   \n",
       "GEOMSOURCE                                         Photogramm   \n",
       "\n",
       "                                                      2        \\\n",
       "CNSTRCT_YR                                           1960.000   \n",
       "BIN                                                   4460479   \n",
       "the_geom    MULTIPOLYGON (((-73.85195485799383 40.66235471...   \n",
       "NAME                                                      NaN   \n",
       "LSTMODDATE                       08/22/2017 12:00:00 AM +0000   \n",
       "LSTSTATYPE                                        Constructed   \n",
       "DOITT_ID                                               581946   \n",
       "HEIGHTROOF                                             29.812   \n",
       "FEAT_CODE                                            2100.000   \n",
       "GROUNDELEV                                             10.000   \n",
       "SHAPE_AREA                                            946.427   \n",
       "SHAPE_LEN                                             123.142   \n",
       "BASE_BBL                                       4139430001.000   \n",
       "MPLUTO_BBL                                     4139430001.000   \n",
       "GEOMSOURCE                                         Photogramm   \n",
       "\n",
       "                                                      3        \\\n",
       "CNSTRCT_YR                                           1920.000   \n",
       "BIN                                                   3355684   \n",
       "the_geom    MULTIPOLYGON (((-73.94029215265738 40.64108287...   \n",
       "NAME                                                      NaN   \n",
       "LSTMODDATE                       08/17/2017 12:00:00 AM +0000   \n",
       "LSTSTATYPE                                        Constructed   \n",
       "DOITT_ID                                               858061   \n",
       "HEIGHTROOF                                             11.200   \n",
       "FEAT_CODE                                            5110.000   \n",
       "GROUNDELEV                                             32.000   \n",
       "SHAPE_AREA                                            248.678   \n",
       "SHAPE_LEN                                              63.941   \n",
       "BASE_BBL                                       3049720006.000   \n",
       "MPLUTO_BBL                                     3049720006.000   \n",
       "GEOMSOURCE                                         Photogramm   \n",
       "\n",
       "                                                      4        \\\n",
       "CNSTRCT_YR                                           1915.000   \n",
       "BIN                                                   3131737   \n",
       "the_geom    MULTIPOLYGON (((-73.98998983552244 40.62383804...   \n",
       "NAME                                                      NaN   \n",
       "LSTMODDATE                       08/22/2017 12:00:00 AM +0000   \n",
       "LSTSTATYPE                                        Constructed   \n",
       "DOITT_ID                                               568078   \n",
       "HEIGHTROOF                                             24.980   \n",
       "FEAT_CODE                                            2100.000   \n",
       "GROUNDELEV                                             44.000   \n",
       "SHAPE_AREA                                           1163.228   \n",
       "SHAPE_LEN                                             165.609   \n",
       "BASE_BBL                                       3055100055.000   \n",
       "MPLUTO_BBL                                     3055100055.000   \n",
       "GEOMSOURCE                                         Photogramm   \n",
       "\n",
       "                                                      5        \\\n",
       "CNSTRCT_YR                                           1950.000   \n",
       "BIN                                                   4299828   \n",
       "the_geom    MULTIPOLYGON (((-73.7654951204543 40.611271914...   \n",
       "NAME                                                      NaN   \n",
       "LSTMODDATE                       08/22/2017 12:00:00 AM +0000   \n",
       "LSTSTATYPE                                        Constructed   \n",
       "DOITT_ID                                                41210   \n",
       "HEIGHTROOF                                             30.161   \n",
       "FEAT_CODE                                            2100.000   \n",
       "GROUNDELEV                                              6.000   \n",
       "SHAPE_AREA                                           1420.667   \n",
       "SHAPE_LEN                                             155.916   \n",
       "BASE_BBL                                       4156840062.000   \n",
       "MPLUTO_BBL                                     4156840062.000   \n",
       "GEOMSOURCE                                         Photogramm   \n",
       "\n",
       "                                                      6        \\\n",
       "CNSTRCT_YR                                           1965.000   \n",
       "BIN                                                   4609623   \n",
       "the_geom    MULTIPOLYGON (((-73.85236537192253 40.75122838...   \n",
       "NAME                                                      NaN   \n",
       "LSTMODDATE                       08/17/2017 12:00:00 AM +0000   \n",
       "LSTSTATYPE                                        Constructed   \n",
       "DOITT_ID                                              1220055   \n",
       "HEIGHTROOF                                             10.770   \n",
       "FEAT_CODE                                            5110.000   \n",
       "GROUNDELEV                                             38.000   \n",
       "SHAPE_AREA                                            366.518   \n",
       "SHAPE_LEN                                              77.166   \n",
       "BASE_BBL                                       4020140047.000   \n",
       "MPLUTO_BBL                                     4020140047.000   \n",
       "GEOMSOURCE                                         Photogramm   \n",
       "\n",
       "                                                      7        \\\n",
       "CNSTRCT_YR                                           1935.000   \n",
       "BIN                                                   4554786   \n",
       "the_geom    MULTIPOLYGON (((-73.71512875395307 40.73330867...   \n",
       "NAME                                                      NaN   \n",
       "LSTMODDATE                       08/17/2017 12:00:00 AM +0000   \n",
       "LSTSTATYPE                                        Constructed   \n",
       "DOITT_ID                                              1228515   \n",
       "HEIGHTROOF                                             12.150   \n",
       "FEAT_CODE                                            5110.000   \n",
       "GROUNDELEV                                             96.000   \n",
       "SHAPE_AREA                                            213.102   \n",
       "SHAPE_LEN                                              60.121   \n",
       "BASE_BBL                                       4086190031.000   \n",
       "MPLUTO_BBL                                     4086190031.000   \n",
       "GEOMSOURCE                                         Photogramm   \n",
       "\n",
       "                                                      8        \\\n",
       "CNSTRCT_YR                                           2004.000   \n",
       "BIN                                                   3388445   \n",
       "the_geom    MULTIPOLYGON (((-73.94606707932263 40.66016319...   \n",
       "NAME                                                      NaN   \n",
       "LSTMODDATE                       08/22/2017 12:00:00 AM +0000   \n",
       "LSTSTATYPE                                        Constructed   \n",
       "DOITT_ID                                              1014893   \n",
       "HEIGHTROOF                                             32.770   \n",
       "FEAT_CODE                                            2100.000   \n",
       "GROUNDELEV                                             40.000   \n",
       "SHAPE_AREA                                           1037.407   \n",
       "SHAPE_LEN                                             147.770   \n",
       "BASE_BBL                                       3048020021.000   \n",
       "MPLUTO_BBL                                     3048020021.000   \n",
       "GEOMSOURCE                                         Other (Man   \n",
       "\n",
       "                                                      9        ...  \\\n",
       "CNSTRCT_YR                                           1910.000  ...   \n",
       "BIN                                                   3110799  ...   \n",
       "the_geom    MULTIPOLYGON (((-73.94669293900293 40.64493688...  ...   \n",
       "NAME                                                      NaN  ...   \n",
       "LSTMODDATE                       08/22/2017 12:00:00 AM +0000  ...   \n",
       "LSTSTATYPE                                        Constructed  ...   \n",
       "DOITT_ID                                               757675  ...   \n",
       "HEIGHTROOF                                             27.370  ...   \n",
       "FEAT_CODE                                            2100.000  ...   \n",
       "GROUNDELEV                                             39.000  ...   \n",
       "SHAPE_AREA                                           1150.816  ...   \n",
       "SHAPE_LEN                                             151.861  ...   \n",
       "BASE_BBL                                       3049320062.000  ...   \n",
       "MPLUTO_BBL                                     3049320062.000  ...   \n",
       "GEOMSOURCE                                         Photogramm  ...   \n",
       "\n",
       "                                                      1084910  \\\n",
       "CNSTRCT_YR                                           2020.000   \n",
       "BIN                                                   1004377   \n",
       "the_geom    MULTIPOLYGON (((-73.98049301496157 40.72091279...   \n",
       "NAME                                                      NaN   \n",
       "LSTMODDATE                       10/08/2020 12:00:00 AM +0000   \n",
       "LSTSTATYPE                            Marked for Construction   \n",
       "DOITT_ID                                              1293204   \n",
       "HEIGHTROOF                                                NaN   \n",
       "FEAT_CODE                                            1003.000   \n",
       "GROUNDELEV                                                NaN   \n",
       "SHAPE_AREA                                            784.549   \n",
       "SHAPE_LEN                                             130.763   \n",
       "BASE_BBL                                       1003720064.000   \n",
       "MPLUTO_BBL                                                NaN   \n",
       "GEOMSOURCE                                         Other (Man   \n",
       "\n",
       "                                                      1084911  \\\n",
       "CNSTRCT_YR                                           2020.000   \n",
       "BIN                                                   3426086   \n",
       "the_geom    MULTIPOLYGON (((-73.89604579366434 40.68200134...   \n",
       "NAME                                                      NaN   \n",
       "LSTMODDATE                       10/06/2020 12:00:00 AM +0000   \n",
       "LSTSTATYPE                                        Constructed   \n",
       "DOITT_ID                                              1293199   \n",
       "HEIGHTROOF                                             29.000   \n",
       "FEAT_CODE                                            2100.000   \n",
       "GROUNDELEV                                            126.000   \n",
       "SHAPE_AREA                                           1127.377   \n",
       "SHAPE_LEN                                             164.049   \n",
       "BASE_BBL                                       3038840229.000   \n",
       "MPLUTO_BBL                                     3038840229.000   \n",
       "GEOMSOURCE                                         Other (Man   \n",
       "\n",
       "                                                      1084912  \\\n",
       "CNSTRCT_YR                                           2019.000   \n",
       "BIN                                                   3421372   \n",
       "the_geom    MULTIPOLYGON (((-73.89780276398484 40.66391978...   \n",
       "NAME                                                      NaN   \n",
       "LSTMODDATE                       10/06/2020 12:00:00 AM +0000   \n",
       "LSTSTATYPE                                        Constructed   \n",
       "DOITT_ID                                              1293197   \n",
       "HEIGHTROOF                                             80.000   \n",
       "FEAT_CODE                                            2100.000   \n",
       "GROUNDELEV                                             27.000   \n",
       "SHAPE_AREA                                          16157.037   \n",
       "SHAPE_LEN                                             591.730   \n",
       "BASE_BBL                                       3038180122.000   \n",
       "MPLUTO_BBL                                                NaN   \n",
       "GEOMSOURCE                                         Other (Man   \n",
       "\n",
       "                                                      1084913  \\\n",
       "CNSTRCT_YR                                           2020.000   \n",
       "BIN                                                   3426439   \n",
       "the_geom    MULTIPOLYGON (((-73.94770260250746 40.70080692...   \n",
       "NAME                                                      NaN   \n",
       "LSTMODDATE                       10/08/2020 12:00:00 AM +0000   \n",
       "LSTSTATYPE                                        Constructed   \n",
       "DOITT_ID                                              1293205   \n",
       "HEIGHTROOF                                             85.000   \n",
       "FEAT_CODE                                            2100.000   \n",
       "GROUNDELEV                                             13.000   \n",
       "SHAPE_AREA                                           8039.507   \n",
       "SHAPE_LEN                                             394.012   \n",
       "BASE_BBL                                       3022690002.000   \n",
       "MPLUTO_BBL                                                NaN   \n",
       "GEOMSOURCE                                         Other (Man   \n",
       "\n",
       "                                                      1084914  \\\n",
       "CNSTRCT_YR                                           2020.000   \n",
       "BIN                                                   3424693   \n",
       "the_geom    MULTIPOLYGON (((-73.87589160586263 40.68074641...   \n",
       "NAME                                                      NaN   \n",
       "LSTMODDATE                       10/06/2020 12:00:00 AM +0000   \n",
       "LSTSTATYPE                                        Constructed   \n",
       "DOITT_ID                                              1292424   \n",
       "HEIGHTROOF                                             78.000   \n",
       "FEAT_CODE                                            2100.000   \n",
       "GROUNDELEV                                             38.000   \n",
       "SHAPE_AREA                                          34625.708   \n",
       "SHAPE_LEN                                             856.590   \n",
       "BASE_BBL                                       3041420032.000   \n",
       "MPLUTO_BBL                                                NaN   \n",
       "GEOMSOURCE                                         Other (Man   \n",
       "\n",
       "                                                      1084915  \\\n",
       "CNSTRCT_YR                                           2020.000   \n",
       "BIN                                                   3426817   \n",
       "the_geom    MULTIPOLYGON (((-73.9643115080547 40.717425039...   \n",
       "NAME                                                      NaN   \n",
       "LSTMODDATE                       10/06/2020 12:00:00 AM +0000   \n",
       "LSTSTATYPE                                        Constructed   \n",
       "DOITT_ID                                              1293196   \n",
       "HEIGHTROOF                                             85.000   \n",
       "FEAT_CODE                                            2100.000   \n",
       "GROUNDELEV                                             20.000   \n",
       "SHAPE_AREA                                          22993.525   \n",
       "SHAPE_LEN                                             725.237   \n",
       "BASE_BBL                                       3023570001.000   \n",
       "MPLUTO_BBL                                                NaN   \n",
       "GEOMSOURCE                                         Other (Man   \n",
       "\n",
       "                                                      1084916  \\\n",
       "CNSTRCT_YR                                           2020.000   \n",
       "BIN                                                   5174859   \n",
       "the_geom    MULTIPOLYGON (((-74.06696583233064 40.59089916...   \n",
       "NAME                                                      NaN   \n",
       "LSTMODDATE                       10/07/2020 12:00:00 AM +0000   \n",
       "LSTSTATYPE                                        Constructed   \n",
       "DOITT_ID                                              1293203   \n",
       "HEIGHTROOF                                             41.000   \n",
       "FEAT_CODE                                            2100.000   \n",
       "GROUNDELEV                                             14.000   \n",
       "SHAPE_AREA                                           7994.470   \n",
       "SHAPE_LEN                                             411.770   \n",
       "BASE_BBL                                       5031220001.000   \n",
       "MPLUTO_BBL                                     5031220001.000   \n",
       "GEOMSOURCE                                         Other (Man   \n",
       "\n",
       "                                                      1084917  \\\n",
       "CNSTRCT_YR                                           2020.000   \n",
       "BIN                                                   3426084   \n",
       "the_geom    MULTIPOLYGON (((-73.89604506258594 40.68196798...   \n",
       "NAME                                                      NaN   \n",
       "LSTMODDATE                       10/06/2020 12:00:00 AM +0000   \n",
       "LSTSTATYPE                                        Constructed   \n",
       "DOITT_ID                                              1293198   \n",
       "HEIGHTROOF                                             29.000   \n",
       "FEAT_CODE                                            2100.000   \n",
       "GROUNDELEV                                            125.000   \n",
       "SHAPE_AREA                                           1160.154   \n",
       "SHAPE_LEN                                             164.059   \n",
       "BASE_BBL                                       3038840225.000   \n",
       "MPLUTO_BBL                                     3038840225.000   \n",
       "GEOMSOURCE                                         Other (Man   \n",
       "\n",
       "                                                      1084918  \\\n",
       "CNSTRCT_YR                                           2020.000   \n",
       "BIN                                                   1091631   \n",
       "the_geom    MULTIPOLYGON (((-73.97791985924005 40.74526931...   \n",
       "NAME                                                      NaN   \n",
       "LSTMODDATE                       10/09/2020 12:00:00 AM +0000   \n",
       "LSTSTATYPE                            Marked for Construction   \n",
       "DOITT_ID                                              1293206   \n",
       "HEIGHTROOF                                            350.000   \n",
       "FEAT_CODE                                            5100.000   \n",
       "GROUNDELEV                                             24.000   \n",
       "SHAPE_AREA                                           5713.879   \n",
       "SHAPE_LEN                                             303.522   \n",
       "BASE_BBL                                       1009140059.000   \n",
       "MPLUTO_BBL                                     1009140059.000   \n",
       "GEOMSOURCE                                         Other (Man   \n",
       "\n",
       "                                                      1084919  \n",
       "CNSTRCT_YR                                           2020.000  \n",
       "BIN                                                   2129380  \n",
       "the_geom    MULTIPOLYGON (((-73.81810674425817 40.84727909...  \n",
       "NAME                                                      NaN  \n",
       "LSTMODDATE                       10/06/2020 12:00:00 AM +0000  \n",
       "LSTSTATYPE                                        Constructed  \n",
       "DOITT_ID                                              1293200  \n",
       "HEIGHTROOF                                             30.000  \n",
       "FEAT_CODE                                            2100.000  \n",
       "GROUNDELEV                                             22.000  \n",
       "SHAPE_AREA                                           1567.583  \n",
       "SHAPE_LEN                                             168.897  \n",
       "BASE_BBL                                       2054160125.000  \n",
       "MPLUTO_BBL                                     2054160125.000  \n",
       "GEOMSOURCE                                         Other (Man  \n",
       "\n",
       "[15 rows x 1084920 columns]"
      ]
     },
     "execution_count": 21,
     "metadata": {},
     "output_type": "execute_result"
    }
   ],
   "source": [
    "building_footprints.T"
   ]
  },
  {
   "cell_type": "markdown",
   "metadata": {},
   "source": [
    "## 3.3 Identifying Null/NA Values"
   ]
  },
  {
   "cell_type": "markdown",
   "metadata": {},
   "source": [
    "This is a *very important* step that is often overlooked. We don't want to perform any statistics on columns with null values."
   ]
  },
  {
   "cell_type": "code",
   "execution_count": 22,
   "metadata": {},
   "outputs": [
    {
     "data": {
      "text/plain": [
       "CNSTRCT_YR       4881\n",
       "BIN                 0\n",
       "the_geom            0\n",
       "NAME          1083168\n",
       "LSTMODDATE          0\n",
       "LSTSTATYPE        187\n",
       "DOITT_ID            0\n",
       "HEIGHTROOF       2664\n",
       "FEAT_CODE           9\n",
       "GROUNDELEV        528\n",
       "SHAPE_AREA          0\n",
       "SHAPE_LEN           0\n",
       "BASE_BBL            2\n",
       "MPLUTO_BBL        552\n",
       "GEOMSOURCE        216\n",
       "dtype: int64"
      ]
     },
     "execution_count": 22,
     "metadata": {},
     "output_type": "execute_result"
    }
   ],
   "source": [
    "# printing the number of null/na values in each column\n",
    "building_footprints.isna().sum()"
   ]
  },
  {
   "cell_type": "code",
   "execution_count": 23,
   "metadata": {},
   "outputs": [
    {
     "data": {
      "text/plain": [
       "1092207"
      ]
     },
     "execution_count": 23,
     "metadata": {},
     "output_type": "execute_result"
    }
   ],
   "source": [
    "# printing the total amount of null/na values in our data\n",
    "building_footprints.isnull().sum().sum()"
   ]
  },
  {
   "cell_type": "markdown",
   "metadata": {},
   "source": [
    "# 4. Data Cleaning/Wrangling"
   ]
  },
  {
   "cell_type": "markdown",
   "metadata": {},
   "source": [
    "We will be cleaning the **Construction Year** (i.e. CNSTRCT_YR) column, as this is the column we will be using in our analysis."
   ]
  },
  {
   "cell_type": "markdown",
   "metadata": {},
   "source": [
    "## 4.1 Previewing Column Values"
   ]
  },
  {
   "cell_type": "code",
   "execution_count": 24,
   "metadata": {},
   "outputs": [
    {
     "data": {
      "text/plain": [
       "pandas.core.series.Series"
      ]
     },
     "execution_count": 24,
     "metadata": {},
     "output_type": "execute_result"
    }
   ],
   "source": [
    "type(building_footprints['CNSTRCT_YR'])"
   ]
  },
  {
   "cell_type": "code",
   "execution_count": 25,
   "metadata": {},
   "outputs": [
    {
     "data": {
      "text/html": [
       "<div>\n",
       "<style scoped>\n",
       "    .dataframe tbody tr th:only-of-type {\n",
       "        vertical-align: middle;\n",
       "    }\n",
       "\n",
       "    .dataframe tbody tr th {\n",
       "        vertical-align: top;\n",
       "    }\n",
       "\n",
       "    .dataframe thead th {\n",
       "        text-align: right;\n",
       "    }\n",
       "</style>\n",
       "<table border=\"1\" class=\"dataframe\">\n",
       "  <thead>\n",
       "    <tr style=\"text-align: right;\">\n",
       "      <th></th>\n",
       "      <th>CNSTRCT_YR</th>\n",
       "      <th>BIN</th>\n",
       "      <th>the_geom</th>\n",
       "      <th>NAME</th>\n",
       "      <th>LSTMODDATE</th>\n",
       "      <th>LSTSTATYPE</th>\n",
       "      <th>DOITT_ID</th>\n",
       "      <th>HEIGHTROOF</th>\n",
       "      <th>FEAT_CODE</th>\n",
       "      <th>GROUNDELEV</th>\n",
       "      <th>SHAPE_AREA</th>\n",
       "      <th>SHAPE_LEN</th>\n",
       "      <th>BASE_BBL</th>\n",
       "      <th>MPLUTO_BBL</th>\n",
       "      <th>GEOMSOURCE</th>\n",
       "    </tr>\n",
       "  </thead>\n",
       "  <tbody>\n",
       "    <tr>\n",
       "      <th>242965</th>\n",
       "      <td>0.000</td>\n",
       "      <td>4539821</td>\n",
       "      <td>MULTIPOLYGON (((-73.77552135849106 40.79488921...</td>\n",
       "      <td>NaN</td>\n",
       "      <td>08/22/2017 12:00:00 AM +0000</td>\n",
       "      <td>Constructed</td>\n",
       "      <td>359561</td>\n",
       "      <td>46.800</td>\n",
       "      <td>2100.000</td>\n",
       "      <td>31.000</td>\n",
       "      <td>5023.538</td>\n",
       "      <td>345.741</td>\n",
       "      <td>4059170001.000</td>\n",
       "      <td>4059170001.000</td>\n",
       "      <td>Photogramm</td>\n",
       "    </tr>\n",
       "    <tr>\n",
       "      <th>284921</th>\n",
       "      <td>0.000</td>\n",
       "      <td>5115257</td>\n",
       "      <td>MULTIPOLYGON (((-74.146215162713 40.5700554040...</td>\n",
       "      <td>NaN</td>\n",
       "      <td>08/22/2017 12:00:00 AM +0000</td>\n",
       "      <td>Constructed</td>\n",
       "      <td>1216594</td>\n",
       "      <td>10.165</td>\n",
       "      <td>5110.000</td>\n",
       "      <td>38.000</td>\n",
       "      <td>339.869</td>\n",
       "      <td>79.749</td>\n",
       "      <td>5044670047.000</td>\n",
       "      <td>5044670047.000</td>\n",
       "      <td>Photogramm</td>\n",
       "    </tr>\n",
       "    <tr>\n",
       "      <th>583921</th>\n",
       "      <td>0.000</td>\n",
       "      <td>4616151</td>\n",
       "      <td>MULTIPOLYGON (((-73.76906604533796 40.70918866...</td>\n",
       "      <td>NaN</td>\n",
       "      <td>09/19/2017 12:00:00 AM +0000</td>\n",
       "      <td>Constructed</td>\n",
       "      <td>1195192</td>\n",
       "      <td>12.318</td>\n",
       "      <td>2100.000</td>\n",
       "      <td>52.000</td>\n",
       "      <td>820.012</td>\n",
       "      <td>116.108</td>\n",
       "      <td>4103530208.000</td>\n",
       "      <td>4103530208.000</td>\n",
       "      <td>Other (Man</td>\n",
       "    </tr>\n",
       "    <tr>\n",
       "      <th>30650</th>\n",
       "      <td>0.000</td>\n",
       "      <td>4542961</td>\n",
       "      <td>MULTIPOLYGON (((-73.94509337310036 40.75895518...</td>\n",
       "      <td>NaN</td>\n",
       "      <td>09/14/2017 12:00:00 AM +0000</td>\n",
       "      <td>Constructed</td>\n",
       "      <td>426228</td>\n",
       "      <td>22.760</td>\n",
       "      <td>2100.000</td>\n",
       "      <td>14.000</td>\n",
       "      <td>5293.033</td>\n",
       "      <td>311.754</td>\n",
       "      <td>4003570001.000</td>\n",
       "      <td>4003570001.000</td>\n",
       "      <td>Photogramm</td>\n",
       "    </tr>\n",
       "    <tr>\n",
       "      <th>284749</th>\n",
       "      <td>0.000</td>\n",
       "      <td>4572346</td>\n",
       "      <td>MULTIPOLYGON (((-73.72547066175497 40.74488322...</td>\n",
       "      <td>NaN</td>\n",
       "      <td>09/13/2013 12:00:00 AM +0000</td>\n",
       "      <td>Constructed</td>\n",
       "      <td>511197</td>\n",
       "      <td>17.130</td>\n",
       "      <td>2100.000</td>\n",
       "      <td>119.000</td>\n",
       "      <td>14371.072</td>\n",
       "      <td>543.614</td>\n",
       "      <td>4084010150.000</td>\n",
       "      <td>4084010150.000</td>\n",
       "      <td>Photogramm</td>\n",
       "    </tr>\n",
       "  </tbody>\n",
       "</table>\n",
       "</div>"
      ],
      "text/plain": [
       "        CNSTRCT_YR      BIN  \\\n",
       "242965       0.000  4539821   \n",
       "284921       0.000  5115257   \n",
       "583921       0.000  4616151   \n",
       "30650        0.000  4542961   \n",
       "284749       0.000  4572346   \n",
       "\n",
       "                                                 the_geom NAME  \\\n",
       "242965  MULTIPOLYGON (((-73.77552135849106 40.79488921...  NaN   \n",
       "284921  MULTIPOLYGON (((-74.146215162713 40.5700554040...  NaN   \n",
       "583921  MULTIPOLYGON (((-73.76906604533796 40.70918866...  NaN   \n",
       "30650   MULTIPOLYGON (((-73.94509337310036 40.75895518...  NaN   \n",
       "284749  MULTIPOLYGON (((-73.72547066175497 40.74488322...  NaN   \n",
       "\n",
       "                          LSTMODDATE   LSTSTATYPE  DOITT_ID  HEIGHTROOF  \\\n",
       "242965  08/22/2017 12:00:00 AM +0000  Constructed    359561      46.800   \n",
       "284921  08/22/2017 12:00:00 AM +0000  Constructed   1216594      10.165   \n",
       "583921  09/19/2017 12:00:00 AM +0000  Constructed   1195192      12.318   \n",
       "30650   09/14/2017 12:00:00 AM +0000  Constructed    426228      22.760   \n",
       "284749  09/13/2013 12:00:00 AM +0000  Constructed    511197      17.130   \n",
       "\n",
       "        FEAT_CODE  GROUNDELEV  SHAPE_AREA  SHAPE_LEN       BASE_BBL  \\\n",
       "242965   2100.000      31.000    5023.538    345.741 4059170001.000   \n",
       "284921   5110.000      38.000     339.869     79.749 5044670047.000   \n",
       "583921   2100.000      52.000     820.012    116.108 4103530208.000   \n",
       "30650    2100.000      14.000    5293.033    311.754 4003570001.000   \n",
       "284749   2100.000     119.000   14371.072    543.614 4084010150.000   \n",
       "\n",
       "           MPLUTO_BBL  GEOMSOURCE  \n",
       "242965 4059170001.000  Photogramm  \n",
       "284921 5044670047.000  Photogramm  \n",
       "583921 4103530208.000  Other (Man  \n",
       "30650  4003570001.000  Photogramm  \n",
       "284749 4084010150.000  Photogramm  "
      ]
     },
     "execution_count": 25,
     "metadata": {},
     "output_type": "execute_result"
    }
   ],
   "source": [
    "# printing the first five rows of our data sorted by the 'CNSTRCT_YR' column in ascending order\n",
    "building_footprints.sort_values('CNSTRCT_YR').head()"
   ]
  },
  {
   "cell_type": "code",
   "execution_count": 26,
   "metadata": {},
   "outputs": [
    {
     "data": {
      "text/html": [
       "<div>\n",
       "<style scoped>\n",
       "    .dataframe tbody tr th:only-of-type {\n",
       "        vertical-align: middle;\n",
       "    }\n",
       "\n",
       "    .dataframe tbody tr th {\n",
       "        vertical-align: top;\n",
       "    }\n",
       "\n",
       "    .dataframe thead th {\n",
       "        text-align: right;\n",
       "    }\n",
       "</style>\n",
       "<table border=\"1\" class=\"dataframe\">\n",
       "  <thead>\n",
       "    <tr style=\"text-align: right;\">\n",
       "      <th></th>\n",
       "      <th>CNSTRCT_YR</th>\n",
       "      <th>BIN</th>\n",
       "      <th>the_geom</th>\n",
       "      <th>NAME</th>\n",
       "      <th>LSTMODDATE</th>\n",
       "      <th>LSTSTATYPE</th>\n",
       "      <th>DOITT_ID</th>\n",
       "      <th>HEIGHTROOF</th>\n",
       "      <th>FEAT_CODE</th>\n",
       "      <th>GROUNDELEV</th>\n",
       "      <th>SHAPE_AREA</th>\n",
       "      <th>SHAPE_LEN</th>\n",
       "      <th>BASE_BBL</th>\n",
       "      <th>MPLUTO_BBL</th>\n",
       "      <th>GEOMSOURCE</th>\n",
       "    </tr>\n",
       "  </thead>\n",
       "  <tbody>\n",
       "    <tr>\n",
       "      <th>1056575</th>\n",
       "      <td>19999979.000</td>\n",
       "      <td>5171292</td>\n",
       "      <td>MULTIPOLYGON (((-74.16106976376206 40.58166589...</td>\n",
       "      <td>NaN</td>\n",
       "      <td>01/22/2019 12:00:00 AM +0000</td>\n",
       "      <td>Constructed</td>\n",
       "      <td>1287742</td>\n",
       "      <td>43.530</td>\n",
       "      <td>2100.000</td>\n",
       "      <td>68.000</td>\n",
       "      <td>347.825</td>\n",
       "      <td>75.359</td>\n",
       "      <td>5024500240.000</td>\n",
       "      <td>5024507505.000</td>\n",
       "      <td>Other (Man</td>\n",
       "    </tr>\n",
       "    <tr>\n",
       "      <th>840992</th>\n",
       "      <td>20115.000</td>\n",
       "      <td>5165187</td>\n",
       "      <td>MULTIPOLYGON (((-74.144838646532 40.6162472403...</td>\n",
       "      <td>NaN</td>\n",
       "      <td>12/05/2019 12:00:00 AM +0000</td>\n",
       "      <td>Constructed</td>\n",
       "      <td>1291251</td>\n",
       "      <td>31.000</td>\n",
       "      <td>2100.000</td>\n",
       "      <td>40.000</td>\n",
       "      <td>1124.997</td>\n",
       "      <td>140.000</td>\n",
       "      <td>5004770044.000</td>\n",
       "      <td>5004770044.000</td>\n",
       "      <td>Other (Man</td>\n",
       "    </tr>\n",
       "    <tr>\n",
       "      <th>518182</th>\n",
       "      <td>20004.000</td>\n",
       "      <td>5018663</td>\n",
       "      <td>MULTIPOLYGON (((-74.13682929776881 40.61168969...</td>\n",
       "      <td>NaN</td>\n",
       "      <td>08/16/2019 12:00:00 AM +0000</td>\n",
       "      <td>Constructed</td>\n",
       "      <td>1288905</td>\n",
       "      <td>28.400</td>\n",
       "      <td>2100.000</td>\n",
       "      <td>89.000</td>\n",
       "      <td>702.366</td>\n",
       "      <td>127.117</td>\n",
       "      <td>5007350170.000</td>\n",
       "      <td>5007350170.000</td>\n",
       "      <td>Other (Man</td>\n",
       "    </tr>\n",
       "    <tr>\n",
       "      <th>743240</th>\n",
       "      <td>20000.000</td>\n",
       "      <td>1082416</td>\n",
       "      <td>MULTIPOLYGON (((-73.988920998115 40.7645846572...</td>\n",
       "      <td>NaN</td>\n",
       "      <td>03/09/2018 12:00:00 AM +0000</td>\n",
       "      <td>Alteration</td>\n",
       "      <td>97464</td>\n",
       "      <td>74.210</td>\n",
       "      <td>2100.000</td>\n",
       "      <td>52.000</td>\n",
       "      <td>3678.718</td>\n",
       "      <td>298.770</td>\n",
       "      <td>1010610027.000</td>\n",
       "      <td>1010610027.000</td>\n",
       "      <td>Other (Man</td>\n",
       "    </tr>\n",
       "    <tr>\n",
       "      <th>64079</th>\n",
       "      <td>20000.000</td>\n",
       "      <td>2129310</td>\n",
       "      <td>MULTIPOLYGON (((-73.90852861892834 40.82877161...</td>\n",
       "      <td>NaN</td>\n",
       "      <td>11/05/2018 12:00:00 AM +0000</td>\n",
       "      <td>Constructed</td>\n",
       "      <td>1285830</td>\n",
       "      <td>10.000</td>\n",
       "      <td>1000.000</td>\n",
       "      <td>32.000</td>\n",
       "      <td>373.099</td>\n",
       "      <td>86.566</td>\n",
       "      <td>2023880061.000</td>\n",
       "      <td>2023880061.000</td>\n",
       "      <td>Other (Man</td>\n",
       "    </tr>\n",
       "  </tbody>\n",
       "</table>\n",
       "</div>"
      ],
      "text/plain": [
       "          CNSTRCT_YR      BIN  \\\n",
       "1056575 19999979.000  5171292   \n",
       "840992     20115.000  5165187   \n",
       "518182     20004.000  5018663   \n",
       "743240     20000.000  1082416   \n",
       "64079      20000.000  2129310   \n",
       "\n",
       "                                                  the_geom NAME  \\\n",
       "1056575  MULTIPOLYGON (((-74.16106976376206 40.58166589...  NaN   \n",
       "840992   MULTIPOLYGON (((-74.144838646532 40.6162472403...  NaN   \n",
       "518182   MULTIPOLYGON (((-74.13682929776881 40.61168969...  NaN   \n",
       "743240   MULTIPOLYGON (((-73.988920998115 40.7645846572...  NaN   \n",
       "64079    MULTIPOLYGON (((-73.90852861892834 40.82877161...  NaN   \n",
       "\n",
       "                           LSTMODDATE   LSTSTATYPE  DOITT_ID  HEIGHTROOF  \\\n",
       "1056575  01/22/2019 12:00:00 AM +0000  Constructed   1287742      43.530   \n",
       "840992   12/05/2019 12:00:00 AM +0000  Constructed   1291251      31.000   \n",
       "518182   08/16/2019 12:00:00 AM +0000  Constructed   1288905      28.400   \n",
       "743240   03/09/2018 12:00:00 AM +0000   Alteration     97464      74.210   \n",
       "64079    11/05/2018 12:00:00 AM +0000  Constructed   1285830      10.000   \n",
       "\n",
       "         FEAT_CODE  GROUNDELEV  SHAPE_AREA  SHAPE_LEN       BASE_BBL  \\\n",
       "1056575   2100.000      68.000     347.825     75.359 5024500240.000   \n",
       "840992    2100.000      40.000    1124.997    140.000 5004770044.000   \n",
       "518182    2100.000      89.000     702.366    127.117 5007350170.000   \n",
       "743240    2100.000      52.000    3678.718    298.770 1010610027.000   \n",
       "64079     1000.000      32.000     373.099     86.566 2023880061.000   \n",
       "\n",
       "            MPLUTO_BBL  GEOMSOURCE  \n",
       "1056575 5024507505.000  Other (Man  \n",
       "840992  5004770044.000  Other (Man  \n",
       "518182  5007350170.000  Other (Man  \n",
       "743240  1010610027.000  Other (Man  \n",
       "64079   2023880061.000  Other (Man  "
      ]
     },
     "execution_count": 26,
     "metadata": {},
     "output_type": "execute_result"
    }
   ],
   "source": [
    "# printing the first five rows of our data sorted by the 'CNSTRCT_YR' column in descending order\n",
    "building_footprints.sort_values('CNSTRCT_YR',ascending=False).head()"
   ]
  },
  {
   "cell_type": "code",
   "execution_count": 27,
   "metadata": {},
   "outputs": [
    {
     "data": {
      "text/html": [
       "<div>\n",
       "<style scoped>\n",
       "    .dataframe tbody tr th:only-of-type {\n",
       "        vertical-align: middle;\n",
       "    }\n",
       "\n",
       "    .dataframe tbody tr th {\n",
       "        vertical-align: top;\n",
       "    }\n",
       "\n",
       "    .dataframe thead th {\n",
       "        text-align: right;\n",
       "    }\n",
       "</style>\n",
       "<table border=\"1\" class=\"dataframe\">\n",
       "  <thead>\n",
       "    <tr style=\"text-align: right;\">\n",
       "      <th></th>\n",
       "      <th>index</th>\n",
       "      <th>CNSTRCT_YR</th>\n",
       "    </tr>\n",
       "  </thead>\n",
       "  <tbody>\n",
       "    <tr>\n",
       "      <th>0</th>\n",
       "      <td>count</td>\n",
       "      <td>1080039.000</td>\n",
       "    </tr>\n",
       "    <tr>\n",
       "      <th>1</th>\n",
       "      <td>mean</td>\n",
       "      <td>1946.642</td>\n",
       "    </tr>\n",
       "    <tr>\n",
       "      <th>2</th>\n",
       "      <td>std</td>\n",
       "      <td>19243.391</td>\n",
       "    </tr>\n",
       "    <tr>\n",
       "      <th>3</th>\n",
       "      <td>min</td>\n",
       "      <td>0.000</td>\n",
       "    </tr>\n",
       "    <tr>\n",
       "      <th>4</th>\n",
       "      <td>25%</td>\n",
       "      <td>1920.000</td>\n",
       "    </tr>\n",
       "    <tr>\n",
       "      <th>5</th>\n",
       "      <td>50%</td>\n",
       "      <td>1930.000</td>\n",
       "    </tr>\n",
       "    <tr>\n",
       "      <th>6</th>\n",
       "      <td>75%</td>\n",
       "      <td>1955.000</td>\n",
       "    </tr>\n",
       "    <tr>\n",
       "      <th>7</th>\n",
       "      <td>max</td>\n",
       "      <td>19999979.000</td>\n",
       "    </tr>\n",
       "  </tbody>\n",
       "</table>\n",
       "</div>"
      ],
      "text/plain": [
       "   index   CNSTRCT_YR\n",
       "0  count  1080039.000\n",
       "1   mean     1946.642\n",
       "2    std    19243.391\n",
       "3    min        0.000\n",
       "4    25%     1920.000\n",
       "5    50%     1930.000\n",
       "6    75%     1955.000\n",
       "7    max 19999979.000"
      ]
     },
     "execution_count": 27,
     "metadata": {},
     "output_type": "execute_result"
    }
   ],
   "source": [
    "building_footprints['CNSTRCT_YR'].describe().reset_index()"
   ]
  },
  {
   "cell_type": "code",
   "execution_count": 28,
   "metadata": {},
   "outputs": [
    {
     "data": {
      "text/html": [
       "<div>\n",
       "<style scoped>\n",
       "    .dataframe tbody tr th:only-of-type {\n",
       "        vertical-align: middle;\n",
       "    }\n",
       "\n",
       "    .dataframe tbody tr th {\n",
       "        vertical-align: top;\n",
       "    }\n",
       "\n",
       "    .dataframe thead th {\n",
       "        text-align: right;\n",
       "    }\n",
       "</style>\n",
       "<table border=\"1\" class=\"dataframe\">\n",
       "  <thead>\n",
       "    <tr style=\"text-align: right;\">\n",
       "      <th></th>\n",
       "      <th>index</th>\n",
       "      <th>0</th>\n",
       "    </tr>\n",
       "  </thead>\n",
       "  <tbody>\n",
       "    <tr>\n",
       "      <th>0</th>\n",
       "      <td>0</td>\n",
       "      <td>1920.000</td>\n",
       "    </tr>\n",
       "  </tbody>\n",
       "</table>\n",
       "</div>"
      ],
      "text/plain": [
       "   index        0\n",
       "0      0 1920.000"
      ]
     },
     "execution_count": 28,
     "metadata": {},
     "output_type": "execute_result"
    }
   ],
   "source": [
    "building_footprints['CNSTRCT_YR'].mode().reset_index()"
   ]
  },
  {
   "cell_type": "code",
   "execution_count": 29,
   "metadata": {},
   "outputs": [
    {
     "data": {
      "text/plain": [
       "True"
      ]
     },
     "execution_count": 29,
     "metadata": {},
     "output_type": "execute_result"
    }
   ],
   "source": [
    "building_footprints['CNSTRCT_YR'].isnull().values.any()"
   ]
  },
  {
   "cell_type": "code",
   "execution_count": 30,
   "metadata": {},
   "outputs": [
    {
     "data": {
      "text/plain": [
       "4881"
      ]
     },
     "execution_count": 30,
     "metadata": {},
     "output_type": "execute_result"
    }
   ],
   "source": [
    "# summing all the null/na values in our 'CNSTRCT_YR' column\n",
    "building_footprints['CNSTRCT_YR'].isna().sum()"
   ]
  },
  {
   "cell_type": "code",
   "execution_count": 31,
   "metadata": {},
   "outputs": [
    {
     "data": {
      "text/plain": [
       "1080039"
      ]
     },
     "execution_count": 31,
     "metadata": {},
     "output_type": "execute_result"
    }
   ],
   "source": [
    "# summing all the null/na values in our 'CNSTRCT_YR' column\n",
    "building_footprints['CNSTRCT_YR'].notnull().sum()"
   ]
  },
  {
   "cell_type": "code",
   "execution_count": 32,
   "metadata": {},
   "outputs": [
    {
     "name": "stdout",
     "output_type": "stream",
     "text": [
      "0.45 %\n"
     ]
    }
   ],
   "source": [
    "# summing all the null/na values in our 'CNSTRCT_YR' column\n",
    "print((building_footprints['CNSTRCT_YR'].isna().sum()*100/len(building_footprints)).round(2),'%')"
   ]
  },
  {
   "cell_type": "code",
   "execution_count": 33,
   "metadata": {},
   "outputs": [
    {
     "name": "stdout",
     "output_type": "stream",
     "text": [
      "99.55 %\n"
     ]
    }
   ],
   "source": [
    "# summing all the null/na values in our 'CNSTRCT_YR' column\n",
    "print((building_footprints['CNSTRCT_YR'].notnull().sum()*100/len(building_footprints)).round(2), '%')"
   ]
  },
  {
   "cell_type": "markdown",
   "metadata": {},
   "source": [
    "# Identifying Outliers"
   ]
  },
  {
   "cell_type": "code",
   "execution_count": 34,
   "metadata": {},
   "outputs": [
    {
     "data": {
      "text/plain": [
       "Text(0.5, 1.0, 'Histogram of Construction Year Values')"
      ]
     },
     "execution_count": 34,
     "metadata": {},
     "output_type": "execute_result"
    },
    {
     "data": {
      "image/png": "[encoded data removed]",
      "text/plain": [
       "<Figure size 1080x720 with 1 Axes>"
      ]
     },
     "metadata": {
      "needs_background": "light"
     },
     "output_type": "display_data"
    }
   ],
   "source": [
    "# making a histogram of our 'CNSTRCT_YR' column with 10 bins\n",
    "building_footprints['CNSTRCT_YR'].hist(figsize=(15,10), bins=25)\n",
    "plt.xlabel('Construction Year', fontsize=15)\n",
    "plt.ylabel('Counts', fontsize=15)\n",
    "plt.title('Histogram of Construction Year Values', fontsize=15)"
   ]
  },
  {
   "cell_type": "code",
   "execution_count": 35,
   "metadata": {},
   "outputs": [
    {
     "data": {
      "text/plain": [
       "Text(0.5, 1.0, 'Histogram of Construction Year Values')"
      ]
     },
     "execution_count": 35,
     "metadata": {},
     "output_type": "execute_result"
    },
    {
     "data": {
      "image/png": "[encoded data removed]",
      "text/plain": [
       "<Figure size 1080x720 with 1 Axes>"
      ]
     },
     "metadata": {
      "needs_background": "light"
     },
     "output_type": "display_data"
    }
   ],
   "source": [
    "# making a histogram of our 'CNSTRCT_YR' column with 10 bins\n",
    "building_footprints['CNSTRCT_YR'].hist(figsize=(15,10), bins=50)\n",
    "plt.xlabel('Construction Year', fontsize=15)\n",
    "plt.ylabel('Counts', fontsize=15)\n",
    "plt.title('Histogram of Construction Year Values', fontsize=15)"
   ]
  },
  {
   "cell_type": "code",
   "execution_count": 36,
   "metadata": {},
   "outputs": [
    {
     "data": {
      "text/plain": [
       "1920.000        131436\n",
       "1930.000        113697\n",
       "1925.000        109687\n",
       "1950.000         63001\n",
       "1910.000         52935\n",
       "                 ...  \n",
       "202.000              1\n",
       "1803.000             1\n",
       "1809.000             1\n",
       "1811.000             1\n",
       "19999979.000         1\n",
       "Name: CNSTRCT_YR, Length: 252, dtype: int64"
      ]
     },
     "execution_count": 36,
     "metadata": {},
     "output_type": "execute_result"
    }
   ],
   "source": [
    "# return counts of unique values in descending order of our'CNSTRCT_YR' column\n",
    "building_footprints['CNSTRCT_YR'].value_counts()"
   ]
  },
  {
   "cell_type": "code",
   "execution_count": 37,
   "metadata": {},
   "outputs": [
    {
     "data": {
      "text/plain": [
       "0.000           6141\n",
       "202.000            1\n",
       "1652.000           1\n",
       "1661.000           2\n",
       "1665.000           1\n",
       "                ... \n",
       "2020.000         458\n",
       "20000.000          2\n",
       "20004.000          1\n",
       "20115.000          1\n",
       "19999979.000       1\n",
       "Name: CNSTRCT_YR, Length: 252, dtype: int64"
      ]
     },
     "execution_count": 37,
     "metadata": {},
     "output_type": "execute_result"
    }
   ],
   "source": [
    "# return counts of unique values but sorted by our index - 'CNSTRCT_YR' column values\n",
    "building_footprints['CNSTRCT_YR'].value_counts().sort_index()"
   ]
  },
  {
   "cell_type": "code",
   "execution_count": 38,
   "metadata": {},
   "outputs": [
    {
     "data": {
      "text/plain": [
       "0.000       6141\n",
       "202.000        1\n",
       "1652.000       1\n",
       "1661.000       2\n",
       "1665.000       1\n",
       "1680.000       1\n",
       "1690.000       1\n",
       "1694.000       1\n",
       "1706.000       2\n",
       "1719.000       1\n",
       "Name: CNSTRCT_YR, dtype: int64"
      ]
     },
     "execution_count": 38,
     "metadata": {},
     "output_type": "execute_result"
    }
   ],
   "source": [
    "# return counts of unique values but sorted by our index - 'CNSTRCT_YR' column values\n",
    "building_footprints['CNSTRCT_YR'].value_counts().sort_index(ascending=True).head(10)"
   ]
  },
  {
   "cell_type": "code",
   "execution_count": 39,
   "metadata": {},
   "outputs": [
    {
     "data": {
      "text/plain": [
       "19999979.000       1\n",
       "20115.000          1\n",
       "20004.000          1\n",
       "20000.000          2\n",
       "2020.000         458\n",
       "2019.000         801\n",
       "2018.000        2049\n",
       "2017.000        1866\n",
       "2016.000        1743\n",
       "2015.000        1034\n",
       "Name: CNSTRCT_YR, dtype: int64"
      ]
     },
     "execution_count": 39,
     "metadata": {},
     "output_type": "execute_result"
    }
   ],
   "source": [
    "# return counts of unique values but sorted by our index - 'CNSTRCT_YR' column values\n",
    "building_footprints['CNSTRCT_YR'].value_counts().sort_index(ascending=False).head(10)"
   ]
  },
  {
   "cell_type": "code",
   "execution_count": 40,
   "metadata": {},
   "outputs": [
    {
     "data": {
      "text/html": [
       "<div>\n",
       "<style scoped>\n",
       "    .dataframe tbody tr th:only-of-type {\n",
       "        vertical-align: middle;\n",
       "    }\n",
       "\n",
       "    .dataframe tbody tr th {\n",
       "        vertical-align: top;\n",
       "    }\n",
       "\n",
       "    .dataframe thead th {\n",
       "        text-align: right;\n",
       "    }\n",
       "</style>\n",
       "<table border=\"1\" class=\"dataframe\">\n",
       "  <thead>\n",
       "    <tr style=\"text-align: right;\">\n",
       "      <th></th>\n",
       "      <th>CNSTRCT_YR</th>\n",
       "      <th>BIN</th>\n",
       "      <th>the_geom</th>\n",
       "      <th>NAME</th>\n",
       "      <th>LSTMODDATE</th>\n",
       "      <th>LSTSTATYPE</th>\n",
       "      <th>DOITT_ID</th>\n",
       "      <th>HEIGHTROOF</th>\n",
       "      <th>FEAT_CODE</th>\n",
       "      <th>GROUNDELEV</th>\n",
       "      <th>SHAPE_AREA</th>\n",
       "      <th>SHAPE_LEN</th>\n",
       "      <th>BASE_BBL</th>\n",
       "      <th>MPLUTO_BBL</th>\n",
       "      <th>GEOMSOURCE</th>\n",
       "    </tr>\n",
       "  </thead>\n",
       "  <tbody>\n",
       "    <tr>\n",
       "      <th>1084454</th>\n",
       "      <td>0.000</td>\n",
       "      <td>2118145</td>\n",
       "      <td>MULTIPOLYGON (((-73.88410300359251 40.80235670...</td>\n",
       "      <td>Building 131</td>\n",
       "      <td>08/12/2020 12:00:00 AM +0000</td>\n",
       "      <td>Constructed</td>\n",
       "      <td>462233</td>\n",
       "      <td>15.600</td>\n",
       "      <td>1004.000</td>\n",
       "      <td>12.000</td>\n",
       "      <td>7647.999</td>\n",
       "      <td>350.925</td>\n",
       "      <td>2027800002.000</td>\n",
       "      <td>2027800002.000</td>\n",
       "      <td>Other (Man</td>\n",
       "    </tr>\n",
       "    <tr>\n",
       "      <th>1035041</th>\n",
       "      <td>0.000</td>\n",
       "      <td>1083810</td>\n",
       "      <td>MULTIPOLYGON (((-73.96303731664047 40.78070299...</td>\n",
       "      <td>The Metropolitan Museum</td>\n",
       "      <td>08/22/2017 12:00:00 AM +0000</td>\n",
       "      <td>Constructed</td>\n",
       "      <td>120474</td>\n",
       "      <td>87.770</td>\n",
       "      <td>2100.000</td>\n",
       "      <td>100.000</td>\n",
       "      <td>481865.279</td>\n",
       "      <td>4606.613</td>\n",
       "      <td>1011110001.000</td>\n",
       "      <td>1011110001.000</td>\n",
       "      <td>Photogramm</td>\n",
       "    </tr>\n",
       "    <tr>\n",
       "      <th>683045</th>\n",
       "      <td>0.000</td>\n",
       "      <td>1083622</td>\n",
       "      <td>MULTIPOLYGON (((-73.9907346786451 40.752624973...</td>\n",
       "      <td>New York Telephone Compa*</td>\n",
       "      <td>08/22/2017 12:00:00 AM +0000</td>\n",
       "      <td>Constructed</td>\n",
       "      <td>95063</td>\n",
       "      <td>219.683</td>\n",
       "      <td>2100.000</td>\n",
       "      <td>39.000</td>\n",
       "      <td>17008.123</td>\n",
       "      <td>543.573</td>\n",
       "      <td>1007850049.000</td>\n",
       "      <td>1007850049.000</td>\n",
       "      <td>Photogramm</td>\n",
       "    </tr>\n",
       "    <tr>\n",
       "      <th>1057184</th>\n",
       "      <td>0.000</td>\n",
       "      <td>1036153</td>\n",
       "      <td>MULTIPOLYGON (((-73.97469476302562 40.75070858...</td>\n",
       "      <td>Mobil Building</td>\n",
       "      <td>01/22/2019 12:00:00 AM +0000</td>\n",
       "      <td>Constructed</td>\n",
       "      <td>279381</td>\n",
       "      <td>568.090</td>\n",
       "      <td>2100.000</td>\n",
       "      <td>37.000</td>\n",
       "      <td>81658.778</td>\n",
       "      <td>1227.267</td>\n",
       "      <td>1012960046.000</td>\n",
       "      <td>1012967502.000</td>\n",
       "      <td>Photogramm</td>\n",
       "    </tr>\n",
       "    <tr>\n",
       "      <th>1058535</th>\n",
       "      <td>0.000</td>\n",
       "      <td>1022579</td>\n",
       "      <td>MULTIPOLYGON (((-73.98587426277128 40.75510240...</td>\n",
       "      <td>Newsweek Building</td>\n",
       "      <td>01/22/2019 12:00:00 AM +0000</td>\n",
       "      <td>Constructed</td>\n",
       "      <td>509650</td>\n",
       "      <td>219.820</td>\n",
       "      <td>2100.000</td>\n",
       "      <td>56.000</td>\n",
       "      <td>19544.812</td>\n",
       "      <td>736.283</td>\n",
       "      <td>1009940054.000</td>\n",
       "      <td>1009947502.000</td>\n",
       "      <td>Photogramm</td>\n",
       "    </tr>\n",
       "  </tbody>\n",
       "</table>\n",
       "</div>"
      ],
      "text/plain": [
       "         CNSTRCT_YR      BIN  \\\n",
       "1084454       0.000  2118145   \n",
       "1035041       0.000  1083810   \n",
       "683045        0.000  1083622   \n",
       "1057184       0.000  1036153   \n",
       "1058535       0.000  1022579   \n",
       "\n",
       "                                                  the_geom  \\\n",
       "1084454  MULTIPOLYGON (((-73.88410300359251 40.80235670...   \n",
       "1035041  MULTIPOLYGON (((-73.96303731664047 40.78070299...   \n",
       "683045   MULTIPOLYGON (((-73.9907346786451 40.752624973...   \n",
       "1057184  MULTIPOLYGON (((-73.97469476302562 40.75070858...   \n",
       "1058535  MULTIPOLYGON (((-73.98587426277128 40.75510240...   \n",
       "\n",
       "                              NAME                    LSTMODDATE   LSTSTATYPE  \\\n",
       "1084454               Building 131  08/12/2020 12:00:00 AM +0000  Constructed   \n",
       "1035041    The Metropolitan Museum  08/22/2017 12:00:00 AM +0000  Constructed   \n",
       "683045   New York Telephone Compa*  08/22/2017 12:00:00 AM +0000  Constructed   \n",
       "1057184             Mobil Building  01/22/2019 12:00:00 AM +0000  Constructed   \n",
       "1058535          Newsweek Building  01/22/2019 12:00:00 AM +0000  Constructed   \n",
       "\n",
       "         DOITT_ID  HEIGHTROOF  FEAT_CODE  GROUNDELEV  SHAPE_AREA  SHAPE_LEN  \\\n",
       "1084454    462233      15.600   1004.000      12.000    7647.999    350.925   \n",
       "1035041    120474      87.770   2100.000     100.000  481865.279   4606.613   \n",
       "683045      95063     219.683   2100.000      39.000   17008.123    543.573   \n",
       "1057184    279381     568.090   2100.000      37.000   81658.778   1227.267   \n",
       "1058535    509650     219.820   2100.000      56.000   19544.812    736.283   \n",
       "\n",
       "              BASE_BBL     MPLUTO_BBL  GEOMSOURCE  \n",
       "1084454 2027800002.000 2027800002.000  Other (Man  \n",
       "1035041 1011110001.000 1011110001.000  Photogramm  \n",
       "683045  1007850049.000 1007850049.000  Photogramm  \n",
       "1057184 1012960046.000 1012967502.000  Photogramm  \n",
       "1058535 1009940054.000 1009947502.000  Photogramm  "
      ]
     },
     "execution_count": 40,
     "metadata": {},
     "output_type": "execute_result"
    }
   ],
   "source": [
    "building_footprints.sort_values(by='CNSTRCT_YR').dropna(subset=['NAME']).head()"
   ]
  },
  {
   "cell_type": "code",
   "execution_count": 41,
   "metadata": {},
   "outputs": [
    {
     "data": {
      "text/html": [
       "<div>\n",
       "<style scoped>\n",
       "    .dataframe tbody tr th:only-of-type {\n",
       "        vertical-align: middle;\n",
       "    }\n",
       "\n",
       "    .dataframe tbody tr th {\n",
       "        vertical-align: top;\n",
       "    }\n",
       "\n",
       "    .dataframe thead th {\n",
       "        text-align: right;\n",
       "    }\n",
       "</style>\n",
       "<table border=\"1\" class=\"dataframe\">\n",
       "  <thead>\n",
       "    <tr style=\"text-align: right;\">\n",
       "      <th></th>\n",
       "      <th>CNSTRCT_YR</th>\n",
       "      <th>BIN</th>\n",
       "      <th>the_geom</th>\n",
       "      <th>NAME</th>\n",
       "      <th>LSTMODDATE</th>\n",
       "      <th>LSTSTATYPE</th>\n",
       "      <th>DOITT_ID</th>\n",
       "      <th>HEIGHTROOF</th>\n",
       "      <th>FEAT_CODE</th>\n",
       "      <th>GROUNDELEV</th>\n",
       "      <th>SHAPE_AREA</th>\n",
       "      <th>SHAPE_LEN</th>\n",
       "      <th>BASE_BBL</th>\n",
       "      <th>MPLUTO_BBL</th>\n",
       "      <th>GEOMSOURCE</th>\n",
       "    </tr>\n",
       "  </thead>\n",
       "  <tbody>\n",
       "    <tr>\n",
       "      <th>1079212</th>\n",
       "      <td>1652.000</td>\n",
       "      <td>3221967</td>\n",
       "      <td>MULTIPOLYGON (((-73.92083460429942 40.64439765...</td>\n",
       "      <td>Pieter Claesen Wyckoff House</td>\n",
       "      <td>01/28/2020 12:00:00 AM +0000</td>\n",
       "      <td>Constructed</td>\n",
       "      <td>550741</td>\n",
       "      <td>24.540</td>\n",
       "      <td>2100.000</td>\n",
       "      <td>14.000</td>\n",
       "      <td>2214.189</td>\n",
       "      <td>208.884</td>\n",
       "      <td>3079170009.000</td>\n",
       "      <td>3079170009.000</td>\n",
       "      <td>Photogramm</td>\n",
       "    </tr>\n",
       "    <tr>\n",
       "      <th>801721</th>\n",
       "      <td>1661.000</td>\n",
       "      <td>4113403</td>\n",
       "      <td>MULTIPOLYGON (((-73.8247828135812 40.762948467...</td>\n",
       "      <td>Bowne House</td>\n",
       "      <td>08/22/2017 12:00:00 AM +0000</td>\n",
       "      <td>Constructed</td>\n",
       "      <td>776399</td>\n",
       "      <td>26.120</td>\n",
       "      <td>2100.000</td>\n",
       "      <td>64.000</td>\n",
       "      <td>2814.439</td>\n",
       "      <td>242.381</td>\n",
       "      <td>4050130006.000</td>\n",
       "      <td>4050130006.000</td>\n",
       "      <td>Photogramm</td>\n",
       "    </tr>\n",
       "    <tr>\n",
       "      <th>1083750</th>\n",
       "      <td>1680.000</td>\n",
       "      <td>5087656</td>\n",
       "      <td>MULTIPOLYGON (((-74.25311647359251 40.50309522...</td>\n",
       "      <td>Conference House</td>\n",
       "      <td>04/13/2020 12:00:00 AM +0000</td>\n",
       "      <td>Constructed</td>\n",
       "      <td>702698</td>\n",
       "      <td>38.640</td>\n",
       "      <td>2100.000</td>\n",
       "      <td>38.000</td>\n",
       "      <td>2051.849</td>\n",
       "      <td>181.231</td>\n",
       "      <td>5078570090.000</td>\n",
       "      <td>5078570090.000</td>\n",
       "      <td>Photogramm</td>\n",
       "    </tr>\n",
       "    <tr>\n",
       "      <th>1083759</th>\n",
       "      <td>1690.000</td>\n",
       "      <td>5042188</td>\n",
       "      <td>MULTIPOLYGON (((-74.06293248238293 40.61512359...</td>\n",
       "      <td>Alice Austen House Museum</td>\n",
       "      <td>04/13/2020 12:00:00 AM +0000</td>\n",
       "      <td>Alteration</td>\n",
       "      <td>806241</td>\n",
       "      <td>22.260</td>\n",
       "      <td>2100.000</td>\n",
       "      <td>21.000</td>\n",
       "      <td>2643.247</td>\n",
       "      <td>249.018</td>\n",
       "      <td>5028300049.000</td>\n",
       "      <td>5028300049.000</td>\n",
       "      <td>Photogramm</td>\n",
       "    </tr>\n",
       "    <tr>\n",
       "      <th>567781</th>\n",
       "      <td>1719.000</td>\n",
       "      <td>1078965</td>\n",
       "      <td>MULTIPOLYGON (((-74.01121069434295 40.70334382...</td>\n",
       "      <td>Fraunces Tavern</td>\n",
       "      <td>01/28/2020 12:00:00 AM +0000</td>\n",
       "      <td>Constructed</td>\n",
       "      <td>299639</td>\n",
       "      <td>47.830</td>\n",
       "      <td>2100.000</td>\n",
       "      <td>7.000</td>\n",
       "      <td>2521.723</td>\n",
       "      <td>263.058</td>\n",
       "      <td>1000070035.000</td>\n",
       "      <td>1000070035.000</td>\n",
       "      <td>Photogramm</td>\n",
       "    </tr>\n",
       "  </tbody>\n",
       "</table>\n",
       "</div>"
      ],
      "text/plain": [
       "         CNSTRCT_YR      BIN  \\\n",
       "1079212    1652.000  3221967   \n",
       "801721     1661.000  4113403   \n",
       "1083750    1680.000  5087656   \n",
       "1083759    1690.000  5042188   \n",
       "567781     1719.000  1078965   \n",
       "\n",
       "                                                  the_geom  \\\n",
       "1079212  MULTIPOLYGON (((-73.92083460429942 40.64439765...   \n",
       "801721   MULTIPOLYGON (((-73.8247828135812 40.762948467...   \n",
       "1083750  MULTIPOLYGON (((-74.25311647359251 40.50309522...   \n",
       "1083759  MULTIPOLYGON (((-74.06293248238293 40.61512359...   \n",
       "567781   MULTIPOLYGON (((-74.01121069434295 40.70334382...   \n",
       "\n",
       "                                 NAME                    LSTMODDATE  \\\n",
       "1079212  Pieter Claesen Wyckoff House  01/28/2020 12:00:00 AM +0000   \n",
       "801721                    Bowne House  08/22/2017 12:00:00 AM +0000   \n",
       "1083750              Conference House  04/13/2020 12:00:00 AM +0000   \n",
       "1083759     Alice Austen House Museum  04/13/2020 12:00:00 AM +0000   \n",
       "567781                Fraunces Tavern  01/28/2020 12:00:00 AM +0000   \n",
       "\n",
       "          LSTSTATYPE  DOITT_ID  HEIGHTROOF  FEAT_CODE  GROUNDELEV  SHAPE_AREA  \\\n",
       "1079212  Constructed    550741      24.540   2100.000      14.000    2214.189   \n",
       "801721   Constructed    776399      26.120   2100.000      64.000    2814.439   \n",
       "1083750  Constructed    702698      38.640   2100.000      38.000    2051.849   \n",
       "1083759   Alteration    806241      22.260   2100.000      21.000    2643.247   \n",
       "567781   Constructed    299639      47.830   2100.000       7.000    2521.723   \n",
       "\n",
       "         SHAPE_LEN       BASE_BBL     MPLUTO_BBL  GEOMSOURCE  \n",
       "1079212    208.884 3079170009.000 3079170009.000  Photogramm  \n",
       "801721     242.381 4050130006.000 4050130006.000  Photogramm  \n",
       "1083750    181.231 5078570090.000 5078570090.000  Photogramm  \n",
       "1083759    249.018 5028300049.000 5028300049.000  Photogramm  \n",
       "567781     263.058 1000070035.000 1000070035.000  Photogramm  "
      ]
     },
     "execution_count": 41,
     "metadata": {},
     "output_type": "execute_result"
    }
   ],
   "source": [
    "building_footprints[building_footprints.CNSTRCT_YR > 0].sort_values(by='CNSTRCT_YR').dropna(subset=['NAME']).head()"
   ]
  },
  {
   "cell_type": "code",
   "execution_count": 42,
   "metadata": {},
   "outputs": [
    {
     "data": {
      "text/html": [
       "<div>\n",
       "<style scoped>\n",
       "    .dataframe tbody tr th:only-of-type {\n",
       "        vertical-align: middle;\n",
       "    }\n",
       "\n",
       "    .dataframe tbody tr th {\n",
       "        vertical-align: top;\n",
       "    }\n",
       "\n",
       "    .dataframe thead th {\n",
       "        text-align: right;\n",
       "    }\n",
       "</style>\n",
       "<table border=\"1\" class=\"dataframe\">\n",
       "  <thead>\n",
       "    <tr style=\"text-align: right;\">\n",
       "      <th></th>\n",
       "      <th>CNSTRCT_YR</th>\n",
       "      <th>BIN</th>\n",
       "      <th>the_geom</th>\n",
       "      <th>NAME</th>\n",
       "      <th>LSTMODDATE</th>\n",
       "      <th>LSTSTATYPE</th>\n",
       "      <th>DOITT_ID</th>\n",
       "      <th>HEIGHTROOF</th>\n",
       "      <th>FEAT_CODE</th>\n",
       "      <th>GROUNDELEV</th>\n",
       "      <th>SHAPE_AREA</th>\n",
       "      <th>SHAPE_LEN</th>\n",
       "      <th>BASE_BBL</th>\n",
       "      <th>MPLUTO_BBL</th>\n",
       "      <th>GEOMSOURCE</th>\n",
       "    </tr>\n",
       "  </thead>\n",
       "  <tbody>\n",
       "    <tr>\n",
       "      <th>1079212</th>\n",
       "      <td>1652.000</td>\n",
       "      <td>3221967</td>\n",
       "      <td>MULTIPOLYGON (((-73.92083460429942 40.64439765...</td>\n",
       "      <td>Pieter Claesen Wyckoff House</td>\n",
       "      <td>01/28/2020 12:00:00 AM +0000</td>\n",
       "      <td>Constructed</td>\n",
       "      <td>550741</td>\n",
       "      <td>24.540</td>\n",
       "      <td>2100.000</td>\n",
       "      <td>14.000</td>\n",
       "      <td>2214.189</td>\n",
       "      <td>208.884</td>\n",
       "      <td>3079170009.000</td>\n",
       "      <td>3079170009.000</td>\n",
       "      <td>Photogramm</td>\n",
       "    </tr>\n",
       "  </tbody>\n",
       "</table>\n",
       "</div>"
      ],
      "text/plain": [
       "         CNSTRCT_YR      BIN  \\\n",
       "1079212    1652.000  3221967   \n",
       "\n",
       "                                                  the_geom  \\\n",
       "1079212  MULTIPOLYGON (((-73.92083460429942 40.64439765...   \n",
       "\n",
       "                                 NAME                    LSTMODDATE  \\\n",
       "1079212  Pieter Claesen Wyckoff House  01/28/2020 12:00:00 AM +0000   \n",
       "\n",
       "          LSTSTATYPE  DOITT_ID  HEIGHTROOF  FEAT_CODE  GROUNDELEV  SHAPE_AREA  \\\n",
       "1079212  Constructed    550741      24.540   2100.000      14.000    2214.189   \n",
       "\n",
       "         SHAPE_LEN       BASE_BBL     MPLUTO_BBL  GEOMSOURCE  \n",
       "1079212    208.884 3079170009.000 3079170009.000  Photogramm  "
      ]
     },
     "execution_count": 42,
     "metadata": {},
     "output_type": "execute_result"
    }
   ],
   "source": [
    "building_footprints[building_footprints.CNSTRCT_YR > 0].sort_values(by='CNSTRCT_YR').dropna(subset=['NAME']).head(1)"
   ]
  },
  {
   "cell_type": "code",
   "execution_count": 43,
   "metadata": {},
   "outputs": [
    {
     "data": {
      "text/html": [
       "<div>\n",
       "<style scoped>\n",
       "    .dataframe tbody tr th:only-of-type {\n",
       "        vertical-align: middle;\n",
       "    }\n",
       "\n",
       "    .dataframe tbody tr th {\n",
       "        vertical-align: top;\n",
       "    }\n",
       "\n",
       "    .dataframe thead th {\n",
       "        text-align: right;\n",
       "    }\n",
       "</style>\n",
       "<table border=\"1\" class=\"dataframe\">\n",
       "  <thead>\n",
       "    <tr style=\"text-align: right;\">\n",
       "      <th></th>\n",
       "      <th>1079212</th>\n",
       "    </tr>\n",
       "  </thead>\n",
       "  <tbody>\n",
       "    <tr>\n",
       "      <th>CNSTRCT_YR</th>\n",
       "      <td>1652.000</td>\n",
       "    </tr>\n",
       "    <tr>\n",
       "      <th>BIN</th>\n",
       "      <td>3221967</td>\n",
       "    </tr>\n",
       "    <tr>\n",
       "      <th>the_geom</th>\n",
       "      <td>MULTIPOLYGON (((-73.92083460429942 40.64439765...</td>\n",
       "    </tr>\n",
       "    <tr>\n",
       "      <th>NAME</th>\n",
       "      <td>Pieter Claesen Wyckoff House</td>\n",
       "    </tr>\n",
       "    <tr>\n",
       "      <th>LSTMODDATE</th>\n",
       "      <td>01/28/2020 12:00:00 AM +0000</td>\n",
       "    </tr>\n",
       "    <tr>\n",
       "      <th>LSTSTATYPE</th>\n",
       "      <td>Constructed</td>\n",
       "    </tr>\n",
       "    <tr>\n",
       "      <th>DOITT_ID</th>\n",
       "      <td>550741</td>\n",
       "    </tr>\n",
       "    <tr>\n",
       "      <th>HEIGHTROOF</th>\n",
       "      <td>24.540</td>\n",
       "    </tr>\n",
       "    <tr>\n",
       "      <th>FEAT_CODE</th>\n",
       "      <td>2100.000</td>\n",
       "    </tr>\n",
       "    <tr>\n",
       "      <th>GROUNDELEV</th>\n",
       "      <td>14.000</td>\n",
       "    </tr>\n",
       "    <tr>\n",
       "      <th>SHAPE_AREA</th>\n",
       "      <td>2214.189</td>\n",
       "    </tr>\n",
       "    <tr>\n",
       "      <th>SHAPE_LEN</th>\n",
       "      <td>208.884</td>\n",
       "    </tr>\n",
       "    <tr>\n",
       "      <th>BASE_BBL</th>\n",
       "      <td>3079170009.000</td>\n",
       "    </tr>\n",
       "    <tr>\n",
       "      <th>MPLUTO_BBL</th>\n",
       "      <td>3079170009.000</td>\n",
       "    </tr>\n",
       "    <tr>\n",
       "      <th>GEOMSOURCE</th>\n",
       "      <td>Photogramm</td>\n",
       "    </tr>\n",
       "  </tbody>\n",
       "</table>\n",
       "</div>"
      ],
      "text/plain": [
       "                                                      1079212\n",
       "CNSTRCT_YR                                           1652.000\n",
       "BIN                                                   3221967\n",
       "the_geom    MULTIPOLYGON (((-73.92083460429942 40.64439765...\n",
       "NAME                             Pieter Claesen Wyckoff House\n",
       "LSTMODDATE                       01/28/2020 12:00:00 AM +0000\n",
       "LSTSTATYPE                                        Constructed\n",
       "DOITT_ID                                               550741\n",
       "HEIGHTROOF                                             24.540\n",
       "FEAT_CODE                                            2100.000\n",
       "GROUNDELEV                                             14.000\n",
       "SHAPE_AREA                                           2214.189\n",
       "SHAPE_LEN                                             208.884\n",
       "BASE_BBL                                       3079170009.000\n",
       "MPLUTO_BBL                                     3079170009.000\n",
       "GEOMSOURCE                                         Photogramm"
      ]
     },
     "execution_count": 43,
     "metadata": {},
     "output_type": "execute_result"
    }
   ],
   "source": [
    "building_footprints[building_footprints.CNSTRCT_YR > 0].sort_values(by='CNSTRCT_YR').dropna(subset=['NAME']).head(1).T"
   ]
  },
  {
   "cell_type": "code",
   "execution_count": 44,
   "metadata": {},
   "outputs": [
    {
     "data": {
      "text/html": [
       "<div>\n",
       "<style scoped>\n",
       "    .dataframe tbody tr th:only-of-type {\n",
       "        vertical-align: middle;\n",
       "    }\n",
       "\n",
       "    .dataframe tbody tr th {\n",
       "        vertical-align: top;\n",
       "    }\n",
       "\n",
       "    .dataframe thead th {\n",
       "        text-align: right;\n",
       "    }\n",
       "</style>\n",
       "<table border=\"1\" class=\"dataframe\">\n",
       "  <thead>\n",
       "    <tr style=\"text-align: right;\">\n",
       "      <th></th>\n",
       "      <th>CNSTRCT_YR</th>\n",
       "      <th>BIN</th>\n",
       "      <th>the_geom</th>\n",
       "      <th>NAME</th>\n",
       "      <th>LSTMODDATE</th>\n",
       "      <th>LSTSTATYPE</th>\n",
       "      <th>DOITT_ID</th>\n",
       "      <th>HEIGHTROOF</th>\n",
       "      <th>FEAT_CODE</th>\n",
       "      <th>GROUNDELEV</th>\n",
       "      <th>SHAPE_AREA</th>\n",
       "      <th>SHAPE_LEN</th>\n",
       "      <th>BASE_BBL</th>\n",
       "      <th>MPLUTO_BBL</th>\n",
       "      <th>GEOMSOURCE</th>\n",
       "    </tr>\n",
       "  </thead>\n",
       "  <tbody>\n",
       "    <tr>\n",
       "      <th>723892</th>\n",
       "      <td>0.000</td>\n",
       "      <td>1004350</td>\n",
       "      <td>MULTIPOLYGON (((-73.973538271636 40.7264685500...</td>\n",
       "      <td>Manhattan Pumping Station</td>\n",
       "      <td>08/22/2017 12:00:00 AM +0000</td>\n",
       "      <td>Constructed</td>\n",
       "      <td>266156</td>\n",
       "      <td>107.019</td>\n",
       "      <td>2100.000</td>\n",
       "      <td>9.000</td>\n",
       "      <td>17100.962</td>\n",
       "      <td>637.272</td>\n",
       "      <td>1003670025.000</td>\n",
       "      <td>1003670025.000</td>\n",
       "      <td>Other (Man</td>\n",
       "    </tr>\n",
       "    <tr>\n",
       "      <th>714739</th>\n",
       "      <td>0.000</td>\n",
       "      <td>1083621</td>\n",
       "      <td>MULTIPOLYGON (((-73.99020239051326 40.75240074...</td>\n",
       "      <td>New York Telephone Compa*</td>\n",
       "      <td>08/22/2017 12:00:00 AM +0000</td>\n",
       "      <td>Constructed</td>\n",
       "      <td>775248</td>\n",
       "      <td>160.660</td>\n",
       "      <td>2100.000</td>\n",
       "      <td>39.000</td>\n",
       "      <td>16470.978</td>\n",
       "      <td>532.578</td>\n",
       "      <td>1007850049.000</td>\n",
       "      <td>1007850049.000</td>\n",
       "      <td>Photogramm</td>\n",
       "    </tr>\n",
       "    <tr>\n",
       "      <th>683045</th>\n",
       "      <td>0.000</td>\n",
       "      <td>1083622</td>\n",
       "      <td>MULTIPOLYGON (((-73.9907346786451 40.752624973...</td>\n",
       "      <td>New York Telephone Compa*</td>\n",
       "      <td>08/22/2017 12:00:00 AM +0000</td>\n",
       "      <td>Constructed</td>\n",
       "      <td>95063</td>\n",
       "      <td>219.683</td>\n",
       "      <td>2100.000</td>\n",
       "      <td>39.000</td>\n",
       "      <td>17008.123</td>\n",
       "      <td>543.573</td>\n",
       "      <td>1007850049.000</td>\n",
       "      <td>1007850049.000</td>\n",
       "      <td>Photogramm</td>\n",
       "    </tr>\n",
       "    <tr>\n",
       "      <th>808660</th>\n",
       "      <td>0.000</td>\n",
       "      <td>1082908</td>\n",
       "      <td>MULTIPOLYGON (((-73.99354971485617 40.75110707...</td>\n",
       "      <td>Madison Square Garden</td>\n",
       "      <td>08/22/2017 12:00:00 AM +0000</td>\n",
       "      <td>Constructed</td>\n",
       "      <td>831086</td>\n",
       "      <td>145.640</td>\n",
       "      <td>2100.000</td>\n",
       "      <td>35.000</td>\n",
       "      <td>179912.149</td>\n",
       "      <td>1887.376</td>\n",
       "      <td>1007810001.000</td>\n",
       "      <td>1007810001.000</td>\n",
       "      <td>Photogramm</td>\n",
       "    </tr>\n",
       "    <tr>\n",
       "      <th>1035041</th>\n",
       "      <td>0.000</td>\n",
       "      <td>1083810</td>\n",
       "      <td>MULTIPOLYGON (((-73.96303731664047 40.78070299...</td>\n",
       "      <td>The Metropolitan Museum</td>\n",
       "      <td>08/22/2017 12:00:00 AM +0000</td>\n",
       "      <td>Constructed</td>\n",
       "      <td>120474</td>\n",
       "      <td>87.770</td>\n",
       "      <td>2100.000</td>\n",
       "      <td>100.000</td>\n",
       "      <td>481865.279</td>\n",
       "      <td>4606.613</td>\n",
       "      <td>1011110001.000</td>\n",
       "      <td>1011110001.000</td>\n",
       "      <td>Photogramm</td>\n",
       "    </tr>\n",
       "  </tbody>\n",
       "</table>\n",
       "</div>"
      ],
      "text/plain": [
       "         CNSTRCT_YR      BIN  \\\n",
       "723892        0.000  1004350   \n",
       "714739        0.000  1083621   \n",
       "683045        0.000  1083622   \n",
       "808660        0.000  1082908   \n",
       "1035041       0.000  1083810   \n",
       "\n",
       "                                                  the_geom  \\\n",
       "723892   MULTIPOLYGON (((-73.973538271636 40.7264685500...   \n",
       "714739   MULTIPOLYGON (((-73.99020239051326 40.75240074...   \n",
       "683045   MULTIPOLYGON (((-73.9907346786451 40.752624973...   \n",
       "808660   MULTIPOLYGON (((-73.99354971485617 40.75110707...   \n",
       "1035041  MULTIPOLYGON (((-73.96303731664047 40.78070299...   \n",
       "\n",
       "                              NAME                    LSTMODDATE   LSTSTATYPE  \\\n",
       "723892   Manhattan Pumping Station  08/22/2017 12:00:00 AM +0000  Constructed   \n",
       "714739   New York Telephone Compa*  08/22/2017 12:00:00 AM +0000  Constructed   \n",
       "683045   New York Telephone Compa*  08/22/2017 12:00:00 AM +0000  Constructed   \n",
       "808660       Madison Square Garden  08/22/2017 12:00:00 AM +0000  Constructed   \n",
       "1035041    The Metropolitan Museum  08/22/2017 12:00:00 AM +0000  Constructed   \n",
       "\n",
       "         DOITT_ID  HEIGHTROOF  FEAT_CODE  GROUNDELEV  SHAPE_AREA  SHAPE_LEN  \\\n",
       "723892     266156     107.019   2100.000       9.000   17100.962    637.272   \n",
       "714739     775248     160.660   2100.000      39.000   16470.978    532.578   \n",
       "683045      95063     219.683   2100.000      39.000   17008.123    543.573   \n",
       "808660     831086     145.640   2100.000      35.000  179912.149   1887.376   \n",
       "1035041    120474      87.770   2100.000     100.000  481865.279   4606.613   \n",
       "\n",
       "              BASE_BBL     MPLUTO_BBL  GEOMSOURCE  \n",
       "723892  1003670025.000 1003670025.000  Other (Man  \n",
       "714739  1007850049.000 1007850049.000  Photogramm  \n",
       "683045  1007850049.000 1007850049.000  Photogramm  \n",
       "808660  1007810001.000 1007810001.000  Photogramm  \n",
       "1035041 1011110001.000 1011110001.000  Photogramm  "
      ]
     },
     "execution_count": 44,
     "metadata": {},
     "output_type": "execute_result"
    }
   ],
   "source": [
    "building_footprints[building_footprints.CNSTRCT_YR < 1].sort_values(by='CNSTRCT_YR').dropna(subset=['NAME']).head()"
   ]
  },
  {
   "cell_type": "code",
   "execution_count": 45,
   "metadata": {},
   "outputs": [
    {
     "data": {
      "text/plain": [
       "New York Telephone Compa*              2\n",
       "Barretto Point Park-BUILDING           1\n",
       "Rosewood Playground-Comfort Station    1\n",
       "Vidalia Park-Comfort Station           1\n",
       "Mobil Building                         1\n",
       "Building 126                           1\n",
       "Newsweek Building                      1\n",
       "Delacorte Theater                      1\n",
       "Siemens Building                       1\n",
       "building                               1\n",
       "MetLife Building                       1\n",
       "Building 131                           1\n",
       "Building 115                           1\n",
       "3412609                                1\n",
       "Building 127                           1\n",
       "Two Penn Plaza                         1\n",
       "Soundview Field House                  1\n",
       "The Metropolitan Museum                1\n",
       "Grand Central Terminal                 1\n",
       "Saint Patrick's R.C. School            1\n",
       "Manhattan Pumping Station              1\n",
       "Madison Square Garden                  1\n",
       "203                                    1\n",
       "Name: NAME, dtype: int64"
      ]
     },
     "execution_count": 45,
     "metadata": {},
     "output_type": "execute_result"
    }
   ],
   "source": [
    "name_no_year = building_footprints[building_footprints.CNSTRCT_YR < 1].sort_values(by='CNSTRCT_YR').dropna(subset=['NAME'])\n",
    "\n",
    "name_no_year.NAME.value_counts()"
   ]
  },
  {
   "cell_type": "code",
   "execution_count": 46,
   "metadata": {},
   "outputs": [
    {
     "data": {
      "text/html": [
       "<div>\n",
       "<style scoped>\n",
       "    .dataframe tbody tr th:only-of-type {\n",
       "        vertical-align: middle;\n",
       "    }\n",
       "\n",
       "    .dataframe tbody tr th {\n",
       "        vertical-align: top;\n",
       "    }\n",
       "\n",
       "    .dataframe thead th {\n",
       "        text-align: right;\n",
       "    }\n",
       "</style>\n",
       "<table border=\"1\" class=\"dataframe\">\n",
       "  <thead>\n",
       "    <tr style=\"text-align: right;\">\n",
       "      <th></th>\n",
       "      <th>index</th>\n",
       "      <th>NAME</th>\n",
       "    </tr>\n",
       "  </thead>\n",
       "  <tbody>\n",
       "    <tr>\n",
       "      <th>0</th>\n",
       "      <td>New York Telephone Compa*</td>\n",
       "      <td>2</td>\n",
       "    </tr>\n",
       "    <tr>\n",
       "      <th>1</th>\n",
       "      <td>Barretto Point Park-BUILDING</td>\n",
       "      <td>1</td>\n",
       "    </tr>\n",
       "    <tr>\n",
       "      <th>2</th>\n",
       "      <td>Rosewood Playground-Comfort Station</td>\n",
       "      <td>1</td>\n",
       "    </tr>\n",
       "    <tr>\n",
       "      <th>3</th>\n",
       "      <td>Vidalia Park-Comfort Station</td>\n",
       "      <td>1</td>\n",
       "    </tr>\n",
       "    <tr>\n",
       "      <th>4</th>\n",
       "      <td>Mobil Building</td>\n",
       "      <td>1</td>\n",
       "    </tr>\n",
       "    <tr>\n",
       "      <th>5</th>\n",
       "      <td>Building 126</td>\n",
       "      <td>1</td>\n",
       "    </tr>\n",
       "    <tr>\n",
       "      <th>6</th>\n",
       "      <td>Newsweek Building</td>\n",
       "      <td>1</td>\n",
       "    </tr>\n",
       "    <tr>\n",
       "      <th>7</th>\n",
       "      <td>Delacorte Theater</td>\n",
       "      <td>1</td>\n",
       "    </tr>\n",
       "    <tr>\n",
       "      <th>8</th>\n",
       "      <td>Siemens Building</td>\n",
       "      <td>1</td>\n",
       "    </tr>\n",
       "    <tr>\n",
       "      <th>9</th>\n",
       "      <td>building</td>\n",
       "      <td>1</td>\n",
       "    </tr>\n",
       "    <tr>\n",
       "      <th>10</th>\n",
       "      <td>MetLife Building</td>\n",
       "      <td>1</td>\n",
       "    </tr>\n",
       "    <tr>\n",
       "      <th>11</th>\n",
       "      <td>Building 131</td>\n",
       "      <td>1</td>\n",
       "    </tr>\n",
       "    <tr>\n",
       "      <th>12</th>\n",
       "      <td>Building 115</td>\n",
       "      <td>1</td>\n",
       "    </tr>\n",
       "    <tr>\n",
       "      <th>13</th>\n",
       "      <td>3412609</td>\n",
       "      <td>1</td>\n",
       "    </tr>\n",
       "    <tr>\n",
       "      <th>14</th>\n",
       "      <td>Building 127</td>\n",
       "      <td>1</td>\n",
       "    </tr>\n",
       "    <tr>\n",
       "      <th>15</th>\n",
       "      <td>Two Penn Plaza</td>\n",
       "      <td>1</td>\n",
       "    </tr>\n",
       "    <tr>\n",
       "      <th>16</th>\n",
       "      <td>Soundview Field House</td>\n",
       "      <td>1</td>\n",
       "    </tr>\n",
       "    <tr>\n",
       "      <th>17</th>\n",
       "      <td>The Metropolitan Museum</td>\n",
       "      <td>1</td>\n",
       "    </tr>\n",
       "    <tr>\n",
       "      <th>18</th>\n",
       "      <td>Grand Central Terminal</td>\n",
       "      <td>1</td>\n",
       "    </tr>\n",
       "    <tr>\n",
       "      <th>19</th>\n",
       "      <td>Saint Patrick's R.C. School</td>\n",
       "      <td>1</td>\n",
       "    </tr>\n",
       "    <tr>\n",
       "      <th>20</th>\n",
       "      <td>Manhattan Pumping Station</td>\n",
       "      <td>1</td>\n",
       "    </tr>\n",
       "    <tr>\n",
       "      <th>21</th>\n",
       "      <td>Madison Square Garden</td>\n",
       "      <td>1</td>\n",
       "    </tr>\n",
       "    <tr>\n",
       "      <th>22</th>\n",
       "      <td>203</td>\n",
       "      <td>1</td>\n",
       "    </tr>\n",
       "  </tbody>\n",
       "</table>\n",
       "</div>"
      ],
      "text/plain": [
       "                                  index  NAME\n",
       "0             New York Telephone Compa*     2\n",
       "1          Barretto Point Park-BUILDING     1\n",
       "2   Rosewood Playground-Comfort Station     1\n",
       "3          Vidalia Park-Comfort Station     1\n",
       "4                        Mobil Building     1\n",
       "5                          Building 126     1\n",
       "6                     Newsweek Building     1\n",
       "7                     Delacorte Theater     1\n",
       "8                      Siemens Building     1\n",
       "9                              building     1\n",
       "10                     MetLife Building     1\n",
       "11                         Building 131     1\n",
       "12                         Building 115     1\n",
       "13                              3412609     1\n",
       "14                         Building 127     1\n",
       "15                       Two Penn Plaza     1\n",
       "16                Soundview Field House     1\n",
       "17              The Metropolitan Museum     1\n",
       "18               Grand Central Terminal     1\n",
       "19          Saint Patrick's R.C. School     1\n",
       "20            Manhattan Pumping Station     1\n",
       "21                Madison Square Garden     1\n",
       "22                                  203     1"
      ]
     },
     "execution_count": 46,
     "metadata": {},
     "output_type": "execute_result"
    }
   ],
   "source": [
    "name_no_year.NAME.value_counts().reset_index()"
   ]
  },
  {
   "cell_type": "code",
   "execution_count": 47,
   "metadata": {},
   "outputs": [
    {
     "data": {
      "text/plain": [
       "24"
      ]
     },
     "execution_count": 47,
     "metadata": {},
     "output_type": "execute_result"
    }
   ],
   "source": [
    "len(name_no_year)"
   ]
  },
  {
   "cell_type": "markdown",
   "metadata": {},
   "source": [
    "# Construction Year 1652 as first building"
   ]
  },
  {
   "cell_type": "code",
   "execution_count": 48,
   "metadata": {},
   "outputs": [
    {
     "data": {
      "text/plain": [
       "array([0.0000000e+00,           nan, 2.0000000e+04, 2.0004000e+04,\n",
       "       2.0115000e+04, 1.9999979e+07, 2.0200000e+02])"
      ]
     },
     "execution_count": 48,
     "metadata": {},
     "output_type": "execute_result"
    }
   ],
   "source": [
    "building_footprints[~building_footprints['CNSTRCT_YR'].between(1652, 2020)]['CNSTRCT_YR'].unique()"
   ]
  },
  {
   "cell_type": "code",
   "execution_count": 49,
   "metadata": {},
   "outputs": [
    {
     "name": "stdout",
     "output_type": "stream",
     "text": [
      "0.0\n",
      "nan\n",
      "20000.0\n",
      "20004.0\n",
      "20115.0\n",
      "19999979.0\n",
      "202.0\n"
     ]
    }
   ],
   "source": [
    "unique_values = building_footprints[~building_footprints['CNSTRCT_YR'].between(1652, 2020)]['CNSTRCT_YR'].unique()\n",
    "\n",
    "print(*unique_values, sep='\\n')"
   ]
  },
  {
   "cell_type": "code",
   "execution_count": 50,
   "metadata": {},
   "outputs": [
    {
     "name": "stdout",
     "output_type": "stream",
     "text": [
      "0.0\n",
      "202.0\n",
      "20000.0\n",
      "20004.0\n",
      "20115.0\n",
      "19999979.0\n",
      "nan\n"
     ]
    }
   ],
   "source": [
    "unique_values_sorted = np.sort(unique_values)\n",
    "\n",
    "print(*unique_values_sorted, sep='\\n')"
   ]
  },
  {
   "cell_type": "code",
   "execution_count": 51,
   "metadata": {},
   "outputs": [
    {
     "data": {
      "text/plain": [
       "6"
      ]
     },
     "execution_count": 51,
     "metadata": {},
     "output_type": "execute_result"
    }
   ],
   "source": [
    "building_footprints[~building_footprints['CNSTRCT_YR'].between(1652, 2020)]['CNSTRCT_YR'].nunique()"
   ]
  },
  {
   "cell_type": "code",
   "execution_count": 52,
   "metadata": {},
   "outputs": [
    {
     "data": {
      "text/plain": [
       "0.000           6141\n",
       "20000.000          2\n",
       "202.000            1\n",
       "20115.000          1\n",
       "19999979.000       1\n",
       "20004.000          1\n",
       "Name: CNSTRCT_YR, dtype: int64"
      ]
     },
     "execution_count": 52,
     "metadata": {},
     "output_type": "execute_result"
    }
   ],
   "source": [
    "building_footprints[~building_footprints['CNSTRCT_YR'].between(1652, 2020)]['CNSTRCT_YR'].value_counts()"
   ]
  },
  {
   "cell_type": "code",
   "execution_count": 53,
   "metadata": {},
   "outputs": [
    {
     "data": {
      "text/plain": [
       "0.000           6141\n",
       "202.000            1\n",
       "20000.000          2\n",
       "20004.000          1\n",
       "20115.000          1\n",
       "19999979.000       1\n",
       "Name: CNSTRCT_YR, dtype: int64"
      ]
     },
     "execution_count": 53,
     "metadata": {},
     "output_type": "execute_result"
    }
   ],
   "source": [
    "building_footprints[~building_footprints['CNSTRCT_YR'].between(1652, 2020)]['CNSTRCT_YR'].value_counts().sort_index()"
   ]
  },
  {
   "cell_type": "code",
   "execution_count": 54,
   "metadata": {},
   "outputs": [
    {
     "name": "stdout",
     "output_type": "stream",
     "text": [
      "6147\n"
     ]
    }
   ],
   "source": [
    "num_of_outliers = building_footprints[~building_footprints['CNSTRCT_YR'].between(1652, 2020)]['CNSTRCT_YR'].value_counts().sum()\n",
    "\n",
    "print(num_of_outliers)"
   ]
  },
  {
   "cell_type": "code",
   "execution_count": 55,
   "metadata": {},
   "outputs": [
    {
     "name": "stdout",
     "output_type": "stream",
     "text": [
      "Possible outliers: 6,147\n"
     ]
    }
   ],
   "source": [
    "print('Possible outliers: ' +  \"{:,}\".format(num_of_outliers))"
   ]
  },
  {
   "cell_type": "markdown",
   "metadata": {},
   "source": [
    "## 4.2 Replacing Outliers with Null/NA Values"
   ]
  },
  {
   "cell_type": "markdown",
   "metadata": {},
   "source": [
    "One of my favorite pandas methods is `pd.to_numeric()`. We set `errors='coerce'` so any value that can not be converted to an integer returns 'NaN.' And then, you guest it, we can fill in these NaN values."
   ]
  },
  {
   "cell_type": "code",
   "execution_count": 56,
   "metadata": {},
   "outputs": [
    {
     "data": {
      "text/plain": [
       "4881"
      ]
     },
     "execution_count": 56,
     "metadata": {},
     "output_type": "execute_result"
    }
   ],
   "source": [
    "# summing null/na values in the 'CNSTRCT_YR' column\n",
    "building_footprints['CNSTRCT_YR'].isna().sum()"
   ]
  },
  {
   "cell_type": "code",
   "execution_count": 57,
   "metadata": {},
   "outputs": [
    {
     "data": {
      "text/plain": [
       "0         2009.000\n",
       "1         1930.000\n",
       "2         1960.000\n",
       "3         1920.000\n",
       "4         1915.000\n",
       "            ...   \n",
       "1084915   2020.000\n",
       "1084916   2020.000\n",
       "1084917   2020.000\n",
       "1084918   2020.000\n",
       "1084919   2020.000\n",
       "Name: CNSTRCT_YR, Length: 1084920, dtype: float64"
      ]
     },
     "execution_count": 57,
     "metadata": {},
     "output_type": "execute_result"
    }
   ],
   "source": [
    "# converting all the values in our 'CNSTRCT_YR' column as integers\n",
    "# invalid conversions will be set as NaN with errors='coerce'\n",
    "pd.to_numeric(building_footprints['CNSTRCT_YR'], downcast='integer', errors='coerce')"
   ]
  },
  {
   "cell_type": "code",
   "execution_count": 58,
   "metadata": {},
   "outputs": [
    {
     "data": {
      "text/plain": [
       "4881"
      ]
     },
     "execution_count": 58,
     "metadata": {},
     "output_type": "execute_result"
    }
   ],
   "source": [
    "# summing null/na values in the 'CNSTRCT_YR' column\n",
    "building_footprints['CNSTRCT_YR'].isna().sum()"
   ]
  },
  {
   "cell_type": "code",
   "execution_count": 59,
   "metadata": {},
   "outputs": [
    {
     "name": "stdout",
     "output_type": "stream",
     "text": [
      "1946.6424573557067\n",
      "1930.0\n"
     ]
    }
   ],
   "source": [
    "# printing the mean and median of the 'CNSTRCT_YR' column\n",
    "print(building_footprints['CNSTRCT_YR'].mean())\n",
    "print(building_footprints['CNSTRCT_YR'].median())"
   ]
  },
  {
   "cell_type": "code",
   "execution_count": 60,
   "metadata": {},
   "outputs": [],
   "source": [
    "# identifying values not between 1 and 2020 and saving as the name 'replace'\n",
    "replace = building_footprints[~building_footprints['CNSTRCT_YR'].between(1652, 2020)]\n",
    "\n",
    "building_footprints[['CNSTRCT_YR']] = building_footprints[['CNSTRCT_YR']].replace(replace, np.nan)"
   ]
  },
  {
   "cell_type": "code",
   "execution_count": 61,
   "metadata": {},
   "outputs": [
    {
     "data": {
      "text/plain": [
       "Series([], Name: CNSTRCT_YR, dtype: int64)"
      ]
     },
     "execution_count": 61,
     "metadata": {},
     "output_type": "execute_result"
    }
   ],
   "source": [
    "building_footprints[~building_footprints['CNSTRCT_YR'].between(1652, 2020)]['CNSTRCT_YR'].value_counts()"
   ]
  },
  {
   "cell_type": "code",
   "execution_count": 62,
   "metadata": {},
   "outputs": [
    {
     "name": "stdout",
     "output_type": "stream",
     "text": [
      "2020.0\n",
      "1652.0\n"
     ]
    }
   ],
   "source": [
    "print(building_footprints['CNSTRCT_YR'].max())\n",
    "print(building_footprints['CNSTRCT_YR'].min())"
   ]
  },
  {
   "cell_type": "code",
   "execution_count": 63,
   "metadata": {},
   "outputs": [
    {
     "data": {
      "text/plain": [
       "11028"
      ]
     },
     "execution_count": 63,
     "metadata": {},
     "output_type": "execute_result"
    }
   ],
   "source": [
    "# summing null/na values in the 'CNSTRCT_YR' column\n",
    "building_footprints['CNSTRCT_YR'].isna().sum()"
   ]
  },
  {
   "cell_type": "markdown",
   "metadata": {},
   "source": [
    "## 4.2 Dropping Null/NA Values"
   ]
  },
  {
   "cell_type": "code",
   "execution_count": 64,
   "metadata": {},
   "outputs": [
    {
     "data": {
      "text/plain": [
       "1084920"
      ]
     },
     "execution_count": 64,
     "metadata": {},
     "output_type": "execute_result"
    }
   ],
   "source": [
    "len(building_footprints)"
   ]
  },
  {
   "cell_type": "code",
   "execution_count": 65,
   "metadata": {},
   "outputs": [
    {
     "data": {
      "text/plain": [
       "1073892"
      ]
     },
     "execution_count": 65,
     "metadata": {},
     "output_type": "execute_result"
    }
   ],
   "source": [
    "len(building_footprints.dropna(subset=['CNSTRCT_YR']))"
   ]
  },
  {
   "cell_type": "code",
   "execution_count": 66,
   "metadata": {},
   "outputs": [
    {
     "data": {
      "text/plain": [
       "11028"
      ]
     },
     "execution_count": 66,
     "metadata": {},
     "output_type": "execute_result"
    }
   ],
   "source": [
    "len(building_footprints) - len(building_footprints.dropna(subset=['CNSTRCT_YR']))"
   ]
  },
  {
   "cell_type": "code",
   "execution_count": 67,
   "metadata": {},
   "outputs": [
    {
     "name": "stdout",
     "output_type": "stream",
     "text": [
      "Dropping 11,028 (or 0.01% of total) nulls from dataset.\n"
     ]
    }
   ],
   "source": [
    "print('Dropping ' + \\\n",
    "      (\"{:,}\".format(len(building_footprints) - \\\n",
    "                     len(building_footprints.dropna(subset=['CNSTRCT_YR'])))) \\\n",
    "      + ' (or '\n",
    "      + (\"{:,.2f}\".format((len(building_footprints) - \\\n",
    "                          len(building_footprints.dropna(subset=['CNSTRCT_YR'])))/len(building_footprints)))\n",
    "      + '% of total) nulls from dataset.')"
   ]
  },
  {
   "cell_type": "code",
   "execution_count": 68,
   "metadata": {},
   "outputs": [
    {
     "data": {
      "text/plain": [
       "1073892"
      ]
     },
     "execution_count": 68,
     "metadata": {},
     "output_type": "execute_result"
    }
   ],
   "source": [
    "building_footprints_dropna = building_footprints.dropna(subset=['CNSTRCT_YR'])\n",
    "len(building_footprints_dropna)"
   ]
  },
  {
   "cell_type": "code",
   "execution_count": 69,
   "metadata": {},
   "outputs": [
    {
     "data": {
      "text/html": [
       "<div>\n",
       "<style scoped>\n",
       "    .dataframe tbody tr th:only-of-type {\n",
       "        vertical-align: middle;\n",
       "    }\n",
       "\n",
       "    .dataframe tbody tr th {\n",
       "        vertical-align: top;\n",
       "    }\n",
       "\n",
       "    .dataframe thead th {\n",
       "        text-align: right;\n",
       "    }\n",
       "</style>\n",
       "<table border=\"1\" class=\"dataframe\">\n",
       "  <thead>\n",
       "    <tr style=\"text-align: right;\">\n",
       "      <th></th>\n",
       "      <th>CNSTRCT_YR</th>\n",
       "      <th>BIN</th>\n",
       "      <th>the_geom</th>\n",
       "      <th>NAME</th>\n",
       "      <th>LSTMODDATE</th>\n",
       "      <th>LSTSTATYPE</th>\n",
       "      <th>DOITT_ID</th>\n",
       "      <th>HEIGHTROOF</th>\n",
       "      <th>FEAT_CODE</th>\n",
       "      <th>GROUNDELEV</th>\n",
       "      <th>SHAPE_AREA</th>\n",
       "      <th>SHAPE_LEN</th>\n",
       "      <th>BASE_BBL</th>\n",
       "      <th>MPLUTO_BBL</th>\n",
       "      <th>GEOMSOURCE</th>\n",
       "    </tr>\n",
       "  </thead>\n",
       "  <tbody>\n",
       "    <tr>\n",
       "      <th>0</th>\n",
       "      <td>2009.000</td>\n",
       "      <td>3394646</td>\n",
       "      <td>MULTIPOLYGON (((-73.87129515296562 40.65717370...</td>\n",
       "      <td>NaN</td>\n",
       "      <td>08/22/2017 12:00:00 AM +0000</td>\n",
       "      <td>Constructed</td>\n",
       "      <td>1212853</td>\n",
       "      <td>21.609</td>\n",
       "      <td>2100.000</td>\n",
       "      <td>18.000</td>\n",
       "      <td>854.662</td>\n",
       "      <td>125.080</td>\n",
       "      <td>3044520815.000</td>\n",
       "      <td>3044520815.000</td>\n",
       "      <td>Photogramm</td>\n",
       "    </tr>\n",
       "    <tr>\n",
       "      <th>1</th>\n",
       "      <td>1930.000</td>\n",
       "      <td>4548330</td>\n",
       "      <td>MULTIPOLYGON (((-73.87670970144625 40.71425234...</td>\n",
       "      <td>NaN</td>\n",
       "      <td>08/17/2017 12:00:00 AM +0000</td>\n",
       "      <td>Constructed</td>\n",
       "      <td>1226227</td>\n",
       "      <td>10.360</td>\n",
       "      <td>5110.000</td>\n",
       "      <td>122.000</td>\n",
       "      <td>217.594</td>\n",
       "      <td>60.226</td>\n",
       "      <td>4030640041.000</td>\n",
       "      <td>4030640041.000</td>\n",
       "      <td>Photogramm</td>\n",
       "    </tr>\n",
       "    <tr>\n",
       "      <th>2</th>\n",
       "      <td>1960.000</td>\n",
       "      <td>4460479</td>\n",
       "      <td>MULTIPOLYGON (((-73.85195485799383 40.66235471...</td>\n",
       "      <td>NaN</td>\n",
       "      <td>08/22/2017 12:00:00 AM +0000</td>\n",
       "      <td>Constructed</td>\n",
       "      <td>581946</td>\n",
       "      <td>29.812</td>\n",
       "      <td>2100.000</td>\n",
       "      <td>10.000</td>\n",
       "      <td>946.427</td>\n",
       "      <td>123.142</td>\n",
       "      <td>4139430001.000</td>\n",
       "      <td>4139430001.000</td>\n",
       "      <td>Photogramm</td>\n",
       "    </tr>\n",
       "    <tr>\n",
       "      <th>3</th>\n",
       "      <td>1920.000</td>\n",
       "      <td>3355684</td>\n",
       "      <td>MULTIPOLYGON (((-73.94029215265738 40.64108287...</td>\n",
       "      <td>NaN</td>\n",
       "      <td>08/17/2017 12:00:00 AM +0000</td>\n",
       "      <td>Constructed</td>\n",
       "      <td>858061</td>\n",
       "      <td>11.200</td>\n",
       "      <td>5110.000</td>\n",
       "      <td>32.000</td>\n",
       "      <td>248.678</td>\n",
       "      <td>63.941</td>\n",
       "      <td>3049720006.000</td>\n",
       "      <td>3049720006.000</td>\n",
       "      <td>Photogramm</td>\n",
       "    </tr>\n",
       "    <tr>\n",
       "      <th>4</th>\n",
       "      <td>1915.000</td>\n",
       "      <td>3131737</td>\n",
       "      <td>MULTIPOLYGON (((-73.98998983552244 40.62383804...</td>\n",
       "      <td>NaN</td>\n",
       "      <td>08/22/2017 12:00:00 AM +0000</td>\n",
       "      <td>Constructed</td>\n",
       "      <td>568078</td>\n",
       "      <td>24.980</td>\n",
       "      <td>2100.000</td>\n",
       "      <td>44.000</td>\n",
       "      <td>1163.228</td>\n",
       "      <td>165.609</td>\n",
       "      <td>3055100055.000</td>\n",
       "      <td>3055100055.000</td>\n",
       "      <td>Photogramm</td>\n",
       "    </tr>\n",
       "  </tbody>\n",
       "</table>\n",
       "</div>"
      ],
      "text/plain": [
       "   CNSTRCT_YR      BIN                                           the_geom  \\\n",
       "0    2009.000  3394646  MULTIPOLYGON (((-73.87129515296562 40.65717370...   \n",
       "1    1930.000  4548330  MULTIPOLYGON (((-73.87670970144625 40.71425234...   \n",
       "2    1960.000  4460479  MULTIPOLYGON (((-73.85195485799383 40.66235471...   \n",
       "3    1920.000  3355684  MULTIPOLYGON (((-73.94029215265738 40.64108287...   \n",
       "4    1915.000  3131737  MULTIPOLYGON (((-73.98998983552244 40.62383804...   \n",
       "\n",
       "  NAME                    LSTMODDATE   LSTSTATYPE  DOITT_ID  HEIGHTROOF  \\\n",
       "0  NaN  08/22/2017 12:00:00 AM +0000  Constructed   1212853      21.609   \n",
       "1  NaN  08/17/2017 12:00:00 AM +0000  Constructed   1226227      10.360   \n",
       "2  NaN  08/22/2017 12:00:00 AM +0000  Constructed    581946      29.812   \n",
       "3  NaN  08/17/2017 12:00:00 AM +0000  Constructed    858061      11.200   \n",
       "4  NaN  08/22/2017 12:00:00 AM +0000  Constructed    568078      24.980   \n",
       "\n",
       "   FEAT_CODE  GROUNDELEV  SHAPE_AREA  SHAPE_LEN       BASE_BBL     MPLUTO_BBL  \\\n",
       "0   2100.000      18.000     854.662    125.080 3044520815.000 3044520815.000   \n",
       "1   5110.000     122.000     217.594     60.226 4030640041.000 4030640041.000   \n",
       "2   2100.000      10.000     946.427    123.142 4139430001.000 4139430001.000   \n",
       "3   5110.000      32.000     248.678     63.941 3049720006.000 3049720006.000   \n",
       "4   2100.000      44.000    1163.228    165.609 3055100055.000 3055100055.000   \n",
       "\n",
       "   GEOMSOURCE  \n",
       "0  Photogramm  \n",
       "1  Photogramm  \n",
       "2  Photogramm  \n",
       "3  Photogramm  \n",
       "4  Photogramm  "
      ]
     },
     "execution_count": 69,
     "metadata": {},
     "output_type": "execute_result"
    }
   ],
   "source": [
    "building_footprints_dropna.head()"
   ]
  },
  {
   "cell_type": "code",
   "execution_count": 70,
   "metadata": {},
   "outputs": [
    {
     "name": "stdout",
     "output_type": "stream",
     "text": [
      "1677-09-21 00:12:43.145225\n",
      "2262-04-11 23:47:16.854775807\n"
     ]
    }
   ],
   "source": [
    "print(pd.Timestamp.min)\n",
    "print(pd.Timestamp.max)"
   ]
  },
  {
   "cell_type": "code",
   "execution_count": 71,
   "metadata": {},
   "outputs": [
    {
     "data": {
      "text/plain": [
       "Text(0.5, 1.0, 'Histogram of Construction Year Values')"
      ]
     },
     "execution_count": 71,
     "metadata": {},
     "output_type": "execute_result"
    },
    {
     "data": {
      "image/png": "[encoded data removed]",
      "text/plain": [
       "<Figure size 1080x720 with 1 Axes>"
      ]
     },
     "metadata": {
      "needs_background": "light"
     },
     "output_type": "display_data"
    }
   ],
   "source": [
    "# making a histogram of our 'CNSTRCT_YR' column with 10 bins\n",
    "building_footprints_dropna['CNSTRCT_YR'].hist(bins=10, figsize=(15,10))\n",
    "plt.xlabel('Construction Year', fontsize=15)\n",
    "plt.ylabel('Counts', fontsize=15)\n",
    "plt.title('Histogram of Construction Year Values', fontsize=15)"
   ]
  },
  {
   "cell_type": "code",
   "execution_count": 72,
   "metadata": {},
   "outputs": [
    {
     "data": {
      "text/plain": [
       "Text(0.5, 1.0, 'Histogram of Construction Year Values')"
      ]
     },
     "execution_count": 72,
     "metadata": {},
     "output_type": "execute_result"
    },
    {
     "data": {
      "image/png": "[encoded data removed]",
      "text/plain": [
       "<Figure size 1080x720 with 1 Axes>"
      ]
     },
     "metadata": {
      "needs_background": "light"
     },
     "output_type": "display_data"
    }
   ],
   "source": [
    "# making a histogram of our 'CNSTRCT_YR' column with 25 bins\n",
    "building_footprints_dropna['CNSTRCT_YR'].hist(bins=25, figsize=(15,10))\n",
    "plt.xlabel('Construction Year', fontsize=15)\n",
    "plt.ylabel('Counts', fontsize=15)\n",
    "plt.title('Histogram of Construction Year Values', fontsize=15)"
   ]
  },
  {
   "cell_type": "code",
   "execution_count": 73,
   "metadata": {},
   "outputs": [
    {
     "data": {
      "text/html": [
       "<div>\n",
       "<style scoped>\n",
       "    .dataframe tbody tr th:only-of-type {\n",
       "        vertical-align: middle;\n",
       "    }\n",
       "\n",
       "    .dataframe tbody tr th {\n",
       "        vertical-align: top;\n",
       "    }\n",
       "\n",
       "    .dataframe thead th {\n",
       "        text-align: right;\n",
       "    }\n",
       "</style>\n",
       "<table border=\"1\" class=\"dataframe\">\n",
       "  <thead>\n",
       "    <tr style=\"text-align: right;\">\n",
       "      <th></th>\n",
       "      <th>CNSTRCT_YR</th>\n",
       "      <th>count</th>\n",
       "    </tr>\n",
       "  </thead>\n",
       "  <tbody>\n",
       "    <tr>\n",
       "      <th>1652</th>\n",
       "      <td>1652.000</td>\n",
       "      <td>1</td>\n",
       "    </tr>\n",
       "    <tr>\n",
       "      <th>1661</th>\n",
       "      <td>1661.000</td>\n",
       "      <td>2</td>\n",
       "    </tr>\n",
       "    <tr>\n",
       "      <th>1665</th>\n",
       "      <td>1665.000</td>\n",
       "      <td>1</td>\n",
       "    </tr>\n",
       "    <tr>\n",
       "      <th>1680</th>\n",
       "      <td>1680.000</td>\n",
       "      <td>1</td>\n",
       "    </tr>\n",
       "    <tr>\n",
       "      <th>1690</th>\n",
       "      <td>1690.000</td>\n",
       "      <td>1</td>\n",
       "    </tr>\n",
       "  </tbody>\n",
       "</table>\n",
       "</div>"
      ],
      "text/plain": [
       "      CNSTRCT_YR  count\n",
       "1652    1652.000      1\n",
       "1661    1661.000      2\n",
       "1665    1665.000      1\n",
       "1680    1680.000      1\n",
       "1690    1690.000      1"
      ]
     },
     "execution_count": 73,
     "metadata": {},
     "output_type": "execute_result"
    }
   ],
   "source": [
    "g = building_footprints_dropna.groupby('CNSTRCT_YR')['DOITT_ID'].count().reset_index()\n",
    "g.rename({'DOITT_ID': 'count'}, axis=1, inplace=True)\n",
    "g.set_index('CNSTRCT_YR', drop=False, inplace=True)\n",
    "g.index = g.index.astype('int64')\n",
    "\n",
    "g.head()"
   ]
  },
  {
   "cell_type": "code",
   "execution_count": 74,
   "metadata": {},
   "outputs": [
    {
     "data": {
      "image/png": "[encoded data removed]",
      "text/plain": [
       "<Figure size 1080x720 with 1 Axes>"
      ]
     },
     "metadata": {
      "needs_background": "light"
     },
     "output_type": "display_data"
    }
   ],
   "source": [
    "fig, ax = plt.subplots(figsize=(15,10))\n",
    "\n",
    "# plotting bar chart of number of claims by year\n",
    "ax.plot(g['count'], linewidth=4)\n",
    "\n",
    "# formatting Y axis with comma\n",
    "ax.get_yaxis().set_major_formatter(\n",
    "    matplotlib.ticker.FuncFormatter(lambda x, p: format(int(x), ',')))\n",
    "\n",
    "plt.xlabel('Construction Year', fontsize=15)\n",
    "plt.ylabel('Number of Newly Constructed Buildings', fontsize=15)\n",
    "plt.title('Number of Newly Constructed Buildings by Construction Year of Buildings Built in NYC',\n",
    "         fontsize=17)\n",
    "plt.tight_layout()\n",
    "#plt.savefig('figures/line-plot-2')"
   ]
  },
  {
   "cell_type": "code",
   "execution_count": 75,
   "metadata": {},
   "outputs": [
    {
     "data": {
      "text/plain": [
       "1901    26851\n",
       "1902      501\n",
       "1903      506\n",
       "1904      579\n",
       "1905     8448\n",
       "        ...  \n",
       "2016     1743\n",
       "2017     1866\n",
       "2018     2049\n",
       "2019      801\n",
       "2020      458\n",
       "Name: count, Length: 120, dtype: int64"
      ]
     },
     "execution_count": 75,
     "metadata": {},
     "output_type": "execute_result"
    }
   ],
   "source": [
    "g[g['CNSTRCT_YR'] > 1900]['count']"
   ]
  },
  {
   "cell_type": "code",
   "execution_count": 76,
   "metadata": {},
   "outputs": [
    {
     "data": {
      "image/png": "[encoded data removed]",
      "text/plain": [
       "<Figure size 1080x720 with 1 Axes>"
      ]
     },
     "metadata": {
      "needs_background": "light"
     },
     "output_type": "display_data"
    }
   ],
   "source": [
    "fig, ax = plt.subplots(figsize=(15,10))\n",
    "\n",
    "# plotting bar chart of number of claims by year\n",
    "ax.plot(g[g['CNSTRCT_YR'] > 1900]['count'], linewidth=4)\n",
    "\n",
    "# formatting Y axis with comma\n",
    "ax.get_yaxis().set_major_formatter(\n",
    "    matplotlib.ticker.FuncFormatter(lambda x, p: format(int(x), ',')))\n",
    "\n",
    "plt.xlabel('Construction Year', fontsize=15)\n",
    "plt.ylabel('Number of Newly Constructed Buildings', fontsize=15)\n",
    "plt.title('Number of Newly Constructed Buildings by Construction Year of Buildings Built in NYC',\n",
    "         fontsize=17)\n",
    "plt.tight_layout()\n",
    "#plt.savefig('figures/line-plot-2')"
   ]
  },
  {
   "cell_type": "code",
   "execution_count": 77,
   "metadata": {},
   "outputs": [
    {
     "data": {
      "text/html": [
       "<div>\n",
       "<style scoped>\n",
       "    .dataframe tbody tr th:only-of-type {\n",
       "        vertical-align: middle;\n",
       "    }\n",
       "\n",
       "    .dataframe tbody tr th {\n",
       "        vertical-align: top;\n",
       "    }\n",
       "\n",
       "    .dataframe thead th {\n",
       "        text-align: right;\n",
       "    }\n",
       "</style>\n",
       "<table border=\"1\" class=\"dataframe\">\n",
       "  <thead>\n",
       "    <tr style=\"text-align: right;\">\n",
       "      <th></th>\n",
       "      <th>CNSTRCT_YR</th>\n",
       "      <th>count</th>\n",
       "    </tr>\n",
       "  </thead>\n",
       "  <tbody>\n",
       "    <tr>\n",
       "      <th>1652</th>\n",
       "      <td>1652.000</td>\n",
       "      <td>1</td>\n",
       "    </tr>\n",
       "    <tr>\n",
       "      <th>1661</th>\n",
       "      <td>1661.000</td>\n",
       "      <td>2</td>\n",
       "    </tr>\n",
       "    <tr>\n",
       "      <th>1665</th>\n",
       "      <td>1665.000</td>\n",
       "      <td>1</td>\n",
       "    </tr>\n",
       "    <tr>\n",
       "      <th>1680</th>\n",
       "      <td>1680.000</td>\n",
       "      <td>1</td>\n",
       "    </tr>\n",
       "    <tr>\n",
       "      <th>1690</th>\n",
       "      <td>1690.000</td>\n",
       "      <td>1</td>\n",
       "    </tr>\n",
       "  </tbody>\n",
       "</table>\n",
       "</div>"
      ],
      "text/plain": [
       "      CNSTRCT_YR  count\n",
       "1652    1652.000      1\n",
       "1661    1661.000      2\n",
       "1665    1665.000      1\n",
       "1680    1680.000      1\n",
       "1690    1690.000      1"
      ]
     },
     "execution_count": 77,
     "metadata": {},
     "output_type": "execute_result"
    }
   ],
   "source": [
    "g.head()"
   ]
  },
  {
   "cell_type": "code",
   "execution_count": 78,
   "metadata": {},
   "outputs": [],
   "source": [
    "g['cumsum'] = g['count'].cumsum()"
   ]
  },
  {
   "cell_type": "code",
   "execution_count": 79,
   "metadata": {},
   "outputs": [
    {
     "data": {
      "text/html": [
       "<div>\n",
       "<style scoped>\n",
       "    .dataframe tbody tr th:only-of-type {\n",
       "        vertical-align: middle;\n",
       "    }\n",
       "\n",
       "    .dataframe tbody tr th {\n",
       "        vertical-align: top;\n",
       "    }\n",
       "\n",
       "    .dataframe thead th {\n",
       "        text-align: right;\n",
       "    }\n",
       "</style>\n",
       "<table border=\"1\" class=\"dataframe\">\n",
       "  <thead>\n",
       "    <tr style=\"text-align: right;\">\n",
       "      <th></th>\n",
       "      <th>CNSTRCT_YR</th>\n",
       "      <th>count</th>\n",
       "      <th>cumsum</th>\n",
       "    </tr>\n",
       "  </thead>\n",
       "  <tbody>\n",
       "    <tr>\n",
       "      <th>1652</th>\n",
       "      <td>1652.000</td>\n",
       "      <td>1</td>\n",
       "      <td>1</td>\n",
       "    </tr>\n",
       "    <tr>\n",
       "      <th>1661</th>\n",
       "      <td>1661.000</td>\n",
       "      <td>2</td>\n",
       "      <td>3</td>\n",
       "    </tr>\n",
       "    <tr>\n",
       "      <th>1665</th>\n",
       "      <td>1665.000</td>\n",
       "      <td>1</td>\n",
       "      <td>4</td>\n",
       "    </tr>\n",
       "    <tr>\n",
       "      <th>1680</th>\n",
       "      <td>1680.000</td>\n",
       "      <td>1</td>\n",
       "      <td>5</td>\n",
       "    </tr>\n",
       "    <tr>\n",
       "      <th>1690</th>\n",
       "      <td>1690.000</td>\n",
       "      <td>1</td>\n",
       "      <td>6</td>\n",
       "    </tr>\n",
       "  </tbody>\n",
       "</table>\n",
       "</div>"
      ],
      "text/plain": [
       "      CNSTRCT_YR  count  cumsum\n",
       "1652    1652.000      1       1\n",
       "1661    1661.000      2       3\n",
       "1665    1665.000      1       4\n",
       "1680    1680.000      1       5\n",
       "1690    1690.000      1       6"
      ]
     },
     "execution_count": 79,
     "metadata": {},
     "output_type": "execute_result"
    }
   ],
   "source": [
    "g.head()"
   ]
  },
  {
   "cell_type": "code",
   "execution_count": 80,
   "metadata": {},
   "outputs": [
    {
     "data": {
      "image/png": "[encoded data removed]",
      "text/plain": [
       "<Figure size 1080x720 with 1 Axes>"
      ]
     },
     "metadata": {
      "needs_background": "light"
     },
     "output_type": "display_data"
    }
   ],
   "source": [
    "fig, ax = plt.subplots(figsize=(15,10))\n",
    "\n",
    "# plotting bar chart of number of claims by year\n",
    "ax.plot(g['cumsum'], linewidth=4)\n",
    "\n",
    "# formatting Y axis with comma\n",
    "ax.get_yaxis().set_major_formatter(\n",
    "    matplotlib.ticker.FuncFormatter(lambda x, p: format(int(x), ',')))\n",
    "\n",
    "plt.xlabel('Construction Year', fontsize=15)\n",
    "plt.ylabel('Number of Newly Constructed Buildings', fontsize=15)\n",
    "plt.title('Number of Newly Constructed Buildings by Construction Year of Buildings Built in NYC',\n",
    "         fontsize=17)\n",
    "plt.tight_layout()\n",
    "#plt.savefig('figures/line-plot-2')"
   ]
  },
  {
   "cell_type": "code",
   "execution_count": 81,
   "metadata": {},
   "outputs": [
    {
     "data": {
      "image/png": "[encoded data removed]",
      "text/plain": [
       "<Figure size 1080x720 with 1 Axes>"
      ]
     },
     "metadata": {
      "needs_background": "light"
     },
     "output_type": "display_data"
    }
   ],
   "source": [
    "fig, ax = plt.subplots(figsize=(15,10))\n",
    "\n",
    "# plotting bar chart of number of claims by year\n",
    "ax.plot(g[g['CNSTRCT_YR'] > 1900]['cumsum'], linewidth=4)\n",
    "\n",
    "# formatting Y axis with comma\n",
    "ax.get_yaxis().set_major_formatter(\n",
    "    matplotlib.ticker.FuncFormatter(lambda x, p: format(int(x), ',')))\n",
    "\n",
    "plt.xlabel('Construction Year', fontsize=15)\n",
    "plt.ylabel('Number of Newly Constructed Buildings', fontsize=15)\n",
    "plt.title('Number of Newly Constructed Buildings by Construction Year of Buildings Built in NYC',\n",
    "         fontsize=17)\n",
    "plt.tight_layout()\n",
    "#plt.savefig('figures/line-plot-2')"
   ]
  },
  {
   "cell_type": "markdown",
   "metadata": {},
   "source": [
    "## 4.2 Filling In Null/NA Values With Median "
   ]
  },
  {
   "cell_type": "code",
   "execution_count": 82,
   "metadata": {},
   "outputs": [
    {
     "data": {
      "text/html": [
       "<div>\n",
       "<style scoped>\n",
       "    .dataframe tbody tr th:only-of-type {\n",
       "        vertical-align: middle;\n",
       "    }\n",
       "\n",
       "    .dataframe tbody tr th {\n",
       "        vertical-align: top;\n",
       "    }\n",
       "\n",
       "    .dataframe thead th {\n",
       "        text-align: right;\n",
       "    }\n",
       "</style>\n",
       "<table border=\"1\" class=\"dataframe\">\n",
       "  <thead>\n",
       "    <tr style=\"text-align: right;\">\n",
       "      <th></th>\n",
       "      <th>CNSTRCT_YR</th>\n",
       "      <th>BIN</th>\n",
       "      <th>the_geom</th>\n",
       "      <th>NAME</th>\n",
       "      <th>LSTMODDATE</th>\n",
       "      <th>LSTSTATYPE</th>\n",
       "      <th>DOITT_ID</th>\n",
       "      <th>HEIGHTROOF</th>\n",
       "      <th>FEAT_CODE</th>\n",
       "      <th>GROUNDELEV</th>\n",
       "      <th>SHAPE_AREA</th>\n",
       "      <th>SHAPE_LEN</th>\n",
       "      <th>BASE_BBL</th>\n",
       "      <th>MPLUTO_BBL</th>\n",
       "      <th>GEOMSOURCE</th>\n",
       "    </tr>\n",
       "  </thead>\n",
       "  <tbody>\n",
       "    <tr>\n",
       "      <th>0</th>\n",
       "      <td>2009.000</td>\n",
       "      <td>3394646</td>\n",
       "      <td>MULTIPOLYGON (((-73.87129515296562 40.65717370...</td>\n",
       "      <td>NaN</td>\n",
       "      <td>08/22/2017 12:00:00 AM +0000</td>\n",
       "      <td>Constructed</td>\n",
       "      <td>1212853</td>\n",
       "      <td>21.609</td>\n",
       "      <td>2100.000</td>\n",
       "      <td>18.000</td>\n",
       "      <td>854.662</td>\n",
       "      <td>125.080</td>\n",
       "      <td>3044520815.000</td>\n",
       "      <td>3044520815.000</td>\n",
       "      <td>Photogramm</td>\n",
       "    </tr>\n",
       "    <tr>\n",
       "      <th>1</th>\n",
       "      <td>1930.000</td>\n",
       "      <td>4548330</td>\n",
       "      <td>MULTIPOLYGON (((-73.87670970144625 40.71425234...</td>\n",
       "      <td>NaN</td>\n",
       "      <td>08/17/2017 12:00:00 AM +0000</td>\n",
       "      <td>Constructed</td>\n",
       "      <td>1226227</td>\n",
       "      <td>10.360</td>\n",
       "      <td>5110.000</td>\n",
       "      <td>122.000</td>\n",
       "      <td>217.594</td>\n",
       "      <td>60.226</td>\n",
       "      <td>4030640041.000</td>\n",
       "      <td>4030640041.000</td>\n",
       "      <td>Photogramm</td>\n",
       "    </tr>\n",
       "    <tr>\n",
       "      <th>2</th>\n",
       "      <td>1960.000</td>\n",
       "      <td>4460479</td>\n",
       "      <td>MULTIPOLYGON (((-73.85195485799383 40.66235471...</td>\n",
       "      <td>NaN</td>\n",
       "      <td>08/22/2017 12:00:00 AM +0000</td>\n",
       "      <td>Constructed</td>\n",
       "      <td>581946</td>\n",
       "      <td>29.812</td>\n",
       "      <td>2100.000</td>\n",
       "      <td>10.000</td>\n",
       "      <td>946.427</td>\n",
       "      <td>123.142</td>\n",
       "      <td>4139430001.000</td>\n",
       "      <td>4139430001.000</td>\n",
       "      <td>Photogramm</td>\n",
       "    </tr>\n",
       "    <tr>\n",
       "      <th>3</th>\n",
       "      <td>1920.000</td>\n",
       "      <td>3355684</td>\n",
       "      <td>MULTIPOLYGON (((-73.94029215265738 40.64108287...</td>\n",
       "      <td>NaN</td>\n",
       "      <td>08/17/2017 12:00:00 AM +0000</td>\n",
       "      <td>Constructed</td>\n",
       "      <td>858061</td>\n",
       "      <td>11.200</td>\n",
       "      <td>5110.000</td>\n",
       "      <td>32.000</td>\n",
       "      <td>248.678</td>\n",
       "      <td>63.941</td>\n",
       "      <td>3049720006.000</td>\n",
       "      <td>3049720006.000</td>\n",
       "      <td>Photogramm</td>\n",
       "    </tr>\n",
       "    <tr>\n",
       "      <th>4</th>\n",
       "      <td>1915.000</td>\n",
       "      <td>3131737</td>\n",
       "      <td>MULTIPOLYGON (((-73.98998983552244 40.62383804...</td>\n",
       "      <td>NaN</td>\n",
       "      <td>08/22/2017 12:00:00 AM +0000</td>\n",
       "      <td>Constructed</td>\n",
       "      <td>568078</td>\n",
       "      <td>24.980</td>\n",
       "      <td>2100.000</td>\n",
       "      <td>44.000</td>\n",
       "      <td>1163.228</td>\n",
       "      <td>165.609</td>\n",
       "      <td>3055100055.000</td>\n",
       "      <td>3055100055.000</td>\n",
       "      <td>Photogramm</td>\n",
       "    </tr>\n",
       "  </tbody>\n",
       "</table>\n",
       "</div>"
      ],
      "text/plain": [
       "   CNSTRCT_YR      BIN                                           the_geom  \\\n",
       "0    2009.000  3394646  MULTIPOLYGON (((-73.87129515296562 40.65717370...   \n",
       "1    1930.000  4548330  MULTIPOLYGON (((-73.87670970144625 40.71425234...   \n",
       "2    1960.000  4460479  MULTIPOLYGON (((-73.85195485799383 40.66235471...   \n",
       "3    1920.000  3355684  MULTIPOLYGON (((-73.94029215265738 40.64108287...   \n",
       "4    1915.000  3131737  MULTIPOLYGON (((-73.98998983552244 40.62383804...   \n",
       "\n",
       "  NAME                    LSTMODDATE   LSTSTATYPE  DOITT_ID  HEIGHTROOF  \\\n",
       "0  NaN  08/22/2017 12:00:00 AM +0000  Constructed   1212853      21.609   \n",
       "1  NaN  08/17/2017 12:00:00 AM +0000  Constructed   1226227      10.360   \n",
       "2  NaN  08/22/2017 12:00:00 AM +0000  Constructed    581946      29.812   \n",
       "3  NaN  08/17/2017 12:00:00 AM +0000  Constructed    858061      11.200   \n",
       "4  NaN  08/22/2017 12:00:00 AM +0000  Constructed    568078      24.980   \n",
       "\n",
       "   FEAT_CODE  GROUNDELEV  SHAPE_AREA  SHAPE_LEN       BASE_BBL     MPLUTO_BBL  \\\n",
       "0   2100.000      18.000     854.662    125.080 3044520815.000 3044520815.000   \n",
       "1   5110.000     122.000     217.594     60.226 4030640041.000 4030640041.000   \n",
       "2   2100.000      10.000     946.427    123.142 4139430001.000 4139430001.000   \n",
       "3   5110.000      32.000     248.678     63.941 3049720006.000 3049720006.000   \n",
       "4   2100.000      44.000    1163.228    165.609 3055100055.000 3055100055.000   \n",
       "\n",
       "   GEOMSOURCE  \n",
       "0  Photogramm  \n",
       "1  Photogramm  \n",
       "2  Photogramm  \n",
       "3  Photogramm  \n",
       "4  Photogramm  "
      ]
     },
     "execution_count": 82,
     "metadata": {},
     "output_type": "execute_result"
    }
   ],
   "source": [
    "building_footprints.head()"
   ]
  },
  {
   "cell_type": "code",
   "execution_count": 83,
   "metadata": {},
   "outputs": [],
   "source": [
    "building_footprints_fill_median = building_footprints.sort_values(by='CNSTRCT_YR')"
   ]
  },
  {
   "cell_type": "code",
   "execution_count": 84,
   "metadata": {},
   "outputs": [
    {
     "data": {
      "text/html": [
       "<div>\n",
       "<style scoped>\n",
       "    .dataframe tbody tr th:only-of-type {\n",
       "        vertical-align: middle;\n",
       "    }\n",
       "\n",
       "    .dataframe tbody tr th {\n",
       "        vertical-align: top;\n",
       "    }\n",
       "\n",
       "    .dataframe thead th {\n",
       "        text-align: right;\n",
       "    }\n",
       "</style>\n",
       "<table border=\"1\" class=\"dataframe\">\n",
       "  <thead>\n",
       "    <tr style=\"text-align: right;\">\n",
       "      <th></th>\n",
       "      <th>CNSTRCT_YR</th>\n",
       "      <th>BIN</th>\n",
       "      <th>the_geom</th>\n",
       "      <th>NAME</th>\n",
       "      <th>LSTMODDATE</th>\n",
       "      <th>LSTSTATYPE</th>\n",
       "      <th>DOITT_ID</th>\n",
       "      <th>HEIGHTROOF</th>\n",
       "      <th>FEAT_CODE</th>\n",
       "      <th>GROUNDELEV</th>\n",
       "      <th>SHAPE_AREA</th>\n",
       "      <th>SHAPE_LEN</th>\n",
       "      <th>BASE_BBL</th>\n",
       "      <th>MPLUTO_BBL</th>\n",
       "      <th>GEOMSOURCE</th>\n",
       "    </tr>\n",
       "  </thead>\n",
       "  <tbody>\n",
       "    <tr>\n",
       "      <th>1079212</th>\n",
       "      <td>1652.000</td>\n",
       "      <td>3221967</td>\n",
       "      <td>MULTIPOLYGON (((-73.92083460429942 40.64439765...</td>\n",
       "      <td>Pieter Claesen Wyckoff House</td>\n",
       "      <td>01/28/2020 12:00:00 AM +0000</td>\n",
       "      <td>Constructed</td>\n",
       "      <td>550741</td>\n",
       "      <td>24.540</td>\n",
       "      <td>2100.000</td>\n",
       "      <td>14.000</td>\n",
       "      <td>2214.189</td>\n",
       "      <td>208.884</td>\n",
       "      <td>3079170009.000</td>\n",
       "      <td>3079170009.000</td>\n",
       "      <td>Photogramm</td>\n",
       "    </tr>\n",
       "    <tr>\n",
       "      <th>801721</th>\n",
       "      <td>1661.000</td>\n",
       "      <td>4113403</td>\n",
       "      <td>MULTIPOLYGON (((-73.8247828135812 40.762948467...</td>\n",
       "      <td>Bowne House</td>\n",
       "      <td>08/22/2017 12:00:00 AM +0000</td>\n",
       "      <td>Constructed</td>\n",
       "      <td>776399</td>\n",
       "      <td>26.120</td>\n",
       "      <td>2100.000</td>\n",
       "      <td>64.000</td>\n",
       "      <td>2814.439</td>\n",
       "      <td>242.381</td>\n",
       "      <td>4050130006.000</td>\n",
       "      <td>4050130006.000</td>\n",
       "      <td>Photogramm</td>\n",
       "    </tr>\n",
       "    <tr>\n",
       "      <th>482994</th>\n",
       "      <td>1661.000</td>\n",
       "      <td>4610542</td>\n",
       "      <td>MULTIPOLYGON (((-73.82449114078894 40.76279389...</td>\n",
       "      <td>NaN</td>\n",
       "      <td>08/17/2017 12:00:00 AM +0000</td>\n",
       "      <td>Constructed</td>\n",
       "      <td>1190137</td>\n",
       "      <td>14.847</td>\n",
       "      <td>5110.000</td>\n",
       "      <td>63.000</td>\n",
       "      <td>571.058</td>\n",
       "      <td>112.945</td>\n",
       "      <td>4050130006.000</td>\n",
       "      <td>4050130006.000</td>\n",
       "      <td>Photogramm</td>\n",
       "    </tr>\n",
       "    <tr>\n",
       "      <th>964742</th>\n",
       "      <td>1665.000</td>\n",
       "      <td>5130548</td>\n",
       "      <td>MULTIPOLYGON (((-74.06383185277687 40.61463876...</td>\n",
       "      <td>NaN</td>\n",
       "      <td>08/22/2017 12:00:00 AM +0000</td>\n",
       "      <td>Constructed</td>\n",
       "      <td>160094</td>\n",
       "      <td>32.570</td>\n",
       "      <td>2100.000</td>\n",
       "      <td>38.000</td>\n",
       "      <td>3580.968</td>\n",
       "      <td>308.578</td>\n",
       "      <td>5028300049.000</td>\n",
       "      <td>5028300049.000</td>\n",
       "      <td>Photogramm</td>\n",
       "    </tr>\n",
       "    <tr>\n",
       "      <th>1083750</th>\n",
       "      <td>1680.000</td>\n",
       "      <td>5087656</td>\n",
       "      <td>MULTIPOLYGON (((-74.25311647359251 40.50309522...</td>\n",
       "      <td>Conference House</td>\n",
       "      <td>04/13/2020 12:00:00 AM +0000</td>\n",
       "      <td>Constructed</td>\n",
       "      <td>702698</td>\n",
       "      <td>38.640</td>\n",
       "      <td>2100.000</td>\n",
       "      <td>38.000</td>\n",
       "      <td>2051.849</td>\n",
       "      <td>181.231</td>\n",
       "      <td>5078570090.000</td>\n",
       "      <td>5078570090.000</td>\n",
       "      <td>Photogramm</td>\n",
       "    </tr>\n",
       "  </tbody>\n",
       "</table>\n",
       "</div>"
      ],
      "text/plain": [
       "         CNSTRCT_YR      BIN  \\\n",
       "1079212    1652.000  3221967   \n",
       "801721     1661.000  4113403   \n",
       "482994     1661.000  4610542   \n",
       "964742     1665.000  5130548   \n",
       "1083750    1680.000  5087656   \n",
       "\n",
       "                                                  the_geom  \\\n",
       "1079212  MULTIPOLYGON (((-73.92083460429942 40.64439765...   \n",
       "801721   MULTIPOLYGON (((-73.8247828135812 40.762948467...   \n",
       "482994   MULTIPOLYGON (((-73.82449114078894 40.76279389...   \n",
       "964742   MULTIPOLYGON (((-74.06383185277687 40.61463876...   \n",
       "1083750  MULTIPOLYGON (((-74.25311647359251 40.50309522...   \n",
       "\n",
       "                                 NAME                    LSTMODDATE  \\\n",
       "1079212  Pieter Claesen Wyckoff House  01/28/2020 12:00:00 AM +0000   \n",
       "801721                    Bowne House  08/22/2017 12:00:00 AM +0000   \n",
       "482994                            NaN  08/17/2017 12:00:00 AM +0000   \n",
       "964742                            NaN  08/22/2017 12:00:00 AM +0000   \n",
       "1083750              Conference House  04/13/2020 12:00:00 AM +0000   \n",
       "\n",
       "          LSTSTATYPE  DOITT_ID  HEIGHTROOF  FEAT_CODE  GROUNDELEV  SHAPE_AREA  \\\n",
       "1079212  Constructed    550741      24.540   2100.000      14.000    2214.189   \n",
       "801721   Constructed    776399      26.120   2100.000      64.000    2814.439   \n",
       "482994   Constructed   1190137      14.847   5110.000      63.000     571.058   \n",
       "964742   Constructed    160094      32.570   2100.000      38.000    3580.968   \n",
       "1083750  Constructed    702698      38.640   2100.000      38.000    2051.849   \n",
       "\n",
       "         SHAPE_LEN       BASE_BBL     MPLUTO_BBL  GEOMSOURCE  \n",
       "1079212    208.884 3079170009.000 3079170009.000  Photogramm  \n",
       "801721     242.381 4050130006.000 4050130006.000  Photogramm  \n",
       "482994     112.945 4050130006.000 4050130006.000  Photogramm  \n",
       "964742     308.578 5028300049.000 5028300049.000  Photogramm  \n",
       "1083750    181.231 5078570090.000 5078570090.000  Photogramm  "
      ]
     },
     "execution_count": 84,
     "metadata": {},
     "output_type": "execute_result"
    }
   ],
   "source": [
    "# saving the median of our 'CNSTRCT_YR' as the name 'median'\n",
    "median = building_footprints_fill_median['CNSTRCT_YR'].median()\n",
    "\n",
    "# filling na values in our'CNSTRCT_YR' column with the column's median value\n",
    "building_footprints_fill_median[\"CNSTRCT_YR\"] = building_footprints_fill_median[\"CNSTRCT_YR\"].fillna(value=median)\n",
    "building_footprints_fill_median.head()"
   ]
  },
  {
   "cell_type": "code",
   "execution_count": 85,
   "metadata": {},
   "outputs": [
    {
     "data": {
      "text/plain": [
       "0"
      ]
     },
     "execution_count": 85,
     "metadata": {},
     "output_type": "execute_result"
    }
   ],
   "source": [
    "# summing null/na values in the 'CNSTRCT_YR' column\n",
    "building_footprints_fill_median['CNSTRCT_YR'].isna().sum()"
   ]
  },
  {
   "cell_type": "code",
   "execution_count": 86,
   "metadata": {
    "scrolled": true
   },
   "outputs": [
    {
     "data": {
      "text/html": [
       "<div>\n",
       "<style scoped>\n",
       "    .dataframe tbody tr th:only-of-type {\n",
       "        vertical-align: middle;\n",
       "    }\n",
       "\n",
       "    .dataframe tbody tr th {\n",
       "        vertical-align: top;\n",
       "    }\n",
       "\n",
       "    .dataframe thead th {\n",
       "        text-align: right;\n",
       "    }\n",
       "</style>\n",
       "<table border=\"1\" class=\"dataframe\">\n",
       "  <thead>\n",
       "    <tr style=\"text-align: right;\">\n",
       "      <th></th>\n",
       "      <th>CNSTRCT_YR</th>\n",
       "      <th>BIN</th>\n",
       "      <th>the_geom</th>\n",
       "      <th>NAME</th>\n",
       "      <th>LSTMODDATE</th>\n",
       "      <th>LSTSTATYPE</th>\n",
       "      <th>DOITT_ID</th>\n",
       "      <th>HEIGHTROOF</th>\n",
       "      <th>FEAT_CODE</th>\n",
       "      <th>GROUNDELEV</th>\n",
       "      <th>SHAPE_AREA</th>\n",
       "      <th>SHAPE_LEN</th>\n",
       "      <th>BASE_BBL</th>\n",
       "      <th>MPLUTO_BBL</th>\n",
       "      <th>GEOMSOURCE</th>\n",
       "    </tr>\n",
       "  </thead>\n",
       "  <tbody>\n",
       "    <tr>\n",
       "      <th>1079212</th>\n",
       "      <td>1652.000</td>\n",
       "      <td>3221967</td>\n",
       "      <td>MULTIPOLYGON (((-73.92083460429942 40.64439765...</td>\n",
       "      <td>Pieter Claesen Wyckoff House</td>\n",
       "      <td>01/28/2020 12:00:00 AM +0000</td>\n",
       "      <td>Constructed</td>\n",
       "      <td>550741</td>\n",
       "      <td>24.540</td>\n",
       "      <td>2100.000</td>\n",
       "      <td>14.000</td>\n",
       "      <td>2214.189</td>\n",
       "      <td>208.884</td>\n",
       "      <td>3079170009.000</td>\n",
       "      <td>3079170009.000</td>\n",
       "      <td>Photogramm</td>\n",
       "    </tr>\n",
       "    <tr>\n",
       "      <th>801721</th>\n",
       "      <td>1661.000</td>\n",
       "      <td>4113403</td>\n",
       "      <td>MULTIPOLYGON (((-73.8247828135812 40.762948467...</td>\n",
       "      <td>Bowne House</td>\n",
       "      <td>08/22/2017 12:00:00 AM +0000</td>\n",
       "      <td>Constructed</td>\n",
       "      <td>776399</td>\n",
       "      <td>26.120</td>\n",
       "      <td>2100.000</td>\n",
       "      <td>64.000</td>\n",
       "      <td>2814.439</td>\n",
       "      <td>242.381</td>\n",
       "      <td>4050130006.000</td>\n",
       "      <td>4050130006.000</td>\n",
       "      <td>Photogramm</td>\n",
       "    </tr>\n",
       "    <tr>\n",
       "      <th>482994</th>\n",
       "      <td>1661.000</td>\n",
       "      <td>4610542</td>\n",
       "      <td>MULTIPOLYGON (((-73.82449114078894 40.76279389...</td>\n",
       "      <td>NaN</td>\n",
       "      <td>08/17/2017 12:00:00 AM +0000</td>\n",
       "      <td>Constructed</td>\n",
       "      <td>1190137</td>\n",
       "      <td>14.847</td>\n",
       "      <td>5110.000</td>\n",
       "      <td>63.000</td>\n",
       "      <td>571.058</td>\n",
       "      <td>112.945</td>\n",
       "      <td>4050130006.000</td>\n",
       "      <td>4050130006.000</td>\n",
       "      <td>Photogramm</td>\n",
       "    </tr>\n",
       "    <tr>\n",
       "      <th>964742</th>\n",
       "      <td>1665.000</td>\n",
       "      <td>5130548</td>\n",
       "      <td>MULTIPOLYGON (((-74.06383185277687 40.61463876...</td>\n",
       "      <td>NaN</td>\n",
       "      <td>08/22/2017 12:00:00 AM +0000</td>\n",
       "      <td>Constructed</td>\n",
       "      <td>160094</td>\n",
       "      <td>32.570</td>\n",
       "      <td>2100.000</td>\n",
       "      <td>38.000</td>\n",
       "      <td>3580.968</td>\n",
       "      <td>308.578</td>\n",
       "      <td>5028300049.000</td>\n",
       "      <td>5028300049.000</td>\n",
       "      <td>Photogramm</td>\n",
       "    </tr>\n",
       "    <tr>\n",
       "      <th>1083750</th>\n",
       "      <td>1680.000</td>\n",
       "      <td>5087656</td>\n",
       "      <td>MULTIPOLYGON (((-74.25311647359251 40.50309522...</td>\n",
       "      <td>Conference House</td>\n",
       "      <td>04/13/2020 12:00:00 AM +0000</td>\n",
       "      <td>Constructed</td>\n",
       "      <td>702698</td>\n",
       "      <td>38.640</td>\n",
       "      <td>2100.000</td>\n",
       "      <td>38.000</td>\n",
       "      <td>2051.849</td>\n",
       "      <td>181.231</td>\n",
       "      <td>5078570090.000</td>\n",
       "      <td>5078570090.000</td>\n",
       "      <td>Photogramm</td>\n",
       "    </tr>\n",
       "  </tbody>\n",
       "</table>\n",
       "</div>"
      ],
      "text/plain": [
       "         CNSTRCT_YR      BIN  \\\n",
       "1079212    1652.000  3221967   \n",
       "801721     1661.000  4113403   \n",
       "482994     1661.000  4610542   \n",
       "964742     1665.000  5130548   \n",
       "1083750    1680.000  5087656   \n",
       "\n",
       "                                                  the_geom  \\\n",
       "1079212  MULTIPOLYGON (((-73.92083460429942 40.64439765...   \n",
       "801721   MULTIPOLYGON (((-73.8247828135812 40.762948467...   \n",
       "482994   MULTIPOLYGON (((-73.82449114078894 40.76279389...   \n",
       "964742   MULTIPOLYGON (((-74.06383185277687 40.61463876...   \n",
       "1083750  MULTIPOLYGON (((-74.25311647359251 40.50309522...   \n",
       "\n",
       "                                 NAME                    LSTMODDATE  \\\n",
       "1079212  Pieter Claesen Wyckoff House  01/28/2020 12:00:00 AM +0000   \n",
       "801721                    Bowne House  08/22/2017 12:00:00 AM +0000   \n",
       "482994                            NaN  08/17/2017 12:00:00 AM +0000   \n",
       "964742                            NaN  08/22/2017 12:00:00 AM +0000   \n",
       "1083750              Conference House  04/13/2020 12:00:00 AM +0000   \n",
       "\n",
       "          LSTSTATYPE  DOITT_ID  HEIGHTROOF  FEAT_CODE  GROUNDELEV  SHAPE_AREA  \\\n",
       "1079212  Constructed    550741      24.540   2100.000      14.000    2214.189   \n",
       "801721   Constructed    776399      26.120   2100.000      64.000    2814.439   \n",
       "482994   Constructed   1190137      14.847   5110.000      63.000     571.058   \n",
       "964742   Constructed    160094      32.570   2100.000      38.000    3580.968   \n",
       "1083750  Constructed    702698      38.640   2100.000      38.000    2051.849   \n",
       "\n",
       "         SHAPE_LEN       BASE_BBL     MPLUTO_BBL  GEOMSOURCE  \n",
       "1079212    208.884 3079170009.000 3079170009.000  Photogramm  \n",
       "801721     242.381 4050130006.000 4050130006.000  Photogramm  \n",
       "482994     112.945 4050130006.000 4050130006.000  Photogramm  \n",
       "964742     308.578 5028300049.000 5028300049.000  Photogramm  \n",
       "1083750    181.231 5078570090.000 5078570090.000  Photogramm  "
      ]
     },
     "execution_count": 86,
     "metadata": {},
     "output_type": "execute_result"
    }
   ],
   "source": [
    "# printing the first five rows of our data sorted by the 'CNSTRCT_YR' column in ascending order\n",
    "building_footprints_fill_median.sort_values('CNSTRCT_YR').head()"
   ]
  },
  {
   "cell_type": "code",
   "execution_count": 87,
   "metadata": {},
   "outputs": [
    {
     "data": {
      "text/html": [
       "<div>\n",
       "<style scoped>\n",
       "    .dataframe tbody tr th:only-of-type {\n",
       "        vertical-align: middle;\n",
       "    }\n",
       "\n",
       "    .dataframe tbody tr th {\n",
       "        vertical-align: top;\n",
       "    }\n",
       "\n",
       "    .dataframe thead th {\n",
       "        text-align: right;\n",
       "    }\n",
       "</style>\n",
       "<table border=\"1\" class=\"dataframe\">\n",
       "  <thead>\n",
       "    <tr style=\"text-align: right;\">\n",
       "      <th></th>\n",
       "      <th>CNSTRCT_YR</th>\n",
       "      <th>BIN</th>\n",
       "      <th>the_geom</th>\n",
       "      <th>NAME</th>\n",
       "      <th>LSTMODDATE</th>\n",
       "      <th>LSTSTATYPE</th>\n",
       "      <th>DOITT_ID</th>\n",
       "      <th>HEIGHTROOF</th>\n",
       "      <th>FEAT_CODE</th>\n",
       "      <th>GROUNDELEV</th>\n",
       "      <th>SHAPE_AREA</th>\n",
       "      <th>SHAPE_LEN</th>\n",
       "      <th>BASE_BBL</th>\n",
       "      <th>MPLUTO_BBL</th>\n",
       "      <th>GEOMSOURCE</th>\n",
       "    </tr>\n",
       "  </thead>\n",
       "  <tbody>\n",
       "    <tr>\n",
       "      <th>1083638</th>\n",
       "      <td>2020.000</td>\n",
       "      <td>4615831</td>\n",
       "      <td>MULTIPOLYGON (((-73.7704471142095 40.717497582...</td>\n",
       "      <td>NaN</td>\n",
       "      <td>03/20/2020 12:00:00 AM +0000</td>\n",
       "      <td>Marked for Construction</td>\n",
       "      <td>1292340</td>\n",
       "      <td>nan</td>\n",
       "      <td>2100.000</td>\n",
       "      <td>135.000</td>\n",
       "      <td>181.952</td>\n",
       "      <td>61.739</td>\n",
       "      <td>4105090075.000</td>\n",
       "      <td>4105090075.000</td>\n",
       "      <td>Other (Man</td>\n",
       "    </tr>\n",
       "    <tr>\n",
       "      <th>1083633</th>\n",
       "      <td>2020.000</td>\n",
       "      <td>4615813</td>\n",
       "      <td>MULTIPOLYGON (((-73.77031294819673 40.71909755...</td>\n",
       "      <td>NaN</td>\n",
       "      <td>03/20/2020 12:00:00 AM +0000</td>\n",
       "      <td>Marked for Construction</td>\n",
       "      <td>1292334</td>\n",
       "      <td>nan</td>\n",
       "      <td>2100.000</td>\n",
       "      <td>140.000</td>\n",
       "      <td>1679.419</td>\n",
       "      <td>163.949</td>\n",
       "      <td>4105090056.000</td>\n",
       "      <td>4105090056.000</td>\n",
       "      <td>Other (Man</td>\n",
       "    </tr>\n",
       "    <tr>\n",
       "      <th>1083647</th>\n",
       "      <td>2020.000</td>\n",
       "      <td>2129534</td>\n",
       "      <td>MULTIPOLYGON (((-73.850860911115 40.8479458976...</td>\n",
       "      <td>NaN</td>\n",
       "      <td>06/25/2020 12:00:00 AM +0000</td>\n",
       "      <td>Marked for Construction</td>\n",
       "      <td>1292633</td>\n",
       "      <td>26.000</td>\n",
       "      <td>5100.000</td>\n",
       "      <td>76.000</td>\n",
       "      <td>825.008</td>\n",
       "      <td>140.000</td>\n",
       "      <td>2041060017.000</td>\n",
       "      <td>nan</td>\n",
       "      <td>Other (Man</td>\n",
       "    </tr>\n",
       "    <tr>\n",
       "      <th>1083650</th>\n",
       "      <td>2020.000</td>\n",
       "      <td>5171998</td>\n",
       "      <td>MULTIPOLYGON (((-74.13319010325726 40.57812092...</td>\n",
       "      <td>NaN</td>\n",
       "      <td>06/25/2020 12:00:00 AM +0000</td>\n",
       "      <td>Marked for Construction</td>\n",
       "      <td>1292636</td>\n",
       "      <td>30.000</td>\n",
       "      <td>5100.000</td>\n",
       "      <td>190.000</td>\n",
       "      <td>2000.001</td>\n",
       "      <td>180.000</td>\n",
       "      <td>5022670055.000</td>\n",
       "      <td>nan</td>\n",
       "      <td>Other (Man</td>\n",
       "    </tr>\n",
       "    <tr>\n",
       "      <th>1083651</th>\n",
       "      <td>2020.000</td>\n",
       "      <td>2129125</td>\n",
       "      <td>MULTIPOLYGON (((-73.91531521855829 40.81335708...</td>\n",
       "      <td>NaN</td>\n",
       "      <td>06/26/2020 12:00:00 AM +0000</td>\n",
       "      <td>Constructed</td>\n",
       "      <td>1292638</td>\n",
       "      <td>42.000</td>\n",
       "      <td>2100.000</td>\n",
       "      <td>16.000</td>\n",
       "      <td>3044.782</td>\n",
       "      <td>221.049</td>\n",
       "      <td>2022720109.000</td>\n",
       "      <td>2022720109.000</td>\n",
       "      <td>Other (Man</td>\n",
       "    </tr>\n",
       "  </tbody>\n",
       "</table>\n",
       "</div>"
      ],
      "text/plain": [
       "         CNSTRCT_YR      BIN  \\\n",
       "1083638    2020.000  4615831   \n",
       "1083633    2020.000  4615813   \n",
       "1083647    2020.000  2129534   \n",
       "1083650    2020.000  5171998   \n",
       "1083651    2020.000  2129125   \n",
       "\n",
       "                                                  the_geom NAME  \\\n",
       "1083638  MULTIPOLYGON (((-73.7704471142095 40.717497582...  NaN   \n",
       "1083633  MULTIPOLYGON (((-73.77031294819673 40.71909755...  NaN   \n",
       "1083647  MULTIPOLYGON (((-73.850860911115 40.8479458976...  NaN   \n",
       "1083650  MULTIPOLYGON (((-74.13319010325726 40.57812092...  NaN   \n",
       "1083651  MULTIPOLYGON (((-73.91531521855829 40.81335708...  NaN   \n",
       "\n",
       "                           LSTMODDATE               LSTSTATYPE  DOITT_ID  \\\n",
       "1083638  03/20/2020 12:00:00 AM +0000  Marked for Construction   1292340   \n",
       "1083633  03/20/2020 12:00:00 AM +0000  Marked for Construction   1292334   \n",
       "1083647  06/25/2020 12:00:00 AM +0000  Marked for Construction   1292633   \n",
       "1083650  06/25/2020 12:00:00 AM +0000  Marked for Construction   1292636   \n",
       "1083651  06/26/2020 12:00:00 AM +0000              Constructed   1292638   \n",
       "\n",
       "         HEIGHTROOF  FEAT_CODE  GROUNDELEV  SHAPE_AREA  SHAPE_LEN  \\\n",
       "1083638         nan   2100.000     135.000     181.952     61.739   \n",
       "1083633         nan   2100.000     140.000    1679.419    163.949   \n",
       "1083647      26.000   5100.000      76.000     825.008    140.000   \n",
       "1083650      30.000   5100.000     190.000    2000.001    180.000   \n",
       "1083651      42.000   2100.000      16.000    3044.782    221.049   \n",
       "\n",
       "              BASE_BBL     MPLUTO_BBL  GEOMSOURCE  \n",
       "1083638 4105090075.000 4105090075.000  Other (Man  \n",
       "1083633 4105090056.000 4105090056.000  Other (Man  \n",
       "1083647 2041060017.000            nan  Other (Man  \n",
       "1083650 5022670055.000            nan  Other (Man  \n",
       "1083651 2022720109.000 2022720109.000  Other (Man  "
      ]
     },
     "execution_count": 87,
     "metadata": {},
     "output_type": "execute_result"
    }
   ],
   "source": [
    "# printing the first five rows of our data sorted by the 'CNSTRCT_YR' column in ascending order\n",
    "building_footprints_fill_median.sort_values('CNSTRCT_YR', ascending=False).head()"
   ]
  },
  {
   "cell_type": "code",
   "execution_count": 88,
   "metadata": {},
   "outputs": [
    {
     "data": {
      "text/plain": [
       "count   1084920.000\n",
       "mean       1938.994\n",
       "std          28.693\n",
       "min        1652.000\n",
       "25%        1920.000\n",
       "50%        1930.000\n",
       "75%        1955.000\n",
       "max        2020.000\n",
       "Name: CNSTRCT_YR, dtype: float64"
      ]
     },
     "execution_count": 88,
     "metadata": {},
     "output_type": "execute_result"
    }
   ],
   "source": [
    "# printing descriptive statistics of our 'CNSTRCT_YR' column\n",
    "building_footprints_fill_median['CNSTRCT_YR'].describe()"
   ]
  },
  {
   "cell_type": "code",
   "execution_count": 89,
   "metadata": {},
   "outputs": [
    {
     "data": {
      "text/plain": [
       "1920.000    131436\n",
       "1930.000    124725\n",
       "1925.000    109687\n",
       "1950.000     63001\n",
       "1910.000     52935\n",
       "             ...  \n",
       "1803.000         1\n",
       "1789.000         1\n",
       "1792.000         1\n",
       "1793.000         1\n",
       "1652.000         1\n",
       "Name: CNSTRCT_YR, Length: 246, dtype: int64"
      ]
     },
     "execution_count": 89,
     "metadata": {},
     "output_type": "execute_result"
    }
   ],
   "source": [
    "# return counts of unique values in descending order of our'CNSTRCT_YR' column\n",
    "building_footprints_fill_median['CNSTRCT_YR'].value_counts()"
   ]
  },
  {
   "cell_type": "code",
   "execution_count": 90,
   "metadata": {},
   "outputs": [
    {
     "data": {
      "text/plain": [
       "1652.000       1\n",
       "1661.000       2\n",
       "1665.000       1\n",
       "1680.000       1\n",
       "1690.000       1\n",
       "            ... \n",
       "2016.000    1743\n",
       "2017.000    1866\n",
       "2018.000    2049\n",
       "2019.000     801\n",
       "2020.000     458\n",
       "Name: CNSTRCT_YR, Length: 246, dtype: int64"
      ]
     },
     "execution_count": 90,
     "metadata": {},
     "output_type": "execute_result"
    }
   ],
   "source": [
    "# return counts of unique values of our 'CNSTRCT_YR' column sorted by 'CNSTRCT_YR'\n",
    "building_footprints_fill_median['CNSTRCT_YR'].value_counts().sort_index()"
   ]
  },
  {
   "cell_type": "code",
   "execution_count": 91,
   "metadata": {},
   "outputs": [
    {
     "data": {
      "text/html": [
       "<div>\n",
       "<style scoped>\n",
       "    .dataframe tbody tr th:only-of-type {\n",
       "        vertical-align: middle;\n",
       "    }\n",
       "\n",
       "    .dataframe tbody tr th {\n",
       "        vertical-align: top;\n",
       "    }\n",
       "\n",
       "    .dataframe thead th {\n",
       "        text-align: right;\n",
       "    }\n",
       "</style>\n",
       "<table border=\"1\" class=\"dataframe\">\n",
       "  <thead>\n",
       "    <tr style=\"text-align: right;\">\n",
       "      <th></th>\n",
       "      <th>CNSTRCT_YR</th>\n",
       "      <th>BIN</th>\n",
       "      <th>DOITT_ID</th>\n",
       "      <th>HEIGHTROOF</th>\n",
       "      <th>FEAT_CODE</th>\n",
       "      <th>GROUNDELEV</th>\n",
       "      <th>SHAPE_AREA</th>\n",
       "      <th>SHAPE_LEN</th>\n",
       "      <th>BASE_BBL</th>\n",
       "      <th>MPLUTO_BBL</th>\n",
       "    </tr>\n",
       "  </thead>\n",
       "  <tbody>\n",
       "    <tr>\n",
       "      <th>count</th>\n",
       "      <td>1084920.000</td>\n",
       "      <td>1084920.000</td>\n",
       "      <td>1084920.000</td>\n",
       "      <td>1082256.000</td>\n",
       "      <td>1084911.000</td>\n",
       "      <td>1084392.000</td>\n",
       "      <td>1084920.000</td>\n",
       "      <td>1084920.000</td>\n",
       "      <td>1084918.000</td>\n",
       "      <td>1084368.000</td>\n",
       "    </tr>\n",
       "    <tr>\n",
       "      <th>mean</th>\n",
       "      <td>1938.994</td>\n",
       "      <td>3710175.717</td>\n",
       "      <td>590964.513</td>\n",
       "      <td>27.548</td>\n",
       "      <td>2698.573</td>\n",
       "      <td>55.099</td>\n",
       "      <td>1596.826</td>\n",
       "      <td>155.313</td>\n",
       "      <td>3562000260.428</td>\n",
       "      <td>3561844282.348</td>\n",
       "    </tr>\n",
       "    <tr>\n",
       "      <th>std</th>\n",
       "      <td>28.693</td>\n",
       "      <td>1026804.560</td>\n",
       "      <td>359294.774</td>\n",
       "      <td>21.321</td>\n",
       "      <td>1202.251</td>\n",
       "      <td>41.509</td>\n",
       "      <td>5601.416</td>\n",
       "      <td>127.149</td>\n",
       "      <td>986061947.604</td>\n",
       "      <td>986086585.783</td>\n",
       "    </tr>\n",
       "    <tr>\n",
       "      <th>min</th>\n",
       "      <td>1652.000</td>\n",
       "      <td>1000002.000</td>\n",
       "      <td>1.000</td>\n",
       "      <td>0.000</td>\n",
       "      <td>0.000</td>\n",
       "      <td>-14.000</td>\n",
       "      <td>32.475</td>\n",
       "      <td>23.737</td>\n",
       "      <td>3064269.000</td>\n",
       "      <td>3064269.000</td>\n",
       "    </tr>\n",
       "    <tr>\n",
       "      <th>25%</th>\n",
       "      <td>1920.000</td>\n",
       "      <td>3128598.750</td>\n",
       "      <td>286551.750</td>\n",
       "      <td>18.340</td>\n",
       "      <td>2100.000</td>\n",
       "      <td>25.000</td>\n",
       "      <td>652.086</td>\n",
       "      <td>109.693</td>\n",
       "      <td>3043180044.250</td>\n",
       "      <td>3043167529.750</td>\n",
       "    </tr>\n",
       "    <tr>\n",
       "      <th>50%</th>\n",
       "      <td>1930.000</td>\n",
       "      <td>4066824.500</td>\n",
       "      <td>573279.500</td>\n",
       "      <td>26.100</td>\n",
       "      <td>2100.000</td>\n",
       "      <td>46.000</td>\n",
       "      <td>957.230</td>\n",
       "      <td>137.920</td>\n",
       "      <td>4019290058.000</td>\n",
       "      <td>4019180092.500</td>\n",
       "    </tr>\n",
       "    <tr>\n",
       "      <th>75%</th>\n",
       "      <td>1955.000</td>\n",
       "      <td>4481736.250</td>\n",
       "      <td>861588.250</td>\n",
       "      <td>31.098</td>\n",
       "      <td>2100.000</td>\n",
       "      <td>74.000</td>\n",
       "      <td>1320.308</td>\n",
       "      <td>164.449</td>\n",
       "      <td>4106720009.500</td>\n",
       "      <td>4106690094.250</td>\n",
       "    </tr>\n",
       "    <tr>\n",
       "      <th>max</th>\n",
       "      <td>2020.000</td>\n",
       "      <td>5799523.000</td>\n",
       "      <td>1293206.000</td>\n",
       "      <td>1550.000</td>\n",
       "      <td>5110.000</td>\n",
       "      <td>556.000</td>\n",
       "      <td>1171874.446</td>\n",
       "      <td>20017.293</td>\n",
       "      <td>5999999999.000</td>\n",
       "      <td>5999999999.000</td>\n",
       "    </tr>\n",
       "  </tbody>\n",
       "</table>\n",
       "</div>"
      ],
      "text/plain": [
       "       CNSTRCT_YR         BIN    DOITT_ID  HEIGHTROOF   FEAT_CODE  GROUNDELEV  \\\n",
       "count 1084920.000 1084920.000 1084920.000 1082256.000 1084911.000 1084392.000   \n",
       "mean     1938.994 3710175.717  590964.513      27.548    2698.573      55.099   \n",
       "std        28.693 1026804.560  359294.774      21.321    1202.251      41.509   \n",
       "min      1652.000 1000002.000       1.000       0.000       0.000     -14.000   \n",
       "25%      1920.000 3128598.750  286551.750      18.340    2100.000      25.000   \n",
       "50%      1930.000 4066824.500  573279.500      26.100    2100.000      46.000   \n",
       "75%      1955.000 4481736.250  861588.250      31.098    2100.000      74.000   \n",
       "max      2020.000 5799523.000 1293206.000    1550.000    5110.000     556.000   \n",
       "\n",
       "       SHAPE_AREA   SHAPE_LEN       BASE_BBL     MPLUTO_BBL  \n",
       "count 1084920.000 1084920.000    1084918.000    1084368.000  \n",
       "mean     1596.826     155.313 3562000260.428 3561844282.348  \n",
       "std      5601.416     127.149  986061947.604  986086585.783  \n",
       "min        32.475      23.737    3064269.000    3064269.000  \n",
       "25%       652.086     109.693 3043180044.250 3043167529.750  \n",
       "50%       957.230     137.920 4019290058.000 4019180092.500  \n",
       "75%      1320.308     164.449 4106720009.500 4106690094.250  \n",
       "max   1171874.446   20017.293 5999999999.000 5999999999.000  "
      ]
     },
     "execution_count": 91,
     "metadata": {},
     "output_type": "execute_result"
    }
   ],
   "source": [
    "# printing descriptive statistics of our data \n",
    "building_footprints_fill_median.describe()"
   ]
  },
  {
   "cell_type": "code",
   "execution_count": 92,
   "metadata": {},
   "outputs": [
    {
     "data": {
      "text/plain": [
       "Text(0.5, 1.0, 'Histogram of Construction Year Values')"
      ]
     },
     "execution_count": 92,
     "metadata": {},
     "output_type": "execute_result"
    },
    {
     "data": {
      "image/png": "[encoded data removed]",
      "text/plain": [
       "<Figure size 1080x720 with 1 Axes>"
      ]
     },
     "metadata": {
      "needs_background": "light"
     },
     "output_type": "display_data"
    }
   ],
   "source": [
    "# making a histogram of our 'CNSTRCT_YR' column with 10 bins\n",
    "building_footprints_fill_median['CNSTRCT_YR'].hist(bins=10, figsize=(15,10))\n",
    "plt.xlabel('Construction Year', fontsize=15)\n",
    "plt.ylabel('Counts', fontsize=15)\n",
    "plt.title('Histogram of Construction Year Values', fontsize=15)"
   ]
  },
  {
   "cell_type": "code",
   "execution_count": 93,
   "metadata": {},
   "outputs": [
    {
     "data": {
      "text/plain": [
       "Text(0.5, 1.0, 'Histogram of Construction Year Values')"
      ]
     },
     "execution_count": 93,
     "metadata": {},
     "output_type": "execute_result"
    },
    {
     "data": {
      "image/png": "[encoded data removed]",
      "text/plain": [
       "<Figure size 1080x720 with 1 Axes>"
      ]
     },
     "metadata": {
      "needs_background": "light"
     },
     "output_type": "display_data"
    }
   ],
   "source": [
    "# making a histogram of our 'CNSTRCT_YR' column with 25 bins\n",
    "building_footprints_fill_median['CNSTRCT_YR'].hist(bins=25, figsize=(15,10))\n",
    "plt.xlabel('Construction Year', fontsize=15)\n",
    "plt.ylabel('Counts', fontsize=15)\n",
    "plt.title('Histogram of Construction Year Values', fontsize=15)"
   ]
  },
  {
   "cell_type": "code",
   "execution_count": 94,
   "metadata": {},
   "outputs": [
    {
     "data": {
      "text/html": [
       "<div>\n",
       "<style scoped>\n",
       "    .dataframe tbody tr th:only-of-type {\n",
       "        vertical-align: middle;\n",
       "    }\n",
       "\n",
       "    .dataframe tbody tr th {\n",
       "        vertical-align: top;\n",
       "    }\n",
       "\n",
       "    .dataframe thead th {\n",
       "        text-align: right;\n",
       "    }\n",
       "</style>\n",
       "<table border=\"1\" class=\"dataframe\">\n",
       "  <thead>\n",
       "    <tr style=\"text-align: right;\">\n",
       "      <th></th>\n",
       "      <th>CNSTRCT_YR</th>\n",
       "      <th>count</th>\n",
       "    </tr>\n",
       "  </thead>\n",
       "  <tbody>\n",
       "    <tr>\n",
       "      <th>1652</th>\n",
       "      <td>1652.000</td>\n",
       "      <td>1</td>\n",
       "    </tr>\n",
       "    <tr>\n",
       "      <th>1661</th>\n",
       "      <td>1661.000</td>\n",
       "      <td>2</td>\n",
       "    </tr>\n",
       "    <tr>\n",
       "      <th>1665</th>\n",
       "      <td>1665.000</td>\n",
       "      <td>1</td>\n",
       "    </tr>\n",
       "    <tr>\n",
       "      <th>1680</th>\n",
       "      <td>1680.000</td>\n",
       "      <td>1</td>\n",
       "    </tr>\n",
       "    <tr>\n",
       "      <th>1690</th>\n",
       "      <td>1690.000</td>\n",
       "      <td>1</td>\n",
       "    </tr>\n",
       "  </tbody>\n",
       "</table>\n",
       "</div>"
      ],
      "text/plain": [
       "      CNSTRCT_YR  count\n",
       "1652    1652.000      1\n",
       "1661    1661.000      2\n",
       "1665    1665.000      1\n",
       "1680    1680.000      1\n",
       "1690    1690.000      1"
      ]
     },
     "execution_count": 94,
     "metadata": {},
     "output_type": "execute_result"
    }
   ],
   "source": [
    "g = building_footprints_fill_median.groupby('CNSTRCT_YR')['DOITT_ID'].count().reset_index()\n",
    "g.rename({'DOITT_ID': 'count'}, axis=1, inplace=True)\n",
    "g.set_index('CNSTRCT_YR', drop=False, inplace=True)\n",
    "g.index = g.index.astype('int64')\n",
    "\n",
    "g.head()"
   ]
  },
  {
   "cell_type": "code",
   "execution_count": 95,
   "metadata": {},
   "outputs": [
    {
     "data": {
      "image/png": "[encoded data removed]",
      "text/plain": [
       "<Figure size 1080x720 with 1 Axes>"
      ]
     },
     "metadata": {
      "needs_background": "light"
     },
     "output_type": "display_data"
    }
   ],
   "source": [
    "fig, ax = plt.subplots(figsize=(15,10))\n",
    "\n",
    "# plotting bar chart of number of claims by year\n",
    "ax.plot(g['count'], linewidth=4)\n",
    "\n",
    "# formatting Y axis with comma\n",
    "ax.get_yaxis().set_major_formatter(\n",
    "    matplotlib.ticker.FuncFormatter(lambda x, p: format(int(x), ',')))\n",
    "\n",
    "plt.xlabel('Construction Year', fontsize=15)\n",
    "plt.ylabel('Number of Newly Constructed Buildings', fontsize=15)\n",
    "plt.title('Number of Newly Constructed Buildings by Construction Year of Buildings Built in NYC',\n",
    "         fontsize=17)\n",
    "plt.tight_layout()\n",
    "#plt.savefig('figures/line-plot-2')"
   ]
  },
  {
   "cell_type": "code",
   "execution_count": 96,
   "metadata": {},
   "outputs": [
    {
     "data": {
      "image/png": "[encoded data removed]",
      "text/plain": [
       "<Figure size 1080x720 with 1 Axes>"
      ]
     },
     "metadata": {
      "needs_background": "light"
     },
     "output_type": "display_data"
    }
   ],
   "source": [
    "fig, ax = plt.subplots(figsize=(15,10))\n",
    "\n",
    "# plotting bar chart of number of claims by year\n",
    "ax.plot(g[g['CNSTRCT_YR'] > 1900]['count'], linewidth=4)\n",
    "\n",
    "# formatting Y axis with comma\n",
    "ax.get_yaxis().set_major_formatter(\n",
    "    matplotlib.ticker.FuncFormatter(lambda x, p: format(int(x), ',')))\n",
    "\n",
    "plt.xlabel('Construction Year', fontsize=15)\n",
    "plt.ylabel('Number of Newly Constructed Buildings', fontsize=15)\n",
    "plt.title('Number of Newly Constructed Buildings by Construction Year of Buildings Built in NYC',\n",
    "         fontsize=17)\n",
    "plt.tight_layout()\n",
    "#plt.savefig('figures/line-plot-2')"
   ]
  },
  {
   "cell_type": "code",
   "execution_count": 97,
   "metadata": {},
   "outputs": [
    {
     "data": {
      "text/html": [
       "<div>\n",
       "<style scoped>\n",
       "    .dataframe tbody tr th:only-of-type {\n",
       "        vertical-align: middle;\n",
       "    }\n",
       "\n",
       "    .dataframe tbody tr th {\n",
       "        vertical-align: top;\n",
       "    }\n",
       "\n",
       "    .dataframe thead th {\n",
       "        text-align: right;\n",
       "    }\n",
       "</style>\n",
       "<table border=\"1\" class=\"dataframe\">\n",
       "  <thead>\n",
       "    <tr style=\"text-align: right;\">\n",
       "      <th></th>\n",
       "      <th>CNSTRCT_YR</th>\n",
       "      <th>count</th>\n",
       "    </tr>\n",
       "  </thead>\n",
       "  <tbody>\n",
       "    <tr>\n",
       "      <th>1652</th>\n",
       "      <td>1652.000</td>\n",
       "      <td>1</td>\n",
       "    </tr>\n",
       "    <tr>\n",
       "      <th>1661</th>\n",
       "      <td>1661.000</td>\n",
       "      <td>2</td>\n",
       "    </tr>\n",
       "    <tr>\n",
       "      <th>1665</th>\n",
       "      <td>1665.000</td>\n",
       "      <td>1</td>\n",
       "    </tr>\n",
       "    <tr>\n",
       "      <th>1680</th>\n",
       "      <td>1680.000</td>\n",
       "      <td>1</td>\n",
       "    </tr>\n",
       "    <tr>\n",
       "      <th>1690</th>\n",
       "      <td>1690.000</td>\n",
       "      <td>1</td>\n",
       "    </tr>\n",
       "  </tbody>\n",
       "</table>\n",
       "</div>"
      ],
      "text/plain": [
       "      CNSTRCT_YR  count\n",
       "1652    1652.000      1\n",
       "1661    1661.000      2\n",
       "1665    1665.000      1\n",
       "1680    1680.000      1\n",
       "1690    1690.000      1"
      ]
     },
     "execution_count": 97,
     "metadata": {},
     "output_type": "execute_result"
    }
   ],
   "source": [
    "g.head()"
   ]
  },
  {
   "cell_type": "code",
   "execution_count": 98,
   "metadata": {},
   "outputs": [],
   "source": [
    "g['cumsum'] = g['count'].cumsum()"
   ]
  },
  {
   "cell_type": "code",
   "execution_count": 99,
   "metadata": {},
   "outputs": [
    {
     "data": {
      "text/html": [
       "<div>\n",
       "<style scoped>\n",
       "    .dataframe tbody tr th:only-of-type {\n",
       "        vertical-align: middle;\n",
       "    }\n",
       "\n",
       "    .dataframe tbody tr th {\n",
       "        vertical-align: top;\n",
       "    }\n",
       "\n",
       "    .dataframe thead th {\n",
       "        text-align: right;\n",
       "    }\n",
       "</style>\n",
       "<table border=\"1\" class=\"dataframe\">\n",
       "  <thead>\n",
       "    <tr style=\"text-align: right;\">\n",
       "      <th></th>\n",
       "      <th>CNSTRCT_YR</th>\n",
       "      <th>count</th>\n",
       "      <th>cumsum</th>\n",
       "    </tr>\n",
       "  </thead>\n",
       "  <tbody>\n",
       "    <tr>\n",
       "      <th>1652</th>\n",
       "      <td>1652.000</td>\n",
       "      <td>1</td>\n",
       "      <td>1</td>\n",
       "    </tr>\n",
       "    <tr>\n",
       "      <th>1661</th>\n",
       "      <td>1661.000</td>\n",
       "      <td>2</td>\n",
       "      <td>3</td>\n",
       "    </tr>\n",
       "    <tr>\n",
       "      <th>1665</th>\n",
       "      <td>1665.000</td>\n",
       "      <td>1</td>\n",
       "      <td>4</td>\n",
       "    </tr>\n",
       "    <tr>\n",
       "      <th>1680</th>\n",
       "      <td>1680.000</td>\n",
       "      <td>1</td>\n",
       "      <td>5</td>\n",
       "    </tr>\n",
       "    <tr>\n",
       "      <th>1690</th>\n",
       "      <td>1690.000</td>\n",
       "      <td>1</td>\n",
       "      <td>6</td>\n",
       "    </tr>\n",
       "  </tbody>\n",
       "</table>\n",
       "</div>"
      ],
      "text/plain": [
       "      CNSTRCT_YR  count  cumsum\n",
       "1652    1652.000      1       1\n",
       "1661    1661.000      2       3\n",
       "1665    1665.000      1       4\n",
       "1680    1680.000      1       5\n",
       "1690    1690.000      1       6"
      ]
     },
     "execution_count": 99,
     "metadata": {},
     "output_type": "execute_result"
    }
   ],
   "source": [
    "g.head()"
   ]
  },
  {
   "cell_type": "code",
   "execution_count": 100,
   "metadata": {},
   "outputs": [
    {
     "data": {
      "image/png": "[encoded data removed]",
      "text/plain": [
       "<Figure size 1080x720 with 1 Axes>"
      ]
     },
     "metadata": {
      "needs_background": "light"
     },
     "output_type": "display_data"
    }
   ],
   "source": [
    "fig, ax = plt.subplots(figsize=(15,10))\n",
    "\n",
    "# plotting bar chart of number of claims by year\n",
    "ax.plot(g['cumsum'], linewidth=4)\n",
    "\n",
    "# formatting Y axis with comma\n",
    "ax.get_yaxis().set_major_formatter(\n",
    "    matplotlib.ticker.FuncFormatter(lambda x, p: format(int(x), ',')))\n",
    "\n",
    "plt.xlabel('Construction Year', fontsize=15)\n",
    "plt.ylabel('Number of Newly Constructed Buildings', fontsize=15)\n",
    "plt.title('Number of Newly Constructed Buildings by Construction Year of Buildings Built in NYC',\n",
    "         fontsize=17)\n",
    "plt.tight_layout()\n",
    "#plt.savefig('figures/line-plot-2')"
   ]
  },
  {
   "cell_type": "code",
   "execution_count": 101,
   "metadata": {},
   "outputs": [
    {
     "data": {
      "image/png": "[encoded data removed]",
      "text/plain": [
       "<Figure size 1080x720 with 1 Axes>"
      ]
     },
     "metadata": {
      "needs_background": "light"
     },
     "output_type": "display_data"
    }
   ],
   "source": [
    "fig, ax = plt.subplots(figsize=(15,10))\n",
    "\n",
    "# plotting bar chart of number of claims by year\n",
    "ax.plot(g[g['CNSTRCT_YR'] > 1900]['cumsum'], linewidth=4)\n",
    "\n",
    "# formatting Y axis with comma\n",
    "ax.get_yaxis().set_major_formatter(\n",
    "    matplotlib.ticker.FuncFormatter(lambda x, p: format(int(x), ',')))\n",
    "\n",
    "plt.xlabel('Construction Year', fontsize=15)\n",
    "plt.ylabel('Number of Newly Constructed Buildings', fontsize=15)\n",
    "plt.title('Number of Newly Constructed Buildings by Construction Year of Buildings Built in NYC',\n",
    "         fontsize=17)\n",
    "plt.tight_layout()\n",
    "#plt.savefig('figures/line-plot-2')"
   ]
  },
  {
   "cell_type": "markdown",
   "metadata": {},
   "source": [
    "## 5.1 Making a Box Plot"
   ]
  },
  {
   "cell_type": "code",
   "execution_count": 102,
   "metadata": {},
   "outputs": [],
   "source": [
    "# setting the link of our data (a static csv file) as the name 'url'\n",
    "url = 'https://data.cityofnewyork.us/api/views/2wbz-fb2h/rows.csv?accessType=DOWNLOAD'\n",
    "\n",
    "# reading in our data as a pandas dataframe and setting the name to'building_footprints'\n",
    "building_footprints = pd.read_csv(url)"
   ]
  },
  {
   "cell_type": "code",
   "execution_count": 103,
   "metadata": {},
   "outputs": [
    {
     "data": {
      "text/html": [
       "<div>\n",
       "<style scoped>\n",
       "    .dataframe tbody tr th:only-of-type {\n",
       "        vertical-align: middle;\n",
       "    }\n",
       "\n",
       "    .dataframe tbody tr th {\n",
       "        vertical-align: top;\n",
       "    }\n",
       "\n",
       "    .dataframe thead th {\n",
       "        text-align: right;\n",
       "    }\n",
       "</style>\n",
       "<table border=\"1\" class=\"dataframe\">\n",
       "  <thead>\n",
       "    <tr style=\"text-align: right;\">\n",
       "      <th></th>\n",
       "      <th>CNSTRCT_YR</th>\n",
       "      <th>BIN</th>\n",
       "      <th>the_geom</th>\n",
       "      <th>NAME</th>\n",
       "      <th>LSTMODDATE</th>\n",
       "      <th>LSTSTATYPE</th>\n",
       "      <th>DOITT_ID</th>\n",
       "      <th>HEIGHTROOF</th>\n",
       "      <th>FEAT_CODE</th>\n",
       "      <th>GROUNDELEV</th>\n",
       "      <th>SHAPE_AREA</th>\n",
       "      <th>SHAPE_LEN</th>\n",
       "      <th>BASE_BBL</th>\n",
       "      <th>MPLUTO_BBL</th>\n",
       "      <th>GEOMSOURCE</th>\n",
       "    </tr>\n",
       "  </thead>\n",
       "  <tbody>\n",
       "    <tr>\n",
       "      <th>0</th>\n",
       "      <td>2009.000</td>\n",
       "      <td>3394646</td>\n",
       "      <td>MULTIPOLYGON (((-73.87129515296562 40.65717370...</td>\n",
       "      <td>NaN</td>\n",
       "      <td>08/22/2017 12:00:00 AM +0000</td>\n",
       "      <td>Constructed</td>\n",
       "      <td>1212853</td>\n",
       "      <td>21.609</td>\n",
       "      <td>2100.000</td>\n",
       "      <td>18.000</td>\n",
       "      <td>854.662</td>\n",
       "      <td>125.080</td>\n",
       "      <td>3044520815.000</td>\n",
       "      <td>3044520815.000</td>\n",
       "      <td>Photogramm</td>\n",
       "    </tr>\n",
       "    <tr>\n",
       "      <th>1</th>\n",
       "      <td>1930.000</td>\n",
       "      <td>4548330</td>\n",
       "      <td>MULTIPOLYGON (((-73.87670970144625 40.71425234...</td>\n",
       "      <td>NaN</td>\n",
       "      <td>08/17/2017 12:00:00 AM +0000</td>\n",
       "      <td>Constructed</td>\n",
       "      <td>1226227</td>\n",
       "      <td>10.360</td>\n",
       "      <td>5110.000</td>\n",
       "      <td>122.000</td>\n",
       "      <td>217.594</td>\n",
       "      <td>60.226</td>\n",
       "      <td>4030640041.000</td>\n",
       "      <td>4030640041.000</td>\n",
       "      <td>Photogramm</td>\n",
       "    </tr>\n",
       "    <tr>\n",
       "      <th>2</th>\n",
       "      <td>1960.000</td>\n",
       "      <td>4460479</td>\n",
       "      <td>MULTIPOLYGON (((-73.85195485799383 40.66235471...</td>\n",
       "      <td>NaN</td>\n",
       "      <td>08/22/2017 12:00:00 AM +0000</td>\n",
       "      <td>Constructed</td>\n",
       "      <td>581946</td>\n",
       "      <td>29.812</td>\n",
       "      <td>2100.000</td>\n",
       "      <td>10.000</td>\n",
       "      <td>946.427</td>\n",
       "      <td>123.142</td>\n",
       "      <td>4139430001.000</td>\n",
       "      <td>4139430001.000</td>\n",
       "      <td>Photogramm</td>\n",
       "    </tr>\n",
       "    <tr>\n",
       "      <th>3</th>\n",
       "      <td>1920.000</td>\n",
       "      <td>3355684</td>\n",
       "      <td>MULTIPOLYGON (((-73.94029215265738 40.64108287...</td>\n",
       "      <td>NaN</td>\n",
       "      <td>08/17/2017 12:00:00 AM +0000</td>\n",
       "      <td>Constructed</td>\n",
       "      <td>858061</td>\n",
       "      <td>11.200</td>\n",
       "      <td>5110.000</td>\n",
       "      <td>32.000</td>\n",
       "      <td>248.678</td>\n",
       "      <td>63.941</td>\n",
       "      <td>3049720006.000</td>\n",
       "      <td>3049720006.000</td>\n",
       "      <td>Photogramm</td>\n",
       "    </tr>\n",
       "    <tr>\n",
       "      <th>4</th>\n",
       "      <td>1915.000</td>\n",
       "      <td>3131737</td>\n",
       "      <td>MULTIPOLYGON (((-73.98998983552244 40.62383804...</td>\n",
       "      <td>NaN</td>\n",
       "      <td>08/22/2017 12:00:00 AM +0000</td>\n",
       "      <td>Constructed</td>\n",
       "      <td>568078</td>\n",
       "      <td>24.980</td>\n",
       "      <td>2100.000</td>\n",
       "      <td>44.000</td>\n",
       "      <td>1163.228</td>\n",
       "      <td>165.609</td>\n",
       "      <td>3055100055.000</td>\n",
       "      <td>3055100055.000</td>\n",
       "      <td>Photogramm</td>\n",
       "    </tr>\n",
       "  </tbody>\n",
       "</table>\n",
       "</div>"
      ],
      "text/plain": [
       "   CNSTRCT_YR      BIN                                           the_geom  \\\n",
       "0    2009.000  3394646  MULTIPOLYGON (((-73.87129515296562 40.65717370...   \n",
       "1    1930.000  4548330  MULTIPOLYGON (((-73.87670970144625 40.71425234...   \n",
       "2    1960.000  4460479  MULTIPOLYGON (((-73.85195485799383 40.66235471...   \n",
       "3    1920.000  3355684  MULTIPOLYGON (((-73.94029215265738 40.64108287...   \n",
       "4    1915.000  3131737  MULTIPOLYGON (((-73.98998983552244 40.62383804...   \n",
       "\n",
       "  NAME                    LSTMODDATE   LSTSTATYPE  DOITT_ID  HEIGHTROOF  \\\n",
       "0  NaN  08/22/2017 12:00:00 AM +0000  Constructed   1212853      21.609   \n",
       "1  NaN  08/17/2017 12:00:00 AM +0000  Constructed   1226227      10.360   \n",
       "2  NaN  08/22/2017 12:00:00 AM +0000  Constructed    581946      29.812   \n",
       "3  NaN  08/17/2017 12:00:00 AM +0000  Constructed    858061      11.200   \n",
       "4  NaN  08/22/2017 12:00:00 AM +0000  Constructed    568078      24.980   \n",
       "\n",
       "   FEAT_CODE  GROUNDELEV  SHAPE_AREA  SHAPE_LEN       BASE_BBL     MPLUTO_BBL  \\\n",
       "0   2100.000      18.000     854.662    125.080 3044520815.000 3044520815.000   \n",
       "1   5110.000     122.000     217.594     60.226 4030640041.000 4030640041.000   \n",
       "2   2100.000      10.000     946.427    123.142 4139430001.000 4139430001.000   \n",
       "3   5110.000      32.000     248.678     63.941 3049720006.000 3049720006.000   \n",
       "4   2100.000      44.000    1163.228    165.609 3055100055.000 3055100055.000   \n",
       "\n",
       "   GEOMSOURCE  \n",
       "0  Photogramm  \n",
       "1  Photogramm  \n",
       "2  Photogramm  \n",
       "3  Photogramm  \n",
       "4  Photogramm  "
      ]
     },
     "execution_count": 103,
     "metadata": {},
     "output_type": "execute_result"
    }
   ],
   "source": [
    "# previewing the first five rows of our dataframe\n",
    "building_footprints.head()"
   ]
  },
  {
   "cell_type": "code",
   "execution_count": 104,
   "metadata": {},
   "outputs": [
    {
     "data": {
      "text/plain": [
       "(1084920, 15)"
      ]
     },
     "execution_count": 104,
     "metadata": {},
     "output_type": "execute_result"
    }
   ],
   "source": [
    "building_footprints.shape"
   ]
  },
  {
   "cell_type": "code",
   "execution_count": 105,
   "metadata": {},
   "outputs": [
    {
     "data": {
      "text/plain": [
       "0         2009.000\n",
       "1         1930.000\n",
       "2         1960.000\n",
       "3         1920.000\n",
       "4         1915.000\n",
       "            ...   \n",
       "1084915   2020.000\n",
       "1084916   2020.000\n",
       "1084917   2020.000\n",
       "1084918   2020.000\n",
       "1084919   2020.000\n",
       "Name: CNSTRCT_YR, Length: 1084920, dtype: float64"
      ]
     },
     "execution_count": 105,
     "metadata": {},
     "output_type": "execute_result"
    }
   ],
   "source": [
    "# converting all the values in our 'CNSTRCT_YR' column as integers\n",
    "# invalid conversions will be set as NaN with errors='coerce'\n",
    "pd.to_numeric(building_footprints['CNSTRCT_YR'], downcast='integer', errors='coerce')"
   ]
  },
  {
   "cell_type": "code",
   "execution_count": 106,
   "metadata": {},
   "outputs": [
    {
     "data": {
      "text/plain": [
       "Text(0.5, 1.0, 'Histogram of Construction Year Values')"
      ]
     },
     "execution_count": 106,
     "metadata": {},
     "output_type": "execute_result"
    },
    {
     "data": {
      "image/png": "[encoded data removed]",
      "text/plain": [
       "<Figure size 1080x720 with 1 Axes>"
      ]
     },
     "metadata": {
      "needs_background": "light"
     },
     "output_type": "display_data"
    }
   ],
   "source": [
    "# making a histogram of our 'CNSTRCT_YR' column with 10 bins\n",
    "building_footprints['CNSTRCT_YR'].hist(figsize=(15,10))\n",
    "plt.xlabel('Construction Year', fontsize=15)\n",
    "plt.ylabel('Counts', fontsize=15)\n",
    "plt.title('Histogram of Construction Year Values', fontsize=15)"
   ]
  },
  {
   "cell_type": "code",
   "execution_count": 107,
   "metadata": {},
   "outputs": [
    {
     "data": {
      "text/plain": [
       "Text(0.5, 1.0, 'Histogram of Construction Year Values')"
      ]
     },
     "execution_count": 107,
     "metadata": {},
     "output_type": "execute_result"
    },
    {
     "data": {
      "image/png": "[encoded data removed]",
      "text/plain": [
       "<Figure size 1080x720 with 1 Axes>"
      ]
     },
     "metadata": {
      "needs_background": "light"
     },
     "output_type": "display_data"
    }
   ],
   "source": [
    "# making a histogram of our 'CNSTRCT_YR' column with 10 bins\n",
    "building_footprints['CNSTRCT_YR'].hist(figsize=(15,10), bins=50)\n",
    "plt.xlabel('Construction Year', fontsize=15)\n",
    "plt.ylabel('Counts', fontsize=15)\n",
    "plt.title('Histogram of Construction Year Values', fontsize=15)"
   ]
  },
  {
   "cell_type": "markdown",
   "metadata": {},
   "source": [
    "### 5.1.1 Calculating Interquartile Range (IQR)"
   ]
  },
  {
   "cell_type": "code",
   "execution_count": 108,
   "metadata": {},
   "outputs": [
    {
     "name": "stdout",
     "output_type": "stream",
     "text": [
      "1920.0\n",
      "1955.0\n"
     ]
    }
   ],
   "source": [
    "# printing the 25% and 75% quantiles of our 'CNSTRCT_YR' column\n",
    "print(building_footprints['CNSTRCT_YR'].quantile(0.25))\n",
    "print(building_footprints['CNSTRCT_YR'].quantile(0.75))"
   ]
  },
  {
   "cell_type": "code",
   "execution_count": 109,
   "metadata": {},
   "outputs": [],
   "source": [
    "# saving the 25% (i.e. Q1) and 75% (i.e. Q3) quantiles of our 'CNSTRCT_YR' column\n",
    "Q1 = building_footprints['CNSTRCT_YR'].quantile(0.25)\n",
    "Q3 = building_footprints['CNSTRCT_YR'].quantile(0.75)\n",
    "\n",
    "# Computing the interquartile range (IQR)\n",
    "IQR = Q3 - Q1"
   ]
  },
  {
   "cell_type": "code",
   "execution_count": 110,
   "metadata": {},
   "outputs": [
    {
     "data": {
      "text/plain": [
       "35.0"
      ]
     },
     "execution_count": 110,
     "metadata": {},
     "output_type": "execute_result"
    }
   ],
   "source": [
    "# printing the IQR of our 'CNSTRCT_YR' column\n",
    "IQR"
   ]
  },
  {
   "cell_type": "code",
   "execution_count": 111,
   "metadata": {},
   "outputs": [
    {
     "name": "stdout",
     "output_type": "stream",
     "text": [
      "1867.5\n",
      "2007.5\n"
     ]
    }
   ],
   "source": [
    "# printing the lower 1.5*IQR whisker = Q1 - 1.5 * IQR\n",
    "print((Q1 - 1.5 * IQR))\n",
    "\n",
    "# printing the upper 1.5*IQR whisker = Q1 - 1.5 * IQR\n",
    "print((Q3 + 1.5 * IQR))"
   ]
  },
  {
   "cell_type": "markdown",
   "metadata": {},
   "source": [
    "### 5.1.2 Box Plot of Construction Year Values"
   ]
  },
  {
   "cell_type": "code",
   "execution_count": 112,
   "metadata": {
    "scrolled": false
   },
   "outputs": [
    {
     "data": {
      "text/plain": [
       "Text(0.5, 1.0, 'Box Plot of Construction Year Value')"
      ]
     },
     "execution_count": 112,
     "metadata": {},
     "output_type": "execute_result"
    },
    {
     "data": {
      "image/png": "[encoded data removed]",
      "text/plain": [
       "<Figure size 1080x720 with 1 Axes>"
      ]
     },
     "metadata": {
      "needs_background": "light"
     },
     "output_type": "display_data"
    }
   ],
   "source": [
    "# making a box plot from our 'CNSTRCT_YR' column\n",
    "CNSTRCT_YR_boxplot = building_footprints.boxplot(column=['CNSTRCT_YR'], figsize=(15,10))\n",
    "plt.title('Box Plot of Construction Year Value', fontsize=15)"
   ]
  },
  {
   "cell_type": "markdown",
   "metadata": {},
   "source": [
    "### 5.1.3 Making Histograms of Values Above and Below Box Plot Whiskers"
   ]
  },
  {
   "cell_type": "code",
   "execution_count": 113,
   "metadata": {},
   "outputs": [
    {
     "data": {
      "image/png": "[encoded data removed]",
      "text/plain": [
       "<Figure size 1080x360 with 2 Axes>"
      ]
     },
     "metadata": {
      "needs_background": "light"
     },
     "output_type": "display_data"
    }
   ],
   "source": [
    "plt.figure(figsize=(15,5))\n",
    "\n",
    "# identifying values lower than our lower whisker\n",
    "floor = building_footprints[building_footprints.CNSTRCT_YR < (Q1 - 1.5 * IQR)] \n",
    "\n",
    "# identifying values higher than our upper whisker\n",
    "ceiling = building_footprints[building_footprints.CNSTRCT_YR > (Q3 + 1.5 * IQR)]\n",
    "\n",
    "#making histograms of these distributions\n",
    "plt.subplot(121)\n",
    "floor['CNSTRCT_YR'].hist()\n",
    "plt.xlabel('Construction Year')\n",
    "plt.ylabel('Counts')\n",
    "plt.title('Histogram of Construction Year Values Below Lower Whisker')\n",
    "\n",
    "plt.subplot(122)\n",
    "ceiling['CNSTRCT_YR'].hist()\n",
    "plt.xlabel('Construction Year')\n",
    "plt.ylabel('Counts')\n",
    "plt.title('Histogram of Construction Year Values Above Upper Whisker')\n",
    "\n",
    "plt.tight_layout()"
   ]
  },
  {
   "cell_type": "code",
   "execution_count": 114,
   "metadata": {},
   "outputs": [
    {
     "data": {
      "text/plain": [
       "0.000       6141\n",
       "1855.000     271\n",
       "1850.000     260\n",
       "1853.000     248\n",
       "1854.000     241\n",
       "            ... \n",
       "1735.000       1\n",
       "1720.000       1\n",
       "1797.000       1\n",
       "1811.000       1\n",
       "1665.000       1\n",
       "Name: CNSTRCT_YR, Length: 95, dtype: int64"
      ]
     },
     "execution_count": 114,
     "metadata": {},
     "output_type": "execute_result"
    }
   ],
   "source": [
    "# return counts of unique values in descending order lower than our lower whisker\n",
    "floor['CNSTRCT_YR'].value_counts()"
   ]
  },
  {
   "cell_type": "code",
   "execution_count": 115,
   "metadata": {},
   "outputs": [
    {
     "data": {
      "text/plain": [
       "0.000       6141\n",
       "202.000        1\n",
       "1652.000       1\n",
       "1661.000       2\n",
       "1665.000       1\n",
       "            ... \n",
       "1863.000      67\n",
       "1864.000     108\n",
       "1865.000     141\n",
       "1866.000     152\n",
       "1867.000     174\n",
       "Name: CNSTRCT_YR, Length: 95, dtype: int64"
      ]
     },
     "execution_count": 115,
     "metadata": {},
     "output_type": "execute_result"
    }
   ],
   "source": [
    "# return counts of unique values lower than our lower whisker sorted by index (i.e. 'CNSTRCT_YR')\n",
    "floor['CNSTRCT_YR'].value_counts().sort_index()"
   ]
  },
  {
   "cell_type": "code",
   "execution_count": 116,
   "metadata": {},
   "outputs": [
    {
     "data": {
      "text/plain": [
       "array([   0.,  202., 1652., 1661., 1665., 1680., 1690., 1694., 1706.,\n",
       "       1719., 1720., 1722., 1725., 1729., 1735., 1747., 1750., 1758.,\n",
       "       1765., 1766., 1775., 1779., 1785., 1789., 1792., 1793., 1795.,\n",
       "       1797., 1799., 1800., 1801., 1802., 1803., 1804., 1807., 1808.,\n",
       "       1809., 1810., 1811., 1812., 1813., 1814., 1815., 1816., 1817.,\n",
       "       1818., 1819., 1820., 1821., 1822., 1823., 1824., 1825., 1826.,\n",
       "       1827., 1828., 1829., 1830., 1831., 1832., 1833., 1834., 1835.,\n",
       "       1836., 1837., 1838., 1839., 1840., 1841., 1842., 1843., 1844.,\n",
       "       1845., 1846., 1847., 1848., 1849., 1850., 1851., 1852., 1853.,\n",
       "       1854., 1855., 1856., 1857., 1858., 1859., 1860., 1861., 1862.,\n",
       "       1863., 1864., 1865., 1866., 1867.])"
      ]
     },
     "execution_count": 116,
     "metadata": {},
     "output_type": "execute_result"
    }
   ],
   "source": [
    "# printing the unique values lower than our lower whisker\n",
    "floor['CNSTRCT_YR'].sort_values().unique()"
   ]
  },
  {
   "cell_type": "code",
   "execution_count": 117,
   "metadata": {},
   "outputs": [
    {
     "data": {
      "text/plain": [
       "2008.000        3291\n",
       "2018.000        2049\n",
       "2009.000        1955\n",
       "2017.000        1866\n",
       "2016.000        1743\n",
       "2011.000        1487\n",
       "2012.000        1435\n",
       "2010.000        1366\n",
       "2015.000        1034\n",
       "2013.000         897\n",
       "2014.000         833\n",
       "2019.000         801\n",
       "2020.000         458\n",
       "20000.000          2\n",
       "20115.000          1\n",
       "20004.000          1\n",
       "19999979.000       1\n",
       "Name: CNSTRCT_YR, dtype: int64"
      ]
     },
     "execution_count": 117,
     "metadata": {},
     "output_type": "execute_result"
    }
   ],
   "source": [
    "# return counts of unique values in descending order greater than our upper whisker\n",
    "ceiling['CNSTRCT_YR'].value_counts()"
   ]
  },
  {
   "cell_type": "code",
   "execution_count": 118,
   "metadata": {},
   "outputs": [
    {
     "data": {
      "text/plain": [
       "2008.000        3291\n",
       "2009.000        1955\n",
       "2010.000        1366\n",
       "2011.000        1487\n",
       "2012.000        1435\n",
       "2013.000         897\n",
       "2014.000         833\n",
       "2015.000        1034\n",
       "2016.000        1743\n",
       "2017.000        1866\n",
       "2018.000        2049\n",
       "2019.000         801\n",
       "2020.000         458\n",
       "20000.000          2\n",
       "20004.000          1\n",
       "20115.000          1\n",
       "19999979.000       1\n",
       "Name: CNSTRCT_YR, dtype: int64"
      ]
     },
     "execution_count": 118,
     "metadata": {},
     "output_type": "execute_result"
    }
   ],
   "source": [
    "# return counts of unique values in descending order greater than our upper whisker\n",
    "ceiling['CNSTRCT_YR'].value_counts().sort_index()"
   ]
  },
  {
   "cell_type": "markdown",
   "metadata": {},
   "source": [
    "## 5.2. Z-Scores"
   ]
  },
  {
   "cell_type": "markdown",
   "metadata": {},
   "source": [
    "### 5.2.1 Calculating Z-Scores"
   ]
  },
  {
   "cell_type": "code",
   "execution_count": 119,
   "metadata": {},
   "outputs": [],
   "source": [
    "# calculating the z score of our 'CNSTRCT_YR' column\n",
    "building_footprints['CNSTRCT_YR_zscore'] = (building_footprints.CNSTRCT_YR - building_footprints.CNSTRCT_YR.mean())/building_footprints.CNSTRCT_YR.std()"
   ]
  },
  {
   "cell_type": "code",
   "execution_count": 120,
   "metadata": {},
   "outputs": [
    {
     "data": {
      "text/html": [
       "<div>\n",
       "<style scoped>\n",
       "    .dataframe tbody tr th:only-of-type {\n",
       "        vertical-align: middle;\n",
       "    }\n",
       "\n",
       "    .dataframe tbody tr th {\n",
       "        vertical-align: top;\n",
       "    }\n",
       "\n",
       "    .dataframe thead th {\n",
       "        text-align: right;\n",
       "    }\n",
       "</style>\n",
       "<table border=\"1\" class=\"dataframe\">\n",
       "  <thead>\n",
       "    <tr style=\"text-align: right;\">\n",
       "      <th></th>\n",
       "      <th>CNSTRCT_YR</th>\n",
       "      <th>CNSTRCT_YR_zscore</th>\n",
       "    </tr>\n",
       "  </thead>\n",
       "  <tbody>\n",
       "    <tr>\n",
       "      <th>0</th>\n",
       "      <td>2009.000</td>\n",
       "      <td>0.003</td>\n",
       "    </tr>\n",
       "    <tr>\n",
       "      <th>1</th>\n",
       "      <td>1930.000</td>\n",
       "      <td>-0.001</td>\n",
       "    </tr>\n",
       "    <tr>\n",
       "      <th>2</th>\n",
       "      <td>1960.000</td>\n",
       "      <td>0.001</td>\n",
       "    </tr>\n",
       "    <tr>\n",
       "      <th>3</th>\n",
       "      <td>1920.000</td>\n",
       "      <td>-0.001</td>\n",
       "    </tr>\n",
       "    <tr>\n",
       "      <th>4</th>\n",
       "      <td>1915.000</td>\n",
       "      <td>-0.002</td>\n",
       "    </tr>\n",
       "  </tbody>\n",
       "</table>\n",
       "</div>"
      ],
      "text/plain": [
       "   CNSTRCT_YR  CNSTRCT_YR_zscore\n",
       "0    2009.000              0.003\n",
       "1    1930.000             -0.001\n",
       "2    1960.000              0.001\n",
       "3    1920.000             -0.001\n",
       "4    1915.000             -0.002"
      ]
     },
     "execution_count": 120,
     "metadata": {},
     "output_type": "execute_result"
    }
   ],
   "source": [
    "# making a separate dataframe with only the columns ['CNSTRCT_YR', 'CNSTRCT_YR_zscore']\n",
    "CNSTRCT_YR_zscore = building_footprints[['CNSTRCT_YR', 'CNSTRCT_YR_zscore']]\n",
    "CNSTRCT_YR_zscore.head()"
   ]
  },
  {
   "cell_type": "code",
   "execution_count": 121,
   "metadata": {},
   "outputs": [
    {
     "data": {
      "text/html": [
       "<div>\n",
       "<style scoped>\n",
       "    .dataframe tbody tr th:only-of-type {\n",
       "        vertical-align: middle;\n",
       "    }\n",
       "\n",
       "    .dataframe tbody tr th {\n",
       "        vertical-align: top;\n",
       "    }\n",
       "\n",
       "    .dataframe thead th {\n",
       "        text-align: right;\n",
       "    }\n",
       "</style>\n",
       "<table border=\"1\" class=\"dataframe\">\n",
       "  <thead>\n",
       "    <tr style=\"text-align: right;\">\n",
       "      <th></th>\n",
       "      <th>CNSTRCT_YR</th>\n",
       "      <th>CNSTRCT_YR_zscore</th>\n",
       "    </tr>\n",
       "  </thead>\n",
       "  <tbody>\n",
       "    <tr>\n",
       "      <th>242965</th>\n",
       "      <td>0.000</td>\n",
       "      <td>-0.101</td>\n",
       "    </tr>\n",
       "    <tr>\n",
       "      <th>284921</th>\n",
       "      <td>0.000</td>\n",
       "      <td>-0.101</td>\n",
       "    </tr>\n",
       "    <tr>\n",
       "      <th>583921</th>\n",
       "      <td>0.000</td>\n",
       "      <td>-0.101</td>\n",
       "    </tr>\n",
       "    <tr>\n",
       "      <th>30650</th>\n",
       "      <td>0.000</td>\n",
       "      <td>-0.101</td>\n",
       "    </tr>\n",
       "    <tr>\n",
       "      <th>284749</th>\n",
       "      <td>0.000</td>\n",
       "      <td>-0.101</td>\n",
       "    </tr>\n",
       "    <tr>\n",
       "      <th>...</th>\n",
       "      <td>...</td>\n",
       "      <td>...</td>\n",
       "    </tr>\n",
       "    <tr>\n",
       "      <th>1084818</th>\n",
       "      <td>nan</td>\n",
       "      <td>nan</td>\n",
       "    </tr>\n",
       "    <tr>\n",
       "      <th>1084890</th>\n",
       "      <td>nan</td>\n",
       "      <td>nan</td>\n",
       "    </tr>\n",
       "    <tr>\n",
       "      <th>1084892</th>\n",
       "      <td>nan</td>\n",
       "      <td>nan</td>\n",
       "    </tr>\n",
       "    <tr>\n",
       "      <th>1084897</th>\n",
       "      <td>nan</td>\n",
       "      <td>nan</td>\n",
       "    </tr>\n",
       "    <tr>\n",
       "      <th>1084899</th>\n",
       "      <td>nan</td>\n",
       "      <td>nan</td>\n",
       "    </tr>\n",
       "  </tbody>\n",
       "</table>\n",
       "<p>1084920 rows × 2 columns</p>\n",
       "</div>"
      ],
      "text/plain": [
       "         CNSTRCT_YR  CNSTRCT_YR_zscore\n",
       "242965        0.000             -0.101\n",
       "284921        0.000             -0.101\n",
       "583921        0.000             -0.101\n",
       "30650         0.000             -0.101\n",
       "284749        0.000             -0.101\n",
       "...             ...                ...\n",
       "1084818         nan                nan\n",
       "1084890         nan                nan\n",
       "1084892         nan                nan\n",
       "1084897         nan                nan\n",
       "1084899         nan                nan\n",
       "\n",
       "[1084920 rows x 2 columns]"
      ]
     },
     "execution_count": 121,
     "metadata": {},
     "output_type": "execute_result"
    }
   ],
   "source": [
    "# sorting by CNSTRCT_YR_zscore in ascending order\n",
    "CNSTRCT_YR_zscore.sort_values(by='CNSTRCT_YR_zscore')"
   ]
  },
  {
   "cell_type": "code",
   "execution_count": 122,
   "metadata": {},
   "outputs": [
    {
     "data": {
      "text/html": [
       "<div>\n",
       "<style scoped>\n",
       "    .dataframe tbody tr th:only-of-type {\n",
       "        vertical-align: middle;\n",
       "    }\n",
       "\n",
       "    .dataframe tbody tr th {\n",
       "        vertical-align: top;\n",
       "    }\n",
       "\n",
       "    .dataframe thead th {\n",
       "        text-align: right;\n",
       "    }\n",
       "</style>\n",
       "<table border=\"1\" class=\"dataframe\">\n",
       "  <thead>\n",
       "    <tr style=\"text-align: right;\">\n",
       "      <th></th>\n",
       "      <th>CNSTRCT_YR</th>\n",
       "      <th>CNSTRCT_YR_zscore</th>\n",
       "    </tr>\n",
       "  </thead>\n",
       "  <tbody>\n",
       "    <tr>\n",
       "      <th>1056575</th>\n",
       "      <td>19999979.000</td>\n",
       "      <td>1039.216</td>\n",
       "    </tr>\n",
       "    <tr>\n",
       "      <th>840992</th>\n",
       "      <td>20115.000</td>\n",
       "      <td>0.944</td>\n",
       "    </tr>\n",
       "    <tr>\n",
       "      <th>518182</th>\n",
       "      <td>20004.000</td>\n",
       "      <td>0.938</td>\n",
       "    </tr>\n",
       "    <tr>\n",
       "      <th>743240</th>\n",
       "      <td>20000.000</td>\n",
       "      <td>0.938</td>\n",
       "    </tr>\n",
       "    <tr>\n",
       "      <th>64079</th>\n",
       "      <td>20000.000</td>\n",
       "      <td>0.938</td>\n",
       "    </tr>\n",
       "    <tr>\n",
       "      <th>...</th>\n",
       "      <td>...</td>\n",
       "      <td>...</td>\n",
       "    </tr>\n",
       "    <tr>\n",
       "      <th>1084818</th>\n",
       "      <td>nan</td>\n",
       "      <td>nan</td>\n",
       "    </tr>\n",
       "    <tr>\n",
       "      <th>1084890</th>\n",
       "      <td>nan</td>\n",
       "      <td>nan</td>\n",
       "    </tr>\n",
       "    <tr>\n",
       "      <th>1084892</th>\n",
       "      <td>nan</td>\n",
       "      <td>nan</td>\n",
       "    </tr>\n",
       "    <tr>\n",
       "      <th>1084897</th>\n",
       "      <td>nan</td>\n",
       "      <td>nan</td>\n",
       "    </tr>\n",
       "    <tr>\n",
       "      <th>1084899</th>\n",
       "      <td>nan</td>\n",
       "      <td>nan</td>\n",
       "    </tr>\n",
       "  </tbody>\n",
       "</table>\n",
       "<p>1084920 rows × 2 columns</p>\n",
       "</div>"
      ],
      "text/plain": [
       "          CNSTRCT_YR  CNSTRCT_YR_zscore\n",
       "1056575 19999979.000           1039.216\n",
       "840992     20115.000              0.944\n",
       "518182     20004.000              0.938\n",
       "743240     20000.000              0.938\n",
       "64079      20000.000              0.938\n",
       "...              ...                ...\n",
       "1084818          nan                nan\n",
       "1084890          nan                nan\n",
       "1084892          nan                nan\n",
       "1084897          nan                nan\n",
       "1084899          nan                nan\n",
       "\n",
       "[1084920 rows x 2 columns]"
      ]
     },
     "execution_count": 122,
     "metadata": {},
     "output_type": "execute_result"
    }
   ],
   "source": [
    "# sorting by CNSTRCT_YR_zscore in descending order\n",
    "CNSTRCT_YR_zscore.sort_values(by='CNSTRCT_YR_zscore', ascending=False)"
   ]
  },
  {
   "cell_type": "code",
   "execution_count": 123,
   "metadata": {},
   "outputs": [
    {
     "data": {
      "text/plain": [
       "1084920"
      ]
     },
     "execution_count": 123,
     "metadata": {},
     "output_type": "execute_result"
    }
   ],
   "source": [
    "len(CNSTRCT_YR_zscore)"
   ]
  },
  {
   "cell_type": "code",
   "execution_count": 124,
   "metadata": {},
   "outputs": [
    {
     "data": {
      "text/plain": [
       "CNSTRCT_YR           float64\n",
       "CNSTRCT_YR_zscore    float64\n",
       "dtype: object"
      ]
     },
     "execution_count": 124,
     "metadata": {},
     "output_type": "execute_result"
    }
   ],
   "source": [
    "CNSTRCT_YR_zscore.dtypes"
   ]
  },
  {
   "cell_type": "markdown",
   "metadata": {},
   "source": [
    "### 5.2.2 Identifying Possible Outliers from Z-Score"
   ]
  },
  {
   "cell_type": "code",
   "execution_count": 125,
   "metadata": {},
   "outputs": [],
   "source": [
    "# returning values in 'CNSTRCT_YR_zscore' column not between -3 and 3\n",
    "outside_zscore = CNSTRCT_YR_zscore[~CNSTRCT_YR_zscore['CNSTRCT_YR_zscore'].between(-3, 3, inclusive=True)]"
   ]
  },
  {
   "cell_type": "code",
   "execution_count": 126,
   "metadata": {},
   "outputs": [
    {
     "data": {
      "text/html": [
       "<div>\n",
       "<style scoped>\n",
       "    .dataframe tbody tr th:only-of-type {\n",
       "        vertical-align: middle;\n",
       "    }\n",
       "\n",
       "    .dataframe tbody tr th {\n",
       "        vertical-align: top;\n",
       "    }\n",
       "\n",
       "    .dataframe thead th {\n",
       "        text-align: right;\n",
       "    }\n",
       "</style>\n",
       "<table border=\"1\" class=\"dataframe\">\n",
       "  <thead>\n",
       "    <tr style=\"text-align: right;\">\n",
       "      <th></th>\n",
       "      <th>CNSTRCT_YR</th>\n",
       "      <th>CNSTRCT_YR_zscore</th>\n",
       "    </tr>\n",
       "  </thead>\n",
       "  <tbody>\n",
       "    <tr>\n",
       "      <th>4943</th>\n",
       "      <td>nan</td>\n",
       "      <td>nan</td>\n",
       "    </tr>\n",
       "    <tr>\n",
       "      <th>45949</th>\n",
       "      <td>nan</td>\n",
       "      <td>nan</td>\n",
       "    </tr>\n",
       "    <tr>\n",
       "      <th>45955</th>\n",
       "      <td>nan</td>\n",
       "      <td>nan</td>\n",
       "    </tr>\n",
       "    <tr>\n",
       "      <th>46004</th>\n",
       "      <td>nan</td>\n",
       "      <td>nan</td>\n",
       "    </tr>\n",
       "    <tr>\n",
       "      <th>50349</th>\n",
       "      <td>nan</td>\n",
       "      <td>nan</td>\n",
       "    </tr>\n",
       "  </tbody>\n",
       "</table>\n",
       "</div>"
      ],
      "text/plain": [
       "       CNSTRCT_YR  CNSTRCT_YR_zscore\n",
       "4943          nan                nan\n",
       "45949         nan                nan\n",
       "45955         nan                nan\n",
       "46004         nan                nan\n",
       "50349         nan                nan"
      ]
     },
     "execution_count": 126,
     "metadata": {},
     "output_type": "execute_result"
    }
   ],
   "source": [
    "# previewing first five rows \n",
    "outside_zscore.head()"
   ]
  },
  {
   "cell_type": "code",
   "execution_count": 127,
   "metadata": {},
   "outputs": [
    {
     "data": {
      "text/html": [
       "<div>\n",
       "<style scoped>\n",
       "    .dataframe tbody tr th:only-of-type {\n",
       "        vertical-align: middle;\n",
       "    }\n",
       "\n",
       "    .dataframe tbody tr th {\n",
       "        vertical-align: top;\n",
       "    }\n",
       "\n",
       "    .dataframe thead th {\n",
       "        text-align: right;\n",
       "    }\n",
       "</style>\n",
       "<table border=\"1\" class=\"dataframe\">\n",
       "  <thead>\n",
       "    <tr style=\"text-align: right;\">\n",
       "      <th></th>\n",
       "      <th>CNSTRCT_YR</th>\n",
       "      <th>CNSTRCT_YR_zscore</th>\n",
       "    </tr>\n",
       "  </thead>\n",
       "  <tbody>\n",
       "    <tr>\n",
       "      <th>1056575</th>\n",
       "      <td>19999979.000</td>\n",
       "      <td>1039.216</td>\n",
       "    </tr>\n",
       "    <tr>\n",
       "      <th>4943</th>\n",
       "      <td>nan</td>\n",
       "      <td>nan</td>\n",
       "    </tr>\n",
       "    <tr>\n",
       "      <th>45949</th>\n",
       "      <td>nan</td>\n",
       "      <td>nan</td>\n",
       "    </tr>\n",
       "    <tr>\n",
       "      <th>45955</th>\n",
       "      <td>nan</td>\n",
       "      <td>nan</td>\n",
       "    </tr>\n",
       "    <tr>\n",
       "      <th>46004</th>\n",
       "      <td>nan</td>\n",
       "      <td>nan</td>\n",
       "    </tr>\n",
       "    <tr>\n",
       "      <th>...</th>\n",
       "      <td>...</td>\n",
       "      <td>...</td>\n",
       "    </tr>\n",
       "    <tr>\n",
       "      <th>1084818</th>\n",
       "      <td>nan</td>\n",
       "      <td>nan</td>\n",
       "    </tr>\n",
       "    <tr>\n",
       "      <th>1084890</th>\n",
       "      <td>nan</td>\n",
       "      <td>nan</td>\n",
       "    </tr>\n",
       "    <tr>\n",
       "      <th>1084892</th>\n",
       "      <td>nan</td>\n",
       "      <td>nan</td>\n",
       "    </tr>\n",
       "    <tr>\n",
       "      <th>1084897</th>\n",
       "      <td>nan</td>\n",
       "      <td>nan</td>\n",
       "    </tr>\n",
       "    <tr>\n",
       "      <th>1084899</th>\n",
       "      <td>nan</td>\n",
       "      <td>nan</td>\n",
       "    </tr>\n",
       "  </tbody>\n",
       "</table>\n",
       "<p>4882 rows × 2 columns</p>\n",
       "</div>"
      ],
      "text/plain": [
       "          CNSTRCT_YR  CNSTRCT_YR_zscore\n",
       "1056575 19999979.000           1039.216\n",
       "4943             nan                nan\n",
       "45949            nan                nan\n",
       "45955            nan                nan\n",
       "46004            nan                nan\n",
       "...              ...                ...\n",
       "1084818          nan                nan\n",
       "1084890          nan                nan\n",
       "1084892          nan                nan\n",
       "1084897          nan                nan\n",
       "1084899          nan                nan\n",
       "\n",
       "[4882 rows x 2 columns]"
      ]
     },
     "execution_count": 127,
     "metadata": {},
     "output_type": "execute_result"
    }
   ],
   "source": [
    "# sorting values in 'CNSTRCT_YR_zscore' in ascending order\n",
    "outside_zscore.sort_values(by='CNSTRCT_YR_zscore')"
   ]
  },
  {
   "cell_type": "code",
   "execution_count": 128,
   "metadata": {},
   "outputs": [],
   "source": [
    "outside_zscore = outside_zscore.dropna(subset=['CNSTRCT_YR_zscore'])"
   ]
  },
  {
   "cell_type": "code",
   "execution_count": 129,
   "metadata": {},
   "outputs": [
    {
     "data": {
      "text/html": [
       "<div>\n",
       "<style scoped>\n",
       "    .dataframe tbody tr th:only-of-type {\n",
       "        vertical-align: middle;\n",
       "    }\n",
       "\n",
       "    .dataframe tbody tr th {\n",
       "        vertical-align: top;\n",
       "    }\n",
       "\n",
       "    .dataframe thead th {\n",
       "        text-align: right;\n",
       "    }\n",
       "</style>\n",
       "<table border=\"1\" class=\"dataframe\">\n",
       "  <thead>\n",
       "    <tr style=\"text-align: right;\">\n",
       "      <th></th>\n",
       "      <th>CNSTRCT_YR</th>\n",
       "      <th>CNSTRCT_YR_zscore</th>\n",
       "    </tr>\n",
       "  </thead>\n",
       "  <tbody>\n",
       "    <tr>\n",
       "      <th>1056575</th>\n",
       "      <td>19999979.000</td>\n",
       "      <td>1039.216</td>\n",
       "    </tr>\n",
       "  </tbody>\n",
       "</table>\n",
       "</div>"
      ],
      "text/plain": [
       "          CNSTRCT_YR  CNSTRCT_YR_zscore\n",
       "1056575 19999979.000           1039.216"
      ]
     },
     "execution_count": 129,
     "metadata": {},
     "output_type": "execute_result"
    }
   ],
   "source": [
    "# sorting values in 'CNSTRCT_YR_zscore' in descending order\n",
    "outside_zscore.sort_values(by='CNSTRCT_YR_zscore', ascending=False)"
   ]
  },
  {
   "cell_type": "code",
   "execution_count": 130,
   "metadata": {},
   "outputs": [
    {
     "data": {
      "text/plain": [
       "1"
      ]
     },
     "execution_count": 130,
     "metadata": {},
     "output_type": "execute_result"
    }
   ],
   "source": [
    "# printing number of rows\n",
    "len(outside_zscore)"
   ]
  },
  {
   "cell_type": "markdown",
   "metadata": {},
   "source": [
    "### 5.2.3 Making Histograms of Construction Year Raw and Normalized (Z-Score) Values"
   ]
  },
  {
   "cell_type": "code",
   "execution_count": 131,
   "metadata": {},
   "outputs": [
    {
     "data": {
      "text/html": [
       "<div>\n",
       "<style scoped>\n",
       "    .dataframe tbody tr th:only-of-type {\n",
       "        vertical-align: middle;\n",
       "    }\n",
       "\n",
       "    .dataframe tbody tr th {\n",
       "        vertical-align: top;\n",
       "    }\n",
       "\n",
       "    .dataframe thead th {\n",
       "        text-align: right;\n",
       "    }\n",
       "</style>\n",
       "<table border=\"1\" class=\"dataframe\">\n",
       "  <thead>\n",
       "    <tr style=\"text-align: right;\">\n",
       "      <th></th>\n",
       "      <th>CNSTRCT_YR</th>\n",
       "      <th>CNSTRCT_YR_zscore</th>\n",
       "    </tr>\n",
       "  </thead>\n",
       "  <tbody>\n",
       "    <tr>\n",
       "      <th>0</th>\n",
       "      <td>2009.000</td>\n",
       "      <td>0.003</td>\n",
       "    </tr>\n",
       "    <tr>\n",
       "      <th>1</th>\n",
       "      <td>1930.000</td>\n",
       "      <td>-0.001</td>\n",
       "    </tr>\n",
       "    <tr>\n",
       "      <th>2</th>\n",
       "      <td>1960.000</td>\n",
       "      <td>0.001</td>\n",
       "    </tr>\n",
       "    <tr>\n",
       "      <th>3</th>\n",
       "      <td>1920.000</td>\n",
       "      <td>-0.001</td>\n",
       "    </tr>\n",
       "    <tr>\n",
       "      <th>4</th>\n",
       "      <td>1915.000</td>\n",
       "      <td>-0.002</td>\n",
       "    </tr>\n",
       "  </tbody>\n",
       "</table>\n",
       "</div>"
      ],
      "text/plain": [
       "   CNSTRCT_YR  CNSTRCT_YR_zscore\n",
       "0    2009.000              0.003\n",
       "1    1930.000             -0.001\n",
       "2    1960.000              0.001\n",
       "3    1920.000             -0.001\n",
       "4    1915.000             -0.002"
      ]
     },
     "execution_count": 131,
     "metadata": {},
     "output_type": "execute_result"
    }
   ],
   "source": [
    "CNSTRCT_YR_zscore.head()"
   ]
  },
  {
   "cell_type": "code",
   "execution_count": 132,
   "metadata": {},
   "outputs": [
    {
     "data": {
      "text/plain": [
       "array([[<AxesSubplot:title={'center':'CNSTRCT_YR'}>,\n",
       "        <AxesSubplot:title={'center':'CNSTRCT_YR_zscore'}>]], dtype=object)"
      ]
     },
     "execution_count": 132,
     "metadata": {},
     "output_type": "execute_result"
    },
    {
     "data": {
      "image/png": "[encoded data removed]",
      "text/plain": [
       "<Figure size 1800x720 with 2 Axes>"
      ]
     },
     "metadata": {
      "needs_background": "light"
     },
     "output_type": "display_data"
    }
   ],
   "source": [
    "# making histograms of the distributions of both columns\n",
    "CNSTRCT_YR_zscore.hist(bins=25, figsize=(25,10))"
   ]
  },
  {
   "cell_type": "markdown",
   "metadata": {},
   "source": [
    "# 6. Conclusion"
   ]
  },
  {
   "cell_type": "markdown",
   "metadata": {},
   "source": [
    "In this notebook, we reviewed various ways to inspect, clean, wrangle, and detect any outliers in your data.  Specifically, we focused on ways to inspect the shape (number of rows, columns) of your data, fill in or replace incorrect values with the median, and detect outliers with box plots and z-scores. This step is crucial if you are interested in modeling or predicting future values.. In Part III, we will focus on data visualization."
   ]
  },
  {
   "cell_type": "code",
   "execution_count": null,
   "metadata": {},
   "outputs": [],
   "source": []
  }
 ],
 "metadata": {
  "kernelspec": {
   "display_name": "Python 3",
   "language": "python",
   "name": "python3"
  },
  "language_info": {
   "codemirror_mode": {
    "name": "ipython",
    "version": 3
   },
   "file_extension": ".py",
   "mimetype": "text/x-python",
   "name": "python",
   "nbconvert_exporter": "python",
   "pygments_lexer": "ipython3",
   "version": "3.7.1"
  }
 },
 "nbformat": 4,
 "nbformat_minor": 2
}
