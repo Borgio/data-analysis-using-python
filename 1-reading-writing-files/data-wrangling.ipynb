{
 "cells": [
  {
   "cell_type": "markdown",
   "metadata": {},
   "source": [
    "# Note: this is not the analysis notebook.\n",
    "\n",
    "### Goal: Exporting sample data for *Part 1: Reading and Writing Files in Python*\n",
    "\n",
    "\n",
    "\n",
    "Mark Bauer"
   ]
  },
  {
   "cell_type": "code",
   "execution_count": 15,
   "metadata": {},
   "outputs": [],
   "source": [
    "# importing libraries\n",
    "import pandas as pd\n",
    "import numpy as np\n",
    "import geopandas as gpd\n",
    "from openpyxl import Workbook\n",
    "import zipfile\n",
    "from zipfile import ZipFile\n",
    "from os.path import basename"
   ]
  },
  {
   "cell_type": "markdown",
   "metadata": {},
   "source": [
    "Printing verions of Python modules and packages with **watermark** - the IPython magic extension.\n",
    "\n",
    "Documention for installing watermark: https://github.com/rasbt/watermark"
   ]
  },
  {
   "cell_type": "code",
   "execution_count": 2,
   "metadata": {},
   "outputs": [
    {
     "name": "stdout",
     "output_type": "stream",
     "text": [
      "CPython 3.7.1\n",
      "IPython 7.20.0\n",
      "\n",
      "numpy 1.19.2\n",
      "pandas 1.2.1\n",
      "geopandas 0.8.1\n",
      "matplotlib.pyplot 3.3.2\n",
      "json 2.0.9\n",
      "requests 2.25.1\n",
      "sodapy 2.0.0\n"
     ]
    }
   ],
   "source": [
    "%load_ext watermark\n",
    "\n",
    "%watermark -v -p numpy,pandas,geopandas,matplotlib.pyplot,json,requests,sodapy"
   ]
  },
  {
   "cell_type": "code",
   "execution_count": 3,
   "metadata": {},
   "outputs": [
    {
     "data": {
      "text/html": [
       "<div>\n",
       "<style scoped>\n",
       "    .dataframe tbody tr th:only-of-type {\n",
       "        vertical-align: middle;\n",
       "    }\n",
       "\n",
       "    .dataframe tbody tr th {\n",
       "        vertical-align: top;\n",
       "    }\n",
       "\n",
       "    .dataframe thead th {\n",
       "        text-align: right;\n",
       "    }\n",
       "</style>\n",
       "<table border=\"1\" class=\"dataframe\">\n",
       "  <thead>\n",
       "    <tr style=\"text-align: right;\">\n",
       "      <th></th>\n",
       "      <th>CNSTRCT_YR</th>\n",
       "      <th>BIN</th>\n",
       "      <th>the_geom</th>\n",
       "      <th>NAME</th>\n",
       "      <th>LSTMODDATE</th>\n",
       "      <th>LSTSTATYPE</th>\n",
       "      <th>DOITT_ID</th>\n",
       "      <th>HEIGHTROOF</th>\n",
       "      <th>FEAT_CODE</th>\n",
       "      <th>GROUNDELEV</th>\n",
       "      <th>SHAPE_AREA</th>\n",
       "      <th>SHAPE_LEN</th>\n",
       "      <th>BASE_BBL</th>\n",
       "      <th>MPLUTO_BBL</th>\n",
       "      <th>GEOMSOURCE</th>\n",
       "    </tr>\n",
       "  </thead>\n",
       "  <tbody>\n",
       "    <tr>\n",
       "      <th>0</th>\n",
       "      <td>1925.0</td>\n",
       "      <td>3170958</td>\n",
       "      <td>MULTIPOLYGON (((-73.96664570466969 40.62599676...</td>\n",
       "      <td>NaN</td>\n",
       "      <td>08/22/2017 12:00:00 AM +0000</td>\n",
       "      <td>Constructed</td>\n",
       "      <td>96807</td>\n",
       "      <td>29.749853</td>\n",
       "      <td>2100.0</td>\n",
       "      <td>40.0</td>\n",
       "      <td>0</td>\n",
       "      <td>0</td>\n",
       "      <td>3.065220e+09</td>\n",
       "      <td>3.065220e+09</td>\n",
       "      <td>Photogramm</td>\n",
       "    </tr>\n",
       "    <tr>\n",
       "      <th>1</th>\n",
       "      <td>1965.0</td>\n",
       "      <td>5028452</td>\n",
       "      <td>MULTIPOLYGON (((-74.16790202462265 40.63936048...</td>\n",
       "      <td>NaN</td>\n",
       "      <td>08/22/2017 12:00:00 AM +0000</td>\n",
       "      <td>Constructed</td>\n",
       "      <td>326368</td>\n",
       "      <td>22.630000</td>\n",
       "      <td>2100.0</td>\n",
       "      <td>39.0</td>\n",
       "      <td>0</td>\n",
       "      <td>0</td>\n",
       "      <td>5.012640e+09</td>\n",
       "      <td>5.012640e+09</td>\n",
       "      <td>Photogramm</td>\n",
       "    </tr>\n",
       "    <tr>\n",
       "      <th>2</th>\n",
       "      <td>1970.0</td>\n",
       "      <td>5078368</td>\n",
       "      <td>MULTIPOLYGON (((-74.19510813278613 40.55610681...</td>\n",
       "      <td>NaN</td>\n",
       "      <td>08/22/2017 12:00:00 AM +0000</td>\n",
       "      <td>Constructed</td>\n",
       "      <td>746627</td>\n",
       "      <td>35.760000</td>\n",
       "      <td>2100.0</td>\n",
       "      <td>51.0</td>\n",
       "      <td>0</td>\n",
       "      <td>0</td>\n",
       "      <td>5.060190e+09</td>\n",
       "      <td>5.060190e+09</td>\n",
       "      <td>Photogramm</td>\n",
       "    </tr>\n",
       "    <tr>\n",
       "      <th>3</th>\n",
       "      <td>1928.0</td>\n",
       "      <td>3245111</td>\n",
       "      <td>MULTIPOLYGON (((-73.96113466505085 40.57743931...</td>\n",
       "      <td>NaN</td>\n",
       "      <td>08/22/2017 12:00:00 AM +0000</td>\n",
       "      <td>Constructed</td>\n",
       "      <td>786626</td>\n",
       "      <td>37.500000</td>\n",
       "      <td>2100.0</td>\n",
       "      <td>6.0</td>\n",
       "      <td>0</td>\n",
       "      <td>0</td>\n",
       "      <td>3.086910e+09</td>\n",
       "      <td>3.086910e+09</td>\n",
       "      <td>Photogramm</td>\n",
       "    </tr>\n",
       "    <tr>\n",
       "      <th>4</th>\n",
       "      <td>1950.0</td>\n",
       "      <td>4161096</td>\n",
       "      <td>MULTIPOLYGON (((-73.75421559146167 40.75591276...</td>\n",
       "      <td>NaN</td>\n",
       "      <td>08/22/2017 12:00:00 AM +0000</td>\n",
       "      <td>Constructed</td>\n",
       "      <td>746409</td>\n",
       "      <td>18.015113</td>\n",
       "      <td>2100.0</td>\n",
       "      <td>93.0</td>\n",
       "      <td>0</td>\n",
       "      <td>0</td>\n",
       "      <td>4.075020e+09</td>\n",
       "      <td>4.075020e+09</td>\n",
       "      <td>Photogramm</td>\n",
       "    </tr>\n",
       "  </tbody>\n",
       "</table>\n",
       "</div>"
      ],
      "text/plain": [
       "   CNSTRCT_YR      BIN                                           the_geom  \\\n",
       "0      1925.0  3170958  MULTIPOLYGON (((-73.96664570466969 40.62599676...   \n",
       "1      1965.0  5028452  MULTIPOLYGON (((-74.16790202462265 40.63936048...   \n",
       "2      1970.0  5078368  MULTIPOLYGON (((-74.19510813278613 40.55610681...   \n",
       "3      1928.0  3245111  MULTIPOLYGON (((-73.96113466505085 40.57743931...   \n",
       "4      1950.0  4161096  MULTIPOLYGON (((-73.75421559146167 40.75591276...   \n",
       "\n",
       "  NAME                    LSTMODDATE   LSTSTATYPE  DOITT_ID  HEIGHTROOF  \\\n",
       "0  NaN  08/22/2017 12:00:00 AM +0000  Constructed     96807   29.749853   \n",
       "1  NaN  08/22/2017 12:00:00 AM +0000  Constructed    326368   22.630000   \n",
       "2  NaN  08/22/2017 12:00:00 AM +0000  Constructed    746627   35.760000   \n",
       "3  NaN  08/22/2017 12:00:00 AM +0000  Constructed    786626   37.500000   \n",
       "4  NaN  08/22/2017 12:00:00 AM +0000  Constructed    746409   18.015113   \n",
       "\n",
       "   FEAT_CODE  GROUNDELEV  SHAPE_AREA  SHAPE_LEN      BASE_BBL    MPLUTO_BBL  \\\n",
       "0     2100.0        40.0           0          0  3.065220e+09  3.065220e+09   \n",
       "1     2100.0        39.0           0          0  5.012640e+09  5.012640e+09   \n",
       "2     2100.0        51.0           0          0  5.060190e+09  5.060190e+09   \n",
       "3     2100.0         6.0           0          0  3.086910e+09  3.086910e+09   \n",
       "4     2100.0        93.0           0          0  4.075020e+09  4.075020e+09   \n",
       "\n",
       "   GEOMSOURCE  \n",
       "0  Photogramm  \n",
       "1  Photogramm  \n",
       "2  Photogramm  \n",
       "3  Photogramm  \n",
       "4  Photogramm  "
      ]
     },
     "execution_count": 3,
     "metadata": {},
     "output_type": "execute_result"
    }
   ],
   "source": [
    "# reading in data as a url from NYC Open Data\n",
    "url = 'https://data.cityofnewyork.us/api/views/qb5r-6dgf/rows.csv?accessType=DOWNLOAD'\n",
    "df = pd.read_csv(url)\n",
    "\n",
    "df.head()"
   ]
  },
  {
   "cell_type": "code",
   "execution_count": 4,
   "metadata": {},
   "outputs": [
    {
     "name": "stdout",
     "output_type": "stream",
     "text": [
      "This dataset has 1,084,416 rows and 15 columns.\n"
     ]
    }
   ],
   "source": [
    "rows, columns = df.shape\n",
    "print('This dataset has {:,} rows and {:,} columns.'.format(rows, columns))"
   ]
  },
  {
   "cell_type": "markdown",
   "metadata": {},
   "source": [
    "### For simplicity, we're only exporting buildings built from 2010 to 2020\n",
    "\n",
    "This pertains to both the building footprints and the PLUTO datasets."
   ]
  },
  {
   "cell_type": "code",
   "execution_count": 5,
   "metadata": {},
   "outputs": [
    {
     "data": {
      "text/html": [
       "<div>\n",
       "<style scoped>\n",
       "    .dataframe tbody tr th:only-of-type {\n",
       "        vertical-align: middle;\n",
       "    }\n",
       "\n",
       "    .dataframe tbody tr th {\n",
       "        vertical-align: top;\n",
       "    }\n",
       "\n",
       "    .dataframe thead th {\n",
       "        text-align: right;\n",
       "    }\n",
       "</style>\n",
       "<table border=\"1\" class=\"dataframe\">\n",
       "  <thead>\n",
       "    <tr style=\"text-align: right;\">\n",
       "      <th></th>\n",
       "      <th>CNSTRCT_YR</th>\n",
       "      <th>BIN</th>\n",
       "      <th>the_geom</th>\n",
       "      <th>NAME</th>\n",
       "      <th>LSTMODDATE</th>\n",
       "      <th>LSTSTATYPE</th>\n",
       "      <th>DOITT_ID</th>\n",
       "      <th>HEIGHTROOF</th>\n",
       "      <th>FEAT_CODE</th>\n",
       "      <th>GROUNDELEV</th>\n",
       "      <th>SHAPE_AREA</th>\n",
       "      <th>SHAPE_LEN</th>\n",
       "      <th>BASE_BBL</th>\n",
       "      <th>MPLUTO_BBL</th>\n",
       "      <th>GEOMSOURCE</th>\n",
       "    </tr>\n",
       "  </thead>\n",
       "  <tbody>\n",
       "    <tr>\n",
       "      <th>0</th>\n",
       "      <td>2013.0</td>\n",
       "      <td>1022662</td>\n",
       "      <td>MULTIPOLYGON (((-73.98406915139554 40.75857096...</td>\n",
       "      <td>NaN</td>\n",
       "      <td>08/22/2017 12:00:00 AM +0000</td>\n",
       "      <td>Constructed</td>\n",
       "      <td>633694</td>\n",
       "      <td>76.930000</td>\n",
       "      <td>2100.0</td>\n",
       "      <td>49.0</td>\n",
       "      <td>0</td>\n",
       "      <td>0</td>\n",
       "      <td>1.009990e+09</td>\n",
       "      <td>1.009990e+09</td>\n",
       "      <td>Photogramm</td>\n",
       "    </tr>\n",
       "    <tr>\n",
       "      <th>1</th>\n",
       "      <td>2011.0</td>\n",
       "      <td>3394834</td>\n",
       "      <td>MULTIPOLYGON (((-73.87172426474349 40.65519420...</td>\n",
       "      <td>NaN</td>\n",
       "      <td>08/22/2017 12:00:00 AM +0000</td>\n",
       "      <td>Constructed</td>\n",
       "      <td>1250314</td>\n",
       "      <td>26.000000</td>\n",
       "      <td>2100.0</td>\n",
       "      <td>15.0</td>\n",
       "      <td>0</td>\n",
       "      <td>0</td>\n",
       "      <td>3.044521e+09</td>\n",
       "      <td>3.044521e+09</td>\n",
       "      <td>Other (Man</td>\n",
       "    </tr>\n",
       "    <tr>\n",
       "      <th>2</th>\n",
       "      <td>2010.0</td>\n",
       "      <td>4540159</td>\n",
       "      <td>MULTIPOLYGON (((-73.86650099829305 40.74236058...</td>\n",
       "      <td>NaN</td>\n",
       "      <td>08/22/2017 12:00:00 AM +0000</td>\n",
       "      <td>Constructed</td>\n",
       "      <td>201366</td>\n",
       "      <td>28.000000</td>\n",
       "      <td>2100.0</td>\n",
       "      <td>37.0</td>\n",
       "      <td>0</td>\n",
       "      <td>0</td>\n",
       "      <td>4.018780e+09</td>\n",
       "      <td>4.018780e+09</td>\n",
       "      <td>Other (Man</td>\n",
       "    </tr>\n",
       "    <tr>\n",
       "      <th>3</th>\n",
       "      <td>2010.0</td>\n",
       "      <td>4260357</td>\n",
       "      <td>MULTIPOLYGON (((-73.7940773567428 40.680625171...</td>\n",
       "      <td>NaN</td>\n",
       "      <td>08/10/2017 12:00:00 AM +0000</td>\n",
       "      <td>Constructed</td>\n",
       "      <td>1184712</td>\n",
       "      <td>29.000000</td>\n",
       "      <td>2100.0</td>\n",
       "      <td>20.0</td>\n",
       "      <td>0</td>\n",
       "      <td>0</td>\n",
       "      <td>4.120060e+09</td>\n",
       "      <td>4.120060e+09</td>\n",
       "      <td>Other (Man</td>\n",
       "    </tr>\n",
       "    <tr>\n",
       "      <th>4</th>\n",
       "      <td>2010.0</td>\n",
       "      <td>4540051</td>\n",
       "      <td>MULTIPOLYGON (((-73.87805078807256 40.71475698...</td>\n",
       "      <td>NaN</td>\n",
       "      <td>08/22/2017 12:00:00 AM +0000</td>\n",
       "      <td>Constructed</td>\n",
       "      <td>1171655</td>\n",
       "      <td>28.330225</td>\n",
       "      <td>2100.0</td>\n",
       "      <td>112.0</td>\n",
       "      <td>0</td>\n",
       "      <td>0</td>\n",
       "      <td>4.030600e+09</td>\n",
       "      <td>4.030600e+09</td>\n",
       "      <td>Photogramm</td>\n",
       "    </tr>\n",
       "  </tbody>\n",
       "</table>\n",
       "</div>"
      ],
      "text/plain": [
       "   CNSTRCT_YR      BIN                                           the_geom  \\\n",
       "0      2013.0  1022662  MULTIPOLYGON (((-73.98406915139554 40.75857096...   \n",
       "1      2011.0  3394834  MULTIPOLYGON (((-73.87172426474349 40.65519420...   \n",
       "2      2010.0  4540159  MULTIPOLYGON (((-73.86650099829305 40.74236058...   \n",
       "3      2010.0  4260357  MULTIPOLYGON (((-73.7940773567428 40.680625171...   \n",
       "4      2010.0  4540051  MULTIPOLYGON (((-73.87805078807256 40.71475698...   \n",
       "\n",
       "  NAME                    LSTMODDATE   LSTSTATYPE  DOITT_ID  HEIGHTROOF  \\\n",
       "0  NaN  08/22/2017 12:00:00 AM +0000  Constructed    633694   76.930000   \n",
       "1  NaN  08/22/2017 12:00:00 AM +0000  Constructed   1250314   26.000000   \n",
       "2  NaN  08/22/2017 12:00:00 AM +0000  Constructed    201366   28.000000   \n",
       "3  NaN  08/10/2017 12:00:00 AM +0000  Constructed   1184712   29.000000   \n",
       "4  NaN  08/22/2017 12:00:00 AM +0000  Constructed   1171655   28.330225   \n",
       "\n",
       "   FEAT_CODE  GROUNDELEV  SHAPE_AREA  SHAPE_LEN      BASE_BBL    MPLUTO_BBL  \\\n",
       "0     2100.0        49.0           0          0  1.009990e+09  1.009990e+09   \n",
       "1     2100.0        15.0           0          0  3.044521e+09  3.044521e+09   \n",
       "2     2100.0        37.0           0          0  4.018780e+09  4.018780e+09   \n",
       "3     2100.0        20.0           0          0  4.120060e+09  4.120060e+09   \n",
       "4     2100.0       112.0           0          0  4.030600e+09  4.030600e+09   \n",
       "\n",
       "   GEOMSOURCE  \n",
       "0  Photogramm  \n",
       "1  Other (Man  \n",
       "2  Other (Man  \n",
       "3  Other (Man  \n",
       "4  Photogramm  "
      ]
     },
     "execution_count": 5,
     "metadata": {},
     "output_type": "execute_result"
    }
   ],
   "source": [
    "# saving only buildings built between 2010 and 2020 as a new dataframe\n",
    "df_sample = df.loc[df['CNSTRCT_YR'].between(2010, 2020)]\n",
    "\n",
    "# reset our index\n",
    "df_sample = df_sample.reset_index(drop=True)\n",
    "\n",
    "# previewing first five rows of sample data\n",
    "df_sample.head()"
   ]
  },
  {
   "cell_type": "code",
   "execution_count": 6,
   "metadata": {},
   "outputs": [
    {
     "name": "stdout",
     "output_type": "stream",
     "text": [
      "This dataset has 15,182 rows and 15 columns.\n"
     ]
    }
   ],
   "source": [
    "rows, columns = df_sample.shape\n",
    "print('This dataset has {:,} rows and {:,} columns.'.format(rows, columns))"
   ]
  },
  {
   "cell_type": "code",
   "execution_count": 7,
   "metadata": {},
   "outputs": [
    {
     "data": {
      "text/plain": [
       "array([2010., 2011., 2012., 2013., 2014., 2015., 2016., 2017., 2018.,\n",
       "       2019., 2020.])"
      ]
     },
     "execution_count": 7,
     "metadata": {},
     "output_type": "execute_result"
    }
   ],
   "source": [
    "# sorting our construction year values and printing the unique values\n",
    "df_sample.sort_values(by='CNSTRCT_YR')['CNSTRCT_YR'].unique()"
   ]
  },
  {
   "cell_type": "code",
   "execution_count": 8,
   "metadata": {},
   "outputs": [
    {
     "data": {
      "text/plain": [
       "2018.0    2099\n",
       "2017.0    1911\n",
       "2016.0    1782\n",
       "2011.0    1490\n",
       "2012.0    1447\n",
       "2010.0    1369\n",
       "2020.0    1253\n",
       "2015.0    1077\n",
       "2019.0     998\n",
       "2013.0     905\n",
       "2014.0     851\n",
       "Name: CNSTRCT_YR, dtype: int64"
      ]
     },
     "execution_count": 8,
     "metadata": {},
     "output_type": "execute_result"
    }
   ],
   "source": [
    "# value counts and sanity checks\n",
    "df_sample['CNSTRCT_YR'].value_counts()"
   ]
  },
  {
   "cell_type": "code",
   "execution_count": 9,
   "metadata": {},
   "outputs": [
    {
     "data": {
      "text/plain": [
       "2010.0    1369\n",
       "2011.0    1490\n",
       "2012.0    1447\n",
       "2013.0     905\n",
       "2014.0     851\n",
       "2015.0    1077\n",
       "2016.0    1782\n",
       "2017.0    1911\n",
       "2018.0    2099\n",
       "2019.0     998\n",
       "2020.0    1253\n",
       "Name: CNSTRCT_YR, dtype: int64"
      ]
     },
     "execution_count": 9,
     "metadata": {},
     "output_type": "execute_result"
    }
   ],
   "source": [
    "# value counts and sanity checks\n",
    "df_sample['CNSTRCT_YR'].value_counts().sort_index()"
   ]
  },
  {
   "cell_type": "code",
   "execution_count": 10,
   "metadata": {},
   "outputs": [
    {
     "name": "stdout",
     "output_type": "stream",
     "text": [
      "README.md             sample-buildings.zip  \u001b[34munzipped-data\u001b[m\u001b[m/\r\n"
     ]
    }
   ],
   "source": [
    "# list items in data folder\n",
    "%ls data/"
   ]
  },
  {
   "cell_type": "code",
   "execution_count": 11,
   "metadata": {},
   "outputs": [
    {
     "name": "stdout",
     "output_type": "stream",
     "text": [
      "README.md             sample-data.csv\r\n",
      "sample-buildings.zip  \u001b[34munzipped-data\u001b[m\u001b[m/\r\n"
     ]
    }
   ],
   "source": [
    "# writing files as a csv\n",
    "df_sample.to_csv('data/sample-data.csv', index=False)\n",
    "\n",
    "# listing items in data folder\n",
    "%ls data/"
   ]
  },
  {
   "cell_type": "code",
   "execution_count": 12,
   "metadata": {},
   "outputs": [
    {
     "name": "stdout",
     "output_type": "stream",
     "text": [
      "README.md             sample-data.csv       \u001b[34munzipped-data\u001b[m\u001b[m/\r\n",
      "sample-buildings.zip  sample-data.xlsx\r\n"
     ]
    }
   ],
   "source": [
    "# writing files as an excel file\n",
    "df_sample.to_excel('data/sample-data.xlsx', index=False)\n",
    "\n",
    "# listing items in data folder\n",
    "%ls data/"
   ]
  },
  {
   "cell_type": "code",
   "execution_count": 16,
   "metadata": {},
   "outputs": [
    {
     "name": "stdout",
     "output_type": "stream",
     "text": [
      "README.md             sample-data.csv       sample-data.xlsx\r\n",
      "sample-buildings.zip  sample-data.json      \u001b[34munzipped-data\u001b[m\u001b[m/\r\n"
     ]
    }
   ],
   "source": [
    "# writing files as json\n",
    "df_sample.to_json('data/sample-data.json')\n",
    "\n",
    "# listing items in data folder\n",
    "%ls data/"
   ]
  },
  {
   "cell_type": "code",
   "execution_count": 17,
   "metadata": {},
   "outputs": [
    {
     "data": {
      "text/html": [
       "<div>\n",
       "<style scoped>\n",
       "    .dataframe tbody tr th:only-of-type {\n",
       "        vertical-align: middle;\n",
       "    }\n",
       "\n",
       "    .dataframe tbody tr th {\n",
       "        vertical-align: top;\n",
       "    }\n",
       "\n",
       "    .dataframe thead th {\n",
       "        text-align: right;\n",
       "    }\n",
       "</style>\n",
       "<table border=\"1\" class=\"dataframe\">\n",
       "  <thead>\n",
       "    <tr style=\"text-align: right;\">\n",
       "      <th></th>\n",
       "      <th>base_bbl</th>\n",
       "      <th>bin</th>\n",
       "      <th>cnstrct_yr</th>\n",
       "      <th>doitt_id</th>\n",
       "      <th>feat_code</th>\n",
       "      <th>geomsource</th>\n",
       "      <th>groundelev</th>\n",
       "      <th>heightroof</th>\n",
       "      <th>date_lstmo</th>\n",
       "      <th>time_lstmo</th>\n",
       "      <th>lststatype</th>\n",
       "      <th>mpluto_bbl</th>\n",
       "      <th>name</th>\n",
       "      <th>shape_area</th>\n",
       "      <th>shape_len</th>\n",
       "      <th>geometry</th>\n",
       "    </tr>\n",
       "  </thead>\n",
       "  <tbody>\n",
       "    <tr>\n",
       "      <th>0</th>\n",
       "      <td>3065220021</td>\n",
       "      <td>3170958.0</td>\n",
       "      <td>1925.0</td>\n",
       "      <td>96807.0</td>\n",
       "      <td>2100.0</td>\n",
       "      <td>Photogramm</td>\n",
       "      <td>40.0</td>\n",
       "      <td>29.749853</td>\n",
       "      <td>2017-08-22</td>\n",
       "      <td>00:00:00.000</td>\n",
       "      <td>Constructed</td>\n",
       "      <td>3065220021</td>\n",
       "      <td>None</td>\n",
       "      <td>0.0</td>\n",
       "      <td>0.0</td>\n",
       "      <td>POLYGON ((-73.96665 40.62600, -73.96685 40.625...</td>\n",
       "    </tr>\n",
       "    <tr>\n",
       "      <th>1</th>\n",
       "      <td>5012640036</td>\n",
       "      <td>5028452.0</td>\n",
       "      <td>1965.0</td>\n",
       "      <td>326368.0</td>\n",
       "      <td>2100.0</td>\n",
       "      <td>Photogramm</td>\n",
       "      <td>39.0</td>\n",
       "      <td>22.630000</td>\n",
       "      <td>2017-08-22</td>\n",
       "      <td>00:00:00.000</td>\n",
       "      <td>Constructed</td>\n",
       "      <td>5012640036</td>\n",
       "      <td>None</td>\n",
       "      <td>0.0</td>\n",
       "      <td>0.0</td>\n",
       "      <td>POLYGON ((-74.16790 40.63936, -74.16790 40.639...</td>\n",
       "    </tr>\n",
       "    <tr>\n",
       "      <th>2</th>\n",
       "      <td>5060190091</td>\n",
       "      <td>5078368.0</td>\n",
       "      <td>1970.0</td>\n",
       "      <td>746627.0</td>\n",
       "      <td>2100.0</td>\n",
       "      <td>Photogramm</td>\n",
       "      <td>51.0</td>\n",
       "      <td>35.760000</td>\n",
       "      <td>2017-08-22</td>\n",
       "      <td>00:00:00.000</td>\n",
       "      <td>Constructed</td>\n",
       "      <td>5060190091</td>\n",
       "      <td>None</td>\n",
       "      <td>0.0</td>\n",
       "      <td>0.0</td>\n",
       "      <td>POLYGON ((-74.19511 40.55611, -74.19520 40.556...</td>\n",
       "    </tr>\n",
       "    <tr>\n",
       "      <th>3</th>\n",
       "      <td>3086910048</td>\n",
       "      <td>3245111.0</td>\n",
       "      <td>1928.0</td>\n",
       "      <td>786626.0</td>\n",
       "      <td>2100.0</td>\n",
       "      <td>Photogramm</td>\n",
       "      <td>6.0</td>\n",
       "      <td>37.500000</td>\n",
       "      <td>2017-08-22</td>\n",
       "      <td>00:00:00.000</td>\n",
       "      <td>Constructed</td>\n",
       "      <td>3086910048</td>\n",
       "      <td>None</td>\n",
       "      <td>0.0</td>\n",
       "      <td>0.0</td>\n",
       "      <td>POLYGON ((-73.96113 40.57744, -73.96115 40.577...</td>\n",
       "    </tr>\n",
       "    <tr>\n",
       "      <th>4</th>\n",
       "      <td>4075020005</td>\n",
       "      <td>4161096.0</td>\n",
       "      <td>1950.0</td>\n",
       "      <td>746409.0</td>\n",
       "      <td>2100.0</td>\n",
       "      <td>Photogramm</td>\n",
       "      <td>93.0</td>\n",
       "      <td>18.015113</td>\n",
       "      <td>2017-08-22</td>\n",
       "      <td>00:00:00.000</td>\n",
       "      <td>Constructed</td>\n",
       "      <td>4075020005</td>\n",
       "      <td>None</td>\n",
       "      <td>0.0</td>\n",
       "      <td>0.0</td>\n",
       "      <td>POLYGON ((-73.75422 40.75591, -73.75417 40.755...</td>\n",
       "    </tr>\n",
       "  </tbody>\n",
       "</table>\n",
       "</div>"
      ],
      "text/plain": [
       "     base_bbl        bin  cnstrct_yr  doitt_id  feat_code  geomsource  \\\n",
       "0  3065220021  3170958.0      1925.0   96807.0     2100.0  Photogramm   \n",
       "1  5012640036  5028452.0      1965.0  326368.0     2100.0  Photogramm   \n",
       "2  5060190091  5078368.0      1970.0  746627.0     2100.0  Photogramm   \n",
       "3  3086910048  3245111.0      1928.0  786626.0     2100.0  Photogramm   \n",
       "4  4075020005  4161096.0      1950.0  746409.0     2100.0  Photogramm   \n",
       "\n",
       "   groundelev  heightroof  date_lstmo    time_lstmo   lststatype  mpluto_bbl  \\\n",
       "0        40.0   29.749853  2017-08-22  00:00:00.000  Constructed  3065220021   \n",
       "1        39.0   22.630000  2017-08-22  00:00:00.000  Constructed  5012640036   \n",
       "2        51.0   35.760000  2017-08-22  00:00:00.000  Constructed  5060190091   \n",
       "3         6.0   37.500000  2017-08-22  00:00:00.000  Constructed  3086910048   \n",
       "4        93.0   18.015113  2017-08-22  00:00:00.000  Constructed  4075020005   \n",
       "\n",
       "   name  shape_area  shape_len  \\\n",
       "0  None         0.0        0.0   \n",
       "1  None         0.0        0.0   \n",
       "2  None         0.0        0.0   \n",
       "3  None         0.0        0.0   \n",
       "4  None         0.0        0.0   \n",
       "\n",
       "                                            geometry  \n",
       "0  POLYGON ((-73.96665 40.62600, -73.96685 40.625...  \n",
       "1  POLYGON ((-74.16790 40.63936, -74.16790 40.639...  \n",
       "2  POLYGON ((-74.19511 40.55611, -74.19520 40.556...  \n",
       "3  POLYGON ((-73.96113 40.57744, -73.96115 40.577...  \n",
       "4  POLYGON ((-73.75422 40.75591, -73.75417 40.755...  "
      ]
     },
     "execution_count": 17,
     "metadata": {},
     "output_type": "execute_result"
    }
   ],
   "source": [
    "# reading in data as a geodataframe\n",
    "url = 'https://data.cityofnewyork.us/api/geospatial/nqwf-w8eh?method=export&format=Shapefile'\n",
    "gdf = gpd.read_file(url)\n",
    "\n",
    "# printing the first five rows\n",
    "gdf.head()"
   ]
  },
  {
   "cell_type": "code",
   "execution_count": 18,
   "metadata": {},
   "outputs": [
    {
     "name": "stdout",
     "output_type": "stream",
     "text": [
      "This dataset has 1,084,416 rows and 16 columns.\n"
     ]
    }
   ],
   "source": [
    "rows, columns = gdf.shape\n",
    "print('This dataset has {:,} rows and {:,} columns.'.format(rows, columns))"
   ]
  },
  {
   "cell_type": "code",
   "execution_count": 19,
   "metadata": {},
   "outputs": [
    {
     "data": {
      "text/html": [
       "<div>\n",
       "<style scoped>\n",
       "    .dataframe tbody tr th:only-of-type {\n",
       "        vertical-align: middle;\n",
       "    }\n",
       "\n",
       "    .dataframe tbody tr th {\n",
       "        vertical-align: top;\n",
       "    }\n",
       "\n",
       "    .dataframe thead th {\n",
       "        text-align: right;\n",
       "    }\n",
       "</style>\n",
       "<table border=\"1\" class=\"dataframe\">\n",
       "  <thead>\n",
       "    <tr style=\"text-align: right;\">\n",
       "      <th></th>\n",
       "      <th>base_bbl</th>\n",
       "      <th>bin</th>\n",
       "      <th>cnstrct_yr</th>\n",
       "      <th>doitt_id</th>\n",
       "      <th>feat_code</th>\n",
       "      <th>geomsource</th>\n",
       "      <th>groundelev</th>\n",
       "      <th>heightroof</th>\n",
       "      <th>date_lstmo</th>\n",
       "      <th>time_lstmo</th>\n",
       "      <th>lststatype</th>\n",
       "      <th>mpluto_bbl</th>\n",
       "      <th>name</th>\n",
       "      <th>shape_area</th>\n",
       "      <th>shape_len</th>\n",
       "      <th>geometry</th>\n",
       "    </tr>\n",
       "  </thead>\n",
       "  <tbody>\n",
       "    <tr>\n",
       "      <th>0</th>\n",
       "      <td>1009990008</td>\n",
       "      <td>1022662.0</td>\n",
       "      <td>2013.0</td>\n",
       "      <td>633694.0</td>\n",
       "      <td>2100.0</td>\n",
       "      <td>Photogramm</td>\n",
       "      <td>49.0</td>\n",
       "      <td>76.930000</td>\n",
       "      <td>2017-08-22</td>\n",
       "      <td>00:00:00.000</td>\n",
       "      <td>Constructed</td>\n",
       "      <td>1009990008</td>\n",
       "      <td>None</td>\n",
       "      <td>0.0</td>\n",
       "      <td>0.0</td>\n",
       "      <td>POLYGON ((-73.98407 40.75857, -73.98425 40.758...</td>\n",
       "    </tr>\n",
       "    <tr>\n",
       "      <th>1</th>\n",
       "      <td>3044520924</td>\n",
       "      <td>3394834.0</td>\n",
       "      <td>2011.0</td>\n",
       "      <td>1250314.0</td>\n",
       "      <td>2100.0</td>\n",
       "      <td>Other (Man</td>\n",
       "      <td>15.0</td>\n",
       "      <td>26.000000</td>\n",
       "      <td>2017-08-22</td>\n",
       "      <td>00:00:00.000</td>\n",
       "      <td>Constructed</td>\n",
       "      <td>3044520924</td>\n",
       "      <td>None</td>\n",
       "      <td>0.0</td>\n",
       "      <td>0.0</td>\n",
       "      <td>POLYGON ((-73.87172 40.65519, -73.87179 40.655...</td>\n",
       "    </tr>\n",
       "    <tr>\n",
       "      <th>2</th>\n",
       "      <td>4018780115</td>\n",
       "      <td>4540159.0</td>\n",
       "      <td>2010.0</td>\n",
       "      <td>201366.0</td>\n",
       "      <td>2100.0</td>\n",
       "      <td>Other (Man</td>\n",
       "      <td>37.0</td>\n",
       "      <td>28.000000</td>\n",
       "      <td>2017-08-22</td>\n",
       "      <td>00:00:00.000</td>\n",
       "      <td>Constructed</td>\n",
       "      <td>4018780115</td>\n",
       "      <td>None</td>\n",
       "      <td>0.0</td>\n",
       "      <td>0.0</td>\n",
       "      <td>POLYGON ((-73.86650 40.74236, -73.86645 40.742...</td>\n",
       "    </tr>\n",
       "    <tr>\n",
       "      <th>3</th>\n",
       "      <td>4120060029</td>\n",
       "      <td>4260357.0</td>\n",
       "      <td>2010.0</td>\n",
       "      <td>1184712.0</td>\n",
       "      <td>2100.0</td>\n",
       "      <td>Other (Man</td>\n",
       "      <td>20.0</td>\n",
       "      <td>29.000000</td>\n",
       "      <td>2017-08-10</td>\n",
       "      <td>00:00:00.000</td>\n",
       "      <td>Constructed</td>\n",
       "      <td>4120060029</td>\n",
       "      <td>None</td>\n",
       "      <td>0.0</td>\n",
       "      <td>0.0</td>\n",
       "      <td>POLYGON ((-73.79408 40.68063, -73.79407 40.680...</td>\n",
       "    </tr>\n",
       "    <tr>\n",
       "      <th>4</th>\n",
       "      <td>4030600139</td>\n",
       "      <td>4540051.0</td>\n",
       "      <td>2010.0</td>\n",
       "      <td>1171655.0</td>\n",
       "      <td>2100.0</td>\n",
       "      <td>Photogramm</td>\n",
       "      <td>112.0</td>\n",
       "      <td>28.330225</td>\n",
       "      <td>2017-08-22</td>\n",
       "      <td>00:00:00.000</td>\n",
       "      <td>Constructed</td>\n",
       "      <td>4030600139</td>\n",
       "      <td>None</td>\n",
       "      <td>0.0</td>\n",
       "      <td>0.0</td>\n",
       "      <td>POLYGON ((-73.87805 40.71476, -73.87787 40.714...</td>\n",
       "    </tr>\n",
       "  </tbody>\n",
       "</table>\n",
       "</div>"
      ],
      "text/plain": [
       "     base_bbl        bin  cnstrct_yr   doitt_id  feat_code  geomsource  \\\n",
       "0  1009990008  1022662.0      2013.0   633694.0     2100.0  Photogramm   \n",
       "1  3044520924  3394834.0      2011.0  1250314.0     2100.0  Other (Man   \n",
       "2  4018780115  4540159.0      2010.0   201366.0     2100.0  Other (Man   \n",
       "3  4120060029  4260357.0      2010.0  1184712.0     2100.0  Other (Man   \n",
       "4  4030600139  4540051.0      2010.0  1171655.0     2100.0  Photogramm   \n",
       "\n",
       "   groundelev  heightroof  date_lstmo    time_lstmo   lststatype  mpluto_bbl  \\\n",
       "0        49.0   76.930000  2017-08-22  00:00:00.000  Constructed  1009990008   \n",
       "1        15.0   26.000000  2017-08-22  00:00:00.000  Constructed  3044520924   \n",
       "2        37.0   28.000000  2017-08-22  00:00:00.000  Constructed  4018780115   \n",
       "3        20.0   29.000000  2017-08-10  00:00:00.000  Constructed  4120060029   \n",
       "4       112.0   28.330225  2017-08-22  00:00:00.000  Constructed  4030600139   \n",
       "\n",
       "   name  shape_area  shape_len  \\\n",
       "0  None         0.0        0.0   \n",
       "1  None         0.0        0.0   \n",
       "2  None         0.0        0.0   \n",
       "3  None         0.0        0.0   \n",
       "4  None         0.0        0.0   \n",
       "\n",
       "                                            geometry  \n",
       "0  POLYGON ((-73.98407 40.75857, -73.98425 40.758...  \n",
       "1  POLYGON ((-73.87172 40.65519, -73.87179 40.655...  \n",
       "2  POLYGON ((-73.86650 40.74236, -73.86645 40.742...  \n",
       "3  POLYGON ((-73.79408 40.68063, -73.79407 40.680...  \n",
       "4  POLYGON ((-73.87805 40.71476, -73.87787 40.714...  "
      ]
     },
     "execution_count": 19,
     "metadata": {},
     "output_type": "execute_result"
    }
   ],
   "source": [
    "# saving only buildings built between 2010 and 2020 as a new dataframe\n",
    "gdf_sample = gdf.loc[gdf['cnstrct_yr'].between(2010, 2020)]\n",
    "\n",
    "# reset our index\n",
    "gdf_sample = gdf_sample.reset_index(drop=True)\n",
    "\n",
    "# previewing first five rows of sample data\n",
    "gdf_sample.head()"
   ]
  },
  {
   "cell_type": "code",
   "execution_count": 20,
   "metadata": {},
   "outputs": [
    {
     "name": "stdout",
     "output_type": "stream",
     "text": [
      "README.md             sample-data.geojson   sample-data.shx\r\n",
      "sample-buildings.zip  sample-data.gpkg      sample-data.xlsx\r\n",
      "sample-data.cpg       sample-data.json      \u001b[34munzipped-data\u001b[m\u001b[m/\r\n",
      "sample-data.csv       sample-data.prj\r\n",
      "sample-data.dbf       sample-data.shp\r\n"
     ]
    }
   ],
   "source": [
    "# writing out spatial data\n",
    "gdf_sample.to_file('data/sample-data.shp')\n",
    "gdf_sample.to_file('data/sample-data.geojson', driver='GeoJSON')\n",
    "gdf_sample.to_file('data/sample-data.gpkg', layer='buildings', driver='GPKG')\n",
    "\n",
    "# listing items in data folder\n",
    "%ls data/"
   ]
  },
  {
   "cell_type": "markdown",
   "metadata": {},
   "source": [
    "### Creating a zip file with our sample data"
   ]
  },
  {
   "cell_type": "code",
   "execution_count": 21,
   "metadata": {},
   "outputs": [],
   "source": [
    "file_path = 'data/sample-buildings.zip'\n",
    "\n",
    "# create a zipfile\n",
    "with zipfile.ZipFile(file_path, 'w') as file:\n",
    "        # write mode overrides all the existing files in the 'Zip.'\n",
    "        # you have to create the file which you have to write to the 'Zip.'\n",
    "        file.write('data/sample-data.csv', \n",
    "                   basename('data/sample-data.csv'))"
   ]
  },
  {
   "cell_type": "code",
   "execution_count": 22,
   "metadata": {},
   "outputs": [
    {
     "name": "stdout",
     "output_type": "stream",
     "text": [
      "True\n"
     ]
    }
   ],
   "source": [
    "# seeing if a file is a zipfile\n",
    "print(zipfile.is_zipfile(file_path))"
   ]
  },
  {
   "cell_type": "code",
   "execution_count": 23,
   "metadata": {},
   "outputs": [
    {
     "name": "stdout",
     "output_type": "stream",
     "text": [
      "README.md             sample-data.geojson   sample-data.shx\r\n",
      "sample-buildings.zip  sample-data.gpkg      sample-data.xlsx\r\n",
      "sample-data.cpg       sample-data.json      \u001b[34munzipped-data\u001b[m\u001b[m/\r\n",
      "sample-data.csv       sample-data.prj\r\n",
      "sample-data.dbf       sample-data.shp\r\n"
     ]
    }
   ],
   "source": [
    "# list items in this file path\n",
    "%ls data/"
   ]
  },
  {
   "cell_type": "code",
   "execution_count": 24,
   "metadata": {},
   "outputs": [
    {
     "name": "stdout",
     "output_type": "stream",
     "text": [
      "['sample-data.csv']\n"
     ]
    }
   ],
   "source": [
    "# save items in our zipfile\n",
    "items = zipfile.ZipFile(file_path)\n",
    "\n",
    "# available files in the container\n",
    "print(items.namelist())"
   ]
  },
  {
   "cell_type": "code",
   "execution_count": null,
   "metadata": {},
   "outputs": [],
   "source": []
  }
 ],
 "metadata": {
  "kernelspec": {
   "display_name": "Python 3",
   "language": "python",
   "name": "python3"
  },
  "language_info": {
   "codemirror_mode": {
    "name": "ipython",
    "version": 3
   },
   "file_extension": ".py",
   "mimetype": "text/x-python",
   "name": "python",
   "nbconvert_exporter": "python",
   "pygments_lexer": "ipython3",
   "version": "3.7.1"
  }
 },
 "nbformat": 4,
 "nbformat_minor": 2
}
