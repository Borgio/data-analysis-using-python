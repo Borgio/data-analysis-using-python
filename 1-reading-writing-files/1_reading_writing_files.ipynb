{
 "cells": [
  {
   "cell_type": "markdown",
   "metadata": {},
   "source": [
    "# Data Analysis Using Python: A Beginner’s Guide Featuring NYC Open Data\n",
    "## Part 1: Reading and Writing Files in Python\n",
    "\n",
    "Mark Bauer"
   ]
  },
  {
   "cell_type": "markdown",
   "metadata": {},
   "source": [
    "Table of Contents\n",
    "=================\n",
    "\n",
    "   * [Getting Started](#-Getting-Started:-Accessing-the-Building-Footprints-Dataset)\n",
    "       * [1. Search NYC Open Data in Google](##1.-Search-NYC-Open-Data-in-Google)\n",
    "       * [2. Search \"Building Footprints\" in NYC Open Data search bar](##-2.-Search-\"Building-Footprints\"-in-NYC-Open-Data-search-bar)\n",
    "       * [3. Select \"Building Footprints\" Dataset](##3.-Select-\"Building-Footprints\"-Dataset)\n",
    "       * [4. The Building Footprints Dataset Page](##4.-The-Building-Footprints-Dataset-Page)\n",
    "       \n",
    "       \n",
    "   * [1. Reading In Data](##-1.-Reading-In-Data)\n",
    "       * [1.1 Reading in data as csv in static form](##-1.1-Reading-in-data-as-csv-in-static-form)\n",
    "       * [1.2 Reading in data as json in static form](##-1.2-Reading-in-data-as-json-in-static-form)\n",
    "       * [1.3 Reading in shapefile data](##-1.3-Reading-in-shapefile-data)\n",
    "       * [1.4 Unzipping and reading in data as csv in memory](##-1.4-Unzipping-and-reading-in-data-as-csv-in-memory)\n",
    "       * [1.5 Unzipping and reading in data as csv to local folder](##-1.4-Unzipping-and-reading-in-data-as-csv-to-local-folder)\n",
    "       * [1.6 Unzipping and reading in data as csv from local folder](##-1.4-Unzipping-and-reading-in-data-as-csv-from-local-folder)\n",
    "       * [1.7 Reading in data from Socrata Open Data API (SODA)](##-1.5-Reading-in-data-from-Socrata-Open-Data-API-%28SODA%29)\n",
    "       \n",
    "       \n",
    "   * [2. Writing Out Data](#-2.-Writing-Out-Data)\n",
    "       * [2.1 Writing to a CSV file](##-2.1-Writing-to-a-CSV-file)\n",
    "       * [2.2 Writing to a Excel (xlsx) file](##-2.2-Writing-to-a-Excel-%28xlsx%29-file)\n",
    "       * [2.3 Writing to a JSON file](##-2.3-Writing-to-a-JSON-file)\n",
    "       \n",
    "       \n",
    "   * [3. Reading In Data from Local Folder](#-3.-Reading-In-Data-from-Local-Folder)\n",
    "       * [3.1 Reading in a CSV file](##-3.1-Reading-in-a-CSV-file)\n",
    "       * [3.2 Reading in an Excel file](##-3.2-Reading-in-an-Excel-file)\n",
    "       * [3.3 Reading in a JSON file](##-3.3-Reading-in-a-JSON-file)\n",
    "       \n",
    "       \n",
    "   * [4. Conclusion](#-4.-Conclusion)"
   ]
  },
  {
   "cell_type": "markdown",
   "metadata": {},
   "source": [
    "**Goal:** In this notebook, we will review various ways to read (load) and write (save) data from NYC Open Data. Specifically, we will focus on reading our data into a pandas dataframe.\n",
    "\n",
    "**Main Library:** [pandas](https://pandas.pydata.org/) is a fast, powerful, flexible and easy to use open source data analysis and manipulation tool, built on top of the Python programming language."
   ]
  },
  {
   "cell_type": "code",
   "execution_count": 196,
   "metadata": {},
   "outputs": [],
   "source": [
    "# importing libraries\n",
    "import pandas as pd\n",
    "import numpy as np\n",
    "import geopandas as gpd\n",
    "from fiona.crs import from_epsg\n",
    "import matplotlib.pyplot as plt\n",
    "import os\n",
    "import urllib\n",
    "import json\n",
    "import requests\n",
    "from io import BytesIO\n",
    "from sodapy import Socrata\n",
    "import zipfile\n",
    "from zipfile import ZipFile\n",
    "from os.path import basename\n",
    "from openpyxl import Workbook"
   ]
  },
  {
   "cell_type": "markdown",
   "metadata": {},
   "source": [
    "Printing verions of Python modules and packages with **watermark** - the IPython magic extension."
   ]
  },
  {
   "cell_type": "code",
   "execution_count": 197,
   "metadata": {},
   "outputs": [
    {
     "name": "stdout",
     "output_type": "stream",
     "text": [
      "The watermark extension is already loaded. To reload it, use:\n",
      "  %reload_ext watermark\n"
     ]
    }
   ],
   "source": [
    "%load_ext watermark"
   ]
  },
  {
   "cell_type": "code",
   "execution_count": 198,
   "metadata": {},
   "outputs": [
    {
     "name": "stdout",
     "output_type": "stream",
     "text": [
      "CPython 3.7.1\n",
      "IPython 7.20.0\n",
      "\n",
      "numpy 1.19.2\n",
      "pandas 1.2.1\n",
      "geopandas 0.8.1\n",
      "matplotlib.pyplot 3.3.2\n",
      "json 2.0.9\n",
      "requests 2.25.1\n",
      "sodapy 2.0.0\n"
     ]
    }
   ],
   "source": [
    "%watermark -v -p numpy,pandas,geopandas,matplotlib.pyplot,json,requests,sodapy"
   ]
  },
  {
   "cell_type": "markdown",
   "metadata": {},
   "source": [
    "Documention for installing watermark: https://github.com/rasbt/watermark"
   ]
  },
  {
   "cell_type": "markdown",
   "metadata": {},
   "source": [
    "# Getting Started: Accessing the Building Footprints Dataset"
   ]
  },
  {
   "cell_type": "markdown",
   "metadata": {},
   "source": [
    "## 1. Search NYC Open Data in Google"
   ]
  },
  {
   "cell_type": "markdown",
   "metadata": {},
   "source": [
    "![building_footprints](images/1.nyc-open-data-google.png)"
   ]
  },
  {
   "cell_type": "markdown",
   "metadata": {},
   "source": [
    "## 2. Search \"Building Footprints\" in NYC Open Data search bar"
   ]
  },
  {
   "cell_type": "markdown",
   "metadata": {},
   "source": [
    "![building_footprints](images/2.building-footprints-opendata-search.png)"
   ]
  },
  {
   "cell_type": "markdown",
   "metadata": {},
   "source": [
    "## 3. Select \"Building Footprints\" Dataset"
   ]
  },
  {
   "cell_type": "markdown",
   "metadata": {},
   "source": [
    "![building_footprints](images/3.building-footprints-dataset-link.png)"
   ]
  },
  {
   "cell_type": "markdown",
   "metadata": {},
   "source": [
    "## 4. The Building Footprints Dataset Page"
   ]
  },
  {
   "cell_type": "markdown",
   "metadata": {},
   "source": [
    "![building_footprints](images/4.data-homepage.png)"
   ]
  },
  {
   "cell_type": "markdown",
   "metadata": {},
   "source": [
    "Dataset Link: \n",
    "https://data.cityofnewyork.us/Housing-Development/Building-Footprints/nqwf-w8eh\n",
    "\n",
    "Documentation/Metadata: \n",
    "https://github.com/CityOfNewYork/nyc-geo-metadata/blob/master/Metadata/Metadata_BuildingFootprints.md"
   ]
  },
  {
   "cell_type": "markdown",
   "metadata": {},
   "source": [
    "**Building Footprints Dataset Identification**\n",
    "\n",
    "> **Here are a few things to note about the data:**\n",
    ">\n",
    "> - **Purpose:** This feature class is used by the NYC DOITT GIS group to maintain and distribute an accurate 'basemap' for NYC. The basemap provides the foundation upon virtually all other geospatial data with New York.\n",
    "> - **Description:** Building footprints represent the full perimeter outline of each building as viewed from directly above. Additional attribute information maintained for each feature includes: Building Identification Number (BIN); Borough, Block, and Lot information(BBL); ground elevation at building base; roof height above ground elevation; construction year, and feature type.\n",
    "> - **Source(s):** Annually captured aerial imagery, NYC Research of DOB records, or other image resources.\n",
    "> - **Publication Dates:** **Data**: 05/03/16<br>\n",
    "> - **Last Update:** Weekly<br>\n",
    "> - **Metadata:** 12/22/2016<br>\n",
    "> - **Update Frequency:** Features are updated daily by DoITT staff and a public release is available weekly on NYC Open Data. Every four years a citywide review is made of the building footprints and features are updated photogrammetrically.\n",
    "> - **Available Formats:** File Geodatabase Feature Class as part of the Planimetrics geodatabase and individual shapefile on the [NYC Open Data Portal](https://data.cityofnewyork.us/Housing-Development/Building-Footprints/nqwf-w8eh)\n",
    "> - **Use Limitations:** Open Data policies and restrictions apply. See [Terms of Use](http://www.nyc.gov/html/data/terms.html)\n",
    "> - **Access Rights:** Public\n",
    "> - **Links:** https://data.cityofnewyork.us/Housing-Development/Building-Footprints/nqwf-w8eh\n",
    "> - **Tags:** Buildings, Building footprint, BIN, Structure\n",
    "\n",
    "**Source:** \n",
    "https://github.com/CityOfNewYork/nyc-geo-metadata/blob/master/Metadata/Metadata_BuildingFootprints.md"
   ]
  },
  {
   "cell_type": "markdown",
   "metadata": {},
   "source": [
    "# 1. Reading In Data"
   ]
  },
  {
   "cell_type": "markdown",
   "metadata": {},
   "source": [
    "## 1.1 Reading in data as csv in static form"
   ]
  },
  {
   "cell_type": "markdown",
   "metadata": {},
   "source": [
    "![building_footprints_csv](images/building-footprints-csv.png)"
   ]
  },
  {
   "cell_type": "markdown",
   "metadata": {},
   "source": [
    "# NOTE: \n",
    "The buildings footprints `dataset identifier` changes weekly, and so does the data api path. Click on the API Docs page and verify the correct dataset identifier. If you're not working with the correct id, you will receive a `HTTP Error`. Screenshots below:"
   ]
  },
  {
   "cell_type": "markdown",
   "metadata": {},
   "source": [
    "**Click on API Docs**\n",
    "![building_footprints_csv](images/api_docs.png)\n",
    "\n",
    "**Grab the updated dataset identifier**\n",
    "![building_footprints_csv](images/api_docs_dataset_id.png)"
   ]
  },
  {
   "cell_type": "markdown",
   "metadata": {},
   "source": [
    "The `dataset identifier` is inserted into the api path below:  \n",
    "url = https://data.cityofnewyork.us/api/views/DATASET_IDENTIFIER/rows.csv?accessType=DOWNLOAD"
   ]
  },
  {
   "cell_type": "code",
   "execution_count": 199,
   "metadata": {},
   "outputs": [],
   "source": [
    "# reading in data as a url from NYC Open Data\n",
    "url = 'https://data.cityofnewyork.us/api/views/uic8-njst/rows.csv?accessType=DOWNLOAD'\n",
    "\n",
    "# saving data as a pandas dataframe named 'building_footprints_csv'\n",
    "building_footprints_csv = pd.read_csv(url)"
   ]
  },
  {
   "cell_type": "code",
   "execution_count": 200,
   "metadata": {},
   "outputs": [
    {
     "data": {
      "text/html": [
       "<div>\n",
       "<style scoped>\n",
       "    .dataframe tbody tr th:only-of-type {\n",
       "        vertical-align: middle;\n",
       "    }\n",
       "\n",
       "    .dataframe tbody tr th {\n",
       "        vertical-align: top;\n",
       "    }\n",
       "\n",
       "    .dataframe thead th {\n",
       "        text-align: right;\n",
       "    }\n",
       "</style>\n",
       "<table border=\"1\" class=\"dataframe\">\n",
       "  <thead>\n",
       "    <tr style=\"text-align: right;\">\n",
       "      <th></th>\n",
       "      <th>NAME</th>\n",
       "      <th>CNSTRCT_YR</th>\n",
       "      <th>BIN</th>\n",
       "      <th>the_geom</th>\n",
       "      <th>LSTMODDATE</th>\n",
       "      <th>LSTSTATYPE</th>\n",
       "      <th>DOITT_ID</th>\n",
       "      <th>HEIGHTROOF</th>\n",
       "      <th>FEAT_CODE</th>\n",
       "      <th>GROUNDELEV</th>\n",
       "      <th>SHAPE_AREA</th>\n",
       "      <th>SHAPE_LEN</th>\n",
       "      <th>BASE_BBL</th>\n",
       "      <th>MPLUTO_BBL</th>\n",
       "      <th>GEOMSOURCE</th>\n",
       "    </tr>\n",
       "  </thead>\n",
       "  <tbody>\n",
       "    <tr>\n",
       "      <th>0</th>\n",
       "      <td>NaN</td>\n",
       "      <td>2009.00</td>\n",
       "      <td>3394646</td>\n",
       "      <td>MULTIPOLYGON (((-73.87129515296562 40.65717370...</td>\n",
       "      <td>08/22/2017 12:00:00 AM +0000</td>\n",
       "      <td>Constructed</td>\n",
       "      <td>1212853</td>\n",
       "      <td>21.61</td>\n",
       "      <td>2100.00</td>\n",
       "      <td>18.00</td>\n",
       "      <td>854.66</td>\n",
       "      <td>125.08</td>\n",
       "      <td>3044520815.00</td>\n",
       "      <td>3044520815.00</td>\n",
       "      <td>Photogramm</td>\n",
       "    </tr>\n",
       "    <tr>\n",
       "      <th>1</th>\n",
       "      <td>NaN</td>\n",
       "      <td>1930.00</td>\n",
       "      <td>4548330</td>\n",
       "      <td>MULTIPOLYGON (((-73.87670970144625 40.71425234...</td>\n",
       "      <td>08/17/2017 12:00:00 AM +0000</td>\n",
       "      <td>Constructed</td>\n",
       "      <td>1226227</td>\n",
       "      <td>10.36</td>\n",
       "      <td>5110.00</td>\n",
       "      <td>122.00</td>\n",
       "      <td>217.59</td>\n",
       "      <td>60.23</td>\n",
       "      <td>4030640041.00</td>\n",
       "      <td>4030640041.00</td>\n",
       "      <td>Photogramm</td>\n",
       "    </tr>\n",
       "    <tr>\n",
       "      <th>2</th>\n",
       "      <td>NaN</td>\n",
       "      <td>1960.00</td>\n",
       "      <td>4460479</td>\n",
       "      <td>MULTIPOLYGON (((-73.85195485799383 40.66235471...</td>\n",
       "      <td>08/22/2017 12:00:00 AM +0000</td>\n",
       "      <td>Constructed</td>\n",
       "      <td>581946</td>\n",
       "      <td>29.81</td>\n",
       "      <td>2100.00</td>\n",
       "      <td>10.00</td>\n",
       "      <td>946.43</td>\n",
       "      <td>123.14</td>\n",
       "      <td>4139430001.00</td>\n",
       "      <td>4139430001.00</td>\n",
       "      <td>Photogramm</td>\n",
       "    </tr>\n",
       "    <tr>\n",
       "      <th>3</th>\n",
       "      <td>NaN</td>\n",
       "      <td>1920.00</td>\n",
       "      <td>3355684</td>\n",
       "      <td>MULTIPOLYGON (((-73.94029215265738 40.64108287...</td>\n",
       "      <td>08/17/2017 12:00:00 AM +0000</td>\n",
       "      <td>Constructed</td>\n",
       "      <td>858061</td>\n",
       "      <td>11.20</td>\n",
       "      <td>5110.00</td>\n",
       "      <td>32.00</td>\n",
       "      <td>248.68</td>\n",
       "      <td>63.94</td>\n",
       "      <td>3049720006.00</td>\n",
       "      <td>3049720006.00</td>\n",
       "      <td>Photogramm</td>\n",
       "    </tr>\n",
       "    <tr>\n",
       "      <th>4</th>\n",
       "      <td>NaN</td>\n",
       "      <td>1915.00</td>\n",
       "      <td>3131737</td>\n",
       "      <td>MULTIPOLYGON (((-73.98998983552244 40.62383804...</td>\n",
       "      <td>08/22/2017 12:00:00 AM +0000</td>\n",
       "      <td>Constructed</td>\n",
       "      <td>568078</td>\n",
       "      <td>24.98</td>\n",
       "      <td>2100.00</td>\n",
       "      <td>44.00</td>\n",
       "      <td>1163.23</td>\n",
       "      <td>165.61</td>\n",
       "      <td>3055100055.00</td>\n",
       "      <td>3055100055.00</td>\n",
       "      <td>Photogramm</td>\n",
       "    </tr>\n",
       "  </tbody>\n",
       "</table>\n",
       "</div>"
      ],
      "text/plain": [
       "  NAME  CNSTRCT_YR      BIN  \\\n",
       "0  NaN     2009.00  3394646   \n",
       "1  NaN     1930.00  4548330   \n",
       "2  NaN     1960.00  4460479   \n",
       "3  NaN     1920.00  3355684   \n",
       "4  NaN     1915.00  3131737   \n",
       "\n",
       "                                            the_geom  \\\n",
       "0  MULTIPOLYGON (((-73.87129515296562 40.65717370...   \n",
       "1  MULTIPOLYGON (((-73.87670970144625 40.71425234...   \n",
       "2  MULTIPOLYGON (((-73.85195485799383 40.66235471...   \n",
       "3  MULTIPOLYGON (((-73.94029215265738 40.64108287...   \n",
       "4  MULTIPOLYGON (((-73.98998983552244 40.62383804...   \n",
       "\n",
       "                     LSTMODDATE   LSTSTATYPE  DOITT_ID  HEIGHTROOF  FEAT_CODE  \\\n",
       "0  08/22/2017 12:00:00 AM +0000  Constructed   1212853       21.61    2100.00   \n",
       "1  08/17/2017 12:00:00 AM +0000  Constructed   1226227       10.36    5110.00   \n",
       "2  08/22/2017 12:00:00 AM +0000  Constructed    581946       29.81    2100.00   \n",
       "3  08/17/2017 12:00:00 AM +0000  Constructed    858061       11.20    5110.00   \n",
       "4  08/22/2017 12:00:00 AM +0000  Constructed    568078       24.98    2100.00   \n",
       "\n",
       "   GROUNDELEV  SHAPE_AREA  SHAPE_LEN      BASE_BBL    MPLUTO_BBL  GEOMSOURCE  \n",
       "0       18.00      854.66     125.08 3044520815.00 3044520815.00  Photogramm  \n",
       "1      122.00      217.59      60.23 4030640041.00 4030640041.00  Photogramm  \n",
       "2       10.00      946.43     123.14 4139430001.00 4139430001.00  Photogramm  \n",
       "3       32.00      248.68      63.94 3049720006.00 3049720006.00  Photogramm  \n",
       "4       44.00     1163.23     165.61 3055100055.00 3055100055.00  Photogramm  "
      ]
     },
     "execution_count": 200,
     "metadata": {},
     "output_type": "execute_result"
    }
   ],
   "source": [
    "# previewing the first five rows \n",
    "building_footprints_csv.head()"
   ]
  },
  {
   "cell_type": "code",
   "execution_count": 201,
   "metadata": {},
   "outputs": [
    {
     "data": {
      "text/plain": [
       "(1084824, 15)"
      ]
     },
     "execution_count": 201,
     "metadata": {},
     "output_type": "execute_result"
    }
   ],
   "source": [
    "# printing the dimentions (i.e. rows, columns) of the data\n",
    "building_footprints_csv.shape"
   ]
  },
  {
   "cell_type": "code",
   "execution_count": 202,
   "metadata": {},
   "outputs": [
    {
     "name": "stdout",
     "output_type": "stream",
     "text": [
      "This dataset has 1,084,824 rows and 15 columns.\n"
     ]
    }
   ],
   "source": [
    "rows = f'{building_footprints_csv.shape[0]:,}'\n",
    "columns = building_footprints_csv.shape[1]\n",
    "\n",
    "print('This dataset has {} rows and {} columns.'.format(rows, columns))"
   ]
  },
  {
   "cell_type": "markdown",
   "metadata": {},
   "source": [
    "**Sanity check**\n",
    "\n",
    "We use pandas `.head()` method to preview the first five rows of the dataframe.\n",
    "\n",
    "We use pandas `.shape` method to print the dimensions of the dataframe (i.e. number of rows, number of columns).\n",
    "\n",
    "We will use these two methods throughout the examples."
   ]
  },
  {
   "cell_type": "markdown",
   "metadata": {},
   "source": [
    "## 1.2 Reading in data as json in static form"
   ]
  },
  {
   "cell_type": "markdown",
   "metadata": {},
   "source": [
    "![building_footprints_csv](images/building-footprints-json.png)"
   ]
  },
  {
   "cell_type": "code",
   "execution_count": 203,
   "metadata": {},
   "outputs": [],
   "source": [
    "url = 'https://data.cityofnewyork.us/api/views/uic8-njst/rows.json?accessType=DOWNLOAD'\n",
    "\n",
    "# loads a json object as a python object\n",
    "with urllib.request.urlopen(url) as url:\n",
    "    data = json.loads(url.read().decode())"
   ]
  },
  {
   "cell_type": "code",
   "execution_count": 204,
   "metadata": {},
   "outputs": [
    {
     "data": {
      "text/plain": [
       "dict_keys(['meta', 'data'])"
      ]
     },
     "execution_count": 204,
     "metadata": {},
     "output_type": "execute_result"
    }
   ],
   "source": [
    "data.keys()"
   ]
  },
  {
   "cell_type": "code",
   "execution_count": 205,
   "metadata": {},
   "outputs": [
    {
     "data": {
      "text/plain": [
       "1084824"
      ]
     },
     "execution_count": 205,
     "metadata": {},
     "output_type": "execute_result"
    }
   ],
   "source": [
    "len(data['data'])"
   ]
  },
  {
   "cell_type": "code",
   "execution_count": 206,
   "metadata": {},
   "outputs": [
    {
     "data": {
      "text/plain": [
       "['row-cs6h.qik8.dv3m',\n",
       " '00000000-0000-0000-8A9B-77885D496B59',\n",
       " 0,\n",
       " 1613504955,\n",
       " None,\n",
       " 1613504955,\n",
       " None,\n",
       " '{ }',\n",
       " None,\n",
       " '2009',\n",
       " '3394646',\n",
       " 'MULTIPOLYGON (((-73.87129515296562 40.65717370043455, -73.87135858020156 40.65714663518705, -73.87143322008981 40.6572480836196, -73.87136979278591 40.6572751498085, -73.87129515296562 40.65717370043455)))',\n",
       " 1503360000,\n",
       " 'Constructed',\n",
       " '1212853',\n",
       " '21.60850812',\n",
       " '2100',\n",
       " '18',\n",
       " '854.66243317866',\n",
       " '125.0797955584',\n",
       " '3044520815',\n",
       " '3044520815',\n",
       " 'Photogramm']"
      ]
     },
     "execution_count": 206,
     "metadata": {},
     "output_type": "execute_result"
    }
   ],
   "source": [
    "# previewing the first row in our data section of our python object\n",
    "data['data'][0]"
   ]
  },
  {
   "cell_type": "code",
   "execution_count": 207,
   "metadata": {
    "scrolled": false
   },
   "outputs": [
    {
     "data": {
      "text/plain": [
       "dict_keys(['view'])"
      ]
     },
     "execution_count": 207,
     "metadata": {},
     "output_type": "execute_result"
    }
   ],
   "source": [
    "data['meta'].keys()"
   ]
  },
  {
   "cell_type": "code",
   "execution_count": 208,
   "metadata": {},
   "outputs": [
    {
     "name": "stdout",
     "output_type": "stream",
     "text": [
      "id\n",
      "name\n",
      "assetType\n",
      "averageRating\n",
      "createdAt\n",
      "displayType\n",
      "downloadCount\n",
      "hideFromCatalog\n",
      "hideFromDataJson\n",
      "newBackend\n",
      "numberOfComments\n",
      "oid\n",
      "provenance\n",
      "publicationAppendEnabled\n",
      "publicationDate\n",
      "publicationGroup\n",
      "publicationStage\n",
      "rowsUpdatedAt\n",
      "rowsUpdatedBy\n",
      "tableId\n",
      "totalTimesRated\n",
      "viewCount\n",
      "viewLastModified\n",
      "viewType\n",
      "approvals\n",
      "columns\n",
      "grants\n",
      "owner\n",
      "query\n",
      "rights\n",
      "tableAuthor\n",
      "flags\n"
     ]
    }
   ],
   "source": [
    "keys = data['meta']['view'].keys()\n",
    "\n",
    "for key in keys:\n",
    "    print(key)"
   ]
  },
  {
   "cell_type": "code",
   "execution_count": 209,
   "metadata": {},
   "outputs": [
    {
     "data": {
      "text/plain": [
       "[{'id': -1,\n",
       "  'name': 'sid',\n",
       "  'dataTypeName': 'meta_data',\n",
       "  'fieldName': ':sid',\n",
       "  'position': 0,\n",
       "  'renderTypeName': 'meta_data',\n",
       "  'format': {},\n",
       "  'flags': ['hidden']},\n",
       " {'id': -1,\n",
       "  'name': 'id',\n",
       "  'dataTypeName': 'meta_data',\n",
       "  'fieldName': ':id',\n",
       "  'position': 0,\n",
       "  'renderTypeName': 'meta_data',\n",
       "  'format': {},\n",
       "  'flags': ['hidden']},\n",
       " {'id': -1,\n",
       "  'name': 'position',\n",
       "  'dataTypeName': 'meta_data',\n",
       "  'fieldName': ':position',\n",
       "  'position': 0,\n",
       "  'renderTypeName': 'meta_data',\n",
       "  'format': {},\n",
       "  'flags': ['hidden']},\n",
       " {'id': -1,\n",
       "  'name': 'created_at',\n",
       "  'dataTypeName': 'meta_data',\n",
       "  'fieldName': ':created_at',\n",
       "  'position': 0,\n",
       "  'renderTypeName': 'meta_data',\n",
       "  'format': {},\n",
       "  'flags': ['hidden']},\n",
       " {'id': -1,\n",
       "  'name': 'created_meta',\n",
       "  'dataTypeName': 'meta_data',\n",
       "  'fieldName': ':created_meta',\n",
       "  'position': 0,\n",
       "  'renderTypeName': 'meta_data',\n",
       "  'format': {},\n",
       "  'flags': ['hidden']}]"
      ]
     },
     "execution_count": 209,
     "metadata": {},
     "output_type": "execute_result"
    }
   ],
   "source": [
    "# locating our columns (i.e. field names) and saving as a new variable called 'lst'\n",
    "cols = data['meta']['view']['columns']\n",
    "\n",
    "# previewing first five\n",
    "cols[:5]"
   ]
  },
  {
   "cell_type": "code",
   "execution_count": 210,
   "metadata": {},
   "outputs": [
    {
     "name": "stdout",
     "output_type": "stream",
     "text": [
      ":sid\n",
      ":id\n",
      ":position\n",
      ":created_at\n",
      ":created_meta\n",
      ":updated_at\n",
      ":updated_meta\n",
      ":meta\n",
      "name\n",
      "cnstrct_yr\n",
      "bin\n",
      "the_geom\n",
      "lstmoddate\n",
      "lststatype\n",
      "doitt_id\n",
      "heightroof\n",
      "feat_code\n",
      "groundelev\n",
      "shape_area\n",
      "shape_len\n",
      "base_bbl\n",
      "mpluto_bbl\n",
      "geomsource\n"
     ]
    }
   ],
   "source": [
    "for item in cols:\n",
    "    print(item['fieldName'])"
   ]
  },
  {
   "cell_type": "code",
   "execution_count": 211,
   "metadata": {},
   "outputs": [
    {
     "name": "stdout",
     "output_type": "stream",
     "text": [
      ":sid\n",
      ":id\n",
      ":position\n",
      ":created_at\n",
      ":created_meta\n",
      ":updated_at\n",
      ":updated_meta\n",
      ":meta\n",
      "name\n",
      "cnstrct_yr\n",
      "bin\n",
      "the_geom\n",
      "lstmoddate\n",
      "lststatype\n",
      "doitt_id\n",
      "heightroof\n",
      "feat_code\n",
      "groundelev\n",
      "shape_area\n",
      "shape_len\n",
      "base_bbl\n",
      "mpluto_bbl\n",
      "geomsource\n"
     ]
    }
   ],
   "source": [
    "# saving our field names as a variable\n",
    "fieldName = {x['fieldName']: x for x in lst}\n",
    "\n",
    "# printing the field names in our data\n",
    "for key in fieldName.keys():\n",
    "    print(key)"
   ]
  },
  {
   "cell_type": "code",
   "execution_count": 212,
   "metadata": {},
   "outputs": [],
   "source": [
    "# saving our field names in a list\n",
    "columns = [*fieldName]\n",
    "building_footprints_json = pd.DataFrame(data['data'], columns=columns)\n",
    "\n",
    "# identifying columns not required for analysis\n",
    "drop_columns = [':sid', ':id', ':position', ':created_at', ':created_meta', ':updated_at', \n",
    "                ':updated_meta', ':meta']\n",
    "\n",
    "# dropping columns not required for analysis\n",
    "building_footprints_json.drop(drop_columns, axis=1, inplace=True)"
   ]
  },
  {
   "cell_type": "code",
   "execution_count": 213,
   "metadata": {},
   "outputs": [
    {
     "data": {
      "text/html": [
       "<div>\n",
       "<style scoped>\n",
       "    .dataframe tbody tr th:only-of-type {\n",
       "        vertical-align: middle;\n",
       "    }\n",
       "\n",
       "    .dataframe tbody tr th {\n",
       "        vertical-align: top;\n",
       "    }\n",
       "\n",
       "    .dataframe thead th {\n",
       "        text-align: right;\n",
       "    }\n",
       "</style>\n",
       "<table border=\"1\" class=\"dataframe\">\n",
       "  <thead>\n",
       "    <tr style=\"text-align: right;\">\n",
       "      <th></th>\n",
       "      <th>name</th>\n",
       "      <th>cnstrct_yr</th>\n",
       "      <th>bin</th>\n",
       "      <th>the_geom</th>\n",
       "      <th>lstmoddate</th>\n",
       "      <th>lststatype</th>\n",
       "      <th>doitt_id</th>\n",
       "      <th>heightroof</th>\n",
       "      <th>feat_code</th>\n",
       "      <th>groundelev</th>\n",
       "      <th>shape_area</th>\n",
       "      <th>shape_len</th>\n",
       "      <th>base_bbl</th>\n",
       "      <th>mpluto_bbl</th>\n",
       "      <th>geomsource</th>\n",
       "    </tr>\n",
       "  </thead>\n",
       "  <tbody>\n",
       "    <tr>\n",
       "      <th>0</th>\n",
       "      <td>None</td>\n",
       "      <td>2009</td>\n",
       "      <td>3394646</td>\n",
       "      <td>MULTIPOLYGON (((-73.87129515296562 40.65717370...</td>\n",
       "      <td>1503360000</td>\n",
       "      <td>Constructed</td>\n",
       "      <td>1212853</td>\n",
       "      <td>21.60850812</td>\n",
       "      <td>2100</td>\n",
       "      <td>18</td>\n",
       "      <td>854.66243317866</td>\n",
       "      <td>125.0797955584</td>\n",
       "      <td>3044520815</td>\n",
       "      <td>3044520815</td>\n",
       "      <td>Photogramm</td>\n",
       "    </tr>\n",
       "    <tr>\n",
       "      <th>1</th>\n",
       "      <td>None</td>\n",
       "      <td>1930</td>\n",
       "      <td>4548330</td>\n",
       "      <td>MULTIPOLYGON (((-73.87670970144625 40.71425234...</td>\n",
       "      <td>1502928000</td>\n",
       "      <td>Constructed</td>\n",
       "      <td>1226227</td>\n",
       "      <td>10.36</td>\n",
       "      <td>5110</td>\n",
       "      <td>122</td>\n",
       "      <td>217.59424346169</td>\n",
       "      <td>60.22585821856</td>\n",
       "      <td>4030640041</td>\n",
       "      <td>4030640041</td>\n",
       "      <td>Photogramm</td>\n",
       "    </tr>\n",
       "    <tr>\n",
       "      <th>2</th>\n",
       "      <td>None</td>\n",
       "      <td>1960</td>\n",
       "      <td>4460479</td>\n",
       "      <td>MULTIPOLYGON (((-73.85195485799383 40.66235471...</td>\n",
       "      <td>1503360000</td>\n",
       "      <td>Constructed</td>\n",
       "      <td>581946</td>\n",
       "      <td>29.81157033</td>\n",
       "      <td>2100</td>\n",
       "      <td>10</td>\n",
       "      <td>946.42747637737</td>\n",
       "      <td>123.14194057237</td>\n",
       "      <td>4139430001</td>\n",
       "      <td>4139430001</td>\n",
       "      <td>Photogramm</td>\n",
       "    </tr>\n",
       "    <tr>\n",
       "      <th>3</th>\n",
       "      <td>None</td>\n",
       "      <td>1920</td>\n",
       "      <td>3355684</td>\n",
       "      <td>MULTIPOLYGON (((-73.94029215265738 40.64108287...</td>\n",
       "      <td>1502928000</td>\n",
       "      <td>Constructed</td>\n",
       "      <td>858061</td>\n",
       "      <td>11.2</td>\n",
       "      <td>5110</td>\n",
       "      <td>32</td>\n",
       "      <td>248.67816852809</td>\n",
       "      <td>63.94081721089</td>\n",
       "      <td>3049720006</td>\n",
       "      <td>3049720006</td>\n",
       "      <td>Photogramm</td>\n",
       "    </tr>\n",
       "    <tr>\n",
       "      <th>4</th>\n",
       "      <td>None</td>\n",
       "      <td>1915</td>\n",
       "      <td>3131737</td>\n",
       "      <td>MULTIPOLYGON (((-73.98998983552244 40.62383804...</td>\n",
       "      <td>1503360000</td>\n",
       "      <td>Constructed</td>\n",
       "      <td>568078</td>\n",
       "      <td>24.98</td>\n",
       "      <td>2100</td>\n",
       "      <td>44</td>\n",
       "      <td>1163.227668698</td>\n",
       "      <td>165.60876340496</td>\n",
       "      <td>3055100055</td>\n",
       "      <td>3055100055</td>\n",
       "      <td>Photogramm</td>\n",
       "    </tr>\n",
       "  </tbody>\n",
       "</table>\n",
       "</div>"
      ],
      "text/plain": [
       "   name cnstrct_yr      bin  \\\n",
       "0  None       2009  3394646   \n",
       "1  None       1930  4548330   \n",
       "2  None       1960  4460479   \n",
       "3  None       1920  3355684   \n",
       "4  None       1915  3131737   \n",
       "\n",
       "                                            the_geom  lstmoddate   lststatype  \\\n",
       "0  MULTIPOLYGON (((-73.87129515296562 40.65717370...  1503360000  Constructed   \n",
       "1  MULTIPOLYGON (((-73.87670970144625 40.71425234...  1502928000  Constructed   \n",
       "2  MULTIPOLYGON (((-73.85195485799383 40.66235471...  1503360000  Constructed   \n",
       "3  MULTIPOLYGON (((-73.94029215265738 40.64108287...  1502928000  Constructed   \n",
       "4  MULTIPOLYGON (((-73.98998983552244 40.62383804...  1503360000  Constructed   \n",
       "\n",
       "  doitt_id   heightroof feat_code groundelev       shape_area  \\\n",
       "0  1212853  21.60850812      2100         18  854.66243317866   \n",
       "1  1226227        10.36      5110        122  217.59424346169   \n",
       "2   581946  29.81157033      2100         10  946.42747637737   \n",
       "3   858061         11.2      5110         32  248.67816852809   \n",
       "4   568078        24.98      2100         44   1163.227668698   \n",
       "\n",
       "         shape_len    base_bbl  mpluto_bbl  geomsource  \n",
       "0   125.0797955584  3044520815  3044520815  Photogramm  \n",
       "1   60.22585821856  4030640041  4030640041  Photogramm  \n",
       "2  123.14194057237  4139430001  4139430001  Photogramm  \n",
       "3   63.94081721089  3049720006  3049720006  Photogramm  \n",
       "4  165.60876340496  3055100055  3055100055  Photogramm  "
      ]
     },
     "execution_count": 213,
     "metadata": {},
     "output_type": "execute_result"
    }
   ],
   "source": [
    "# previewing the first five rows\n",
    "building_footprints_json.head()"
   ]
  },
  {
   "cell_type": "code",
   "execution_count": 214,
   "metadata": {},
   "outputs": [
    {
     "data": {
      "text/plain": [
       "(1084824, 15)"
      ]
     },
     "execution_count": 214,
     "metadata": {},
     "output_type": "execute_result"
    }
   ],
   "source": [
    "# printing dimensions of data\n",
    "building_footprints_json.shape"
   ]
  },
  {
   "cell_type": "markdown",
   "metadata": {},
   "source": [
    "## 1.3 Reading in shapefile data"
   ]
  },
  {
   "cell_type": "markdown",
   "metadata": {},
   "source": [
    "![building_footprints_csv](images/building-footprints-shp.png)"
   ]
  },
  {
   "cell_type": "code",
   "execution_count": null,
   "metadata": {},
   "outputs": [],
   "source": [
    "url = 'https://data.cityofnewyork.us/api/geospatial/nqwf-w8eh?method=export&format=Shapefile'\n",
    "\n",
    "# reading in data as a geodataframe\n",
    "building_footprints_shp = gpd.read_file(url)\n",
    "\n",
    "# printing the firt five rows\n",
    "building_footprints_shp.head()"
   ]
  },
  {
   "cell_type": "code",
   "execution_count": null,
   "metadata": {},
   "outputs": [],
   "source": [
    "# printing dimensions of data\n",
    "building_footprints_shp.shape"
   ]
  },
  {
   "cell_type": "markdown",
   "metadata": {},
   "source": [
    "Another popular dataset is NYC's PLUTO dataset. We will use this one because it comes in a zip file.\n",
    "\n",
    "Description: Extensive land use and geographic data at the tax lot level in comma–separated values (CSV) file format. The PLUTO files contain more than seventy fields derived from data maintained by city agencies.\n",
    "\n",
    "Dataset Link: https://www1.nyc.gov/site/planning/data-maps/open-data/dwn-pluto-mappluto.page\n",
    "\n",
    "Data Dictionary: https://www1.nyc.gov/assets/planning/download/pdf/data-maps/open-data/pluto_datadictionary.pdf?v=20v1"
   ]
  },
  {
   "cell_type": "markdown",
   "metadata": {},
   "source": [
    "![building_footprints_csv](images/pluto-csv.png)"
   ]
  },
  {
   "cell_type": "markdown",
   "metadata": {},
   "source": [
    "## 1.4 Unzipping and reading in data as a csv in memory"
   ]
  },
  {
   "cell_type": "code",
   "execution_count": null,
   "metadata": {},
   "outputs": [],
   "source": [
    "url = 'https://www1.nyc.gov/assets/planning/download/zip/data-maps/open-data/nyc_pluto_20v1_csv.zip'\n",
    "\n",
    "# reading in our zipfile data in-memory\n",
    "content = requests.get(url)\n",
    "zf = ZipFile(BytesIO(content.content))\n",
    "\n",
    "# printing files in our zipfile\n",
    "for item in zf.namelist():\n",
    "    print(\"File in zip: \"+ item)"
   ]
  },
  {
   "cell_type": "code",
   "execution_count": null,
   "metadata": {},
   "outputs": [],
   "source": [
    "# read our csv data into a dataframe from our zipfile\n",
    "pluto_data = pd.read_csv(zf.open('pluto_20v1.csv'))\n",
    "\n",
    "# previewing the first five rows of data\n",
    "pluto_data.head()"
   ]
  },
  {
   "cell_type": "code",
   "execution_count": null,
   "metadata": {},
   "outputs": [],
   "source": [
    "# printing dimensions of our data\n",
    "pluto_data.shape"
   ]
  },
  {
   "cell_type": "markdown",
   "metadata": {},
   "source": [
    "## 1.5 Unzipping and reading in data as csv to local folder\n",
    "\n",
    "We will retrieve, unzip and read in data in our downloads folder."
   ]
  },
  {
   "cell_type": "code",
   "execution_count": null,
   "metadata": {},
   "outputs": [],
   "source": [
    "url = 'https://www1.nyc.gov/assets/planning/download/zip/data-maps/open-data/nyc_pluto_20v1_csv.zip'\n",
    "\n",
    "# a path to our downloads folder \n",
    "downloads_path = '../../Downloads/'\n",
    "\n",
    "# a path to our file from our downloads path\n",
    "fullfilename = os.path.join(downloads_path, 'PLUTO.gz')\n",
    "\n",
    "# retrieving data \n",
    "urllib.request.urlretrieve(url, fullfilename)"
   ]
  },
  {
   "cell_type": "code",
   "execution_count": null,
   "metadata": {},
   "outputs": [],
   "source": [
    "# a path to our file from our downloads folder\n",
    "file_path = '../../Downloads/PLUTO.gz'\n",
    "\n",
    "# open zipfile and saving items in our zipfolder\n",
    "items = zipfile.ZipFile(file_path)\n",
    "\n",
    "# available files in the container\n",
    "print(items.namelist())"
   ]
  },
  {
   "cell_type": "code",
   "execution_count": null,
   "metadata": {},
   "outputs": [],
   "source": [
    "# opening zipfile using 'with' keyword in read mode\n",
    "with zipfile.ZipFile(file_path, 'r') as file:\n",
    "    file.extractall(downloads_path)"
   ]
  },
  {
   "cell_type": "code",
   "execution_count": null,
   "metadata": {},
   "outputs": [],
   "source": [
    "# read our data into a dataframe from our downloads path\n",
    "pluto_data = pd.read_csv(downloads_path + 'pluto_20v1.csv')"
   ]
  },
  {
   "cell_type": "code",
   "execution_count": null,
   "metadata": {},
   "outputs": [],
   "source": [
    "# previewing the first five rows in data\n",
    "pluto_data.head()"
   ]
  },
  {
   "cell_type": "code",
   "execution_count": null,
   "metadata": {},
   "outputs": [],
   "source": [
    "# printing dimensions of data \n",
    "pluto_data.shape"
   ]
  },
  {
   "cell_type": "markdown",
   "metadata": {},
   "source": [
    "## 1.6 Unzipping and reading in data as csv from local folder\n"
   ]
  },
  {
   "cell_type": "markdown",
   "metadata": {},
   "source": [
    "**Manually zipping a csv file of the first 20 rows of the data in a zipped file.**"
   ]
  },
  {
   "cell_type": "code",
   "execution_count": null,
   "metadata": {},
   "outputs": [],
   "source": [
    "# saving first twenty rows of our data as a new csv\n",
    "building_footprints_csv.head(20).to_csv('data/sample_buildings.csv', index=False)"
   ]
  },
  {
   "cell_type": "code",
   "execution_count": null,
   "metadata": {},
   "outputs": [],
   "source": [
    "file_path = 'data/sample-buidlings.zip'\n",
    "\n",
    "# create a zipfile\n",
    "with zipfile.ZipFile(file_path, 'w') as file:\n",
    "        # write mode overrides all the existing files in the 'Zip.'\n",
    "        # you have to create the file which you have to write to the 'Zip.'\n",
    "        file.write('data/sample_buildings.csv', basename('data/sample_buildings.csv'))"
   ]
  },
  {
   "cell_type": "code",
   "execution_count": null,
   "metadata": {},
   "outputs": [],
   "source": [
    "# seeing if a file is a zipfile\n",
    "print(zipfile.is_zipfile(file_path))"
   ]
  },
  {
   "cell_type": "code",
   "execution_count": null,
   "metadata": {},
   "outputs": [],
   "source": [
    "# list items in this file path\n",
    "%ls data/"
   ]
  },
  {
   "cell_type": "code",
   "execution_count": null,
   "metadata": {},
   "outputs": [],
   "source": [
    "# save items in our zipfile\n",
    "items = zipfile.ZipFile(file_path)\n",
    "\n",
    "# available files in the container\n",
    "print(items.namelist())"
   ]
  },
  {
   "cell_type": "markdown",
   "metadata": {},
   "source": [
    "**Extracting the csv file of the data from the zipped file.**"
   ]
  },
  {
   "cell_type": "code",
   "execution_count": null,
   "metadata": {},
   "outputs": [],
   "source": [
    "file_name = 'data/sample-buidlings.zip'\n",
    "\n",
    "# opening zip using 'with' keyword in read mode\n",
    "with zipfile.ZipFile(file_name, 'r') as file:\n",
    "    # extracing all items in our zipfile\n",
    "    file.extractall('data/unzipped-data')"
   ]
  },
  {
   "cell_type": "code",
   "execution_count": null,
   "metadata": {},
   "outputs": [],
   "source": [
    "# list files in this file path\n",
    "%ls data/unzipped-data/"
   ]
  },
  {
   "cell_type": "code",
   "execution_count": null,
   "metadata": {},
   "outputs": [],
   "source": [
    "# read data as a dataframe\n",
    "sample_buidlings = pd.read_csv('data/unzipped-data/sample_buildings.csv')\n",
    "\n",
    "# previewing first five rows of data\n",
    "sample_buidlings.head()"
   ]
  },
  {
   "cell_type": "code",
   "execution_count": null,
   "metadata": {},
   "outputs": [],
   "source": [
    "# printing dimensions of data\n",
    "sample_buidlings.shape"
   ]
  },
  {
   "cell_type": "markdown",
   "metadata": {},
   "source": [
    "## 1.7 Reading in data from Socrata Open Data API (SODA)"
   ]
  },
  {
   "cell_type": "markdown",
   "metadata": {},
   "source": [
    "**Note: If you haven't signed up for an app token, there is a 1,000 rows limit.**"
   ]
  },
  {
   "cell_type": "markdown",
   "metadata": {},
   "source": [
    "![building_footprints_csv](images/building-footprints-soda-api.png)"
   ]
  },
  {
   "cell_type": "code",
   "execution_count": null,
   "metadata": {},
   "outputs": [],
   "source": [
    "# Enter the information from those sections here\n",
    "socrata_domain = 'data.cityofnewyork.us' # nyc open data domain\n",
    "socrata_dataset_identifier = 'uic8-njst' # building footprints dataset identifier\n",
    "\n",
    "# App Tokens can be generated by creating an account at https://opendata.socrata.com/signup\n",
    "# Tokens are optional (`None` can be used instead), though requests will be rate limited.\n",
    "#\n",
    "# If you choose to use a token, run the following command on the terminal (or add it to your .bashrc)\n",
    "# $ export SODAPY_APPTOKEN=<token>\n",
    "socrata_token = os.environ.get(\"SODAPY_APPTOKEN\")"
   ]
  },
  {
   "cell_type": "markdown",
   "metadata": {},
   "source": [
    "Source: https://github.com/xmunoz/sodapy/blob/master/examples/basic_queries.ipynb"
   ]
  },
  {
   "cell_type": "code",
   "execution_count": null,
   "metadata": {},
   "outputs": [],
   "source": [
    "# The main class that interacts with the SODA API. Sample usage:\n",
    "    # from sodapy import Socrata\n",
    "    # client = Socrata(\"opendata.socrata.com\", None)\n",
    "client = Socrata(socrata_domain, socrata_token)\n",
    "\n",
    "print(\"Domain: {domain:}\\nSession: {session:}\\nURI Prefix: {uri_prefix:}\".format(**client.__dict__))"
   ]
  },
  {
   "cell_type": "markdown",
   "metadata": {},
   "source": [
    "We are setting the **limit** at **2,000,000 rows** (i.e. the full data set)."
   ]
  },
  {
   "cell_type": "code",
   "execution_count": null,
   "metadata": {},
   "outputs": [],
   "source": [
    "# retrieving data as a dictionary \n",
    "results = client.get(socrata_dataset_identifier, limit=2000000)\n",
    "\n",
    "# creating a dataframe from our dictionary\n",
    "building_footprints_soda_api = pd.DataFrame.from_dict(results)\n",
    "\n",
    "# printing first five rows of data\n",
    "building_footprints_soda_api.head()"
   ]
  },
  {
   "cell_type": "code",
   "execution_count": null,
   "metadata": {},
   "outputs": [],
   "source": [
    "# printing dimensions of our data\n",
    "building_footprints_soda_api.shape"
   ]
  },
  {
   "cell_type": "code",
   "execution_count": null,
   "metadata": {},
   "outputs": [],
   "source": [
    "# ending our API request\n",
    "client.close()"
   ]
  },
  {
   "cell_type": "markdown",
   "metadata": {},
   "source": [
    "**Useful resources:**\n",
    "    \n",
    "API Docs: https://dev.socrata.com/foundry/data.cityofnewyork.us/i62d-kjv8\n",
    "\n",
    "Sign up for app token: https://data.cityofnewyork.us/profile/edit/developer_settings\n",
    "\n",
    "Python client for the Socrata Open Data API: https://github.com/xmunoz/sodapy\n",
    "\n",
    "Examples: https://github.com/xmunoz/sodapy/tree/master/examples"
   ]
  },
  {
   "cell_type": "markdown",
   "metadata": {},
   "source": [
    "# 2. Writing Out Data"
   ]
  },
  {
   "cell_type": "markdown",
   "metadata": {},
   "source": [
    "### For simplicity, we're only exporting buildings built from 2010 to 2020"
   ]
  },
  {
   "cell_type": "code",
   "execution_count": null,
   "metadata": {},
   "outputs": [],
   "source": [
    "# saving only buildings built between 2010 and 2020 as a new dataframe\n",
    "building_footprints_after_2010 = building_footprints_csv[building_footprints_csv['CNSTRCT_YR'].between(2010, 2020)]\n",
    "\n",
    "# reset our index\n",
    "building_footprints_after_2010.reset_index(drop=True, inplace=True)"
   ]
  },
  {
   "cell_type": "code",
   "execution_count": null,
   "metadata": {},
   "outputs": [],
   "source": [
    "# previewing first five rows of data\n",
    "building_footprints_after_2010.head()"
   ]
  },
  {
   "cell_type": "code",
   "execution_count": null,
   "metadata": {},
   "outputs": [],
   "source": [
    "# printing dimensions of our data\n",
    "building_footprints_after_2010.shape"
   ]
  },
  {
   "cell_type": "code",
   "execution_count": null,
   "metadata": {},
   "outputs": [],
   "source": [
    "# display float types as two decimals\n",
    "pd.set_option('display.float_format', lambda x: '%.2f' % x)\n",
    "\n",
    "# sorting our construction year values and printing the unique values\n",
    "building_footprints_after_2010.sort_values(by='CNSTRCT_YR').CNSTRCT_YR.unique()"
   ]
  },
  {
   "cell_type": "code",
   "execution_count": null,
   "metadata": {},
   "outputs": [],
   "source": [
    "# list items in data folder\n",
    "%ls data/"
   ]
  },
  {
   "cell_type": "markdown",
   "metadata": {},
   "source": [
    "## 2.1 Writing to a CSV file"
   ]
  },
  {
   "cell_type": "code",
   "execution_count": null,
   "metadata": {},
   "outputs": [],
   "source": [
    "# writing files as a csv\n",
    "building_footprints_after_2010.to_csv('data/building_after_2010.csv', index=False)\n",
    "\n",
    "# listing items in data folder\n",
    "%ls data/"
   ]
  },
  {
   "cell_type": "markdown",
   "metadata": {},
   "source": [
    "## 2.2 Writing to an Excel (xlsx) file"
   ]
  },
  {
   "cell_type": "code",
   "execution_count": null,
   "metadata": {},
   "outputs": [],
   "source": [
    "# writing files as an excel file\n",
    "building_footprints_after_2010.to_excel('data/building_after_2010.xlsx', index=False)\n",
    "\n",
    "# listing items in data folder\n",
    "%ls data/"
   ]
  },
  {
   "cell_type": "markdown",
   "metadata": {},
   "source": [
    "## 2.3 Writing to a JSON file"
   ]
  },
  {
   "cell_type": "code",
   "execution_count": null,
   "metadata": {},
   "outputs": [],
   "source": [
    "# writing files as json\n",
    "building_footprints_after_2010.to_json('data/building_after_2010.json')\n",
    "\n",
    "# listing items in data folder\n",
    "%ls data/"
   ]
  },
  {
   "cell_type": "markdown",
   "metadata": {},
   "source": [
    "# 3. Reading In Data from Local Folder"
   ]
  },
  {
   "cell_type": "code",
   "execution_count": null,
   "metadata": {},
   "outputs": [],
   "source": [
    "# listing items in data folder\n",
    "%ls data/"
   ]
  },
  {
   "cell_type": "markdown",
   "metadata": {},
   "source": [
    "## 3.1 Reading in a CSV file"
   ]
  },
  {
   "cell_type": "code",
   "execution_count": null,
   "metadata": {},
   "outputs": [],
   "source": [
    "# read data as a dataframe\n",
    "building_footprints_after_2010 = pd.read_csv('data/building_after_2010.csv')\n",
    "\n",
    "# previewing first five rows in data\n",
    "building_footprints_after_2010.head()"
   ]
  },
  {
   "cell_type": "code",
   "execution_count": null,
   "metadata": {},
   "outputs": [],
   "source": [
    "# printing dimensions of data\n",
    "building_footprints_after_2010.shape"
   ]
  },
  {
   "cell_type": "markdown",
   "metadata": {},
   "source": [
    "## 3.2 Reading in an Excel file"
   ]
  },
  {
   "cell_type": "code",
   "execution_count": null,
   "metadata": {},
   "outputs": [],
   "source": [
    "# read data as a dataframe\n",
    "building_footprints_after_2010 = pd.read_excel('data/building_after_2010.xlsx')\n",
    "\n",
    "# previewing first five rows in data\n",
    "building_footprints_after_2010.head()"
   ]
  },
  {
   "cell_type": "code",
   "execution_count": null,
   "metadata": {},
   "outputs": [],
   "source": [
    "# printing dimensions of data\n",
    "building_footprints_after_2010.shape"
   ]
  },
  {
   "cell_type": "markdown",
   "metadata": {},
   "source": [
    "## 3.3 Reading in a JSON file"
   ]
  },
  {
   "cell_type": "code",
   "execution_count": null,
   "metadata": {},
   "outputs": [],
   "source": [
    "# read data as a dataframe\n",
    "building_footprints_after_2010 = pd.read_json('data/building_after_2010.json')\n",
    "\n",
    "# previewing first five rows in data\n",
    "building_footprints_after_2010.head()"
   ]
  },
  {
   "cell_type": "code",
   "execution_count": null,
   "metadata": {},
   "outputs": [],
   "source": [
    "# printing dimensions of data\n",
    "building_footprints_after_2010.shape"
   ]
  },
  {
   "cell_type": "markdown",
   "metadata": {},
   "source": [
    "# 4. Conclusion"
   ]
  },
  {
   "cell_type": "markdown",
   "metadata": {},
   "source": [
    "In this notebook, we reviewed various ways to read (load) and write (save) data from NYC Open Data. Specifically, we focused on reading our data into a pandas dataframe. We also went over common file formats that you might encounter - csv, json, shapefiles, and zip files. In Part II, we will focus on basic data inspection and wrangling techniques in the data analysis workflow."
   ]
  },
  {
   "cell_type": "code",
   "execution_count": null,
   "metadata": {},
   "outputs": [],
   "source": []
  }
 ],
 "metadata": {
  "kernelspec": {
   "display_name": "Python 3",
   "language": "python",
   "name": "python3"
  },
  "language_info": {
   "codemirror_mode": {
    "name": "ipython",
    "version": 3
   },
   "file_extension": ".py",
   "mimetype": "text/x-python",
   "name": "python",
   "nbconvert_exporter": "python",
   "pygments_lexer": "ipython3",
   "version": "3.7.1"
  }
 },
 "nbformat": 4,
 "nbformat_minor": 2
}
