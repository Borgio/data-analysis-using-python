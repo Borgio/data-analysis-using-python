{
 "cells": [
  {
   "cell_type": "markdown",
   "metadata": {},
   "source": [
    "# Data Analysis Using Python: A Beginner’s Guide Featuring NYC Open Data\n",
    "## Part 1: Reading and Writing Files in Python\n",
    "\n",
    "Mark Bauer"
   ]
  },
  {
   "cell_type": "markdown",
   "metadata": {},
   "source": [
    "Table of Contents\n",
    "=================\n",
    "\n",
    "   * [Getting Started](#-Getting-Started:-Accessing-the-Building-Footprints-Dataset)\n",
    "       * [1. Search NYC Open Data in Google](##1.-Search-NYC-Open-Data-in-Google)\n",
    "       * [2. Search \"Building Footprints\" in NYC Open Data search bar](##-2.-Search-\"Building-Footprints\"-in-NYC-Open-Data-search-bar)\n",
    "       * [3. Select \"Building Footprints\" Dataset](##3.-Select-\"Building-Footprints\"-Dataset)\n",
    "       * [4. The Building Footprints Dataset Page](##4.-The-Building-Footprints-Dataset-Page)\n",
    "       \n",
    "       \n",
    "   * [1. Reading In Data](##-1.-Reading-In-Data)\n",
    "       * [1.1 Reading in data as csv in static form](##-1.1-Reading-in-data-as-csv-in-static-form)\n",
    "       * [1.2 Reading in data as json in static form](##-1.2-Reading-in-data-as-json-in-static-form)\n",
    "       * [1.3 Reading in shapefile data](##-1.3-Reading-in-shapefile-data)\n",
    "       * [1.4 Unzipping and reading in data as csv in memory](##-1.4-Unzipping-and-reading-in-data-as-csv-in-memory)\n",
    "       * [1.5 Unzipping and reading in data as csv to local folder](##-1.4-Unzipping-and-reading-in-data-as-csv-to-local-folder)\n",
    "       * [1.6 Unzipping and reading in data as csv from local folder](##-1.4-Unzipping-and-reading-in-data-as-csv-from-local-folder)\n",
    "       * [1.7 Reading in data from Socrata Open Data API (SODA)](##-1.5-Reading-in-data-from-Socrata-Open-Data-API-%28SODA%29)\n",
    "       \n",
    "       \n",
    "   * [2. Writing Out Data](#-2.-Writing-Out-Data)\n",
    "       * [2.1 Writing to a CSV file](##-2.1-Writing-to-a-CSV-file)\n",
    "       * [2.2 Writing to a Excel (xlsx) file](##-2.2-Writing-to-a-Excel-%28xlsx%29-file)\n",
    "       * [2.3 Writing to a JSON file](##-2.3-Writing-to-a-JSON-file)\n",
    "       \n",
    "       \n",
    "   * [3. Reading In Data from Local Folder](#-3.-Reading-In-Data-from-Local-Folder)\n",
    "       * [3.1 Reading in a CSV file](##-3.1-Reading-in-a-CSV-file)\n",
    "       * [3.2 Reading in an Excel file](##-3.2-Reading-in-an-Excel-file)\n",
    "       * [3.3 Reading in a JSON file](##-3.3-Reading-in-a-JSON-file)\n",
    "       \n",
    "       \n",
    "   * [4. Conclusion](#-4.-Conclusion)"
   ]
  },
  {
   "cell_type": "markdown",
   "metadata": {},
   "source": [
    "**Goal:** In this notebook, we will review various ways to read (load) and write (save) data from NYC Open Data. Specifically, we will focus on reading our data into a pandas dataframe.\n",
    "\n",
    "**Main Library:** [pandas](https://pandas.pydata.org/) is a fast, powerful, flexible and easy to use open source data analysis and manipulation tool, built on top of the Python programming language."
   ]
  },
  {
   "cell_type": "code",
   "execution_count": 26,
   "metadata": {},
   "outputs": [],
   "source": [
    "# importing libraries\n",
    "import pandas as pd\n",
    "import numpy as np\n",
    "import geopandas as gpd\n",
    "from fiona.crs import from_epsg\n",
    "import matplotlib.pyplot as plt\n",
    "import os\n",
    "import urllib\n",
    "import json\n",
    "import requests\n",
    "from io import BytesIO\n",
    "from sodapy import Socrata\n",
    "import zipfile\n",
    "from zipfile import ZipFile\n",
    "from os.path import basename\n",
    "from openpyxl import Workbook"
   ]
  },
  {
   "cell_type": "markdown",
   "metadata": {},
   "source": [
    "Printing verions of Python modules and packages with **watermark** - the IPython magic extension."
   ]
  },
  {
   "cell_type": "code",
   "execution_count": 27,
   "metadata": {},
   "outputs": [
    {
     "name": "stdout",
     "output_type": "stream",
     "text": [
      "The watermark extension is already loaded. To reload it, use:\n",
      "  %reload_ext watermark\n"
     ]
    }
   ],
   "source": [
    "%load_ext watermark"
   ]
  },
  {
   "cell_type": "code",
   "execution_count": 28,
   "metadata": {},
   "outputs": [
    {
     "name": "stdout",
     "output_type": "stream",
     "text": [
      "CPython 3.7.1\n",
      "IPython 7.20.0\n",
      "\n",
      "numpy 1.19.2\n",
      "pandas 1.2.1\n",
      "geopandas 0.8.1\n",
      "matplotlib.pyplot 3.3.2\n",
      "json 2.0.9\n",
      "requests 2.25.1\n",
      "sodapy 2.0.0\n"
     ]
    }
   ],
   "source": [
    "%watermark -v -p numpy,pandas,geopandas,matplotlib.pyplot,json,requests,sodapy"
   ]
  },
  {
   "cell_type": "markdown",
   "metadata": {},
   "source": [
    "Documention for installing watermark: https://github.com/rasbt/watermark"
   ]
  },
  {
   "cell_type": "markdown",
   "metadata": {},
   "source": [
    "# Getting Started: Accessing the Building Footprints Dataset"
   ]
  },
  {
   "cell_type": "markdown",
   "metadata": {},
   "source": [
    "## 1. Search NYC Open Data in Google"
   ]
  },
  {
   "cell_type": "markdown",
   "metadata": {},
   "source": [
    "![building_footprints](images/1.nyc-open-data-google.png)"
   ]
  },
  {
   "cell_type": "markdown",
   "metadata": {},
   "source": [
    "## 2. Search \"Building Footprints\" in NYC Open Data search bar"
   ]
  },
  {
   "cell_type": "markdown",
   "metadata": {},
   "source": [
    "![building_footprints](images/2.building-footprints-opendata-search.png)"
   ]
  },
  {
   "cell_type": "markdown",
   "metadata": {},
   "source": [
    "## 3. Select \"Building Footprints\" Dataset"
   ]
  },
  {
   "cell_type": "markdown",
   "metadata": {},
   "source": [
    "![building_footprints](images/3.building-footprints-dataset-link.png)"
   ]
  },
  {
   "cell_type": "markdown",
   "metadata": {},
   "source": [
    "## 4. The Building Footprints Dataset Page"
   ]
  },
  {
   "cell_type": "markdown",
   "metadata": {},
   "source": [
    "![building_footprints](images/4.data-homepage.png)"
   ]
  },
  {
   "cell_type": "markdown",
   "metadata": {},
   "source": [
    "Dataset Link: \n",
    "https://data.cityofnewyork.us/Housing-Development/Building-Footprints/nqwf-w8eh\n",
    "\n",
    "Documentation/Metadata: \n",
    "https://github.com/CityOfNewYork/nyc-geo-metadata/blob/master/Metadata/Metadata_BuildingFootprints.md"
   ]
  },
  {
   "cell_type": "markdown",
   "metadata": {},
   "source": [
    "**Building Footprints Dataset Identification**\n",
    "\n",
    "> **Here are a few things to note about the data:**\n",
    ">\n",
    "> - **Purpose:** This feature class is used by the NYC DOITT GIS group to maintain and distribute an accurate 'basemap' for NYC. The basemap provides the foundation upon virtually all other geospatial data with New York.\n",
    "> - **Description:** Building footprints represent the full perimeter outline of each building as viewed from directly above. Additional attribute information maintained for each feature includes: Building Identification Number (BIN); Borough, Block, and Lot information(BBL); ground elevation at building base; roof height above ground elevation; construction year, and feature type.\n",
    "> - **Source(s):** Annually captured aerial imagery, NYC Research of DOB records, or other image resources.\n",
    "> - **Publication Dates:** **Data**: 05/03/16<br>\n",
    "> - **Last Update:** Weekly<br>\n",
    "> - **Metadata:** 12/22/2016<br>\n",
    "> - **Update Frequency:** Features are updated daily by DoITT staff and a public release is available weekly on NYC Open Data. Every four years a citywide review is made of the building footprints and features are updated photogrammetrically.\n",
    "> - **Available Formats:** File Geodatabase Feature Class as part of the Planimetrics geodatabase and individual shapefile on the [NYC Open Data Portal](https://data.cityofnewyork.us/Housing-Development/Building-Footprints/nqwf-w8eh)\n",
    "> - **Use Limitations:** Open Data policies and restrictions apply. See [Terms of Use](http://www.nyc.gov/html/data/terms.html)\n",
    "> - **Access Rights:** Public\n",
    "> - **Links:** https://data.cityofnewyork.us/Housing-Development/Building-Footprints/nqwf-w8eh\n",
    "> - **Tags:** Buildings, Building footprint, BIN, Structure\n",
    "\n",
    "**Source:** \n",
    "https://github.com/CityOfNewYork/nyc-geo-metadata/blob/master/Metadata/Metadata_BuildingFootprints.md"
   ]
  },
  {
   "cell_type": "markdown",
   "metadata": {},
   "source": [
    "# 1. Reading In Data"
   ]
  },
  {
   "cell_type": "markdown",
   "metadata": {},
   "source": [
    "## 1.1 Reading in data as csv in static form"
   ]
  },
  {
   "cell_type": "markdown",
   "metadata": {},
   "source": [
    "![building_footprints_csv](images/building-footprints-csv.png)"
   ]
  },
  {
   "cell_type": "markdown",
   "metadata": {},
   "source": [
    "# NOTE: \n",
    "The buildings footprints `dataset identifier` changes weekly, and so does the data api path. Click on the API Docs page and verify the correct dataset identifier. If you're not working with the correct id, you will receive a `HTTP Error`. Screenshots below:"
   ]
  },
  {
   "cell_type": "markdown",
   "metadata": {},
   "source": [
    "**Click on API Docs**\n",
    "![building_footprints_csv](images/api_docs.png)\n",
    "\n",
    "**Grab the updated dataset identifier**\n",
    "![building_footprints_csv](images/api_docs_dataset_id.png)"
   ]
  },
  {
   "cell_type": "markdown",
   "metadata": {},
   "source": [
    "The `dataset identifier` is inserted into the api path below:  \n",
    "url = https://data.cityofnewyork.us/api/views/DATASET_IDENTIFIER/rows.csv?accessType=DOWNLOAD"
   ]
  },
  {
   "cell_type": "code",
   "execution_count": 29,
   "metadata": {},
   "outputs": [],
   "source": [
    "# reading in data as a url from NYC Open Data\n",
    "url = 'https://data.cityofnewyork.us/api/views/nabw-vbue/rows.csv?accessType=DOWNLOAD'\n",
    "\n",
    "# saving data as a pandas dataframe named 'building_footprints_csv'\n",
    "building_footprints_csv = pd.read_csv(url)"
   ]
  },
  {
   "cell_type": "code",
   "execution_count": 30,
   "metadata": {},
   "outputs": [
    {
     "data": {
      "text/html": [
       "<div>\n",
       "<style scoped>\n",
       "    .dataframe tbody tr th:only-of-type {\n",
       "        vertical-align: middle;\n",
       "    }\n",
       "\n",
       "    .dataframe tbody tr th {\n",
       "        vertical-align: top;\n",
       "    }\n",
       "\n",
       "    .dataframe thead th {\n",
       "        text-align: right;\n",
       "    }\n",
       "</style>\n",
       "<table border=\"1\" class=\"dataframe\">\n",
       "  <thead>\n",
       "    <tr style=\"text-align: right;\">\n",
       "      <th></th>\n",
       "      <th>BIN</th>\n",
       "      <th>CNSTRCT_YR</th>\n",
       "      <th>NAME</th>\n",
       "      <th>the_geom</th>\n",
       "      <th>LSTMODDATE</th>\n",
       "      <th>LSTSTATYPE</th>\n",
       "      <th>DOITT_ID</th>\n",
       "      <th>HEIGHTROOF</th>\n",
       "      <th>FEAT_CODE</th>\n",
       "      <th>GROUNDELEV</th>\n",
       "      <th>SHAPE_AREA</th>\n",
       "      <th>SHAPE_LEN</th>\n",
       "      <th>BASE_BBL</th>\n",
       "      <th>MPLUTO_BBL</th>\n",
       "      <th>GEOMSOURCE</th>\n",
       "    </tr>\n",
       "  </thead>\n",
       "  <tbody>\n",
       "    <tr>\n",
       "      <th>0</th>\n",
       "      <td>3394646</td>\n",
       "      <td>2009.0</td>\n",
       "      <td>NaN</td>\n",
       "      <td>MULTIPOLYGON (((-73.87129515296562 40.65717370...</td>\n",
       "      <td>08/22/2017 12:00:00 AM +0000</td>\n",
       "      <td>Constructed</td>\n",
       "      <td>1212853</td>\n",
       "      <td>21.608508</td>\n",
       "      <td>2100.0</td>\n",
       "      <td>18.0</td>\n",
       "      <td>854.662433</td>\n",
       "      <td>125.079796</td>\n",
       "      <td>3.044521e+09</td>\n",
       "      <td>3.044521e+09</td>\n",
       "      <td>Photogramm</td>\n",
       "    </tr>\n",
       "    <tr>\n",
       "      <th>1</th>\n",
       "      <td>4548330</td>\n",
       "      <td>1930.0</td>\n",
       "      <td>NaN</td>\n",
       "      <td>MULTIPOLYGON (((-73.87670970144625 40.71425234...</td>\n",
       "      <td>08/17/2017 12:00:00 AM +0000</td>\n",
       "      <td>Constructed</td>\n",
       "      <td>1226227</td>\n",
       "      <td>10.360000</td>\n",
       "      <td>5110.0</td>\n",
       "      <td>122.0</td>\n",
       "      <td>217.594243</td>\n",
       "      <td>60.225858</td>\n",
       "      <td>4.030640e+09</td>\n",
       "      <td>4.030640e+09</td>\n",
       "      <td>Photogramm</td>\n",
       "    </tr>\n",
       "    <tr>\n",
       "      <th>2</th>\n",
       "      <td>4460479</td>\n",
       "      <td>1960.0</td>\n",
       "      <td>NaN</td>\n",
       "      <td>MULTIPOLYGON (((-73.85195485799383 40.66235471...</td>\n",
       "      <td>08/22/2017 12:00:00 AM +0000</td>\n",
       "      <td>Constructed</td>\n",
       "      <td>581946</td>\n",
       "      <td>29.811570</td>\n",
       "      <td>2100.0</td>\n",
       "      <td>10.0</td>\n",
       "      <td>946.427476</td>\n",
       "      <td>123.141941</td>\n",
       "      <td>4.139430e+09</td>\n",
       "      <td>4.139430e+09</td>\n",
       "      <td>Photogramm</td>\n",
       "    </tr>\n",
       "    <tr>\n",
       "      <th>3</th>\n",
       "      <td>3355684</td>\n",
       "      <td>1920.0</td>\n",
       "      <td>NaN</td>\n",
       "      <td>MULTIPOLYGON (((-73.94029215265738 40.64108287...</td>\n",
       "      <td>08/17/2017 12:00:00 AM +0000</td>\n",
       "      <td>Constructed</td>\n",
       "      <td>858061</td>\n",
       "      <td>11.200000</td>\n",
       "      <td>5110.0</td>\n",
       "      <td>32.0</td>\n",
       "      <td>248.678169</td>\n",
       "      <td>63.940817</td>\n",
       "      <td>3.049720e+09</td>\n",
       "      <td>3.049720e+09</td>\n",
       "      <td>Photogramm</td>\n",
       "    </tr>\n",
       "    <tr>\n",
       "      <th>4</th>\n",
       "      <td>3131737</td>\n",
       "      <td>1915.0</td>\n",
       "      <td>NaN</td>\n",
       "      <td>MULTIPOLYGON (((-73.98998983552244 40.62383804...</td>\n",
       "      <td>08/22/2017 12:00:00 AM +0000</td>\n",
       "      <td>Constructed</td>\n",
       "      <td>568078</td>\n",
       "      <td>24.980000</td>\n",
       "      <td>2100.0</td>\n",
       "      <td>44.0</td>\n",
       "      <td>1163.227669</td>\n",
       "      <td>165.608763</td>\n",
       "      <td>3.055100e+09</td>\n",
       "      <td>3.055100e+09</td>\n",
       "      <td>Photogramm</td>\n",
       "    </tr>\n",
       "  </tbody>\n",
       "</table>\n",
       "</div>"
      ],
      "text/plain": [
       "       BIN  CNSTRCT_YR NAME  \\\n",
       "0  3394646      2009.0  NaN   \n",
       "1  4548330      1930.0  NaN   \n",
       "2  4460479      1960.0  NaN   \n",
       "3  3355684      1920.0  NaN   \n",
       "4  3131737      1915.0  NaN   \n",
       "\n",
       "                                            the_geom  \\\n",
       "0  MULTIPOLYGON (((-73.87129515296562 40.65717370...   \n",
       "1  MULTIPOLYGON (((-73.87670970144625 40.71425234...   \n",
       "2  MULTIPOLYGON (((-73.85195485799383 40.66235471...   \n",
       "3  MULTIPOLYGON (((-73.94029215265738 40.64108287...   \n",
       "4  MULTIPOLYGON (((-73.98998983552244 40.62383804...   \n",
       "\n",
       "                     LSTMODDATE   LSTSTATYPE  DOITT_ID  HEIGHTROOF  FEAT_CODE  \\\n",
       "0  08/22/2017 12:00:00 AM +0000  Constructed   1212853   21.608508     2100.0   \n",
       "1  08/17/2017 12:00:00 AM +0000  Constructed   1226227   10.360000     5110.0   \n",
       "2  08/22/2017 12:00:00 AM +0000  Constructed    581946   29.811570     2100.0   \n",
       "3  08/17/2017 12:00:00 AM +0000  Constructed    858061   11.200000     5110.0   \n",
       "4  08/22/2017 12:00:00 AM +0000  Constructed    568078   24.980000     2100.0   \n",
       "\n",
       "   GROUNDELEV   SHAPE_AREA   SHAPE_LEN      BASE_BBL    MPLUTO_BBL  GEOMSOURCE  \n",
       "0        18.0   854.662433  125.079796  3.044521e+09  3.044521e+09  Photogramm  \n",
       "1       122.0   217.594243   60.225858  4.030640e+09  4.030640e+09  Photogramm  \n",
       "2        10.0   946.427476  123.141941  4.139430e+09  4.139430e+09  Photogramm  \n",
       "3        32.0   248.678169   63.940817  3.049720e+09  3.049720e+09  Photogramm  \n",
       "4        44.0  1163.227669  165.608763  3.055100e+09  3.055100e+09  Photogramm  "
      ]
     },
     "execution_count": 30,
     "metadata": {},
     "output_type": "execute_result"
    }
   ],
   "source": [
    "# previewing the first five rows \n",
    "building_footprints_csv.head()"
   ]
  },
  {
   "cell_type": "code",
   "execution_count": 31,
   "metadata": {},
   "outputs": [
    {
     "data": {
      "text/plain": [
       "(1084829, 15)"
      ]
     },
     "execution_count": 31,
     "metadata": {},
     "output_type": "execute_result"
    }
   ],
   "source": [
    "# printing the dimentions (i.e. rows, columns) of the data\n",
    "building_footprints_csv.shape"
   ]
  },
  {
   "cell_type": "code",
   "execution_count": 32,
   "metadata": {},
   "outputs": [
    {
     "name": "stdout",
     "output_type": "stream",
     "text": [
      "This dataset has 1,084,829 rows and 15 columns.\n"
     ]
    }
   ],
   "source": [
    "rows = f'{building_footprints_csv.shape[0]:,}'\n",
    "columns = building_footprints_csv.shape[1]\n",
    "\n",
    "print('This dataset has {} rows and {} columns.'.format(rows, columns))"
   ]
  },
  {
   "cell_type": "markdown",
   "metadata": {},
   "source": [
    "**Sanity check**\n",
    "\n",
    "We use pandas `.head()` method to preview the first five rows of the dataframe.\n",
    "\n",
    "We use pandas `.shape` method to print the dimensions of the dataframe (i.e. number of rows, number of columns).\n",
    "\n",
    "We will use these two methods throughout the examples."
   ]
  },
  {
   "cell_type": "markdown",
   "metadata": {},
   "source": [
    "## 1.2 Reading in data as json in static form"
   ]
  },
  {
   "cell_type": "markdown",
   "metadata": {},
   "source": [
    "![building_footprints_csv](images/building-footprints-json.png)"
   ]
  },
  {
   "cell_type": "code",
   "execution_count": 33,
   "metadata": {},
   "outputs": [],
   "source": [
    "url = 'https://data.cityofnewyork.us/api/views/nabw-vbue/rows.json?accessType=DOWNLOAD'\n",
    "\n",
    "# loads a json object as a python object\n",
    "with urllib.request.urlopen(url) as url:\n",
    "    data = json.loads(url.read().decode())"
   ]
  },
  {
   "cell_type": "code",
   "execution_count": 34,
   "metadata": {},
   "outputs": [
    {
     "data": {
      "text/plain": [
       "dict_keys(['meta', 'data'])"
      ]
     },
     "execution_count": 34,
     "metadata": {},
     "output_type": "execute_result"
    }
   ],
   "source": [
    "data.keys()"
   ]
  },
  {
   "cell_type": "code",
   "execution_count": 35,
   "metadata": {},
   "outputs": [
    {
     "data": {
      "text/plain": [
       "1084829"
      ]
     },
     "execution_count": 35,
     "metadata": {},
     "output_type": "execute_result"
    }
   ],
   "source": [
    "len(data['data'])"
   ]
  },
  {
   "cell_type": "code",
   "execution_count": 36,
   "metadata": {},
   "outputs": [
    {
     "data": {
      "text/plain": [
       "['row-hkgi~9xdk-3pz6',\n",
       " '00000000-0000-0000-B9D8-C0B20064918B',\n",
       " 0,\n",
       " 1614035324,\n",
       " None,\n",
       " 1614035324,\n",
       " None,\n",
       " '{ }',\n",
       " '3394646',\n",
       " '2009',\n",
       " None,\n",
       " 'MULTIPOLYGON (((-73.87129515296562 40.65717370043455, -73.87135858020156 40.65714663518705, -73.87143322008981 40.6572480836196, -73.87136979278591 40.6572751498085, -73.87129515296562 40.65717370043455)))',\n",
       " 1503360000,\n",
       " 'Constructed',\n",
       " '1212853',\n",
       " '21.60850812',\n",
       " '2100',\n",
       " '18',\n",
       " '854.66243317866',\n",
       " '125.0797955584',\n",
       " '3044520815',\n",
       " '3044520815',\n",
       " 'Photogramm']"
      ]
     },
     "execution_count": 36,
     "metadata": {},
     "output_type": "execute_result"
    }
   ],
   "source": [
    "# previewing the first row in our data section of our python object\n",
    "data['data'][0]"
   ]
  },
  {
   "cell_type": "code",
   "execution_count": 37,
   "metadata": {
    "scrolled": false
   },
   "outputs": [
    {
     "data": {
      "text/plain": [
       "dict_keys(['view'])"
      ]
     },
     "execution_count": 37,
     "metadata": {},
     "output_type": "execute_result"
    }
   ],
   "source": [
    "data['meta'].keys()"
   ]
  },
  {
   "cell_type": "code",
   "execution_count": 38,
   "metadata": {},
   "outputs": [
    {
     "name": "stdout",
     "output_type": "stream",
     "text": [
      "id\n",
      "name\n",
      "assetType\n",
      "averageRating\n",
      "createdAt\n",
      "displayType\n",
      "downloadCount\n",
      "hideFromCatalog\n",
      "hideFromDataJson\n",
      "newBackend\n",
      "numberOfComments\n",
      "oid\n",
      "provenance\n",
      "publicationAppendEnabled\n",
      "publicationDate\n",
      "publicationGroup\n",
      "publicationStage\n",
      "rowsUpdatedAt\n",
      "rowsUpdatedBy\n",
      "tableId\n",
      "totalTimesRated\n",
      "viewCount\n",
      "viewLastModified\n",
      "viewType\n",
      "approvals\n",
      "columns\n",
      "grants\n",
      "owner\n",
      "query\n",
      "rights\n",
      "tableAuthor\n",
      "flags\n"
     ]
    }
   ],
   "source": [
    "keys = data['meta']['view'].keys()\n",
    "\n",
    "for key in keys:\n",
    "    print(key)"
   ]
  },
  {
   "cell_type": "code",
   "execution_count": 39,
   "metadata": {},
   "outputs": [
    {
     "data": {
      "text/plain": [
       "[{'id': -1,\n",
       "  'name': 'sid',\n",
       "  'dataTypeName': 'meta_data',\n",
       "  'fieldName': ':sid',\n",
       "  'position': 0,\n",
       "  'renderTypeName': 'meta_data',\n",
       "  'format': {},\n",
       "  'flags': ['hidden']},\n",
       " {'id': -1,\n",
       "  'name': 'id',\n",
       "  'dataTypeName': 'meta_data',\n",
       "  'fieldName': ':id',\n",
       "  'position': 0,\n",
       "  'renderTypeName': 'meta_data',\n",
       "  'format': {},\n",
       "  'flags': ['hidden']},\n",
       " {'id': -1,\n",
       "  'name': 'position',\n",
       "  'dataTypeName': 'meta_data',\n",
       "  'fieldName': ':position',\n",
       "  'position': 0,\n",
       "  'renderTypeName': 'meta_data',\n",
       "  'format': {},\n",
       "  'flags': ['hidden']},\n",
       " {'id': -1,\n",
       "  'name': 'created_at',\n",
       "  'dataTypeName': 'meta_data',\n",
       "  'fieldName': ':created_at',\n",
       "  'position': 0,\n",
       "  'renderTypeName': 'meta_data',\n",
       "  'format': {},\n",
       "  'flags': ['hidden']},\n",
       " {'id': -1,\n",
       "  'name': 'created_meta',\n",
       "  'dataTypeName': 'meta_data',\n",
       "  'fieldName': ':created_meta',\n",
       "  'position': 0,\n",
       "  'renderTypeName': 'meta_data',\n",
       "  'format': {},\n",
       "  'flags': ['hidden']}]"
      ]
     },
     "execution_count": 39,
     "metadata": {},
     "output_type": "execute_result"
    }
   ],
   "source": [
    "# locating our columns (i.e. field names) and saving as a new variable called 'lst'\n",
    "cols = data['meta']['view']['columns']\n",
    "\n",
    "# previewing first five\n",
    "cols[:5]"
   ]
  },
  {
   "cell_type": "code",
   "execution_count": 40,
   "metadata": {},
   "outputs": [
    {
     "name": "stdout",
     "output_type": "stream",
     "text": [
      ":sid\n",
      ":id\n",
      ":position\n",
      ":created_at\n",
      ":created_meta\n",
      ":updated_at\n",
      ":updated_meta\n",
      ":meta\n",
      "bin\n",
      "cnstrct_yr\n",
      "name\n",
      "the_geom\n",
      "lstmoddate\n",
      "lststatype\n",
      "doitt_id\n",
      "heightroof\n",
      "feat_code\n",
      "groundelev\n",
      "shape_area\n",
      "shape_len\n",
      "base_bbl\n",
      "mpluto_bbl\n",
      "geomsource\n"
     ]
    }
   ],
   "source": [
    "for item in cols:\n",
    "    print(item['fieldName'])"
   ]
  },
  {
   "cell_type": "code",
   "execution_count": 42,
   "metadata": {},
   "outputs": [
    {
     "name": "stdout",
     "output_type": "stream",
     "text": [
      ":sid\n",
      ":id\n",
      ":position\n",
      ":created_at\n",
      ":created_meta\n",
      ":updated_at\n",
      ":updated_meta\n",
      ":meta\n",
      "bin\n",
      "cnstrct_yr\n",
      "name\n",
      "the_geom\n",
      "lstmoddate\n",
      "lststatype\n",
      "doitt_id\n",
      "heightroof\n",
      "feat_code\n",
      "groundelev\n",
      "shape_area\n",
      "shape_len\n",
      "base_bbl\n",
      "mpluto_bbl\n",
      "geomsource\n"
     ]
    }
   ],
   "source": [
    "# saving our field names as a variable\n",
    "fieldName = {x['fieldName']: x for x in cols}\n",
    "\n",
    "# printing the field names in our data\n",
    "for key in fieldName.keys():\n",
    "    print(key)"
   ]
  },
  {
   "cell_type": "code",
   "execution_count": 43,
   "metadata": {},
   "outputs": [],
   "source": [
    "# saving our field names in a list\n",
    "columns = [*fieldName]\n",
    "building_footprints_json = pd.DataFrame(data['data'], columns=columns)\n",
    "\n",
    "# identifying columns not required for analysis\n",
    "drop_columns = [':sid', ':id', ':position', ':created_at', ':created_meta', ':updated_at', \n",
    "                ':updated_meta', ':meta']\n",
    "\n",
    "# dropping columns not required for analysis\n",
    "building_footprints_json.drop(drop_columns, axis=1, inplace=True)"
   ]
  },
  {
   "cell_type": "code",
   "execution_count": 44,
   "metadata": {},
   "outputs": [
    {
     "data": {
      "text/html": [
       "<div>\n",
       "<style scoped>\n",
       "    .dataframe tbody tr th:only-of-type {\n",
       "        vertical-align: middle;\n",
       "    }\n",
       "\n",
       "    .dataframe tbody tr th {\n",
       "        vertical-align: top;\n",
       "    }\n",
       "\n",
       "    .dataframe thead th {\n",
       "        text-align: right;\n",
       "    }\n",
       "</style>\n",
       "<table border=\"1\" class=\"dataframe\">\n",
       "  <thead>\n",
       "    <tr style=\"text-align: right;\">\n",
       "      <th></th>\n",
       "      <th>bin</th>\n",
       "      <th>cnstrct_yr</th>\n",
       "      <th>name</th>\n",
       "      <th>the_geom</th>\n",
       "      <th>lstmoddate</th>\n",
       "      <th>lststatype</th>\n",
       "      <th>doitt_id</th>\n",
       "      <th>heightroof</th>\n",
       "      <th>feat_code</th>\n",
       "      <th>groundelev</th>\n",
       "      <th>shape_area</th>\n",
       "      <th>shape_len</th>\n",
       "      <th>base_bbl</th>\n",
       "      <th>mpluto_bbl</th>\n",
       "      <th>geomsource</th>\n",
       "    </tr>\n",
       "  </thead>\n",
       "  <tbody>\n",
       "    <tr>\n",
       "      <th>0</th>\n",
       "      <td>3394646</td>\n",
       "      <td>2009</td>\n",
       "      <td>None</td>\n",
       "      <td>MULTIPOLYGON (((-73.87129515296562 40.65717370...</td>\n",
       "      <td>1503360000</td>\n",
       "      <td>Constructed</td>\n",
       "      <td>1212853</td>\n",
       "      <td>21.60850812</td>\n",
       "      <td>2100</td>\n",
       "      <td>18</td>\n",
       "      <td>854.66243317866</td>\n",
       "      <td>125.0797955584</td>\n",
       "      <td>3044520815</td>\n",
       "      <td>3044520815</td>\n",
       "      <td>Photogramm</td>\n",
       "    </tr>\n",
       "    <tr>\n",
       "      <th>1</th>\n",
       "      <td>4548330</td>\n",
       "      <td>1930</td>\n",
       "      <td>None</td>\n",
       "      <td>MULTIPOLYGON (((-73.87670970144625 40.71425234...</td>\n",
       "      <td>1502928000</td>\n",
       "      <td>Constructed</td>\n",
       "      <td>1226227</td>\n",
       "      <td>10.36</td>\n",
       "      <td>5110</td>\n",
       "      <td>122</td>\n",
       "      <td>217.59424346169</td>\n",
       "      <td>60.22585821856</td>\n",
       "      <td>4030640041</td>\n",
       "      <td>4030640041</td>\n",
       "      <td>Photogramm</td>\n",
       "    </tr>\n",
       "    <tr>\n",
       "      <th>2</th>\n",
       "      <td>4460479</td>\n",
       "      <td>1960</td>\n",
       "      <td>None</td>\n",
       "      <td>MULTIPOLYGON (((-73.85195485799383 40.66235471...</td>\n",
       "      <td>1503360000</td>\n",
       "      <td>Constructed</td>\n",
       "      <td>581946</td>\n",
       "      <td>29.81157033</td>\n",
       "      <td>2100</td>\n",
       "      <td>10</td>\n",
       "      <td>946.42747637737</td>\n",
       "      <td>123.14194057237</td>\n",
       "      <td>4139430001</td>\n",
       "      <td>4139430001</td>\n",
       "      <td>Photogramm</td>\n",
       "    </tr>\n",
       "    <tr>\n",
       "      <th>3</th>\n",
       "      <td>3355684</td>\n",
       "      <td>1920</td>\n",
       "      <td>None</td>\n",
       "      <td>MULTIPOLYGON (((-73.94029215265738 40.64108287...</td>\n",
       "      <td>1502928000</td>\n",
       "      <td>Constructed</td>\n",
       "      <td>858061</td>\n",
       "      <td>11.2</td>\n",
       "      <td>5110</td>\n",
       "      <td>32</td>\n",
       "      <td>248.67816852809</td>\n",
       "      <td>63.94081721089</td>\n",
       "      <td>3049720006</td>\n",
       "      <td>3049720006</td>\n",
       "      <td>Photogramm</td>\n",
       "    </tr>\n",
       "    <tr>\n",
       "      <th>4</th>\n",
       "      <td>3131737</td>\n",
       "      <td>1915</td>\n",
       "      <td>None</td>\n",
       "      <td>MULTIPOLYGON (((-73.98998983552244 40.62383804...</td>\n",
       "      <td>1503360000</td>\n",
       "      <td>Constructed</td>\n",
       "      <td>568078</td>\n",
       "      <td>24.98</td>\n",
       "      <td>2100</td>\n",
       "      <td>44</td>\n",
       "      <td>1163.227668698</td>\n",
       "      <td>165.60876340496</td>\n",
       "      <td>3055100055</td>\n",
       "      <td>3055100055</td>\n",
       "      <td>Photogramm</td>\n",
       "    </tr>\n",
       "  </tbody>\n",
       "</table>\n",
       "</div>"
      ],
      "text/plain": [
       "       bin cnstrct_yr  name  \\\n",
       "0  3394646       2009  None   \n",
       "1  4548330       1930  None   \n",
       "2  4460479       1960  None   \n",
       "3  3355684       1920  None   \n",
       "4  3131737       1915  None   \n",
       "\n",
       "                                            the_geom  lstmoddate   lststatype  \\\n",
       "0  MULTIPOLYGON (((-73.87129515296562 40.65717370...  1503360000  Constructed   \n",
       "1  MULTIPOLYGON (((-73.87670970144625 40.71425234...  1502928000  Constructed   \n",
       "2  MULTIPOLYGON (((-73.85195485799383 40.66235471...  1503360000  Constructed   \n",
       "3  MULTIPOLYGON (((-73.94029215265738 40.64108287...  1502928000  Constructed   \n",
       "4  MULTIPOLYGON (((-73.98998983552244 40.62383804...  1503360000  Constructed   \n",
       "\n",
       "  doitt_id   heightroof feat_code groundelev       shape_area  \\\n",
       "0  1212853  21.60850812      2100         18  854.66243317866   \n",
       "1  1226227        10.36      5110        122  217.59424346169   \n",
       "2   581946  29.81157033      2100         10  946.42747637737   \n",
       "3   858061         11.2      5110         32  248.67816852809   \n",
       "4   568078        24.98      2100         44   1163.227668698   \n",
       "\n",
       "         shape_len    base_bbl  mpluto_bbl  geomsource  \n",
       "0   125.0797955584  3044520815  3044520815  Photogramm  \n",
       "1   60.22585821856  4030640041  4030640041  Photogramm  \n",
       "2  123.14194057237  4139430001  4139430001  Photogramm  \n",
       "3   63.94081721089  3049720006  3049720006  Photogramm  \n",
       "4  165.60876340496  3055100055  3055100055  Photogramm  "
      ]
     },
     "execution_count": 44,
     "metadata": {},
     "output_type": "execute_result"
    }
   ],
   "source": [
    "# previewing the first five rows\n",
    "building_footprints_json.head()"
   ]
  },
  {
   "cell_type": "code",
   "execution_count": 45,
   "metadata": {},
   "outputs": [
    {
     "data": {
      "text/plain": [
       "(1084829, 15)"
      ]
     },
     "execution_count": 45,
     "metadata": {},
     "output_type": "execute_result"
    }
   ],
   "source": [
    "# printing dimensions of data\n",
    "building_footprints_json.shape"
   ]
  },
  {
   "cell_type": "markdown",
   "metadata": {},
   "source": [
    "## 1.3 Reading in shapefile data"
   ]
  },
  {
   "cell_type": "markdown",
   "metadata": {},
   "source": [
    "![building_footprints_csv](images/building-footprints-shp.png)"
   ]
  },
  {
   "cell_type": "code",
   "execution_count": 46,
   "metadata": {},
   "outputs": [
    {
     "data": {
      "text/html": [
       "<div>\n",
       "<style scoped>\n",
       "    .dataframe tbody tr th:only-of-type {\n",
       "        vertical-align: middle;\n",
       "    }\n",
       "\n",
       "    .dataframe tbody tr th {\n",
       "        vertical-align: top;\n",
       "    }\n",
       "\n",
       "    .dataframe thead th {\n",
       "        text-align: right;\n",
       "    }\n",
       "</style>\n",
       "<table border=\"1\" class=\"dataframe\">\n",
       "  <thead>\n",
       "    <tr style=\"text-align: right;\">\n",
       "      <th></th>\n",
       "      <th>base_bbl</th>\n",
       "      <th>bin</th>\n",
       "      <th>cnstrct_yr</th>\n",
       "      <th>doitt_id</th>\n",
       "      <th>feat_code</th>\n",
       "      <th>geomsource</th>\n",
       "      <th>groundelev</th>\n",
       "      <th>heightroof</th>\n",
       "      <th>date_lstmo</th>\n",
       "      <th>time_lstmo</th>\n",
       "      <th>lststatype</th>\n",
       "      <th>mpluto_bbl</th>\n",
       "      <th>name</th>\n",
       "      <th>shape_area</th>\n",
       "      <th>shape_len</th>\n",
       "      <th>geometry</th>\n",
       "    </tr>\n",
       "  </thead>\n",
       "  <tbody>\n",
       "    <tr>\n",
       "      <th>0</th>\n",
       "      <td>3044520815</td>\n",
       "      <td>3394646.0</td>\n",
       "      <td>2009.0</td>\n",
       "      <td>1212853.0</td>\n",
       "      <td>2100.0</td>\n",
       "      <td>Photogramm</td>\n",
       "      <td>18.0</td>\n",
       "      <td>21.608508</td>\n",
       "      <td>2017-08-22</td>\n",
       "      <td>00:00:00.000</td>\n",
       "      <td>Constructed</td>\n",
       "      <td>3044520815</td>\n",
       "      <td>None</td>\n",
       "      <td>854.662433</td>\n",
       "      <td>125.079796</td>\n",
       "      <td>POLYGON ((-73.87130 40.65717, -73.87136 40.657...</td>\n",
       "    </tr>\n",
       "    <tr>\n",
       "      <th>1</th>\n",
       "      <td>4030640041</td>\n",
       "      <td>4548330.0</td>\n",
       "      <td>1930.0</td>\n",
       "      <td>1226227.0</td>\n",
       "      <td>5110.0</td>\n",
       "      <td>Photogramm</td>\n",
       "      <td>122.0</td>\n",
       "      <td>10.360000</td>\n",
       "      <td>2017-08-17</td>\n",
       "      <td>00:00:00.000</td>\n",
       "      <td>Constructed</td>\n",
       "      <td>4030640041</td>\n",
       "      <td>None</td>\n",
       "      <td>217.594243</td>\n",
       "      <td>60.225858</td>\n",
       "      <td>POLYGON ((-73.87671 40.71425, -73.87677 40.714...</td>\n",
       "    </tr>\n",
       "    <tr>\n",
       "      <th>2</th>\n",
       "      <td>4139430001</td>\n",
       "      <td>4460479.0</td>\n",
       "      <td>1960.0</td>\n",
       "      <td>581946.0</td>\n",
       "      <td>2100.0</td>\n",
       "      <td>Photogramm</td>\n",
       "      <td>10.0</td>\n",
       "      <td>29.811570</td>\n",
       "      <td>2017-08-22</td>\n",
       "      <td>00:00:00.000</td>\n",
       "      <td>Constructed</td>\n",
       "      <td>4139430001</td>\n",
       "      <td>None</td>\n",
       "      <td>946.427476</td>\n",
       "      <td>123.141941</td>\n",
       "      <td>POLYGON ((-73.85195 40.66235, -73.85195 40.662...</td>\n",
       "    </tr>\n",
       "    <tr>\n",
       "      <th>3</th>\n",
       "      <td>3049720006</td>\n",
       "      <td>3355684.0</td>\n",
       "      <td>1920.0</td>\n",
       "      <td>858061.0</td>\n",
       "      <td>5110.0</td>\n",
       "      <td>Photogramm</td>\n",
       "      <td>32.0</td>\n",
       "      <td>11.200000</td>\n",
       "      <td>2017-08-17</td>\n",
       "      <td>00:00:00.000</td>\n",
       "      <td>Constructed</td>\n",
       "      <td>3049720006</td>\n",
       "      <td>None</td>\n",
       "      <td>248.678169</td>\n",
       "      <td>63.940817</td>\n",
       "      <td>POLYGON ((-73.94029 40.64108, -73.94034 40.641...</td>\n",
       "    </tr>\n",
       "    <tr>\n",
       "      <th>4</th>\n",
       "      <td>3055100055</td>\n",
       "      <td>3131737.0</td>\n",
       "      <td>1915.0</td>\n",
       "      <td>568078.0</td>\n",
       "      <td>2100.0</td>\n",
       "      <td>Photogramm</td>\n",
       "      <td>44.0</td>\n",
       "      <td>24.980000</td>\n",
       "      <td>2017-08-22</td>\n",
       "      <td>00:00:00.000</td>\n",
       "      <td>Constructed</td>\n",
       "      <td>3055100055</td>\n",
       "      <td>None</td>\n",
       "      <td>1163.227669</td>\n",
       "      <td>165.608763</td>\n",
       "      <td>POLYGON ((-73.98999 40.62384, -73.98998 40.623...</td>\n",
       "    </tr>\n",
       "  </tbody>\n",
       "</table>\n",
       "</div>"
      ],
      "text/plain": [
       "     base_bbl        bin  cnstrct_yr   doitt_id  feat_code  geomsource  \\\n",
       "0  3044520815  3394646.0      2009.0  1212853.0     2100.0  Photogramm   \n",
       "1  4030640041  4548330.0      1930.0  1226227.0     5110.0  Photogramm   \n",
       "2  4139430001  4460479.0      1960.0   581946.0     2100.0  Photogramm   \n",
       "3  3049720006  3355684.0      1920.0   858061.0     5110.0  Photogramm   \n",
       "4  3055100055  3131737.0      1915.0   568078.0     2100.0  Photogramm   \n",
       "\n",
       "   groundelev  heightroof  date_lstmo    time_lstmo   lststatype  mpluto_bbl  \\\n",
       "0        18.0   21.608508  2017-08-22  00:00:00.000  Constructed  3044520815   \n",
       "1       122.0   10.360000  2017-08-17  00:00:00.000  Constructed  4030640041   \n",
       "2        10.0   29.811570  2017-08-22  00:00:00.000  Constructed  4139430001   \n",
       "3        32.0   11.200000  2017-08-17  00:00:00.000  Constructed  3049720006   \n",
       "4        44.0   24.980000  2017-08-22  00:00:00.000  Constructed  3055100055   \n",
       "\n",
       "   name   shape_area   shape_len  \\\n",
       "0  None   854.662433  125.079796   \n",
       "1  None   217.594243   60.225858   \n",
       "2  None   946.427476  123.141941   \n",
       "3  None   248.678169   63.940817   \n",
       "4  None  1163.227669  165.608763   \n",
       "\n",
       "                                            geometry  \n",
       "0  POLYGON ((-73.87130 40.65717, -73.87136 40.657...  \n",
       "1  POLYGON ((-73.87671 40.71425, -73.87677 40.714...  \n",
       "2  POLYGON ((-73.85195 40.66235, -73.85195 40.662...  \n",
       "3  POLYGON ((-73.94029 40.64108, -73.94034 40.641...  \n",
       "4  POLYGON ((-73.98999 40.62384, -73.98998 40.623...  "
      ]
     },
     "execution_count": 46,
     "metadata": {},
     "output_type": "execute_result"
    }
   ],
   "source": [
    "url = 'https://data.cityofnewyork.us/api/geospatial/nqwf-w8eh?method=export&format=Shapefile'\n",
    "\n",
    "# reading in data as a geodataframe\n",
    "building_footprints_shp = gpd.read_file(url)\n",
    "\n",
    "# printing the firt five rows\n",
    "building_footprints_shp.head()"
   ]
  },
  {
   "cell_type": "code",
   "execution_count": 47,
   "metadata": {},
   "outputs": [
    {
     "data": {
      "text/plain": [
       "(1084829, 16)"
      ]
     },
     "execution_count": 47,
     "metadata": {},
     "output_type": "execute_result"
    }
   ],
   "source": [
    "# printing dimensions of data\n",
    "building_footprints_shp.shape"
   ]
  },
  {
   "cell_type": "markdown",
   "metadata": {},
   "source": [
    "Another popular dataset is NYC's PLUTO dataset. We will use this one because it comes in a zip file.\n",
    "\n",
    "Description: Extensive land use and geographic data at the tax lot level in comma–separated values (CSV) file format. The PLUTO files contain more than seventy fields derived from data maintained by city agencies.\n",
    "\n",
    "Dataset Link: https://www1.nyc.gov/site/planning/data-maps/open-data/dwn-pluto-mappluto.page\n",
    "\n",
    "Data Dictionary: https://www1.nyc.gov/assets/planning/download/pdf/data-maps/open-data/pluto_datadictionary.pdf?v=20v1"
   ]
  },
  {
   "cell_type": "markdown",
   "metadata": {},
   "source": [
    "![building_footprints_csv](images/pluto-csv.png)"
   ]
  },
  {
   "cell_type": "markdown",
   "metadata": {},
   "source": [
    "## 1.4 Unzipping and reading in data as a csv in memory"
   ]
  },
  {
   "cell_type": "code",
   "execution_count": 48,
   "metadata": {},
   "outputs": [
    {
     "name": "stdout",
     "output_type": "stream",
     "text": [
      "File in zip: pluto_20v1.csv\n",
      "File in zip: PLUTODD20v1.pdf\n",
      "File in zip: PlutoReadme20v1.pdf\n"
     ]
    }
   ],
   "source": [
    "url = 'https://www1.nyc.gov/assets/planning/download/zip/data-maps/open-data/nyc_pluto_20v1_csv.zip'\n",
    "\n",
    "# reading in our zipfile data in-memory\n",
    "content = requests.get(url)\n",
    "zf = ZipFile(BytesIO(content.content))\n",
    "\n",
    "# printing files in our zipfile\n",
    "for item in zf.namelist():\n",
    "    print(\"File in zip: \"+ item)"
   ]
  },
  {
   "cell_type": "code",
   "execution_count": 49,
   "metadata": {},
   "outputs": [
    {
     "name": "stderr",
     "output_type": "stream",
     "text": [
      "/Users/geribauer/anaconda3/lib/python3.7/site-packages/IPython/core/interactiveshell.py:3156: DtypeWarning: Columns (17,18,20,22) have mixed types.Specify dtype option on import or set low_memory=False.\n",
      "  interactivity=interactivity, compiler=compiler, result=result)\n"
     ]
    },
    {
     "data": {
      "text/html": [
       "<div>\n",
       "<style scoped>\n",
       "    .dataframe tbody tr th:only-of-type {\n",
       "        vertical-align: middle;\n",
       "    }\n",
       "\n",
       "    .dataframe tbody tr th {\n",
       "        vertical-align: top;\n",
       "    }\n",
       "\n",
       "    .dataframe thead th {\n",
       "        text-align: right;\n",
       "    }\n",
       "</style>\n",
       "<table border=\"1\" class=\"dataframe\">\n",
       "  <thead>\n",
       "    <tr style=\"text-align: right;\">\n",
       "      <th></th>\n",
       "      <th>borough</th>\n",
       "      <th>block</th>\n",
       "      <th>lot</th>\n",
       "      <th>cd</th>\n",
       "      <th>ct2010</th>\n",
       "      <th>cb2010</th>\n",
       "      <th>schooldist</th>\n",
       "      <th>council</th>\n",
       "      <th>zipcode</th>\n",
       "      <th>firecomp</th>\n",
       "      <th>...</th>\n",
       "      <th>dcasdate</th>\n",
       "      <th>zoningdate</th>\n",
       "      <th>landmkdate</th>\n",
       "      <th>basempdate</th>\n",
       "      <th>masdate</th>\n",
       "      <th>polidate</th>\n",
       "      <th>edesigdate</th>\n",
       "      <th>geom</th>\n",
       "      <th>dcpedited</th>\n",
       "      <th>notes</th>\n",
       "    </tr>\n",
       "  </thead>\n",
       "  <tbody>\n",
       "    <tr>\n",
       "      <th>0</th>\n",
       "      <td>BK</td>\n",
       "      <td>834</td>\n",
       "      <td>46</td>\n",
       "      <td>307.0</td>\n",
       "      <td>106.0</td>\n",
       "      <td>2001.0</td>\n",
       "      <td>20.0</td>\n",
       "      <td>38.0</td>\n",
       "      <td>11220.0</td>\n",
       "      <td>L114</td>\n",
       "      <td>...</td>\n",
       "      <td>NaN</td>\n",
       "      <td>NaN</td>\n",
       "      <td>NaN</td>\n",
       "      <td>NaN</td>\n",
       "      <td>NaN</td>\n",
       "      <td>NaN</td>\n",
       "      <td>NaN</td>\n",
       "      <td>0106000020E61000000100000001030000000100000005...</td>\n",
       "      <td>NaN</td>\n",
       "      <td>NaN</td>\n",
       "    </tr>\n",
       "    <tr>\n",
       "      <th>1</th>\n",
       "      <td>QN</td>\n",
       "      <td>4042</td>\n",
       "      <td>106</td>\n",
       "      <td>407.0</td>\n",
       "      <td>929.0</td>\n",
       "      <td>3000.0</td>\n",
       "      <td>25.0</td>\n",
       "      <td>19.0</td>\n",
       "      <td>11356.0</td>\n",
       "      <td>E297</td>\n",
       "      <td>...</td>\n",
       "      <td>NaN</td>\n",
       "      <td>NaN</td>\n",
       "      <td>NaN</td>\n",
       "      <td>NaN</td>\n",
       "      <td>NaN</td>\n",
       "      <td>NaN</td>\n",
       "      <td>NaN</td>\n",
       "      <td>0106000020E61000000100000001030000000100000007...</td>\n",
       "      <td>NaN</td>\n",
       "      <td>NaN</td>\n",
       "    </tr>\n",
       "    <tr>\n",
       "      <th>2</th>\n",
       "      <td>BK</td>\n",
       "      <td>4679</td>\n",
       "      <td>17</td>\n",
       "      <td>317.0</td>\n",
       "      <td>866.0</td>\n",
       "      <td>3002.0</td>\n",
       "      <td>18.0</td>\n",
       "      <td>41.0</td>\n",
       "      <td>11203.0</td>\n",
       "      <td>L174</td>\n",
       "      <td>...</td>\n",
       "      <td>NaN</td>\n",
       "      <td>NaN</td>\n",
       "      <td>NaN</td>\n",
       "      <td>NaN</td>\n",
       "      <td>NaN</td>\n",
       "      <td>NaN</td>\n",
       "      <td>NaN</td>\n",
       "      <td>0106000020E61000000100000001030000000100000006...</td>\n",
       "      <td>NaN</td>\n",
       "      <td>NaN</td>\n",
       "    </tr>\n",
       "    <tr>\n",
       "      <th>3</th>\n",
       "      <td>BK</td>\n",
       "      <td>7831</td>\n",
       "      <td>6</td>\n",
       "      <td>318.0</td>\n",
       "      <td>676.0</td>\n",
       "      <td>1002.0</td>\n",
       "      <td>22.0</td>\n",
       "      <td>46.0</td>\n",
       "      <td>11234.0</td>\n",
       "      <td>L159</td>\n",
       "      <td>...</td>\n",
       "      <td>NaN</td>\n",
       "      <td>NaN</td>\n",
       "      <td>NaN</td>\n",
       "      <td>NaN</td>\n",
       "      <td>NaN</td>\n",
       "      <td>NaN</td>\n",
       "      <td>NaN</td>\n",
       "      <td>0106000020E61000000100000001030000000100000005...</td>\n",
       "      <td>NaN</td>\n",
       "      <td>NaN</td>\n",
       "    </tr>\n",
       "    <tr>\n",
       "      <th>4</th>\n",
       "      <td>BK</td>\n",
       "      <td>7831</td>\n",
       "      <td>7</td>\n",
       "      <td>318.0</td>\n",
       "      <td>676.0</td>\n",
       "      <td>1002.0</td>\n",
       "      <td>22.0</td>\n",
       "      <td>46.0</td>\n",
       "      <td>11234.0</td>\n",
       "      <td>L159</td>\n",
       "      <td>...</td>\n",
       "      <td>NaN</td>\n",
       "      <td>NaN</td>\n",
       "      <td>NaN</td>\n",
       "      <td>NaN</td>\n",
       "      <td>NaN</td>\n",
       "      <td>NaN</td>\n",
       "      <td>NaN</td>\n",
       "      <td>0106000020E61000000100000001030000000100000005...</td>\n",
       "      <td>NaN</td>\n",
       "      <td>NaN</td>\n",
       "    </tr>\n",
       "  </tbody>\n",
       "</table>\n",
       "<p>5 rows × 99 columns</p>\n",
       "</div>"
      ],
      "text/plain": [
       "  borough  block  lot     cd  ct2010  cb2010  schooldist  council  zipcode  \\\n",
       "0      BK    834   46  307.0   106.0  2001.0        20.0     38.0  11220.0   \n",
       "1      QN   4042  106  407.0   929.0  3000.0        25.0     19.0  11356.0   \n",
       "2      BK   4679   17  317.0   866.0  3002.0        18.0     41.0  11203.0   \n",
       "3      BK   7831    6  318.0   676.0  1002.0        22.0     46.0  11234.0   \n",
       "4      BK   7831    7  318.0   676.0  1002.0        22.0     46.0  11234.0   \n",
       "\n",
       "  firecomp  ...  dcasdate  zoningdate  landmkdate basempdate masdate polidate  \\\n",
       "0     L114  ...       NaN         NaN         NaN        NaN     NaN      NaN   \n",
       "1     E297  ...       NaN         NaN         NaN        NaN     NaN      NaN   \n",
       "2     L174  ...       NaN         NaN         NaN        NaN     NaN      NaN   \n",
       "3     L159  ...       NaN         NaN         NaN        NaN     NaN      NaN   \n",
       "4     L159  ...       NaN         NaN         NaN        NaN     NaN      NaN   \n",
       "\n",
       "  edesigdate                                               geom dcpedited  \\\n",
       "0        NaN  0106000020E61000000100000001030000000100000005...       NaN   \n",
       "1        NaN  0106000020E61000000100000001030000000100000007...       NaN   \n",
       "2        NaN  0106000020E61000000100000001030000000100000006...       NaN   \n",
       "3        NaN  0106000020E61000000100000001030000000100000005...       NaN   \n",
       "4        NaN  0106000020E61000000100000001030000000100000005...       NaN   \n",
       "\n",
       "  notes  \n",
       "0   NaN  \n",
       "1   NaN  \n",
       "2   NaN  \n",
       "3   NaN  \n",
       "4   NaN  \n",
       "\n",
       "[5 rows x 99 columns]"
      ]
     },
     "execution_count": 49,
     "metadata": {},
     "output_type": "execute_result"
    }
   ],
   "source": [
    "# read our csv data into a dataframe from our zipfile\n",
    "pluto_data = pd.read_csv(zf.open('pluto_20v1.csv'))\n",
    "\n",
    "# previewing the first five rows of data\n",
    "pluto_data.head()"
   ]
  },
  {
   "cell_type": "code",
   "execution_count": 50,
   "metadata": {},
   "outputs": [
    {
     "data": {
      "text/plain": [
       "(859172, 99)"
      ]
     },
     "execution_count": 50,
     "metadata": {},
     "output_type": "execute_result"
    }
   ],
   "source": [
    "# printing dimensions of our data\n",
    "pluto_data.shape"
   ]
  },
  {
   "cell_type": "markdown",
   "metadata": {},
   "source": [
    "## 1.5 Unzipping and reading in data as csv to local folder\n",
    "\n",
    "We will retrieve, unzip and read in data in our downloads folder."
   ]
  },
  {
   "cell_type": "code",
   "execution_count": 51,
   "metadata": {},
   "outputs": [
    {
     "data": {
      "text/plain": [
       "('../../Downloads/PLUTO.gz', <http.client.HTTPMessage at 0x1a7dc5358>)"
      ]
     },
     "execution_count": 51,
     "metadata": {},
     "output_type": "execute_result"
    }
   ],
   "source": [
    "url = 'https://www1.nyc.gov/assets/planning/download/zip/data-maps/open-data/nyc_pluto_20v1_csv.zip'\n",
    "\n",
    "# a path to our downloads folder \n",
    "downloads_path = '../../Downloads/'\n",
    "\n",
    "# a path to our file from our downloads path\n",
    "fullfilename = os.path.join(downloads_path, 'PLUTO.gz')\n",
    "\n",
    "# retrieving data \n",
    "urllib.request.urlretrieve(url, fullfilename)"
   ]
  },
  {
   "cell_type": "code",
   "execution_count": 52,
   "metadata": {},
   "outputs": [
    {
     "name": "stdout",
     "output_type": "stream",
     "text": [
      "['pluto_20v1.csv', 'PLUTODD20v1.pdf', 'PlutoReadme20v1.pdf']\n"
     ]
    }
   ],
   "source": [
    "# a path to our file from our downloads folder\n",
    "file_path = '../../Downloads/PLUTO.gz'\n",
    "\n",
    "# open zipfile and saving items in our zipfolder\n",
    "items = zipfile.ZipFile(file_path)\n",
    "\n",
    "# available files in the container\n",
    "print(items.namelist())"
   ]
  },
  {
   "cell_type": "code",
   "execution_count": 53,
   "metadata": {},
   "outputs": [],
   "source": [
    "# opening zipfile using 'with' keyword in read mode\n",
    "with zipfile.ZipFile(file_path, 'r') as file:\n",
    "    file.extractall(downloads_path)"
   ]
  },
  {
   "cell_type": "code",
   "execution_count": 54,
   "metadata": {},
   "outputs": [
    {
     "name": "stderr",
     "output_type": "stream",
     "text": [
      "/Users/geribauer/anaconda3/lib/python3.7/site-packages/IPython/core/interactiveshell.py:3156: DtypeWarning: Columns (17,18,20,22) have mixed types.Specify dtype option on import or set low_memory=False.\n",
      "  interactivity=interactivity, compiler=compiler, result=result)\n"
     ]
    }
   ],
   "source": [
    "# read our data into a dataframe from our downloads path\n",
    "pluto_data = pd.read_csv(downloads_path + 'pluto_20v1.csv')"
   ]
  },
  {
   "cell_type": "code",
   "execution_count": 55,
   "metadata": {},
   "outputs": [
    {
     "data": {
      "text/html": [
       "<div>\n",
       "<style scoped>\n",
       "    .dataframe tbody tr th:only-of-type {\n",
       "        vertical-align: middle;\n",
       "    }\n",
       "\n",
       "    .dataframe tbody tr th {\n",
       "        vertical-align: top;\n",
       "    }\n",
       "\n",
       "    .dataframe thead th {\n",
       "        text-align: right;\n",
       "    }\n",
       "</style>\n",
       "<table border=\"1\" class=\"dataframe\">\n",
       "  <thead>\n",
       "    <tr style=\"text-align: right;\">\n",
       "      <th></th>\n",
       "      <th>borough</th>\n",
       "      <th>block</th>\n",
       "      <th>lot</th>\n",
       "      <th>cd</th>\n",
       "      <th>ct2010</th>\n",
       "      <th>cb2010</th>\n",
       "      <th>schooldist</th>\n",
       "      <th>council</th>\n",
       "      <th>zipcode</th>\n",
       "      <th>firecomp</th>\n",
       "      <th>...</th>\n",
       "      <th>dcasdate</th>\n",
       "      <th>zoningdate</th>\n",
       "      <th>landmkdate</th>\n",
       "      <th>basempdate</th>\n",
       "      <th>masdate</th>\n",
       "      <th>polidate</th>\n",
       "      <th>edesigdate</th>\n",
       "      <th>geom</th>\n",
       "      <th>dcpedited</th>\n",
       "      <th>notes</th>\n",
       "    </tr>\n",
       "  </thead>\n",
       "  <tbody>\n",
       "    <tr>\n",
       "      <th>0</th>\n",
       "      <td>BK</td>\n",
       "      <td>834</td>\n",
       "      <td>46</td>\n",
       "      <td>307.0</td>\n",
       "      <td>106.0</td>\n",
       "      <td>2001.0</td>\n",
       "      <td>20.0</td>\n",
       "      <td>38.0</td>\n",
       "      <td>11220.0</td>\n",
       "      <td>L114</td>\n",
       "      <td>...</td>\n",
       "      <td>NaN</td>\n",
       "      <td>NaN</td>\n",
       "      <td>NaN</td>\n",
       "      <td>NaN</td>\n",
       "      <td>NaN</td>\n",
       "      <td>NaN</td>\n",
       "      <td>NaN</td>\n",
       "      <td>0106000020E61000000100000001030000000100000005...</td>\n",
       "      <td>NaN</td>\n",
       "      <td>NaN</td>\n",
       "    </tr>\n",
       "    <tr>\n",
       "      <th>1</th>\n",
       "      <td>QN</td>\n",
       "      <td>4042</td>\n",
       "      <td>106</td>\n",
       "      <td>407.0</td>\n",
       "      <td>929.0</td>\n",
       "      <td>3000.0</td>\n",
       "      <td>25.0</td>\n",
       "      <td>19.0</td>\n",
       "      <td>11356.0</td>\n",
       "      <td>E297</td>\n",
       "      <td>...</td>\n",
       "      <td>NaN</td>\n",
       "      <td>NaN</td>\n",
       "      <td>NaN</td>\n",
       "      <td>NaN</td>\n",
       "      <td>NaN</td>\n",
       "      <td>NaN</td>\n",
       "      <td>NaN</td>\n",
       "      <td>0106000020E61000000100000001030000000100000007...</td>\n",
       "      <td>NaN</td>\n",
       "      <td>NaN</td>\n",
       "    </tr>\n",
       "    <tr>\n",
       "      <th>2</th>\n",
       "      <td>BK</td>\n",
       "      <td>4679</td>\n",
       "      <td>17</td>\n",
       "      <td>317.0</td>\n",
       "      <td>866.0</td>\n",
       "      <td>3002.0</td>\n",
       "      <td>18.0</td>\n",
       "      <td>41.0</td>\n",
       "      <td>11203.0</td>\n",
       "      <td>L174</td>\n",
       "      <td>...</td>\n",
       "      <td>NaN</td>\n",
       "      <td>NaN</td>\n",
       "      <td>NaN</td>\n",
       "      <td>NaN</td>\n",
       "      <td>NaN</td>\n",
       "      <td>NaN</td>\n",
       "      <td>NaN</td>\n",
       "      <td>0106000020E61000000100000001030000000100000006...</td>\n",
       "      <td>NaN</td>\n",
       "      <td>NaN</td>\n",
       "    </tr>\n",
       "    <tr>\n",
       "      <th>3</th>\n",
       "      <td>BK</td>\n",
       "      <td>7831</td>\n",
       "      <td>6</td>\n",
       "      <td>318.0</td>\n",
       "      <td>676.0</td>\n",
       "      <td>1002.0</td>\n",
       "      <td>22.0</td>\n",
       "      <td>46.0</td>\n",
       "      <td>11234.0</td>\n",
       "      <td>L159</td>\n",
       "      <td>...</td>\n",
       "      <td>NaN</td>\n",
       "      <td>NaN</td>\n",
       "      <td>NaN</td>\n",
       "      <td>NaN</td>\n",
       "      <td>NaN</td>\n",
       "      <td>NaN</td>\n",
       "      <td>NaN</td>\n",
       "      <td>0106000020E61000000100000001030000000100000005...</td>\n",
       "      <td>NaN</td>\n",
       "      <td>NaN</td>\n",
       "    </tr>\n",
       "    <tr>\n",
       "      <th>4</th>\n",
       "      <td>BK</td>\n",
       "      <td>7831</td>\n",
       "      <td>7</td>\n",
       "      <td>318.0</td>\n",
       "      <td>676.0</td>\n",
       "      <td>1002.0</td>\n",
       "      <td>22.0</td>\n",
       "      <td>46.0</td>\n",
       "      <td>11234.0</td>\n",
       "      <td>L159</td>\n",
       "      <td>...</td>\n",
       "      <td>NaN</td>\n",
       "      <td>NaN</td>\n",
       "      <td>NaN</td>\n",
       "      <td>NaN</td>\n",
       "      <td>NaN</td>\n",
       "      <td>NaN</td>\n",
       "      <td>NaN</td>\n",
       "      <td>0106000020E61000000100000001030000000100000005...</td>\n",
       "      <td>NaN</td>\n",
       "      <td>NaN</td>\n",
       "    </tr>\n",
       "  </tbody>\n",
       "</table>\n",
       "<p>5 rows × 99 columns</p>\n",
       "</div>"
      ],
      "text/plain": [
       "  borough  block  lot     cd  ct2010  cb2010  schooldist  council  zipcode  \\\n",
       "0      BK    834   46  307.0   106.0  2001.0        20.0     38.0  11220.0   \n",
       "1      QN   4042  106  407.0   929.0  3000.0        25.0     19.0  11356.0   \n",
       "2      BK   4679   17  317.0   866.0  3002.0        18.0     41.0  11203.0   \n",
       "3      BK   7831    6  318.0   676.0  1002.0        22.0     46.0  11234.0   \n",
       "4      BK   7831    7  318.0   676.0  1002.0        22.0     46.0  11234.0   \n",
       "\n",
       "  firecomp  ...  dcasdate  zoningdate  landmkdate basempdate masdate polidate  \\\n",
       "0     L114  ...       NaN         NaN         NaN        NaN     NaN      NaN   \n",
       "1     E297  ...       NaN         NaN         NaN        NaN     NaN      NaN   \n",
       "2     L174  ...       NaN         NaN         NaN        NaN     NaN      NaN   \n",
       "3     L159  ...       NaN         NaN         NaN        NaN     NaN      NaN   \n",
       "4     L159  ...       NaN         NaN         NaN        NaN     NaN      NaN   \n",
       "\n",
       "  edesigdate                                               geom dcpedited  \\\n",
       "0        NaN  0106000020E61000000100000001030000000100000005...       NaN   \n",
       "1        NaN  0106000020E61000000100000001030000000100000007...       NaN   \n",
       "2        NaN  0106000020E61000000100000001030000000100000006...       NaN   \n",
       "3        NaN  0106000020E61000000100000001030000000100000005...       NaN   \n",
       "4        NaN  0106000020E61000000100000001030000000100000005...       NaN   \n",
       "\n",
       "  notes  \n",
       "0   NaN  \n",
       "1   NaN  \n",
       "2   NaN  \n",
       "3   NaN  \n",
       "4   NaN  \n",
       "\n",
       "[5 rows x 99 columns]"
      ]
     },
     "execution_count": 55,
     "metadata": {},
     "output_type": "execute_result"
    }
   ],
   "source": [
    "# previewing the first five rows in data\n",
    "pluto_data.head()"
   ]
  },
  {
   "cell_type": "code",
   "execution_count": 56,
   "metadata": {},
   "outputs": [
    {
     "data": {
      "text/plain": [
       "(859172, 99)"
      ]
     },
     "execution_count": 56,
     "metadata": {},
     "output_type": "execute_result"
    }
   ],
   "source": [
    "# printing dimensions of data \n",
    "pluto_data.shape"
   ]
  },
  {
   "cell_type": "markdown",
   "metadata": {},
   "source": [
    "## 1.6 Unzipping and reading in data as csv from local folder\n"
   ]
  },
  {
   "cell_type": "markdown",
   "metadata": {},
   "source": [
    "**Manually zipping a csv file of the first 20 rows of the data in a zipped file.**"
   ]
  },
  {
   "cell_type": "code",
   "execution_count": 57,
   "metadata": {},
   "outputs": [],
   "source": [
    "# saving first twenty rows of our data as a new csv\n",
    "building_footprints_csv.head(20).to_csv('data/sample_buildings.csv', index=False)"
   ]
  },
  {
   "cell_type": "code",
   "execution_count": 58,
   "metadata": {},
   "outputs": [],
   "source": [
    "file_path = 'data/sample-buidlings.zip'\n",
    "\n",
    "# create a zipfile\n",
    "with zipfile.ZipFile(file_path, 'w') as file:\n",
    "        # write mode overrides all the existing files in the 'Zip.'\n",
    "        # you have to create the file which you have to write to the 'Zip.'\n",
    "        file.write('data/sample_buildings.csv', basename('data/sample_buildings.csv'))"
   ]
  },
  {
   "cell_type": "code",
   "execution_count": 59,
   "metadata": {},
   "outputs": [
    {
     "name": "stdout",
     "output_type": "stream",
     "text": [
      "True\n"
     ]
    }
   ],
   "source": [
    "# seeing if a file is a zipfile\n",
    "print(zipfile.is_zipfile(file_path))"
   ]
  },
  {
   "cell_type": "code",
   "execution_count": 60,
   "metadata": {},
   "outputs": [
    {
     "name": "stdout",
     "output_type": "stream",
     "text": [
      "README.md                 building_after_2010.xlsx  \u001b[34munzipped-data\u001b[m\u001b[m/\r\n",
      "building_after_2010.csv   sample-buidlings.zip\r\n",
      "building_after_2010.json  sample_buildings.csv\r\n"
     ]
    }
   ],
   "source": [
    "# list items in this file path\n",
    "%ls data/"
   ]
  },
  {
   "cell_type": "code",
   "execution_count": 61,
   "metadata": {},
   "outputs": [
    {
     "name": "stdout",
     "output_type": "stream",
     "text": [
      "['sample_buildings.csv']\n"
     ]
    }
   ],
   "source": [
    "# save items in our zipfile\n",
    "items = zipfile.ZipFile(file_path)\n",
    "\n",
    "# available files in the container\n",
    "print(items.namelist())"
   ]
  },
  {
   "cell_type": "markdown",
   "metadata": {},
   "source": [
    "**Extracting the csv file of the data from the zipped file.**"
   ]
  },
  {
   "cell_type": "code",
   "execution_count": 62,
   "metadata": {},
   "outputs": [],
   "source": [
    "file_name = 'data/sample-buidlings.zip'\n",
    "\n",
    "# opening zip using 'with' keyword in read mode\n",
    "with zipfile.ZipFile(file_name, 'r') as file:\n",
    "    # extracing all items in our zipfile\n",
    "    file.extractall('data/unzipped-data')"
   ]
  },
  {
   "cell_type": "code",
   "execution_count": 63,
   "metadata": {},
   "outputs": [
    {
     "name": "stdout",
     "output_type": "stream",
     "text": [
      "sample_buildings.csv\r\n"
     ]
    }
   ],
   "source": [
    "# list files in this file path\n",
    "%ls data/unzipped-data/"
   ]
  },
  {
   "cell_type": "code",
   "execution_count": 64,
   "metadata": {},
   "outputs": [
    {
     "data": {
      "text/html": [
       "<div>\n",
       "<style scoped>\n",
       "    .dataframe tbody tr th:only-of-type {\n",
       "        vertical-align: middle;\n",
       "    }\n",
       "\n",
       "    .dataframe tbody tr th {\n",
       "        vertical-align: top;\n",
       "    }\n",
       "\n",
       "    .dataframe thead th {\n",
       "        text-align: right;\n",
       "    }\n",
       "</style>\n",
       "<table border=\"1\" class=\"dataframe\">\n",
       "  <thead>\n",
       "    <tr style=\"text-align: right;\">\n",
       "      <th></th>\n",
       "      <th>BIN</th>\n",
       "      <th>CNSTRCT_YR</th>\n",
       "      <th>NAME</th>\n",
       "      <th>the_geom</th>\n",
       "      <th>LSTMODDATE</th>\n",
       "      <th>LSTSTATYPE</th>\n",
       "      <th>DOITT_ID</th>\n",
       "      <th>HEIGHTROOF</th>\n",
       "      <th>FEAT_CODE</th>\n",
       "      <th>GROUNDELEV</th>\n",
       "      <th>SHAPE_AREA</th>\n",
       "      <th>SHAPE_LEN</th>\n",
       "      <th>BASE_BBL</th>\n",
       "      <th>MPLUTO_BBL</th>\n",
       "      <th>GEOMSOURCE</th>\n",
       "    </tr>\n",
       "  </thead>\n",
       "  <tbody>\n",
       "    <tr>\n",
       "      <th>0</th>\n",
       "      <td>3394646</td>\n",
       "      <td>2009.0</td>\n",
       "      <td>NaN</td>\n",
       "      <td>MULTIPOLYGON (((-73.87129515296562 40.65717370...</td>\n",
       "      <td>08/22/2017 12:00:00 AM +0000</td>\n",
       "      <td>Constructed</td>\n",
       "      <td>1212853</td>\n",
       "      <td>21.608508</td>\n",
       "      <td>2100.0</td>\n",
       "      <td>18.0</td>\n",
       "      <td>854.662433</td>\n",
       "      <td>125.079796</td>\n",
       "      <td>3.044521e+09</td>\n",
       "      <td>3.044521e+09</td>\n",
       "      <td>Photogramm</td>\n",
       "    </tr>\n",
       "    <tr>\n",
       "      <th>1</th>\n",
       "      <td>4548330</td>\n",
       "      <td>1930.0</td>\n",
       "      <td>NaN</td>\n",
       "      <td>MULTIPOLYGON (((-73.87670970144625 40.71425234...</td>\n",
       "      <td>08/17/2017 12:00:00 AM +0000</td>\n",
       "      <td>Constructed</td>\n",
       "      <td>1226227</td>\n",
       "      <td>10.360000</td>\n",
       "      <td>5110.0</td>\n",
       "      <td>122.0</td>\n",
       "      <td>217.594243</td>\n",
       "      <td>60.225858</td>\n",
       "      <td>4.030640e+09</td>\n",
       "      <td>4.030640e+09</td>\n",
       "      <td>Photogramm</td>\n",
       "    </tr>\n",
       "    <tr>\n",
       "      <th>2</th>\n",
       "      <td>4460479</td>\n",
       "      <td>1960.0</td>\n",
       "      <td>NaN</td>\n",
       "      <td>MULTIPOLYGON (((-73.85195485799383 40.66235471...</td>\n",
       "      <td>08/22/2017 12:00:00 AM +0000</td>\n",
       "      <td>Constructed</td>\n",
       "      <td>581946</td>\n",
       "      <td>29.811570</td>\n",
       "      <td>2100.0</td>\n",
       "      <td>10.0</td>\n",
       "      <td>946.427476</td>\n",
       "      <td>123.141941</td>\n",
       "      <td>4.139430e+09</td>\n",
       "      <td>4.139430e+09</td>\n",
       "      <td>Photogramm</td>\n",
       "    </tr>\n",
       "    <tr>\n",
       "      <th>3</th>\n",
       "      <td>3355684</td>\n",
       "      <td>1920.0</td>\n",
       "      <td>NaN</td>\n",
       "      <td>MULTIPOLYGON (((-73.94029215265738 40.64108287...</td>\n",
       "      <td>08/17/2017 12:00:00 AM +0000</td>\n",
       "      <td>Constructed</td>\n",
       "      <td>858061</td>\n",
       "      <td>11.200000</td>\n",
       "      <td>5110.0</td>\n",
       "      <td>32.0</td>\n",
       "      <td>248.678169</td>\n",
       "      <td>63.940817</td>\n",
       "      <td>3.049720e+09</td>\n",
       "      <td>3.049720e+09</td>\n",
       "      <td>Photogramm</td>\n",
       "    </tr>\n",
       "    <tr>\n",
       "      <th>4</th>\n",
       "      <td>3131737</td>\n",
       "      <td>1915.0</td>\n",
       "      <td>NaN</td>\n",
       "      <td>MULTIPOLYGON (((-73.98998983552244 40.62383804...</td>\n",
       "      <td>08/22/2017 12:00:00 AM +0000</td>\n",
       "      <td>Constructed</td>\n",
       "      <td>568078</td>\n",
       "      <td>24.980000</td>\n",
       "      <td>2100.0</td>\n",
       "      <td>44.0</td>\n",
       "      <td>1163.227669</td>\n",
       "      <td>165.608763</td>\n",
       "      <td>3.055100e+09</td>\n",
       "      <td>3.055100e+09</td>\n",
       "      <td>Photogramm</td>\n",
       "    </tr>\n",
       "  </tbody>\n",
       "</table>\n",
       "</div>"
      ],
      "text/plain": [
       "       BIN  CNSTRCT_YR  NAME  \\\n",
       "0  3394646      2009.0   NaN   \n",
       "1  4548330      1930.0   NaN   \n",
       "2  4460479      1960.0   NaN   \n",
       "3  3355684      1920.0   NaN   \n",
       "4  3131737      1915.0   NaN   \n",
       "\n",
       "                                            the_geom  \\\n",
       "0  MULTIPOLYGON (((-73.87129515296562 40.65717370...   \n",
       "1  MULTIPOLYGON (((-73.87670970144625 40.71425234...   \n",
       "2  MULTIPOLYGON (((-73.85195485799383 40.66235471...   \n",
       "3  MULTIPOLYGON (((-73.94029215265738 40.64108287...   \n",
       "4  MULTIPOLYGON (((-73.98998983552244 40.62383804...   \n",
       "\n",
       "                     LSTMODDATE   LSTSTATYPE  DOITT_ID  HEIGHTROOF  FEAT_CODE  \\\n",
       "0  08/22/2017 12:00:00 AM +0000  Constructed   1212853   21.608508     2100.0   \n",
       "1  08/17/2017 12:00:00 AM +0000  Constructed   1226227   10.360000     5110.0   \n",
       "2  08/22/2017 12:00:00 AM +0000  Constructed    581946   29.811570     2100.0   \n",
       "3  08/17/2017 12:00:00 AM +0000  Constructed    858061   11.200000     5110.0   \n",
       "4  08/22/2017 12:00:00 AM +0000  Constructed    568078   24.980000     2100.0   \n",
       "\n",
       "   GROUNDELEV   SHAPE_AREA   SHAPE_LEN      BASE_BBL    MPLUTO_BBL  GEOMSOURCE  \n",
       "0        18.0   854.662433  125.079796  3.044521e+09  3.044521e+09  Photogramm  \n",
       "1       122.0   217.594243   60.225858  4.030640e+09  4.030640e+09  Photogramm  \n",
       "2        10.0   946.427476  123.141941  4.139430e+09  4.139430e+09  Photogramm  \n",
       "3        32.0   248.678169   63.940817  3.049720e+09  3.049720e+09  Photogramm  \n",
       "4        44.0  1163.227669  165.608763  3.055100e+09  3.055100e+09  Photogramm  "
      ]
     },
     "execution_count": 64,
     "metadata": {},
     "output_type": "execute_result"
    }
   ],
   "source": [
    "# read data as a dataframe\n",
    "sample_buidlings = pd.read_csv('data/unzipped-data/sample_buildings.csv')\n",
    "\n",
    "# previewing first five rows of data\n",
    "sample_buidlings.head()"
   ]
  },
  {
   "cell_type": "code",
   "execution_count": 65,
   "metadata": {},
   "outputs": [
    {
     "data": {
      "text/plain": [
       "(20, 15)"
      ]
     },
     "execution_count": 65,
     "metadata": {},
     "output_type": "execute_result"
    }
   ],
   "source": [
    "# printing dimensions of data\n",
    "sample_buidlings.shape"
   ]
  },
  {
   "cell_type": "markdown",
   "metadata": {},
   "source": [
    "## 1.7 Reading in data from Socrata Open Data API (SODA)"
   ]
  },
  {
   "cell_type": "markdown",
   "metadata": {},
   "source": [
    "**Note: If you haven't signed up for an app token, there is a 1,000 rows limit.**"
   ]
  },
  {
   "cell_type": "markdown",
   "metadata": {},
   "source": [
    "![building_footprints_csv](images/building-footprints-soda-api.png)"
   ]
  },
  {
   "cell_type": "code",
   "execution_count": 66,
   "metadata": {},
   "outputs": [],
   "source": [
    "# Enter the information from those sections here\n",
    "socrata_domain = 'data.cityofnewyork.us' # nyc open data domain\n",
    "socrata_dataset_identifier = 'nabw-vbue' # building footprints dataset identifier"
   ]
  },
  {
   "cell_type": "markdown",
   "metadata": {},
   "source": [
    "Source: https://github.com/xmunoz/sodapy/blob/master/examples/basic_queries.ipynb"
   ]
  },
  {
   "cell_type": "code",
   "execution_count": 67,
   "metadata": {},
   "outputs": [
    {
     "name": "stderr",
     "output_type": "stream",
     "text": [
      "WARNING:root:Requests made without an app_token will be subject to strict throttling limits.\n"
     ]
    },
    {
     "name": "stdout",
     "output_type": "stream",
     "text": [
      "Domain: data.cityofnewyork.us\n",
      "Session: <requests.sessions.Session object at 0x1e549acc0>\n",
      "URI Prefix: https://\n"
     ]
    }
   ],
   "source": [
    "# The main class that interacts with the SODA API. Sample usage:\n",
    "    # from sodapy import Socrata\n",
    "    # client = Socrata(\"opendata.socrata.com\", None)\n",
    "client = Socrata(socrata_domain, None)\n",
    "\n",
    "print(\"Domain: {domain:}\\nSession: {session:}\\nURI Prefix: {uri_prefix:}\".format(**client.__dict__))"
   ]
  },
  {
   "cell_type": "markdown",
   "metadata": {},
   "source": [
    "We are setting the **limit** at **2,000,000 rows** (i.e. the full data set)."
   ]
  },
  {
   "cell_type": "code",
   "execution_count": 68,
   "metadata": {},
   "outputs": [
    {
     "data": {
      "text/html": [
       "<div>\n",
       "<style scoped>\n",
       "    .dataframe tbody tr th:only-of-type {\n",
       "        vertical-align: middle;\n",
       "    }\n",
       "\n",
       "    .dataframe tbody tr th {\n",
       "        vertical-align: top;\n",
       "    }\n",
       "\n",
       "    .dataframe thead th {\n",
       "        text-align: right;\n",
       "    }\n",
       "</style>\n",
       "<table border=\"1\" class=\"dataframe\">\n",
       "  <thead>\n",
       "    <tr style=\"text-align: right;\">\n",
       "      <th></th>\n",
       "      <th>bin</th>\n",
       "      <th>cnstrct_yr</th>\n",
       "      <th>the_geom</th>\n",
       "      <th>lstmoddate</th>\n",
       "      <th>lststatype</th>\n",
       "      <th>doitt_id</th>\n",
       "      <th>heightroof</th>\n",
       "      <th>feat_code</th>\n",
       "      <th>groundelev</th>\n",
       "      <th>shape_area</th>\n",
       "      <th>shape_len</th>\n",
       "      <th>base_bbl</th>\n",
       "      <th>mpluto_bbl</th>\n",
       "      <th>geomsource</th>\n",
       "    </tr>\n",
       "  </thead>\n",
       "  <tbody>\n",
       "    <tr>\n",
       "      <th>0</th>\n",
       "      <td>3394646</td>\n",
       "      <td>2009</td>\n",
       "      <td>{'type': 'MultiPolygon', 'coordinates': [[[[-7...</td>\n",
       "      <td>2017-08-22T00:00:00.000Z</td>\n",
       "      <td>Constructed</td>\n",
       "      <td>1212853</td>\n",
       "      <td>21.60850812</td>\n",
       "      <td>2100</td>\n",
       "      <td>18</td>\n",
       "      <td>854.66243317866</td>\n",
       "      <td>125.0797955584</td>\n",
       "      <td>3044520815</td>\n",
       "      <td>3044520815</td>\n",
       "      <td>Photogramm</td>\n",
       "    </tr>\n",
       "    <tr>\n",
       "      <th>1</th>\n",
       "      <td>4548330</td>\n",
       "      <td>1930</td>\n",
       "      <td>{'type': 'MultiPolygon', 'coordinates': [[[[-7...</td>\n",
       "      <td>2017-08-17T00:00:00.000Z</td>\n",
       "      <td>Constructed</td>\n",
       "      <td>1226227</td>\n",
       "      <td>10.36</td>\n",
       "      <td>5110</td>\n",
       "      <td>122</td>\n",
       "      <td>217.59424346169</td>\n",
       "      <td>60.22585821856</td>\n",
       "      <td>4030640041</td>\n",
       "      <td>4030640041</td>\n",
       "      <td>Photogramm</td>\n",
       "    </tr>\n",
       "    <tr>\n",
       "      <th>2</th>\n",
       "      <td>4460479</td>\n",
       "      <td>1960</td>\n",
       "      <td>{'type': 'MultiPolygon', 'coordinates': [[[[-7...</td>\n",
       "      <td>2017-08-22T00:00:00.000Z</td>\n",
       "      <td>Constructed</td>\n",
       "      <td>581946</td>\n",
       "      <td>29.81157033</td>\n",
       "      <td>2100</td>\n",
       "      <td>10</td>\n",
       "      <td>946.42747637737</td>\n",
       "      <td>123.14194057237</td>\n",
       "      <td>4139430001</td>\n",
       "      <td>4139430001</td>\n",
       "      <td>Photogramm</td>\n",
       "    </tr>\n",
       "    <tr>\n",
       "      <th>3</th>\n",
       "      <td>3355684</td>\n",
       "      <td>1920</td>\n",
       "      <td>{'type': 'MultiPolygon', 'coordinates': [[[[-7...</td>\n",
       "      <td>2017-08-17T00:00:00.000Z</td>\n",
       "      <td>Constructed</td>\n",
       "      <td>858061</td>\n",
       "      <td>11.2</td>\n",
       "      <td>5110</td>\n",
       "      <td>32</td>\n",
       "      <td>248.67816852809</td>\n",
       "      <td>63.94081721089</td>\n",
       "      <td>3049720006</td>\n",
       "      <td>3049720006</td>\n",
       "      <td>Photogramm</td>\n",
       "    </tr>\n",
       "    <tr>\n",
       "      <th>4</th>\n",
       "      <td>3131737</td>\n",
       "      <td>1915</td>\n",
       "      <td>{'type': 'MultiPolygon', 'coordinates': [[[[-7...</td>\n",
       "      <td>2017-08-22T00:00:00.000Z</td>\n",
       "      <td>Constructed</td>\n",
       "      <td>568078</td>\n",
       "      <td>24.98</td>\n",
       "      <td>2100</td>\n",
       "      <td>44</td>\n",
       "      <td>1163.227668698</td>\n",
       "      <td>165.60876340496</td>\n",
       "      <td>3055100055</td>\n",
       "      <td>3055100055</td>\n",
       "      <td>Photogramm</td>\n",
       "    </tr>\n",
       "  </tbody>\n",
       "</table>\n",
       "</div>"
      ],
      "text/plain": [
       "       bin cnstrct_yr                                           the_geom  \\\n",
       "0  3394646       2009  {'type': 'MultiPolygon', 'coordinates': [[[[-7...   \n",
       "1  4548330       1930  {'type': 'MultiPolygon', 'coordinates': [[[[-7...   \n",
       "2  4460479       1960  {'type': 'MultiPolygon', 'coordinates': [[[[-7...   \n",
       "3  3355684       1920  {'type': 'MultiPolygon', 'coordinates': [[[[-7...   \n",
       "4  3131737       1915  {'type': 'MultiPolygon', 'coordinates': [[[[-7...   \n",
       "\n",
       "                 lstmoddate   lststatype doitt_id   heightroof feat_code  \\\n",
       "0  2017-08-22T00:00:00.000Z  Constructed  1212853  21.60850812      2100   \n",
       "1  2017-08-17T00:00:00.000Z  Constructed  1226227        10.36      5110   \n",
       "2  2017-08-22T00:00:00.000Z  Constructed   581946  29.81157033      2100   \n",
       "3  2017-08-17T00:00:00.000Z  Constructed   858061         11.2      5110   \n",
       "4  2017-08-22T00:00:00.000Z  Constructed   568078        24.98      2100   \n",
       "\n",
       "  groundelev       shape_area        shape_len    base_bbl  mpluto_bbl  \\\n",
       "0         18  854.66243317866   125.0797955584  3044520815  3044520815   \n",
       "1        122  217.59424346169   60.22585821856  4030640041  4030640041   \n",
       "2         10  946.42747637737  123.14194057237  4139430001  4139430001   \n",
       "3         32  248.67816852809   63.94081721089  3049720006  3049720006   \n",
       "4         44   1163.227668698  165.60876340496  3055100055  3055100055   \n",
       "\n",
       "   geomsource  \n",
       "0  Photogramm  \n",
       "1  Photogramm  \n",
       "2  Photogramm  \n",
       "3  Photogramm  \n",
       "4  Photogramm  "
      ]
     },
     "execution_count": 68,
     "metadata": {},
     "output_type": "execute_result"
    }
   ],
   "source": [
    "# retrieving data as a dictionary \n",
    "results = client.get(socrata_dataset_identifier, limit=1000)\n",
    "\n",
    "# creating a dataframe from our dictionary\n",
    "building_footprints_soda_api = pd.DataFrame.from_dict(results)\n",
    "\n",
    "# printing first five rows of data\n",
    "building_footprints_soda_api.head()"
   ]
  },
  {
   "cell_type": "code",
   "execution_count": 69,
   "metadata": {},
   "outputs": [
    {
     "data": {
      "text/plain": [
       "(1000, 14)"
      ]
     },
     "execution_count": 69,
     "metadata": {},
     "output_type": "execute_result"
    }
   ],
   "source": [
    "# printing dimensions of our data\n",
    "building_footprints_soda_api.shape"
   ]
  },
  {
   "cell_type": "code",
   "execution_count": 70,
   "metadata": {},
   "outputs": [],
   "source": [
    "# ending our API request\n",
    "client.close()"
   ]
  },
  {
   "cell_type": "markdown",
   "metadata": {},
   "source": [
    "**Useful resources:**\n",
    "    \n",
    "API Docs: https://dev.socrata.com/foundry/data.cityofnewyork.us/i62d-kjv8\n",
    "\n",
    "Sign up for app token: https://data.cityofnewyork.us/profile/edit/developer_settings\n",
    "\n",
    "Python client for the Socrata Open Data API: https://github.com/xmunoz/sodapy\n",
    "\n",
    "Examples: https://github.com/xmunoz/sodapy/tree/master/examples"
   ]
  },
  {
   "cell_type": "markdown",
   "metadata": {},
   "source": [
    "# 2. Writing Out Data"
   ]
  },
  {
   "cell_type": "markdown",
   "metadata": {},
   "source": [
    "### For simplicity, we're only exporting buildings built from 2010 to 2020"
   ]
  },
  {
   "cell_type": "code",
   "execution_count": 71,
   "metadata": {},
   "outputs": [],
   "source": [
    "# saving only buildings built between 2010 and 2020 as a new dataframe\n",
    "building_footprints_after_2010 = building_footprints_csv[building_footprints_csv['CNSTRCT_YR'].between(2010, 2020)]\n",
    "\n",
    "# reset our index\n",
    "building_footprints_after_2010.reset_index(drop=True, inplace=True)"
   ]
  },
  {
   "cell_type": "code",
   "execution_count": 72,
   "metadata": {},
   "outputs": [
    {
     "data": {
      "text/html": [
       "<div>\n",
       "<style scoped>\n",
       "    .dataframe tbody tr th:only-of-type {\n",
       "        vertical-align: middle;\n",
       "    }\n",
       "\n",
       "    .dataframe tbody tr th {\n",
       "        vertical-align: top;\n",
       "    }\n",
       "\n",
       "    .dataframe thead th {\n",
       "        text-align: right;\n",
       "    }\n",
       "</style>\n",
       "<table border=\"1\" class=\"dataframe\">\n",
       "  <thead>\n",
       "    <tr style=\"text-align: right;\">\n",
       "      <th></th>\n",
       "      <th>BIN</th>\n",
       "      <th>CNSTRCT_YR</th>\n",
       "      <th>NAME</th>\n",
       "      <th>the_geom</th>\n",
       "      <th>LSTMODDATE</th>\n",
       "      <th>LSTSTATYPE</th>\n",
       "      <th>DOITT_ID</th>\n",
       "      <th>HEIGHTROOF</th>\n",
       "      <th>FEAT_CODE</th>\n",
       "      <th>GROUNDELEV</th>\n",
       "      <th>SHAPE_AREA</th>\n",
       "      <th>SHAPE_LEN</th>\n",
       "      <th>BASE_BBL</th>\n",
       "      <th>MPLUTO_BBL</th>\n",
       "      <th>GEOMSOURCE</th>\n",
       "    </tr>\n",
       "  </thead>\n",
       "  <tbody>\n",
       "    <tr>\n",
       "      <th>0</th>\n",
       "      <td>1022662</td>\n",
       "      <td>2013.0</td>\n",
       "      <td>NaN</td>\n",
       "      <td>MULTIPOLYGON (((-73.98406915139554 40.75857096...</td>\n",
       "      <td>08/22/2017 12:00:00 AM +0000</td>\n",
       "      <td>Constructed</td>\n",
       "      <td>633694</td>\n",
       "      <td>76.930000</td>\n",
       "      <td>2100.0</td>\n",
       "      <td>49.0</td>\n",
       "      <td>2129.626843</td>\n",
       "      <td>243.381095</td>\n",
       "      <td>1.009990e+09</td>\n",
       "      <td>1.009990e+09</td>\n",
       "      <td>Photogramm</td>\n",
       "    </tr>\n",
       "    <tr>\n",
       "      <th>1</th>\n",
       "      <td>3394834</td>\n",
       "      <td>2011.0</td>\n",
       "      <td>NaN</td>\n",
       "      <td>MULTIPOLYGON (((-73.87172426474349 40.65519420...</td>\n",
       "      <td>08/22/2017 12:00:00 AM +0000</td>\n",
       "      <td>Constructed</td>\n",
       "      <td>1250314</td>\n",
       "      <td>26.000000</td>\n",
       "      <td>2100.0</td>\n",
       "      <td>15.0</td>\n",
       "      <td>824.676621</td>\n",
       "      <td>123.730327</td>\n",
       "      <td>3.044521e+09</td>\n",
       "      <td>3.044521e+09</td>\n",
       "      <td>Other (Man</td>\n",
       "    </tr>\n",
       "    <tr>\n",
       "      <th>2</th>\n",
       "      <td>4540159</td>\n",
       "      <td>2010.0</td>\n",
       "      <td>NaN</td>\n",
       "      <td>MULTIPOLYGON (((-73.86650099829305 40.74236058...</td>\n",
       "      <td>08/22/2017 12:00:00 AM +0000</td>\n",
       "      <td>Constructed</td>\n",
       "      <td>201366</td>\n",
       "      <td>28.000000</td>\n",
       "      <td>2100.0</td>\n",
       "      <td>37.0</td>\n",
       "      <td>1096.707403</td>\n",
       "      <td>151.189034</td>\n",
       "      <td>4.018780e+09</td>\n",
       "      <td>4.018780e+09</td>\n",
       "      <td>Other (Man</td>\n",
       "    </tr>\n",
       "    <tr>\n",
       "      <th>3</th>\n",
       "      <td>4260357</td>\n",
       "      <td>2010.0</td>\n",
       "      <td>NaN</td>\n",
       "      <td>MULTIPOLYGON (((-73.7940773567428 40.680625171...</td>\n",
       "      <td>08/10/2017 12:00:00 AM +0000</td>\n",
       "      <td>Constructed</td>\n",
       "      <td>1184712</td>\n",
       "      <td>29.000000</td>\n",
       "      <td>2100.0</td>\n",
       "      <td>20.0</td>\n",
       "      <td>1423.444173</td>\n",
       "      <td>160.359763</td>\n",
       "      <td>4.120060e+09</td>\n",
       "      <td>4.120060e+09</td>\n",
       "      <td>Other (Man</td>\n",
       "    </tr>\n",
       "    <tr>\n",
       "      <th>4</th>\n",
       "      <td>4540051</td>\n",
       "      <td>2010.0</td>\n",
       "      <td>NaN</td>\n",
       "      <td>MULTIPOLYGON (((-73.87805078807256 40.71475698...</td>\n",
       "      <td>08/22/2017 12:00:00 AM +0000</td>\n",
       "      <td>Constructed</td>\n",
       "      <td>1171655</td>\n",
       "      <td>28.330225</td>\n",
       "      <td>2100.0</td>\n",
       "      <td>112.0</td>\n",
       "      <td>1314.301079</td>\n",
       "      <td>164.150193</td>\n",
       "      <td>4.030600e+09</td>\n",
       "      <td>4.030600e+09</td>\n",
       "      <td>Photogramm</td>\n",
       "    </tr>\n",
       "  </tbody>\n",
       "</table>\n",
       "</div>"
      ],
      "text/plain": [
       "       BIN  CNSTRCT_YR NAME  \\\n",
       "0  1022662      2013.0  NaN   \n",
       "1  3394834      2011.0  NaN   \n",
       "2  4540159      2010.0  NaN   \n",
       "3  4260357      2010.0  NaN   \n",
       "4  4540051      2010.0  NaN   \n",
       "\n",
       "                                            the_geom  \\\n",
       "0  MULTIPOLYGON (((-73.98406915139554 40.75857096...   \n",
       "1  MULTIPOLYGON (((-73.87172426474349 40.65519420...   \n",
       "2  MULTIPOLYGON (((-73.86650099829305 40.74236058...   \n",
       "3  MULTIPOLYGON (((-73.7940773567428 40.680625171...   \n",
       "4  MULTIPOLYGON (((-73.87805078807256 40.71475698...   \n",
       "\n",
       "                     LSTMODDATE   LSTSTATYPE  DOITT_ID  HEIGHTROOF  FEAT_CODE  \\\n",
       "0  08/22/2017 12:00:00 AM +0000  Constructed    633694   76.930000     2100.0   \n",
       "1  08/22/2017 12:00:00 AM +0000  Constructed   1250314   26.000000     2100.0   \n",
       "2  08/22/2017 12:00:00 AM +0000  Constructed    201366   28.000000     2100.0   \n",
       "3  08/10/2017 12:00:00 AM +0000  Constructed   1184712   29.000000     2100.0   \n",
       "4  08/22/2017 12:00:00 AM +0000  Constructed   1171655   28.330225     2100.0   \n",
       "\n",
       "   GROUNDELEV   SHAPE_AREA   SHAPE_LEN      BASE_BBL    MPLUTO_BBL  GEOMSOURCE  \n",
       "0        49.0  2129.626843  243.381095  1.009990e+09  1.009990e+09  Photogramm  \n",
       "1        15.0   824.676621  123.730327  3.044521e+09  3.044521e+09  Other (Man  \n",
       "2        37.0  1096.707403  151.189034  4.018780e+09  4.018780e+09  Other (Man  \n",
       "3        20.0  1423.444173  160.359763  4.120060e+09  4.120060e+09  Other (Man  \n",
       "4       112.0  1314.301079  164.150193  4.030600e+09  4.030600e+09  Photogramm  "
      ]
     },
     "execution_count": 72,
     "metadata": {},
     "output_type": "execute_result"
    }
   ],
   "source": [
    "# previewing first five rows of data\n",
    "building_footprints_after_2010.head()"
   ]
  },
  {
   "cell_type": "code",
   "execution_count": 73,
   "metadata": {},
   "outputs": [
    {
     "data": {
      "text/plain": [
       "(14553, 15)"
      ]
     },
     "execution_count": 73,
     "metadata": {},
     "output_type": "execute_result"
    }
   ],
   "source": [
    "# printing dimensions of our data\n",
    "building_footprints_after_2010.shape"
   ]
  },
  {
   "cell_type": "code",
   "execution_count": 74,
   "metadata": {},
   "outputs": [
    {
     "data": {
      "text/plain": [
       "array([2010., 2011., 2012., 2013., 2014., 2015., 2016., 2017., 2018.,\n",
       "       2019., 2020.])"
      ]
     },
     "execution_count": 74,
     "metadata": {},
     "output_type": "execute_result"
    }
   ],
   "source": [
    "# display float types as two decimals\n",
    "pd.set_option('display.float_format', lambda x: '%.2f' % x)\n",
    "\n",
    "# sorting our construction year values and printing the unique values\n",
    "building_footprints_after_2010.sort_values(by='CNSTRCT_YR').CNSTRCT_YR.unique()"
   ]
  },
  {
   "cell_type": "code",
   "execution_count": 75,
   "metadata": {},
   "outputs": [
    {
     "name": "stdout",
     "output_type": "stream",
     "text": [
      "README.md                 building_after_2010.xlsx  \u001b[34munzipped-data\u001b[m\u001b[m/\r\n",
      "building_after_2010.csv   sample-buidlings.zip\r\n",
      "building_after_2010.json  sample_buildings.csv\r\n"
     ]
    }
   ],
   "source": [
    "# list items in data folder\n",
    "%ls data/"
   ]
  },
  {
   "cell_type": "markdown",
   "metadata": {},
   "source": [
    "## 2.1 Writing to a CSV file"
   ]
  },
  {
   "cell_type": "code",
   "execution_count": 76,
   "metadata": {},
   "outputs": [
    {
     "name": "stdout",
     "output_type": "stream",
     "text": [
      "README.md                 building_after_2010.xlsx  \u001b[34munzipped-data\u001b[m\u001b[m/\r\n",
      "building_after_2010.csv   sample-buidlings.zip\r\n",
      "building_after_2010.json  sample_buildings.csv\r\n"
     ]
    }
   ],
   "source": [
    "# writing files as a csv\n",
    "building_footprints_after_2010.to_csv('data/building_after_2010.csv', index=False)\n",
    "\n",
    "# listing items in data folder\n",
    "%ls data/"
   ]
  },
  {
   "cell_type": "markdown",
   "metadata": {},
   "source": [
    "## 2.2 Writing to an Excel (xlsx) file"
   ]
  },
  {
   "cell_type": "code",
   "execution_count": 77,
   "metadata": {},
   "outputs": [
    {
     "name": "stdout",
     "output_type": "stream",
     "text": [
      "README.md                 building_after_2010.xlsx  \u001b[34munzipped-data\u001b[m\u001b[m/\r\n",
      "building_after_2010.csv   sample-buidlings.zip\r\n",
      "building_after_2010.json  sample_buildings.csv\r\n"
     ]
    }
   ],
   "source": [
    "# writing files as an excel file\n",
    "building_footprints_after_2010.to_excel('data/building_after_2010.xlsx', index=False)\n",
    "\n",
    "# listing items in data folder\n",
    "%ls data/"
   ]
  },
  {
   "cell_type": "markdown",
   "metadata": {},
   "source": [
    "## 2.3 Writing to a JSON file"
   ]
  },
  {
   "cell_type": "code",
   "execution_count": 78,
   "metadata": {},
   "outputs": [
    {
     "name": "stdout",
     "output_type": "stream",
     "text": [
      "README.md                 building_after_2010.xlsx  \u001b[34munzipped-data\u001b[m\u001b[m/\r\n",
      "building_after_2010.csv   sample-buidlings.zip\r\n",
      "building_after_2010.json  sample_buildings.csv\r\n"
     ]
    }
   ],
   "source": [
    "# writing files as json\n",
    "building_footprints_after_2010.to_json('data/building_after_2010.json')\n",
    "\n",
    "# listing items in data folder\n",
    "%ls data/"
   ]
  },
  {
   "cell_type": "markdown",
   "metadata": {},
   "source": [
    "# 3. Reading In Data from Local Folder"
   ]
  },
  {
   "cell_type": "code",
   "execution_count": 79,
   "metadata": {},
   "outputs": [
    {
     "name": "stdout",
     "output_type": "stream",
     "text": [
      "README.md                 building_after_2010.xlsx  \u001b[34munzipped-data\u001b[m\u001b[m/\r\n",
      "building_after_2010.csv   sample-buidlings.zip\r\n",
      "building_after_2010.json  sample_buildings.csv\r\n"
     ]
    }
   ],
   "source": [
    "# listing items in data folder\n",
    "%ls data/"
   ]
  },
  {
   "cell_type": "markdown",
   "metadata": {},
   "source": [
    "## 3.1 Reading in a CSV file"
   ]
  },
  {
   "cell_type": "code",
   "execution_count": 80,
   "metadata": {},
   "outputs": [
    {
     "data": {
      "text/html": [
       "<div>\n",
       "<style scoped>\n",
       "    .dataframe tbody tr th:only-of-type {\n",
       "        vertical-align: middle;\n",
       "    }\n",
       "\n",
       "    .dataframe tbody tr th {\n",
       "        vertical-align: top;\n",
       "    }\n",
       "\n",
       "    .dataframe thead th {\n",
       "        text-align: right;\n",
       "    }\n",
       "</style>\n",
       "<table border=\"1\" class=\"dataframe\">\n",
       "  <thead>\n",
       "    <tr style=\"text-align: right;\">\n",
       "      <th></th>\n",
       "      <th>BIN</th>\n",
       "      <th>CNSTRCT_YR</th>\n",
       "      <th>NAME</th>\n",
       "      <th>the_geom</th>\n",
       "      <th>LSTMODDATE</th>\n",
       "      <th>LSTSTATYPE</th>\n",
       "      <th>DOITT_ID</th>\n",
       "      <th>HEIGHTROOF</th>\n",
       "      <th>FEAT_CODE</th>\n",
       "      <th>GROUNDELEV</th>\n",
       "      <th>SHAPE_AREA</th>\n",
       "      <th>SHAPE_LEN</th>\n",
       "      <th>BASE_BBL</th>\n",
       "      <th>MPLUTO_BBL</th>\n",
       "      <th>GEOMSOURCE</th>\n",
       "    </tr>\n",
       "  </thead>\n",
       "  <tbody>\n",
       "    <tr>\n",
       "      <th>0</th>\n",
       "      <td>1022662</td>\n",
       "      <td>2013.00</td>\n",
       "      <td>NaN</td>\n",
       "      <td>MULTIPOLYGON (((-73.98406915139554 40.75857096...</td>\n",
       "      <td>08/22/2017 12:00:00 AM +0000</td>\n",
       "      <td>Constructed</td>\n",
       "      <td>633694</td>\n",
       "      <td>76.93</td>\n",
       "      <td>2100.00</td>\n",
       "      <td>49.00</td>\n",
       "      <td>2129.63</td>\n",
       "      <td>243.38</td>\n",
       "      <td>1009990008.00</td>\n",
       "      <td>1009990008.00</td>\n",
       "      <td>Photogramm</td>\n",
       "    </tr>\n",
       "    <tr>\n",
       "      <th>1</th>\n",
       "      <td>3394834</td>\n",
       "      <td>2011.00</td>\n",
       "      <td>NaN</td>\n",
       "      <td>MULTIPOLYGON (((-73.87172426474349 40.65519420...</td>\n",
       "      <td>08/22/2017 12:00:00 AM +0000</td>\n",
       "      <td>Constructed</td>\n",
       "      <td>1250314</td>\n",
       "      <td>26.00</td>\n",
       "      <td>2100.00</td>\n",
       "      <td>15.00</td>\n",
       "      <td>824.68</td>\n",
       "      <td>123.73</td>\n",
       "      <td>3044520924.00</td>\n",
       "      <td>3044520924.00</td>\n",
       "      <td>Other (Man</td>\n",
       "    </tr>\n",
       "    <tr>\n",
       "      <th>2</th>\n",
       "      <td>4540159</td>\n",
       "      <td>2010.00</td>\n",
       "      <td>NaN</td>\n",
       "      <td>MULTIPOLYGON (((-73.86650099829305 40.74236058...</td>\n",
       "      <td>08/22/2017 12:00:00 AM +0000</td>\n",
       "      <td>Constructed</td>\n",
       "      <td>201366</td>\n",
       "      <td>28.00</td>\n",
       "      <td>2100.00</td>\n",
       "      <td>37.00</td>\n",
       "      <td>1096.71</td>\n",
       "      <td>151.19</td>\n",
       "      <td>4018780115.00</td>\n",
       "      <td>4018780115.00</td>\n",
       "      <td>Other (Man</td>\n",
       "    </tr>\n",
       "    <tr>\n",
       "      <th>3</th>\n",
       "      <td>4260357</td>\n",
       "      <td>2010.00</td>\n",
       "      <td>NaN</td>\n",
       "      <td>MULTIPOLYGON (((-73.7940773567428 40.680625171...</td>\n",
       "      <td>08/10/2017 12:00:00 AM +0000</td>\n",
       "      <td>Constructed</td>\n",
       "      <td>1184712</td>\n",
       "      <td>29.00</td>\n",
       "      <td>2100.00</td>\n",
       "      <td>20.00</td>\n",
       "      <td>1423.44</td>\n",
       "      <td>160.36</td>\n",
       "      <td>4120060029.00</td>\n",
       "      <td>4120060029.00</td>\n",
       "      <td>Other (Man</td>\n",
       "    </tr>\n",
       "    <tr>\n",
       "      <th>4</th>\n",
       "      <td>4540051</td>\n",
       "      <td>2010.00</td>\n",
       "      <td>NaN</td>\n",
       "      <td>MULTIPOLYGON (((-73.87805078807256 40.71475698...</td>\n",
       "      <td>08/22/2017 12:00:00 AM +0000</td>\n",
       "      <td>Constructed</td>\n",
       "      <td>1171655</td>\n",
       "      <td>28.33</td>\n",
       "      <td>2100.00</td>\n",
       "      <td>112.00</td>\n",
       "      <td>1314.30</td>\n",
       "      <td>164.15</td>\n",
       "      <td>4030600139.00</td>\n",
       "      <td>4030600139.00</td>\n",
       "      <td>Photogramm</td>\n",
       "    </tr>\n",
       "  </tbody>\n",
       "</table>\n",
       "</div>"
      ],
      "text/plain": [
       "       BIN  CNSTRCT_YR NAME  \\\n",
       "0  1022662     2013.00  NaN   \n",
       "1  3394834     2011.00  NaN   \n",
       "2  4540159     2010.00  NaN   \n",
       "3  4260357     2010.00  NaN   \n",
       "4  4540051     2010.00  NaN   \n",
       "\n",
       "                                            the_geom  \\\n",
       "0  MULTIPOLYGON (((-73.98406915139554 40.75857096...   \n",
       "1  MULTIPOLYGON (((-73.87172426474349 40.65519420...   \n",
       "2  MULTIPOLYGON (((-73.86650099829305 40.74236058...   \n",
       "3  MULTIPOLYGON (((-73.7940773567428 40.680625171...   \n",
       "4  MULTIPOLYGON (((-73.87805078807256 40.71475698...   \n",
       "\n",
       "                     LSTMODDATE   LSTSTATYPE  DOITT_ID  HEIGHTROOF  FEAT_CODE  \\\n",
       "0  08/22/2017 12:00:00 AM +0000  Constructed    633694       76.93    2100.00   \n",
       "1  08/22/2017 12:00:00 AM +0000  Constructed   1250314       26.00    2100.00   \n",
       "2  08/22/2017 12:00:00 AM +0000  Constructed    201366       28.00    2100.00   \n",
       "3  08/10/2017 12:00:00 AM +0000  Constructed   1184712       29.00    2100.00   \n",
       "4  08/22/2017 12:00:00 AM +0000  Constructed   1171655       28.33    2100.00   \n",
       "\n",
       "   GROUNDELEV  SHAPE_AREA  SHAPE_LEN      BASE_BBL    MPLUTO_BBL  GEOMSOURCE  \n",
       "0       49.00     2129.63     243.38 1009990008.00 1009990008.00  Photogramm  \n",
       "1       15.00      824.68     123.73 3044520924.00 3044520924.00  Other (Man  \n",
       "2       37.00     1096.71     151.19 4018780115.00 4018780115.00  Other (Man  \n",
       "3       20.00     1423.44     160.36 4120060029.00 4120060029.00  Other (Man  \n",
       "4      112.00     1314.30     164.15 4030600139.00 4030600139.00  Photogramm  "
      ]
     },
     "execution_count": 80,
     "metadata": {},
     "output_type": "execute_result"
    }
   ],
   "source": [
    "# read data as a dataframe\n",
    "building_footprints_after_2010 = pd.read_csv('data/building_after_2010.csv')\n",
    "\n",
    "# previewing first five rows in data\n",
    "building_footprints_after_2010.head()"
   ]
  },
  {
   "cell_type": "code",
   "execution_count": 81,
   "metadata": {},
   "outputs": [
    {
     "data": {
      "text/plain": [
       "(14553, 15)"
      ]
     },
     "execution_count": 81,
     "metadata": {},
     "output_type": "execute_result"
    }
   ],
   "source": [
    "# printing dimensions of data\n",
    "building_footprints_after_2010.shape"
   ]
  },
  {
   "cell_type": "markdown",
   "metadata": {},
   "source": [
    "## 3.2 Reading in an Excel file"
   ]
  },
  {
   "cell_type": "code",
   "execution_count": 82,
   "metadata": {},
   "outputs": [
    {
     "data": {
      "text/html": [
       "<div>\n",
       "<style scoped>\n",
       "    .dataframe tbody tr th:only-of-type {\n",
       "        vertical-align: middle;\n",
       "    }\n",
       "\n",
       "    .dataframe tbody tr th {\n",
       "        vertical-align: top;\n",
       "    }\n",
       "\n",
       "    .dataframe thead th {\n",
       "        text-align: right;\n",
       "    }\n",
       "</style>\n",
       "<table border=\"1\" class=\"dataframe\">\n",
       "  <thead>\n",
       "    <tr style=\"text-align: right;\">\n",
       "      <th></th>\n",
       "      <th>BIN</th>\n",
       "      <th>CNSTRCT_YR</th>\n",
       "      <th>NAME</th>\n",
       "      <th>the_geom</th>\n",
       "      <th>LSTMODDATE</th>\n",
       "      <th>LSTSTATYPE</th>\n",
       "      <th>DOITT_ID</th>\n",
       "      <th>HEIGHTROOF</th>\n",
       "      <th>FEAT_CODE</th>\n",
       "      <th>GROUNDELEV</th>\n",
       "      <th>SHAPE_AREA</th>\n",
       "      <th>SHAPE_LEN</th>\n",
       "      <th>BASE_BBL</th>\n",
       "      <th>MPLUTO_BBL</th>\n",
       "      <th>GEOMSOURCE</th>\n",
       "    </tr>\n",
       "  </thead>\n",
       "  <tbody>\n",
       "    <tr>\n",
       "      <th>0</th>\n",
       "      <td>1022662</td>\n",
       "      <td>2013</td>\n",
       "      <td>NaN</td>\n",
       "      <td>MULTIPOLYGON (((-73.98406915139554 40.75857096...</td>\n",
       "      <td>08/22/2017 12:00:00 AM +0000</td>\n",
       "      <td>Constructed</td>\n",
       "      <td>633694</td>\n",
       "      <td>76.93</td>\n",
       "      <td>2100.00</td>\n",
       "      <td>49.00</td>\n",
       "      <td>2129.63</td>\n",
       "      <td>243.38</td>\n",
       "      <td>1009990008.00</td>\n",
       "      <td>1009990008.00</td>\n",
       "      <td>Photogramm</td>\n",
       "    </tr>\n",
       "    <tr>\n",
       "      <th>1</th>\n",
       "      <td>3394834</td>\n",
       "      <td>2011</td>\n",
       "      <td>NaN</td>\n",
       "      <td>MULTIPOLYGON (((-73.87172426474349 40.65519420...</td>\n",
       "      <td>08/22/2017 12:00:00 AM +0000</td>\n",
       "      <td>Constructed</td>\n",
       "      <td>1250314</td>\n",
       "      <td>26.00</td>\n",
       "      <td>2100.00</td>\n",
       "      <td>15.00</td>\n",
       "      <td>824.68</td>\n",
       "      <td>123.73</td>\n",
       "      <td>3044520924.00</td>\n",
       "      <td>3044520924.00</td>\n",
       "      <td>Other (Man</td>\n",
       "    </tr>\n",
       "    <tr>\n",
       "      <th>2</th>\n",
       "      <td>4540159</td>\n",
       "      <td>2010</td>\n",
       "      <td>NaN</td>\n",
       "      <td>MULTIPOLYGON (((-73.86650099829305 40.74236058...</td>\n",
       "      <td>08/22/2017 12:00:00 AM +0000</td>\n",
       "      <td>Constructed</td>\n",
       "      <td>201366</td>\n",
       "      <td>28.00</td>\n",
       "      <td>2100.00</td>\n",
       "      <td>37.00</td>\n",
       "      <td>1096.71</td>\n",
       "      <td>151.19</td>\n",
       "      <td>4018780115.00</td>\n",
       "      <td>4018780115.00</td>\n",
       "      <td>Other (Man</td>\n",
       "    </tr>\n",
       "    <tr>\n",
       "      <th>3</th>\n",
       "      <td>4260357</td>\n",
       "      <td>2010</td>\n",
       "      <td>NaN</td>\n",
       "      <td>MULTIPOLYGON (((-73.7940773567428 40.680625171...</td>\n",
       "      <td>08/10/2017 12:00:00 AM +0000</td>\n",
       "      <td>Constructed</td>\n",
       "      <td>1184712</td>\n",
       "      <td>29.00</td>\n",
       "      <td>2100.00</td>\n",
       "      <td>20.00</td>\n",
       "      <td>1423.44</td>\n",
       "      <td>160.36</td>\n",
       "      <td>4120060029.00</td>\n",
       "      <td>4120060029.00</td>\n",
       "      <td>Other (Man</td>\n",
       "    </tr>\n",
       "    <tr>\n",
       "      <th>4</th>\n",
       "      <td>4540051</td>\n",
       "      <td>2010</td>\n",
       "      <td>NaN</td>\n",
       "      <td>MULTIPOLYGON (((-73.87805078807256 40.71475698...</td>\n",
       "      <td>08/22/2017 12:00:00 AM +0000</td>\n",
       "      <td>Constructed</td>\n",
       "      <td>1171655</td>\n",
       "      <td>28.33</td>\n",
       "      <td>2100.00</td>\n",
       "      <td>112.00</td>\n",
       "      <td>1314.30</td>\n",
       "      <td>164.15</td>\n",
       "      <td>4030600139.00</td>\n",
       "      <td>4030600139.00</td>\n",
       "      <td>Photogramm</td>\n",
       "    </tr>\n",
       "  </tbody>\n",
       "</table>\n",
       "</div>"
      ],
      "text/plain": [
       "       BIN  CNSTRCT_YR NAME  \\\n",
       "0  1022662        2013  NaN   \n",
       "1  3394834        2011  NaN   \n",
       "2  4540159        2010  NaN   \n",
       "3  4260357        2010  NaN   \n",
       "4  4540051        2010  NaN   \n",
       "\n",
       "                                            the_geom  \\\n",
       "0  MULTIPOLYGON (((-73.98406915139554 40.75857096...   \n",
       "1  MULTIPOLYGON (((-73.87172426474349 40.65519420...   \n",
       "2  MULTIPOLYGON (((-73.86650099829305 40.74236058...   \n",
       "3  MULTIPOLYGON (((-73.7940773567428 40.680625171...   \n",
       "4  MULTIPOLYGON (((-73.87805078807256 40.71475698...   \n",
       "\n",
       "                     LSTMODDATE   LSTSTATYPE  DOITT_ID  HEIGHTROOF  FEAT_CODE  \\\n",
       "0  08/22/2017 12:00:00 AM +0000  Constructed    633694       76.93    2100.00   \n",
       "1  08/22/2017 12:00:00 AM +0000  Constructed   1250314       26.00    2100.00   \n",
       "2  08/22/2017 12:00:00 AM +0000  Constructed    201366       28.00    2100.00   \n",
       "3  08/10/2017 12:00:00 AM +0000  Constructed   1184712       29.00    2100.00   \n",
       "4  08/22/2017 12:00:00 AM +0000  Constructed   1171655       28.33    2100.00   \n",
       "\n",
       "   GROUNDELEV  SHAPE_AREA  SHAPE_LEN      BASE_BBL    MPLUTO_BBL  GEOMSOURCE  \n",
       "0       49.00     2129.63     243.38 1009990008.00 1009990008.00  Photogramm  \n",
       "1       15.00      824.68     123.73 3044520924.00 3044520924.00  Other (Man  \n",
       "2       37.00     1096.71     151.19 4018780115.00 4018780115.00  Other (Man  \n",
       "3       20.00     1423.44     160.36 4120060029.00 4120060029.00  Other (Man  \n",
       "4      112.00     1314.30     164.15 4030600139.00 4030600139.00  Photogramm  "
      ]
     },
     "execution_count": 82,
     "metadata": {},
     "output_type": "execute_result"
    }
   ],
   "source": [
    "# read data as a dataframe\n",
    "building_footprints_after_2010 = pd.read_excel('data/building_after_2010.xlsx')\n",
    "\n",
    "# previewing first five rows in data\n",
    "building_footprints_after_2010.head()"
   ]
  },
  {
   "cell_type": "code",
   "execution_count": 83,
   "metadata": {},
   "outputs": [
    {
     "data": {
      "text/plain": [
       "(14553, 15)"
      ]
     },
     "execution_count": 83,
     "metadata": {},
     "output_type": "execute_result"
    }
   ],
   "source": [
    "# printing dimensions of data\n",
    "building_footprints_after_2010.shape"
   ]
  },
  {
   "cell_type": "markdown",
   "metadata": {},
   "source": [
    "## 3.3 Reading in a JSON file"
   ]
  },
  {
   "cell_type": "code",
   "execution_count": 84,
   "metadata": {},
   "outputs": [
    {
     "data": {
      "text/html": [
       "<div>\n",
       "<style scoped>\n",
       "    .dataframe tbody tr th:only-of-type {\n",
       "        vertical-align: middle;\n",
       "    }\n",
       "\n",
       "    .dataframe tbody tr th {\n",
       "        vertical-align: top;\n",
       "    }\n",
       "\n",
       "    .dataframe thead th {\n",
       "        text-align: right;\n",
       "    }\n",
       "</style>\n",
       "<table border=\"1\" class=\"dataframe\">\n",
       "  <thead>\n",
       "    <tr style=\"text-align: right;\">\n",
       "      <th></th>\n",
       "      <th>BIN</th>\n",
       "      <th>CNSTRCT_YR</th>\n",
       "      <th>NAME</th>\n",
       "      <th>the_geom</th>\n",
       "      <th>LSTMODDATE</th>\n",
       "      <th>LSTSTATYPE</th>\n",
       "      <th>DOITT_ID</th>\n",
       "      <th>HEIGHTROOF</th>\n",
       "      <th>FEAT_CODE</th>\n",
       "      <th>GROUNDELEV</th>\n",
       "      <th>SHAPE_AREA</th>\n",
       "      <th>SHAPE_LEN</th>\n",
       "      <th>BASE_BBL</th>\n",
       "      <th>MPLUTO_BBL</th>\n",
       "      <th>GEOMSOURCE</th>\n",
       "    </tr>\n",
       "  </thead>\n",
       "  <tbody>\n",
       "    <tr>\n",
       "      <th>0</th>\n",
       "      <td>1022662</td>\n",
       "      <td>2013</td>\n",
       "      <td>None</td>\n",
       "      <td>MULTIPOLYGON (((-73.98406915139554 40.75857096...</td>\n",
       "      <td>08/22/2017 12:00:00 AM +0000</td>\n",
       "      <td>Constructed</td>\n",
       "      <td>633694</td>\n",
       "      <td>76.93</td>\n",
       "      <td>2100.00</td>\n",
       "      <td>49.00</td>\n",
       "      <td>2129.63</td>\n",
       "      <td>243.38</td>\n",
       "      <td>1009990008.00</td>\n",
       "      <td>1009990008.00</td>\n",
       "      <td>Photogramm</td>\n",
       "    </tr>\n",
       "    <tr>\n",
       "      <th>1</th>\n",
       "      <td>3394834</td>\n",
       "      <td>2011</td>\n",
       "      <td>None</td>\n",
       "      <td>MULTIPOLYGON (((-73.87172426474349 40.65519420...</td>\n",
       "      <td>08/22/2017 12:00:00 AM +0000</td>\n",
       "      <td>Constructed</td>\n",
       "      <td>1250314</td>\n",
       "      <td>26.00</td>\n",
       "      <td>2100.00</td>\n",
       "      <td>15.00</td>\n",
       "      <td>824.68</td>\n",
       "      <td>123.73</td>\n",
       "      <td>3044520924.00</td>\n",
       "      <td>3044520924.00</td>\n",
       "      <td>Other (Man</td>\n",
       "    </tr>\n",
       "    <tr>\n",
       "      <th>2</th>\n",
       "      <td>4540159</td>\n",
       "      <td>2010</td>\n",
       "      <td>None</td>\n",
       "      <td>MULTIPOLYGON (((-73.86650099829305 40.74236058...</td>\n",
       "      <td>08/22/2017 12:00:00 AM +0000</td>\n",
       "      <td>Constructed</td>\n",
       "      <td>201366</td>\n",
       "      <td>28.00</td>\n",
       "      <td>2100.00</td>\n",
       "      <td>37.00</td>\n",
       "      <td>1096.71</td>\n",
       "      <td>151.19</td>\n",
       "      <td>4018780115.00</td>\n",
       "      <td>4018780115.00</td>\n",
       "      <td>Other (Man</td>\n",
       "    </tr>\n",
       "    <tr>\n",
       "      <th>3</th>\n",
       "      <td>4260357</td>\n",
       "      <td>2010</td>\n",
       "      <td>None</td>\n",
       "      <td>MULTIPOLYGON (((-73.7940773567428 40.680625171...</td>\n",
       "      <td>08/10/2017 12:00:00 AM +0000</td>\n",
       "      <td>Constructed</td>\n",
       "      <td>1184712</td>\n",
       "      <td>29.00</td>\n",
       "      <td>2100.00</td>\n",
       "      <td>20.00</td>\n",
       "      <td>1423.44</td>\n",
       "      <td>160.36</td>\n",
       "      <td>4120060029.00</td>\n",
       "      <td>4120060029.00</td>\n",
       "      <td>Other (Man</td>\n",
       "    </tr>\n",
       "    <tr>\n",
       "      <th>4</th>\n",
       "      <td>4540051</td>\n",
       "      <td>2010</td>\n",
       "      <td>None</td>\n",
       "      <td>MULTIPOLYGON (((-73.87805078807256 40.71475698...</td>\n",
       "      <td>08/22/2017 12:00:00 AM +0000</td>\n",
       "      <td>Constructed</td>\n",
       "      <td>1171655</td>\n",
       "      <td>28.33</td>\n",
       "      <td>2100.00</td>\n",
       "      <td>112.00</td>\n",
       "      <td>1314.30</td>\n",
       "      <td>164.15</td>\n",
       "      <td>4030600139.00</td>\n",
       "      <td>4030600139.00</td>\n",
       "      <td>Photogramm</td>\n",
       "    </tr>\n",
       "  </tbody>\n",
       "</table>\n",
       "</div>"
      ],
      "text/plain": [
       "       BIN  CNSTRCT_YR  NAME  \\\n",
       "0  1022662        2013  None   \n",
       "1  3394834        2011  None   \n",
       "2  4540159        2010  None   \n",
       "3  4260357        2010  None   \n",
       "4  4540051        2010  None   \n",
       "\n",
       "                                            the_geom  \\\n",
       "0  MULTIPOLYGON (((-73.98406915139554 40.75857096...   \n",
       "1  MULTIPOLYGON (((-73.87172426474349 40.65519420...   \n",
       "2  MULTIPOLYGON (((-73.86650099829305 40.74236058...   \n",
       "3  MULTIPOLYGON (((-73.7940773567428 40.680625171...   \n",
       "4  MULTIPOLYGON (((-73.87805078807256 40.71475698...   \n",
       "\n",
       "                     LSTMODDATE   LSTSTATYPE  DOITT_ID  HEIGHTROOF  FEAT_CODE  \\\n",
       "0  08/22/2017 12:00:00 AM +0000  Constructed    633694       76.93    2100.00   \n",
       "1  08/22/2017 12:00:00 AM +0000  Constructed   1250314       26.00    2100.00   \n",
       "2  08/22/2017 12:00:00 AM +0000  Constructed    201366       28.00    2100.00   \n",
       "3  08/10/2017 12:00:00 AM +0000  Constructed   1184712       29.00    2100.00   \n",
       "4  08/22/2017 12:00:00 AM +0000  Constructed   1171655       28.33    2100.00   \n",
       "\n",
       "   GROUNDELEV  SHAPE_AREA  SHAPE_LEN      BASE_BBL    MPLUTO_BBL  GEOMSOURCE  \n",
       "0       49.00     2129.63     243.38 1009990008.00 1009990008.00  Photogramm  \n",
       "1       15.00      824.68     123.73 3044520924.00 3044520924.00  Other (Man  \n",
       "2       37.00     1096.71     151.19 4018780115.00 4018780115.00  Other (Man  \n",
       "3       20.00     1423.44     160.36 4120060029.00 4120060029.00  Other (Man  \n",
       "4      112.00     1314.30     164.15 4030600139.00 4030600139.00  Photogramm  "
      ]
     },
     "execution_count": 84,
     "metadata": {},
     "output_type": "execute_result"
    }
   ],
   "source": [
    "# read data as a dataframe\n",
    "building_footprints_after_2010 = pd.read_json('data/building_after_2010.json')\n",
    "\n",
    "# previewing first five rows in data\n",
    "building_footprints_after_2010.head()"
   ]
  },
  {
   "cell_type": "code",
   "execution_count": 85,
   "metadata": {},
   "outputs": [
    {
     "data": {
      "text/plain": [
       "(14553, 15)"
      ]
     },
     "execution_count": 85,
     "metadata": {},
     "output_type": "execute_result"
    }
   ],
   "source": [
    "# printing dimensions of data\n",
    "building_footprints_after_2010.shape"
   ]
  },
  {
   "cell_type": "markdown",
   "metadata": {},
   "source": [
    "# 4. Conclusion"
   ]
  },
  {
   "cell_type": "markdown",
   "metadata": {},
   "source": [
    "In this notebook, we reviewed various ways to read (load) and write (save) data from NYC Open Data. Specifically, we focused on reading our data into a pandas dataframe. We also went over common file formats that you might encounter - csv, json, shapefiles, and zip files. In Part II, we will focus on basic data inspection and wrangling techniques in the data analysis workflow."
   ]
  },
  {
   "cell_type": "code",
   "execution_count": null,
   "metadata": {},
   "outputs": [],
   "source": []
  }
 ],
 "metadata": {
  "kernelspec": {
   "display_name": "Python 3",
   "language": "python",
   "name": "python3"
  },
  "language_info": {
   "codemirror_mode": {
    "name": "ipython",
    "version": 3
   },
   "file_extension": ".py",
   "mimetype": "text/x-python",
   "name": "python",
   "nbconvert_exporter": "python",
   "pygments_lexer": "ipython3",
   "version": "3.7.1"
  }
 },
 "nbformat": 4,
 "nbformat_minor": 2
}
